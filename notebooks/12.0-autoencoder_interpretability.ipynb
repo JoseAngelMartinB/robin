{
 "cells": [
  {
   "attachments": {},
   "cell_type": "markdown",
   "metadata": {},
   "source": [
    "# Interpretability of autoencoder latent space for passengers demand-sensitive planning on high-speed railways (IWANN 2023)\n"
   ]
  },
  {
   "cell_type": "code",
   "execution_count": 1,
   "outputs": [
    {
     "name": "stderr",
     "output_type": "stream",
     "text": [
      "2023-06-02 16:18:13.748230: I tensorflow/core/platform/cpu_feature_guard.cc:193] This TensorFlow binary is optimized with oneAPI Deep Neural Network Library (oneDNN) to use the following CPU instructions in performance-critical operations:  SSE4.1 SSE4.2 AVX AVX2 FMA\n",
      "To enable them in other operations, rebuild TensorFlow with the appropriate compiler flags.\n"
     ]
    }
   ],
   "source": [
    "import datetime\n",
    "import matplotlib.pyplot as plt\n",
    "import nltk\n",
    "import numpy as np\n",
    "import os\n",
    "import pandas as pd\n",
    "import random\n",
    "import tensorflow as tf\n",
    "\n",
    "from feature_engine.creation import CyclicalFeatures\n",
    "from IPython.display import display\n",
    "from nltk.corpus import wordnet\n",
    "from numpy.random import seed\n",
    "from scipy import spatial\n",
    "from scipy.stats import pearsonr, spearmanr\n",
    "from sklearn.decomposition import PCA\n",
    "from sklearn.manifold import TSNE\n",
    "from sklearn.model_selection import train_test_split\n",
    "from sklearn.neural_network import MLPRegressor\n",
    "from sklearn.preprocessing import MinMaxScaler\n",
    "from tensorflow.keras import backend as K\n",
    "from tensorflow.keras.layers import *\n",
    "from tensorflow.keras.models import Model\n",
    "from typing import Dict, List, Tuple\n",
    "\n",
    "from src.robin.supply.entities import Supply\n",
    "\n",
    "SEED = 15\n",
    "\n",
    "seed(SEED)  # Set numpy random seed\n",
    "random.seed(SEED)  # Set random seed\n",
    "\n",
    "SAVE_PATH = '../reports/figures/ae_interpretability/'\n",
    "\n",
    "if not os.path.exists(SAVE_PATH):\n",
    "    os.mkdir(SAVE_PATH)"
   ],
   "metadata": {
    "collapsed": false,
    "ExecuteTime": {
     "end_time": "2023-06-02T14:18:23.785963Z",
     "start_time": "2023-06-02T14:18:06.416118Z"
    }
   }
  },
  {
   "cell_type": "code",
   "execution_count": 2,
   "outputs": [
    {
     "name": "stderr",
     "output_type": "stream",
     "text": [
      "[nltk_data] Downloading package wordnet to /Users/david/nltk_data...\n",
      "[nltk_data]   Package wordnet is already up-to-date!\n"
     ]
    },
    {
     "data": {
      "text/plain": "True"
     },
     "execution_count": 2,
     "metadata": {},
     "output_type": "execute_result"
    }
   ],
   "source": [
    "# Download wordnet if not already downloaded\n",
    "nltk.download('wordnet')"
   ],
   "metadata": {
    "collapsed": false,
    "ExecuteTime": {
     "end_time": "2023-06-02T14:18:23.789608Z",
     "start_time": "2023-06-02T14:18:22.382635Z"
    }
   }
  },
  {
   "cell_type": "code",
   "execution_count": 3,
   "outputs": [
    {
     "name": "stdout",
     "output_type": "stream",
     "text": [
      "[['madrid', 'guadalajara', 'calatayud', 'zaragoza', 'lleida', 'tarragona', 'barcelona', 'girona', 'figueres']]\n"
     ]
    }
   ],
   "source": [
    "def get_paths_from_supply(path_config_supply: str = '../configs/test_case/supply_data.yml') -> List[List[str]]:\n",
    "    \"\"\"\n",
    "    Get the paths of a supply\n",
    "\n",
    "    Args:\n",
    "        path_config_supply (str, optional): Path to the supply config file. Defaults to '../configs/test_case/supply_data.yml'.\n",
    "\n",
    "    Returns:\n",
    "        List[List[str]]: List of paths\n",
    "    \"\"\"\n",
    "    supply = Supply.from_yaml(path_config_supply)\n",
    "\n",
    "    # Get set of corridors\n",
    "    corridors = []\n",
    "    for service in supply.services:\n",
    "        if service.line.corridor not in corridors:\n",
    "            corridors.append(service.line.corridor)\n",
    "\n",
    "    # Get set of paths\n",
    "    paths = []\n",
    "    for corridor in corridors:\n",
    "        for path in corridor.paths:\n",
    "            if path not in paths:\n",
    "                paths.append(path)\n",
    "\n",
    "    # Parse paths of Station objects to paths of station mame\n",
    "    paths = [[station.name.replace(\"-\", \" \").split(\" \")[0].lower() for station in path] for path in paths]\n",
    "    return paths\n",
    "\n",
    "paths = get_paths_from_supply()\n",
    "print(paths)"
   ],
   "metadata": {
    "collapsed": false,
    "ExecuteTime": {
     "end_time": "2023-06-02T14:18:51.504228Z",
     "start_time": "2023-06-02T14:18:51.330754Z"
    }
   }
  },
  {
   "cell_type": "code",
   "execution_count": 4,
   "outputs": [],
   "source": [
    "def get_random_pair(paths: list[list]) -> Tuple[str, str]:\n",
    "    \"\"\"\n",
    "    Get a random pair of stations from a path\n",
    "\n",
    "    Args:\n",
    "        paths (list[list]): List of stations\n",
    "\n",
    "    Returns:\n",
    "        Tuple[str, str]: Tuple with the origin and destination stations\n",
    "    \"\"\"\n",
    "    random_path = random.choice(paths)  # Choose a random path\n",
    "\n",
    "    origin_index = random.randint(0, len(random_path) - 2)  # Choose a random origin station\n",
    "    destination_index = random.randint(origin_index + 1, len(random_path) - 1)  # Choose a random destination station\n",
    "\n",
    "    origin_station = random_path[origin_index]\n",
    "    destination_station = random_path[destination_index]\n",
    "    return origin_station, destination_station"
   ],
   "metadata": {
    "collapsed": false,
    "ExecuteTime": {
     "end_time": "2023-06-02T14:18:52.434519Z",
     "start_time": "2023-06-02T14:18:52.431910Z"
    }
   }
  },
  {
   "cell_type": "code",
   "execution_count": 5,
   "outputs": [],
   "source": [
    "def get_renfe_station_id(adif_id: str, stations_df: pd.DataFrame) -> str:\n",
    "    \"\"\"\n",
    "    Returns the Station name given the Adif station id.\n",
    "\n",
    "    Args:\n",
    "        adif_id (str): Adif station id.\n",
    "        stations_df (pd.DataFrame): Dataframe with the stations' information.\n",
    "\n",
    "    Returns:\n",
    "        str: Station name.\n",
    "    \"\"\"\n",
    "    station_name = stations_df[stations_df['stop_id'] == adif_id]['stop_name'].values[0]\n",
    "    station_name = station_name.replace(\"-\", \" \").split(\" \")[0].lower()\n",
    "    return station_name\n",
    "\n",
    "stations_csv_path = f'../data/renfe/renfe_stations.csv'\n",
    "stations_df = pd.read_csv(stations_csv_path, dtype={'stop_id': str, 'renfe_id': str})"
   ],
   "metadata": {
    "collapsed": false,
    "ExecuteTime": {
     "end_time": "2023-06-02T14:18:53.322249Z",
     "start_time": "2023-06-02T14:18:53.304485Z"
    }
   }
  },
  {
   "cell_type": "code",
   "execution_count": 6,
   "outputs": [
    {
     "data": {
      "text/plain": "        origin  destination user_pattern                date\n0       madrid    tarragona      tourist 2027-05-03 14:39:00\n1     zaragoza    tarragona     business 2028-01-04 23:52:00\n2  guadalajara    barcelona     business 2027-08-13 01:46:00\n3       madrid  guadalajara      student 2028-08-30 07:48:00\n4     zaragoza    tarragona      student 2029-08-27 04:15:00",
      "text/html": "<div>\n<style scoped>\n    .dataframe tbody tr th:only-of-type {\n        vertical-align: middle;\n    }\n\n    .dataframe tbody tr th {\n        vertical-align: top;\n    }\n\n    .dataframe thead th {\n        text-align: right;\n    }\n</style>\n<table border=\"1\" class=\"dataframe\">\n  <thead>\n    <tr style=\"text-align: right;\">\n      <th></th>\n      <th>origin</th>\n      <th>destination</th>\n      <th>user_pattern</th>\n      <th>date</th>\n    </tr>\n  </thead>\n  <tbody>\n    <tr>\n      <th>0</th>\n      <td>madrid</td>\n      <td>tarragona</td>\n      <td>tourist</td>\n      <td>2027-05-03 14:39:00</td>\n    </tr>\n    <tr>\n      <th>1</th>\n      <td>zaragoza</td>\n      <td>tarragona</td>\n      <td>business</td>\n      <td>2028-01-04 23:52:00</td>\n    </tr>\n    <tr>\n      <th>2</th>\n      <td>guadalajara</td>\n      <td>barcelona</td>\n      <td>business</td>\n      <td>2027-08-13 01:46:00</td>\n    </tr>\n    <tr>\n      <th>3</th>\n      <td>madrid</td>\n      <td>guadalajara</td>\n      <td>student</td>\n      <td>2028-08-30 07:48:00</td>\n    </tr>\n    <tr>\n      <th>4</th>\n      <td>zaragoza</td>\n      <td>tarragona</td>\n      <td>student</td>\n      <td>2029-08-27 04:15:00</td>\n    </tr>\n  </tbody>\n</table>\n</div>"
     },
     "metadata": {},
     "output_type": "display_data"
    }
   ],
   "source": [
    "def simulate_passengers_data(paths: list,\n",
    "                             user_patterns: list,\n",
    "                             n_passengers: int = 10000,\n",
    "                             seed: int = 42\n",
    "    ) -> pd.DataFrame:\n",
    "    # Set random state\n",
    "    random.seed(seed)\n",
    "\n",
    "    pairs = []\n",
    "    for _ in range(n_passengers):\n",
    "        pairs.append(get_random_pair(paths))\n",
    "\n",
    "    df = pd.DataFrame(pairs, columns=['origin', 'destination'])\n",
    "    df['user_pattern'] = [random.choice(user_patterns) for _ in range(n_passengers)]\n",
    "\n",
    "    random_days = lambda: random.randint(0, 365*10)\n",
    "    random_hours = lambda: random.randint(0, 24)\n",
    "    random_minutes = lambda: random.randint(0,60)\n",
    "\n",
    "    random_timedelta = lambda: datetime.timedelta(days=random_days(), hours=random_hours(), minutes=random_minutes())\n",
    "    df['date'] = [datetime.datetime(2021, 1, 1) + random_timedelta() for _ in range(n_passengers)]\n",
    "    return df\n",
    "\n",
    "user_patterns = (\"business\", \"student\", \"tourist\")\n",
    "df = simulate_passengers_data(paths, user_patterns, n_passengers=10000)\n",
    "\n",
    "display(df.head())"
   ],
   "metadata": {
    "collapsed": false,
    "ExecuteTime": {
     "end_time": "2023-06-02T14:18:54.284325Z",
     "start_time": "2023-06-02T14:18:54.187947Z"
    }
   }
  },
  {
   "cell_type": "code",
   "execution_count": 7,
   "outputs": [],
   "source": [
    "class AutoencoderEmbedding:\n",
    "    \"\"\"\n",
    "    Class to get the embedding of a dataframe to be used as input of an autoencoder\n",
    "\n",
    "    Attributes:\n",
    "        df (pd.DataFrame): Dataframe with the data to be embedded\n",
    "        df_embedding (pd.DataFrame): Dataframe with the embedding.\n",
    "        embedding_dim (int, optional): Embedding dimension. Defaults to 50.\n",
    "        embedding_dict (dict): Dictionary with the embedding.\n",
    "        scaler (MinMaxScaler): Scaler to normalize the data.\n",
    "        cyclical (CyclicalFeatures): Cyclical features transformer.\n",
    "        df_time (pd.DataFrame): Dataframe with the time embedding.\n",
    "        input_arrays (list[np.array]): List of arrays with the embedded input data.\n",
    "    \"\"\"\n",
    "    def __init__(self, df: pd.DataFrame, embedding_dim: int = 50, noise: bool = True):\n",
    "        \"\"\"\n",
    "        Constructor method\n",
    "\n",
    "        Args:\n",
    "            df (pd.DataFrame): Dataframe with the data to be embedded\n",
    "            embedding_dim (int, optional): Embedding dimension. Defaults to 50.\n",
    "        \"\"\"\n",
    "        self.df = df\n",
    "        self.scaler = MinMaxScaler(feature_range=(-2, 2))\n",
    "        self.df_time = self._get_datetime_df()\n",
    "        self.noise = noise\n",
    "        self.embedding_dim = embedding_dim\n",
    "        # self.cyclical = CyclicalFeatures(variables=['time'], drop_original=True)\n",
    "        if self.noise:\n",
    "            self.df_noisy = self._get_noisy_df()\n",
    "\n",
    "        df_bag_words = pd.concat([self.df_noisy, self.df], ignore_index=True) if self.noise else self.df\n",
    "        words_set = set(df_bag_words[['origin', 'destination', 'user_pattern']].values.flatten())\n",
    "        self.word_index = {word: index for index, word in enumerate(words_set)}\n",
    "        self.embedding_dict = self._get_embedding_dict()\n",
    "\n",
    "        if self.noise:\n",
    "            self.df_embedding_noisy = self._get_embedding_df(self.df_noisy)\n",
    "            self.embedding_noisy_arrays = self._get_embedding_arrays(self.df_embedding_noisy)\n",
    "        self.df_embedding = self._get_embedding_df(self.df)\n",
    "        self.embedding_arrays = self._get_embedding_arrays(self.df_embedding)\n",
    "\n",
    "    def _get_datetime_df(self) -> pd.DataFrame:\n",
    "        \"\"\"\n",
    "        Get time features dataframe.\n",
    "\n",
    "        Returns:\n",
    "            pd.DataFrame: Dataframe with the time features.\n",
    "        \"\"\"\n",
    "        def encode(data, column, max_val: int,  zero_index: bool = False):\n",
    "            if not zero_index:\n",
    "                data[column] -= 1\n",
    "            data[column + '_sin'] = np.sin(2 * np.pi * data[column]/max_val)\n",
    "            data[column + '_cos'] = np.cos(2 * np.pi * data[column]/max_val)\n",
    "            return data\n",
    "\n",
    "        df_datetime = pd.DataFrame()\n",
    "        df_datetime['month'] = self.df['date'].dt.month\n",
    "        df_datetime = encode(df_datetime, 'month', max_val=12)\n",
    "        df_datetime['day'] = self.df['date'].dt.day\n",
    "        df_datetime = encode(df_datetime, 'day', max_val=31)\n",
    "        df_datetime['minutes'] = self.df['date'].dt.hour * 60 + self.df['date'].dt.minute\n",
    "        df_datetime = encode(df_datetime, 'minutes', max_val = 24*60, zero_index=True)\n",
    "\n",
    "        cyclical_cols = ['month_cos', 'month_sin', 'day_cos', 'day_sin', 'minutes_cos', 'minutes_sin']\n",
    "        df_datetime[cyclical_cols] = self.scaler.fit_transform(df_datetime[cyclical_cols])\n",
    "\n",
    "        return df_datetime\n",
    "\n",
    "    def _get_embedding_arrays(self, df: pd.DataFrame) -> np.array:\n",
    "        \"\"\"\n",
    "        Get the words embedding.\n",
    "\n",
    "        Args:\n",
    "            df (pd.DataFrame, optional): Dataframe with the data to be embedded. Defaults to None.\n",
    "\n",
    "        Returns:\n",
    "            np.array: Array with the words embedding.\n",
    "        \"\"\"\n",
    "        input_data = df[['origin', 'destination', 'user_pattern', 'date']].values.tolist()\n",
    "        return np.array([np.asarray(row, dtype=np.float32) for row in input_data])\n",
    "\n",
    "    def _get_embedding_dict(self) -> Dict[str, np.array]:\n",
    "        \"\"\"\n",
    "        Get the words embedding dictionary\n",
    "\n",
    "        Returns:\n",
    "            Dict[str, np.array]: Dictionary with the embedding.\n",
    "        \"\"\"\n",
    "        embeddings_index = {}\n",
    "        f = open(os.path.join('../data/pretrained/glove6B/glove.6B.50d.txt'))\n",
    "\n",
    "        # Read GloVe embeddings\n",
    "        for line in f:\n",
    "            values = line.split()\n",
    "            word = values[0]\n",
    "            coefs = np.asarray(values[1:], dtype=np.float32)\n",
    "            embeddings_index[word] = coefs\n",
    "        f.close()\n",
    "\n",
    "        # Create embedding matrix\n",
    "        embedding_matrix = np.zeros((len(self.word_index) + 1, self.embedding_dim))\n",
    "        embedding_dict = {}\n",
    "        for word, i in self.word_index.items():\n",
    "            embedding_vector = embeddings_index.get(word, np.zeros(self.embedding_dim))\n",
    "            if embedding_vector is not None:\n",
    "                embedding_matrix[i] = embedding_vector\n",
    "                embedding_dict[word] = embedding_vector\n",
    "\n",
    "        return embedding_dict\n",
    "\n",
    "    def decode_time_embedding(self, encoded_time_vector):\n",
    "\n",
    "        def decode(val_cos, val_sin, max_val, zero_index: bool = False):\n",
    "            angle = np.arctan2(val_sin, val_cos)\n",
    "            val = (angle / (2 * np.pi)) * max_val\n",
    "            val = np.round(val) % max_val\n",
    "            if not zero_index:\n",
    "                return val + 1\n",
    "            return val\n",
    "\n",
    "        encoded_time_vector = self.scaler.inverse_transform(encoded_time_vector[:8])[0]\n",
    "        month = decode(encoded_time_vector[0], encoded_time_vector[1], max_val=12)\n",
    "        day = decode(encoded_time_vector[2], encoded_time_vector[3], max_val=31)\n",
    "        minutes = decode(encoded_time_vector[4], encoded_time_vector[5], max_val=24*60, zero_index=True)\n",
    "        hour = minutes // 60\n",
    "        minute = minutes % 60\n",
    "        return month, day, hour, minute\n",
    "\n",
    "    def get_word_syn(self, word: str) -> str:\n",
    "        \"\"\"\n",
    "        Get a random synonym of a word\n",
    "\n",
    "        Args:\n",
    "            word (str): Word to get the synonym from\n",
    "\n",
    "        Returns:\n",
    "            str: Synonym of the word\n",
    "        \"\"\"\n",
    "        word_synset = wordnet.synsets(word)\n",
    "        if len(word_synset) > 0:\n",
    "            station_synset = word_synset[0]\n",
    "            station_lemmas = station_synset.lemmas()\n",
    "            if len(station_lemmas) > 0:\n",
    "                word_lemma = random.choice(station_lemmas)\n",
    "                return word_lemma.name().lower()\n",
    "\n",
    "        return word\n",
    "\n",
    "    def _get_noisy_df(self, p: float = 0.2) -> pd.DataFrame:\n",
    "        \"\"\"\n",
    "        Get the noisy embedding dataframe by replacing some of the words with synonyms\n",
    "\n",
    "        Returns:\n",
    "            pd.DataFrame: Noisy embedding dataframe.\n",
    "        \"\"\"\n",
    "        df_noisy = self.df.copy()\n",
    "        df_noisy['origin'] = df_noisy['origin'].apply(lambda x: self.get_word_syn(x) if random.random() < p else x)\n",
    "        df_noisy['destination'] = df_noisy['destination'].apply(lambda x: self.get_word_syn(x) if random.random() < p else x)\n",
    "        df_noisy['user_pattern'] = df_noisy['user_pattern'].apply(lambda x: self.get_word_syn(x) if random.random() < p else x)\n",
    "\n",
    "        return df_noisy\n",
    "\n",
    "    def _get_embedding_df(self, df: pd.DataFrame) -> pd.DataFrame:\n",
    "        \"\"\"\n",
    "        Get embedding dataframe.\n",
    "\n",
    "        Returns:\n",
    "            pd.DataFrame: Embedding dataframe.\n",
    "        \"\"\"\n",
    "        df_embedding = df.copy()\n",
    "        df_embedding['origin'] = df_embedding['origin'].apply(lambda x: self.embedding_dict.get(x))\n",
    "        df_embedding['destination'] = df_embedding['destination'].apply(lambda x: self.embedding_dict.get(x))\n",
    "        df_embedding['user_pattern'] = df_embedding['user_pattern'].apply(lambda x: self.embedding_dict.get(x))\n",
    "        df_embedding['date'] = self.df_time[['month_cos',\n",
    "                                               'month_sin',\n",
    "                                               'day_cos',\n",
    "                                               'day_sin',\n",
    "                                               'minutes_cos',\n",
    "                                               'minutes_sin']].apply(lambda row: np.array(row), axis=1)\n",
    "\n",
    "        df_embedding['date'] = df_embedding['date'].apply(lambda x: np.pad(x, (0, self.embedding_dim - len(x)), 'constant', constant_values=np.float32(0.0)))\n",
    "        return df_embedding[['origin', 'destination', 'user_pattern', 'date']]"
   ],
   "metadata": {
    "collapsed": false,
    "ExecuteTime": {
     "end_time": "2023-06-02T14:18:55.614965Z",
     "start_time": "2023-06-02T14:18:55.611075Z"
    }
   }
  },
  {
   "cell_type": "code",
   "execution_count": 8,
   "outputs": [
    {
     "name": "stdout",
     "output_type": "stream",
     "text": [
      "Train data shape:  (7000, 4)\n",
      "Test data shape:  (3000, 4)\n",
      "Header of train data:\n"
     ]
    },
    {
     "data": {
      "text/plain": "         origin destination user_pattern                date\n9069  tarragona      girona      student 2029-02-27 19:38:00\n2603   zaragoza      girona      tourist 2030-08-31 09:54:00\n7738     lleida    figueres      tourist 2026-06-20 08:14:00\n1579   zaragoza    figueres      student 2021-02-20 00:04:00\n5058   zaragoza      lleida      student 2027-01-26 09:35:00",
      "text/html": "<div>\n<style scoped>\n    .dataframe tbody tr th:only-of-type {\n        vertical-align: middle;\n    }\n\n    .dataframe tbody tr th {\n        vertical-align: top;\n    }\n\n    .dataframe thead th {\n        text-align: right;\n    }\n</style>\n<table border=\"1\" class=\"dataframe\">\n  <thead>\n    <tr style=\"text-align: right;\">\n      <th></th>\n      <th>origin</th>\n      <th>destination</th>\n      <th>user_pattern</th>\n      <th>date</th>\n    </tr>\n  </thead>\n  <tbody>\n    <tr>\n      <th>9069</th>\n      <td>tarragona</td>\n      <td>girona</td>\n      <td>student</td>\n      <td>2029-02-27 19:38:00</td>\n    </tr>\n    <tr>\n      <th>2603</th>\n      <td>zaragoza</td>\n      <td>girona</td>\n      <td>tourist</td>\n      <td>2030-08-31 09:54:00</td>\n    </tr>\n    <tr>\n      <th>7738</th>\n      <td>lleida</td>\n      <td>figueres</td>\n      <td>tourist</td>\n      <td>2026-06-20 08:14:00</td>\n    </tr>\n    <tr>\n      <th>1579</th>\n      <td>zaragoza</td>\n      <td>figueres</td>\n      <td>student</td>\n      <td>2021-02-20 00:04:00</td>\n    </tr>\n    <tr>\n      <th>5058</th>\n      <td>zaragoza</td>\n      <td>lleida</td>\n      <td>student</td>\n      <td>2027-01-26 09:35:00</td>\n    </tr>\n  </tbody>\n</table>\n</div>"
     },
     "metadata": {},
     "output_type": "display_data"
    },
    {
     "name": "stdout",
     "output_type": "stream",
     "text": [
      "Header of test data:\n"
     ]
    },
    {
     "data": {
      "text/plain": "           origin destination user_pattern                date\n6252     zaragoza      lleida      student 2027-06-13 22:10:00\n4684       girona    figueres      tourist 2030-06-01 23:10:00\n1731  guadalajara    figueres     business 2027-07-16 04:05:00\n4742  guadalajara      girona      student 2021-01-19 17:26:00\n4521       madrid    figueres      student 2024-05-21 10:39:00",
      "text/html": "<div>\n<style scoped>\n    .dataframe tbody tr th:only-of-type {\n        vertical-align: middle;\n    }\n\n    .dataframe tbody tr th {\n        vertical-align: top;\n    }\n\n    .dataframe thead th {\n        text-align: right;\n    }\n</style>\n<table border=\"1\" class=\"dataframe\">\n  <thead>\n    <tr style=\"text-align: right;\">\n      <th></th>\n      <th>origin</th>\n      <th>destination</th>\n      <th>user_pattern</th>\n      <th>date</th>\n    </tr>\n  </thead>\n  <tbody>\n    <tr>\n      <th>6252</th>\n      <td>zaragoza</td>\n      <td>lleida</td>\n      <td>student</td>\n      <td>2027-06-13 22:10:00</td>\n    </tr>\n    <tr>\n      <th>4684</th>\n      <td>girona</td>\n      <td>figueres</td>\n      <td>tourist</td>\n      <td>2030-06-01 23:10:00</td>\n    </tr>\n    <tr>\n      <th>1731</th>\n      <td>guadalajara</td>\n      <td>figueres</td>\n      <td>business</td>\n      <td>2027-07-16 04:05:00</td>\n    </tr>\n    <tr>\n      <th>4742</th>\n      <td>guadalajara</td>\n      <td>girona</td>\n      <td>student</td>\n      <td>2021-01-19 17:26:00</td>\n    </tr>\n    <tr>\n      <th>4521</th>\n      <td>madrid</td>\n      <td>figueres</td>\n      <td>student</td>\n      <td>2024-05-21 10:39:00</td>\n    </tr>\n  </tbody>\n</table>\n</div>"
     },
     "metadata": {},
     "output_type": "display_data"
    }
   ],
   "source": [
    "df_train, df_test = train_test_split(df, test_size=0.3, random_state=42)\n",
    "\n",
    "EMBEDDING_DIM = 50\n",
    "\n",
    "print(\"Train data shape: \", df_train.shape)\n",
    "print(\"Test data shape: \", df_test.shape)\n",
    "\n",
    "train_embedding = AutoencoderEmbedding(df = df_train, embedding_dim=EMBEDDING_DIM)\n",
    "test_embedding = AutoencoderEmbedding(df = df_test, embedding_dim=EMBEDDING_DIM, noise=False)\n",
    "\n",
    "print(\"Header of train data:\")\n",
    "display(train_embedding.df.head())\n",
    "\n",
    "print(\"Header of test data:\")\n",
    "display(test_embedding.df.head())"
   ],
   "metadata": {
    "collapsed": false,
    "ExecuteTime": {
     "end_time": "2023-06-02T14:19:08.965029Z",
     "start_time": "2023-06-02T14:18:56.469867Z"
    }
   }
  },
  {
   "cell_type": "markdown",
   "source": [
    "## Autoencoder model"
   ],
   "metadata": {
    "collapsed": false
   }
  },
  {
   "cell_type": "code",
   "execution_count": 134,
   "outputs": [],
   "source": [
    "def custom_loss(y_true, y_pred):\n",
    "    # Split last array in sub_arrays of size 2\n",
    "    true_segments = tf.split(y_true[:, -1], num_or_size_splits=[2, 2, 2, EMBEDDING_DIM-6], axis=1)\n",
    "    pred_segments = tf.split(y_pred[:, -1], num_or_size_splits=[2, 2, 2, EMBEDDING_DIM-6], axis=1)\n",
    "\n",
    "    # Calculate difference between true and predicted segments\n",
    "    segment_losses = [K.square(true_segment - pred_segment) for true_segment, pred_segment in zip(true_segments, pred_segments)]\n",
    "\n",
    "    # Calculate MSE loss for the first 3 arrays\n",
    "    mse_loss = K.mean(K.square(y_true[:, :-1] - y_pred[:, :-1]))\n",
    "\n",
    "    # Calculate weighted loss for the last array\n",
    "    # Weights for latent space = 5, batch_size = 64, epochs = 60: [5e-4, 5.5e-4, 4e-4, 0]\n",
    "    segment_weights = [5e-4, 5.5e-4, 4e-4, 0]\n",
    "    weighted_losses = [segment_loss * weight for segment_loss, weight in zip(segment_losses, segment_weights)]\n",
    "\n",
    "    # Sum all losses\n",
    "    loss = mse_loss + K.sum(K.concatenate(weighted_losses, axis=1))\n",
    "\n",
    "    return loss"
   ],
   "metadata": {
    "collapsed": false,
    "ExecuteTime": {
     "end_time": "2023-06-02T14:29:50.915376Z",
     "start_time": "2023-06-02T14:29:50.905397Z"
    }
   }
  },
  {
   "cell_type": "code",
   "execution_count": 145,
   "outputs": [
    {
     "name": "stdout",
     "output_type": "stream",
     "text": [
      "Model: \"model_35\"\n",
      "_________________________________________________________________\n",
      " Layer (type)                Output Shape              Param #   \n",
      "=================================================================\n",
      " input_23 (InputLayer)       [(None, 4, 50)]           0         \n",
      "                                                                 \n",
      " conv1d_22 (Conv1D)          (None, 4, 64)             9664      \n",
      "                                                                 \n",
      " conv1d_23 (Conv1D)          (None, 4, 32)             6176      \n",
      "                                                                 \n",
      " global_max_pooling1d_11 (Gl  (None, 32)               0         \n",
      " obalMaxPooling1D)                                               \n",
      "                                                                 \n",
      " flatten_11 (Flatten)        (None, 32)                0         \n",
      "                                                                 \n",
      " dense_66 (Dense)            (None, 64)                2112      \n",
      "                                                                 \n",
      " dense_67 (Dense)            (None, 32)                2080      \n",
      "                                                                 \n",
      " dense_68 (Dense)            (None, 5)                 165       \n",
      "                                                                 \n",
      " model_34 (Functional)       (None, 4, 50)             29586     \n",
      "                                                                 \n",
      "=================================================================\n",
      "Total params: 49,783\n",
      "Trainable params: 49,783\n",
      "Non-trainable params: 0\n",
      "_________________________________________________________________\n"
     ]
    }
   ],
   "source": [
    "SEQUENCE_LENGTH = 4\n",
    "embedding_shape = (SEQUENCE_LENGTH, EMBEDDING_DIM)\n",
    "\n",
    "latent_dim = 5\n",
    "\n",
    "# Encoder model\n",
    "encoder_input = Input(shape=embedding_shape)\n",
    "\n",
    "conv1 = Conv1D(64, kernel_size=3, activation='relu', padding='same')(encoder_input)\n",
    "conv2 = Conv1D(32, kernel_size=3, activation='relu', padding='same')(conv1)\n",
    "pooling = GlobalMaxPooling1D()(conv2)\n",
    "flat_layer = Flatten()(pooling)\n",
    "\n",
    "encoder = Dense(64)(flat_layer)\n",
    "encoder = Dense(32)(encoder)\n",
    "\n",
    "dense1 = Dense(latent_dim, activation='tanh')(encoder)\n",
    "\n",
    "# Decoder model\n",
    "decoder_inputs = Input(shape=(latent_dim,))\n",
    "dense3 = Dense(32)(decoder_inputs)\n",
    "dense4 = Dense(64)(dense3)\n",
    "\n",
    "dense5 = Dense(32 * SEQUENCE_LENGTH, activation='relu')(dense4)\n",
    "decoder = Reshape((SEQUENCE_LENGTH, 32))(dense5)\n",
    "decoder = Conv1DTranspose(32, kernel_size=3, activation='relu', padding='same')(decoder)\n",
    "decoder = Conv1DTranspose(64, kernel_size=3, activation='relu', padding='same')(decoder)\n",
    "decoder_output = Conv1DTranspose(EMBEDDING_DIM, kernel_size=3, padding='same')(decoder)\n",
    "\n",
    "encoder_model = Model(inputs=encoder_input, outputs=dense1)\n",
    "encoder_model.compile(optimizer='adam', loss='mse', metrics=[tf.keras.metrics.MeanSquaredError()])\n",
    "\n",
    "decoder_model = Model(inputs=decoder_inputs, outputs=decoder_output)\n",
    "decoder_model.compile(optimizer='adam', loss=custom_loss, metrics=[tf.keras.metrics.MeanSquaredError()])\n",
    "\n",
    "model = Model(inputs=encoder_input, outputs=decoder_model(dense1))\n",
    "\n",
    "model.compile(optimizer='adam', loss=custom_loss, metrics=custom_loss)\n",
    "model.summary()"
   ],
   "metadata": {
    "collapsed": false,
    "ExecuteTime": {
     "end_time": "2023-06-02T14:31:55.458769Z",
     "start_time": "2023-06-02T14:31:55.264642Z"
    }
   }
  },
  {
   "cell_type": "code",
   "execution_count": 146,
   "outputs": [
    {
     "name": "stdout",
     "output_type": "stream",
     "text": [
      "Epoch 1/60\n",
      "110/110 [==============================] - 2s 3ms/step - loss: 0.6275 - custom_loss: 0.6259\n",
      "Epoch 2/60\n",
      "110/110 [==============================] - 0s 3ms/step - loss: 0.5852 - custom_loss: 0.5839\n",
      "Epoch 3/60\n",
      "110/110 [==============================] - 0s 3ms/step - loss: 0.5851 - custom_loss: 0.5838\n",
      "Epoch 4/60\n",
      "110/110 [==============================] - 0s 3ms/step - loss: 0.5830 - custom_loss: 0.5816\n",
      "Epoch 5/60\n",
      "110/110 [==============================] - 0s 3ms/step - loss: 0.4900 - custom_loss: 0.4889\n",
      "Epoch 6/60\n",
      "110/110 [==============================] - 0s 3ms/step - loss: 0.3641 - custom_loss: 0.3632\n",
      "Epoch 7/60\n",
      "110/110 [==============================] - 0s 3ms/step - loss: 0.2745 - custom_loss: 0.2740\n",
      "Epoch 8/60\n",
      "110/110 [==============================] - 0s 3ms/step - loss: 0.2420 - custom_loss: 0.2417\n",
      "Epoch 9/60\n",
      "110/110 [==============================] - 0s 3ms/step - loss: 0.2206 - custom_loss: 0.2204\n",
      "Epoch 10/60\n",
      "110/110 [==============================] - 0s 3ms/step - loss: 0.2046 - custom_loss: 0.2045\n",
      "Epoch 11/60\n",
      "110/110 [==============================] - 0s 3ms/step - loss: 0.1915 - custom_loss: 0.1912\n",
      "Epoch 12/60\n",
      "110/110 [==============================] - 0s 3ms/step - loss: 0.1747 - custom_loss: 0.1745\n",
      "Epoch 13/60\n",
      "110/110 [==============================] - 0s 3ms/step - loss: 0.1654 - custom_loss: 0.1653\n",
      "Epoch 14/60\n",
      "110/110 [==============================] - 0s 3ms/step - loss: 0.1609 - custom_loss: 0.1606\n",
      "Epoch 15/60\n",
      "110/110 [==============================] - 0s 3ms/step - loss: 0.1481 - custom_loss: 0.1480\n",
      "Epoch 16/60\n",
      "110/110 [==============================] - 0s 3ms/step - loss: 0.1263 - custom_loss: 0.1263\n",
      "Epoch 17/60\n",
      "110/110 [==============================] - 0s 3ms/step - loss: 0.1171 - custom_loss: 0.1170\n",
      "Epoch 18/60\n",
      "110/110 [==============================] - 0s 3ms/step - loss: 0.1138 - custom_loss: 0.1138\n",
      "Epoch 19/60\n",
      "110/110 [==============================] - 0s 3ms/step - loss: 0.1126 - custom_loss: 0.1127\n",
      "Epoch 20/60\n",
      "110/110 [==============================] - 0s 3ms/step - loss: 0.1108 - custom_loss: 0.1107\n",
      "Epoch 21/60\n",
      "110/110 [==============================] - 0s 3ms/step - loss: 0.1081 - custom_loss: 0.1081\n",
      "Epoch 22/60\n",
      "110/110 [==============================] - 0s 3ms/step - loss: 0.1055 - custom_loss: 0.1055\n",
      "Epoch 23/60\n",
      "110/110 [==============================] - 0s 3ms/step - loss: 0.1015 - custom_loss: 0.1014\n",
      "Epoch 24/60\n",
      "110/110 [==============================] - 0s 3ms/step - loss: 0.0982 - custom_loss: 0.0982\n",
      "Epoch 25/60\n",
      "110/110 [==============================] - 0s 3ms/step - loss: 0.0946 - custom_loss: 0.0947\n",
      "Epoch 26/60\n",
      "110/110 [==============================] - 0s 3ms/step - loss: 0.0914 - custom_loss: 0.0915\n",
      "Epoch 27/60\n",
      "110/110 [==============================] - 0s 3ms/step - loss: 0.0881 - custom_loss: 0.0881\n",
      "Epoch 28/60\n",
      "110/110 [==============================] - 0s 3ms/step - loss: 0.0862 - custom_loss: 0.0862\n",
      "Epoch 29/60\n",
      "110/110 [==============================] - 0s 3ms/step - loss: 0.0849 - custom_loss: 0.0848\n",
      "Epoch 30/60\n",
      "110/110 [==============================] - 0s 3ms/step - loss: 0.0819 - custom_loss: 0.0819\n",
      "Epoch 31/60\n",
      "110/110 [==============================] - 0s 3ms/step - loss: 0.0791 - custom_loss: 0.0791\n",
      "Epoch 32/60\n",
      "110/110 [==============================] - 0s 3ms/step - loss: 0.0764 - custom_loss: 0.0764\n",
      "Epoch 33/60\n",
      "110/110 [==============================] - 0s 3ms/step - loss: 0.0752 - custom_loss: 0.0752\n",
      "Epoch 34/60\n",
      "110/110 [==============================] - 0s 3ms/step - loss: 0.0730 - custom_loss: 0.0730\n",
      "Epoch 35/60\n",
      "110/110 [==============================] - 0s 3ms/step - loss: 0.0721 - custom_loss: 0.0720\n",
      "Epoch 36/60\n",
      "110/110 [==============================] - 0s 3ms/step - loss: 0.0709 - custom_loss: 0.0709\n",
      "Epoch 37/60\n",
      "110/110 [==============================] - 0s 3ms/step - loss: 0.0694 - custom_loss: 0.0693\n",
      "Epoch 38/60\n",
      "110/110 [==============================] - 0s 3ms/step - loss: 0.0674 - custom_loss: 0.0674\n",
      "Epoch 39/60\n",
      "110/110 [==============================] - 0s 3ms/step - loss: 0.0667 - custom_loss: 0.0667\n",
      "Epoch 40/60\n",
      "110/110 [==============================] - 0s 3ms/step - loss: 0.0664 - custom_loss: 0.0662\n",
      "Epoch 41/60\n",
      "110/110 [==============================] - 0s 3ms/step - loss: 0.0656 - custom_loss: 0.0656\n",
      "Epoch 42/60\n",
      "110/110 [==============================] - 0s 3ms/step - loss: 0.0651 - custom_loss: 0.0651\n",
      "Epoch 43/60\n",
      "110/110 [==============================] - 0s 3ms/step - loss: 0.0647 - custom_loss: 0.0646\n",
      "Epoch 44/60\n",
      "110/110 [==============================] - 0s 3ms/step - loss: 0.0643 - custom_loss: 0.0642\n",
      "Epoch 45/60\n",
      "110/110 [==============================] - 0s 3ms/step - loss: 0.0638 - custom_loss: 0.0638\n",
      "Epoch 46/60\n",
      "110/110 [==============================] - 0s 3ms/step - loss: 0.0628 - custom_loss: 0.0628\n",
      "Epoch 47/60\n",
      "110/110 [==============================] - 0s 4ms/step - loss: 0.0640 - custom_loss: 0.0640\n",
      "Epoch 48/60\n",
      "110/110 [==============================] - 0s 3ms/step - loss: 0.0639 - custom_loss: 0.0640\n",
      "Epoch 49/60\n",
      "110/110 [==============================] - 0s 3ms/step - loss: 0.0631 - custom_loss: 0.0630\n",
      "Epoch 50/60\n",
      "110/110 [==============================] - 0s 3ms/step - loss: 0.0621 - custom_loss: 0.0620\n",
      "Epoch 51/60\n",
      "110/110 [==============================] - 0s 3ms/step - loss: 0.0613 - custom_loss: 0.0612\n",
      "Epoch 52/60\n",
      "110/110 [==============================] - 0s 3ms/step - loss: 0.0610 - custom_loss: 0.0609\n",
      "Epoch 53/60\n",
      "110/110 [==============================] - 0s 3ms/step - loss: 0.0606 - custom_loss: 0.0605\n",
      "Epoch 54/60\n",
      "110/110 [==============================] - 0s 3ms/step - loss: 0.0601 - custom_loss: 0.0601\n",
      "Epoch 55/60\n",
      "110/110 [==============================] - 0s 3ms/step - loss: 0.0596 - custom_loss: 0.0597\n",
      "Epoch 56/60\n",
      "110/110 [==============================] - 0s 3ms/step - loss: 0.0602 - custom_loss: 0.0602\n",
      "Epoch 57/60\n",
      "110/110 [==============================] - 0s 3ms/step - loss: 0.0585 - custom_loss: 0.0584\n",
      "Epoch 58/60\n",
      "110/110 [==============================] - 0s 3ms/step - loss: 0.0611 - custom_loss: 0.0611\n",
      "Epoch 59/60\n",
      "110/110 [==============================] - 0s 3ms/step - loss: 0.0589 - custom_loss: 0.0589\n",
      "Epoch 60/60\n",
      "110/110 [==============================] - 0s 3ms/step - loss: 0.0572 - custom_loss: 0.0572\n"
     ]
    }
   ],
   "source": [
    "history = model.fit(x = train_embedding.embedding_arrays,\n",
    "                    y = train_embedding.embedding_arrays,\n",
    "                    epochs=60,\n",
    "                    batch_size=64,\n",
    "                    verbose=1)"
   ],
   "metadata": {
    "collapsed": false,
    "ExecuteTime": {
     "end_time": "2023-06-02T14:32:16.725073Z",
     "start_time": "2023-06-02T14:31:56.755235Z"
    }
   }
  },
  {
   "cell_type": "code",
   "execution_count": 147,
   "outputs": [
    {
     "data": {
      "text/plain": "dict_keys(['loss', 'custom_loss'])"
     },
     "execution_count": 147,
     "metadata": {},
     "output_type": "execute_result"
    }
   ],
   "source": [
    "history.history.keys()"
   ],
   "metadata": {
    "collapsed": false,
    "ExecuteTime": {
     "end_time": "2023-06-02T14:32:20.947369Z",
     "start_time": "2023-06-02T14:32:20.946689Z"
    }
   }
  },
  {
   "cell_type": "code",
   "execution_count": 148,
   "outputs": [
    {
     "data": {
      "text/plain": "<Figure size 640x480 with 1 Axes>",
      "image/png": "[encoded data removed]"
     },
     "metadata": {},
     "output_type": "display_data"
    },
    {
     "data": {
      "text/plain": "<Figure size 640x480 with 1 Axes>",
      "image/png": "[encoded data removed]"
     },
     "metadata": {},
     "output_type": "display_data"
    }
   ],
   "source": [
    "# Plot history loss\n",
    "plt.plot(history.history['loss'], label='train')\n",
    "plt.title('Loss')\n",
    "plt.xlabel('Epochs')\n",
    "plt.ylabel('Loss')\n",
    "plt.show()\n",
    "\n",
    "# Plot history mse\n",
    "plt.plot(history.history['custom_loss'], label='train')\n",
    "plt.title('Mean Squared Error')\n",
    "plt.xlabel('Epochs')\n",
    "plt.ylabel('MSE')\n",
    "plt.show()"
   ],
   "metadata": {
    "collapsed": false,
    "ExecuteTime": {
     "end_time": "2023-06-02T14:32:22.041524Z",
     "start_time": "2023-06-02T14:32:21.716438Z"
    }
   }
  },
  {
   "cell_type": "code",
   "execution_count": 149,
   "outputs": [
    {
     "name": "stdout",
     "output_type": "stream",
     "text": [
      "94/94 [==============================] - 0s 2ms/step - loss: 0.0580 - custom_loss: 0.0580\n"
     ]
    }
   ],
   "source": [
    "# Evaluate model\n",
    "score = model.evaluate(x=test_embedding.embedding_arrays,\n",
    "                       y=test_embedding.embedding_arrays,\n",
    "                       verbose=1)"
   ],
   "metadata": {
    "collapsed": false,
    "ExecuteTime": {
     "end_time": "2023-06-02T14:32:24.076059Z",
     "start_time": "2023-06-02T14:32:23.630394Z"
    }
   }
  },
  {
   "cell_type": "markdown",
   "source": [
    "## Make predictions"
   ],
   "metadata": {
    "collapsed": false
   }
  },
  {
   "cell_type": "code",
   "execution_count": 150,
   "outputs": [],
   "source": [
    "def find_closest_embeddings(embedding, emb):\n",
    "    return sorted(emb.keys(), key=lambda word: spatial.distance.euclidean(emb[word], embedding))[0]"
   ],
   "metadata": {
    "collapsed": false,
    "ExecuteTime": {
     "end_time": "2023-06-02T14:32:24.967783Z",
     "start_time": "2023-06-02T14:32:24.957901Z"
    }
   }
  },
  {
   "cell_type": "code",
   "execution_count": 159,
   "outputs": [
    {
     "name": "stdout",
     "output_type": "stream",
     "text": [
      "Input - Random passenger data: \n",
      "origin                    tarragona\n",
      "destination               barcelona\n",
      "user_pattern                tourist\n",
      "date            2029-04-22 05:11:00\n",
      "Name: 433, dtype: object\n",
      "1/1 [==============================] - 0s 16ms/step\n",
      "Output - Passenger reconstruction: \n",
      "['tarragona', 'barcelona', 'tourist']\n",
      "Time prediction: \n",
      "(4.0, 22.0, 5.0, 28.0)\n",
      "Original decoded time: \n",
      "(4.0, 22.0, 5.0, 11.0)\n"
     ]
    }
   ],
   "source": [
    "random_index = np.random.randint(0, test_embedding.df.shape[0])\n",
    "\n",
    "random_embedding = test_embedding.embedding_arrays[random_index:random_index+1]\n",
    "\n",
    "print(\"Input - Random passenger data: \")\n",
    "print(test_embedding.df.iloc[random_index])\n",
    "\n",
    "prediction = model.predict(x = random_embedding)\n",
    "\n",
    "#print(prediction)\n",
    "\n",
    "print(\"Output - Passenger reconstruction: \")\n",
    "decoded_words = [find_closest_embeddings(word_vector, test_embedding.embedding_dict) for word_vector in prediction[0][:3]]\n",
    "print(decoded_words)\n",
    "\n",
    "\n",
    "print(\"Time prediction: \")\n",
    "predicted_time = test_embedding.decode_time_embedding(np.array([prediction[0][-1][:6]]))\n",
    "print(predicted_time)\n",
    "\n",
    "print(\"Original decoded time: \")\n",
    "original_time = test_embedding.decode_time_embedding(np.array([random_embedding[0][-1][:6]]))\n",
    "print(original_time)"
   ],
   "metadata": {
    "collapsed": false,
    "ExecuteTime": {
     "end_time": "2023-06-02T14:33:40.383498Z",
     "start_time": "2023-06-02T14:33:40.335357Z"
    }
   }
  },
  {
   "cell_type": "markdown",
   "source": [
    "## Estudio de la correlación entre factores latentes y la entrada del autoencoder"
   ],
   "metadata": {
    "collapsed": false
   }
  },
  {
   "cell_type": "code",
   "execution_count": 17,
   "outputs": [
    {
     "name": "stdout",
     "output_type": "stream",
     "text": [
      "94/94 [==============================] - 0s 944us/step\n"
     ]
    }
   ],
   "source": [
    "# Latent space for test data\n",
    "latent_space = encoder_model.predict(x = test_embedding.embedding_arrays)"
   ],
   "metadata": {
    "collapsed": false,
    "ExecuteTime": {
     "end_time": "2023-06-02T14:12:01.118654Z",
     "start_time": "2023-06-02T14:12:00.894980Z"
    }
   }
  },
  {
   "cell_type": "code",
   "execution_count": 18,
   "outputs": [
    {
     "data": {
      "text/plain": "[]"
     },
     "execution_count": 18,
     "metadata": {},
     "output_type": "execute_result"
    },
    {
     "data": {
      "text/plain": "<Figure size 640x480 with 1 Axes>",
      "image/png": "[encoded data removed]"
     },
     "metadata": {},
     "output_type": "display_data"
    }
   ],
   "source": [
    "# Box Plot\n",
    "df_predictions = pd.DataFrame(latent_space, columns = [f\"latent_{i}\" for i in range(latent_space.shape[1])])\n",
    "\n",
    "b_plot = df_predictions.boxplot()\n",
    "plt.ylim(-1, 1)\n",
    "\n",
    "plt.title(\"Boxplot - Test data latent space\")\n",
    "plt.savefig(SAVE_PATH + \"boxplot_test_data.png\", dpi=300)\n",
    "b_plot.plot()"
   ],
   "metadata": {
    "collapsed": false,
    "ExecuteTime": {
     "end_time": "2023-06-02T14:12:01.527601Z",
     "start_time": "2023-06-02T14:12:01.120189Z"
    }
   }
  },
  {
   "cell_type": "code",
   "execution_count": null,
   "outputs": [],
   "source": [
    "# T-SNE\n",
    "tsne = TSNE(n_components=2, random_state=15)\n",
    "tsne_latent_space = tsne.fit_transform(latent_space)\n",
    "\n",
    "# Scatter plot tsne_latent_space\n",
    "plt.figure(figsize=(10, 10))\n",
    "plt.title(\"T-SNE - Test data latent space\")\n",
    "\n",
    "origin_values = set(test_embedding.df['origin'].values)\n",
    "for i, origin in enumerate(origin_values):\n",
    "    plt.scatter(tsne_latent_space[test_embedding.df['origin'] == origin, 0],\n",
    "                tsne_latent_space[test_embedding.df['origin'] == origin, 1],\n",
    "                label=origin)\n",
    "plt.legend()\n",
    "plt.savefig(SAVE_PATH + \"tsne_test_data\", dpi=300)\n",
    "plt.show()"
   ],
   "metadata": {
    "collapsed": false,
    "ExecuteTime": {
     "start_time": "2023-06-02T14:12:01.531429Z"
    }
   }
  },
  {
   "cell_type": "code",
   "execution_count": null,
   "outputs": [],
   "source": [
    "# PCA on latent space to analyze relationship between latent factors and input variables\n",
    "pca = PCA(n_components=2)\n",
    "pca_latent_space = pca.fit_transform(latent_space)\n",
    "\n",
    "# Scatter plot pca_latent_space with legend of origin\n",
    "plt.figure(figsize=(10, 10))\n",
    "plt.title(\"PCA - Test data latent space\")\n",
    "\n",
    "for i, origin in enumerate(origin_values):\n",
    "    plt.scatter(pca_latent_space[test_embedding.df['origin'] == origin, 0],\n",
    "                pca_latent_space[test_embedding.df['origin'] == origin, 1],\n",
    "                label=origin)\n",
    "\n",
    "plt.legend()\n",
    "plt.savefig(SAVE_PATH + \"pca_test_data\", dpi=300)\n",
    "plt.show()"
   ],
   "metadata": {
    "collapsed": false
   }
  },
  {
   "cell_type": "markdown",
   "source": [
    "## Test data analysis with locked columns"
   ],
   "metadata": {
    "collapsed": false
   }
  },
  {
   "cell_type": "code",
   "execution_count": null,
   "outputs": [],
   "source": [
    "def get_locked_dataframe(df: pd.DataFrame,\n",
    "                         locked_columns: list,\n",
    "                         seed: int = 18\n",
    "    ) -> pd.DataFrame:\n",
    "    \"\"\"\n",
    "    Get a dataframe with locked columns (all rows with the same value)\n",
    "\n",
    "    Args:\n",
    "        df (pd.DataFrame): Dataframe to lock\n",
    "        locked_columns (list): List of columns to lock\n",
    "        seed (int): Random seed\n",
    "\n",
    "    Returns:\n",
    "        pd.DataFrame: Locked dataframe\n",
    "    \"\"\"\n",
    "    random.seed(seed)\n",
    "    df_locked = df.copy()\n",
    "\n",
    "    for column in locked_columns:\n",
    "        values = tuple(set(df_locked[column].values))\n",
    "        locked_value = random.sample(values, 1)[0]\n",
    "        df_locked[column] = locked_value\n",
    "\n",
    "    return df_locked\n",
    "\n",
    "locked_dataframe = get_locked_dataframe(df=test_embedding.df,\n",
    "                                        locked_columns=['destination', 'user_pattern', 'date'])\n",
    "\n",
    "locked_embedding = AutoencoderEmbedding(df=locked_dataframe, embedding_dim=EMBEDDING_DIM)\n",
    "display(locked_embedding.df.head())\n",
    "\n",
    "# Get latent space of the locked_embedding\n",
    "latent_space = encoder_model.predict(x = locked_embedding.embedding_arrays)\n",
    "\n",
    "# Get range of values for each latent factor\n",
    "latent_space_range = pd.DataFrame(latent_space).describe().loc[['min', 'max']]\n",
    "\n",
    "print(\"Latent space range: \")\n",
    "print(latent_space_range)"
   ],
   "metadata": {
    "collapsed": false
   }
  },
  {
   "cell_type": "code",
   "execution_count": null,
   "outputs": [],
   "source": [
    "# Cambios en origen\n",
    "df_predictions = pd.DataFrame(latent_space, columns = [f\"latent_{i}\" for i in range(latent_space.shape[1])])\n",
    "\n",
    "b_plot = df_predictions.boxplot()\n",
    "plt.ylim(-1, 1)\n",
    "\n",
    "plt.title(\"Boxplot - Changes only in origin column\")\n",
    "b_plot.plot()"
   ],
   "metadata": {
    "collapsed": false
   }
  },
  {
   "cell_type": "code",
   "execution_count": null,
   "outputs": [],
   "source": [
    "latent_factors_range = []\n",
    "num_iters = 30\n",
    "\n",
    "for i in range(1, num_iters+1):\n",
    "    print(f\"Iter {i}...\")\n",
    "    locked_dataframe = get_locked_dataframe(test_embedding.df, locked_columns=['destination', 'user_pattern', 'date'], seed=i)\n",
    "    locked_embedding = AutoencoderEmbedding(df=locked_dataframe, embedding_dim=EMBEDDING_DIM)\n",
    "    locked_latent_space = encoder_model.predict(x = locked_embedding.embedding_arrays, verbose=0)\n",
    "    latent_factors_range.append(pd.DataFrame(locked_latent_space).describe().loc[['min', 'max']])"
   ],
   "metadata": {
    "collapsed": false
   }
  },
  {
   "cell_type": "code",
   "execution_count": null,
   "outputs": [],
   "source": [
    "latent_factors = [list(zip(*lfr.values)) for lfr in latent_factors_range]\n",
    "\n",
    "df = pd.DataFrame(latent_factors, columns = [f'latent_{i}' for i in range(len(latent_factors[0]))])\n",
    "display(df)"
   ],
   "metadata": {
    "collapsed": false
   }
  },
  {
   "cell_type": "code",
   "execution_count": null,
   "outputs": [],
   "source": [
    "def float_range_intersection(first_pair, second_pair):\n",
    "    x0, y0 = first_pair\n",
    "    x1, y1 = second_pair\n",
    "\n",
    "    if y0 < x1 or y1 < x0:\n",
    "      return None\n",
    "\n",
    "    return max(x0, x1), min(y0, y1)\n",
    "\n",
    "for col in df.columns:\n",
    "    column_values = df[col].values\n",
    "    for i in range(len(column_values)-1):\n",
    "        if i == 0:\n",
    "            first_pair = column_values[i]\n",
    "        second_pair = column_values[i+1]\n",
    "        intersection = float_range_intersection(first_pair, second_pair)\n",
    "        if not intersection:\n",
    "            print(f\"Zero intersection for colum  {col}\")\n",
    "            break\n",
    "        first_pair = intersection\n",
    "    else:\n",
    "        print(f\"Final intersection for column {col}: {intersection}\")"
   ],
   "metadata": {
    "collapsed": false
   }
  },
  {
   "cell_type": "code",
   "execution_count": null,
   "outputs": [],
   "source": [
    "locked_dataframe = get_locked_dataframe(df=test_embedding.df,\n",
    "                                        locked_columns=['destination', 'user_pattern', 'date'],\n",
    "                                        seed=5)\n",
    "\n",
    "locked_embedding = AutoencoderEmbedding(df=test_embedding.df, embedding_dim=EMBEDDING_DIM, noise=False)\n",
    "\n",
    "latent_space = encoder_model.predict(x = locked_embedding.embedding_arrays)"
   ],
   "metadata": {
    "collapsed": false
   }
  },
  {
   "cell_type": "code",
   "execution_count": null,
   "outputs": [],
   "source": [
    "tsne = TSNE(n_components=2, random_state=15)\n",
    "tsne_latent_space = tsne.fit_transform(latent_space)\n",
    "\n",
    "# Scatter plot tsne_latent_space\n",
    "plt.figure(figsize=(10, 10))\n",
    "plt.title(\"T-SNE plot of latent space - Changes only in origin column\")\n",
    "\n",
    "origin_values = set(locked_embedding.df['origin'].values)\n",
    "for i, origin in enumerate(origin_values):\n",
    "    plt.scatter(tsne_latent_space[locked_embedding.df['origin'] == origin, 0],\n",
    "                tsne_latent_space[locked_embedding.df['origin'] == origin, 1],\n",
    "                label=origin)\n",
    "plt.legend()\n",
    "plt.savefig(SAVE_PATH + \"tsne_origin\", dpi=300)\n",
    "plt.show()"
   ],
   "metadata": {
    "collapsed": false
   }
  },
  {
   "cell_type": "code",
   "execution_count": null,
   "outputs": [],
   "source": [
    "plt.figure(figsize=(10, 10))\n",
    "plt.title(\"T-SNE plot of latent space - Changes only in origin column\")\n",
    "\n",
    "user_pattern_values = set(locked_embedding.df['user_pattern'].values)\n",
    "for i, user_pattern in enumerate(user_pattern_values):\n",
    "    plt.scatter(tsne_latent_space[locked_embedding.df['user_pattern'] == user_pattern, 0],\n",
    "                tsne_latent_space[locked_embedding.df['user_pattern'] == user_pattern, 1],\n",
    "                label=user_pattern)\n",
    "plt.legend()\n",
    "plt.show()"
   ],
   "metadata": {
    "collapsed": false
   }
  },
  {
   "cell_type": "code",
   "execution_count": null,
   "outputs": [],
   "source": [
    "# PCA on latent space to analyze relationship between latent factors and input variables\n",
    "\n",
    "pca = PCA(n_components=2)\n",
    "pca_latent_space = pca.fit_transform(latent_space)\n",
    "\n",
    "# Scatter plot pca_latent_space with legend of origin\n",
    "plt.figure(figsize=(10, 10))\n",
    "plt.title(\"PCA plot of latent space - Changes only in origin column\")\n",
    "\n",
    "for i, origin in enumerate(origin_values):\n",
    "    plt.scatter(pca_latent_space[locked_embedding.df['origin'] == origin, 0],\n",
    "                pca_latent_space[locked_embedding.df['origin'] == origin, 1],\n",
    "                label=origin)\n",
    "\n",
    "plt.legend()\n",
    "plt.savefig(SAVE_PATH + \"pca_\", dpi=300)\n",
    "plt.show()"
   ],
   "metadata": {
    "collapsed": false
   }
  },
  {
   "cell_type": "code",
   "execution_count": null,
   "outputs": [],
   "source": [
    "# PCA on latent space to analyze relationship between latent factors and input variables\n",
    "\n",
    "pca = PCA(n_components=2)\n",
    "pca_latent_space = pca.fit_transform(latent_space)\n",
    "\n",
    "# Scatter plot pca_latent_space with legend of origin\n",
    "plt.figure(figsize=(10, 10))\n",
    "plt.title(\"PCA plot of latent space - Changes only in origin column\")\n",
    "\n",
    "for i, user_pattern in enumerate(user_pattern_values):\n",
    "    plt.scatter(pca_latent_space[locked_embedding.df['user_pattern'] == user_pattern, 0],\n",
    "                pca_latent_space[locked_embedding.df['user_pattern'] == user_pattern, 1],\n",
    "                label=user_pattern)\n",
    "\n",
    "plt.legend()\n",
    "plt.show()"
   ],
   "metadata": {
    "collapsed": false
   }
  },
  {
   "cell_type": "code",
   "execution_count": null,
   "outputs": [],
   "source": [
    "# Calculate Pearson correlation\n",
    "pearson_corr = []\n",
    "p_values_pearson = []\n",
    "for i in range(latent_dim):\n",
    "    correlation, p_value = pearsonr(latent_space[:, i], test_embedding.df_embedding['origin'])\n",
    "    pearson_corr.append(correlation)\n",
    "    p_values_pearson.append(p_value)\n",
    "\n",
    "# Calculate Spearman correlation\n",
    "spearman_corr = []\n",
    "p_values_spearman = []\n",
    "for i in range(latent_dim):\n",
    "    correlation, p_value = spearmanr(latent_space[:, i], test_embedding.df_embedding['origin'])\n",
    "    spearman_corr.append(correlation)\n",
    "    p_values_spearman.append(p_value)\n",
    "\n",
    "# Create dataframe with results\n",
    "resultados_correlacion = pd.DataFrame({'Latent factor': range(1, 6),\n",
    "                                      'Pearson correlation': pearson_corr,\n",
    "                                      'Pearson p-value': p_values_pearson,\n",
    "                                      'Spearman correlation': spearman_corr,\n",
    "                                      'Spearman p-valus': p_values_spearman})\n",
    "\n",
    "# Print results\n",
    "display(resultados_correlacion)\n",
    "print()"
   ],
   "metadata": {
    "collapsed": false
   }
  },
  {
   "cell_type": "code",
   "execution_count": null,
   "outputs": [],
   "source": [
    "df_test = test_embedding.df.copy()\n",
    "df_test['date'] = df_test['date'].apply(lambda x: np.float32(int(datetime.timedelta(hours=x.hour, minutes=x.minute, seconds=x.second).total_seconds())\n",
    "))\n",
    "df_test = pd.get_dummies(df_test, columns=['origin', 'destination', 'user_pattern', 'date'])\n",
    "\n",
    "# df_test to numpy array\n",
    "df_test = df_test.to_numpy()\n",
    "\n",
    "# Split data into train and test\n",
    "X_train, X_test, y_train, y_test = train_test_split(df_test,\n",
    "                                                    latent_space,\n",
    "                                                    test_size=0.2,\n",
    "                                                    random_state=0)\n",
    "\n",
    "# Train MLPRegressor\n",
    "regressor = MLPRegressor(hidden_layer_sizes=(100, 100, 100),\n",
    "                         activation='relu',\n",
    "                         solver='adam',\n",
    "                         max_iter=1000,\n",
    "                         random_state=0).fit(X_train, y_train)\n",
    "\n",
    "# Evaluate MLPRegressor\n",
    "print(f\"Train score: {regressor.score(X_train, y_train)}\")\n",
    "print(f\"Test score: {regressor.score(X_test, y_test)}\")"
   ],
   "metadata": {
    "collapsed": false
   }
  },
  {
   "cell_type": "code",
   "execution_count": null,
   "outputs": [],
   "source": [],
   "metadata": {
    "collapsed": false
   }
  }
 ],
 "metadata": {
  "kernelspec": {
   "display_name": "Python 3",
   "language": "python",
   "name": "python3"
  },
  "language_info": {
   "codemirror_mode": {
    "name": "ipython",
    "version": 3
   },
   "file_extension": ".py",
   "mimetype": "text/x-python",
   "name": "python",
   "nbconvert_exporter": "python",
   "pygments_lexer": "ipython3",
   "version": "3.8.6"
  }
 },
 "nbformat": 4,
 "nbformat_minor": 0
}
