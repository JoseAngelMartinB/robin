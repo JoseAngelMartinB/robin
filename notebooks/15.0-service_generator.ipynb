{
 "cells": [
  {
   "cell_type": "code",
   "execution_count": 22,
   "id": "initial_id",
   "metadata": {
    "collapsed": true,
    "ExecuteTime": {
     "end_time": "2024-01-18T12:48:28.902524Z",
     "start_time": "2024-01-18T12:48:28.866176Z"
    }
   },
   "outputs": [
    {
     "name": "stdout",
     "output_type": "stream",
     "text": [
      "The autoreload extension is already loaded. To reload it, use:\n",
      "  %reload_ext autoreload\n"
     ]
    }
   ],
   "source": [
    "%load_ext autoreload\n",
    "%autoreload 2"
   ]
  },
  {
   "cell_type": "code",
   "execution_count": 25,
   "outputs": [],
   "source": [
    "from src.services_generator.entities import ServiceGenerator\n",
    "from pathlib import Path"
   ],
   "metadata": {
    "collapsed": false,
    "ExecuteTime": {
     "end_time": "2024-01-18T12:49:29.137968Z",
     "start_time": "2024-01-18T12:49:29.127093Z"
    }
   },
   "id": "91c989c0b4d13fd6"
  },
  {
   "cell_type": "code",
   "execution_count": 26,
   "outputs": [
    {
     "name": "stdout",
     "output_type": "stream",
     "text": [
      "Service id: 60000_71500_10111100_6:6_10 \n",
      "\tDate of service: 2023-03-23 \n",
      "\tStops: ['60000', '70600', '04040', '78400', '71500'] \n",
      "\tLine times (relative): [(0.0, 0.0), (31.2, 34.2), (49.8, 52.8), (68.4, 71.4), (87.0, 90.0)] \n",
      "\tLine times (absolute): [('06:06', '06:06'), ('06:37', '06:40'), ('06:55', '06:58'), ('07:14', '07:17'), ('07:33', '07:36')] \n",
      "\tTrain Service Provider: [4, IRYO, [41, 42]] \n",
      "\tTime Slot: [6:6_10, 6:06:00, 6:16:00, 6:11:00, 0:10:00] \n",
      "\tRolling Stock: [41, IRYO RollingStock 1, {1: 300, 2: 50}] \n",
      "\tPrices: \n",
      "\t\t('60000', '70600'): {Turista: '18.08', Turista Plus: '21.69', Premium: '28.93'}\n",
      "\t\t('60000', '04040'): {Turista: '21.22', Turista Plus: '25.46', Premium: '33.95'}\n",
      "\t\t('60000', '78400'): {Turista: '26.42', Turista Plus: '31.7', Premium: '42.27'}\n",
      "\t\t('60000', '71500'): {Turista: '28.07', Turista Plus: '33.68', Premium: '44.9'}\n",
      "\t\t('70600', '04040'): {Turista: '12.14', Turista Plus: '14.57', Premium: '19.42'}\n",
      "\t\t('70600', '78400'): {Turista: '17.62', Turista Plus: '21.15', Premium: '28.2'}\n",
      "\t\t('70600', '71500'): {Turista: '19.95', Turista Plus: '23.93', Premium: '31.91'}\n",
      "\t\t('04040', '78400'): {Turista: '14.78', Turista Plus: '17.73', Premium: '23.64'}\n",
      "\t\t('04040', '71500'): {Turista: '17.58', Turista Plus: '21.09', Premium: '28.12'}\n",
      "\t\t('78400', '71500'): {Turista: '12.45', Turista Plus: '14.94', Premium: '19.92'} \n",
      "\tTickets sold (seats): {Premium: 0, Turista: 0, Turista Plus: 0} \n",
      "\tTickets sold (hard type): {1: 0, 2: 0} \n",
      "\tTickets sold per each pair (seats): {('60000', '70600'): {Premium: 0, Turista: 0, Turista Plus: 0}, ('60000', '04040'): {Premium: 0, Turista: 0, Turista Plus: 0}, ('60000', '78400'): {Premium: 0, Turista: 0, Turista Plus: 0}, ('60000', '71500'): {Premium: 0, Turista: 0, Turista Plus: 0}, ('70600', '04040'): {Premium: 0, Turista: 0, Turista Plus: 0}, ('70600', '78400'): {Premium: 0, Turista: 0, Turista Plus: 0}, ('70600', '71500'): {Premium: 0, Turista: 0, Turista Plus: 0}, ('04040', '78400'): {Premium: 0, Turista: 0, Turista Plus: 0}, ('04040', '71500'): {Premium: 0, Turista: 0, Turista Plus: 0}, ('78400', '71500'): {Premium: 0, Turista: 0, Turista Plus: 0}} \n",
      "\tTickets sold per each pair (hard type): {('60000', '70600'): {2: 0, 1: 0}, ('60000', '04040'): {2: 0, 1: 0}, ('60000', '78400'): {2: 0, 1: 0}, ('60000', '71500'): {2: 0, 1: 0}, ('70600', '04040'): {2: 0, 1: 0}, ('70600', '78400'): {2: 0, 1: 0}, ('70600', '71500'): {2: 0, 1: 0}, ('04040', '78400'): {2: 0, 1: 0}, ('04040', '71500'): {2: 0, 1: 0}, ('78400', '71500'): {2: 0, 1: 0}} \n",
      "\tCapacity constraints: None \n"
     ]
    }
   ],
   "source": [
    "# TODO: current timetable is not complete\n",
    "\n",
    "config_path = Path(\"../configs/service_generator_config.yml\")\n",
    "\n",
    "r = ServiceGenerator(stations=Path(\"../data/renfe/renfe_stations.csv\"),\n",
    "                     corridors=Path(\"../data/renfe/corridors.csv\"),\n",
    "                     seats=Path(\"../data/renfe/seats.csv\"),\n",
    "                     timetable=Path(\"../data/renfe/timetable.csv\"),\n",
    "                     rolling_stocks=Path(\"../data/renfe/rollingstocks.csv\"),\n",
    "                     tsps=Path(\"../data/renfe/tsps.csv\"))\n",
    "\n",
    "services = r.generate(file_name=Path(\"../data/test_new.yml\"),\n",
    "                      path_config=config_path, n_services=1, seed=1)\n",
    "\n",
    "print(services[0])"
   ],
   "metadata": {
    "collapsed": false,
    "ExecuteTime": {
     "end_time": "2024-01-18T12:49:29.759617Z",
     "start_time": "2024-01-18T12:49:29.722117Z"
    }
   },
   "id": "ca76c625bd3c978c"
  },
  {
   "cell_type": "code",
   "execution_count": null,
   "outputs": [],
   "source": [],
   "metadata": {
    "collapsed": false
   },
   "id": "9de194033524ef35"
  }
 ],
 "metadata": {
  "kernelspec": {
   "display_name": "Python 3",
   "language": "python",
   "name": "python3"
  },
  "language_info": {
   "codemirror_mode": {
    "name": "ipython",
    "version": 2
   },
   "file_extension": ".py",
   "mimetype": "text/x-python",
   "name": "python",
   "nbconvert_exporter": "python",
   "pygments_lexer": "ipython2",
   "version": "2.7.6"
  }
 },
 "nbformat": 4,
 "nbformat_minor": 5
}
