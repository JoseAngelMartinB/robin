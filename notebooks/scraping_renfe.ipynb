{
 "cells": [
  {
   "cell_type": "code",
   "execution_count": 44,
   "metadata": {},
   "outputs": [],
   "source": [
    "import requests\n",
    "from bs4 import BeautifulSoup\n",
    "import json\n",
    "import re\n",
    "import urllib.parse"
   ]
  },
  {
   "cell_type": "code",
   "execution_count": 2,
   "metadata": {},
   "outputs": [],
   "source": [
    "class Operator:\n",
    "    def stations(self):\n",
    "        pass\n",
    "    def offers(self,origin:str,destination:str,date:str==None):\n",
    "        pass"
   ]
  },
  {
   "cell_type": "code",
   "execution_count": 79,
   "metadata": {},
   "outputs": [],
   "source": [
    "class Renfe (Operator):\n",
    "    \n",
    "    def __init__(self,stations_json='renfe.json'):\n",
    "        stations=json.load(open(stations_json))['stations']\n",
    "        self.dstations={}\n",
    "        for e in stations:\n",
    "            self.dstations[e['station']]=e['id']\n",
    "    \n",
    "    def stations(self):\n",
    "        return self.dstations\n",
    "    \n",
    "    def offers(self,origin:str,destination:str,date:str=None):\n",
    "        if (origin not in self.dstations.keys()):\n",
    "            raise ValueError('Origin station not found')\n",
    "        if (destination not in self.dstations.keys()):\n",
    "            raise ValueError('Destination station not found')\n",
    "        origin_id=self.dstations[origin]\n",
    "        destination_id=self.dstations[destination]\n",
    "        url=f'https://horarios.renfe.com/HIRRenfeWeb/buscar.do?O={origin_id}&D={destination_id}&AF=2022&MF=MM&DF=DD&SF=NaN&ID=s'\n",
    "        soup=BeautifulSoup(requests.get(url).text, 'html.parser')\n",
    "        l=soup.find_all('td', {'class':\"txt_borde1 irf-travellers-table__td\"})\n",
    "        i=0\n",
    "        trips=[]\n",
    "        while i<len(l):\n",
    "            inf_link='https://horarios.renfe.com/HIRRenfeWeb/'+l[i].a['href'][30:-2].replace('\\t','').replace('\\n','').replace(' ','%20')\n",
    "            ls=self.stops(inf_link)\n",
    "            trips.append(\n",
    "                {'train':l[i].text.replace('\\n', '').replace('\\t', '').split(' ')[:2],\n",
    "                 'stops':ls,\n",
    "                'timetable':[l[i+1].text.replace('\\n', '').replace('\\t', ''),l[i+2].text.replace('\\n', '').replace('\\t', '')],\n",
    "                'duration':l[i+3].text.replace('\\n', '').replace('\\t', ''),\n",
    "                'price':l[i+4].text.replace('\\n\\n', '').split('\\n')[1:]}\n",
    "            )\n",
    "            i+=7\n",
    "        return trips\n",
    "    \n",
    "    def stops(self,link):\n",
    "        soup=BeautifulSoup(requests.get(link).text, 'html.parser')\n",
    "        l=soup.find_all('td', {'class':\"irf-renfe-travel__td txt_gral\"})\n",
    "        i=0\n",
    "        lStops=[]\n",
    "        while i<len(l):\n",
    "            lStops.append(\n",
    "                {'station':l[i].text.replace('\\n', '').replace('\\t', '').replace(' ', ''),\n",
    "                'arrival':l[i+1].text.replace('\\n', '').replace('\\t', '').replace(' ', ''),\n",
    "                'departure':l[i+2].text.replace('\\n', '').replace('\\t', '').replace(' ',''),}\n",
    "            )\n",
    "            i+=3\n",
    "        return lStops\n",
    "\n",
    "        "
   ]
  },
  {
   "cell_type": "code",
   "execution_count": 80,
   "metadata": {},
   "outputs": [],
   "source": [
    "r=Renfe('renfe.json')\n",
    "l=r.offers(origin='Madrid (TODAS)',destination='Barcelona (TODAS)')\n",
    "AVES=[v for v in l if v['train'][1] in ['AVE']]"
   ]
  },
  {
   "cell_type": "code",
   "execution_count": 82,
   "metadata": {},
   "outputs": [
    {
     "name": "stdout",
     "output_type": "stream",
     "text": [
      "['03073', 'AVE'] [{'station': 'MADRID-PUERTADEATOCHA', 'arrival': '\\xa0', 'departure': '07.30'}, {'station': 'GUADALAJARA-YEBES', 'arrival': '07.53', 'departure': '07.54'}, {'station': 'ZARAGOZA-DELICIAS', 'arrival': '08.51', 'departure': '08.52'}, {'station': 'LLEIDA', 'arrival': '09.35', 'departure': '09.37'}, {'station': 'CAMPTARRAGONA', 'arrival': '10.04', 'departure': '10.06'}, {'station': 'BARCELONA-SANTS', 'arrival': '10.42', 'departure': '10.50'}, {'station': 'GIRONA', 'arrival': '11.28', 'departure': '11.30'}, {'station': 'FIGUERESVILAFANT', 'arrival': '11.45', 'departure': '\\xa0'}]\n",
      "['03093', 'AVE'] [{'station': 'MADRID-PUERTADEATOCHA', 'arrival': '\\xa0', 'departure': '09.30'}, {'station': 'ZARAGOZA-DELICIAS', 'arrival': '10.45', 'departure': '10.46'}, {'station': 'LLEIDA', 'arrival': '11.29', 'departure': '11.31'}, {'station': 'CAMPTARRAGONA', 'arrival': '11.58', 'departure': '12.00'}, {'station': 'BARCELONA-SANTS', 'arrival': '12.37', 'departure': '12.45'}, {'station': 'GIRONA', 'arrival': '13.23', 'departure': '13.25'}, {'station': 'FIGUERESVILAFANT', 'arrival': '13.40', 'departure': '\\xa0'}]\n",
      "['03113', 'AVE'] [{'station': 'MADRID-PUERTADEATOCHA', 'arrival': '\\xa0', 'departure': '11.30'}, {'station': 'CALATAYUD', 'arrival': '12.25', 'departure': '12.26'}, {'station': 'ZARAGOZA-DELICIAS', 'arrival': '12.51', 'departure': '12.52'}, {'station': 'LLEIDA', 'arrival': '13.35', 'departure': '13.37'}, {'station': 'CAMPTARRAGONA', 'arrival': '14.04', 'departure': '14.06'}, {'station': 'BARCELONA-SANTS', 'arrival': '14.42', 'departure': '\\xa0'}]\n",
      "['03123', 'AVE'] [{'station': 'MADRID-PUERTADEATOCHA', 'arrival': '\\xa0', 'departure': '12.30'}, {'station': 'ZARAGOZA-DELICIAS', 'arrival': '13.45', 'departure': '13.46'}, {'station': 'LLEIDA', 'arrival': '14.29', 'departure': '14.31'}, {'station': 'BARCELONA-SANTS', 'arrival': '15.40', 'departure': '15.50'}, {'station': 'GIRONA', 'arrival': '16.28', 'departure': '16.30'}, {'station': 'FIGUERESVILAFANT', 'arrival': '16.45', 'departure': '\\xa0'}]\n",
      "['03131', 'AVE'] [{'station': 'MADRID-PUERTADEATOCHA', 'arrival': '\\xa0', 'departure': '13.00'}, {'station': 'BARCELONA-SANTS', 'arrival': '15.30', 'departure': '\\xa0'}]\n",
      "['03143', 'AVE'] [{'station': 'MADRID-PUERTADEATOCHA', 'arrival': '\\xa0', 'departure': '14.25'}, {'station': 'CALATAYUD', 'arrival': '15.20', 'departure': '15.21'}, {'station': 'ZARAGOZA-DELICIAS', 'arrival': '15.46', 'departure': '15.47'}, {'station': 'CAMPTARRAGONA', 'arrival': '16.44', 'departure': '16.46'}, {'station': 'BARCELONA-SANTS', 'arrival': '17.21', 'departure': '\\xa0'}]\n",
      "['03161', 'AVE'] [{'station': 'MADRID-PUERTADEATOCHA', 'arrival': '\\xa0', 'departure': '16.00'}, {'station': 'BARCELONA-SANTS', 'arrival': '18.30', 'departure': '\\xa0'}]\n",
      "['03163', 'AVE'] [{'station': 'MADRID-PUERTADEATOCHA', 'arrival': '\\xa0', 'departure': '16.30'}, {'station': 'ZARAGOZA-DELICIAS', 'arrival': '17.45', 'departure': '17.46'}, {'station': 'BARCELONA-SANTS', 'arrival': '19.15', 'departure': '\\xa0'}]\n",
      "['03171', 'AVE'] [{'station': 'MADRID-PUERTADEATOCHA', 'arrival': '\\xa0', 'departure': '17.00'}, {'station': 'BARCELONA-SANTS', 'arrival': '19.30', 'departure': '\\xa0'}]\n",
      "['03173', 'AVE'] [{'station': 'MADRID-PUERTADEATOCHA', 'arrival': '\\xa0', 'departure': '17.30'}, {'station': 'GUADALAJARA-YEBES', 'arrival': '17.53', 'departure': '17.54'}, {'station': 'ZARAGOZA-DELICIAS', 'arrival': '18.51', 'departure': '18.52'}, {'station': 'LLEIDA', 'arrival': '19.35', 'departure': '19.37'}, {'station': 'CAMPTARRAGONA', 'arrival': '20.04', 'departure': '20.06'}, {'station': 'BARCELONA-SANTS', 'arrival': '20.42', 'departure': '\\xa0'}]\n",
      "['03183', 'AVE'] [{'station': 'MADRID-PUERTADEATOCHA', 'arrival': '\\xa0', 'departure': '18.30'}, {'station': 'ZARAGOZA-DELICIAS', 'arrival': '19.45', 'departure': '19.46'}, {'station': 'CAMPTARRAGONA', 'arrival': '20.44', 'departure': '20.46'}, {'station': 'BARCELONA-SANTS', 'arrival': '21.20', 'departure': '\\xa0'}]\n",
      "['03191', 'AVE'] [{'station': 'MADRID-PUERTADEATOCHA', 'arrival': '\\xa0', 'departure': '19.00'}, {'station': 'BARCELONA-SANTS', 'arrival': '21.30', 'departure': '21.40'}, {'station': 'GIRONA', 'arrival': '22.18', 'departure': '22.20'}, {'station': 'FIGUERESVILAFANT', 'arrival': '22.35', 'departure': '\\xa0'}]\n",
      "['03201', 'AVE'] [{'station': 'MADRID-PUERTADEATOCHA', 'arrival': '\\xa0', 'departure': '20.00'}, {'station': 'BARCELONA-SANTS', 'arrival': '22.30', 'departure': '\\xa0'}]\n",
      "['03203', 'AVE'] [{'station': 'MADRID-PUERTADEATOCHA', 'arrival': '\\xa0', 'departure': '20.40'}, {'station': 'GUADALAJARA-YEBES', 'arrival': '21.03', 'departure': '21.04'}, {'station': 'CALATAYUD', 'arrival': '21.39', 'departure': '21.40'}, {'station': 'ZARAGOZA-DELICIAS', 'arrival': '22.05', 'departure': '22.06'}, {'station': 'LLEIDA', 'arrival': '22.49', 'departure': '22.51'}, {'station': 'CAMPTARRAGONA', 'arrival': '23.18', 'departure': '23.20'}, {'station': 'BARCELONA-SANTS', 'arrival': '23.55', 'departure': '\\xa0'}]\n"
     ]
    }
   ],
   "source": [
    "for t in AVES:\n",
    "    print(t['train'],t['stops'])"
   ]
  }
 ],
 "metadata": {
  "interpreter": {
   "hash": "138935c6c068ae112b45c7715a6f2f1f2aca34ac52e30a87ae97d315c707fbe8"
  },
  "kernelspec": {
   "display_name": "Python 3",
   "language": "python",
   "name": "python3"
  },
  "language_info": {
   "codemirror_mode": {
    "name": "ipython",
    "version": 3
   },
   "file_extension": ".py",
   "mimetype": "text/x-python",
   "name": "python",
   "nbconvert_exporter": "python",
   "pygments_lexer": "ipython3",
   "version": "3.8.10"
  }
 },
 "nbformat": 4,
 "nbformat_minor": 4
}
