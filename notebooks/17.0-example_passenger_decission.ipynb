{
 "cells": [
  {
   "cell_type": "code",
   "execution_count": 1,
   "outputs": [],
   "source": [
    "%load_ext autoreload\n",
    "%autoreload 2"
   ],
   "metadata": {
    "collapsed": false,
    "ExecuteTime": {
     "end_time": "2024-01-26T11:31:25.696266Z",
     "start_time": "2024-01-26T11:31:25.678399Z"
    }
   },
   "id": "65180f3c1ccbdba2"
  },
  {
   "cell_type": "code",
   "execution_count": 2,
   "outputs": [],
   "source": [
    "\"\"\"Import modules.\"\"\"\n",
    "import contextlib\n",
    "\n",
    "from src.robin.decision_model.terms import MembershipFS\n",
    "from src.robin.decision_model.fuzzy_model import AcumulativeTSKFuzzyModel\n",
    "from src.robin.decision_model.utils import read_json_variables, read_rules\n",
    "from src.robin.decision_model.examples.passenger import read_supply, show_services\n"
   ],
   "metadata": {
    "collapsed": false,
    "ExecuteTime": {
     "end_time": "2024-01-26T11:31:25.857726Z",
     "start_time": "2024-01-26T11:31:25.689907Z"
    }
   },
   "id": "1d0d711309f8768d"
  },
  {
   "cell_type": "code",
   "execution_count": 3,
   "id": "initial_id",
   "metadata": {
    "collapsed": true,
    "ExecuteTime": {
     "end_time": "2024-01-26T11:31:25.865477Z",
     "start_time": "2024-01-26T11:31:25.857929Z"
    }
   },
   "outputs": [],
   "source": [
    "# Business passenger input files\n",
    "\n",
    "passenger = {\"variables\": \"../data/accumulative_tsk/business_passenger_files/passenger_vars.json\",\n",
    "             \"rules\": \"../data/accumulative_tsk/business_passenger_files/business_passenger_rules.txt\",\n",
    "             \"output\": \"../reports/accumulative_tsk_output/business_passenger.txt\",\n",
    "             \"supply\": \"../data/accumulative_tsk/business_passenger_files/supply.csv\"}\n"
   ]
  },
  {
   "cell_type": "code",
   "execution_count": 4,
   "outputs": [
    {
     "name": "stdout",
     "output_type": "stream",
     "text": [
      "['seat', 'service_departure_time', 'service_arrival_time', 'price']\n"
     ]
    }
   ],
   "source": [
    "var_names, services = read_supply(passenger[\"supply\"])\n",
    "print(var_names)"
   ],
   "metadata": {
    "collapsed": false,
    "ExecuteTime": {
     "end_time": "2024-01-26T11:31:25.875484Z",
     "start_time": "2024-01-26T11:31:25.866444Z"
    }
   },
   "id": "fe5bf481bd037ebc"
  },
  {
   "cell_type": "code",
   "execution_count": 5,
   "outputs": [],
   "source": [
    "show_services(var_names, services)\n",
    "\n",
    "input_sequence = [services[service_id] for service_id in services]\n",
    "labels = [e for e in services]"
   ],
   "metadata": {
    "collapsed": false,
    "ExecuteTime": {
     "end_time": "2024-01-26T11:31:25.888609Z",
     "start_time": "2024-01-26T11:31:25.874199Z"
    }
   },
   "id": "fc22f968a6541674"
  },
  {
   "cell_type": "code",
   "execution_count": 6,
   "outputs": [
    {
     "name": "stdout",
     "output_type": "stream",
     "text": [
      "[[1.0, 50.0, 40.0, 50.0], [1.0, 20.0, 20.0, 30.0], [2.0, 30.0, 20.0, 25.0], [3.0, 80.0, 75.0, 50.0], [2.0, 8.0, 3.0, 80.0]]\n",
      "['service1', 'service2', 'service3', 'service4', 'service5']\n"
     ]
    }
   ],
   "source": [
    "print(input_sequence)\n",
    "print(labels)"
   ],
   "metadata": {
    "collapsed": false,
    "ExecuteTime": {
     "end_time": "2024-01-26T11:31:25.889561Z",
     "start_time": "2024-01-26T11:31:25.881996Z"
    }
   },
   "id": "820af3254645b420"
  },
  {
   "cell_type": "code",
   "execution_count": 7,
   "outputs": [
    {
     "name": "stdout",
     "output_type": "stream",
     "text": [
      "seat seat, service_departure_time service_departure_time, service_arrival_time service_arrival_time, price price, "
     ]
    }
   ],
   "source": [
    "# Define linguistic variables\n",
    "variables = read_json_variables(passenger[\"variables\"], var_names)\n",
    "for name in variables:\n",
    "    print(name, variables[name]['name'], end=', ')"
   ],
   "metadata": {
    "collapsed": false,
    "ExecuteTime": {
     "end_time": "2024-01-26T11:31:25.899042Z",
     "start_time": "2024-01-26T11:31:25.889706Z"
    }
   },
   "id": "92a4d5bcefcead75"
  },
  {
   "cell_type": "code",
   "execution_count": 8,
   "outputs": [],
   "source": [
    "# Read rules\n",
    "rules = read_rules(passenger[\"rules\"], variables)"
   ],
   "metadata": {
    "collapsed": false,
    "ExecuteTime": {
     "end_time": "2024-01-26T11:31:25.915094Z",
     "start_time": "2024-01-26T11:31:25.897774Z"
    }
   },
   "id": "660c46c03d6f65cf"
  },
  {
   "cell_type": "code",
   "execution_count": 9,
   "outputs": [
    {
     "name": "stdout",
     "output_type": "stream",
     "text": [
      "R0: IF (seat es premium) THEN <function read_rules.<locals>.<lambda> at 0x10ef8d4e0>\n",
      "R1: IF (service_departure_time es in_time) & (service_arrival_time es in_time) THEN <function read_rules.<locals>.<lambda> at 0x10ef8d1c0>\n",
      "R2: IF (price es standard) THEN <function read_rules.<locals>.<lambda> at 0x10ef8d580>\n",
      "\n",
      "Type: service1 \n",
      "Input: [1.0, 50.0, 40.0, 50.0] \n",
      "Actives rules: ['R0', 'R2'] \n",
      "Consequents: [35.0, 15.0] \n",
      "Membership grades: [1, 0.5] \n",
      "Cons*Memb: [35.0, 7.5] \n",
      "Output: 42.5 \n",
      "\n",
      "Type: service2 \n",
      "Input: [1.0, 20.0, 20.0, 30.0] \n",
      "Actives rules: ['R0', 'R1', 'R2'] \n",
      "Consequents: [35.0, 25.0, 15.0] \n",
      "Membership grades: [1, 0.25, 1] \n",
      "Cons*Memb: [35.0, 6.25, 15.0] \n",
      "Output: 56.25 \n",
      "\n",
      "Type: service3 \n",
      "Input: [2.0, 30.0, 20.0, 25.0] \n",
      "Actives rules: ['R0', 'R2'] \n",
      "Consequents: [35.0, 15.0] \n",
      "Membership grades: [1, 0.75] \n",
      "Cons*Memb: [35.0, 11.25] \n",
      "Output: 46.25 \n",
      "\n",
      "Type: service4 \n",
      "Input: [3.0, 80.0, 75.0, 50.0] \n",
      "Actives rules: ['R0', 'R2'] \n",
      "Consequents: [35.0, 15.0] \n",
      "Membership grades: [1, 0.5] \n",
      "Cons*Memb: [35.0, 7.5] \n",
      "Output: 42.5 \n",
      "\n",
      "Type: service5 \n",
      "Input: [2.0, 8.0, 3.0, 80.0] \n",
      "Actives rules: ['R0', 'R1'] \n",
      "Consequents: [35.0, 25.0] \n",
      "Membership grades: [1, 1] \n",
      "Cons*Memb: [35.0, 25.0] \n",
      "Output: 60.0 \n",
      "\n",
      "Best index: 4\n"
     ]
    }
   ],
   "source": [
    "# Define model\n",
    "model = AcumulativeTSKFuzzyModel(rules)\n",
    "\n",
    "# Show model\n",
    "def inferencia(mod, input, labels):\n",
    "    i = 0\n",
    "    outputs = []\n",
    "    for elem in mod.loop_tsk_inference(input):\n",
    "        print('Type:', labels[i],\n",
    "        '\\nInput:', elem['Input'],\n",
    "        '\\nActives rules:', elem['actives_rules'], \n",
    "        '\\nConsequents:', elem['consequents_values_list'],\n",
    "        '\\nMembership grades:', [ round(e,2) for e in elem['rule_membership_value_list'] ],\n",
    "        '\\nCons*Memb:', [ round(c*m,2) for c,m in zip(elem['consequents_values_list'],elem['rule_membership_value_list'])],\n",
    "        '\\nOutput:', round(elem['Output'],2), '\\n')\n",
    "        outputs.append( round(elem['Output'],2) )\n",
    "        i += 1\n",
    "    return outputs\n",
    "\n",
    "# Ouput\n",
    "tam = 10\n",
    "with open(passenger[\"output\"], 'w', encoding=\"utf-8\") as f:\n",
    "    with contextlib.redirect_stdout(f): # Salida a archivo de texto\n",
    "        print(model)\n",
    "        outputs = inferencia(model,input_sequence,labels)\n",
    "        for size in range(0,tam*10,tam):\n",
    "            l_aux = outputs[size:size+tam]\n",
    "            if len(l_aux)==0:\n",
    "                print(l_aux, 0.0)\n",
    "            else:\n",
    "                print(l_aux, round( sum(l_aux)/len(l_aux), 2) )\n",
    "        aux_outputs = outputs[:]\n",
    "        for pos in range(len(aux_outputs)):\n",
    "            index = aux_outputs.index(max(aux_outputs))\n",
    "            print( str(pos)+' Index:', index, '. Value:', aux_outputs[index] )\n",
    "            aux_outputs[index] = -1.0\n",
    "        \n",
    "\n",
    "print(model)\n",
    "outputs = inferencia(model,input_sequence,labels)\n",
    "print( 'Best index:', outputs.index(max(outputs)) )"
   ],
   "metadata": {
    "collapsed": false,
    "ExecuteTime": {
     "end_time": "2024-01-26T11:31:25.915707Z",
     "start_time": "2024-01-26T11:31:25.906739Z"
    }
   },
   "id": "7101227f720cb7dc"
  },
  {
   "cell_type": "code",
   "execution_count": 9,
   "outputs": [],
   "source": [],
   "metadata": {
    "collapsed": false,
    "ExecuteTime": {
     "end_time": "2024-01-26T11:31:25.919756Z",
     "start_time": "2024-01-26T11:31:25.917183Z"
    }
   },
   "id": "34509cae75078217"
  }
 ],
 "metadata": {
  "kernelspec": {
   "display_name": "Python 3",
   "language": "python",
   "name": "python3"
  },
  "language_info": {
   "codemirror_mode": {
    "name": "ipython",
    "version": 2
   },
   "file_extension": ".py",
   "mimetype": "text/x-python",
   "name": "python",
   "nbconvert_exporter": "python",
   "pygments_lexer": "ipython2",
   "version": "2.7.6"
  }
 },
 "nbformat": 4,
 "nbformat_minor": 5
}
