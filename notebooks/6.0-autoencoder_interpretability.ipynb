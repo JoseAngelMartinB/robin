{
 "cells": [
  {
   "attachments": {},
   "cell_type": "markdown",
   "metadata": {},
   "source": [
    "# Interpretability of autoencoder latent space for passengers demand-sensitive planning on high-speed railways (IWANN 2023)\n"
   ]
  },
  {
   "cell_type": "code",
   "execution_count": 1,
   "outputs": [
    {
     "name": "stderr",
     "output_type": "stream",
     "text": [
      "2023-05-31 22:52:45.202227: I tensorflow/core/platform/cpu_feature_guard.cc:193] This TensorFlow binary is optimized with oneAPI Deep Neural Network Library (oneDNN) to use the following CPU instructions in performance-critical operations:  SSE4.1 SSE4.2 AVX AVX2 FMA\n",
      "To enable them in other operations, rebuild TensorFlow with the appropriate compiler flags.\n"
     ]
    }
   ],
   "source": [
    "import datetime\n",
    "import matplotlib.pyplot as plt\n",
    "import nltk\n",
    "import numpy as np\n",
    "import os\n",
    "import pandas as pd\n",
    "import random\n",
    "import tensorflow as tf\n",
    "\n",
    "from feature_engine.creation import CyclicalFeatures\n",
    "from IPython.display import display\n",
    "from nltk.corpus import wordnet\n",
    "from numpy.random import seed\n",
    "from scipy import spatial\n",
    "from scipy.stats import pearsonr, spearmanr\n",
    "from sklearn.decomposition import PCA\n",
    "from sklearn.manifold import TSNE\n",
    "from sklearn.model_selection import train_test_split\n",
    "from sklearn.neural_network import MLPRegressor\n",
    "from sklearn.preprocessing import MinMaxScaler\n",
    "from typing import Dict, List, Tuple\n",
    "from tensorflow.keras.layers import *\n",
    "from tensorflow.keras.models import Model\n",
    "\n",
    "from src.robin.supply.entities import Supply\n",
    "\n",
    "SEED = 15\n",
    "\n",
    "seed(SEED)  # Set numpy random seed\n",
    "random.seed(SEED)  # Set random seed\n",
    "\n",
    "SAVE_PATH = '../reports/figures/ae_interpretability/'"
   ],
   "metadata": {
    "collapsed": false,
    "ExecuteTime": {
     "end_time": "2023-05-31T20:52:49.471304Z",
     "start_time": "2023-05-31T20:52:42.924313Z"
    }
   }
  },
  {
   "cell_type": "code",
   "execution_count": 2,
   "outputs": [
    {
     "name": "stderr",
     "output_type": "stream",
     "text": [
      "[nltk_data] Error loading wordnet: <urlopen error EOF occurred in\n",
      "[nltk_data]     violation of protocol (_ssl.c:1007)>\n"
     ]
    },
    {
     "data": {
      "text/plain": "False"
     },
     "execution_count": 2,
     "metadata": {},
     "output_type": "execute_result"
    }
   ],
   "source": [
    "# Download wordnet if not already downloaded\n",
    "nltk.download('wordnet')"
   ],
   "metadata": {
    "collapsed": false,
    "ExecuteTime": {
     "end_time": "2023-05-31T20:53:50.610794Z",
     "start_time": "2023-05-31T20:52:49.473911Z"
    }
   }
  },
  {
   "cell_type": "code",
   "execution_count": 3,
   "outputs": [
    {
     "name": "stdout",
     "output_type": "stream",
     "text": [
      "[['madrid', 'guadalajara', 'calatayud', 'zaragoza', 'lleida', 'tarragona', 'barcelona', 'girona', 'figueres']]\n"
     ]
    }
   ],
   "source": [
    "def get_paths_from_supply(path_config_supply: str = '../configs/test_case/supply_data.yml') -> List[List[str]]:\n",
    "    \"\"\"\n",
    "    Get the paths of a supply\n",
    "\n",
    "    Args:\n",
    "        path_config_supply (str, optional): Path to the supply config file. Defaults to '../configs/test_case/supply_data.yml'.\n",
    "\n",
    "    Returns:\n",
    "        List[List[str]]: List of paths\n",
    "    \"\"\"\n",
    "    supply = Supply.from_yaml(path_config_supply)\n",
    "\n",
    "    # Get set of corridors\n",
    "    corridors = []\n",
    "    for service in supply.services:\n",
    "        if service.line.corridor not in corridors:\n",
    "            corridors.append(service.line.corridor)\n",
    "\n",
    "    # Get set of paths\n",
    "    paths = []\n",
    "    for corridor in corridors:\n",
    "        for path in corridor.paths:\n",
    "            if path not in paths:\n",
    "                paths.append(path)\n",
    "\n",
    "    # Parse paths of Station objects to paths of station mame\n",
    "    paths = [[station.name.replace(\"-\", \" \").split(\" \")[0].lower() for station in path] for path in paths]\n",
    "    return paths\n",
    "\n",
    "paths = get_paths_from_supply()\n",
    "print(paths)"
   ],
   "metadata": {
    "collapsed": false,
    "ExecuteTime": {
     "end_time": "2023-05-31T20:53:50.812987Z",
     "start_time": "2023-05-31T20:53:50.616016Z"
    }
   }
  },
  {
   "cell_type": "code",
   "execution_count": 4,
   "outputs": [],
   "source": [
    "def get_random_pair(paths: list[list]) -> Tuple[str, str]:\n",
    "    \"\"\"\n",
    "    Get a random pair of stations from a path\n",
    "\n",
    "    Args:\n",
    "        paths (list[list]): List of stations\n",
    "\n",
    "    Returns:\n",
    "        Tuple[str, str]: Tuple with the origin and destination stations\n",
    "    \"\"\"\n",
    "    random_path = random.choice(paths)  # Choose a random path\n",
    "\n",
    "    origin_index = random.randint(0, len(random_path) - 2)  # Choose a random origin station\n",
    "    destination_index = random.randint(origin_index + 1, len(random_path) - 1)  # Choose a random destination station\n",
    "\n",
    "    origin_station = random_path[origin_index]\n",
    "    destination_station = random_path[destination_index]\n",
    "    return origin_station, destination_station"
   ],
   "metadata": {
    "collapsed": false,
    "ExecuteTime": {
     "end_time": "2023-05-31T20:53:50.826937Z",
     "start_time": "2023-05-31T20:53:50.817438Z"
    }
   }
  },
  {
   "cell_type": "code",
   "execution_count": 5,
   "outputs": [],
   "source": [
    "def get_renfe_station_id(adif_id: str, stations_df: pd.DataFrame) -> str:\n",
    "    \"\"\"\n",
    "    Returns the Station name given the Adif station id.\n",
    "\n",
    "    Args:\n",
    "        adif_id (str): Adif station id.\n",
    "        stations_df (pd.DataFrame): Dataframe with the stations' information.\n",
    "\n",
    "    Returns:\n",
    "        str: Station name.\n",
    "    \"\"\"\n",
    "    station_name = stations_df[stations_df['stop_id'] == adif_id]['stop_name'].values[0]\n",
    "    station_name = station_name.replace(\"-\", \" \").split(\" \")[0].lower()\n",
    "    return station_name\n",
    "\n",
    "stations_csv_path = f'../data/renfe/renfe_stations.csv'\n",
    "stations_df = pd.read_csv(stations_csv_path, dtype={'stop_id': str, 'renfe_id': str})"
   ],
   "metadata": {
    "collapsed": false,
    "ExecuteTime": {
     "end_time": "2023-05-31T20:53:50.870077Z",
     "start_time": "2023-05-31T20:53:50.832834Z"
    }
   }
  },
  {
   "cell_type": "code",
   "execution_count": 6,
   "outputs": [
    {
     "data": {
      "text/plain": "        origin  destination user_pattern        arrival_date   week_day  \\\n0       madrid    tarragona      tourist 2027-05-03 14:39:00     monday   \n1     zaragoza    tarragona     business 2028-01-04 23:52:00    tuesday   \n2  guadalajara    barcelona     business 2027-08-13 01:46:00     friday   \n3       madrid  guadalajara      student 2028-08-30 07:48:00  wednesday   \n4     zaragoza    tarragona      student 2029-08-27 04:15:00     monday   \n\n     month      time  \n0      may  14:39:00  \n1  january  23:52:00  \n2   august  01:46:00  \n3   august  07:48:00  \n4   august  04:15:00  ",
      "text/html": "<div>\n<style scoped>\n    .dataframe tbody tr th:only-of-type {\n        vertical-align: middle;\n    }\n\n    .dataframe tbody tr th {\n        vertical-align: top;\n    }\n\n    .dataframe thead th {\n        text-align: right;\n    }\n</style>\n<table border=\"1\" class=\"dataframe\">\n  <thead>\n    <tr style=\"text-align: right;\">\n      <th></th>\n      <th>origin</th>\n      <th>destination</th>\n      <th>user_pattern</th>\n      <th>arrival_date</th>\n      <th>week_day</th>\n      <th>month</th>\n      <th>time</th>\n    </tr>\n  </thead>\n  <tbody>\n    <tr>\n      <th>0</th>\n      <td>madrid</td>\n      <td>tarragona</td>\n      <td>tourist</td>\n      <td>2027-05-03 14:39:00</td>\n      <td>monday</td>\n      <td>may</td>\n      <td>14:39:00</td>\n    </tr>\n    <tr>\n      <th>1</th>\n      <td>zaragoza</td>\n      <td>tarragona</td>\n      <td>business</td>\n      <td>2028-01-04 23:52:00</td>\n      <td>tuesday</td>\n      <td>january</td>\n      <td>23:52:00</td>\n    </tr>\n    <tr>\n      <th>2</th>\n      <td>guadalajara</td>\n      <td>barcelona</td>\n      <td>business</td>\n      <td>2027-08-13 01:46:00</td>\n      <td>friday</td>\n      <td>august</td>\n      <td>01:46:00</td>\n    </tr>\n    <tr>\n      <th>3</th>\n      <td>madrid</td>\n      <td>guadalajara</td>\n      <td>student</td>\n      <td>2028-08-30 07:48:00</td>\n      <td>wednesday</td>\n      <td>august</td>\n      <td>07:48:00</td>\n    </tr>\n    <tr>\n      <th>4</th>\n      <td>zaragoza</td>\n      <td>tarragona</td>\n      <td>student</td>\n      <td>2029-08-27 04:15:00</td>\n      <td>monday</td>\n      <td>august</td>\n      <td>04:15:00</td>\n    </tr>\n  </tbody>\n</table>\n</div>"
     },
     "metadata": {},
     "output_type": "display_data"
    }
   ],
   "source": [
    "def simulate_passengers_data(paths: list,\n",
    "                             user_patterns: list,\n",
    "                             n_passengers: int = 10000,\n",
    "                             seed: int = 42\n",
    "    ) -> pd.DataFrame:\n",
    "    # Set random state\n",
    "    random.seed(seed)\n",
    "\n",
    "    pairs = []\n",
    "    for _ in range(n_passengers):\n",
    "        pairs.append(get_random_pair(paths))\n",
    "\n",
    "    df = pd.DataFrame(pairs, columns=['origin', 'destination'])\n",
    "    df['user_pattern'] = [random.choice(user_patterns) for _ in range(n_passengers)]\n",
    "\n",
    "    random_days = lambda: random.randint(0, 365*10)\n",
    "    random_hours = lambda: random.randint(0, 24)\n",
    "    random_minutes = lambda: random.randint(0,60)\n",
    "\n",
    "    random_timedelta = lambda: datetime.timedelta(days=random_days(), hours=random_hours(), minutes=random_minutes())\n",
    "    df['arrival_date'] = [datetime.datetime(2021, 1, 1) + random_timedelta() for _ in range(n_passengers)]\n",
    "    df['week_day'] = [date.strftime('%A').lower() for date in df['arrival_date']]\n",
    "    df['month'] = [date.strftime('%B').lower() for date in df['arrival_date']]\n",
    "    df['time'] = [date.time() for date in df['arrival_date']]\n",
    "    return df\n",
    "\n",
    "user_patterns = (\"business\", \"student\", \"tourist\")\n",
    "df = simulate_passengers_data(paths, user_patterns, n_passengers=10000)\n",
    "\n",
    "display(df.head())"
   ],
   "metadata": {
    "collapsed": false,
    "ExecuteTime": {
     "end_time": "2023-05-31T20:53:51.037234Z",
     "start_time": "2023-05-31T20:53:50.885016Z"
    }
   }
  },
  {
   "cell_type": "code",
   "execution_count": 7,
   "outputs": [],
   "source": [
    "class AutoencoderEmbedding:\n",
    "    \"\"\"\n",
    "    Class to get the embedding of a dataframe to be used as input of an autoencoder\n",
    "\n",
    "    Attributes:\n",
    "        df (pd.DataFrame): Dataframe with the data to be embedded\n",
    "        df_embedding (pd.DataFrame): Dataframe with the embedding.\n",
    "        embedding_dim (int, optional): Embedding dimension. Defaults to 50.\n",
    "        embedding_dict (dict): Dictionary with the embedding.\n",
    "        scaler (MinMaxScaler): Scaler to normalize the data.\n",
    "        cyclical (CyclicalFeatures): Cyclical features transformer.\n",
    "        df_time (pd.DataFrame): Dataframe with the time embedding.\n",
    "        input_arrays (list[np.array]): List of arrays with the embedded input data.\n",
    "    \"\"\"\n",
    "    def __init__(self, df: pd.DataFrame, embedding_dim: int = 50, noise: bool = True):\n",
    "        \"\"\"\n",
    "        Constructor method\n",
    "\n",
    "        Args:\n",
    "            df (pd.DataFrame): Dataframe with the data to be embedded\n",
    "            embedding_dim (int, optional): Embedding dimension. Defaults to 50.\n",
    "        \"\"\"\n",
    "        self.df = df\n",
    "        self.noise = noise\n",
    "        self.embedding_dim = embedding_dim\n",
    "        self.scaler = MinMaxScaler()\n",
    "        self.cyclical = CyclicalFeatures(variables=['time'], drop_original=True)\n",
    "        if self.noise:\n",
    "            self.df_noisy = self._get_noisy_df()\n",
    "\n",
    "        df_bag_words = pd.concat([self.df_noisy, self.df], ignore_index=True) if self.noise else self.df\n",
    "        words_set = set(df_bag_words[['origin', 'destination', 'user_pattern', 'week_day', 'month']].values.flatten())\n",
    "        self.word_index = {word: index for index, word in enumerate(words_set)}\n",
    "        self.embedding_dict = self._get_embedding_dict()\n",
    "\n",
    "        if self.noise:\n",
    "            self.df_embedding_noisy = self._get_embedding_df(self.df_noisy)\n",
    "            self.words_noisy_embedding = self._get_words_embedding(self.df_embedding_noisy)\n",
    "            self.time_noisy_embedding = self._get_time_embedding(self.df_embedding_noisy)\n",
    "        self.df_embedding = self._get_embedding_df(self.df)\n",
    "        self.words_embeddings = self._get_words_embedding(self.df_embedding)\n",
    "        self.time_embedding = self._get_time_embedding(self.df_embedding)\n",
    "\n",
    "    def _get_words_embedding(self, df: pd.DataFrame) -> np.array:\n",
    "        \"\"\"\n",
    "        Get the words embedding.\n",
    "\n",
    "        Args:\n",
    "            df (pd.DataFrame, optional): Dataframe with the data to be embedded. Defaults to None.\n",
    "\n",
    "        Returns:\n",
    "            np.array: Array with the words embedding.\n",
    "        \"\"\"\n",
    "        input_data = df[['origin', 'destination', 'user_pattern', 'week_day', 'month']].values.tolist()\n",
    "        return np.array([np.asarray(row, dtype=np.float32) for row in input_data])\n",
    "\n",
    "    def _get_time_embedding(self, df: pd.DataFrame) -> np.array:\n",
    "        \"\"\"\n",
    "        Get the time embedding.\n",
    "\n",
    "        Args:\n",
    "            df (pd.DataFrame, optional): Dataframe with the data to be embedded.\n",
    "\n",
    "        Returns:\n",
    "            np.array: Array with the time embedding.\n",
    "        \"\"\"\n",
    "        input_data = df[['time']].values.tolist()\n",
    "        return np.array([np.asarray(row, dtype=np.float32) for row in input_data])\n",
    "\n",
    "    def _get_embedding_dict(self) -> Dict[str, np.array]:\n",
    "        \"\"\"\n",
    "        Get the words embedding dictionary\n",
    "\n",
    "        Returns:\n",
    "            Dict[str, np.array]: Dictionary with the embedding.\n",
    "        \"\"\"\n",
    "        embeddings_index = {}\n",
    "        f = open(os.path.join('../data/pretrained/glove6B/glove.6B.50d.txt'))\n",
    "\n",
    "        # Read GloVe embeddings\n",
    "        for line in f:\n",
    "            values = line.split()\n",
    "            word = values[0]\n",
    "            coefs = np.asarray(values[1:], dtype=np.float32)\n",
    "            embeddings_index[word] = coefs\n",
    "        f.close()\n",
    "\n",
    "        # Create embedding matrix\n",
    "        embedding_matrix = np.zeros((len(self.word_index) + 1, self.embedding_dim))\n",
    "        embedding_dict = {}\n",
    "        for word, i in self.word_index.items():\n",
    "            embedding_vector = embeddings_index.get(word, np.zeros(self.embedding_dim))\n",
    "            if embedding_vector is not None:\n",
    "                embedding_matrix[i] = embedding_vector\n",
    "                embedding_dict[word] = embedding_vector\n",
    "\n",
    "        return embedding_dict\n",
    "\n",
    "    def decode_time_embedding(self, time_embedding: np.array) -> datetime.time:\n",
    "        \"\"\"\n",
    "        Decode the time embedding\n",
    "\n",
    "        Args:\n",
    "            time_embedding (np.array): Time embedding\n",
    "\n",
    "        Returns:\n",
    "            datetime.time: Time\n",
    "        \"\"\"\n",
    "        total_minutes = self.scaler.inverse_transform(time_embedding)\n",
    "        hours = int(total_minutes / 60)\n",
    "        minutes = int(total_minutes % 60)\n",
    "        time = datetime.time(hour=hours, minute=minutes)\n",
    "\n",
    "        return time\n",
    "\n",
    "    def get_word_syn(self, word: str) -> str:\n",
    "        \"\"\"\n",
    "        Get a random synonym of a word\n",
    "\n",
    "        Args:\n",
    "            word (str): Word to get the synonym from\n",
    "\n",
    "        Returns:\n",
    "            str: Synonym of the word\n",
    "        \"\"\"\n",
    "        word_synset = wordnet.synsets(word)\n",
    "        if len(word_synset) > 0:\n",
    "            station_synset = word_synset[0]\n",
    "            station_lemmas = station_synset.lemmas()\n",
    "            if len(station_lemmas) > 0:\n",
    "                word_lemma = random.choice(station_lemmas)\n",
    "                return word_lemma.name().lower()\n",
    "\n",
    "        return word\n",
    "\n",
    "    def _get_noisy_df(self, p: float = 0.2) -> pd.DataFrame:\n",
    "        \"\"\"\n",
    "        Get the noisy embedding dataframe by replacing some of the words with synonyms\n",
    "\n",
    "        Returns:\n",
    "            pd.DataFrame: Noisy embedding dataframe.\n",
    "        \"\"\"\n",
    "        df_noisy = self.df.copy()\n",
    "        df_noisy['origin'] = df_noisy['origin'].apply(lambda x: self.get_word_syn(x) if random.random() < p else x)\n",
    "        df_noisy['destination'] = df_noisy['destination'].apply(lambda x: self.get_word_syn(x) if random.random() < p else x)\n",
    "        df_noisy['user_pattern'] = df_noisy['user_pattern'].apply(lambda x: self.get_word_syn(x) if random.random() < p else x)\n",
    "        df_noisy['week_day'] = df_noisy['week_day'].apply(lambda x: self.get_word_syn(x) if random.random() < p else x)\n",
    "        df_noisy['month'] = df_noisy['month'].apply(lambda x: self.get_word_syn(x) if random.random() < p else x)\n",
    "\n",
    "        # Replace time with a similar date (sum random timedelta of minutes in range [-30, 30])\n",
    "        #df_noisy['time'] = df_noisy['arrival_date'].apply(lambda x: x + datetime.timedelta(minutes=random.randint(-30, 30)) if random.random() < p else x)\n",
    "        #df_noisy['time'] = df_noisy['time'].apply(lambda x: x.time())\n",
    "\n",
    "        return df_noisy\n",
    "\n",
    "    def _get_embedding_df(self, df: pd.DataFrame) -> pd.DataFrame:\n",
    "        \"\"\"\n",
    "        Get embedding dataframe.\n",
    "\n",
    "        Returns:\n",
    "            pd.DataFrame: Embedding dataframe.\n",
    "        \"\"\"\n",
    "        df_embedding = df.copy()\n",
    "        df_embedding['origin'] = df_embedding['origin'].apply(lambda x: self.embedding_dict.get(x))\n",
    "        df_embedding['destination'] = df_embedding['destination'].apply(lambda x: self.embedding_dict.get(x))\n",
    "        df_embedding['user_pattern'] = df_embedding['user_pattern'].apply(lambda x: self.embedding_dict.get(x))\n",
    "        df_embedding['week_day'] = df_embedding['week_day'].apply(lambda x: self.embedding_dict.get(x))\n",
    "        df_embedding['month'] = df_embedding['month'].apply(lambda x: self.embedding_dict.get(x))\n",
    "\n",
    "        def total_minutes(time: datetime.datetime) -> np.float32:\n",
    "            total_minutes = (time.hour * 60) + time.minute\n",
    "            return np.float32(total_minutes)\n",
    "\n",
    "        df_embedding['time'] = df_embedding['time'].apply(lambda x: total_minutes(x))\n",
    "        df_embedding['time'] = self.scaler.fit_transform(df_embedding[['time']])\n",
    "\n",
    "        return df_embedding[['origin', 'destination', 'user_pattern', 'week_day', 'month', 'time']]"
   ],
   "metadata": {
    "collapsed": false,
    "ExecuteTime": {
     "end_time": "2023-05-31T20:53:51.083527Z",
     "start_time": "2023-05-31T20:53:51.055204Z"
    }
   }
  },
  {
   "cell_type": "code",
   "execution_count": 8,
   "outputs": [
    {
     "name": "stdout",
     "output_type": "stream",
     "text": [
      "Train data shape:  (7000, 7)\n",
      "Test data shape:  (3000, 7)\n",
      "Header of train data:\n"
     ]
    },
    {
     "data": {
      "text/plain": "         origin destination user_pattern        arrival_date  week_day  \\\n9069  tarragona      girona      student 2029-02-27 19:38:00   tuesday   \n2603   zaragoza      girona      tourist 2030-08-31 09:54:00  saturday   \n7738     lleida    figueres      tourist 2026-06-20 08:14:00  saturday   \n1579   zaragoza    figueres      student 2021-02-20 00:04:00  saturday   \n5058   zaragoza      lleida      student 2027-01-26 09:35:00   tuesday   \n\n         month      time  \n9069  february  19:38:00  \n2603    august  09:54:00  \n7738      june  08:14:00  \n1579  february  00:04:00  \n5058   january  09:35:00  ",
      "text/html": "<div>\n<style scoped>\n    .dataframe tbody tr th:only-of-type {\n        vertical-align: middle;\n    }\n\n    .dataframe tbody tr th {\n        vertical-align: top;\n    }\n\n    .dataframe thead th {\n        text-align: right;\n    }\n</style>\n<table border=\"1\" class=\"dataframe\">\n  <thead>\n    <tr style=\"text-align: right;\">\n      <th></th>\n      <th>origin</th>\n      <th>destination</th>\n      <th>user_pattern</th>\n      <th>arrival_date</th>\n      <th>week_day</th>\n      <th>month</th>\n      <th>time</th>\n    </tr>\n  </thead>\n  <tbody>\n    <tr>\n      <th>9069</th>\n      <td>tarragona</td>\n      <td>girona</td>\n      <td>student</td>\n      <td>2029-02-27 19:38:00</td>\n      <td>tuesday</td>\n      <td>february</td>\n      <td>19:38:00</td>\n    </tr>\n    <tr>\n      <th>2603</th>\n      <td>zaragoza</td>\n      <td>girona</td>\n      <td>tourist</td>\n      <td>2030-08-31 09:54:00</td>\n      <td>saturday</td>\n      <td>august</td>\n      <td>09:54:00</td>\n    </tr>\n    <tr>\n      <th>7738</th>\n      <td>lleida</td>\n      <td>figueres</td>\n      <td>tourist</td>\n      <td>2026-06-20 08:14:00</td>\n      <td>saturday</td>\n      <td>june</td>\n      <td>08:14:00</td>\n    </tr>\n    <tr>\n      <th>1579</th>\n      <td>zaragoza</td>\n      <td>figueres</td>\n      <td>student</td>\n      <td>2021-02-20 00:04:00</td>\n      <td>saturday</td>\n      <td>february</td>\n      <td>00:04:00</td>\n    </tr>\n    <tr>\n      <th>5058</th>\n      <td>zaragoza</td>\n      <td>lleida</td>\n      <td>student</td>\n      <td>2027-01-26 09:35:00</td>\n      <td>tuesday</td>\n      <td>january</td>\n      <td>09:35:00</td>\n    </tr>\n  </tbody>\n</table>\n</div>"
     },
     "metadata": {},
     "output_type": "display_data"
    },
    {
     "name": "stdout",
     "output_type": "stream",
     "text": [
      "Header of test data:\n"
     ]
    },
    {
     "data": {
      "text/plain": "           origin destination user_pattern        arrival_date  week_day  \\\n6252     zaragoza      lleida      student 2027-06-13 22:10:00    sunday   \n4684       girona    figueres      tourist 2030-06-01 23:10:00  saturday   \n1731  guadalajara    figueres     business 2027-07-16 04:05:00    friday   \n4742  guadalajara      girona      student 2021-01-19 17:26:00   tuesday   \n4521       madrid    figueres      student 2024-05-21 10:39:00   tuesday   \n\n        month      time  \n6252     june  22:10:00  \n4684     june  23:10:00  \n1731     july  04:05:00  \n4742  january  17:26:00  \n4521      may  10:39:00  ",
      "text/html": "<div>\n<style scoped>\n    .dataframe tbody tr th:only-of-type {\n        vertical-align: middle;\n    }\n\n    .dataframe tbody tr th {\n        vertical-align: top;\n    }\n\n    .dataframe thead th {\n        text-align: right;\n    }\n</style>\n<table border=\"1\" class=\"dataframe\">\n  <thead>\n    <tr style=\"text-align: right;\">\n      <th></th>\n      <th>origin</th>\n      <th>destination</th>\n      <th>user_pattern</th>\n      <th>arrival_date</th>\n      <th>week_day</th>\n      <th>month</th>\n      <th>time</th>\n    </tr>\n  </thead>\n  <tbody>\n    <tr>\n      <th>6252</th>\n      <td>zaragoza</td>\n      <td>lleida</td>\n      <td>student</td>\n      <td>2027-06-13 22:10:00</td>\n      <td>sunday</td>\n      <td>june</td>\n      <td>22:10:00</td>\n    </tr>\n    <tr>\n      <th>4684</th>\n      <td>girona</td>\n      <td>figueres</td>\n      <td>tourist</td>\n      <td>2030-06-01 23:10:00</td>\n      <td>saturday</td>\n      <td>june</td>\n      <td>23:10:00</td>\n    </tr>\n    <tr>\n      <th>1731</th>\n      <td>guadalajara</td>\n      <td>figueres</td>\n      <td>business</td>\n      <td>2027-07-16 04:05:00</td>\n      <td>friday</td>\n      <td>july</td>\n      <td>04:05:00</td>\n    </tr>\n    <tr>\n      <th>4742</th>\n      <td>guadalajara</td>\n      <td>girona</td>\n      <td>student</td>\n      <td>2021-01-19 17:26:00</td>\n      <td>tuesday</td>\n      <td>january</td>\n      <td>17:26:00</td>\n    </tr>\n    <tr>\n      <th>4521</th>\n      <td>madrid</td>\n      <td>figueres</td>\n      <td>student</td>\n      <td>2024-05-21 10:39:00</td>\n      <td>tuesday</td>\n      <td>may</td>\n      <td>10:39:00</td>\n    </tr>\n  </tbody>\n</table>\n</div>"
     },
     "metadata": {},
     "output_type": "display_data"
    }
   ],
   "source": [
    "df_train, df_test = train_test_split(df, test_size=0.3, random_state=42)\n",
    "\n",
    "EMBEDDING_DIM = 50\n",
    "\n",
    "print(\"Train data shape: \", df_train.shape)\n",
    "print(\"Test data shape: \", df_test.shape)\n",
    "\n",
    "train_embedding = AutoencoderEmbedding(df = df_train, embedding_dim=EMBEDDING_DIM)\n",
    "test_embedding = AutoencoderEmbedding(df = df_test, embedding_dim=EMBEDDING_DIM, noise=False)\n",
    "\n",
    "print(\"Header of train data:\")\n",
    "display(train_embedding.df.head())\n",
    "\n",
    "print(\"Header of test data:\")\n",
    "display(test_embedding.df.head())"
   ],
   "metadata": {
    "collapsed": false,
    "ExecuteTime": {
     "end_time": "2023-05-31T20:54:01.731804Z",
     "start_time": "2023-05-31T20:53:51.073818Z"
    }
   }
  },
  {
   "cell_type": "markdown",
   "source": [
    "## Autoencoder model"
   ],
   "metadata": {
    "collapsed": false
   }
  },
  {
   "cell_type": "code",
   "execution_count": 9,
   "outputs": [
    {
     "name": "stderr",
     "output_type": "stream",
     "text": [
      "2023-05-31 22:57:17.510915: I tensorflow/core/platform/cpu_feature_guard.cc:193] This TensorFlow binary is optimized with oneAPI Deep Neural Network Library (oneDNN) to use the following CPU instructions in performance-critical operations:  SSE4.1 SSE4.2 AVX AVX2 FMA\n",
      "To enable them in other operations, rebuild TensorFlow with the appropriate compiler flags.\n"
     ]
    },
    {
     "name": "stdout",
     "output_type": "stream",
     "text": [
      "Model: \"model_2\"\n",
      "__________________________________________________________________________________________________\n",
      " Layer (type)                   Output Shape         Param #     Connected to                     \n",
      "==================================================================================================\n",
      " input_1 (InputLayer)           [(None, 5, 50)]      0           []                               \n",
      "                                                                                                  \n",
      " conv1d (Conv1D)                (None, 5, 64)        9664        ['input_1[0][0]']                \n",
      "                                                                                                  \n",
      " conv1d_1 (Conv1D)              (None, 5, 32)        6176        ['conv1d[0][0]']                 \n",
      "                                                                                                  \n",
      " global_max_pooling1d (GlobalMa  (None, 32)          0           ['conv1d_1[0][0]']               \n",
      " xPooling1D)                                                                                      \n",
      "                                                                                                  \n",
      " flatten (Flatten)              (None, 32)           0           ['global_max_pooling1d[0][0]']   \n",
      "                                                                                                  \n",
      " input_2 (InputLayer)           [(None, 1)]          0           []                               \n",
      "                                                                                                  \n",
      " concatenate (Concatenate)      (None, 33)           0           ['flatten[0][0]',                \n",
      "                                                                  'input_2[0][0]']                \n",
      "                                                                                                  \n",
      " dense (Dense)                  (None, 64)           2176        ['concatenate[0][0]']            \n",
      "                                                                                                  \n",
      " dense_1 (Dense)                (None, 32)           2080        ['dense[0][0]']                  \n",
      "                                                                                                  \n",
      " dense_2 (Dense)                (None, 5)            165         ['dense_1[0][0]']                \n",
      "                                                                                                  \n",
      " model_1 (Functional)           [(None, 5, 50),      31731       ['dense_2[0][0]']                \n",
      "                                 (None, 1)]                                                       \n",
      "                                                                                                  \n",
      "==================================================================================================\n",
      "Total params: 51,992\n",
      "Trainable params: 51,992\n",
      "Non-trainable params: 0\n",
      "__________________________________________________________________________________________________\n"
     ]
    }
   ],
   "source": [
    "words_embeddings_shape = (5, EMBEDDING_DIM)\n",
    "time_embedding_shape = (1,)\n",
    "\n",
    "SEQUENCE_LENGTH = 5\n",
    "\n",
    "latent_dim = 5\n",
    "\n",
    "# Encoder model\n",
    "input_words = Input(shape=words_embeddings_shape)\n",
    "\n",
    "conv1 = Conv1D(64, kernel_size=3, activation='relu', padding='same')(input_words)\n",
    "conv2 = Conv1D(32, kernel_size=3, activation='relu', padding='same')(conv1)\n",
    "pooling = GlobalMaxPooling1D()(conv2)\n",
    "flat_layer = Flatten()(pooling)\n",
    "\n",
    "input_time = Input(shape=time_embedding_shape)\n",
    "concat_layer = Concatenate(axis=1)([flat_layer, input_time])\n",
    "\n",
    "encoder = Dense(64)(concat_layer)\n",
    "encoder = Dense(32)(encoder)\n",
    "\n",
    "dense1 = Dense(latent_dim, activation='tanh')(encoder)\n",
    "\n",
    "# Decoder model\n",
    "decoder_inputs = Input(shape=(latent_dim,))\n",
    "dense3 = Dense(32)(decoder_inputs)\n",
    "dense4 = Dense(64)(dense3)\n",
    "\n",
    "repeat_vector = RepeatVector(6)(Flatten()(dense4))\n",
    "\n",
    "decoder = Dense(32 * SEQUENCE_LENGTH, activation='relu')(dense4)\n",
    "decoder = Reshape((SEQUENCE_LENGTH, 32))(decoder)\n",
    "decoder = Conv1DTranspose(32, kernel_size=3, activation='relu', padding='same')(decoder)\n",
    "decoder = Conv1DTranspose(64, kernel_size=3, activation='relu', padding='same')(decoder)\n",
    "decoder_words = Conv1DTranspose(EMBEDDING_DIM, kernel_size=3, padding='same')(decoder)\n",
    "\n",
    "decoder_time = Dense(1)(dense4)\n",
    "\n",
    "encoder_model = Model(inputs=[input_words, input_time], outputs=dense1)\n",
    "encoder_model.compile(optimizer='adam', loss='mse', metrics=[tf.keras.metrics.MeanSquaredError()])\n",
    "\n",
    "decoder_model = Model(inputs=decoder_inputs, outputs=[decoder_words, decoder_time])\n",
    "decoder_model.compile(optimizer='adam', loss='mse', metrics=[tf.keras.metrics.MeanSquaredError()])\n",
    "\n",
    "decoded_words, decoded_time = decoder_model(dense1)\n",
    "model = Model(inputs=[input_words, input_time], outputs=[decoded_words, decoded_time])\n",
    "\n",
    "model.compile(optimizer='adam', loss='mse', metrics=[tf.keras.metrics.MeanSquaredError()])\n",
    "model.summary()"
   ],
   "metadata": {
    "collapsed": false,
    "ExecuteTime": {
     "end_time": "2023-05-31T20:57:17.823163Z",
     "start_time": "2023-05-31T20:57:17.500102Z"
    }
   }
  },
  {
   "cell_type": "code",
   "execution_count": 10,
   "outputs": [
    {
     "name": "stdout",
     "output_type": "stream",
     "text": [
      "Epoch 1/20\n",
      "219/219 [==============================] - 2s 3ms/step - loss: 0.1910 - model_1_loss: 0.1727 - model_1_1_loss: 0.0183 - model_1_mean_squared_error: 0.1727 - model_1_1_mean_squared_error: 0.0183\n",
      "Epoch 2/20\n",
      "219/219 [==============================] - 1s 3ms/step - loss: 0.1047 - model_1_loss: 0.1040 - model_1_1_loss: 7.4177e-04 - model_1_mean_squared_error: 0.1040 - model_1_1_mean_squared_error: 7.4177e-04\n",
      "Epoch 3/20\n",
      "219/219 [==============================] - 1s 3ms/step - loss: 0.0861 - model_1_loss: 0.0857 - model_1_1_loss: 3.7523e-04 - model_1_mean_squared_error: 0.0857 - model_1_1_mean_squared_error: 3.7523e-04\n",
      "Epoch 4/20\n",
      "219/219 [==============================] - 1s 3ms/step - loss: 0.0747 - model_1_loss: 0.0744 - model_1_1_loss: 3.8376e-04 - model_1_mean_squared_error: 0.0744 - model_1_1_mean_squared_error: 3.8376e-04\n",
      "Epoch 5/20\n",
      "219/219 [==============================] - 1s 3ms/step - loss: 0.0567 - model_1_loss: 0.0564 - model_1_1_loss: 3.1502e-04 - model_1_mean_squared_error: 0.0564 - model_1_1_mean_squared_error: 3.1502e-04\n",
      "Epoch 6/20\n",
      "219/219 [==============================] - 1s 3ms/step - loss: 0.0498 - model_1_loss: 0.0496 - model_1_1_loss: 2.2865e-04 - model_1_mean_squared_error: 0.0496 - model_1_1_mean_squared_error: 2.2865e-04\n",
      "Epoch 7/20\n",
      "219/219 [==============================] - 1s 3ms/step - loss: 0.0417 - model_1_loss: 0.0414 - model_1_1_loss: 3.1986e-04 - model_1_mean_squared_error: 0.0414 - model_1_1_mean_squared_error: 3.1986e-04\n",
      "Epoch 8/20\n",
      "219/219 [==============================] - 1s 3ms/step - loss: 0.0332 - model_1_loss: 0.0330 - model_1_1_loss: 1.9216e-04 - model_1_mean_squared_error: 0.0330 - model_1_1_mean_squared_error: 1.9216e-04\n",
      "Epoch 9/20\n",
      "219/219 [==============================] - 1s 3ms/step - loss: 0.0298 - model_1_loss: 0.0296 - model_1_1_loss: 2.1677e-04 - model_1_mean_squared_error: 0.0296 - model_1_1_mean_squared_error: 2.1677e-04\n",
      "Epoch 10/20\n",
      "219/219 [==============================] - 1s 2ms/step - loss: 0.0266 - model_1_loss: 0.0264 - model_1_1_loss: 1.7092e-04 - model_1_mean_squared_error: 0.0264 - model_1_1_mean_squared_error: 1.7092e-04\n",
      "Epoch 11/20\n",
      "219/219 [==============================] - 1s 3ms/step - loss: 0.0245 - model_1_loss: 0.0243 - model_1_1_loss: 2.0847e-04 - model_1_mean_squared_error: 0.0243 - model_1_1_mean_squared_error: 2.0847e-04\n",
      "Epoch 12/20\n",
      "219/219 [==============================] - 1s 2ms/step - loss: 0.0224 - model_1_loss: 0.0222 - model_1_1_loss: 1.5427e-04 - model_1_mean_squared_error: 0.0222 - model_1_1_mean_squared_error: 1.5427e-04\n",
      "Epoch 13/20\n",
      "219/219 [==============================] - 1s 2ms/step - loss: 0.0209 - model_1_loss: 0.0207 - model_1_1_loss: 2.0097e-04 - model_1_mean_squared_error: 0.0207 - model_1_1_mean_squared_error: 2.0097e-04\n",
      "Epoch 14/20\n",
      "219/219 [==============================] - 1s 3ms/step - loss: 0.0192 - model_1_loss: 0.0191 - model_1_1_loss: 1.6859e-04 - model_1_mean_squared_error: 0.0191 - model_1_1_mean_squared_error: 1.6859e-04\n",
      "Epoch 15/20\n",
      "219/219 [==============================] - 1s 2ms/step - loss: 0.0180 - model_1_loss: 0.0178 - model_1_1_loss: 1.9465e-04 - model_1_mean_squared_error: 0.0178 - model_1_1_mean_squared_error: 1.9465e-04\n",
      "Epoch 16/20\n",
      "219/219 [==============================] - 1s 3ms/step - loss: 0.0169 - model_1_loss: 0.0167 - model_1_1_loss: 2.3588e-04 - model_1_mean_squared_error: 0.0167 - model_1_1_mean_squared_error: 2.3588e-04\n",
      "Epoch 17/20\n",
      "219/219 [==============================] - 1s 2ms/step - loss: 0.0155 - model_1_loss: 0.0153 - model_1_1_loss: 2.1739e-04 - model_1_mean_squared_error: 0.0153 - model_1_1_mean_squared_error: 2.1739e-04\n",
      "Epoch 18/20\n",
      "219/219 [==============================] - 1s 3ms/step - loss: 0.0144 - model_1_loss: 0.0142 - model_1_1_loss: 1.6775e-04 - model_1_mean_squared_error: 0.0142 - model_1_1_mean_squared_error: 1.6775e-04\n",
      "Epoch 19/20\n",
      "219/219 [==============================] - 1s 3ms/step - loss: 0.0148 - model_1_loss: 0.0146 - model_1_1_loss: 2.1168e-04 - model_1_mean_squared_error: 0.0146 - model_1_1_mean_squared_error: 2.1168e-04\n",
      "Epoch 20/20\n",
      "219/219 [==============================] - 1s 2ms/step - loss: 0.0130 - model_1_loss: 0.0128 - model_1_1_loss: 1.4778e-04 - model_1_mean_squared_error: 0.0128 - model_1_1_mean_squared_error: 1.4778e-04\n"
     ]
    }
   ],
   "source": [
    "history = model.fit(x = [train_embedding.words_embeddings, train_embedding.time_embedding],\n",
    "                    y = [train_embedding.words_embeddings, train_embedding.time_embedding],\n",
    "                    epochs=20,\n",
    "                    batch_size=32,\n",
    "                    verbose=1)"
   ],
   "metadata": {
    "collapsed": false,
    "ExecuteTime": {
     "end_time": "2023-05-31T20:57:31.473659Z",
     "start_time": "2023-05-31T20:57:18.723050Z"
    }
   }
  },
  {
   "cell_type": "code",
   "execution_count": 11,
   "outputs": [
    {
     "data": {
      "text/plain": "dict_keys(['loss', 'model_1_loss', 'model_1_1_loss', 'model_1_mean_squared_error', 'model_1_1_mean_squared_error'])"
     },
     "execution_count": 11,
     "metadata": {},
     "output_type": "execute_result"
    }
   ],
   "source": [
    "history.history.keys()"
   ],
   "metadata": {
    "collapsed": false,
    "ExecuteTime": {
     "end_time": "2023-05-31T20:57:33.611080Z",
     "start_time": "2023-05-31T20:57:33.599378Z"
    }
   }
  },
  {
   "cell_type": "code",
   "execution_count": 12,
   "outputs": [
    {
     "data": {
      "text/plain": "<Figure size 640x480 with 1 Axes>",
      "image/png": "[encoded data removed]"
     },
     "metadata": {},
     "output_type": "display_data"
    }
   ],
   "source": [
    "# Plot history loss\n",
    "plt.plot(history.history['loss'], label='train')\n",
    "plt.title('Loss')\n",
    "plt.xlabel('Epochs')\n",
    "plt.ylabel('Loss')\n",
    "plt.show()"
   ],
   "metadata": {
    "collapsed": false,
    "ExecuteTime": {
     "end_time": "2023-05-31T20:57:34.418422Z",
     "start_time": "2023-05-31T20:57:34.182460Z"
    }
   }
  },
  {
   "cell_type": "code",
   "execution_count": 13,
   "outputs": [
    {
     "name": "stdout",
     "output_type": "stream",
     "text": [
      "94/94 [==============================] - 0s 2ms/step - loss: 0.0130 - model_1_loss: 0.0128 - model_1_1_loss: 1.5821e-04 - model_1_mean_squared_error: 0.0128 - model_1_1_mean_squared_error: 1.5821e-04\n"
     ]
    }
   ],
   "source": [
    "# Evaluate model\n",
    "score = model.evaluate(x=[test_embedding.words_embeddings, test_embedding.time_embedding],\n",
    "                       y=[test_embedding.words_embeddings, test_embedding.time_embedding],\n",
    "                       verbose=1)"
   ],
   "metadata": {
    "collapsed": false,
    "ExecuteTime": {
     "end_time": "2023-05-31T20:57:37.195604Z",
     "start_time": "2023-05-31T20:57:36.696211Z"
    }
   }
  },
  {
   "cell_type": "markdown",
   "source": [
    "## Make predictions"
   ],
   "metadata": {
    "collapsed": false
   }
  },
  {
   "cell_type": "code",
   "execution_count": 14,
   "outputs": [],
   "source": [
    "def find_closest_embeddings(embedding, emb):\n",
    "    return sorted(emb.keys(), key=lambda word: spatial.distance.euclidean(emb[word], embedding))[0]"
   ],
   "metadata": {
    "collapsed": false,
    "ExecuteTime": {
     "end_time": "2023-05-31T20:57:38.413147Z",
     "start_time": "2023-05-31T20:57:38.403521Z"
    }
   }
  },
  {
   "cell_type": "code",
   "execution_count": 15,
   "outputs": [
    {
     "name": "stdout",
     "output_type": "stream",
     "text": [
      "Input - Random passenger data: \n",
      "origin                    calatayud\n",
      "destination                  girona\n",
      "user_pattern               business\n",
      "arrival_date    2027-08-07 23:41:00\n",
      "week_day                   saturday\n",
      "month                        august\n",
      "time                       23:41:00\n",
      "Name: 6632, dtype: object\n",
      "1/1 [==============================] - 0s 195ms/step\n",
      "Output - Passenger reconstruction: \n",
      "['calatayud', 'girona', 'business', 'wednesday', 'april']\n",
      "Time prediction: \n",
      "23:07:00\n"
     ]
    }
   ],
   "source": [
    "random_index = np.random.randint(0, test_embedding.df.shape[0])\n",
    "\n",
    "random_words_embedding = test_embedding.words_embeddings[random_index:random_index+1]\n",
    "random_time_embedding = test_embedding.time_embedding[random_index:random_index+1]\n",
    "\n",
    "print(\"Input - Random passenger data: \")\n",
    "print(test_embedding.df.iloc[random_index])\n",
    "\n",
    "prediction = model.predict(x = [random_words_embedding, random_time_embedding])\n",
    "\n",
    "print(\"Output - Passenger reconstruction: \")\n",
    "decoded_words = [find_closest_embeddings(word_vector, test_embedding.embedding_dict) for word_vector in prediction[0][0]]\n",
    "print(decoded_words)\n",
    "\n",
    "print(\"Time prediction: \")\n",
    "predicted_time = test_embedding.decode_time_embedding([prediction[1][0]])\n",
    "print(predicted_time)"
   ],
   "metadata": {
    "collapsed": false,
    "ExecuteTime": {
     "end_time": "2023-05-31T20:57:39.353046Z",
     "start_time": "2023-05-31T20:57:39.109987Z"
    }
   }
  },
  {
   "cell_type": "markdown",
   "source": [
    "## Estudio de la correlación entre factores latentes y la entrada del autoencoder"
   ],
   "metadata": {
    "collapsed": false
   }
  },
  {
   "cell_type": "code",
   "execution_count": 72,
   "outputs": [
    {
     "data": {
      "text/plain": "           origin destination user_pattern        arrival_date week_day  \\\n6252     zaragoza    figueres     business 2027-06-13 22:10:00   monday   \n4684       girona    figueres     business 2030-06-01 23:10:00   monday   \n1731  guadalajara    figueres     business 2027-07-16 04:05:00   monday   \n4742  guadalajara    figueres     business 2021-01-19 17:26:00   monday   \n4521       madrid    figueres     business 2024-05-21 10:39:00   monday   \n\n        month      time  \n6252  october  16:49:00  \n4684  october  16:49:00  \n1731  october  16:49:00  \n4742  october  16:49:00  \n4521  october  16:49:00  ",
      "text/html": "<div>\n<style scoped>\n    .dataframe tbody tr th:only-of-type {\n        vertical-align: middle;\n    }\n\n    .dataframe tbody tr th {\n        vertical-align: top;\n    }\n\n    .dataframe thead th {\n        text-align: right;\n    }\n</style>\n<table border=\"1\" class=\"dataframe\">\n  <thead>\n    <tr style=\"text-align: right;\">\n      <th></th>\n      <th>origin</th>\n      <th>destination</th>\n      <th>user_pattern</th>\n      <th>arrival_date</th>\n      <th>week_day</th>\n      <th>month</th>\n      <th>time</th>\n    </tr>\n  </thead>\n  <tbody>\n    <tr>\n      <th>6252</th>\n      <td>zaragoza</td>\n      <td>figueres</td>\n      <td>business</td>\n      <td>2027-06-13 22:10:00</td>\n      <td>monday</td>\n      <td>october</td>\n      <td>16:49:00</td>\n    </tr>\n    <tr>\n      <th>4684</th>\n      <td>girona</td>\n      <td>figueres</td>\n      <td>business</td>\n      <td>2030-06-01 23:10:00</td>\n      <td>monday</td>\n      <td>october</td>\n      <td>16:49:00</td>\n    </tr>\n    <tr>\n      <th>1731</th>\n      <td>guadalajara</td>\n      <td>figueres</td>\n      <td>business</td>\n      <td>2027-07-16 04:05:00</td>\n      <td>monday</td>\n      <td>october</td>\n      <td>16:49:00</td>\n    </tr>\n    <tr>\n      <th>4742</th>\n      <td>guadalajara</td>\n      <td>figueres</td>\n      <td>business</td>\n      <td>2021-01-19 17:26:00</td>\n      <td>monday</td>\n      <td>october</td>\n      <td>16:49:00</td>\n    </tr>\n    <tr>\n      <th>4521</th>\n      <td>madrid</td>\n      <td>figueres</td>\n      <td>business</td>\n      <td>2024-05-21 10:39:00</td>\n      <td>monday</td>\n      <td>october</td>\n      <td>16:49:00</td>\n    </tr>\n  </tbody>\n</table>\n</div>"
     },
     "metadata": {},
     "output_type": "display_data"
    },
    {
     "name": "stdout",
     "output_type": "stream",
     "text": [
      "94/94 [==============================] - 0s 1ms/step\n",
      "Latent space range: \n",
      "            0         1         2         3         4\n",
      "min -0.763432 -0.784675 -0.133814 -0.837502  0.416159\n",
      "max  0.924236 -0.687559 -0.003418 -0.669040  0.439443\n"
     ]
    }
   ],
   "source": [
    "def get_locked_dataframe(df: pd.DataFrame,\n",
    "                         locked_columns: list,\n",
    "                         seed: int = 18\n",
    "    ) -> pd.DataFrame:\n",
    "    \"\"\"\n",
    "    Get a dataframe with locked columns (all rows with the same value)\n",
    "\n",
    "    Args:\n",
    "        df (pd.DataFrame): Dataframe to lock\n",
    "        locked_columns (list): List of columns to lock\n",
    "        seed (int): Random seed\n",
    "\n",
    "    Returns:\n",
    "        pd.DataFrame: Locked dataframe\n",
    "    \"\"\"\n",
    "    random.seed(seed)\n",
    "    df_locked = df.copy()\n",
    "\n",
    "    for column in locked_columns:\n",
    "        values = tuple(set(df_locked[column].values))\n",
    "        locked_value = random.sample(values, 1)[0]\n",
    "        df_locked[column] = locked_value\n",
    "\n",
    "    return df_locked\n",
    "\n",
    "locked_dataframe = get_locked_dataframe(df=test_embedding.df,\n",
    "                                        locked_columns=['destination', 'user_pattern', 'week_day', 'month', 'time'])\n",
    "\n",
    "locked_embedding = AutoencoderEmbedding(df=locked_dataframe, embedding_dim=EMBEDDING_DIM)\n",
    "display(locked_embedding.df.head())\n",
    "\n",
    "# Get latent space of the locked_embedding\n",
    "latent_space = encoder_model.predict(x = [locked_embedding.words_embeddings, locked_embedding.time_embedding])\n",
    "\n",
    "# Get range of values for each latent factor\n",
    "latent_space_range = pd.DataFrame(latent_space).describe().loc[['min', 'max']]\n",
    "\n",
    "print(\"Latent space range: \")\n",
    "print(latent_space_range)"
   ],
   "metadata": {
    "collapsed": false,
    "ExecuteTime": {
     "end_time": "2023-05-31T21:53:13.356014Z",
     "start_time": "2023-05-31T21:53:08.995131Z"
    }
   }
  },
  {
   "cell_type": "code",
   "execution_count": 17,
   "outputs": [
    {
     "data": {
      "text/plain": "[]"
     },
     "execution_count": 17,
     "metadata": {},
     "output_type": "execute_result"
    },
    {
     "data": {
      "text/plain": "<Figure size 640x480 with 1 Axes>",
      "image/png": "[encoded data removed]"
     },
     "metadata": {},
     "output_type": "display_data"
    }
   ],
   "source": [
    "# Cambios en origen\n",
    "df_predictions = pd.DataFrame(latent_space, columns = [f\"latent_{i}\" for i in range(latent_space.shape[1])])\n",
    "\n",
    "b_plot = df_predictions.boxplot()\n",
    "plt.ylim(-1, 1)\n",
    "\n",
    "plt.title(\"Boxplot - Changes only in origin column\")\n",
    "b_plot.plot()"
   ],
   "metadata": {
    "collapsed": false,
    "ExecuteTime": {
     "end_time": "2023-05-31T20:57:54.384707Z",
     "start_time": "2023-05-31T20:57:54.086582Z"
    }
   }
  },
  {
   "cell_type": "code",
   "execution_count": 21,
   "outputs": [
    {
     "name": "stdout",
     "output_type": "stream",
     "text": [
      "Iter 1...\n",
      "Iter 2...\n",
      "Iter 3...\n",
      "Iter 4...\n",
      "Iter 5...\n",
      "Iter 6...\n",
      "Iter 7...\n",
      "Iter 8...\n",
      "Iter 9...\n",
      "Iter 10...\n",
      "Iter 11...\n",
      "Iter 12...\n",
      "Iter 13...\n",
      "Iter 14...\n",
      "Iter 15...\n",
      "Iter 16...\n",
      "Iter 17...\n",
      "Iter 18...\n",
      "Iter 19...\n",
      "Iter 20...\n",
      "Iter 21...\n",
      "Iter 22...\n",
      "Iter 23...\n",
      "Iter 24...\n",
      "Iter 25...\n",
      "Iter 26...\n",
      "Iter 27...\n",
      "Iter 28...\n",
      "Iter 29...\n",
      "Iter 30...\n"
     ]
    }
   ],
   "source": [
    "latent_factors_range = []\n",
    "num_iters = 30\n",
    "\n",
    "for i in range(1, num_iters+1):\n",
    "    print(f\"Iter {i}...\")\n",
    "    locked_dataframe = get_locked_dataframe(test_embedding.df, locked_columns=['destination', 'user_pattern', 'week_day', 'month', 'time'], seed=i)\n",
    "    locked_embedding = AutoencoderEmbedding(df=locked_dataframe, embedding_dim=EMBEDDING_DIM)\n",
    "    locked_latent_space = encoder_model.predict(x = [locked_embedding.words_embeddings, locked_embedding.time_embedding], verbose=0)\n",
    "    latent_factors_range.append(pd.DataFrame(locked_latent_space).describe().loc[['min', 'max']])"
   ],
   "metadata": {
    "collapsed": false,
    "ExecuteTime": {
     "end_time": "2023-05-31T21:02:42.799742Z",
     "start_time": "2023-05-31T21:00:43.443365Z"
    }
   }
  },
  {
   "cell_type": "code",
   "execution_count": 22,
   "outputs": [
    {
     "data": {
      "text/plain": "                                     latent_0  \\\n0   (-0.7765084505081177, 0.8492642641067505)   \n1   (-0.8585031628608704, 0.9316088557243347)   \n2   (-0.8887576460838318, 0.8104000091552734)   \n3    (-0.891346275806427, 0.8252321481704712)   \n4   (-0.8302910327911377, 0.8510634899139404)   \n5   (-0.8774911165237427, 0.8689196109771729)   \n6    (-0.813652515411377, 0.9303461909294128)   \n7   (-0.8918163180351257, 0.8215555548667908)   \n8   (-0.8597190380096436, 0.9176217913627625)   \n9   (-0.8119357228279114, 0.9120294451713562)   \n10  (-0.8605494499206543, 0.9168228507041931)   \n11   (-0.781313419342041, 0.8825215101242065)   \n12   (-0.5812690854072571, 0.884520947933197)   \n13  (-0.9082592129707336, 0.8753805756568909)   \n14  (-0.8913565874099731, 0.8021671175956726)   \n15  (-0.7101905941963196, 0.8931400775909424)   \n16   (-0.725786030292511, 0.9378209710121155)   \n17  (-0.7634315490722656, 0.9242356419563293)   \n18  (-0.8681212067604065, 0.9222232103347778)   \n19  (-0.7407313585281372, 0.9418672919273376)   \n20   (-0.7379592061042786, 0.942484974861145)   \n21  (-0.7639383673667908, 0.9242982268333435)   \n22  (-0.7376089692115784, 0.9023829698562622)   \n23  (-0.8069631457328796, 0.8928559422492981)   \n24   (-0.791279137134552, 0.9316089153289795)   \n25  (-0.8881803154945374, 0.8126311302185059)   \n26  (-0.8597190380096436, 0.9176217913627625)   \n27    (-0.905778169631958, 0.868549108505249)   \n28  (-0.8763910531997681, 0.8640660047531128)   \n29   (-0.8293594121932983, 0.851601779460907)   \n\n                                       latent_1  \\\n0    (-0.6868811249732971, -0.5173223614692688)   \n1    (-0.8622390031814575, -0.7729978561401367)   \n2    (-0.8697034120559692, -0.8379101753234863)   \n3    (-0.8828123807907104, -0.8327988982200623)   \n4    (-0.7596262097358704, -0.6580173969268799)   \n5    (-0.8308090567588806, -0.7748058438301086)   \n6    (-0.7559762001037598, -0.6348975896835327)   \n7    (-0.8879584074020386, -0.8362358212471008)   \n8    (-0.8724467754364014, -0.7885980606079102)   \n9    (-0.8077560067176819, -0.7037320733070374)   \n10   (-0.8765024542808533, -0.7955154180526733)   \n11   (-0.7270344495773315, -0.5844343900680542)   \n12   (-0.8268442153930664, -0.7041034698486328)   \n13   (-0.8713651895523071, -0.8448883295059204)   \n14   (-0.8879135847091675, -0.8554039001464844)   \n15  (-0.5036751627922058, -0.28378546237945557)   \n16   (-0.6834557056427002, -0.5225651860237122)   \n17   (-0.7846751809120178, -0.6875585317611694)   \n18   (-0.8317585587501526, -0.7572488188743591)   \n19     (-0.789257824420929, -0.650385856628418)   \n20   (-0.7862932085990906, -0.6502547860145569)   \n21   (-0.7832765579223633, -0.6856403946876526)   \n22     (-0.83864825963974, -0.7261684536933899)   \n23   (-0.6765441298484802, -0.5501782298088074)   \n24   (-0.7833287715911865, -0.6859828233718872)   \n25   (-0.8714573979377747, -0.8384782671928406)   \n26   (-0.8724467754364014, -0.7885980606079102)   \n27    (-0.860957682132721, -0.8296994566917419)   \n28   (-0.8247830867767334, -0.7698591351509094)   \n29   (-0.7561842799186707, -0.6506199836730957)   \n\n                                         latent_2  \\\n0        (0.8242583274841309, 0.9251696467399597)   \n1      (0.19446705281734467, 0.31376346945762634)   \n2        (0.4621098041534424, 0.5899912118911743)   \n3      (-0.6613290309906006, -0.5527585744857788)   \n4        (0.7710660696029663, 0.8674556612968445)   \n5      (-0.7064618468284607, -0.5784295797348022)   \n6        (0.4778107702732086, 0.5552428960800171)   \n7      (-0.6617382168769836, -0.5581051111221313)   \n8         (0.5929041504859924, 0.702237069606781)   \n9      (-0.6945511102676392, -0.5675864219665527)   \n10       (0.5927069783210754, 0.7002080678939819)   \n11      (-0.9060482978820801, -0.770852267742157)   \n12     (-0.5537307262420654, -0.4138636589050293)   \n13       (0.5466424822807312, 0.6453088521957397)   \n14     (0.02646019123494625, 0.11339391767978668)   \n15     (-0.9004932045936584, -0.7301619052886963)   \n16     (-0.7793806195259094, -0.6556613445281982)   \n17   (-0.1338140070438385, -0.003417834173887968)   \n18       (0.6477559208869934, 0.7537147402763367)   \n19   (-0.40505948662757874, -0.32038724422454834)   \n20    (-0.39756670594215393, -0.3171703517436981)   \n21  (-0.1365251988172531, -0.0034324966836720705)   \n22   (-0.002572235418483615, 0.18157824873924255)   \n23       (0.7213441133499146, 0.7718115448951721)   \n24      (0.34514594078063965, 0.3870358169078827)   \n25      (0.45750007033348083, 0.5932682156562805)   \n26        (0.5929041504859924, 0.702237069606781)   \n27       (0.5425866842269897, 0.6464794874191284)   \n28     (-0.7006140947341919, -0.5786754488945007)   \n29       (0.7715620398521423, 0.8665159344673157)   \n\n                                        latent_3  \\\n0   (-0.012952489778399467, 0.22680383920669556)   \n1   (-0.32918792963027954, -0.11791165173053741)   \n2      (0.24366429448127747, 0.5814866423606873)   \n3       (0.0436871163547039, 0.5350978374481201)   \n4   (-0.41172006726264954, -0.29197126626968384)   \n5    (-0.08981524407863617, 0.21866285800933838)   \n6      (-0.9327465295791626, -0.878257155418396)   \n7       (0.04886578768491745, 0.534077525138855)   \n8     (-0.4262736141681671, -0.3070667088031769)   \n9   (-0.21035125851631165, -0.06004250422120094)   \n10  (-0.42415350675582886, -0.30799201130867004)   \n11   (-0.5120927095413208, -0.16131848096847534)   \n12    (-0.4670500159263611, -0.3035726249217987)   \n13   (-0.03390651196241379, 0.22543953359127045)   \n14      (0.11167716234922409, 0.498644083738327)   \n15     (-0.916327714920044, -0.8637435436248779)   \n16    (-0.7818816900253296, -0.5868407487869263)   \n17    (-0.8375024795532227, -0.6690403819084167)   \n18  (-0.27278634905815125, -0.10097866505384445)   \n19    (-0.8375698328018188, -0.6886756420135498)   \n20    (-0.8369964361190796, -0.6881397366523743)   \n21     (-0.835160493850708, -0.6651954650878906)   \n22     (-0.511723518371582, -0.3430829346179962)   \n23    (-0.7047476172447205, -0.5857224464416504)   \n24    (-0.8420066833496094, -0.6866903305053711)   \n25     (0.24208681285381317, 0.5842639207839966)   \n26    (-0.4262736141681671, -0.3070667088031769)   \n27  (-0.016379715874791145, 0.23381772637367249)   \n28   (-0.08918329328298569, 0.21832287311553955)   \n29    (-0.4082062244415283, -0.2876599431037903)   \n\n                                      latent_4  \n0    (0.3673562705516815, 0.40485963225364685)  \n1    (0.4180728793144226, 0.44775527715682983)  \n2   (0.41182753443717957, 0.43715113401412964)  \n3    (0.4149283170700073, 0.43994614481925964)  \n4    (0.3965647518634796, 0.43019914627075195)  \n5    (0.40933969616889954, 0.4361450970172882)  \n6    (0.4173908531665802, 0.44009149074554443)  \n7    (0.4154447317123413, 0.44206416606903076)  \n8    (0.43160393834114075, 0.4555301368236542)  \n9     (0.3997713625431061, 0.4256591200828552)  \n10    (0.4357140064239502, 0.4571026563644409)  \n11    (0.3793778419494629, 0.4185808300971985)  \n12     (0.403612345457077, 0.4448481798171997)  \n13   (0.43098145723342896, 0.4522445499897003)  \n14  (0.41417694091796875, 0.44656673073768616)  \n15    (0.3373766541481018, 0.3738952577114105)  \n16  (0.37900257110595703, 0.41854792833328247)  \n17    (0.4161585867404938, 0.4394432008266449)  \n18   (0.4141071140766144, 0.43690264225006104)  \n19   (0.4108852446079254, 0.44386982917785645)  \n20    (0.4099666178226471, 0.4412413537502289)  \n21   (0.4151562750339508, 0.43860846757888794)  \n22    (0.4097568094730377, 0.4487169682979584)  \n23   (0.39374008774757385, 0.4180237650871277)  \n24    (0.42183107137680054, 0.447795569896698)  \n25  (0.41227850317955017, 0.43745577335357666)  \n26   (0.43160393834114075, 0.4555301368236542)  \n27  (0.42156991362571716, 0.44693002104759216)  \n28   (0.40747544169425964, 0.4364244341850281)  \n29   (0.39564046263694763, 0.4301024377346039)  ",
      "text/html": "<div>\n<style scoped>\n    .dataframe tbody tr th:only-of-type {\n        vertical-align: middle;\n    }\n\n    .dataframe tbody tr th {\n        vertical-align: top;\n    }\n\n    .dataframe thead th {\n        text-align: right;\n    }\n</style>\n<table border=\"1\" class=\"dataframe\">\n  <thead>\n    <tr style=\"text-align: right;\">\n      <th></th>\n      <th>latent_0</th>\n      <th>latent_1</th>\n      <th>latent_2</th>\n      <th>latent_3</th>\n      <th>latent_4</th>\n    </tr>\n  </thead>\n  <tbody>\n    <tr>\n      <th>0</th>\n      <td>(-0.7765084505081177, 0.8492642641067505)</td>\n      <td>(-0.6868811249732971, -0.5173223614692688)</td>\n      <td>(0.8242583274841309, 0.9251696467399597)</td>\n      <td>(-0.012952489778399467, 0.22680383920669556)</td>\n      <td>(0.3673562705516815, 0.40485963225364685)</td>\n    </tr>\n    <tr>\n      <th>1</th>\n      <td>(-0.8585031628608704, 0.9316088557243347)</td>\n      <td>(-0.8622390031814575, -0.7729978561401367)</td>\n      <td>(0.19446705281734467, 0.31376346945762634)</td>\n      <td>(-0.32918792963027954, -0.11791165173053741)</td>\n      <td>(0.4180728793144226, 0.44775527715682983)</td>\n    </tr>\n    <tr>\n      <th>2</th>\n      <td>(-0.8887576460838318, 0.8104000091552734)</td>\n      <td>(-0.8697034120559692, -0.8379101753234863)</td>\n      <td>(0.4621098041534424, 0.5899912118911743)</td>\n      <td>(0.24366429448127747, 0.5814866423606873)</td>\n      <td>(0.41182753443717957, 0.43715113401412964)</td>\n    </tr>\n    <tr>\n      <th>3</th>\n      <td>(-0.891346275806427, 0.8252321481704712)</td>\n      <td>(-0.8828123807907104, -0.8327988982200623)</td>\n      <td>(-0.6613290309906006, -0.5527585744857788)</td>\n      <td>(0.0436871163547039, 0.5350978374481201)</td>\n      <td>(0.4149283170700073, 0.43994614481925964)</td>\n    </tr>\n    <tr>\n      <th>4</th>\n      <td>(-0.8302910327911377, 0.8510634899139404)</td>\n      <td>(-0.7596262097358704, -0.6580173969268799)</td>\n      <td>(0.7710660696029663, 0.8674556612968445)</td>\n      <td>(-0.41172006726264954, -0.29197126626968384)</td>\n      <td>(0.3965647518634796, 0.43019914627075195)</td>\n    </tr>\n    <tr>\n      <th>5</th>\n      <td>(-0.8774911165237427, 0.8689196109771729)</td>\n      <td>(-0.8308090567588806, -0.7748058438301086)</td>\n      <td>(-0.7064618468284607, -0.5784295797348022)</td>\n      <td>(-0.08981524407863617, 0.21866285800933838)</td>\n      <td>(0.40933969616889954, 0.4361450970172882)</td>\n    </tr>\n    <tr>\n      <th>6</th>\n      <td>(-0.813652515411377, 0.9303461909294128)</td>\n      <td>(-0.7559762001037598, -0.6348975896835327)</td>\n      <td>(0.4778107702732086, 0.5552428960800171)</td>\n      <td>(-0.9327465295791626, -0.878257155418396)</td>\n      <td>(0.4173908531665802, 0.44009149074554443)</td>\n    </tr>\n    <tr>\n      <th>7</th>\n      <td>(-0.8918163180351257, 0.8215555548667908)</td>\n      <td>(-0.8879584074020386, -0.8362358212471008)</td>\n      <td>(-0.6617382168769836, -0.5581051111221313)</td>\n      <td>(0.04886578768491745, 0.534077525138855)</td>\n      <td>(0.4154447317123413, 0.44206416606903076)</td>\n    </tr>\n    <tr>\n      <th>8</th>\n      <td>(-0.8597190380096436, 0.9176217913627625)</td>\n      <td>(-0.8724467754364014, -0.7885980606079102)</td>\n      <td>(0.5929041504859924, 0.702237069606781)</td>\n      <td>(-0.4262736141681671, -0.3070667088031769)</td>\n      <td>(0.43160393834114075, 0.4555301368236542)</td>\n    </tr>\n    <tr>\n      <th>9</th>\n      <td>(-0.8119357228279114, 0.9120294451713562)</td>\n      <td>(-0.8077560067176819, -0.7037320733070374)</td>\n      <td>(-0.6945511102676392, -0.5675864219665527)</td>\n      <td>(-0.21035125851631165, -0.06004250422120094)</td>\n      <td>(0.3997713625431061, 0.4256591200828552)</td>\n    </tr>\n    <tr>\n      <th>10</th>\n      <td>(-0.8605494499206543, 0.9168228507041931)</td>\n      <td>(-0.8765024542808533, -0.7955154180526733)</td>\n      <td>(0.5927069783210754, 0.7002080678939819)</td>\n      <td>(-0.42415350675582886, -0.30799201130867004)</td>\n      <td>(0.4357140064239502, 0.4571026563644409)</td>\n    </tr>\n    <tr>\n      <th>11</th>\n      <td>(-0.781313419342041, 0.8825215101242065)</td>\n      <td>(-0.7270344495773315, -0.5844343900680542)</td>\n      <td>(-0.9060482978820801, -0.770852267742157)</td>\n      <td>(-0.5120927095413208, -0.16131848096847534)</td>\n      <td>(0.3793778419494629, 0.4185808300971985)</td>\n    </tr>\n    <tr>\n      <th>12</th>\n      <td>(-0.5812690854072571, 0.884520947933197)</td>\n      <td>(-0.8268442153930664, -0.7041034698486328)</td>\n      <td>(-0.5537307262420654, -0.4138636589050293)</td>\n      <td>(-0.4670500159263611, -0.3035726249217987)</td>\n      <td>(0.403612345457077, 0.4448481798171997)</td>\n    </tr>\n    <tr>\n      <th>13</th>\n      <td>(-0.9082592129707336, 0.8753805756568909)</td>\n      <td>(-0.8713651895523071, -0.8448883295059204)</td>\n      <td>(0.5466424822807312, 0.6453088521957397)</td>\n      <td>(-0.03390651196241379, 0.22543953359127045)</td>\n      <td>(0.43098145723342896, 0.4522445499897003)</td>\n    </tr>\n    <tr>\n      <th>14</th>\n      <td>(-0.8913565874099731, 0.8021671175956726)</td>\n      <td>(-0.8879135847091675, -0.8554039001464844)</td>\n      <td>(0.02646019123494625, 0.11339391767978668)</td>\n      <td>(0.11167716234922409, 0.498644083738327)</td>\n      <td>(0.41417694091796875, 0.44656673073768616)</td>\n    </tr>\n    <tr>\n      <th>15</th>\n      <td>(-0.7101905941963196, 0.8931400775909424)</td>\n      <td>(-0.5036751627922058, -0.28378546237945557)</td>\n      <td>(-0.9004932045936584, -0.7301619052886963)</td>\n      <td>(-0.916327714920044, -0.8637435436248779)</td>\n      <td>(0.3373766541481018, 0.3738952577114105)</td>\n    </tr>\n    <tr>\n      <th>16</th>\n      <td>(-0.725786030292511, 0.9378209710121155)</td>\n      <td>(-0.6834557056427002, -0.5225651860237122)</td>\n      <td>(-0.7793806195259094, -0.6556613445281982)</td>\n      <td>(-0.7818816900253296, -0.5868407487869263)</td>\n      <td>(0.37900257110595703, 0.41854792833328247)</td>\n    </tr>\n    <tr>\n      <th>17</th>\n      <td>(-0.7634315490722656, 0.9242356419563293)</td>\n      <td>(-0.7846751809120178, -0.6875585317611694)</td>\n      <td>(-0.1338140070438385, -0.003417834173887968)</td>\n      <td>(-0.8375024795532227, -0.6690403819084167)</td>\n      <td>(0.4161585867404938, 0.4394432008266449)</td>\n    </tr>\n    <tr>\n      <th>18</th>\n      <td>(-0.8681212067604065, 0.9222232103347778)</td>\n      <td>(-0.8317585587501526, -0.7572488188743591)</td>\n      <td>(0.6477559208869934, 0.7537147402763367)</td>\n      <td>(-0.27278634905815125, -0.10097866505384445)</td>\n      <td>(0.4141071140766144, 0.43690264225006104)</td>\n    </tr>\n    <tr>\n      <th>19</th>\n      <td>(-0.7407313585281372, 0.9418672919273376)</td>\n      <td>(-0.789257824420929, -0.650385856628418)</td>\n      <td>(-0.40505948662757874, -0.32038724422454834)</td>\n      <td>(-0.8375698328018188, -0.6886756420135498)</td>\n      <td>(0.4108852446079254, 0.44386982917785645)</td>\n    </tr>\n    <tr>\n      <th>20</th>\n      <td>(-0.7379592061042786, 0.942484974861145)</td>\n      <td>(-0.7862932085990906, -0.6502547860145569)</td>\n      <td>(-0.39756670594215393, -0.3171703517436981)</td>\n      <td>(-0.8369964361190796, -0.6881397366523743)</td>\n      <td>(0.4099666178226471, 0.4412413537502289)</td>\n    </tr>\n    <tr>\n      <th>21</th>\n      <td>(-0.7639383673667908, 0.9242982268333435)</td>\n      <td>(-0.7832765579223633, -0.6856403946876526)</td>\n      <td>(-0.1365251988172531, -0.0034324966836720705)</td>\n      <td>(-0.835160493850708, -0.6651954650878906)</td>\n      <td>(0.4151562750339508, 0.43860846757888794)</td>\n    </tr>\n    <tr>\n      <th>22</th>\n      <td>(-0.7376089692115784, 0.9023829698562622)</td>\n      <td>(-0.83864825963974, -0.7261684536933899)</td>\n      <td>(-0.002572235418483615, 0.18157824873924255)</td>\n      <td>(-0.511723518371582, -0.3430829346179962)</td>\n      <td>(0.4097568094730377, 0.4487169682979584)</td>\n    </tr>\n    <tr>\n      <th>23</th>\n      <td>(-0.8069631457328796, 0.8928559422492981)</td>\n      <td>(-0.6765441298484802, -0.5501782298088074)</td>\n      <td>(0.7213441133499146, 0.7718115448951721)</td>\n      <td>(-0.7047476172447205, -0.5857224464416504)</td>\n      <td>(0.39374008774757385, 0.4180237650871277)</td>\n    </tr>\n    <tr>\n      <th>24</th>\n      <td>(-0.791279137134552, 0.9316089153289795)</td>\n      <td>(-0.7833287715911865, -0.6859828233718872)</td>\n      <td>(0.34514594078063965, 0.3870358169078827)</td>\n      <td>(-0.8420066833496094, -0.6866903305053711)</td>\n      <td>(0.42183107137680054, 0.447795569896698)</td>\n    </tr>\n    <tr>\n      <th>25</th>\n      <td>(-0.8881803154945374, 0.8126311302185059)</td>\n      <td>(-0.8714573979377747, -0.8384782671928406)</td>\n      <td>(0.45750007033348083, 0.5932682156562805)</td>\n      <td>(0.24208681285381317, 0.5842639207839966)</td>\n      <td>(0.41227850317955017, 0.43745577335357666)</td>\n    </tr>\n    <tr>\n      <th>26</th>\n      <td>(-0.8597190380096436, 0.9176217913627625)</td>\n      <td>(-0.8724467754364014, -0.7885980606079102)</td>\n      <td>(0.5929041504859924, 0.702237069606781)</td>\n      <td>(-0.4262736141681671, -0.3070667088031769)</td>\n      <td>(0.43160393834114075, 0.4555301368236542)</td>\n    </tr>\n    <tr>\n      <th>27</th>\n      <td>(-0.905778169631958, 0.868549108505249)</td>\n      <td>(-0.860957682132721, -0.8296994566917419)</td>\n      <td>(0.5425866842269897, 0.6464794874191284)</td>\n      <td>(-0.016379715874791145, 0.23381772637367249)</td>\n      <td>(0.42156991362571716, 0.44693002104759216)</td>\n    </tr>\n    <tr>\n      <th>28</th>\n      <td>(-0.8763910531997681, 0.8640660047531128)</td>\n      <td>(-0.8247830867767334, -0.7698591351509094)</td>\n      <td>(-0.7006140947341919, -0.5786754488945007)</td>\n      <td>(-0.08918329328298569, 0.21832287311553955)</td>\n      <td>(0.40747544169425964, 0.4364244341850281)</td>\n    </tr>\n    <tr>\n      <th>29</th>\n      <td>(-0.8293594121932983, 0.851601779460907)</td>\n      <td>(-0.7561842799186707, -0.6506199836730957)</td>\n      <td>(0.7715620398521423, 0.8665159344673157)</td>\n      <td>(-0.4082062244415283, -0.2876599431037903)</td>\n      <td>(0.39564046263694763, 0.4301024377346039)</td>\n    </tr>\n  </tbody>\n</table>\n</div>"
     },
     "metadata": {},
     "output_type": "display_data"
    }
   ],
   "source": [
    "latent_factors = [list(zip(*lfr.values)) for lfr in latent_factors_range]\n",
    "\n",
    "df = pd.DataFrame(latent_factors, columns = [f'latent_{i}' for i in range(len(latent_factors[0]))])\n",
    "display(df)"
   ],
   "metadata": {
    "collapsed": false,
    "ExecuteTime": {
     "end_time": "2023-05-31T21:14:05.242993Z",
     "start_time": "2023-05-31T21:14:05.207839Z"
    }
   }
  },
  {
   "cell_type": "code",
   "execution_count": 23,
   "outputs": [
    {
     "name": "stdout",
     "output_type": "stream",
     "text": [
      "Final intersection for column latent_0: (-0.5812690854072571, 0.8021671175956726)\n",
      "Zero intersection for colum  latent_1\n",
      "Zero intersection for colum  latent_2\n",
      "Zero intersection for colum  latent_3\n",
      "Zero intersection for colum  latent_4\n"
     ]
    }
   ],
   "source": [
    "def float_range_intersection(first_pair, second_pair):\n",
    "    x0, y0 = first_pair\n",
    "    x1, y1 = second_pair\n",
    "\n",
    "    if y0 < x1 or y1 < x0:\n",
    "      return None\n",
    "\n",
    "    return max(x0, x1), min(y0, y1)\n",
    "\n",
    "for col in df.columns:\n",
    "    column_values = df[col].values\n",
    "    for i in range(len(column_values)-1):\n",
    "        if i == 0:\n",
    "            first_pair = column_values[i]\n",
    "        second_pair = column_values[i+1]\n",
    "        intersection = float_range_intersection(first_pair, second_pair)\n",
    "        if not intersection:\n",
    "            print(f\"Zero intersection for colum  {col}\")\n",
    "            break\n",
    "        first_pair = intersection\n",
    "    else:\n",
    "        print(f\"Final intersection for column {col}: {intersection}\")"
   ],
   "metadata": {
    "collapsed": false,
    "ExecuteTime": {
     "end_time": "2023-05-31T21:14:07.422565Z",
     "start_time": "2023-05-31T21:14:07.405281Z"
    }
   }
  },
  {
   "cell_type": "code",
   "execution_count": 82,
   "outputs": [
    {
     "name": "stdout",
     "output_type": "stream",
     "text": [
      "94/94 [==============================] - 0s 924us/step\n"
     ]
    }
   ],
   "source": [
    "locked_dataframe = get_locked_dataframe(df=test_embedding.df,\n",
    "                                        locked_columns=['destination', 'user_pattern', 'week_day', 'month', 'time'],\n",
    "                                        seed=5)\n",
    "\n",
    "locked_embedding = AutoencoderEmbedding(df=locked_dataframe, embedding_dim=EMBEDDING_DIM, noise=False)\n",
    "\n",
    "latent_space = encoder_model.predict(x = [locked_embedding.words_embeddings, locked_embedding.time_embedding])"
   ],
   "metadata": {
    "collapsed": false,
    "ExecuteTime": {
     "end_time": "2023-05-31T22:02:54.280310Z",
     "start_time": "2023-05-31T22:02:50.448897Z"
    }
   }
  },
  {
   "cell_type": "code",
   "execution_count": 83,
   "outputs": [
    {
     "data": {
      "text/plain": "<Figure size 1000x1000 with 1 Axes>",
      "image/png": "[encoded data removed]"
     },
     "metadata": {},
     "output_type": "display_data"
    }
   ],
   "source": [
    "tsne = TSNE(n_components=2, random_state=15)\n",
    "tsne_latent_space = tsne.fit_transform(latent_space)\n",
    "\n",
    "# Scatter plot tsne_latent_space\n",
    "plt.figure(figsize=(10, 10))\n",
    "plt.title(\"T-SNE plot of latent space - Changes only in origin column\")\n",
    "\n",
    "origin_values = set(locked_embedding.df['origin'].values)\n",
    "for i, origin in enumerate(origin_values):\n",
    "    plt.scatter(tsne_latent_space[locked_embedding.df['origin'] == origin, 0],\n",
    "                tsne_latent_space[locked_embedding.df['origin'] == origin, 1],\n",
    "                label=origin)\n",
    "plt.legend()\n",
    "plt.savefig(SAVE_PATH + \"tsne_origin\", dpi=300)\n",
    "plt.show()"
   ],
   "metadata": {
    "collapsed": false,
    "ExecuteTime": {
     "end_time": "2023-05-31T22:03:04.261022Z",
     "start_time": "2023-05-31T22:02:57.302107Z"
    }
   }
  },
  {
   "cell_type": "code",
   "execution_count": 75,
   "outputs": [
    {
     "data": {
      "text/plain": "<Figure size 1000x1000 with 1 Axes>",
      "image/png": "[encoded data removed]"
     },
     "metadata": {},
     "output_type": "display_data"
    }
   ],
   "source": [
    "plt.figure(figsize=(10, 10))\n",
    "plt.title(\"T-SNE plot of latent space - Changes only in origin column\")\n",
    "\n",
    "user_pattern_values = set(locked_embedding.df['user_pattern'].values)\n",
    "for i, user_pattern in enumerate(user_pattern_values):\n",
    "    plt.scatter(tsne_latent_space[locked_embedding.df['user_pattern'] == user_pattern, 0],\n",
    "                tsne_latent_space[locked_embedding.df['user_pattern'] == user_pattern, 1],\n",
    "                label=user_pattern)\n",
    "plt.legend()\n",
    "plt.show()"
   ],
   "metadata": {
    "collapsed": false,
    "ExecuteTime": {
     "end_time": "2023-05-27T16:38:18.969638Z",
     "start_time": "2023-05-27T16:38:18.760945Z"
    }
   }
  },
  {
   "cell_type": "code",
   "execution_count": 72,
   "outputs": [
    {
     "data": {
      "text/plain": "<Figure size 1000x1000 with 1 Axes>",
      "image/png": "[encoded data removed]"
     },
     "metadata": {},
     "output_type": "display_data"
    }
   ],
   "source": [
    "# PCA on latent space to analyze relationship between latent factors and input variables\n",
    "\n",
    "pca = PCA(n_components=2)\n",
    "pca_latent_space = pca.fit_transform(latent_space)\n",
    "\n",
    "# Scatter plot pca_latent_space with legend of origin\n",
    "plt.figure(figsize=(10, 10))\n",
    "plt.title(\"PCA plot of latent space - Changes only in origin column\")\n",
    "\n",
    "for i, origin in enumerate(origin_values):\n",
    "    plt.scatter(pca_latent_space[locked_embedding.df['origin'] == origin, 0],\n",
    "                pca_latent_space[locked_embedding.df['origin'] == origin, 1],\n",
    "                label=origin)\n",
    "\n",
    "plt.legend()\n",
    "plt.show()"
   ],
   "metadata": {
    "collapsed": false,
    "ExecuteTime": {
     "end_time": "2023-05-27T16:36:17.576411Z",
     "start_time": "2023-05-27T16:36:17.215178Z"
    }
   }
  },
  {
   "cell_type": "code",
   "execution_count": 74,
   "outputs": [
    {
     "data": {
      "text/plain": "<Figure size 1000x1000 with 1 Axes>",
      "image/png": "[encoded data removed]"
     },
     "metadata": {},
     "output_type": "display_data"
    }
   ],
   "source": [
    "# PCA on latent space to analyze relationship between latent factors and input variables\n",
    "\n",
    "pca = PCA(n_components=2)\n",
    "pca_latent_space = pca.fit_transform(latent_space)\n",
    "\n",
    "# Scatter plot pca_latent_space with legend of origin\n",
    "plt.figure(figsize=(10, 10))\n",
    "plt.title(\"PCA plot of latent space - Changes only in origin column\")\n",
    "\n",
    "for i, user_pattern in enumerate(user_pattern_values):\n",
    "    plt.scatter(pca_latent_space[locked_embedding.df['user_pattern'] == user_pattern, 0],\n",
    "                pca_latent_space[locked_embedding.df['user_pattern'] == user_pattern, 1],\n",
    "                label=user_pattern)\n",
    "\n",
    "plt.legend()\n",
    "plt.show()"
   ],
   "metadata": {
    "collapsed": false,
    "ExecuteTime": {
     "end_time": "2023-05-27T16:37:04.009265Z",
     "start_time": "2023-05-27T16:37:03.782797Z"
    }
   }
  },
  {
   "cell_type": "code",
   "execution_count": 76,
   "outputs": [
    {
     "data": {
      "text/plain": "   Latent factor  Pearson correlation  Pearson p-value  Spearman correlation  \\\n0              1            -0.020351         0.265133             -0.018771   \n1              2             0.020087         0.271380              0.018176   \n2              3             0.008296         0.649676              0.004417   \n3              4            -0.004559         0.802910             -0.004893   \n4              5            -0.003577         0.844732              0.000318   \n\n   Spearman p-valus  \n0          0.304040  \n1          0.319631  \n2          0.808894  \n3          0.788798  \n4          0.986124  ",
      "text/html": "<div>\n<style scoped>\n    .dataframe tbody tr th:only-of-type {\n        vertical-align: middle;\n    }\n\n    .dataframe tbody tr th {\n        vertical-align: top;\n    }\n\n    .dataframe thead th {\n        text-align: right;\n    }\n</style>\n<table border=\"1\" class=\"dataframe\">\n  <thead>\n    <tr style=\"text-align: right;\">\n      <th></th>\n      <th>Latent factor</th>\n      <th>Pearson correlation</th>\n      <th>Pearson p-value</th>\n      <th>Spearman correlation</th>\n      <th>Spearman p-valus</th>\n    </tr>\n  </thead>\n  <tbody>\n    <tr>\n      <th>0</th>\n      <td>1</td>\n      <td>-0.020351</td>\n      <td>0.265133</td>\n      <td>-0.018771</td>\n      <td>0.304040</td>\n    </tr>\n    <tr>\n      <th>1</th>\n      <td>2</td>\n      <td>0.020087</td>\n      <td>0.271380</td>\n      <td>0.018176</td>\n      <td>0.319631</td>\n    </tr>\n    <tr>\n      <th>2</th>\n      <td>3</td>\n      <td>0.008296</td>\n      <td>0.649676</td>\n      <td>0.004417</td>\n      <td>0.808894</td>\n    </tr>\n    <tr>\n      <th>3</th>\n      <td>4</td>\n      <td>-0.004559</td>\n      <td>0.802910</td>\n      <td>-0.004893</td>\n      <td>0.788798</td>\n    </tr>\n    <tr>\n      <th>4</th>\n      <td>5</td>\n      <td>-0.003577</td>\n      <td>0.844732</td>\n      <td>0.000318</td>\n      <td>0.986124</td>\n    </tr>\n  </tbody>\n</table>\n</div>"
     },
     "metadata": {},
     "output_type": "display_data"
    },
    {
     "name": "stdout",
     "output_type": "stream",
     "text": [
      "\n"
     ]
    }
   ],
   "source": [
    "# Calculate Pearson correlation\n",
    "pearson_corr = []\n",
    "p_values_pearson = []\n",
    "for i in range(latent_dim):\n",
    "    correlation, p_value = pearsonr(latent_space[:, i], test_embedding.df_embedding['time'])\n",
    "    pearson_corr.append(correlation)\n",
    "    p_values_pearson.append(p_value)\n",
    "\n",
    "# Calculate Spearman correlation\n",
    "spearman_corr = []\n",
    "p_values_spearman = []\n",
    "for i in range(latent_dim):\n",
    "    correlation, p_value = spearmanr(latent_space[:, i], test_embedding.df_embedding['time'])\n",
    "    spearman_corr.append(correlation)\n",
    "    p_values_spearman.append(p_value)\n",
    "\n",
    "# Create dataframe with results\n",
    "resultados_correlacion = pd.DataFrame({'Latent factor': range(1, 6),\n",
    "                                      'Pearson correlation': pearson_corr,\n",
    "                                      'Pearson p-value': p_values_pearson,\n",
    "                                      'Spearman correlation': spearman_corr,\n",
    "                                      'Spearman p-valus': p_values_spearman})\n",
    "\n",
    "# Print results\n",
    "display(resultados_correlacion)\n",
    "print()"
   ],
   "metadata": {
    "collapsed": false,
    "ExecuteTime": {
     "end_time": "2023-05-27T16:40:09.450419Z",
     "start_time": "2023-05-27T16:40:09.413017Z"
    }
   }
  },
  {
   "cell_type": "code",
   "execution_count": 77,
   "outputs": [
    {
     "name": "stdout",
     "output_type": "stream",
     "text": [
      "Train score: -1615060.8584698683\n",
      "Test score: -1575013.2950884283\n"
     ]
    }
   ],
   "source": [
    "df_test = test_embedding.df.copy()\n",
    "df_test.drop(columns=['arrival_date'], inplace=True)\n",
    "df_test['time'] = df_test['time'].apply(lambda x: np.float32(int(datetime.timedelta(hours=x.hour, minutes=x.minute, seconds=x.second).total_seconds())\n",
    "))\n",
    "df_test = pd.get_dummies(df_test, columns=['origin', 'destination', 'user_pattern', 'week_day', 'month'])\n",
    "\n",
    "# df_test to numpy array\n",
    "df_test = df_test.to_numpy()\n",
    "\n",
    "# Split data into train and test\n",
    "X_train, X_test, y_train, y_test = train_test_split(df_test,\n",
    "                                                    latent_space,\n",
    "                                                    test_size=0.2,\n",
    "                                                    random_state=0)\n",
    "\n",
    "# Train MLPRegressor\n",
    "regressor = MLPRegressor(hidden_layer_sizes=(100, 100, 100),\n",
    "                         activation='relu',\n",
    "                         solver='adam',\n",
    "                         max_iter=1000,\n",
    "                         random_state=0).fit(X_train, y_train)\n",
    "\n",
    "# Evaluate MLPRegressor\n",
    "print(f\"Train score: {regressor.score(X_train, y_train)}\")\n",
    "print(f\"Test score: {regressor.score(X_test, y_test)}\")"
   ],
   "metadata": {
    "collapsed": false,
    "ExecuteTime": {
     "end_time": "2023-05-27T16:40:51.504911Z",
     "start_time": "2023-05-27T16:40:50.168686Z"
    }
   }
  },
  {
   "cell_type": "code",
   "execution_count": null,
   "outputs": [],
   "source": [],
   "metadata": {
    "collapsed": false
   }
  }
 ],
 "metadata": {
  "kernelspec": {
   "display_name": "Python 3",
   "language": "python",
   "name": "python3"
  },
  "language_info": {
   "codemirror_mode": {
    "name": "ipython",
    "version": 3
   },
   "file_extension": ".py",
   "mimetype": "text/x-python",
   "name": "python",
   "nbconvert_exporter": "python",
   "pygments_lexer": "ipython3",
   "version": "3.8.6"
  }
 },
 "nbformat": 4,
 "nbformat_minor": 0
}
