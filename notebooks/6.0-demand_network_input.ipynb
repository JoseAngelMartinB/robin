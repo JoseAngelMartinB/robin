{
 "cells": [
  {
   "attachments": {},
   "cell_type": "markdown",
   "metadata": {},
   "source": [
    "# Interpretability of autoencoder latent space for passengers demand-sensitive planning on high-speed railways (IWANN 2023)\n"
   ]
  },
  {
   "cell_type": "code",
   "execution_count": 1,
   "outputs": [],
   "source": [
    "import datetime\n",
    "import pandas as pd\n",
    "import nltk\n",
    "import numpy as np\n",
    "import os\n",
    "import random\n",
    "\n",
    "from feature_engine.creation import CyclicalFeatures\n",
    "from nltk.corpus import wordnet\n",
    "from sklearn.preprocessing import MinMaxScaler\n",
    "from scipy import spatial\n",
    "from typing import Tuple"
   ],
   "metadata": {
    "collapsed": false,
    "ExecuteTime": {
     "end_time": "2023-05-16T10:21:12.828557Z",
     "start_time": "2023-05-16T10:21:06.759656Z"
    }
   }
  },
  {
   "cell_type": "code",
   "execution_count": 2,
   "outputs": [
    {
     "name": "stderr",
     "output_type": "stream",
     "text": [
      "[nltk_data] Downloading package wordnet to /Users/uclm/nltk_data...\n",
      "[nltk_data]   Package wordnet is already up-to-date!\n"
     ]
    },
    {
     "data": {
      "text/plain": "True"
     },
     "execution_count": 2,
     "metadata": {},
     "output_type": "execute_result"
    }
   ],
   "source": [
    "# Download wordnet if not already downloaded\n",
    "nltk.download('wordnet')"
   ],
   "metadata": {
    "collapsed": false,
    "ExecuteTime": {
     "end_time": "2023-05-16T10:23:16.702451Z",
     "start_time": "2023-05-16T10:23:16.594396Z"
    }
   }
  },
  {
   "cell_type": "code",
   "execution_count": 3,
   "outputs": [
    {
     "name": "stdout",
     "output_type": "stream",
     "text": [
      "[['madrid', 'guadalajara', 'calatayud', 'zaragoza', 'lleida', 'tarragona', 'barcelona', 'girona', 'figueres']]\n"
     ]
    }
   ],
   "source": [
    "from src.robin.supply.entities import Supply\n",
    "\n",
    "path_config_supply = '../configs/test_case/supply_data.yml'\n",
    "\n",
    "supply = Supply.from_yaml(path_config_supply)\n",
    "\n",
    "# Get set of corridors\n",
    "corridors = []\n",
    "for service in supply.services:\n",
    "    if service.line.corridor not in corridors:\n",
    "        corridors.append(service.line.corridor)\n",
    "\n",
    "# Get set of paths\n",
    "paths = []\n",
    "for corridor in corridors:\n",
    "    for path in corridor.paths:\n",
    "        if path not in paths:\n",
    "            paths.append(path)\n",
    "\n",
    "# Parse paths of Station objects to paths of station mame\n",
    "paths = [[station.name.replace(\"-\", \" \").split(\" \")[0].lower() for station in path] for path in paths]\n",
    "print(paths)"
   ],
   "metadata": {
    "collapsed": false,
    "ExecuteTime": {
     "end_time": "2023-05-16T10:23:17.523070Z",
     "start_time": "2023-05-16T10:23:17.431130Z"
    }
   }
  },
  {
   "cell_type": "code",
   "execution_count": 4,
   "outputs": [],
   "source": [
    "def get_word_syn(word: str) -> str:\n",
    "    \"\"\"\n",
    "    Get a random synonym of a word\n",
    "\n",
    "    Args:\n",
    "        word (str): Word to get the synonym from\n",
    "\n",
    "    Returns:\n",
    "        str: Synonym of the word\n",
    "    \"\"\"\n",
    "    word_synset = wordnet.synsets(word)\n",
    "    if len(word_synset) > 0:\n",
    "        station_synset = word_synset[0]\n",
    "        station_lemmas = station_synset.lemmas()\n",
    "        if len(station_lemmas) > 0:\n",
    "            word_lemma = random.choice(station_lemmas)\n",
    "            return word_lemma.name().lower()\n",
    "\n",
    "    return word\n",
    "\n",
    "def get_random_pair(paths: list[list]) -> Tuple[str, str]:\n",
    "    \"\"\"\n",
    "    Get a random pair of stations from a path\n",
    "\n",
    "    Args:\n",
    "        paths (list[list]): List of stations\n",
    "\n",
    "    Returns:\n",
    "        Tuple[str, str]: Tuple with the origin and destination stations\n",
    "    \"\"\"\n",
    "    random_path = random.choice(paths)  # Choose a random path\n",
    "\n",
    "    origin_index = random.randint(0, len(random_path) - 2)  # Choose a random origin station\n",
    "    destination_index = random.randint(origin_index + 1, len(random_path) - 1)  # Choose a random destination station\n",
    "\n",
    "    origin_station = random_path[origin_index]\n",
    "    destination_station = random_path[destination_index]\n",
    "    return origin_station, destination_station"
   ],
   "metadata": {
    "collapsed": false,
    "ExecuteTime": {
     "end_time": "2023-05-16T10:23:18.323720Z",
     "start_time": "2023-05-16T10:23:18.311273Z"
    }
   }
  },
  {
   "cell_type": "code",
   "execution_count": 5,
   "outputs": [],
   "source": [
    "stations_csv_path = f'../data/renfe/renfe_stations.csv'\n",
    "\n",
    "def get_renfe_station_id(adif_id: str, stations_df: pd.DataFrame) -> str:\n",
    "    \"\"\"\n",
    "    Returns the Station name given the Adif station id.\n",
    "\n",
    "    Args:\n",
    "        adif_id (str): Adif station id.\n",
    "        stations_df (pd.DataFrame): Dataframe with the stations' information.\n",
    "\n",
    "    Returns:\n",
    "        str: Station name.\n",
    "    \"\"\"\n",
    "    station_name = stations_df[stations_df['stop_id'] == adif_id]['stop_name'].values[0]\n",
    "    station_name = station_name.replace(\"-\", \" \").split(\" \")[0].lower()\n",
    "    return station_name\n",
    "\n",
    "stations_df = pd.read_csv(stations_csv_path, dtype={'stop_id': str, 'renfe_id': str})"
   ],
   "metadata": {
    "collapsed": false,
    "ExecuteTime": {
     "end_time": "2023-05-16T10:23:19.676890Z",
     "start_time": "2023-05-16T10:23:19.663217Z"
    }
   }
  },
  {
   "cell_type": "code",
   "execution_count": 6,
   "outputs": [
    {
     "name": "stdout",
     "output_type": "stream",
     "text": [
      "        origin destination user_pattern        arrival_date\n",
      "0  guadalajara   tarragona      tourist 2022-02-11 20:17:00\n",
      "1       madrid      lleida      tourist 2028-05-02 10:47:00\n",
      "2    barcelona    figueres     business 2024-03-01 13:14:00\n",
      "3       madrid   barcelona     business 2030-04-27 02:18:00\n",
      "4       madrid      girona     business 2026-06-16 11:44:00\n",
      "       year     month_sin     month_cos   day_sin   day_cos  hour_sin  \\\n",
      "0  0.111111  8.660254e-01  5.000000e-01  0.790776 -0.612106 -0.730836   \n",
      "1  0.777778  5.000000e-01 -8.660254e-01  0.394356  0.918958  0.398401   \n",
      "2  0.333333  1.000000e+00  6.123234e-17  0.201299  0.979530 -0.398401   \n",
      "3  1.000000  8.660254e-01 -5.000000e-01 -0.724793  0.688967  0.519584   \n",
      "4  0.555556  1.224647e-16 -1.000000e+00 -0.101168 -0.994869  0.136167   \n",
      "\n",
      "   hour_cos  minute_sin  minute_cos  \n",
      "0  0.682553    0.971430   -0.237327  \n",
      "1 -0.917211   -0.957422    0.288692  \n",
      "2 -0.917211    0.996812    0.079786  \n",
      "3  0.854419    0.940700   -0.339239  \n",
      "4 -0.990686   -0.999646   -0.026621  \n"
     ]
    }
   ],
   "source": [
    "n_passengers = 10000\n",
    "\n",
    "pairs = []\n",
    "for _ in range(n_passengers):\n",
    "    pairs.append(get_random_pair(paths))\n",
    "\n",
    "df = pd.DataFrame(pairs, columns=['origin', 'destination'])\n",
    "\n",
    "user_patterns = (\"business\", \"student\", \"tourist\")\n",
    "\n",
    "df['user_pattern'] = [random.choice(user_patterns) for _ in range(n_passengers)]\n",
    "\n",
    "random_timedelta = lambda: datetime.timedelta(days=random.randint(0, 365*10), hours=random.randint(0, 24), minutes=random.randint(0, 60))\n",
    "df['arrival_date'] = [datetime.datetime(2021, 1, 1) + random_timedelta() for _ in range(n_passengers)]\n",
    "print(df.head())"
   ],
   "metadata": {
    "collapsed": false,
    "ExecuteTime": {
     "end_time": "2023-05-16T10:23:20.717759Z",
     "start_time": "2023-05-16T10:23:20.585520Z"
    }
   }
  },
  {
   "cell_type": "code",
   "execution_count": 28,
   "outputs": [],
   "source": [
    "class AutoencoderEmbedding:\n",
    "    def __init__(self, df: pd.DataFrame, embedding_dim: int = 50):\n",
    "        self.df = df\n",
    "        self.df_embedding = pd.DataFrame()\n",
    "        self.embedding_dim = embedding_dim\n",
    "        self.embedding_dict = self._get_embedding_dict()\n",
    "        self.scaler = MinMaxScaler()\n",
    "        self.cyclical = CyclicalFeatures(variables=['month', 'day', 'hour', 'minute'], drop_original=True)\n",
    "        self.df_time = self._get_time_embdding_df(df)\n",
    "        self.input_arrays = self._get_input_arrays()\n",
    "\n",
    "    def _get_time_embdding_df(self, df: pd.DataFrame) -> pd.DataFrame:\n",
    "        df_time = pd.DataFrame()\n",
    "        df_time['year'] = df['arrival_date'].apply(lambda x: x.year)\n",
    "        df_time['month'] = df['arrival_date'].apply(lambda x: x.month)\n",
    "        df_time['day'] = df['arrival_date'].apply(lambda x: x.day)\n",
    "        df_time['hour'] = df['arrival_date'].apply(lambda x: x.hour)\n",
    "        df_time['minute'] = df['arrival_date'].apply(lambda x: x.minute)\n",
    "        df_time['year'] = self.scaler.fit_transform(df_time['year'].to_numpy().reshape(-1, 1))\n",
    "        df_time = self.cyclical.fit_transform(df_time)\n",
    "        return df_time\n",
    "\n",
    "    def _get_embedding_dict(self):\n",
    "        # Get bag of words\n",
    "        words_set = set(self.df[['origin', 'destination', 'user_pattern', ]].values.flatten())\n",
    "        word_index = {word: index for index, word in enumerate(words_set)}\n",
    "\n",
    "        embeddings_index = {}\n",
    "        f = open(os.path.join('../data/pretrained/glove6B/glove.6B.50d.txt'))\n",
    "\n",
    "        # Read GloVe embeddings\n",
    "        for line in f:\n",
    "            values = line.split()\n",
    "            word = values[0]\n",
    "            coefs = np.asarray(values[1:], dtype=np.float32)\n",
    "            embeddings_index[word] = coefs\n",
    "        f.close()\n",
    "\n",
    "        # Create embedding matrix\n",
    "        embedding_matrix = np.zeros((len(word_index) + 1, self.embedding_dim))\n",
    "        embedding_dict = {}\n",
    "        for word, i in word_index.items():\n",
    "            embedding_vector = embeddings_index.get(word)\n",
    "            if embedding_vector is not None:\n",
    "                embedding_matrix[i] = embedding_vector\n",
    "                embedding_dict[word] = embedding_vector\n",
    "\n",
    "        return embedding_dict\n",
    "\n",
    "    def _get_input_arrays(self):\n",
    "        self.df_embedding['origin'] = self.df['origin'].apply(lambda x: self.embedding_dict.get(x))\n",
    "        self.df_embedding['destination'] = self.df['destination'].apply(lambda x: self.embedding_dict.get(x))\n",
    "        self.df_embedding['user_pattern'] = self.df['user_pattern'].apply(lambda x: self.embedding_dict.get(x))\n",
    "        self.df_embedding['scaled_date'] = self.df_time.values.tolist()\n",
    "        self.df_embedding['scaled_date'] = self.df_embedding['scaled_date'].apply(lambda x: np.asarray(x + [0.0] * (self.embedding_dim - len(x)), dtype=np.float32))\n",
    "        self.df_embedding = self.df_embedding[['origin', 'destination', 'user_pattern', 'scaled_date']]\n",
    "        input_data = self.df_embedding[['origin', 'destination', 'user_pattern', 'scaled_date']].values.tolist()\n",
    "        return np.array([np.asarray(row, dtype=np.float32) for row in input_data])"
   ],
   "metadata": {
    "collapsed": false,
    "ExecuteTime": {
     "end_time": "2023-05-16T12:14:42.628654Z",
     "start_time": "2023-05-16T12:14:42.623210Z"
    }
   }
  },
  {
   "cell_type": "code",
   "execution_count": 34,
   "outputs": [
    {
     "name": "stdout",
     "output_type": "stream",
     "text": [
      "Train data shape:  (7000, 4)\n",
      "Test data shape:  (3000, 4)\n",
      "Test data autoencoder input shape:  (3000, 4, 50)\n",
      "First test data instance:  origin                     zaragoza\n",
      "destination                  lleida\n",
      "user_pattern                tourist\n",
      "arrival_date    2027-09-01 14:26:00\n",
      "Name: 6252, dtype: object\n",
      "First test data instance embedded:  [[ 1.0642000e+00  8.9938998e-02 -2.8715000e-01  8.2471001e-01\n",
      "   3.1062999e-01 -1.4798000e+00  1.2028000e-01  7.4489999e-01\n",
      "  -1.2919000e+00  3.9737001e-01  4.7150001e-01 -5.3482997e-01\n",
      "  -4.8049000e-01 -1.2998000e+00  3.2826000e-01 -1.3085001e+00\n",
      "  -6.7916000e-01 -2.0625000e-01 -7.2320002e-01  4.1637999e-01\n",
      "  -1.2895000e+00 -6.9963002e-01 -2.3631001e-01  7.0174998e-01\n",
      "  -6.1497998e-01  2.0193000e-01  1.3290000e+00  2.5294000e-01\n",
      "  -9.3714997e-02 -1.6535001e-01  9.9605000e-01  1.2007000e+00\n",
      "  -2.6729000e-01 -4.2034999e-01 -1.5881000e-01  6.3906002e-01\n",
      "  -7.3977000e-01  1.3119000e+00  6.1136001e-01 -5.9197003e-01\n",
      "   1.3032000e+00  1.6094001e-01 -2.7686000e-02 -9.4120002e-01\n",
      "  -6.8287998e-01  6.5116000e-01  4.7975999e-01 -3.2516000e-01\n",
      "   1.3911999e+00 -5.0467002e-01]\n",
      " [ 2.3779000e-01 -7.0155001e-01 -1.1230000e+00  3.6107999e-01\n",
      "  -1.1387000e+00 -4.9992001e-01  2.8795001e-01  8.7089002e-01\n",
      "  -3.2365999e-01  8.5312003e-01  1.5365000e+00 -1.2579000e+00\n",
      "   4.5028999e-01 -8.7620997e-01 -3.8490000e-01 -4.5242000e-01\n",
      "  -1.0222000e+00  9.0671998e-01  6.0101002e-01  8.9573997e-01\n",
      "  -1.5187000e+00 -5.4763001e-01 -2.3907000e-01  1.3125000e+00\n",
      "  -3.0361000e-01  9.5008999e-01 -8.4021002e-01 -1.0230000e-01\n",
      "  -4.1569000e-01 -2.4651000e-01  2.0699000e-01  8.5848999e-01\n",
      "  -8.0492997e-01  5.5102998e-01  3.7380001e-01  3.9285001e-01\n",
      "   5.0441003e-01  7.7363998e-01  7.3249000e-01  9.4046003e-01\n",
      "   7.2067998e-02 -4.6803999e-01 -1.0545000e+00 -4.8751000e-01\n",
      "  -1.0242000e+00  1.0786999e+00  2.5623000e-01  2.4465001e-01\n",
      "   1.3440000e-01 -6.6684002e-01]\n",
      " [ 9.7263002e-01  1.0474000e+00 -2.5339001e-01  5.0992000e-01\n",
      "  -7.9485998e-02 -8.7990999e-01 -1.5079000e+00 -2.2672001e-01\n",
      "   1.0800000e+00  4.8978001e-02  1.8205000e-02 -7.0902002e-01\n",
      "   9.5130002e-01  2.6561001e-01  7.2587001e-01  1.6435000e-01\n",
      "   4.3399000e-01  1.5015000e-01 -5.2520001e-01  3.9366999e-01\n",
      "   7.1188998e-01 -1.8510999e-02 -1.4629000e+00  1.0692000e+00\n",
      "   3.3531001e-01 -9.9202001e-01 -3.6039001e-01  1.4279000e-01\n",
      "   4.7913000e-01  2.4130000e-01  2.2198999e+00  6.9556999e-01\n",
      "   6.5129000e-01  7.4740998e-02  4.8242000e-01  4.8047000e-01\n",
      "  -1.8956999e-01 -2.2236000e-01 -9.2659998e-01  4.2076999e-01\n",
      "  -8.1674999e-01  7.0775998e-01  1.1882000e+00 -3.2196999e-01\n",
      "   1.2777001e-01 -7.9299003e-01 -7.8859001e-01 -2.6431999e-01\n",
      "   1.4907000e+00 -6.3972998e-01]\n",
      " [ 6.6666669e-01 -1.0000000e+00 -1.8369701e-16  2.0129852e-01\n",
      "   9.7952992e-01 -6.3108796e-01 -7.7571130e-01  3.6416057e-01\n",
      "  -9.3133616e-01  0.0000000e+00  0.0000000e+00  0.0000000e+00\n",
      "   0.0000000e+00  0.0000000e+00  0.0000000e+00  0.0000000e+00\n",
      "   0.0000000e+00  0.0000000e+00  0.0000000e+00  0.0000000e+00\n",
      "   0.0000000e+00  0.0000000e+00  0.0000000e+00  0.0000000e+00\n",
      "   0.0000000e+00  0.0000000e+00  0.0000000e+00  0.0000000e+00\n",
      "   0.0000000e+00  0.0000000e+00  0.0000000e+00  0.0000000e+00\n",
      "   0.0000000e+00  0.0000000e+00  0.0000000e+00  0.0000000e+00\n",
      "   0.0000000e+00  0.0000000e+00  0.0000000e+00  0.0000000e+00\n",
      "   0.0000000e+00  0.0000000e+00  0.0000000e+00  0.0000000e+00\n",
      "   0.0000000e+00  0.0000000e+00  0.0000000e+00  0.0000000e+00\n",
      "   0.0000000e+00  0.0000000e+00]]\n"
     ]
    }
   ],
   "source": [
    "from sklearn.model_selection import train_test_split\n",
    "\n",
    "df_train, df_test = train_test_split(df, test_size=0.3, random_state=42)\n",
    "\n",
    "print(\"Train data shape: \", df_train.shape)\n",
    "print(\"Test data shape: \", df_test.shape)\n",
    "\n",
    "train_embedding = AutoencoderEmbedding(df_train)\n",
    "test_embedding = AutoencoderEmbedding(df_test)\n",
    "\n",
    "print(\"Test data autoencoder input shape: \", test_embedding.input_arrays.shape)\n",
    "print(\"First test data instance: \", test_embedding.df.iloc[0])\n",
    "print(\"First test data instance embedded: \", test_embedding.input_arrays[0])"
   ],
   "metadata": {
    "collapsed": false,
    "ExecuteTime": {
     "end_time": "2023-05-16T12:18:11.421161Z",
     "start_time": "2023-05-16T12:18:04.269794Z"
    }
   }
  },
  {
   "cell_type": "markdown",
   "source": [
    "## Embedding Model"
   ],
   "metadata": {
    "collapsed": false
   }
  },
  {
   "cell_type": "markdown",
   "source": [
    "## Autoencoder model"
   ],
   "metadata": {
    "collapsed": false
   }
  },
  {
   "cell_type": "code",
   "execution_count": 10,
   "outputs": [
    {
     "name": "stderr",
     "output_type": "stream",
     "text": [
      "2023-05-16 12:23:33.073371: I tensorflow/core/platform/cpu_feature_guard.cc:193] This TensorFlow binary is optimized with oneAPI Deep Neural Network Library (oneDNN) to use the following CPU instructions in performance-critical operations:  SSE4.1 SSE4.2 AVX AVX2 FMA\n",
      "To enable them in other operations, rebuild TensorFlow with the appropriate compiler flags.\n",
      "2023-05-16 12:23:40.503419: I tensorflow/core/platform/cpu_feature_guard.cc:193] This TensorFlow binary is optimized with oneAPI Deep Neural Network Library (oneDNN) to use the following CPU instructions in performance-critical operations:  SSE4.1 SSE4.2 AVX AVX2 FMA\n",
      "To enable them in other operations, rebuild TensorFlow with the appropriate compiler flags.\n"
     ]
    },
    {
     "name": "stdout",
     "output_type": "stream",
     "text": [
      "Model: \"model_2\"\n",
      "_________________________________________________________________\n",
      " Layer (type)                Output Shape              Param #   \n",
      "=================================================================\n",
      " input_1 (InputLayer)        [(None, 4, 50)]           0         \n",
      "                                                                 \n",
      " gru (GRU)                   (None, 4, 64)             22272     \n",
      "                                                                 \n",
      " gru_1 (GRU)                 (None, 32)                9408      \n",
      "                                                                 \n",
      " dense (Dense)               (None, 4)                 132       \n",
      "                                                                 \n",
      " model_1 (Functional)        (None, 4, 50)             25714     \n",
      "                                                                 \n",
      "=================================================================\n",
      "Total params: 57,526\n",
      "Trainable params: 57,526\n",
      "Non-trainable params: 0\n",
      "_________________________________________________________________\n"
     ]
    }
   ],
   "source": [
    "import tensorflow as tf\n",
    "from keras.layers import Input, GRU, Dense, RepeatVector, TimeDistributed\n",
    "from keras.models import Model\n",
    "\n",
    "input_shape = (4, EMBEDDING_DIM)\n",
    "output_shape = (4, EMBEDDING_DIM)\n",
    "\n",
    "latent_dim = 4\n",
    "\n",
    "inputs = Input(shape=input_shape)\n",
    "\n",
    "encoder = GRU(64, return_sequences=True)(inputs)\n",
    "encoder = GRU(32)(encoder)\n",
    "\n",
    "dense1 = Dense(4)(encoder)\n",
    "decoder_inputs = Input(shape=(latent_dim,))\n",
    "decoder = RepeatVector(input_shape[0])(decoder_inputs)\n",
    "decoder = GRU(32, return_sequences=True)(decoder)\n",
    "decoder = GRU(64, return_sequences=True)(decoder)\n",
    "decoder_outputs = TimeDistributed(Dense(output_shape[1]))(decoder)\n",
    "\n",
    "encoder_model = Model(inputs, dense1)\n",
    "decoder_model = Model(decoder_inputs, decoder_outputs)\n",
    "\n",
    "model = Model(inputs, decoder_model(dense1))\n",
    "\n",
    "model.compile(optimizer='adam', loss='mse', metrics=[tf.keras.metrics.MeanSquaredError()])\n",
    "model.summary()"
   ],
   "metadata": {
    "collapsed": false,
    "ExecuteTime": {
     "end_time": "2023-05-16T10:23:41.788059Z",
     "start_time": "2023-05-16T10:23:33.033048Z"
    }
   }
  },
  {
   "cell_type": "code",
   "execution_count": 20,
   "outputs": [
    {
     "name": "stdout",
     "output_type": "stream",
     "text": [
      "Model: \"model_5\"\n",
      "__________________________________________________________________________________________________\n",
      " Layer (type)                   Output Shape         Param #     Connected to                     \n",
      "==================================================================================================\n",
      " input_3 (InputLayer)           [(None, 4, 50)]      0           []                               \n",
      "                                                                                                  \n",
      " gru_4 (GRU)                    (None, 4, 64)        22272       ['input_3[0][0]']                \n",
      "                                                                                                  \n",
      " gru_5 (GRU)                    (None, 32)           9408        ['gru_4[0][0]']                  \n",
      "                                                                                                  \n",
      " dense_2 (Dense)                (None, 4)            132         ['gru_5[0][0]']                  \n",
      "                                                                                                  \n",
      " dense_3 (Dense)                (None, 4)            132         ['gru_5[0][0]']                  \n",
      "                                                                                                  \n",
      " lambda (Lambda)                (None, 4)            0           ['dense_2[0][0]',                \n",
      "                                                                  'dense_3[0][0]']                \n",
      "                                                                                                  \n",
      " model_4 (Functional)           (None, 4, 50)        25714       ['lambda[0][0]']                 \n",
      "                                                                                                  \n",
      " tf.__operators__.add (TFOpLamb  (None, 4)           0           ['dense_3[0][0]']                \n",
      " da)                                                                                              \n",
      "                                                                                                  \n",
      " tf.math.square (TFOpLambda)    (None, 4)            0           ['dense_2[0][0]']                \n",
      "                                                                                                  \n",
      " tf.math.subtract (TFOpLambda)  (None, 4)            0           ['tf.__operators__.add[0][0]',   \n",
      "                                                                  'tf.math.square[0][0]']         \n",
      "                                                                                                  \n",
      " tf.math.exp (TFOpLambda)       (None, 4)            0           ['dense_3[0][0]']                \n",
      "                                                                                                  \n",
      " tf.reshape_1 (TFOpLambda)      (None,)              0           ['model_4[0][0]']                \n",
      "                                                                                                  \n",
      " tf.reshape (TFOpLambda)        (None,)              0           ['input_3[0][0]']                \n",
      "                                                                                                  \n",
      " tf.math.subtract_1 (TFOpLambda  (None, 4)           0           ['tf.math.subtract[0][0]',       \n",
      " )                                                                'tf.math.exp[0][0]']            \n",
      "                                                                                                  \n",
      " tf.convert_to_tensor (TFOpLamb  (None,)             0           ['tf.reshape_1[0][0]']           \n",
      " da)                                                                                              \n",
      "                                                                                                  \n",
      " tf.cast (TFOpLambda)           (None,)              0           ['tf.reshape[0][0]']             \n",
      "                                                                                                  \n",
      " tf.math.reduce_sum (TFOpLambda  (None,)             0           ['tf.math.subtract_1[0][0]']     \n",
      " )                                                                                                \n",
      "                                                                                                  \n",
      " tf.math.squared_difference (TF  (None,)             0           ['tf.convert_to_tensor[0][0]',   \n",
      " OpLambda)                                                        'tf.cast[0][0]']                \n",
      "                                                                                                  \n",
      " tf.math.multiply (TFOpLambda)  (None,)              0           ['tf.math.reduce_sum[0][0]']     \n",
      "                                                                                                  \n",
      " tf.math.reduce_mean (TFOpLambd  ()                  0           ['tf.math.squared_difference[0][0\n",
      " a)                                                              ]']                              \n",
      "                                                                                                  \n",
      " tf.math.multiply_1 (TFOpLambda  (None,)             0           ['tf.math.multiply[0][0]']       \n",
      " )                                                                                                \n",
      "                                                                                                  \n",
      " tf.__operators__.add_1 (TFOpLa  (None,)             0           ['tf.math.reduce_mean[0][0]',    \n",
      " mbda)                                                            'tf.math.multiply_1[0][0]']     \n",
      "                                                                                                  \n",
      " tf.math.reduce_mean_1 (TFOpLam  ()                  0           ['tf.__operators__.add_1[0][0]'] \n",
      " bda)                                                                                             \n",
      "                                                                                                  \n",
      " add_loss (AddLoss)             ()                   0           ['tf.math.reduce_mean_1[0][0]']  \n",
      "                                                                                                  \n",
      "==================================================================================================\n",
      "Total params: 57,658\n",
      "Trainable params: 57,658\n",
      "Non-trainable params: 0\n",
      "__________________________________________________________________________________________________\n"
     ]
    }
   ],
   "source": [
    "import tensorflow as tf\n",
    "from keras.layers import Input, GRU, Dense, RepeatVector, TimeDistributed\n",
    "from keras.models import Model\n",
    "from keras import backend as K\n",
    "\n",
    "beta = 5\n",
    "\n",
    "input_shape = (4, EMBEDDING_DIM)\n",
    "output_shape = (4, EMBEDDING_DIM)\n",
    "latent_dim = 4\n",
    "\n",
    "inputs = Input(shape=input_shape)\n",
    "\n",
    "# Encoder\n",
    "encoder = GRU(64, return_sequences=True)(inputs)\n",
    "encoder = GRU(32)(encoder)\n",
    "\n",
    "# Latent layer\n",
    "z_mean = Dense(latent_dim)(encoder)\n",
    "z_log_var = Dense(latent_dim)(encoder)\n",
    "\n",
    "def sampling(args):\n",
    "    z_mean, z_log_var = args\n",
    "    epsilon = K.random_normal(shape=(K.shape(z_mean)[0], latent_dim), mean=0., stddev=1.)\n",
    "    return z_mean + K.exp(0.5 * z_log_var) * epsilon\n",
    "\n",
    "z = tf.keras.layers.Lambda(sampling)([z_mean, z_log_var])\n",
    "\n",
    "# Decoder\n",
    "decoder_inputs = Input(shape=(latent_dim,))\n",
    "decoder = RepeatVector(input_shape[0])(decoder_inputs)\n",
    "decoder = GRU(32, return_sequences=True)(decoder)\n",
    "decoder = GRU(64, return_sequences=True)(decoder)\n",
    "decoder_outputs = TimeDistributed(Dense(output_shape[1]))(decoder)\n",
    "\n",
    "# Use z_mean as encoder output to obtain a disentangled latent representation\n",
    "encoder_model = Model(inputs, z_mean)\n",
    "\n",
    "decoder_model = Model(decoder_inputs, decoder_outputs)\n",
    "\n",
    "# VAE model\n",
    "vae_outputs = decoder_model(z)\n",
    "model = Model(inputs, vae_outputs)\n",
    "\n",
    "# Loss function\n",
    "reconstruction_loss = tf.keras.losses.mean_squared_error(K.flatten(inputs), K.flatten(vae_outputs))\n",
    "kl_loss = -0.5 * K.sum(1 + z_log_var - K.square(z_mean) - K.exp(z_log_var), axis=-1)\n",
    "vae_loss = K.mean(reconstruction_loss + beta * kl_loss)\n",
    "model.add_loss(vae_loss)\n",
    "\n",
    "model.compile(optimizer='rmsprop', loss='mse', metrics=[tf.keras.metrics.MeanSquaredError()])\n",
    "model.summary()"
   ],
   "metadata": {
    "collapsed": false,
    "ExecuteTime": {
     "end_time": "2023-05-16T10:44:16.818555Z",
     "start_time": "2023-05-16T10:44:15.125566Z"
    }
   }
  },
  {
   "cell_type": "code",
   "execution_count": 22,
   "outputs": [
    {
     "name": "stdout",
     "output_type": "stream",
     "text": [
      "Model: \"model_8\"\n",
      "__________________________________________________________________________________________________\n",
      " Layer (type)                   Output Shape         Param #     Connected to                     \n",
      "==================================================================================================\n",
      " input_5 (InputLayer)           [(None, 4, 50)]      0           []                               \n",
      "                                                                                                  \n",
      " conv1d (Conv1D)                (None, 4, 64)        9664        ['input_5[0][0]']                \n",
      "                                                                                                  \n",
      " conv1d_1 (Conv1D)              (None, 4, 32)        6176        ['conv1d[0][0]']                 \n",
      "                                                                                                  \n",
      " global_max_pooling1d (GlobalMa  (None, 32)          0           ['conv1d_1[0][0]']               \n",
      " xPooling1D)                                                                                      \n",
      "                                                                                                  \n",
      " dense_5 (Dense)                (None, 4)            132         ['global_max_pooling1d[0][0]']   \n",
      "                                                                                                  \n",
      " dense_6 (Dense)                (None, 4)            132         ['global_max_pooling1d[0][0]']   \n",
      "                                                                                                  \n",
      " lambda_1 (Lambda)              (None, 4)            0           ['dense_5[0][0]',                \n",
      "                                                                  'dense_6[0][0]']                \n",
      "                                                                                                  \n",
      " model_7 (Functional)           (None, 4, 50)        19602       ['lambda_1[0][0]']               \n",
      "                                                                                                  \n",
      " tf.__operators__.add_2 (TFOpLa  (None, 4)           0           ['dense_6[0][0]']                \n",
      " mbda)                                                                                            \n",
      "                                                                                                  \n",
      " tf.math.square_1 (TFOpLambda)  (None, 4)            0           ['dense_5[0][0]']                \n",
      "                                                                                                  \n",
      " tf.math.subtract_2 (TFOpLambda  (None, 4)           0           ['tf.__operators__.add_2[0][0]', \n",
      " )                                                                'tf.math.square_1[0][0]']       \n",
      "                                                                                                  \n",
      " tf.math.exp_1 (TFOpLambda)     (None, 4)            0           ['dense_6[0][0]']                \n",
      "                                                                                                  \n",
      " tf.reshape_3 (TFOpLambda)      (None,)              0           ['model_7[0][0]']                \n",
      "                                                                                                  \n",
      " tf.reshape_2 (TFOpLambda)      (None,)              0           ['input_5[0][0]']                \n",
      "                                                                                                  \n",
      " tf.math.subtract_3 (TFOpLambda  (None, 4)           0           ['tf.math.subtract_2[0][0]',     \n",
      " )                                                                'tf.math.exp_1[0][0]']          \n",
      "                                                                                                  \n",
      " tf.convert_to_tensor_1 (TFOpLa  (None,)             0           ['tf.reshape_3[0][0]']           \n",
      " mbda)                                                                                            \n",
      "                                                                                                  \n",
      " tf.cast_1 (TFOpLambda)         (None,)              0           ['tf.reshape_2[0][0]']           \n",
      "                                                                                                  \n",
      " tf.math.reduce_sum_1 (TFOpLamb  (None,)             0           ['tf.math.subtract_3[0][0]']     \n",
      " da)                                                                                              \n",
      "                                                                                                  \n",
      " tf.math.squared_difference_1 (  (None,)             0           ['tf.convert_to_tensor_1[0][0]', \n",
      " TFOpLambda)                                                      'tf.cast_1[0][0]']              \n",
      "                                                                                                  \n",
      " tf.math.multiply_2 (TFOpLambda  (None,)             0           ['tf.math.reduce_sum_1[0][0]']   \n",
      " )                                                                                                \n",
      "                                                                                                  \n",
      " tf.math.reduce_mean_2 (TFOpLam  ()                  0           ['tf.math.squared_difference_1[0]\n",
      " bda)                                                            [0]']                            \n",
      "                                                                                                  \n",
      " tf.math.multiply_3 (TFOpLambda  (None,)             0           ['tf.math.multiply_2[0][0]']     \n",
      " )                                                                                                \n",
      "                                                                                                  \n",
      " tf.__operators__.add_3 (TFOpLa  (None,)             0           ['tf.math.reduce_mean_2[0][0]',  \n",
      " mbda)                                                            'tf.math.multiply_3[0][0]']     \n",
      "                                                                                                  \n",
      " tf.math.reduce_mean_3 (TFOpLam  ()                  0           ['tf.__operators__.add_3[0][0]'] \n",
      " bda)                                                                                             \n",
      "                                                                                                  \n",
      " add_loss_1 (AddLoss)           ()                   0           ['tf.math.reduce_mean_3[0][0]']  \n",
      "                                                                                                  \n",
      "==================================================================================================\n",
      "Total params: 35,706\n",
      "Trainable params: 35,706\n",
      "Non-trainable params: 0\n",
      "__________________________________________________________________________________________________\n"
     ]
    }
   ],
   "source": [
    "import tensorflow as tf\n",
    "from keras.layers import Input, Conv1D, GlobalMaxPooling1D, Conv1DTranspose\n",
    "from keras.models import Model\n",
    "from keras import backend as K\n",
    "\n",
    "beta = 5\n",
    "SEQUENCE_LENGTH = 4\n",
    "\n",
    "input_shape = (SEQUENCE_LENGTH, EMBEDDING_DIM)\n",
    "latent_dim = 4\n",
    "\n",
    "inputs = Input(shape=input_shape)\n",
    "\n",
    "# Encoder\n",
    "encoder = Conv1D(64, kernel_size=3, activation='relu', padding='same')(inputs)\n",
    "encoder = Conv1D(32, kernel_size=3, activation='relu', padding='same')(encoder)\n",
    "encoder = GlobalMaxPooling1D()(encoder)\n",
    "\n",
    "# Latent space\n",
    "z_mean = Dense(latent_dim)(encoder)\n",
    "z_log_var = Dense(latent_dim)(encoder)\n",
    "\n",
    "# Sampling function\n",
    "def sampling(args):\n",
    "    z_mean, z_log_var = args\n",
    "    epsilon = K.random_normal(shape=(K.shape(z_mean)[0], latent_dim), mean=0., stddev=1.)\n",
    "    return z_mean + K.exp(0.5 * z_log_var) * epsilon\n",
    "\n",
    "z = tf.keras.layers.Lambda(sampling)([z_mean, z_log_var])\n",
    "\n",
    "# Decoder\n",
    "decoder = Dense(32 * SEQUENCE_LENGTH, activation='relu')(z)\n",
    "decoder = tf.keras.layers.Reshape((SEQUENCE_LENGTH, 32))(decoder)\n",
    "decoder = Conv1DTranspose(32, kernel_size=3, activation='relu', padding='same')(decoder)\n",
    "decoder = Conv1DTranspose(64, kernel_size=3, activation='relu', padding='same')(decoder)\n",
    "decoder_outputs = Conv1DTranspose(EMBEDDING_DIM, kernel_size=3, padding='same')(decoder)\n",
    "\n",
    "encoder_model = Model(inputs, z_mean)\n",
    "decoder_model = Model(z, decoder_outputs)\n",
    "\n",
    "vae_outputs = decoder_model(z)\n",
    "model = Model(inputs, vae_outputs)\n",
    "\n",
    "# Loss function\n",
    "reconstruction_loss = tf.keras.losses.mean_squared_error(K.flatten(inputs), K.flatten(vae_outputs))\n",
    "kl_loss = -0.5 * K.sum(1 + z_log_var - K.square(z_mean) - K.exp(z_log_var), axis=-1)\n",
    "vae_loss = K.mean(reconstruction_loss + beta * kl_loss)\n",
    "model.add_loss(vae_loss)\n",
    "\n",
    "model.compile(optimizer='rmsprop', loss='mse', metrics=[tf.keras.metrics.MeanSquaredError()])\n",
    "model.summary()"
   ],
   "metadata": {
    "collapsed": false,
    "ExecuteTime": {
     "end_time": "2023-05-16T10:49:00.804428Z",
     "start_time": "2023-05-16T10:49:00.522179Z"
    }
   }
  },
  {
   "cell_type": "code",
   "execution_count": 23,
   "outputs": [
    {
     "name": "stdout",
     "output_type": "stream",
     "text": [
      "Epoch 1/10\n",
      "313/313 [==============================] - 2s 2ms/step - loss: 0.4830 - mean_squared_error: 0.1952\n",
      "Epoch 2/10\n",
      "313/313 [==============================] - 1s 2ms/step - loss: 0.3652 - mean_squared_error: 0.1815\n",
      "Epoch 3/10\n",
      "313/313 [==============================] - 1s 2ms/step - loss: 0.3627 - mean_squared_error: 0.1811\n",
      "Epoch 4/10\n",
      "313/313 [==============================] - 1s 2ms/step - loss: 0.3620 - mean_squared_error: 0.1810\n",
      "Epoch 5/10\n",
      "313/313 [==============================] - 1s 2ms/step - loss: 0.3617 - mean_squared_error: 0.1808\n",
      "Epoch 6/10\n",
      "313/313 [==============================] - 1s 2ms/step - loss: 0.3616 - mean_squared_error: 0.1808\n",
      "Epoch 7/10\n",
      "313/313 [==============================] - 1s 2ms/step - loss: 0.3615 - mean_squared_error: 0.1807\n",
      "Epoch 8/10\n",
      "313/313 [==============================] - 1s 2ms/step - loss: 0.3614 - mean_squared_error: 0.1807\n",
      "Epoch 9/10\n",
      "313/313 [==============================] - 1s 2ms/step - loss: 0.3611 - mean_squared_error: 0.1806\n",
      "Epoch 10/10\n",
      "313/313 [==============================] - 1s 2ms/step - loss: 0.3613 - mean_squared_error: 0.1807\n"
     ]
    }
   ],
   "source": [
    "history = model.fit(input_vectors, input_vectors, epochs=10, batch_size=32, verbose=1)"
   ],
   "metadata": {
    "collapsed": false,
    "ExecuteTime": {
     "end_time": "2023-05-16T10:49:15.718277Z",
     "start_time": "2023-05-16T10:49:07.129636Z"
    }
   }
  },
  {
   "cell_type": "markdown",
   "source": [
    "## Plot history"
   ],
   "metadata": {
    "collapsed": false
   }
  },
  {
   "cell_type": "code",
   "execution_count": 12,
   "outputs": [
    {
     "data": {
      "text/plain": "<Figure size 640x480 with 1 Axes>",
      "image/png": "[encoded data removed]"
     },
     "metadata": {},
     "output_type": "display_data"
    },
    {
     "data": {
      "text/plain": "<Figure size 640x480 with 1 Axes>",
      "image/png": "[encoded data removed]"
     },
     "metadata": {},
     "output_type": "display_data"
    }
   ],
   "source": [
    "# Plot history loss and mse\n",
    "\n",
    "import matplotlib.pyplot as plt\n",
    "\n",
    "plt.plot(history.history['loss'], label='train')\n",
    "plt.title('Loss')\n",
    "plt.xlabel('Epochs')\n",
    "plt.ylabel('Loss')\n",
    "plt.show()\n",
    "\n",
    "plt.plot(history.history['mean_squared_error'], label='mse')\n",
    "plt.title('Mean Squared Error')\n",
    "plt.xlabel('Epochs')\n",
    "plt.ylabel('MSE')\n",
    "plt.show()"
   ],
   "metadata": {
    "collapsed": false,
    "ExecuteTime": {
     "end_time": "2023-05-16T10:24:30.827913Z",
     "start_time": "2023-05-16T10:24:29.517857Z"
    }
   }
  },
  {
   "cell_type": "markdown",
   "source": [
    "## Make predictions"
   ],
   "metadata": {
    "collapsed": false
   }
  },
  {
   "cell_type": "code",
   "execution_count": 13,
   "outputs": [],
   "source": [
    "def find_closest_embeddings(embedding, embedding_dict):\n",
    "    return sorted(embedding_dict.keys(), key=lambda word: spatial.distance.euclidean(embedding_dict[word], embedding))[0]"
   ],
   "metadata": {
    "collapsed": false,
    "ExecuteTime": {
     "end_time": "2023-05-16T10:24:46.425142Z",
     "start_time": "2023-05-16T10:24:46.415758Z"
    }
   }
  },
  {
   "cell_type": "code",
   "execution_count": 19,
   "outputs": [
    {
     "name": "stdout",
     "output_type": "stream",
     "text": [
      "Input - Random passenger data: \n",
      "origin                  guadalajara\n",
      "destination               calatayud\n",
      "user_pattern                tourist\n",
      "arrival_date    2027-05-08 06:13:00\n",
      "Name: 7656, dtype: object\n",
      "1/1 [==============================] - 0s 17ms/step\n",
      "Passenger latent representation:  [-6.1458554  3.8044672 -1.9451089  1.5636346]\n",
      "\n",
      "1/1 [==============================] - 0s 18ms/step\n",
      "Output - Passenger reconstruction: \n",
      "['guadalajara', 'calatayud', 'tourist']\n",
      "Time prediction:  [ 0.48759338 -0.1452848  -0.1781346  -0.00495388 -0.36946034 -0.1675351\n",
      "  0.00949998  0.04923538  0.15281405 -0.02114248 -0.01651346  0.0246156\n",
      " -0.05150862  0.02118156  0.03440116 -0.02508917  0.02160763 -0.02805975\n",
      " -0.03147184 -0.00565742 -0.07573982  0.03409792 -0.00905403  0.00550454\n",
      " -0.0231083  -0.06281231  0.05571634  0.02883877 -0.03558009 -0.01564036\n",
      "  0.01500612 -0.0157849  -0.04870672 -0.0508803  -0.02118523 -0.02023008\n",
      "  0.02356025 -0.01290327 -0.01915103  0.03371991  0.0238549   0.02204522\n",
      "  0.04423984 -0.03774731 -0.00405285  0.00537327  0.01620717  0.00291295\n",
      " -0.00309066  0.01559024]\n",
      "2025\n"
     ]
    }
   ],
   "source": [
    "random_index = np.random.randint(0, len(input_vectors))\n",
    "random_vector = input_vectors[random_index]\n",
    "\n",
    "print(\"Input - Random passenger data: \")\n",
    "print(df.iloc[random_index])\n",
    "\n",
    "latent_passenger = encoder_model.predict(np.array([random_vector]))[0]\n",
    "print(\"Passenger latent representation: \", latent_passenger)\n",
    "print()\n",
    "\n",
    "prediction = model.predict(np.array([random_vector]))[0]\n",
    "\n",
    "print(\"Output - Passenger reconstruction: \")\n",
    "decoded_prediction = [find_closest_embeddings(word_vector, embedding_dict) for word_vector in prediction[:3]]\n",
    "print(decoded_prediction)\n",
    "\n",
    "print(\"Time prediction: \", prediction[-1])\n",
    "predicted_year = scaler.inverse_transform(np.array([prediction[-1][:1]]))\n",
    "print(int(predicted_year[0][0]))"
   ],
   "metadata": {
    "collapsed": false,
    "ExecuteTime": {
     "end_time": "2023-05-16T10:31:21.348222Z",
     "start_time": "2023-05-16T10:31:21.232725Z"
    }
   }
  },
  {
   "cell_type": "markdown",
   "source": [
    "Mes y día como palabra, hora pensar idea para representar (ángulo?)"
   ],
   "metadata": {
    "collapsed": false
   }
  },
  {
   "cell_type": "markdown",
   "source": [
    "## Estudio de la correlación entre factores latentes y la entrada del autoencoder"
   ],
   "metadata": {
    "collapsed": false
   }
  },
  {
   "cell_type": "code",
   "execution_count": null,
   "outputs": [],
   "source": [],
   "metadata": {
    "collapsed": false
   }
  }
 ],
 "metadata": {
  "kernelspec": {
   "display_name": "Python 3",
   "language": "python",
   "name": "python3"
  },
  "language_info": {
   "codemirror_mode": {
    "name": "ipython",
    "version": 3
   },
   "file_extension": ".py",
   "mimetype": "text/x-python",
   "name": "python",
   "nbconvert_exporter": "python",
   "pygments_lexer": "ipython3",
   "version": "3.8.6"
  }
 },
 "nbformat": 4,
 "nbformat_minor": 0
}
