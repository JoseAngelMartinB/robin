{
 "cells": [
  {
   "attachments": {},
   "cell_type": "markdown",
   "metadata": {},
   "source": [
    "# Transform Demand data, so it can be used by a Neural Network"
   ]
  },
  {
   "cell_type": "code",
   "execution_count": 1,
   "outputs": [],
   "source": [
    "import datetime\n",
    "import pandas as pd\n",
    "import numpy as np\n",
    "\n",
    "from scipy import spatial\n",
    "from typing import Tuple"
   ],
   "metadata": {
    "collapsed": false,
    "ExecuteTime": {
     "end_time": "2023-05-05T08:27:15.743247Z",
     "start_time": "2023-05-05T08:27:14.923304Z"
    }
   }
  },
  {
   "attachments": {},
   "cell_type": "markdown",
   "metadata": {},
   "source": [
    "## Generate Demand Data and Passenger objects"
   ]
  },
  {
   "cell_type": "code",
   "execution_count": 2,
   "metadata": {
    "collapsed": false,
    "ExecuteTime": {
     "end_time": "2023-05-05T08:27:17.114696Z",
     "start_time": "2023-05-05T08:27:15.744058Z"
    }
   },
   "outputs": [],
   "source": [
    "from src.robin.demand.entities import Demand, Passenger\n",
    "\n",
    "path_config_demand = '../configs/test_case/demand_data.yml'\n",
    "\n",
    "demand = Demand.from_yaml(path_config_demand)\n",
    "\n",
    "passengers = demand.generate_passengers()"
   ]
  },
  {
   "attachments": {},
   "cell_type": "markdown",
   "metadata": {},
   "source": [
    "## Get passenger relevant information and save it in a dataframe"
   ]
  },
  {
   "cell_type": "code",
   "execution_count": 3,
   "outputs": [
    {
     "name": "stdout",
     "output_type": "stream",
     "text": [
      "  user_pattern origin destination  arrival_day arrival_time\n",
      "0     business  60000       71801      19509.0     7.175927\n",
      "1     business  60000       71801      19509.0     8.415422\n",
      "2     business  04040       71801      19509.0     7.544066\n",
      "3      student  04040       71801      19509.0    20.271843\n",
      "4     business  60000       71801      19509.0     8.302775\n"
     ]
    }
   ],
   "source": [
    "def get_passenger_info(passenger: Passenger) -> Tuple[str, str, str, datetime.datetime, float]:\n",
    "    \"\"\"\n",
    "    Get the information of a passenger and return it as a tuple\n",
    "\n",
    "    Args:\n",
    "        passenger: Passenger object\n",
    "\n",
    "    Returns:\n",
    "        Tuple[str, str, str, datetime.date, float]: Tuple with the information of the passenger\n",
    "    \"\"\"\n",
    "    user_pattern = passenger.user_pattern.name\n",
    "    origin, destination = passenger.market.departure_station, passenger.market.arrival_station\n",
    "    arrival_day = datetime.datetime.combine(passenger.arrival_day.date, datetime.datetime.min.time())\n",
    "    arrival_time = np.asarray(passenger.arrival_time).astype(np.float32)\n",
    "    return user_pattern.lower(), origin, destination, arrival_day, arrival_time\n",
    "\n",
    "# Map a list of Passenger objects to a list of tuples with the passenger information\n",
    "passengers_info = list(map(get_passenger_info, passengers))\n",
    "\n",
    "# Dataframe with the passenger information\n",
    "df = pd.DataFrame(passengers_info, columns=['user_pattern', 'origin', 'destination', 'arrival_day', 'arrival_time'])\n",
    "\n",
    "def elapsed_days(date: datetime.datetime) -> np.ndarray:\n",
    "    \"\"\"\n",
    "    Returns the number of days elapsed since the first day of the year.\n",
    "\n",
    "    Args:\n",
    "        date (datetime.datetime): Datetime object.\n",
    "\n",
    "    Returns:\n",
    "        int: Number of days elapsed since the first day of the year.\n",
    "    \"\"\"\n",
    "    reference_date = datetime.datetime(1970, 1, 1)\n",
    "    return np.asarray((date - reference_date).days * 1.0).astype(np.float32)\n",
    "\n",
    "\n",
    "df['arrival_day'] = df['arrival_day'].apply(elapsed_days)\n",
    "print(df.head())"
   ],
   "metadata": {
    "collapsed": false,
    "ExecuteTime": {
     "end_time": "2023-05-05T08:27:17.196619Z",
     "start_time": "2023-05-05T08:27:17.140964Z"
    }
   }
  },
  {
   "cell_type": "markdown",
   "source": [
    "## Map stations IDs to Stations names"
   ],
   "metadata": {
    "collapsed": false
   }
  },
  {
   "cell_type": "code",
   "execution_count": 4,
   "outputs": [
    {
     "name": "stdout",
     "output_type": "stream",
     "text": [
      "  user_pattern    origin destination  arrival_day arrival_time\n",
      "0     business    madrid   barcelona      19509.0     7.175927\n",
      "1     business    madrid   barcelona      19509.0     8.415422\n",
      "2     business  zaragoza   barcelona      19509.0     7.544066\n",
      "3      student  zaragoza   barcelona      19509.0    20.271843\n",
      "4     business    madrid   barcelona      19509.0     8.302775\n"
     ]
    }
   ],
   "source": [
    "stations_csv_path = f'../data/renfe/renfe_stations.csv'\n",
    "\n",
    "def get_renfe_station_id(adif_id: str, stations_df: pd.DataFrame) -> str:\n",
    "    \"\"\"\n",
    "    Returns the Station name given the Adif station id.\n",
    "\n",
    "    Args:\n",
    "        adif_id (str): Adif station id.\n",
    "        stations_df (pd.DataFrame): Dataframe with the stations' information.\n",
    "\n",
    "    Returns:\n",
    "        str: Station name.\n",
    "    \"\"\"\n",
    "    station_name = stations_df[stations_df['stop_id'] == adif_id]['stop_name'].values[0]\n",
    "    station_name = station_name.replace(\"-\", \" \").split(\" \")[0].lower()\n",
    "    return station_name\n",
    "\n",
    "stations_df = pd.read_csv(stations_csv_path, dtype={'stop_id': str, 'renfe_id': str})\n",
    "\n",
    "df['origin'] = df['origin'].apply(get_renfe_station_id, args=(stations_df,))\n",
    "df['destination'] = df['destination'].apply(get_renfe_station_id, args=(stations_df,))\n",
    "\n",
    "print(df.head())"
   ],
   "metadata": {
    "collapsed": false,
    "ExecuteTime": {
     "end_time": "2023-05-05T08:27:20.397033Z",
     "start_time": "2023-05-05T08:27:17.200717Z"
    }
   }
  },
  {
   "cell_type": "markdown",
   "source": [
    "## Import pre-trained GloVe embeddings"
   ],
   "metadata": {
    "collapsed": false
   }
  },
  {
   "cell_type": "code",
   "execution_count": 5,
   "outputs": [
    {
     "name": "stdout",
     "output_type": "stream",
     "text": [
      "{'madrid', 'zaragoza', 'business', 'student', 'barcelona'}\n"
     ]
    }
   ],
   "source": [
    "# Get bag of words\n",
    "words_set = set(df[['user_pattern', 'origin', 'destination']].values.flatten())\n",
    "\n",
    "print(words_set)"
   ],
   "metadata": {
    "collapsed": false,
    "ExecuteTime": {
     "end_time": "2023-05-05T08:27:20.407450Z",
     "start_time": "2023-05-05T08:27:20.398028Z"
    }
   }
  },
  {
   "cell_type": "code",
   "execution_count": 6,
   "outputs": [
    {
     "name": "stdout",
     "output_type": "stream",
     "text": [
      "Found 400000 word vectors.\n",
      "madrid [ 1.3315     0.72181   -0.060088   0.43948    0.18419   -1.5083\n",
      " -0.48125    0.46037   -1.4088     1.2701     0.68031   -0.59232\n",
      " -1.6325    -0.30376    0.87685   -0.75531   -0.37583   -0.5363\n",
      " -1.0669     0.45537   -0.66694    0.43001   -0.69525    0.67518\n",
      " -0.93783   -0.67933    1.1104     0.37576   -0.36894   -0.083185\n",
      "  2.0346     0.96286   -0.56629   -0.7787    -0.10705   -0.14102\n",
      "  0.07384    0.62338    0.20366    0.0076751  0.71088    0.01501\n",
      "  0.53186   -0.82256   -0.35087    0.30876   -0.065328   0.23722\n",
      "  1.4692    -0.93469  ]\n",
      "zaragoza [ 1.0642    0.089939 -0.28715   0.82471   0.31063  -1.4798    0.12028\n",
      "  0.7449   -1.2919    0.39737   0.4715   -0.53483  -0.48049  -1.2998\n",
      "  0.32826  -1.3085   -0.67916  -0.20625  -0.7232    0.41638  -1.2895\n",
      " -0.69963  -0.23631   0.70175  -0.61498   0.20193   1.329     0.25294\n",
      " -0.093715 -0.16535   0.99605   1.2007   -0.26729  -0.42035  -0.15881\n",
      "  0.63906  -0.73977   1.3119    0.61136  -0.59197   1.3032    0.16094\n",
      " -0.027686 -0.9412   -0.68288   0.65116   0.47976  -0.32516   1.3912\n",
      " -0.50467 ]\n",
      "business [ 0.023693  0.13316   0.023131  0.49833   0.026874 -0.43252  -1.1364\n",
      " -0.82001   0.22388  -0.032119 -0.069651  0.39857  -0.58275   0.095008\n",
      " -0.023643  0.23237  -0.42441   0.65709   0.57802  -0.51602   1.8253\n",
      "  0.12951  -0.61773   0.39281  -0.35754  -1.6778   -0.45201  -0.47075\n",
      "  0.19487   0.35828   3.6034    0.32865   0.47288  -0.33787  -0.46234\n",
      " -0.51628  -1.3755    0.70789   0.4648   -0.16186  -0.0961   -0.28523\n",
      "  0.30047   0.50902   0.081356 -0.015639 -0.51021   0.34585   0.24201\n",
      "  0.82237 ]\n",
      "student [-1.0729    0.94103   0.084904 -1.0766    0.42866   0.099877 -0.51081\n",
      " -0.24961  -0.30883   0.19553   0.1965   -0.73152   0.096916 -0.062686\n",
      "  0.12078  -0.72384  -0.382     0.6934    0.32956   0.40244   0.53485\n",
      "  0.91781  -0.44553   0.71804  -0.13635  -1.6906    0.15818  -1.2367\n",
      " -1.2278   -0.058566  2.7544    0.18672  -0.263    -1.2792    0.16992\n",
      "  0.40748   0.12248   0.11211   0.78318   0.036392 -0.40808  -0.058474\n",
      " -0.27932   0.33035   0.52384  -1.0487    0.27565   0.0363    0.048604\n",
      "  0.28239 ]\n",
      "barcelona [ 0.68944   1.2217   -0.23655   0.36109  -0.62116  -1.0075   -0.52565\n",
      "  0.65766  -1.2764    1.1286    1.1386   -0.36088  -1.3849   -0.58442\n",
      "  0.9772   -0.35103   0.29237  -0.27426  -1.3109   -0.015967 -1.0695\n",
      "  0.11901  -0.56335   0.49648  -0.44571  -0.47566   0.79045   0.42923\n",
      " -0.76743  -0.14029   1.7552    1.3342   -0.42864  -0.29125  -0.2056\n",
      "  0.21055   0.099324  1.4187    0.34068  -0.4477    1.0795    0.10387\n",
      "  0.15772  -0.51013  -0.50933   0.25395   0.050859 -0.084172  0.69738\n",
      " -1.192   ]\n"
     ]
    }
   ],
   "source": [
    "# Import GloVe embeddings 50D\n",
    "import os\n",
    "import numpy as np\n",
    "\n",
    "word_index = {word: index for index, word in enumerate(words_set)}\n",
    "\n",
    "embeddings_index = {}\n",
    "f = open(os.path.join('../data/pretrained/glove6B/glove.6B.50d.txt'))\n",
    "\n",
    "for line in f:\n",
    "    values = line.split()\n",
    "    word = values[0]\n",
    "    coefs = np.asarray(values[1:], dtype=np.float32)\n",
    "    embeddings_index[word] = coefs\n",
    "f.close()\n",
    "\n",
    "print('Found %s word vectors.' % len(embeddings_index))\n",
    "\n",
    "EMBEDDING_DIM = 50\n",
    "\n",
    "embedding_matrix = np.zeros((len(word_index) + 1, EMBEDDING_DIM))\n",
    "embedding_dict = {}\n",
    "for word, i in word_index.items():\n",
    "    embedding_vector = embeddings_index.get(word)\n",
    "    print(word, embedding_vector)\n",
    "    if embedding_vector is not None:\n",
    "        # Words not found in embedding index will be all-zeros.\n",
    "        embedding_matrix[i] = embedding_vector\n",
    "        embedding_dict[word] = embedding_vector"
   ],
   "metadata": {
    "collapsed": false,
    "ExecuteTime": {
     "end_time": "2023-05-05T08:27:23.798466Z",
     "start_time": "2023-05-05T08:27:20.410511Z"
    }
   }
  },
  {
   "cell_type": "code",
   "execution_count": 7,
   "outputs": [
    {
     "name": "stdout",
     "output_type": "stream",
     "text": [
      "[[ 0.023693   0.13316    0.023131   0.49833    0.026874  -0.43252\n",
      "  -1.1364    -0.82001    0.22388   -0.032119  -0.069651   0.39857\n",
      "  -0.58275    0.095008  -0.023643   0.23237   -0.42441    0.65709\n",
      "   0.57802   -0.51602    1.8253     0.12951   -0.61773    0.39281\n",
      "  -0.35754   -1.6778    -0.45201   -0.47075    0.19487    0.35828\n",
      "   3.6034     0.32865    0.47288   -0.33787   -0.46234   -0.51628\n",
      "  -1.3755     0.70789    0.4648    -0.16186   -0.0961    -0.28523\n",
      "   0.30047    0.50902    0.081356  -0.015639  -0.51021    0.34585\n",
      "   0.24201    0.82237  ]\n",
      " [ 1.3315     0.72181   -0.060088   0.43948    0.18419   -1.5083\n",
      "  -0.48125    0.46037   -1.4088     1.2701     0.68031   -0.59232\n",
      "  -1.6325    -0.30376    0.87685   -0.75531   -0.37583   -0.5363\n",
      "  -1.0669     0.45537   -0.66694    0.43001   -0.69525    0.67518\n",
      "  -0.93783   -0.67933    1.1104     0.37576   -0.36894   -0.083185\n",
      "   2.0346     0.96286   -0.56629   -0.7787    -0.10705   -0.14102\n",
      "   0.07384    0.62338    0.20366    0.0076751  0.71088    0.01501\n",
      "   0.53186   -0.82256   -0.35087    0.30876   -0.065328   0.23722\n",
      "   1.4692    -0.93469  ]\n",
      " [ 0.68944    1.2217    -0.23655    0.36109   -0.62116   -1.0075\n",
      "  -0.52565    0.65766   -1.2764     1.1286     1.1386    -0.36088\n",
      "  -1.3849    -0.58442    0.9772    -0.35103    0.29237   -0.27426\n",
      "  -1.3109    -0.015967  -1.0695     0.11901   -0.56335    0.49648\n",
      "  -0.44571   -0.47566    0.79045    0.42923   -0.76743   -0.14029\n",
      "   1.7552     1.3342    -0.42864   -0.29125   -0.2056     0.21055\n",
      "   0.099324   1.4187     0.34068   -0.4477     1.0795     0.10387\n",
      "   0.15772   -0.51013   -0.50933    0.25395    0.050859  -0.084172\n",
      "   0.69738   -1.192    ]]\n",
      "(7018, 3, 50)\n"
     ]
    }
   ],
   "source": [
    "input_data = df[['user_pattern', 'origin', 'destination']].values.tolist()\n",
    "\n",
    "input_vectors = np.array([np.array(list(map(lambda word: embeddings_index.get(word), row))) for row in input_data])\n",
    "\n",
    "print(input_vectors[0])\n",
    "print(input_vectors.shape)"
   ],
   "metadata": {
    "collapsed": false,
    "ExecuteTime": {
     "end_time": "2023-05-05T08:27:23.846611Z",
     "start_time": "2023-05-05T08:27:23.801738Z"
    }
   }
  },
  {
   "cell_type": "markdown",
   "source": [
    "## Embedding Model"
   ],
   "metadata": {
    "collapsed": false
   }
  },
  {
   "cell_type": "code",
   "execution_count": 8,
   "outputs": [
    {
     "name": "stderr",
     "output_type": "stream",
     "text": [
      "2023-05-05 10:27:23.853575: I tensorflow/core/platform/cpu_feature_guard.cc:193] This TensorFlow binary is optimized with oneAPI Deep Neural Network Library (oneDNN) to use the following CPU instructions in performance-critical operations:  SSE4.1 SSE4.2 AVX AVX2 FMA\n",
      "To enable them in other operations, rebuild TensorFlow with the appropriate compiler flags.\n"
     ]
    },
    {
     "name": "stdout",
     "output_type": "stream",
     "text": [
      "Model: \"sequential\"\n",
      "_________________________________________________________________\n",
      " Layer (type)                Output Shape              Param #   \n",
      "=================================================================\n",
      " words_embedding (Embedding)  (None, 3, 50)            300       \n",
      "                                                                 \n",
      "=================================================================\n",
      "Total params: 300\n",
      "Trainable params: 300\n",
      "Non-trainable params: 0\n",
      "_________________________________________________________________\n"
     ]
    },
    {
     "name": "stderr",
     "output_type": "stream",
     "text": [
      "2023-05-05 10:27:27.794209: I tensorflow/core/platform/cpu_feature_guard.cc:193] This TensorFlow binary is optimized with oneAPI Deep Neural Network Library (oneDNN) to use the following CPU instructions in performance-critical operations:  SSE4.1 SSE4.2 AVX AVX2 FMA\n",
      "To enable them in other operations, rebuild TensorFlow with the appropriate compiler flags.\n"
     ]
    }
   ],
   "source": [
    "from keras.models import Sequential\n",
    "from keras.layers import Input, Embedding, Flatten\n",
    "\n",
    "vocab_size = len(words_set)\n",
    "\n",
    "embedding_model = Sequential()\n",
    "embedding_model.add(Input(shape=(3,)))\n",
    "embedding_model.add(Embedding(input_dim= vocab_size + 1,\n",
    "                            output_dim=EMBEDDING_DIM,\n",
    "                            weights=[embedding_matrix],\n",
    "                            name='words_embedding', trainable=True\n",
    "                            ))\n",
    "\n",
    "embedding_model.compile(optimizer='adam', loss='mse')\n",
    "embedding_model.summary()"
   ],
   "metadata": {
    "collapsed": false,
    "ExecuteTime": {
     "end_time": "2023-05-05T08:27:27.888991Z",
     "start_time": "2023-05-05T08:27:23.828653Z"
    }
   }
  },
  {
   "cell_type": "markdown",
   "source": [
    "## Autoencoder model"
   ],
   "metadata": {
    "collapsed": false
   }
  },
  {
   "cell_type": "code",
   "execution_count": 9,
   "outputs": [
    {
     "name": "stdout",
     "output_type": "stream",
     "text": [
      "Model: \"model_2\"\n",
      "_________________________________________________________________\n",
      " Layer (type)                Output Shape              Param #   \n",
      "=================================================================\n",
      " input_2 (InputLayer)        [(None, 3, 50)]           0         \n",
      "                                                                 \n",
      " gru (GRU)                   (None, 3, 64)             22272     \n",
      "                                                                 \n",
      " gru_1 (GRU)                 (None, 32)                9408      \n",
      "                                                                 \n",
      " dense (Dense)               (None, 4)                 132       \n",
      "                                                                 \n",
      " model_1 (Functional)        (None, 3, 50)             25714     \n",
      "                                                                 \n",
      "=================================================================\n",
      "Total params: 57,526\n",
      "Trainable params: 57,526\n",
      "Non-trainable params: 0\n",
      "_________________________________________________________________\n"
     ]
    }
   ],
   "source": [
    "import tensorflow as tf\n",
    "\n",
    "from keras.layers import Input, GRU, Dense, RepeatVector, TimeDistributed\n",
    "from keras.models import Model\n",
    "\n",
    "input_shape = (3, 50)\n",
    "output_shape = (3, 50)\n",
    "\n",
    "latent_dim = 4\n",
    "\n",
    "inputs = Input(shape=input_shape)\n",
    "\n",
    "encoder = GRU(64, return_sequences=True)(inputs)\n",
    "encoder = GRU(32)(encoder)\n",
    "\n",
    "latent = Dense(latent_dim)(encoder)\n",
    "\n",
    "decoder_inputs = Input(shape=(latent_dim,))\n",
    "decoder = RepeatVector(input_shape[0])(decoder_inputs)\n",
    "decoder = GRU(32, return_sequences=True)(decoder)\n",
    "decoder = GRU(64, return_sequences=True)(decoder)\n",
    "decoder_outputs = TimeDistributed(Dense(output_shape[1]))(decoder)\n",
    "\n",
    "encoder_model = Model(inputs, latent)\n",
    "decoder_model = Model(decoder_inputs, decoder_outputs)\n",
    "\n",
    "model = Model(inputs, decoder_model(latent))\n",
    "\n",
    "model.compile(optimizer='adam', loss='mse', metrics=[tf.keras.metrics.MeanSquaredError()])\n",
    "model.summary()"
   ],
   "metadata": {
    "collapsed": false,
    "ExecuteTime": {
     "end_time": "2023-05-05T08:27:29.006431Z",
     "start_time": "2023-05-05T08:27:27.890430Z"
    }
   }
  },
  {
   "cell_type": "code",
   "execution_count": 10,
   "outputs": [
    {
     "name": "stdout",
     "output_type": "stream",
     "text": [
      "Epoch 1/10\n",
      "220/220 [==============================] - 7s 9ms/step - loss: 0.1228 - mean_squared_error: 0.1228\n",
      "Epoch 2/10\n",
      "220/220 [==============================] - 2s 9ms/step - loss: 0.0167 - mean_squared_error: 0.0167\n",
      "Epoch 3/10\n",
      "220/220 [==============================] - 2s 8ms/step - loss: 0.0024 - mean_squared_error: 0.0024\n",
      "Epoch 4/10\n",
      "220/220 [==============================] - 2s 8ms/step - loss: 1.5479e-04 - mean_squared_error: 1.5479e-04\n",
      "Epoch 5/10\n",
      "220/220 [==============================] - 3s 13ms/step - loss: 5.6490e-05 - mean_squared_error: 5.6490e-05\n",
      "Epoch 6/10\n",
      "220/220 [==============================] - 2s 11ms/step - loss: 3.5678e-05 - mean_squared_error: 3.5678e-05\n",
      "Epoch 7/10\n",
      "220/220 [==============================] - 2s 9ms/step - loss: 2.7296e-05 - mean_squared_error: 2.7296e-05\n",
      "Epoch 8/10\n",
      "220/220 [==============================] - 2s 8ms/step - loss: 1.3865e-05 - mean_squared_error: 1.3865e-05\n",
      "Epoch 9/10\n",
      "220/220 [==============================] - 2s 7ms/step - loss: 2.2081e-05 - mean_squared_error: 2.2081e-05\n",
      "Epoch 10/10\n",
      "220/220 [==============================] - 2s 7ms/step - loss: 6.9540e-06 - mean_squared_error: 6.9540e-06\n"
     ]
    }
   ],
   "source": [
    "history = model.fit(input_vectors, input_vectors, epochs=10, batch_size=32, verbose=1)"
   ],
   "metadata": {
    "collapsed": false,
    "ExecuteTime": {
     "end_time": "2023-05-05T08:27:53.927259Z",
     "start_time": "2023-05-05T08:27:29.013778Z"
    }
   }
  },
  {
   "cell_type": "markdown",
   "source": [
    "## Make predictions"
   ],
   "metadata": {
    "collapsed": false
   }
  },
  {
   "cell_type": "code",
   "execution_count": 11,
   "outputs": [],
   "source": [
    "def find_closest_embeddings(embedding):\n",
    "    return sorted(embedding_dict.keys(), key=lambda word: spatial.distance.euclidean(embedding_dict[word], embedding))[0]"
   ],
   "metadata": {
    "collapsed": false,
    "ExecuteTime": {
     "end_time": "2023-05-05T08:27:53.931645Z",
     "start_time": "2023-05-05T08:27:53.928629Z"
    }
   }
  },
  {
   "cell_type": "code",
   "execution_count": 12,
   "outputs": [
    {
     "name": "stdout",
     "output_type": "stream",
     "text": [
      "Input - Random passenger data: \n",
      "['business', 'madrid', 'barcelona']\n",
      "1/1 [==============================] - 1s 1s/step\n",
      "Output - Passenger reconstruction: \n",
      "['business', 'madrid', 'barcelona']\n"
     ]
    }
   ],
   "source": [
    "random_index = np.random.randint(0, len(input_vectors))\n",
    "random_vector = input_vectors[random_index]\n",
    "\n",
    "print(\"Input - Random passenger data: \")\n",
    "print(input_data[random_index])\n",
    "\n",
    "prediction = model.predict(np.array([random_vector]))[0]\n",
    "\n",
    "print(\"Output - Passenger reconstruction: \")\n",
    "decoded_prediction = [find_closest_embeddings(word_vector) for word_vector in prediction]\n",
    "print(decoded_prediction)"
   ],
   "metadata": {
    "collapsed": false,
    "ExecuteTime": {
     "end_time": "2023-05-05T08:27:55.071856Z",
     "start_time": "2023-05-05T08:27:53.935049Z"
    }
   }
  },
  {
   "cell_type": "code",
   "execution_count": 12,
   "outputs": [],
   "source": [],
   "metadata": {
    "collapsed": false,
    "ExecuteTime": {
     "end_time": "2023-05-05T08:27:55.075132Z",
     "start_time": "2023-05-05T08:27:55.072445Z"
    }
   }
  }
 ],
 "metadata": {
  "kernelspec": {
   "display_name": "Python 3",
   "language": "python",
   "name": "python3"
  },
  "language_info": {
   "codemirror_mode": {
    "name": "ipython",
    "version": 3
   },
   "file_extension": ".py",
   "mimetype": "text/x-python",
   "name": "python",
   "nbconvert_exporter": "python",
   "pygments_lexer": "ipython3",
   "version": "3.8.6"
  }
 },
 "nbformat": 4,
 "nbformat_minor": 0
}
