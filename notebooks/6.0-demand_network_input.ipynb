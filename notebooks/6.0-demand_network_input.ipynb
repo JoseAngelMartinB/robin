{
 "cells": [
  {
   "attachments": {},
   "cell_type": "markdown",
   "metadata": {},
   "source": [
    "# Interpretability of autoencoder latent space for passengers demand-sensitive planning on high-speed railways (IWANN 2023)\n"
   ]
  },
  {
   "cell_type": "code",
   "execution_count": 1,
   "outputs": [],
   "source": [
    "import datetime\n",
    "import math\n",
    "import nltk\n",
    "import numpy as np\n",
    "import os\n",
    "import pandas as pd\n",
    "import random\n",
    "\n",
    "from feature_engine.creation import CyclicalFeatures\n",
    "from nltk.corpus import wordnet\n",
    "from scipy import spatial\n",
    "from sklearn.model_selection import train_test_split\n",
    "from sklearn.preprocessing import MinMaxScaler\n",
    "from typing import Dict, List, Tuple\n",
    "\n",
    "EMBEDDING_DIM = 50"
   ],
   "metadata": {
    "collapsed": false,
    "ExecuteTime": {
     "end_time": "2023-05-18T11:31:24.712505Z",
     "start_time": "2023-05-18T11:31:22.955165Z"
    }
   }
  },
  {
   "cell_type": "code",
   "execution_count": 2,
   "outputs": [
    {
     "name": "stderr",
     "output_type": "stream",
     "text": [
      "[nltk_data] Downloading package wordnet to /Users/david/nltk_data...\n",
      "[nltk_data]   Package wordnet is already up-to-date!\n"
     ]
    },
    {
     "data": {
      "text/plain": "True"
     },
     "execution_count": 2,
     "metadata": {},
     "output_type": "execute_result"
    }
   ],
   "source": [
    "# Download wordnet if not already downloaded\n",
    "nltk.download('wordnet')"
   ],
   "metadata": {
    "collapsed": false,
    "ExecuteTime": {
     "end_time": "2023-05-18T11:31:24.905487Z",
     "start_time": "2023-05-18T11:31:24.715032Z"
    }
   }
  },
  {
   "cell_type": "code",
   "execution_count": 3,
   "outputs": [
    {
     "name": "stdout",
     "output_type": "stream",
     "text": [
      "[['madrid', 'guadalajara', 'calatayud', 'zaragoza', 'lleida', 'tarragona', 'barcelona', 'girona', 'figueres']]\n"
     ]
    }
   ],
   "source": [
    "from src.robin.supply.entities import Supply\n",
    "\n",
    "def get_paths_from_supply(path_config_supply: str = '../configs/test_case/supply_data.yml') -> List[List[str]]:\n",
    "    \"\"\"\n",
    "    Get the paths of a supply\n",
    "\n",
    "    Args:\n",
    "        path_config_supply (str, optional): Path to the supply config file. Defaults to '../configs/test_case/supply_data.yml'.\n",
    "\n",
    "    Returns:\n",
    "        List[List[str]]: List of paths\n",
    "    \"\"\"\n",
    "    supply = Supply.from_yaml(path_config_supply)\n",
    "\n",
    "    # Get set of corridors\n",
    "    corridors = []\n",
    "    for service in supply.services:\n",
    "        if service.line.corridor not in corridors:\n",
    "            corridors.append(service.line.corridor)\n",
    "\n",
    "    # Get set of paths\n",
    "    paths = []\n",
    "    for corridor in corridors:\n",
    "        for path in corridor.paths:\n",
    "            if path not in paths:\n",
    "                paths.append(path)\n",
    "\n",
    "    # Parse paths of Station objects to paths of station mame\n",
    "    paths = [[station.name.replace(\"-\", \" \").split(\" \")[0].lower() for station in path] for path in paths]\n",
    "    return paths\n",
    "\n",
    "paths = get_paths_from_supply()\n",
    "print(paths)"
   ],
   "metadata": {
    "collapsed": false,
    "ExecuteTime": {
     "end_time": "2023-05-18T11:31:25.026220Z",
     "start_time": "2023-05-18T11:31:24.908901Z"
    }
   }
  },
  {
   "cell_type": "code",
   "execution_count": 4,
   "outputs": [],
   "source": [
    "def get_word_syn(word: str) -> str:\n",
    "    \"\"\"\n",
    "    Get a random synonym of a word\n",
    "\n",
    "    Args:\n",
    "        word (str): Word to get the synonym from\n",
    "\n",
    "    Returns:\n",
    "        str: Synonym of the word\n",
    "    \"\"\"\n",
    "    word_synset = wordnet.synsets(word)\n",
    "    if len(word_synset) > 0:\n",
    "        station_synset = word_synset[0]\n",
    "        station_lemmas = station_synset.lemmas()\n",
    "        if len(station_lemmas) > 0:\n",
    "            word_lemma = random.choice(station_lemmas)\n",
    "            return word_lemma.name().lower()\n",
    "\n",
    "    return word\n",
    "\n",
    "def get_random_pair(paths: list[list]) -> Tuple[str, str]:\n",
    "    \"\"\"\n",
    "    Get a random pair of stations from a path\n",
    "\n",
    "    Args:\n",
    "        paths (list[list]): List of stations\n",
    "\n",
    "    Returns:\n",
    "        Tuple[str, str]: Tuple with the origin and destination stations\n",
    "    \"\"\"\n",
    "    random_path = random.choice(paths)  # Choose a random path\n",
    "\n",
    "    origin_index = random.randint(0, len(random_path) - 2)  # Choose a random origin station\n",
    "    destination_index = random.randint(origin_index + 1, len(random_path) - 1)  # Choose a random destination station\n",
    "\n",
    "    origin_station = random_path[origin_index]\n",
    "    destination_station = random_path[destination_index]\n",
    "    return origin_station, destination_station"
   ],
   "metadata": {
    "collapsed": false,
    "ExecuteTime": {
     "end_time": "2023-05-18T11:31:25.032859Z",
     "start_time": "2023-05-18T11:31:25.026802Z"
    }
   }
  },
  {
   "cell_type": "code",
   "execution_count": 5,
   "outputs": [],
   "source": [
    "def get_renfe_station_id(adif_id: str, stations_df: pd.DataFrame) -> str:\n",
    "    \"\"\"\n",
    "    Returns the Station name given the Adif station id.\n",
    "\n",
    "    Args:\n",
    "        adif_id (str): Adif station id.\n",
    "        stations_df (pd.DataFrame): Dataframe with the stations' information.\n",
    "\n",
    "    Returns:\n",
    "        str: Station name.\n",
    "    \"\"\"\n",
    "    station_name = stations_df[stations_df['stop_id'] == adif_id]['stop_name'].values[0]\n",
    "    station_name = station_name.replace(\"-\", \" \").split(\" \")[0].lower()\n",
    "    return station_name\n",
    "\n",
    "stations_csv_path = f'../data/renfe/renfe_stations.csv'\n",
    "stations_df = pd.read_csv(stations_csv_path, dtype={'stop_id': str, 'renfe_id': str})"
   ],
   "metadata": {
    "collapsed": false,
    "ExecuteTime": {
     "end_time": "2023-05-18T11:31:25.044945Z",
     "start_time": "2023-05-18T11:31:25.037276Z"
    }
   }
  },
  {
   "cell_type": "code",
   "execution_count": 6,
   "outputs": [
    {
     "name": "stdout",
     "output_type": "stream",
     "text": [
      "        origin  destination user_pattern   week_day    month      time\n",
      "0       madrid    tarragona      tourist     monday      may  14:39:00\n",
      "1     zaragoza    tarragona     business    tuesday  january  23:52:00\n",
      "2  guadalajara    barcelona     business     friday   august  01:46:00\n",
      "3       madrid  guadalajara      student  wednesday   august  07:48:00\n",
      "4     zaragoza    tarragona      student     monday   august  04:15:00\n"
     ]
    }
   ],
   "source": [
    "def simulate_passengers_data(paths: list,\n",
    "                             user_patterns: list,\n",
    "                             n_passengers: int = 10000,\n",
    "                             seed: int = 42\n",
    "    ) -> pd.DataFrame:\n",
    "    # Set random state\n",
    "    random.seed(seed)\n",
    "\n",
    "    pairs = []\n",
    "    for _ in range(n_passengers):\n",
    "        pairs.append(get_random_pair(paths))\n",
    "\n",
    "    df = pd.DataFrame(pairs, columns=['origin', 'destination'])\n",
    "    df['user_pattern'] = [random.choice(user_patterns) for _ in range(n_passengers)]\n",
    "\n",
    "    random_days = lambda: random.randint(0, 365*10)\n",
    "    random_hours = lambda: random.randint(0, 24)\n",
    "    random_minutes = lambda: random.randint(0,60)\n",
    "\n",
    "    random_timedelta = lambda: datetime.timedelta(days=random_days(), hours=random_hours(), minutes=random_minutes())\n",
    "    df['arrival_date'] = [datetime.datetime(2021, 1, 1) + random_timedelta() for _ in range(n_passengers)]\n",
    "    df['week_day'] = [date.strftime('%A').lower() for date in df['arrival_date']]\n",
    "    df['month'] = [date.strftime('%B').lower() for date in df['arrival_date']]\n",
    "    df['time'] = [date.time() for date in df['arrival_date']]\n",
    "    df.drop(columns=['arrival_date'], inplace=True)\n",
    "    return df\n",
    "\n",
    "user_patterns = (\"business\", \"student\", \"tourist\")\n",
    "df = simulate_passengers_data(paths, user_patterns, n_passengers=10000)\n",
    "print(df.head())"
   ],
   "metadata": {
    "collapsed": false,
    "ExecuteTime": {
     "end_time": "2023-05-18T11:31:25.196988Z",
     "start_time": "2023-05-18T11:31:25.043319Z"
    }
   }
  },
  {
   "cell_type": "code",
   "execution_count": 38,
   "outputs": [],
   "source": [
    "class AutoencoderEmbedding:\n",
    "    \"\"\"\n",
    "    Class to get the embedding of a dataframe to be used as input of an autoencoder\n",
    "\n",
    "    Attributes:\n",
    "        df (pd.DataFrame): Dataframe with the data to be embedded\n",
    "        df_embedding (pd.DataFrame): Dataframe with the embedding.\n",
    "        embedding_dim (int, optional): Embedding dimension. Defaults to 50.\n",
    "        embedding_dict (dict): Dictionary with the embedding.\n",
    "        scaler (MinMaxScaler): Scaler to normalize the data.\n",
    "        cyclical (CyclicalFeatures): Cyclical features transformer.\n",
    "        df_time (pd.DataFrame): Dataframe with the time embedding.\n",
    "        input_arrays (list[np.array]): List of arrays with the embedded input data.\n",
    "    \"\"\"\n",
    "    def __init__(self, df: pd.DataFrame, embedding_dim: int = 50):\n",
    "        \"\"\"\n",
    "        Constructor method\n",
    "\n",
    "        Args:\n",
    "            df (pd.DataFrame): Dataframe with the data to be embedded\n",
    "            embedding_dim (int, optional): Embedding dimension. Defaults to 50.\n",
    "        \"\"\"\n",
    "        self.df = df\n",
    "        self.embedding_dim = embedding_dim\n",
    "        self.embedding_dict = self._get_embedding_dict()\n",
    "        self.scaler = MinMaxScaler()\n",
    "        self.cyclical = CyclicalFeatures(variables=['time'], drop_original=True)\n",
    "        self.df_embedding = self._get_input_arrays()\n",
    "        self.words_embeddings = self._get_words_embedding()\n",
    "        self.time_embedding = self._get_time_embedding()\n",
    "\n",
    "    def _get_words_embedding(self):\n",
    "        input_data = self.df_embedding[['origin', 'destination', 'user_pattern', 'week_day', 'month']].values.tolist()\n",
    "        return np.array([np.asarray(row, dtype=np.float32) for row in input_data])\n",
    "\n",
    "    def _get_time_embedding(self):\n",
    "        input_data = self.df_embedding[['time']].values.tolist()\n",
    "        return np.array([np.asarray(row, dtype=np.float32) for row in input_data])\n",
    "\n",
    "    def _get_embedding_dict(self) -> Dict[str, np.array]:\n",
    "        \"\"\"\n",
    "        Get the words embedding dictionary\n",
    "\n",
    "        Returns:\n",
    "            Dict[str, np.array]: Dictionary with the embedding.\n",
    "        \"\"\"\n",
    "        # Get bag of words\n",
    "        words_set = set(self.df[['origin', 'destination', 'user_pattern', 'week_day', 'month']].values.flatten())\n",
    "        word_index = {word: index for index, word in enumerate(words_set)}\n",
    "\n",
    "        embeddings_index = {}\n",
    "        f = open(os.path.join('../data/pretrained/glove6B/glove.6B.50d.txt'))\n",
    "\n",
    "        # Read GloVe embeddings\n",
    "        for line in f:\n",
    "            values = line.split()\n",
    "            word = values[0]\n",
    "            coefs = np.asarray(values[1:], dtype=np.float32)\n",
    "            embeddings_index[word] = coefs\n",
    "        f.close()\n",
    "\n",
    "        # Create embedding matrix\n",
    "        embedding_matrix = np.zeros((len(word_index) + 1, self.embedding_dim))\n",
    "        embedding_dict = {}\n",
    "        for word, i in word_index.items():\n",
    "            embedding_vector = embeddings_index.get(word)\n",
    "            if embedding_vector is not None:\n",
    "                embedding_matrix[i] = embedding_vector\n",
    "                embedding_dict[word] = embedding_vector\n",
    "\n",
    "        return embedding_dict\n",
    "\n",
    "    def decode_time_embedding(self, time_embedding: np.array) -> datetime.time:\n",
    "        \"\"\"\n",
    "        Decode the time embedding\n",
    "\n",
    "        Args:\n",
    "            time_embedding (np.array): Time embedding\n",
    "\n",
    "        Returns:\n",
    "            datetime.time: Time\n",
    "        \"\"\"\n",
    "\n",
    "        \"\"\"\n",
    "        degrees = math.degrees(math.acos(time_embedding))\n",
    "        total_minutes = (degrees / 360) * (24 * 60)\n",
    "        hours = int(total_minutes / 60)\n",
    "        minutes = int(total_minutes % 60)\n",
    "        time = datetime.time(hour=hours, minute=minutes)\n",
    "        \"\"\"\n",
    "        total_minutes = self.scaler.inverse_transform(time_embedding)\n",
    "        hours = int(total_minutes / 60)\n",
    "        minutes = int(total_minutes % 60)\n",
    "        time = datetime.time(hour=hours, minute=minutes)\n",
    "        return time\n",
    "\n",
    "    def _get_input_arrays(self) -> np.array:\n",
    "        \"\"\"\n",
    "        Get the input arrays\n",
    "\n",
    "        Returns:\n",
    "            np.array: Array with the embedded input data.\n",
    "        \"\"\"\n",
    "        df_embedding = pd.DataFrame()\n",
    "        df_embedding['origin'] = self.df['origin'].apply(lambda x: self.embedding_dict.get(x))\n",
    "        df_embedding['destination'] = self.df['destination'].apply(lambda x: self.embedding_dict.get(x))\n",
    "        df_embedding['user_pattern'] = self.df['user_pattern'].apply(lambda x: self.embedding_dict.get(x))\n",
    "        df_embedding['week_day'] = self.df['week_day'].apply(lambda x: self.embedding_dict.get(x))\n",
    "        df_embedding['month'] = self.df['month'].apply(lambda x: self.embedding_dict.get(x))\n",
    "\n",
    "        def encode_time(time: datetime.datetime) -> np.float32:\n",
    "            total_minutes = (time.hour * 60) + time.minute\n",
    "            total_degrees = (total_minutes / (24 * 60)) * 360\n",
    "            encoded_value = math.sin(math.radians(total_degrees))\n",
    "            return np.float32(encoded_value)\n",
    "\n",
    "        def total_minutes(time: datetime.datetime) -> np.float32:\n",
    "            total_minutes = (time.hour * 60) + time.minute\n",
    "            return np.float32(total_minutes)\n",
    "        df_embedding['time'] = self.df['time'].apply(lambda x: total_minutes(x))\n",
    "        df_embedding['time'] = self.scaler.fit_transform(df_embedding[['time']])\n",
    "\n",
    "        return df_embedding[['origin', 'destination', 'user_pattern', 'week_day', 'month', 'time']]"
   ],
   "metadata": {
    "collapsed": false,
    "ExecuteTime": {
     "end_time": "2023-05-18T11:46:30.773667Z",
     "start_time": "2023-05-18T11:46:30.760567Z"
    }
   }
  },
  {
   "cell_type": "code",
   "execution_count": 39,
   "outputs": [
    {
     "name": "stdout",
     "output_type": "stream",
     "text": [
      "Train data shape:  (7000, 6)\n",
      "Test data shape:  (3000, 6)\n",
      "Test data autoencoder input shape:  (3000, 5, 50)\n",
      "First test data instance:  origin          zaragoza\n",
      "destination       lleida\n",
      "user_pattern     student\n",
      "week_day          sunday\n",
      "month               june\n",
      "time            22:10:00\n",
      "Name: 6252, dtype: object\n",
      "First test data instance embedded:  [[ 1.0642    0.089939 -0.28715   0.82471   0.31063  -1.4798    0.12028\n",
      "   0.7449   -1.2919    0.39737   0.4715   -0.53483  -0.48049  -1.2998\n",
      "   0.32826  -1.3085   -0.67916  -0.20625  -0.7232    0.41638  -1.2895\n",
      "  -0.69963  -0.23631   0.70175  -0.61498   0.20193   1.329     0.25294\n",
      "  -0.093715 -0.16535   0.99605   1.2007   -0.26729  -0.42035  -0.15881\n",
      "   0.63906  -0.73977   1.3119    0.61136  -0.59197   1.3032    0.16094\n",
      "  -0.027686 -0.9412   -0.68288   0.65116   0.47976  -0.32516   1.3912\n",
      "  -0.50467 ]\n",
      " [ 0.23779  -0.70155  -1.123     0.36108  -1.1387   -0.49992   0.28795\n",
      "   0.87089  -0.32366   0.85312   1.5365   -1.2579    0.45029  -0.87621\n",
      "  -0.3849   -0.45242  -1.0222    0.90672   0.60101   0.89574  -1.5187\n",
      "  -0.54763  -0.23907   1.3125   -0.30361   0.95009  -0.84021  -0.1023\n",
      "  -0.41569  -0.24651   0.20699   0.85849  -0.80493   0.55103   0.3738\n",
      "   0.39285   0.50441   0.77364   0.73249   0.94046   0.072068 -0.46804\n",
      "  -1.0545   -0.48751  -1.0242    1.0787    0.25623   0.24465   0.1344\n",
      "  -0.66684 ]\n",
      " [-1.0729    0.94103   0.084904 -1.0766    0.42866   0.099877 -0.51081\n",
      "  -0.24961  -0.30883   0.19553   0.1965   -0.73152   0.096916 -0.062686\n",
      "   0.12078  -0.72384  -0.382     0.6934    0.32956   0.40244   0.53485\n",
      "   0.91781  -0.44553   0.71804  -0.13635  -1.6906    0.15818  -1.2367\n",
      "  -1.2278   -0.058566  2.7544    0.18672  -0.263    -1.2792    0.16992\n",
      "   0.40748   0.12248   0.11211   0.78318   0.036392 -0.40808  -0.058474\n",
      "  -0.27932   0.33035   0.52384  -1.0487    0.27565   0.0363    0.048604\n",
      "   0.28239 ]\n",
      " [ 0.30272   0.47367   0.014592  0.75974   0.10437  -0.97046  -1.1058\n",
      "   1.0341   -0.43228  -0.81307  -0.71578  -1.5049   -0.71511   0.20684\n",
      "   0.83131  -0.031434 -0.63713  -0.73632  -1.2828    0.11016   0.043357\n",
      "   0.76154   0.36802   0.021238  0.1249   -1.6035    0.46462   0.57985\n",
      "  -0.40849   0.12044   3.227     0.8057   -0.81701   0.089946 -0.19074\n",
      "  -0.19545   0.71636   0.068456 -0.12522   0.098213 -0.091142  0.33782\n",
      "  -0.47617  -0.58733   0.49366   0.67611  -0.57251   0.59616   0.42731\n",
      "  -0.51154 ]\n",
      " [-0.038875  0.17613  -0.016038 -0.064066 -0.20913   0.049825 -1.0929\n",
      "   0.045317 -0.62033  -0.7479    0.33231  -0.70502  -0.38843  -0.47448\n",
      "   1.4496    0.30839  -1.3149   -0.56169  -1.6595    0.85848   1.3056\n",
      "  -0.35666   0.81395  -0.48261  -0.77276  -1.1614    0.60481  -0.41118\n",
      "  -0.076125  0.93533   2.8776   -0.28886  -1.0489   -0.30294   0.3079\n",
      "  -0.96906   0.74114   0.070662  0.024136 -0.47567  -0.73735  -0.54993\n",
      "  -0.13232  -1.3861   -0.38072   0.14414  -0.16532  -0.7342   -0.014946\n",
      "   0.15634 ]]\n"
     ]
    }
   ],
   "source": [
    "df_train, df_test = train_test_split(df, test_size=0.3, random_state=42)\n",
    "\n",
    "print(\"Train data shape: \", df_train.shape)\n",
    "print(\"Test data shape: \", df_test.shape)\n",
    "\n",
    "train_embedding = AutoencoderEmbedding(df = df_train, embedding_dim=EMBEDDING_DIM)\n",
    "test_embedding = AutoencoderEmbedding(df = df_test, embedding_dim=EMBEDDING_DIM)\n",
    "\n",
    "print(\"Test data autoencoder input shape: \", test_embedding.words_embeddings.shape)\n",
    "print(\"First test data instance: \", test_embedding.df.iloc[0])\n",
    "print(\"First test data instance embedded: \", test_embedding.words_embeddings[0])"
   ],
   "metadata": {
    "collapsed": false,
    "ExecuteTime": {
     "end_time": "2023-05-18T11:46:38.988494Z",
     "start_time": "2023-05-18T11:46:32.136305Z"
    }
   }
  },
  {
   "cell_type": "markdown",
   "source": [
    "## Embedding Model"
   ],
   "metadata": {
    "collapsed": false
   }
  },
  {
   "cell_type": "markdown",
   "source": [
    "## Autoencoder model"
   ],
   "metadata": {
    "collapsed": false
   }
  },
  {
   "cell_type": "code",
   "execution_count": 40,
   "outputs": [
    {
     "name": "stdout",
     "output_type": "stream",
     "text": [
      "Model: \"model_8\"\n",
      "__________________________________________________________________________________________________\n",
      " Layer (type)                   Output Shape         Param #     Connected to                     \n",
      "==================================================================================================\n",
      " input_7 (InputLayer)           [(None, 5, 50)]      0           []                               \n",
      "                                                                                                  \n",
      " conv1d_4 (Conv1D)              (None, 5, 64)        9664        ['input_7[0][0]']                \n",
      "                                                                                                  \n",
      " conv1d_5 (Conv1D)              (None, 5, 32)        6176        ['conv1d_4[0][0]']               \n",
      "                                                                                                  \n",
      " global_max_pooling1d_2 (Global  (None, 32)          0           ['conv1d_5[0][0]']               \n",
      " MaxPooling1D)                                                                                    \n",
      "                                                                                                  \n",
      " flatten_4 (Flatten)            (None, 32)           0           ['global_max_pooling1d_2[0][0]'] \n",
      "                                                                                                  \n",
      " input_8 (InputLayer)           [(None, 1)]          0           []                               \n",
      "                                                                                                  \n",
      " concatenate_2 (Concatenate)    (None, 33)           0           ['flatten_4[0][0]',              \n",
      "                                                                  'input_8[0][0]']                \n",
      "                                                                                                  \n",
      " dense_14 (Dense)               (None, 64)           2176        ['concatenate_2[0][0]']          \n",
      "                                                                                                  \n",
      " dense_15 (Dense)               (None, 32)           2080        ['dense_14[0][0]']               \n",
      "                                                                                                  \n",
      " dense_16 (Dense)               (None, 5)            165         ['dense_15[0][0]']               \n",
      "                                                                                                  \n",
      " model_7 (Functional)           [(None, 5, 50),      31731       ['dense_16[0][0]']               \n",
      "                                 (None, 1)]                                                       \n",
      "                                                                                                  \n",
      "==================================================================================================\n",
      "Total params: 51,992\n",
      "Trainable params: 51,992\n",
      "Non-trainable params: 0\n",
      "__________________________________________________________________________________________________\n"
     ]
    }
   ],
   "source": [
    "import tensorflow as tf\n",
    "from tensorflow.keras.layers import Concatenate, Conv1D,Conv1DTranspose, Dense, Flatten, GlobalMaxPooling1D, GRU, Input, RepeatVector, Reshape, TimeDistributed\n",
    "from tensorflow.keras.models import Model\n",
    "\n",
    "words_embeddings_shape = (5, EMBEDDING_DIM)\n",
    "time_embedding_shape = (1,)\n",
    "\n",
    "SEQUENCE_LENGTH = 5\n",
    "\n",
    "latent_dim = 5\n",
    "\n",
    "# Encoder model\n",
    "input_words = Input(shape=words_embeddings_shape)\n",
    "\n",
    "conv1 = Conv1D(64, kernel_size=3, activation='relu', padding='same')(input_words)\n",
    "conv2 = Conv1D(32, kernel_size=3, activation='relu', padding='same')(conv1)\n",
    "pooling = GlobalMaxPooling1D()(conv2)\n",
    "flat_layer = Flatten()(pooling)\n",
    "\n",
    "input_time = Input(shape=time_embedding_shape)\n",
    "concat_layer = Concatenate(axis=1)([flat_layer, input_time])\n",
    "\n",
    "encoder = Dense(64)(concat_layer)\n",
    "encoder = Dense(32)(encoder)\n",
    "\n",
    "dense1 = Dense(latent_dim)(encoder)\n",
    "\n",
    "# Decoder model\n",
    "decoder_inputs = Input(shape=(latent_dim,))\n",
    "dense3 = Dense(32)(decoder_inputs)\n",
    "dense4 = Dense(64)(dense3)\n",
    "\n",
    "repeat_vector = RepeatVector(6)(Flatten()(dense4))\n",
    "\n",
    "decoder = Dense(32 * SEQUENCE_LENGTH, activation='relu')(dense4)\n",
    "decoder = Reshape((SEQUENCE_LENGTH, 32))(decoder)\n",
    "decoder = Conv1DTranspose(32, kernel_size=3, activation='relu', padding='same')(decoder)\n",
    "decoder = Conv1DTranspose(64, kernel_size=3, activation='relu', padding='same')(decoder)\n",
    "decoder_words = Conv1DTranspose(EMBEDDING_DIM, kernel_size=3, padding='same')(decoder)\n",
    "\n",
    "decoder_time = Dense(1)(dense4)\n",
    "\n",
    "encoder_model = Model(inputs=[input_words, input_time], outputs=dense1)\n",
    "decoder_model = Model(inputs=decoder_inputs, outputs=[decoder_words, decoder_time])\n",
    "\n",
    "decoded_words, decoded_time = decoder_model(dense1)\n",
    "model = Model(inputs=[input_words, input_time], outputs=[decoded_words, decoded_time])\n",
    "\n",
    "model.compile(optimizer='rmsprop', loss='mse', metrics=[tf.keras.metrics.MeanSquaredError()])\n",
    "model.summary()"
   ],
   "metadata": {
    "collapsed": false,
    "ExecuteTime": {
     "end_time": "2023-05-18T11:46:45.398956Z",
     "start_time": "2023-05-18T11:46:45.180117Z"
    }
   }
  },
  {
   "cell_type": "code",
   "execution_count": 41,
   "outputs": [
    {
     "name": "stdout",
     "output_type": "stream",
     "text": [
      "Epoch 1/10\n",
      "219/219 [==============================] - 2s 2ms/step - loss: 0.1654 - model_7_loss: 0.1325 - model_7_1_loss: 0.0329 - model_7_mean_squared_error: 0.1325 - model_7_1_mean_squared_error: 0.0329\n",
      "Epoch 2/10\n",
      "219/219 [==============================] - 1s 2ms/step - loss: 0.0757 - model_7_loss: 0.0719 - model_7_1_loss: 0.0038 - model_7_mean_squared_error: 0.0719 - model_7_1_mean_squared_error: 0.0038\n",
      "Epoch 3/10\n",
      "219/219 [==============================] - 1s 2ms/step - loss: 0.0562 - model_7_loss: 0.0536 - model_7_1_loss: 0.0026 - model_7_mean_squared_error: 0.0536 - model_7_1_mean_squared_error: 0.0026\n",
      "Epoch 4/10\n",
      "219/219 [==============================] - 1s 2ms/step - loss: 0.0460 - model_7_loss: 0.0439 - model_7_1_loss: 0.0021 - model_7_mean_squared_error: 0.0439 - model_7_1_mean_squared_error: 0.0021\n",
      "Epoch 5/10\n",
      "219/219 [==============================] - 1s 2ms/step - loss: 0.0397 - model_7_loss: 0.0380 - model_7_1_loss: 0.0017 - model_7_mean_squared_error: 0.0380 - model_7_1_mean_squared_error: 0.0017\n",
      "Epoch 6/10\n",
      "219/219 [==============================] - 1s 2ms/step - loss: 0.0347 - model_7_loss: 0.0332 - model_7_1_loss: 0.0016 - model_7_mean_squared_error: 0.0332 - model_7_1_mean_squared_error: 0.0016\n",
      "Epoch 7/10\n",
      "219/219 [==============================] - 1s 2ms/step - loss: 0.0302 - model_7_loss: 0.0288 - model_7_1_loss: 0.0014 - model_7_mean_squared_error: 0.0288 - model_7_1_mean_squared_error: 0.0014\n",
      "Epoch 8/10\n",
      "219/219 [==============================] - 1s 2ms/step - loss: 0.0272 - model_7_loss: 0.0259 - model_7_1_loss: 0.0013 - model_7_mean_squared_error: 0.0259 - model_7_1_mean_squared_error: 0.0013\n",
      "Epoch 9/10\n",
      "219/219 [==============================] - 0s 2ms/step - loss: 0.0246 - model_7_loss: 0.0234 - model_7_1_loss: 0.0012 - model_7_mean_squared_error: 0.0234 - model_7_1_mean_squared_error: 0.0012\n",
      "Epoch 10/10\n",
      "219/219 [==============================] - 1s 2ms/step - loss: 0.0221 - model_7_loss: 0.0210 - model_7_1_loss: 0.0011 - model_7_mean_squared_error: 0.0210 - model_7_1_mean_squared_error: 0.0011\n"
     ]
    }
   ],
   "source": [
    "history = model.fit(x = [train_embedding.words_embeddings, train_embedding.time_embedding],\n",
    "                    y = [train_embedding.words_embeddings, train_embedding.time_embedding],\n",
    "                    epochs=10,\n",
    "                    batch_size=32,\n",
    "                    verbose=1)"
   ],
   "metadata": {
    "collapsed": false,
    "ExecuteTime": {
     "end_time": "2023-05-18T11:46:54.367797Z",
     "start_time": "2023-05-18T11:46:47.784857Z"
    }
   }
  },
  {
   "cell_type": "markdown",
   "source": [
    "## Plot history"
   ],
   "metadata": {
    "collapsed": false
   }
  },
  {
   "cell_type": "code",
   "execution_count": 11,
   "outputs": [
    {
     "data": {
      "text/plain": "dict_keys(['loss', 'model_1_loss', 'model_1_1_loss', 'model_1_mean_squared_error', 'model_1_1_mean_squared_error'])"
     },
     "execution_count": 11,
     "metadata": {},
     "output_type": "execute_result"
    }
   ],
   "source": [
    "history.history.keys()"
   ],
   "metadata": {
    "collapsed": false,
    "ExecuteTime": {
     "end_time": "2023-05-18T11:31:45.265469Z",
     "start_time": "2023-05-18T11:31:45.262529Z"
    }
   }
  },
  {
   "cell_type": "code",
   "execution_count": 36,
   "outputs": [
    {
     "data": {
      "text/plain": "<Figure size 640x480 with 1 Axes>",
      "image/png": "[encoded data removed]"
     },
     "metadata": {},
     "output_type": "display_data"
    }
   ],
   "source": [
    "# Plot history loss and mse\n",
    "\n",
    "import matplotlib.pyplot as plt\n",
    "\n",
    "plt.plot(history.history['loss'], label='train')\n",
    "plt.title('Loss')\n",
    "plt.xlabel('Epochs')\n",
    "plt.ylabel('Loss')\n",
    "plt.show()"
   ],
   "metadata": {
    "collapsed": false,
    "ExecuteTime": {
     "end_time": "2023-05-18T11:39:08.460307Z",
     "start_time": "2023-05-18T11:39:08.305825Z"
    }
   }
  },
  {
   "cell_type": "code",
   "execution_count": 13,
   "outputs": [
    {
     "name": "stdout",
     "output_type": "stream",
     "text": [
      "94/94 [==============================] - 0s 2ms/step - loss: 0.0164 - model_1_loss: 0.0160 - model_1_1_loss: 4.0501e-04 - model_1_mean_squared_error: 0.0160 - model_1_1_mean_squared_error: 4.0501e-04\n"
     ]
    }
   ],
   "source": [
    "# Evaluate model\n",
    "score = model.evaluate(x=[test_embedding.words_embeddings, test_embedding.time_embedding],\n",
    "                       y=[test_embedding.words_embeddings, test_embedding.time_embedding],\n",
    "                       verbose=1)"
   ],
   "metadata": {
    "collapsed": false,
    "ExecuteTime": {
     "end_time": "2023-05-18T11:34:15.975054Z",
     "start_time": "2023-05-18T11:34:15.513480Z"
    }
   }
  },
  {
   "cell_type": "markdown",
   "source": [
    "## Make predictions"
   ],
   "metadata": {
    "collapsed": false
   }
  },
  {
   "cell_type": "code",
   "execution_count": 42,
   "outputs": [],
   "source": [
    "def find_closest_embeddings(embedding, emb):\n",
    "    return sorted(emb.keys(), key=lambda word: spatial.distance.euclidean(emb[word], embedding))[0]"
   ],
   "metadata": {
    "collapsed": false,
    "ExecuteTime": {
     "end_time": "2023-05-18T11:47:18.828975Z",
     "start_time": "2023-05-18T11:47:18.822564Z"
    }
   }
  },
  {
   "cell_type": "code",
   "execution_count": 48,
   "outputs": [
    {
     "name": "stdout",
     "output_type": "stream",
     "text": [
      "Input - Random passenger data: \n",
      "origin          calatayud\n",
      "destination        girona\n",
      "user_pattern     business\n",
      "week_day        wednesday\n",
      "month             january\n",
      "time             08:59:00\n",
      "Name: 4011, dtype: object\n",
      "1/1 [==============================] - 0s 16ms/step\n",
      "Output - Passenger reconstruction: \n",
      "['calatayud', 'girona', 'business', 'thursday', 'october']\n",
      "Time prediction: \n",
      "09:07:00\n"
     ]
    }
   ],
   "source": [
    "random_index = np.random.randint(0, test_embedding.df.shape[0])\n",
    "\n",
    "random_words_embedding = test_embedding.words_embeddings[random_index:random_index+1]\n",
    "random_time_embedding = test_embedding.time_embedding[random_index:random_index+1]\n",
    "\n",
    "print(\"Input - Random passenger data: \")\n",
    "print(test_embedding.df.iloc[random_index])\n",
    "\n",
    "prediction = model.predict(x = [random_words_embedding, random_time_embedding])\n",
    "\n",
    "print(\"Output - Passenger reconstruction: \")\n",
    "decoded_words = [find_closest_embeddings(word_vector, test_embedding.embedding_dict) for word_vector in prediction[0][0]]\n",
    "print(decoded_words)\n",
    "\n",
    "print(\"Time prediction: \")\n",
    "predicted_time = test_embedding.decode_time_embedding([prediction[1][0]])\n",
    "print(predicted_time)"
   ],
   "metadata": {
    "collapsed": false,
    "ExecuteTime": {
     "end_time": "2023-05-18T11:48:09.148725Z",
     "start_time": "2023-05-18T11:48:09.100217Z"
    }
   }
  },
  {
   "cell_type": "markdown",
   "source": [
    "Mes y día como palabra, hora pensar idea para representar (ángulo?)"
   ],
   "metadata": {
    "collapsed": false
   }
  },
  {
   "cell_type": "markdown",
   "source": [
    "## Estudio de la correlación entre factores latentes y la entrada del autoencoder"
   ],
   "metadata": {
    "collapsed": false
   }
  },
  {
   "cell_type": "code",
   "execution_count": null,
   "outputs": [],
   "source": [],
   "metadata": {
    "collapsed": false
   }
  }
 ],
 "metadata": {
  "kernelspec": {
   "display_name": "Python 3",
   "language": "python",
   "name": "python3"
  },
  "language_info": {
   "codemirror_mode": {
    "name": "ipython",
    "version": 3
   },
   "file_extension": ".py",
   "mimetype": "text/x-python",
   "name": "python",
   "nbconvert_exporter": "python",
   "pygments_lexer": "ipython3",
   "version": "3.8.6"
  }
 },
 "nbformat": 4,
 "nbformat_minor": 0
}
