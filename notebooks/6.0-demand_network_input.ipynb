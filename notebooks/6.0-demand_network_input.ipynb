{
 "cells": [
  {
   "attachments": {},
   "cell_type": "markdown",
   "metadata": {},
   "source": [
    "# Transform Demand data, so it can be used by a Neural Network"
   ]
  },
  {
   "cell_type": "code",
   "execution_count": 27,
   "outputs": [],
   "source": [
    "import datetime\n",
    "import pandas as pd\n",
    "import numpy as np\n",
    "\n",
    "from typing import Tuple"
   ],
   "metadata": {
    "collapsed": false,
    "ExecuteTime": {
     "start_time": "2023-04-27T11:07:39.529789Z",
     "end_time": "2023-04-27T11:07:39.533072Z"
    }
   }
  },
  {
   "attachments": {},
   "cell_type": "markdown",
   "metadata": {},
   "source": [
    "## Generate Demand Data and Passenger objects"
   ]
  },
  {
   "cell_type": "code",
   "execution_count": 28,
   "metadata": {
    "ExecuteTime": {
     "start_time": "2023-04-27T11:07:41.450968Z",
     "end_time": "2023-04-27T11:07:42.725916Z"
    },
    "collapsed": false
   },
   "outputs": [],
   "source": [
    "from src.robin.demand.entities import Demand, Passenger\n",
    "\n",
    "path_config_demand = '../configs/test_case/demand_data.yml'\n",
    "\n",
    "demand = Demand.from_yaml(path_config_demand)\n",
    "\n",
    "passengers = demand.generate_passengers()"
   ]
  },
  {
   "attachments": {},
   "cell_type": "markdown",
   "metadata": {},
   "source": [
    "## Get passenger relevant information and save it in a dataframe"
   ]
  },
  {
   "cell_type": "code",
   "execution_count": 43,
   "outputs": [
    {
     "name": "stdout",
     "output_type": "stream",
     "text": [
      "  user_pattern origin destination  arrival_day arrival_time\n",
      "0     business  60000       04040      19509.0    7.5334277\n",
      "1     business  60000       04040      19509.0      8.24437\n",
      "2     business  60000       04040      19509.0      9.97972\n",
      "3     business  60000       04040      19509.0      9.56266\n",
      "4     business  60000       04040      19509.0     8.047462\n"
     ]
    }
   ],
   "source": [
    "def get_passenger_info(passenger: Passenger) -> Tuple[str, str, str, datetime.datetime, float]:\n",
    "    \"\"\"\n",
    "    Get the information of a passenger and return it as a tuple\n",
    "\n",
    "    Args:\n",
    "        passenger: Passenger object\n",
    "\n",
    "    Returns:\n",
    "        Tuple[str, str, str, datetime.date, float]: Tuple with the information of the passenger\n",
    "    \"\"\"\n",
    "    user_pattern = passenger.user_pattern.name\n",
    "    origin, destination = passenger.market.departure_station, passenger.market.arrival_station\n",
    "    arrival_day = datetime.datetime.combine(passenger.arrival_day.date, datetime.datetime.min.time())\n",
    "    arrival_time = np.asarray(passenger.arrival_time).astype(np.float32)\n",
    "    return user_pattern.lower(), origin, destination, arrival_day, arrival_time\n",
    "\n",
    "# Map a list of Passenger objects to a list of tuples with the passenger information\n",
    "passengers_info = list(map(get_passenger_info, passengers))\n",
    "\n",
    "# Dataframe with the passenger information\n",
    "df = pd.DataFrame(passengers_info, columns=['user_pattern', 'origin', 'destination', 'arrival_day', 'arrival_time'])\n",
    "\n",
    "def elapsed_days(date: datetime.datetime) -> np.ndarray:\n",
    "    \"\"\"\n",
    "    Returns the number of days elapsed since the first day of the year.\n",
    "\n",
    "    Args:\n",
    "        date (datetime.datetime): Datetime object.\n",
    "\n",
    "    Returns:\n",
    "        int: Number of days elapsed since the first day of the year.\n",
    "    \"\"\"\n",
    "    reference_date = datetime.datetime(1970, 1, 1)\n",
    "    return np.asarray((date - reference_date).days * 1.0).astype(np.float32)\n",
    "\n",
    "\n",
    "df['arrival_day'] = df['arrival_day'].apply(elapsed_days)\n",
    "print(df.head())"
   ],
   "metadata": {
    "collapsed": false,
    "ExecuteTime": {
     "start_time": "2023-04-27T11:11:07.863159Z",
     "end_time": "2023-04-27T11:11:07.937153Z"
    }
   }
  },
  {
   "cell_type": "markdown",
   "source": [
    "## Map stations IDs to Stations names"
   ],
   "metadata": {
    "collapsed": false
   }
  },
  {
   "cell_type": "code",
   "execution_count": 44,
   "outputs": [
    {
     "name": "stdout",
     "output_type": "stream",
     "text": [
      "  user_pattern  origin destination  arrival_day arrival_time\n",
      "0     business  madrid    zaragoza      19509.0    7.5334277\n",
      "1     business  madrid    zaragoza      19509.0      8.24437\n",
      "2     business  madrid    zaragoza      19509.0      9.97972\n",
      "3     business  madrid    zaragoza      19509.0      9.56266\n",
      "4     business  madrid    zaragoza      19509.0     8.047462\n"
     ]
    }
   ],
   "source": [
    "stations_csv_path = f'../data/renfe/renfe_stations.csv'\n",
    "\n",
    "def get_renfe_station_id(adif_id: str, stations_df: pd.DataFrame) -> str:\n",
    "    \"\"\"\n",
    "    Returns the Station name given the Adif station id.\n",
    "\n",
    "    Args:\n",
    "        adif_id (str): Adif station id.\n",
    "        stations_df (pd.DataFrame): Dataframe with the stations' information.\n",
    "\n",
    "    Returns:\n",
    "        str: Station name.\n",
    "    \"\"\"\n",
    "    station_name = stations_df[stations_df['stop_id'] == adif_id]['stop_name'].values[0]\n",
    "    station_name = station_name.replace(\"-\", \" \").split(\" \")[0].lower()\n",
    "    return station_name\n",
    "\n",
    "stations_df = pd.read_csv(stations_csv_path, dtype={'stop_id': str, 'renfe_id': str})\n",
    "\n",
    "df['origin'] = df['origin'].apply(get_renfe_station_id, args=(stations_df,))\n",
    "df['destination'] = df['destination'].apply(get_renfe_station_id, args=(stations_df,))\n",
    "\n",
    "print(df.head())"
   ],
   "metadata": {
    "collapsed": false,
    "ExecuteTime": {
     "start_time": "2023-04-27T11:11:12.287111Z",
     "end_time": "2023-04-27T11:11:16.413917Z"
    }
   }
  },
  {
   "cell_type": "markdown",
   "source": [
    "## Define Autoencoder Model\n",
    "\n",
    "## NOT FUNCTIONAL YET!"
   ],
   "metadata": {
    "collapsed": false
   }
  },
  {
   "cell_type": "markdown",
   "source": [
    "## Import pre-trained GloVe embeddings"
   ],
   "metadata": {
    "collapsed": false
   }
  },
  {
   "cell_type": "code",
   "execution_count": 45,
   "outputs": [
    {
     "name": "stdout",
     "output_type": "stream",
     "text": [
      "{'student', 'barcelona', 'madrid', 'zaragoza', 'business'}\n"
     ]
    }
   ],
   "source": [
    "# Get bag of words\n",
    "words_set = set(df[['user_pattern', 'origin', 'destination']].values.flatten())\n",
    "\n",
    "print(words_set)"
   ],
   "metadata": {
    "collapsed": false,
    "ExecuteTime": {
     "start_time": "2023-04-27T11:11:18.116004Z",
     "end_time": "2023-04-27T11:11:18.122996Z"
    }
   }
  },
  {
   "cell_type": "code",
   "execution_count": 46,
   "outputs": [
    {
     "name": "stdout",
     "output_type": "stream",
     "text": [
      "Found 400000 word vectors.\n",
      "student [-1.0729    0.94103   0.084904 -1.0766    0.42866   0.099877 -0.51081\n",
      " -0.24961  -0.30883   0.19553   0.1965   -0.73152   0.096916 -0.062686\n",
      "  0.12078  -0.72384  -0.382     0.6934    0.32956   0.40244   0.53485\n",
      "  0.91781  -0.44553   0.71804  -0.13635  -1.6906    0.15818  -1.2367\n",
      " -1.2278   -0.058566  2.7544    0.18672  -0.263    -1.2792    0.16992\n",
      "  0.40748   0.12248   0.11211   0.78318   0.036392 -0.40808  -0.058474\n",
      " -0.27932   0.33035   0.52384  -1.0487    0.27565   0.0363    0.048604\n",
      "  0.28239 ]\n",
      "barcelona [ 0.68944   1.2217   -0.23655   0.36109  -0.62116  -1.0075   -0.52565\n",
      "  0.65766  -1.2764    1.1286    1.1386   -0.36088  -1.3849   -0.58442\n",
      "  0.9772   -0.35103   0.29237  -0.27426  -1.3109   -0.015967 -1.0695\n",
      "  0.11901  -0.56335   0.49648  -0.44571  -0.47566   0.79045   0.42923\n",
      " -0.76743  -0.14029   1.7552    1.3342   -0.42864  -0.29125  -0.2056\n",
      "  0.21055   0.099324  1.4187    0.34068  -0.4477    1.0795    0.10387\n",
      "  0.15772  -0.51013  -0.50933   0.25395   0.050859 -0.084172  0.69738\n",
      " -1.192   ]\n",
      "madrid [ 1.3315     0.72181   -0.060088   0.43948    0.18419   -1.5083\n",
      " -0.48125    0.46037   -1.4088     1.2701     0.68031   -0.59232\n",
      " -1.6325    -0.30376    0.87685   -0.75531   -0.37583   -0.5363\n",
      " -1.0669     0.45537   -0.66694    0.43001   -0.69525    0.67518\n",
      " -0.93783   -0.67933    1.1104     0.37576   -0.36894   -0.083185\n",
      "  2.0346     0.96286   -0.56629   -0.7787    -0.10705   -0.14102\n",
      "  0.07384    0.62338    0.20366    0.0076751  0.71088    0.01501\n",
      "  0.53186   -0.82256   -0.35087    0.30876   -0.065328   0.23722\n",
      "  1.4692    -0.93469  ]\n",
      "zaragoza [ 1.0642    0.089939 -0.28715   0.82471   0.31063  -1.4798    0.12028\n",
      "  0.7449   -1.2919    0.39737   0.4715   -0.53483  -0.48049  -1.2998\n",
      "  0.32826  -1.3085   -0.67916  -0.20625  -0.7232    0.41638  -1.2895\n",
      " -0.69963  -0.23631   0.70175  -0.61498   0.20193   1.329     0.25294\n",
      " -0.093715 -0.16535   0.99605   1.2007   -0.26729  -0.42035  -0.15881\n",
      "  0.63906  -0.73977   1.3119    0.61136  -0.59197   1.3032    0.16094\n",
      " -0.027686 -0.9412   -0.68288   0.65116   0.47976  -0.32516   1.3912\n",
      " -0.50467 ]\n",
      "business [ 0.023693  0.13316   0.023131  0.49833   0.026874 -0.43252  -1.1364\n",
      " -0.82001   0.22388  -0.032119 -0.069651  0.39857  -0.58275   0.095008\n",
      " -0.023643  0.23237  -0.42441   0.65709   0.57802  -0.51602   1.8253\n",
      "  0.12951  -0.61773   0.39281  -0.35754  -1.6778   -0.45201  -0.47075\n",
      "  0.19487   0.35828   3.6034    0.32865   0.47288  -0.33787  -0.46234\n",
      " -0.51628  -1.3755    0.70789   0.4648   -0.16186  -0.0961   -0.28523\n",
      "  0.30047   0.50902   0.081356 -0.015639 -0.51021   0.34585   0.24201\n",
      "  0.82237 ]\n"
     ]
    }
   ],
   "source": [
    "# Import GloVe embeddings 50D\n",
    "import os\n",
    "import numpy as np\n",
    "\n",
    "word_index = {word: index for index, word in enumerate(words_set)}\n",
    "\n",
    "embeddings_index = {}\n",
    "f = open(os.path.join('../data/pretrained/glove6B/glove.6B.50d.txt'))\n",
    "\n",
    "for line in f:\n",
    "    values = line.split()\n",
    "    word = values[0]\n",
    "    coefs = np.asarray(values[1:], dtype=np.float32)\n",
    "    embeddings_index[word] = coefs\n",
    "f.close()\n",
    "\n",
    "print('Found %s word vectors.' % len(embeddings_index))\n",
    "\n",
    "EMBEDDING_DIM = 50\n",
    "\n",
    "embedding_matrix = np.zeros((len(word_index) + 1, EMBEDDING_DIM))\n",
    "\n",
    "for word, i in word_index.items():\n",
    "    embedding_vector = embeddings_index.get(word)\n",
    "    print(word, embedding_vector)\n",
    "    if embedding_vector is not None:\n",
    "        # Words not found in embedding index will be all-zeros.\n",
    "        embedding_matrix[i] = embedding_vector"
   ],
   "metadata": {
    "collapsed": false,
    "ExecuteTime": {
     "start_time": "2023-04-27T11:11:19.173983Z",
     "end_time": "2023-04-27T11:11:22.749974Z"
    }
   }
  },
  {
   "cell_type": "code",
   "execution_count": 104,
   "outputs": [
    {
     "name": "stdout",
     "output_type": "stream",
     "text": [
      "Model: \"model_17\"\n",
      "_________________________________________________________________\n",
      " Layer (type)                Output Shape              Param #   \n",
      "=================================================================\n",
      " input_words (InputLayer)    [(None, 3)]               0         \n",
      "                                                                 \n",
      " words_embedding (Embedding)  (None, 3, 50)            300       \n",
      "                                                                 \n",
      " hidden (Dense)              (None, 3, 16)             816       \n",
      "                                                                 \n",
      " latent (Dense)              (None, 3, 8)              136       \n",
      "                                                                 \n",
      " decoded (Dense)             (None, 3, 16)             144       \n",
      "                                                                 \n",
      " output_words (Dense)        (None, 3, 3)              51        \n",
      "                                                                 \n",
      "=================================================================\n",
      "Total params: 1,447\n",
      "Trainable params: 1,447\n",
      "Non-trainable params: 0\n",
      "_________________________________________________________________\n"
     ]
    }
   ],
   "source": [
    "from keras.models import Model\n",
    "from keras.layers import Input, Embedding, Dense\n",
    "\n",
    "vocab_size = len(words_set)\n",
    "\n",
    "input_words = Input(shape=(3,), name='input_words')\n",
    "\n",
    "words_embedding = Embedding(input_dim= vocab_size + 1, # +1?\n",
    "                            output_dim=EMBEDDING_DIM,\n",
    "                            weights=[embedding_matrix],\n",
    "                            name='words_embedding', trainable=True\n",
    "                            )(input_words)\n",
    "\n",
    "hidden = Dense(16, activation='relu', name='hidden')(words_embedding)\n",
    "latent = Dense(8, activation='relu', name='latent')(hidden)\n",
    "\n",
    "decoded = Dense(16, activation='relu', name='decoded')(latent)\n",
    "output_words = Dense(3, activation='softmax', name='output_words')(decoded)\n",
    "\n",
    "model = Model(inputs=[input_words], outputs=[output_words])\n",
    "\n",
    "model.compile(loss='binary_crossentropy', optimizer='adam', metrics=['accuracy'])\n",
    "\n",
    "model.summary()"
   ],
   "metadata": {
    "collapsed": false,
    "ExecuteTime": {
     "start_time": "2023-04-27T11:47:50.077465Z",
     "end_time": "2023-04-27T11:47:50.156714Z"
    }
   }
  },
  {
   "cell_type": "code",
   "execution_count": 105,
   "outputs": [],
   "source": [
    "input = df[['user_pattern', 'origin', 'destination']].values.tolist()"
   ],
   "metadata": {
    "collapsed": false,
    "ExecuteTime": {
     "start_time": "2023-04-27T13:23:13.993532Z",
     "end_time": "2023-04-27T13:23:14.004074Z"
    }
   }
  },
  {
   "cell_type": "code",
   "execution_count": 106,
   "outputs": [
    {
     "name": "stdout",
     "output_type": "stream",
     "text": [
      "Epoch 1/10\n"
     ]
    },
    {
     "ename": "ValueError",
     "evalue": "in user code:\n\n    File \"/Users/david/opt/anaconda3/envs/robin/lib/python3.8/site-packages/keras/engine/training.py\", line 1051, in train_function  *\n        return step_function(self, iterator)\n    File \"/Users/david/opt/anaconda3/envs/robin/lib/python3.8/site-packages/keras/engine/training.py\", line 1040, in step_function  **\n        outputs = model.distribute_strategy.run(run_step, args=(data,))\n    File \"/Users/david/opt/anaconda3/envs/robin/lib/python3.8/site-packages/keras/engine/training.py\", line 1030, in run_step  **\n        outputs = model.train_step(data)\n    File \"/Users/david/opt/anaconda3/envs/robin/lib/python3.8/site-packages/keras/engine/training.py\", line 890, in train_step\n        loss = self.compute_loss(x, y, y_pred, sample_weight)\n    File \"/Users/david/opt/anaconda3/envs/robin/lib/python3.8/site-packages/keras/engine/training.py\", line 948, in compute_loss\n        return self.compiled_loss(\n    File \"/Users/david/opt/anaconda3/envs/robin/lib/python3.8/site-packages/keras/engine/compile_utils.py\", line 201, in __call__\n        loss_value = loss_obj(y_t, y_p, sample_weight=sw)\n    File \"/Users/david/opt/anaconda3/envs/robin/lib/python3.8/site-packages/keras/losses.py\", line 139, in __call__\n        losses = call_fn(y_true, y_pred)\n    File \"/Users/david/opt/anaconda3/envs/robin/lib/python3.8/site-packages/keras/losses.py\", line 243, in call  **\n        return ag_fn(y_true, y_pred, **self._fn_kwargs)\n    File \"/Users/david/opt/anaconda3/envs/robin/lib/python3.8/site-packages/keras/losses.py\", line 1930, in binary_crossentropy\n        backend.binary_crossentropy(y_true, y_pred, from_logits=from_logits),\n    File \"/Users/david/opt/anaconda3/envs/robin/lib/python3.8/site-packages/keras/backend.py\", line 5283, in binary_crossentropy\n        return tf.nn.sigmoid_cross_entropy_with_logits(labels=target, logits=output)\n\n    ValueError: `logits` and `labels` must have the same shape, received ((1, 3, 3) vs (1, 3)).\n",
     "output_type": "error",
     "traceback": [
      "\u001B[0;31m---------------------------------------------------------------------------\u001B[0m",
      "\u001B[0;31mValueError\u001B[0m                                Traceback (most recent call last)",
      "Cell \u001B[0;32mIn [106], line 1\u001B[0m\n\u001B[0;32m----> 1\u001B[0m \u001B[43mmodel\u001B[49m\u001B[38;5;241;43m.\u001B[39;49m\u001B[43mfit\u001B[49m\u001B[43m(\u001B[49m\u001B[38;5;28;43minput\u001B[39;49m\u001B[43m,\u001B[49m\u001B[43m \u001B[49m\u001B[38;5;28;43minput\u001B[39;49m\u001B[43m,\u001B[49m\u001B[43m \u001B[49m\u001B[43mepochs\u001B[49m\u001B[38;5;241;43m=\u001B[39;49m\u001B[38;5;241;43m10\u001B[39;49m\u001B[43m,\u001B[49m\u001B[43m \u001B[49m\u001B[43mbatch_size\u001B[49m\u001B[38;5;241;43m=\u001B[39;49m\u001B[38;5;241;43m1\u001B[39;49m\u001B[43m,\u001B[49m\u001B[43m \u001B[49m\u001B[43mverbose\u001B[49m\u001B[38;5;241;43m=\u001B[39;49m\u001B[38;5;241;43m1\u001B[39;49m\u001B[43m)\u001B[49m\n",
      "File \u001B[0;32m~/opt/anaconda3/envs/robin/lib/python3.8/site-packages/keras/utils/traceback_utils.py:67\u001B[0m, in \u001B[0;36mfilter_traceback.<locals>.error_handler\u001B[0;34m(*args, **kwargs)\u001B[0m\n\u001B[1;32m     65\u001B[0m \u001B[38;5;28;01mexcept\u001B[39;00m \u001B[38;5;167;01mException\u001B[39;00m \u001B[38;5;28;01mas\u001B[39;00m e:  \u001B[38;5;66;03m# pylint: disable=broad-except\u001B[39;00m\n\u001B[1;32m     66\u001B[0m   filtered_tb \u001B[38;5;241m=\u001B[39m _process_traceback_frames(e\u001B[38;5;241m.\u001B[39m__traceback__)\n\u001B[0;32m---> 67\u001B[0m   \u001B[38;5;28;01mraise\u001B[39;00m e\u001B[38;5;241m.\u001B[39mwith_traceback(filtered_tb) \u001B[38;5;28;01mfrom\u001B[39;00m \u001B[38;5;28mNone\u001B[39m\n\u001B[1;32m     68\u001B[0m \u001B[38;5;28;01mfinally\u001B[39;00m:\n\u001B[1;32m     69\u001B[0m   \u001B[38;5;28;01mdel\u001B[39;00m filtered_tb\n",
      "File \u001B[0;32m/var/folders/6v/_n_c8nbs3jngq_wpzc8m_58r0000gn/T/__autograph_generated_file2rl2ii5j.py:15\u001B[0m, in \u001B[0;36mouter_factory.<locals>.inner_factory.<locals>.tf__train_function\u001B[0;34m(iterator)\u001B[0m\n\u001B[1;32m     13\u001B[0m \u001B[38;5;28;01mtry\u001B[39;00m:\n\u001B[1;32m     14\u001B[0m     do_return \u001B[38;5;241m=\u001B[39m \u001B[38;5;28;01mTrue\u001B[39;00m\n\u001B[0;32m---> 15\u001B[0m     retval_ \u001B[38;5;241m=\u001B[39m ag__\u001B[38;5;241m.\u001B[39mconverted_call(ag__\u001B[38;5;241m.\u001B[39mld(step_function), (ag__\u001B[38;5;241m.\u001B[39mld(\u001B[38;5;28mself\u001B[39m), ag__\u001B[38;5;241m.\u001B[39mld(iterator)), \u001B[38;5;28;01mNone\u001B[39;00m, fscope)\n\u001B[1;32m     16\u001B[0m \u001B[38;5;28;01mexcept\u001B[39;00m:\n\u001B[1;32m     17\u001B[0m     do_return \u001B[38;5;241m=\u001B[39m \u001B[38;5;28;01mFalse\u001B[39;00m\n",
      "\u001B[0;31mValueError\u001B[0m: in user code:\n\n    File \"/Users/david/opt/anaconda3/envs/robin/lib/python3.8/site-packages/keras/engine/training.py\", line 1051, in train_function  *\n        return step_function(self, iterator)\n    File \"/Users/david/opt/anaconda3/envs/robin/lib/python3.8/site-packages/keras/engine/training.py\", line 1040, in step_function  **\n        outputs = model.distribute_strategy.run(run_step, args=(data,))\n    File \"/Users/david/opt/anaconda3/envs/robin/lib/python3.8/site-packages/keras/engine/training.py\", line 1030, in run_step  **\n        outputs = model.train_step(data)\n    File \"/Users/david/opt/anaconda3/envs/robin/lib/python3.8/site-packages/keras/engine/training.py\", line 890, in train_step\n        loss = self.compute_loss(x, y, y_pred, sample_weight)\n    File \"/Users/david/opt/anaconda3/envs/robin/lib/python3.8/site-packages/keras/engine/training.py\", line 948, in compute_loss\n        return self.compiled_loss(\n    File \"/Users/david/opt/anaconda3/envs/robin/lib/python3.8/site-packages/keras/engine/compile_utils.py\", line 201, in __call__\n        loss_value = loss_obj(y_t, y_p, sample_weight=sw)\n    File \"/Users/david/opt/anaconda3/envs/robin/lib/python3.8/site-packages/keras/losses.py\", line 139, in __call__\n        losses = call_fn(y_true, y_pred)\n    File \"/Users/david/opt/anaconda3/envs/robin/lib/python3.8/site-packages/keras/losses.py\", line 243, in call  **\n        return ag_fn(y_true, y_pred, **self._fn_kwargs)\n    File \"/Users/david/opt/anaconda3/envs/robin/lib/python3.8/site-packages/keras/losses.py\", line 1930, in binary_crossentropy\n        backend.binary_crossentropy(y_true, y_pred, from_logits=from_logits),\n    File \"/Users/david/opt/anaconda3/envs/robin/lib/python3.8/site-packages/keras/backend.py\", line 5283, in binary_crossentropy\n        return tf.nn.sigmoid_cross_entropy_with_logits(labels=target, logits=output)\n\n    ValueError: `logits` and `labels` must have the same shape, received ((1, 3, 3) vs (1, 3)).\n"
     ]
    }
   ],
   "source": [
    "model.fit(input, input, epochs=10, batch_size=1, verbose=1)"
   ],
   "metadata": {
    "collapsed": false
   }
  },
  {
   "cell_type": "code",
   "execution_count": null,
   "outputs": [],
   "source": [],
   "metadata": {
    "collapsed": false
   }
  }
 ],
 "metadata": {
  "kernelspec": {
   "display_name": "Python 3",
   "language": "python",
   "name": "python3"
  },
  "language_info": {
   "codemirror_mode": {
    "name": "ipython",
    "version": 3
   },
   "file_extension": ".py",
   "mimetype": "text/x-python",
   "name": "python",
   "nbconvert_exporter": "python",
   "pygments_lexer": "ipython3",
   "version": "3.8.6"
  }
 },
 "nbformat": 4,
 "nbformat_minor": 0
}
