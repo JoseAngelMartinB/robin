{
 "cells": [
  {
   "attachments": {},
   "cell_type": "markdown",
   "metadata": {},
   "source": [
    "# Transform Demand data, so it can be used by a Neural Network"
   ]
  },
  {
   "cell_type": "code",
   "execution_count": 8,
   "outputs": [],
   "source": [
    "import datetime\n",
    "import pandas as pd\n",
    "\n",
    "from typing import Tuple"
   ],
   "metadata": {
    "collapsed": false,
    "ExecuteTime": {
     "start_time": "2023-04-26T11:50:13.501371Z",
     "end_time": "2023-04-26T11:50:13.507440Z"
    }
   }
  },
  {
   "attachments": {},
   "cell_type": "markdown",
   "metadata": {},
   "source": [
    "## Generate Demand Data and Passenger objects"
   ]
  },
  {
   "cell_type": "code",
   "execution_count": 9,
   "metadata": {
    "ExecuteTime": {
     "start_time": "2023-04-26T11:50:15.342289Z",
     "end_time": "2023-04-26T11:50:16.342373Z"
    },
    "collapsed": false
   },
   "outputs": [],
   "source": [
    "from src.robin.demand.entities import Demand, Passenger\n",
    "\n",
    "path_config_demand = '../configs/test_case/demand_data.yml'\n",
    "\n",
    "demand = Demand.from_yaml(path_config_demand)\n",
    "\n",
    "passengers = demand.generate_passengers()"
   ]
  },
  {
   "attachments": {},
   "cell_type": "markdown",
   "metadata": {},
   "source": [
    "## Get passenger relevant information and save it in a dataframe"
   ]
  },
  {
   "cell_type": "code",
   "execution_count": 11,
   "outputs": [
    {
     "name": "stdout",
     "output_type": "stream",
     "text": [
      "  user_pattern origin destination arrival_day  arrival_time\n",
      "0     business  60000       04040  2023-06-01      7.481474\n",
      "1     business  60000       04040  2023-06-01      7.454439\n",
      "2     business  60000       04040  2023-06-01      8.142726\n",
      "3     business  60000       04040  2023-06-01      7.103851\n",
      "4     business  60000       04040  2023-06-01      7.723837\n"
     ]
    }
   ],
   "source": [
    "def get_passenger_info(passenger: Passenger) -> Tuple[str, str, str, float]:\n",
    "    \"\"\"\n",
    "    Get the information of a passenger and return it as a tuple\n",
    "\n",
    "    Args:\n",
    "        passenger: Passenger object\n",
    "\n",
    "    Returns:\n",
    "        Tuple[str, str, str, datetime.date, float]: Tuple with the information of the passenger\n",
    "    \"\"\"\n",
    "    user_pattern = passenger.user_pattern.name\n",
    "    origin, destination = passenger.market.departure_station, passenger.market.arrival_station\n",
    "    arrival_day = datetime.datetime.combine(passenger.arrival_day.date, datetime.datetime.min.time())\n",
    "    #arrival_float = passenger.arrival_time\n",
    "    #arrival_hour = int(arrival_float)\n",
    "    #arrival_minute = int((arrival_float - arrival_hour) * 60)\n",
    "    #arrival_time = arrival_day + datetime.timedelta(hours=arrival_hour, minutes=arrival_minute)\n",
    "    arrival_time = passenger.arrival_time\n",
    "    return user_pattern.lower(), origin, destination, arrival_day, arrival_time\n",
    "\n",
    "# Map a list of Passenger objects to a list of tuples with the passenger information\n",
    "passengers_info = list(map(get_passenger_info, passengers))\n",
    "\n",
    "# Dataframe with the passenger information\n",
    "df = pd.DataFrame(passengers_info, columns=['user_pattern', 'origin', 'destination', 'arrival_day', 'arrival_time'])\n",
    "\n",
    "print(df.head())"
   ],
   "metadata": {
    "collapsed": false,
    "ExecuteTime": {
     "start_time": "2023-04-26T11:50:34.574941Z",
     "end_time": "2023-04-26T11:50:34.580821Z"
    }
   }
  },
  {
   "cell_type": "markdown",
   "source": [
    "## Map stations IDs to Stations names"
   ],
   "metadata": {
    "collapsed": false
   }
  },
  {
   "cell_type": "code",
   "execution_count": 4,
   "outputs": [
    {
     "name": "stdout",
     "output_type": "stream",
     "text": [
      "('business', '60000', '04040', datetime.datetime(2023, 6, 1, 8, 39))\n"
     ]
    }
   ],
   "source": [
    "print(passengers_info[0])"
   ],
   "metadata": {
    "collapsed": false,
    "ExecuteTime": {
     "start_time": "2023-04-26T11:43:40.036554Z",
     "end_time": "2023-04-26T11:43:40.044302Z"
    }
   }
  },
  {
   "cell_type": "code",
   "execution_count": 5,
   "outputs": [
    {
     "name": "stdout",
     "output_type": "stream",
     "text": [
      "  user_pattern  origin destination  arrival_time\n",
      "0     business  madrid    zaragoza         31140\n",
      "1     business  madrid    zaragoza         36600\n",
      "2     business  madrid    zaragoza         27540\n",
      "3     business  madrid    zaragoza         26760\n",
      "4     business  madrid    zaragoza         35220\n"
     ]
    }
   ],
   "source": [
    "stations_csv_path = f'../data/renfe/renfe_stations.csv'\n",
    "\n",
    "def get_renfe_station_id(adif_id: str, stations_df: pd.DataFrame) -> str:\n",
    "    \"\"\"\n",
    "    Returns the Station name given the Adif station id.\n",
    "\n",
    "    Args:\n",
    "        adif_id (str): Adif station id.\n",
    "        stations_df (pd.DataFrame): Dataframe with the stations' information.\n",
    "\n",
    "    Returns:\n",
    "        str: Station name.\n",
    "    \"\"\"\n",
    "    station_name = stations_df[stations_df['stop_id'] == adif_id]['stop_name'].values[0]\n",
    "    station_name = station_name.replace(\"-\", \" \").split(\" \")[0].lower()\n",
    "    return station_name\n",
    "\n",
    "def datetime_to_seconds(date: datetime.datetime) -> float:\n",
    "    \"\"\"\n",
    "    Returns the time in seconds of a datetime object.\n",
    "\n",
    "    Args:\n",
    "        date (datetime.datetime): Datetime object.\n",
    "\n",
    "    Returns:\n",
    "        float: Time in seconds.\n",
    "    \"\"\"\n",
    "    return date.hour * 3600 + date.minute * 60 + date.second\n",
    "\n",
    "stations_df = pd.read_csv(stations_csv_path, dtype={'stop_id': str, 'renfe_id': str})\n",
    "\n",
    "df['origin'] = df['origin'].apply(get_renfe_station_id, args=(stations_df,))\n",
    "df['destination'] = df['destination'].apply(get_renfe_station_id, args=(stations_df,))\n",
    "df['arrival_time'] = df['arrival_time'].apply(datetime_to_seconds)\n",
    "\n",
    "print(df.head())"
   ],
   "metadata": {
    "collapsed": false,
    "ExecuteTime": {
     "start_time": "2023-04-26T11:43:41.004138Z",
     "end_time": "2023-04-26T11:43:44.976057Z"
    }
   }
  },
  {
   "cell_type": "code",
   "execution_count": 7,
   "outputs": [
    {
     "name": "stdout",
     "output_type": "stream",
     "text": [
      "  user_pattern  origin destination         arrival_time\n",
      "0     business  madrid    zaragoza  0001-01-01 08:39:00\n",
      "1     business  madrid    zaragoza  0001-01-01 10:10:00\n",
      "2     business  madrid    zaragoza  0001-01-01 07:39:00\n",
      "3     business  madrid    zaragoza  0001-01-01 07:26:00\n",
      "4     business  madrid    zaragoza  0001-01-01 09:47:00\n"
     ]
    }
   ],
   "source": [
    "def seconds_to_datetime(seconds: float) -> datetime.datetime:\n",
    "    \"\"\"\n",
    "    Returns a datetime object given the time in seconds.\n",
    "\n",
    "    Args:\n",
    "        seconds (float): Time in seconds.\n",
    "\n",
    "    Returns:\n",
    "        datetime.datetime: Datetime object.\n",
    "    \"\"\"\n",
    "    return datetime.datetime.min + datetime.timedelta(seconds=seconds)\n",
    "\n",
    "df['arrival_time'] = df['arrival_time'].apply(seconds_to_datetime)\n",
    "\n",
    "print(df.head())"
   ],
   "metadata": {
    "collapsed": false,
    "ExecuteTime": {
     "start_time": "2023-04-26T11:44:54.673366Z",
     "end_time": "2023-04-26T11:44:54.679306Z"
    }
   }
  },
  {
   "cell_type": "markdown",
   "source": [
    "## Define Autoencoder Model\n",
    "\n",
    "## NOT FUNCTIONAL YET!"
   ],
   "metadata": {
    "collapsed": false
   }
  },
  {
   "cell_type": "markdown",
   "source": [
    "## Import pre-trained GloVe embeddings"
   ],
   "metadata": {
    "collapsed": false
   }
  },
  {
   "cell_type": "code",
   "execution_count": 6,
   "outputs": [
    {
     "name": "stdout",
     "output_type": "stream",
     "text": [
      "{'barcelona', 'madrid', 'student', 'zaragoza', 'business'}\n"
     ]
    }
   ],
   "source": [
    "# Get bag of words\n",
    "words_set = set(df[['user_pattern', 'origin', 'destination']].values.flatten())\n",
    "\n",
    "print(words_set)"
   ],
   "metadata": {
    "collapsed": false,
    "ExecuteTime": {
     "start_time": "2023-04-26T11:43:48.384622Z",
     "end_time": "2023-04-26T11:43:48.391173Z"
    }
   }
  },
  {
   "cell_type": "code",
   "execution_count": 61,
   "outputs": [
    {
     "name": "stdout",
     "output_type": "stream",
     "text": [
      "Found 400000 word vectors.\n",
      "student [-1.0729    0.94103   0.084904 -1.0766    0.42866   0.099877 -0.51081\n",
      " -0.24961  -0.30883   0.19553   0.1965   -0.73152   0.096916 -0.062686\n",
      "  0.12078  -0.72384  -0.382     0.6934    0.32956   0.40244   0.53485\n",
      "  0.91781  -0.44553   0.71804  -0.13635  -1.6906    0.15818  -1.2367\n",
      " -1.2278   -0.058566  2.7544    0.18672  -0.263    -1.2792    0.16992\n",
      "  0.40748   0.12248   0.11211   0.78318   0.036392 -0.40808  -0.058474\n",
      " -0.27932   0.33035   0.52384  -1.0487    0.27565   0.0363    0.048604\n",
      "  0.28239 ]\n",
      "madrid [ 1.3315     0.72181   -0.060088   0.43948    0.18419   -1.5083\n",
      " -0.48125    0.46037   -1.4088     1.2701     0.68031   -0.59232\n",
      " -1.6325    -0.30376    0.87685   -0.75531   -0.37583   -0.5363\n",
      " -1.0669     0.45537   -0.66694    0.43001   -0.69525    0.67518\n",
      " -0.93783   -0.67933    1.1104     0.37576   -0.36894   -0.083185\n",
      "  2.0346     0.96286   -0.56629   -0.7787    -0.10705   -0.14102\n",
      "  0.07384    0.62338    0.20366    0.0076751  0.71088    0.01501\n",
      "  0.53186   -0.82256   -0.35087    0.30876   -0.065328   0.23722\n",
      "  1.4692    -0.93469  ]\n",
      "business [ 0.023693  0.13316   0.023131  0.49833   0.026874 -0.43252  -1.1364\n",
      " -0.82001   0.22388  -0.032119 -0.069651  0.39857  -0.58275   0.095008\n",
      " -0.023643  0.23237  -0.42441   0.65709   0.57802  -0.51602   1.8253\n",
      "  0.12951  -0.61773   0.39281  -0.35754  -1.6778   -0.45201  -0.47075\n",
      "  0.19487   0.35828   3.6034    0.32865   0.47288  -0.33787  -0.46234\n",
      " -0.51628  -1.3755    0.70789   0.4648   -0.16186  -0.0961   -0.28523\n",
      "  0.30047   0.50902   0.081356 -0.015639 -0.51021   0.34585   0.24201\n",
      "  0.82237 ]\n",
      "barcelona [ 0.68944   1.2217   -0.23655   0.36109  -0.62116  -1.0075   -0.52565\n",
      "  0.65766  -1.2764    1.1286    1.1386   -0.36088  -1.3849   -0.58442\n",
      "  0.9772   -0.35103   0.29237  -0.27426  -1.3109   -0.015967 -1.0695\n",
      "  0.11901  -0.56335   0.49648  -0.44571  -0.47566   0.79045   0.42923\n",
      " -0.76743  -0.14029   1.7552    1.3342   -0.42864  -0.29125  -0.2056\n",
      "  0.21055   0.099324  1.4187    0.34068  -0.4477    1.0795    0.10387\n",
      "  0.15772  -0.51013  -0.50933   0.25395   0.050859 -0.084172  0.69738\n",
      " -1.192   ]\n",
      "zaragoza [ 1.0642    0.089939 -0.28715   0.82471   0.31063  -1.4798    0.12028\n",
      "  0.7449   -1.2919    0.39737   0.4715   -0.53483  -0.48049  -1.2998\n",
      "  0.32826  -1.3085   -0.67916  -0.20625  -0.7232    0.41638  -1.2895\n",
      " -0.69963  -0.23631   0.70175  -0.61498   0.20193   1.329     0.25294\n",
      " -0.093715 -0.16535   0.99605   1.2007   -0.26729  -0.42035  -0.15881\n",
      "  0.63906  -0.73977   1.3119    0.61136  -0.59197   1.3032    0.16094\n",
      " -0.027686 -0.9412   -0.68288   0.65116   0.47976  -0.32516   1.3912\n",
      " -0.50467 ]\n"
     ]
    }
   ],
   "source": [
    "# Import GloVe embeddings 50D\n",
    "import os\n",
    "import numpy as np\n",
    "\n",
    "word_index = {word: index for index, word in enumerate(words_set)}\n",
    "\n",
    "embeddings_index = {}\n",
    "f = open(os.path.join('../data/pretrained/glove6B/glove.6B.50d.txt'))\n",
    "\n",
    "for line in f:\n",
    "    values = line.split()\n",
    "    word = values[0]\n",
    "    coefs = np.asarray(values[1:], dtype=np.float32)\n",
    "    embeddings_index[word] = coefs\n",
    "f.close()\n",
    "\n",
    "print('Found %s word vectors.' % len(embeddings_index))\n",
    "\n",
    "EMBEDDING_DIM = 50\n",
    "\n",
    "embedding_matrix = np.zeros((len(word_index) + 1, EMBEDDING_DIM))\n",
    "\n",
    "for word, i in word_index.items():\n",
    "    embedding_vector = embeddings_index.get(word)\n",
    "    print(word, embedding_vector)\n",
    "    if embedding_vector is not None:\n",
    "        # Words not found in embedding index will be all-zeros.\n",
    "        embedding_matrix[i] = embedding_vector"
   ],
   "metadata": {
    "collapsed": false,
    "ExecuteTime": {
     "start_time": "2023-04-25T19:00:24.117098Z",
     "end_time": "2023-04-25T19:00:27.757239Z"
    }
   }
  },
  {
   "cell_type": "code",
   "execution_count": 62,
   "outputs": [],
   "source": [
    "# Keras Time2Vec custom layer - From: https://towardsdatascience.com/time2vec-for-time-series-features-encoding-a03a4f3f937e\n",
    "\n",
    "\"\"\"module for implementing time to vector encoding\"\"\"\n",
    "\n",
    "import tensorflow as tf\n",
    "from keras.layers import Layer\n",
    "\n",
    "class Time2Vec(Layer):\n",
    "    \"\"\"Time to vector encoding layer.\"\"\"\n",
    "\n",
    "    def __init__(self, kernel: int = 64, activation: str = \"sin\") -> None:\n",
    "        \"\"\"\n",
    "        Args:\n",
    "            kernel (int, optional): length of time vector representation. Defaults to 64\n",
    "            activation (str, optional): periodic activation for time encoding. Defaults to \"sin\".\n",
    "        Raises:\n",
    "            NotImplementedError: Non-supported activations\n",
    "        \"\"\"\n",
    "\n",
    "        # periodic components\n",
    "        if activation in [\"sin\", \"cos\"]:\n",
    "            activation = {\"sin\": tf.math.sin, \"cos\": tf.math.cos}[activation]\n",
    "        else:\n",
    "            raise NotImplementedError(\n",
    "                f\"'{activation}' is an unsupported periodic activation.\"\n",
    "            )\n",
    "\n",
    "        super().__init__(trainable=True, name=\"Time2VecLayer_\" + activation.__name__)\n",
    "\n",
    "        self.k = kernel - 1\n",
    "        self.p_activation = activation\n",
    "\n",
    "    def build(self, input_shape: tuple) -> None:\n",
    "        \"\"\"method for building and initializing the weights for the tensor operations\n",
    "        Args:\n",
    "            input_shape (tuple): shape of the incoming tensor\n",
    "        \"\"\"\n",
    "        # Linear component\n",
    "        self.w_b = self.add_weight(\n",
    "            shape=(1, input_shape[1], 1), initializer=\"uniform\", trainable=True\n",
    "        )\n",
    "\n",
    "        self.b_b = self.add_weight(\n",
    "            shape=(1, input_shape[1], 1), initializer=\"uniform\", trainable=True\n",
    "        )\n",
    "\n",
    "        # Periodic components\n",
    "        self.freq = self.add_weight(\n",
    "            shape=(1, input_shape[1], self.k), initializer=\"uniform\", trainable=True\n",
    "        )\n",
    "\n",
    "        self.phase = self.add_weight(\n",
    "            shape=(1, input_shape[1], self.k), initializer=\"uniform\", trainable=True\n",
    "        )\n",
    "\n",
    "        super().build(input_shape)\n",
    "\n",
    "    def call(self, inputs: tf.Tensor, **kwargs) -> tf.Tensor:\n",
    "\n",
    "        \"\"\"method to perform the layer operation\n",
    "        Args:\n",
    "            inputs (tf.Tensor): shape = (batch_size, feature_size)\n",
    "        Returns:\n",
    "            tf.Tensor: shape = (batch_size, feature_size, length of time vector representation)\n",
    "        \"\"\"\n",
    "\n",
    "        inputs = tf.expand_dims(inputs, axis=-1)\n",
    "\n",
    "        # Linear components\n",
    "        lin = (\n",
    "            # Multiply each time dimension with the corresponding linear time component\n",
    "            tf.multiply(inputs, self.w_b)\n",
    "            # Bias component for each time dimension\n",
    "            + self.b_b\n",
    "        )\n",
    "\n",
    "        # Periodic components\n",
    "        # Multiply each time dimension (M, D, H, mins, etc.) with the corresponding frequency vector\n",
    "        per = tf.multiply(tf.tile(inputs, multiples=[1, 1, self.k]), self.freq)\n",
    "        # Phase vector for each time dimension\n",
    "        per = self.p_activation(per + self.phase)\n",
    "        return tf.concat([lin, per], -1)\n",
    "\n",
    "    def compute_output_shape(self, input_shape: tuple) -> tuple:\n",
    "        \"\"\"computes the shape of output tensor\n",
    "        Args:\n",
    "            input_shape (tuple): shape of incoming tensor\n",
    "        Returns:\n",
    "            tuple: shape of outgoing tensor\n",
    "        \"\"\"\n",
    "        return input_shape[0], input_shape[1], self.k + 1\n"
   ],
   "metadata": {
    "collapsed": false,
    "ExecuteTime": {
     "start_time": "2023-04-25T19:00:29.767416Z",
     "end_time": "2023-04-25T19:00:29.770679Z"
    }
   }
  },
  {
   "cell_type": "code",
   "execution_count": 63,
   "outputs": [],
   "source": [
    "from keras.models import Model\n",
    "from keras.layers import Input, Embedding, Dense, Concatenate\n",
    "from keras.layers import Flatten, Dropout\n",
    "\n",
    "vocab_size = len(words_set)\n",
    "\n",
    "# Encoder inputs\n",
    "input_words = Input(shape=(3,), name='input_words')\n",
    "input_date = Input(shape=(1,), name='input_date')\n",
    "\n",
    "words_embedding = Embedding(input_dim= vocab_size + 1, # +1?\n",
    "                            output_dim=EMBEDDING_DIM,\n",
    "                            weights=[embedding_matrix],\n",
    "                            name='words_embedding', trainable=True\n",
    "                            )(input_words)\n",
    "\n",
    "time2vec = Time2Vec(1)(input_date)\n",
    "\n",
    "flat_words = Flatten()(words_embedding)\n",
    "flat_dates = Flatten()(time2vec)\n",
    "\n",
    "x = Concatenate()([flat_words, flat_dates])\n",
    "\n",
    "hidden = Dense(32, activation='relu', name='hidden')(x)\n",
    "\n",
    "output_words = Dense(3, activation='softmax', name='output_words')(hidden)\n",
    "output_date = Dense(1, activation='linear', name='output_date')(hidden)\n",
    "\n",
    "model = Model(inputs=[input_words, input_date], outputs=[output_words, output_date])\n",
    "\n",
    "# Compilar el modelo\n",
    "model.compile(loss='binary_crossentropy', optimizer='adam', metrics=['accuracy'])"
   ],
   "metadata": {
    "collapsed": false,
    "ExecuteTime": {
     "start_time": "2023-04-25T19:00:31.571682Z",
     "end_time": "2023-04-25T19:00:31.636034Z"
    }
   }
  },
  {
   "cell_type": "code",
   "execution_count": null,
   "outputs": [],
   "source": [
    "input = [df[['user_pattern', 'origin', 'destination']].values, df[['arrival_time']].values]\n",
    "\n",
    "output = [df[['user_pattern', 'origin', 'destination']].values, df[['arrival_time']].values]\n",
    "\n",
    "print(input)\n",
    "\n",
    "model.fit(input, output, epochs=10, batch_size=32, verbose=1)"
   ],
   "metadata": {
    "collapsed": false
   }
  },
  {
   "cell_type": "code",
   "execution_count": null,
   "outputs": [],
   "source": [],
   "metadata": {
    "collapsed": false
   }
  }
 ],
 "metadata": {
  "kernelspec": {
   "display_name": "Python 3",
   "language": "python",
   "name": "python3"
  },
  "language_info": {
   "codemirror_mode": {
    "name": "ipython",
    "version": 3
   },
   "file_extension": ".py",
   "mimetype": "text/x-python",
   "name": "python",
   "nbconvert_exporter": "python",
   "pygments_lexer": "ipython3",
   "version": "3.8.6"
  }
 },
 "nbformat": 4,
 "nbformat_minor": 0
}
