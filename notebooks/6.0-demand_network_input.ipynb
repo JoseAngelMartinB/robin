{
 "cells": [
  {
   "attachments": {},
   "cell_type": "markdown",
   "metadata": {},
   "source": [
    "# Transform Demand data, so it can be used by a Neural Network"
   ]
  },
  {
   "cell_type": "code",
   "execution_count": 25,
   "outputs": [],
   "source": [
    "import datetime\n",
    "import pandas as pd\n",
    "\n",
    "from typing import Tuple"
   ],
   "metadata": {
    "collapsed": false,
    "ExecuteTime": {
     "start_time": "2023-04-24T13:35:21.978271Z",
     "end_time": "2023-04-24T13:35:22.494429Z"
    }
   }
  },
  {
   "attachments": {},
   "cell_type": "markdown",
   "metadata": {},
   "source": [
    "## Generate Demand Data and Passenger objects"
   ]
  },
  {
   "cell_type": "code",
   "execution_count": 21,
   "metadata": {
    "ExecuteTime": {
     "start_time": "2023-04-24T13:33:48.045539Z",
     "end_time": "2023-04-24T13:33:48.956560Z"
    },
    "collapsed": false
   },
   "outputs": [],
   "source": [
    "from src.robin.demand.entities import Demand, Passenger\n",
    "\n",
    "path_config_demand = '../configs/test_case/demand_data.yml'\n",
    "\n",
    "demand = Demand.from_yaml(path_config_demand)\n",
    "\n",
    "passengers = demand.generate_passengers()"
   ]
  },
  {
   "attachments": {},
   "cell_type": "markdown",
   "metadata": {},
   "source": [
    "## Get passenger relevant information and save it in a dataframe"
   ]
  },
  {
   "cell_type": "code",
   "execution_count": 30,
   "outputs": [
    {
     "name": "stdout",
     "output_type": "stream",
     "text": [
      "  user_pattern origin destination        arrival_time\n",
      "0     Business  60000       04040 2023-06-01 08:48:00\n",
      "1     Business  60000       04040 2023-06-01 09:24:00\n",
      "2     Business  60000       04040 2023-06-01 06:25:00\n",
      "3     Business  60000       04040 2023-06-01 08:38:00\n",
      "4     Business  60000       04040 2023-06-01 07:57:00\n"
     ]
    }
   ],
   "source": [
    "def get_passenger_info(passenger: Passenger) -> Tuple[str, str, str, datetime.datetime]:\n",
    "    \"\"\"\n",
    "    Get the information of a passenger and return it as a tuple\n",
    "\n",
    "    Args:\n",
    "        passenger: Passenger object\n",
    "\n",
    "    Returns:\n",
    "        Tuple[str, str, str, datetime.date, float]: Tuple with the information of the passenger\n",
    "    \"\"\"\n",
    "    user_pattern = passenger.user_pattern.name\n",
    "    origin, destination = passenger.market.departure_station, passenger.market.arrival_station\n",
    "    arrival_day = datetime.datetime.combine(passenger.arrival_day.date, datetime.datetime.min.time())\n",
    "    arrival_float = passenger.arrival_time\n",
    "    arrival_hour = int(arrival_float)\n",
    "    arrival_minute = int((arrival_float - arrival_hour) * 60)\n",
    "    arrival_time = arrival_day + datetime.timedelta(hours=arrival_hour, minutes=arrival_minute)\n",
    "    return user_pattern, origin, destination, arrival_time\n",
    "\n",
    "# Map a list of Passenger objects to a list of tuples with the passenger information\n",
    "passengers_info = list(map(get_passenger_info, passengers))\n",
    "\n",
    "# Dataframe with the passenger information\n",
    "df = pd.DataFrame(passengers_info, columns=['user_pattern', 'origin', 'destination', 'arrival_time'])\n",
    "\n",
    "print(df.head())"
   ],
   "metadata": {
    "collapsed": false,
    "ExecuteTime": {
     "start_time": "2023-04-24T13:41:20.648585Z",
     "end_time": "2023-04-24T13:41:20.650783Z"
    }
   }
  },
  {
   "cell_type": "code",
   "execution_count": 31,
   "outputs": [
    {
     "name": "stdout",
     "output_type": "stream",
     "text": [
      "('Business', '60000', '04040', datetime.datetime(2023, 6, 1, 8, 48))\n"
     ]
    }
   ],
   "source": [
    "print(passengers_info[0])"
   ],
   "metadata": {
    "collapsed": false,
    "ExecuteTime": {
     "start_time": "2023-04-24T13:46:46.254506Z",
     "end_time": "2023-04-24T13:46:46.256968Z"
    }
   }
  },
  {
   "cell_type": "markdown",
   "source": [
    "# Embedding of the user patterns, origins and destinations\n",
    "\n",
    "Test Keras word2vec implementation from: https://sites.nd.edu/munira-syed/2019/10/25/word2vec-implementation-with-keras-2-0/"
   ],
   "metadata": {
    "collapsed": false
   }
  },
  {
   "cell_type": "code",
   "execution_count": 33,
   "outputs": [
    {
     "name": "stderr",
     "output_type": "stream",
     "text": [
      "2023-04-24 14:10:46.328363: I tensorflow/core/platform/cpu_feature_guard.cc:193] This TensorFlow binary is optimized with oneAPI Deep Neural Network Library (oneDNN) to use the following CPU instructions in performance-critical operations:  SSE4.1 SSE4.2 AVX AVX2 FMA\n",
      "To enable them in other operations, rebuild TensorFlow with the appropriate compiler flags.\n"
     ]
    }
   ],
   "source": [
    "from keras.layers import dot\n",
    "from keras.layers.core import Dense, Reshape\n",
    "from keras.layers import Embedding\n",
    "from keras.models import Sequential\n",
    "from keras.models import Model\n",
    "\n",
    "vocab_size = 3\n",
    "embed_size = 5\n",
    "\n",
    "word_model = Sequential()\n",
    "word_model.add(Embedding(vocab_size, embed_size,\n",
    "               embeddings_initializer=\"glorot_uniform\",\n",
    "               input_length=1))\n",
    "word_model.add(Reshape((embed_size, )))\n",
    "\n",
    "context_model = Sequential()\n",
    "context_model.add(Embedding(vocab_size, embed_size,\n",
    "                  embeddings_initializer=\"glorot_uniform\",\n",
    "                  input_length=1))\n",
    "context_model.add(Reshape((embed_size,)))\n",
    "\n",
    "dot_product = dot([word_model.output, context_model.output], axes=1,\n",
    "                  normalize=False)\n",
    "dot_product = Dense(1, kernel_initializer=\"glorot_uniform\",\n",
    "              activation=\"sigmoid\")(dot_product)\n",
    "model = Model(inputs=[word_model.input, context_model.input],\n",
    "              outputs=dot_product)\n",
    "\n",
    "model.compile(loss=\"mean_squared_error\", optimizer=\"rmsprop\")"
   ],
   "metadata": {
    "collapsed": false,
    "ExecuteTime": {
     "start_time": "2023-04-24T14:10:42.464511Z",
     "end_time": "2023-04-24T14:10:46.396635Z"
    }
   }
  },
  {
   "cell_type": "code",
   "execution_count": null,
   "outputs": [],
   "source": [],
   "metadata": {
    "collapsed": false
   }
  }
 ],
 "metadata": {
  "kernelspec": {
   "display_name": "Python 3",
   "language": "python",
   "name": "python3"
  },
  "language_info": {
   "codemirror_mode": {
    "name": "ipython",
    "version": 3
   },
   "file_extension": ".py",
   "mimetype": "text/x-python",
   "name": "python",
   "nbconvert_exporter": "python",
   "pygments_lexer": "ipython3",
   "version": "3.8.6"
  }
 },
 "nbformat": 4,
 "nbformat_minor": 0
}
