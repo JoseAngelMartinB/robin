{
 "cells": [
  {
   "attachments": {},
   "cell_type": "markdown",
   "metadata": {},
   "source": [
    "# Interpretability of autoencoder latent space for passengers demand-sensitive planning on high-speed railways (IWANN 2023)\n"
   ]
  },
  {
   "cell_type": "code",
   "execution_count": 1,
   "outputs": [],
   "source": [
    "import datetime\n",
    "import math\n",
    "import nltk\n",
    "import numpy as np\n",
    "import os\n",
    "import pandas as pd\n",
    "import random\n",
    "\n",
    "from feature_engine.creation import CyclicalFeatures\n",
    "from nltk.corpus import wordnet\n",
    "from sklearn.preprocessing import MinMaxScaler\n",
    "from scipy import spatial\n",
    "from typing import Dict, List, Tuple\n",
    "\n",
    "EMBEDDING_DIM = 50"
   ],
   "metadata": {
    "collapsed": false,
    "ExecuteTime": {
     "end_time": "2023-05-17T22:07:01.254278Z",
     "start_time": "2023-05-17T22:06:59.591117Z"
    }
   }
  },
  {
   "cell_type": "code",
   "execution_count": 2,
   "outputs": [
    {
     "name": "stderr",
     "output_type": "stream",
     "text": [
      "[nltk_data] Downloading package wordnet to /Users/david/nltk_data...\n",
      "[nltk_data]   Package wordnet is already up-to-date!\n"
     ]
    },
    {
     "data": {
      "text/plain": "True"
     },
     "execution_count": 2,
     "metadata": {},
     "output_type": "execute_result"
    }
   ],
   "source": [
    "# Download wordnet if not already downloaded\n",
    "nltk.download('wordnet')"
   ],
   "metadata": {
    "collapsed": false,
    "ExecuteTime": {
     "end_time": "2023-05-17T22:07:01.395923Z",
     "start_time": "2023-05-17T22:07:01.256697Z"
    }
   }
  },
  {
   "cell_type": "code",
   "execution_count": 3,
   "outputs": [
    {
     "name": "stdout",
     "output_type": "stream",
     "text": [
      "[['madrid', 'guadalajara', 'calatayud', 'zaragoza', 'lleida', 'tarragona', 'barcelona', 'girona', 'figueres']]\n"
     ]
    }
   ],
   "source": [
    "from src.robin.supply.entities import Supply\n",
    "\n",
    "def get_paths_from_supply(path_config_supply: str = '../configs/test_case/supply_data.yml') -> List[List[str]]:\n",
    "    \"\"\"\n",
    "    Get the paths of a supply\n",
    "\n",
    "    Args:\n",
    "        path_config_supply (str, optional): Path to the supply config file. Defaults to '../configs/test_case/supply_data.yml'.\n",
    "\n",
    "    Returns:\n",
    "        List[List[str]]: List of paths\n",
    "    \"\"\"\n",
    "    supply = Supply.from_yaml(path_config_supply)\n",
    "\n",
    "    # Get set of corridors\n",
    "    corridors = []\n",
    "    for service in supply.services:\n",
    "        if service.line.corridor not in corridors:\n",
    "            corridors.append(service.line.corridor)\n",
    "\n",
    "    # Get set of paths\n",
    "    paths = []\n",
    "    for corridor in corridors:\n",
    "        for path in corridor.paths:\n",
    "            if path not in paths:\n",
    "                paths.append(path)\n",
    "\n",
    "    # Parse paths of Station objects to paths of station mame\n",
    "    paths = [[station.name.replace(\"-\", \" \").split(\" \")[0].lower() for station in path] for path in paths]\n",
    "    return paths\n",
    "\n",
    "paths = get_paths_from_supply()\n",
    "print(paths)"
   ],
   "metadata": {
    "collapsed": false,
    "ExecuteTime": {
     "end_time": "2023-05-17T22:07:01.526260Z",
     "start_time": "2023-05-17T22:07:01.399087Z"
    }
   }
  },
  {
   "cell_type": "code",
   "execution_count": 4,
   "outputs": [],
   "source": [
    "def get_word_syn(word: str) -> str:\n",
    "    \"\"\"\n",
    "    Get a random synonym of a word\n",
    "\n",
    "    Args:\n",
    "        word (str): Word to get the synonym from\n",
    "\n",
    "    Returns:\n",
    "        str: Synonym of the word\n",
    "    \"\"\"\n",
    "    word_synset = wordnet.synsets(word)\n",
    "    if len(word_synset) > 0:\n",
    "        station_synset = word_synset[0]\n",
    "        station_lemmas = station_synset.lemmas()\n",
    "        if len(station_lemmas) > 0:\n",
    "            word_lemma = random.choice(station_lemmas)\n",
    "            return word_lemma.name().lower()\n",
    "\n",
    "    return word\n",
    "\n",
    "def get_random_pair(paths: list[list]) -> Tuple[str, str]:\n",
    "    \"\"\"\n",
    "    Get a random pair of stations from a path\n",
    "\n",
    "    Args:\n",
    "        paths (list[list]): List of stations\n",
    "\n",
    "    Returns:\n",
    "        Tuple[str, str]: Tuple with the origin and destination stations\n",
    "    \"\"\"\n",
    "    random_path = random.choice(paths)  # Choose a random path\n",
    "\n",
    "    origin_index = random.randint(0, len(random_path) - 2)  # Choose a random origin station\n",
    "    destination_index = random.randint(origin_index + 1, len(random_path) - 1)  # Choose a random destination station\n",
    "\n",
    "    origin_station = random_path[origin_index]\n",
    "    destination_station = random_path[destination_index]\n",
    "    return origin_station, destination_station"
   ],
   "metadata": {
    "collapsed": false,
    "ExecuteTime": {
     "end_time": "2023-05-17T22:07:01.536962Z",
     "start_time": "2023-05-17T22:07:01.525907Z"
    }
   }
  },
  {
   "cell_type": "code",
   "execution_count": 5,
   "outputs": [],
   "source": [
    "def get_renfe_station_id(adif_id: str, stations_df: pd.DataFrame) -> str:\n",
    "    \"\"\"\n",
    "    Returns the Station name given the Adif station id.\n",
    "\n",
    "    Args:\n",
    "        adif_id (str): Adif station id.\n",
    "        stations_df (pd.DataFrame): Dataframe with the stations' information.\n",
    "\n",
    "    Returns:\n",
    "        str: Station name.\n",
    "    \"\"\"\n",
    "    station_name = stations_df[stations_df['stop_id'] == adif_id]['stop_name'].values[0]\n",
    "    station_name = station_name.replace(\"-\", \" \").split(\" \")[0].lower()\n",
    "    return station_name\n",
    "\n",
    "stations_csv_path = f'../data/renfe/renfe_stations.csv'\n",
    "stations_df = pd.read_csv(stations_csv_path, dtype={'stop_id': str, 'renfe_id': str})"
   ],
   "metadata": {
    "collapsed": false,
    "ExecuteTime": {
     "end_time": "2023-05-17T22:07:01.543451Z",
     "start_time": "2023-05-17T22:07:01.538197Z"
    }
   }
  },
  {
   "cell_type": "code",
   "execution_count": 6,
   "outputs": [
    {
     "name": "stdout",
     "output_type": "stream",
     "text": [
      "        origin  destination user_pattern   week_day    month      time\n",
      "0       madrid    tarragona      tourist     monday      may  14:39:00\n",
      "1     zaragoza    tarragona     business    tuesday  january  23:52:00\n",
      "2  guadalajara    barcelona     business     friday   august  01:46:00\n",
      "3       madrid  guadalajara      student  wednesday   august  07:48:00\n",
      "4     zaragoza    tarragona      student     monday   august  04:15:00\n"
     ]
    }
   ],
   "source": [
    "def simulate_passengers_data(paths: list, user_patterns: list, n_passengers: int = 10000, seed: int = 42) -> pd.DataFrame:\n",
    "    # Set random state\n",
    "    random.seed(seed)\n",
    "\n",
    "    pairs = []\n",
    "    for _ in range(n_passengers):\n",
    "        pairs.append(get_random_pair(paths))\n",
    "\n",
    "    df = pd.DataFrame(pairs, columns=['origin', 'destination'])\n",
    "    df['user_pattern'] = [random.choice(user_patterns) for _ in range(n_passengers)]\n",
    "\n",
    "    random_days = lambda: random.randint(0, 365*10)\n",
    "    random_hours = lambda: random.randint(0, 24)\n",
    "    random_minutes = lambda: random.randint(0,60)\n",
    "\n",
    "    random_timedelta = lambda: datetime.timedelta(days=random_days(), hours=random_hours(), minutes=random_minutes())\n",
    "    df['arrival_date'] = [datetime.datetime(2021, 1, 1) + random_timedelta() for _ in range(n_passengers)]\n",
    "    df['week_day'] = [date.strftime('%A').lower() for date in df['arrival_date']]\n",
    "    df['month'] = [date.strftime('%B').lower() for date in df['arrival_date']]\n",
    "    df['time'] = [date.time() for date in df['arrival_date']]\n",
    "    df.drop(columns=['arrival_date'], inplace=True)\n",
    "    return df\n",
    "\n",
    "user_patterns = (\"business\", \"student\", \"tourist\")\n",
    "df = simulate_passengers_data(paths, user_patterns, n_passengers=10000)\n",
    "print(df.head())"
   ],
   "metadata": {
    "collapsed": false,
    "ExecuteTime": {
     "end_time": "2023-05-17T22:07:01.702471Z",
     "start_time": "2023-05-17T22:07:01.549190Z"
    }
   }
  },
  {
   "cell_type": "code",
   "execution_count": 7,
   "outputs": [],
   "source": [
    "class AutoencoderEmbedding:\n",
    "    \"\"\"\n",
    "    Class to get the embedding of a dataframe to be used as input of an autoencoder\n",
    "\n",
    "    Attributes:\n",
    "        df (pd.DataFrame): Dataframe with the data to be embedded\n",
    "        df_embedding (pd.DataFrame): Dataframe with the embedding.\n",
    "        embedding_dim (int, optional): Embedding dimension. Defaults to 50.\n",
    "        embedding_dict (dict): Dictionary with the embedding.\n",
    "        scaler (MinMaxScaler): Scaler to normalize the data.\n",
    "        cyclical (CyclicalFeatures): Cyclical features transformer.\n",
    "        df_time (pd.DataFrame): Dataframe with the time embedding.\n",
    "        input_arrays (list[np.array]): List of arrays with the embedded input data.\n",
    "    \"\"\"\n",
    "    def __init__(self, df: pd.DataFrame, embedding_dim: int = 50):\n",
    "        \"\"\"\n",
    "        Constructor method\n",
    "\n",
    "        Args:\n",
    "            df (pd.DataFrame): Dataframe with the data to be embedded\n",
    "            embedding_dim (int, optional): Embedding dimension. Defaults to 50.\n",
    "        \"\"\"\n",
    "        self.df = df\n",
    "        self.df_embedding = pd.DataFrame()\n",
    "        self.embedding_dim = embedding_dim\n",
    "        self.embedding_dict = self._get_embedding_dict()\n",
    "        self.scaler = MinMaxScaler()\n",
    "        self.cyclical = CyclicalFeatures(variables=['time'], drop_original=True)\n",
    "        self.input_arrays = self._get_input_arrays()\n",
    "\n",
    "    def _get_embedding_dict(self) -> Dict[str, np.array]:\n",
    "        \"\"\"\n",
    "        Get the words embedding dictionary\n",
    "\n",
    "        Returns:\n",
    "            Dict[str, np.array]: Dictionary with the embedding.\n",
    "        \"\"\"\n",
    "        # Get bag of words\n",
    "        words_set = set(self.df[['origin', 'destination', 'user_pattern', 'week_day', 'month']].values.flatten())\n",
    "        word_index = {word: index for index, word in enumerate(words_set)}\n",
    "\n",
    "        embeddings_index = {}\n",
    "        f = open(os.path.join('../data/pretrained/glove6B/glove.6B.50d.txt'))\n",
    "\n",
    "        # Read GloVe embeddings\n",
    "        for line in f:\n",
    "            values = line.split()\n",
    "            word = values[0]\n",
    "            coefs = np.asarray(values[1:], dtype=np.float32)\n",
    "            embeddings_index[word] = coefs\n",
    "        f.close()\n",
    "\n",
    "        # Create embedding matrix\n",
    "        embedding_matrix = np.zeros((len(word_index) + 1, self.embedding_dim))\n",
    "        embedding_dict = {}\n",
    "        for word, i in word_index.items():\n",
    "            embedding_vector = embeddings_index.get(word)\n",
    "            if embedding_vector is not None:\n",
    "                embedding_matrix[i] = embedding_vector\n",
    "                embedding_dict[word] = embedding_vector\n",
    "\n",
    "        return embedding_dict\n",
    "\n",
    "    def _get_input_arrays(self) -> np.array:\n",
    "        \"\"\"\n",
    "        Get the input arrays\n",
    "\n",
    "        Returns:\n",
    "            np.array: Array with the embedded input data.\n",
    "        \"\"\"\n",
    "        self.df_embedding['origin'] = self.df['origin'].apply(lambda x: self.embedding_dict.get(x))\n",
    "        self.df_embedding['destination'] = self.df['destination'].apply(lambda x: self.embedding_dict.get(x))\n",
    "        self.df_embedding['user_pattern'] = self.df['user_pattern'].apply(lambda x: self.embedding_dict.get(x))\n",
    "        self.df_embedding['week_day'] = self.df['week_day'].apply(lambda x: self.embedding_dict.get(x))\n",
    "        self.df_embedding['month'] = self.df['month'].apply(lambda x: self.embedding_dict.get(x))\n",
    "\n",
    "        def encode_time(time: datetime.time) -> np.float32:\n",
    "            total_minutes = (time.hour * 60) + time.minute\n",
    "            total_degrees = (total_minutes / (24 * 60)) * 360\n",
    "            encoded_value = math.sin(math.radians(total_degrees))\n",
    "            return np.float32(encoded_value)\n",
    "\n",
    "        self.df_embedding['time'] = self.df['time'].apply(lambda x: encode_time(x))\n",
    "\n",
    "        self.df_embedding = self.df_embedding[['origin', 'destination', 'user_pattern', 'week_day', 'month']]\n",
    "        input_data = self.df_embedding[['origin', 'destination', 'user_pattern', 'week_day', 'month']].values.tolist()\n",
    "        return np.array([np.asarray(row, dtype=np.float32) for row in input_data])"
   ],
   "metadata": {
    "collapsed": false,
    "ExecuteTime": {
     "end_time": "2023-05-17T22:07:01.713096Z",
     "start_time": "2023-05-17T22:07:01.711361Z"
    }
   }
  },
  {
   "cell_type": "code",
   "execution_count": 8,
   "outputs": [
    {
     "name": "stdout",
     "output_type": "stream",
     "text": [
      "Train data shape:  (7000, 6)\n",
      "Test data shape:  (3000, 6)\n",
      "Test data autoencoder input shape:  (3000, 5, 50)\n",
      "First test data instance:  origin          zaragoza\n",
      "destination       lleida\n",
      "user_pattern     student\n",
      "week_day          sunday\n",
      "month               june\n",
      "time            22:10:00\n",
      "Name: 6252, dtype: object\n",
      "First test data instance embedded:  [[ 1.0642    0.089939 -0.28715   0.82471   0.31063  -1.4798    0.12028\n",
      "   0.7449   -1.2919    0.39737   0.4715   -0.53483  -0.48049  -1.2998\n",
      "   0.32826  -1.3085   -0.67916  -0.20625  -0.7232    0.41638  -1.2895\n",
      "  -0.69963  -0.23631   0.70175  -0.61498   0.20193   1.329     0.25294\n",
      "  -0.093715 -0.16535   0.99605   1.2007   -0.26729  -0.42035  -0.15881\n",
      "   0.63906  -0.73977   1.3119    0.61136  -0.59197   1.3032    0.16094\n",
      "  -0.027686 -0.9412   -0.68288   0.65116   0.47976  -0.32516   1.3912\n",
      "  -0.50467 ]\n",
      " [ 0.23779  -0.70155  -1.123     0.36108  -1.1387   -0.49992   0.28795\n",
      "   0.87089  -0.32366   0.85312   1.5365   -1.2579    0.45029  -0.87621\n",
      "  -0.3849   -0.45242  -1.0222    0.90672   0.60101   0.89574  -1.5187\n",
      "  -0.54763  -0.23907   1.3125   -0.30361   0.95009  -0.84021  -0.1023\n",
      "  -0.41569  -0.24651   0.20699   0.85849  -0.80493   0.55103   0.3738\n",
      "   0.39285   0.50441   0.77364   0.73249   0.94046   0.072068 -0.46804\n",
      "  -1.0545   -0.48751  -1.0242    1.0787    0.25623   0.24465   0.1344\n",
      "  -0.66684 ]\n",
      " [-1.0729    0.94103   0.084904 -1.0766    0.42866   0.099877 -0.51081\n",
      "  -0.24961  -0.30883   0.19553   0.1965   -0.73152   0.096916 -0.062686\n",
      "   0.12078  -0.72384  -0.382     0.6934    0.32956   0.40244   0.53485\n",
      "   0.91781  -0.44553   0.71804  -0.13635  -1.6906    0.15818  -1.2367\n",
      "  -1.2278   -0.058566  2.7544    0.18672  -0.263    -1.2792    0.16992\n",
      "   0.40748   0.12248   0.11211   0.78318   0.036392 -0.40808  -0.058474\n",
      "  -0.27932   0.33035   0.52384  -1.0487    0.27565   0.0363    0.048604\n",
      "   0.28239 ]\n",
      " [ 0.30272   0.47367   0.014592  0.75974   0.10437  -0.97046  -1.1058\n",
      "   1.0341   -0.43228  -0.81307  -0.71578  -1.5049   -0.71511   0.20684\n",
      "   0.83131  -0.031434 -0.63713  -0.73632  -1.2828    0.11016   0.043357\n",
      "   0.76154   0.36802   0.021238  0.1249   -1.6035    0.46462   0.57985\n",
      "  -0.40849   0.12044   3.227     0.8057   -0.81701   0.089946 -0.19074\n",
      "  -0.19545   0.71636   0.068456 -0.12522   0.098213 -0.091142  0.33782\n",
      "  -0.47617  -0.58733   0.49366   0.67611  -0.57251   0.59616   0.42731\n",
      "  -0.51154 ]\n",
      " [-0.038875  0.17613  -0.016038 -0.064066 -0.20913   0.049825 -1.0929\n",
      "   0.045317 -0.62033  -0.7479    0.33231  -0.70502  -0.38843  -0.47448\n",
      "   1.4496    0.30839  -1.3149   -0.56169  -1.6595    0.85848   1.3056\n",
      "  -0.35666   0.81395  -0.48261  -0.77276  -1.1614    0.60481  -0.41118\n",
      "  -0.076125  0.93533   2.8776   -0.28886  -1.0489   -0.30294   0.3079\n",
      "  -0.96906   0.74114   0.070662  0.024136 -0.47567  -0.73735  -0.54993\n",
      "  -0.13232  -1.3861   -0.38072   0.14414  -0.16532  -0.7342   -0.014946\n",
      "   0.15634 ]]\n"
     ]
    }
   ],
   "source": [
    "from sklearn.model_selection import train_test_split\n",
    "\n",
    "df_train, df_test = train_test_split(df, test_size=0.3, random_state=42)\n",
    "\n",
    "print(\"Train data shape: \", df_train.shape)\n",
    "print(\"Test data shape: \", df_test.shape)\n",
    "\n",
    "train_embedding = AutoencoderEmbedding(df = df_train, embedding_dim=EMBEDDING_DIM)\n",
    "test_embedding = AutoencoderEmbedding(df = df_test, embedding_dim=EMBEDDING_DIM)\n",
    "\n",
    "print(\"Test data autoencoder input shape: \", test_embedding.input_arrays.shape)\n",
    "print(\"First test data instance: \", test_embedding.df.iloc[0])\n",
    "print(\"First test data instance embedded: \", test_embedding.input_arrays[0])"
   ],
   "metadata": {
    "collapsed": false,
    "ExecuteTime": {
     "end_time": "2023-05-17T22:07:08.399118Z",
     "start_time": "2023-05-17T22:07:01.715015Z"
    }
   }
  },
  {
   "cell_type": "markdown",
   "source": [
    "## Embedding Model"
   ],
   "metadata": {
    "collapsed": false
   }
  },
  {
   "cell_type": "markdown",
   "source": [
    "## Autoencoder model"
   ],
   "metadata": {
    "collapsed": false
   }
  },
  {
   "cell_type": "code",
   "execution_count": 9,
   "outputs": [
    {
     "name": "stderr",
     "output_type": "stream",
     "text": [
      "2023-05-18 00:07:08.408834: I tensorflow/core/platform/cpu_feature_guard.cc:193] This TensorFlow binary is optimized with oneAPI Deep Neural Network Library (oneDNN) to use the following CPU instructions in performance-critical operations:  SSE4.1 SSE4.2 AVX AVX2 FMA\n",
      "To enable them in other operations, rebuild TensorFlow with the appropriate compiler flags.\n",
      "2023-05-18 00:07:11.902303: I tensorflow/core/platform/cpu_feature_guard.cc:193] This TensorFlow binary is optimized with oneAPI Deep Neural Network Library (oneDNN) to use the following CPU instructions in performance-critical operations:  SSE4.1 SSE4.2 AVX AVX2 FMA\n",
      "To enable them in other operations, rebuild TensorFlow with the appropriate compiler flags.\n"
     ]
    },
    {
     "name": "stdout",
     "output_type": "stream",
     "text": [
      "Model: \"model_2\"\n",
      "_________________________________________________________________\n",
      " Layer (type)                Output Shape              Param #   \n",
      "=================================================================\n",
      " input_1 (InputLayer)        [(None, 5, 50)]           0         \n",
      "                                                                 \n",
      " gru (GRU)                   (None, 5, 64)             22272     \n",
      "                                                                 \n",
      " gru_1 (GRU)                 (None, 32)                9408      \n",
      "                                                                 \n",
      " dense (Dense)               (None, 5)                 165       \n",
      "                                                                 \n",
      " model_1 (Functional)        (None, 5, 50)             25810     \n",
      "                                                                 \n",
      "=================================================================\n",
      "Total params: 57,655\n",
      "Trainable params: 57,655\n",
      "Non-trainable params: 0\n",
      "_________________________________________________________________\n"
     ]
    }
   ],
   "source": [
    "import tensorflow as tf\n",
    "from keras.layers import Input, GRU, Dense, RepeatVector, TimeDistributed\n",
    "from keras.models import Model\n",
    "\n",
    "input_shape = (5, EMBEDDING_DIM)\n",
    "output_shape = (5, EMBEDDING_DIM)\n",
    "\n",
    "latent_dim = 5\n",
    "\n",
    "inputs = Input(shape=input_shape)\n",
    "\n",
    "encoder = GRU(64, return_sequences=True)(inputs)\n",
    "encoder = GRU(32)(encoder)\n",
    "\n",
    "dense1 = Dense(latent_dim)(encoder)\n",
    "decoder_inputs = Input(shape=(latent_dim,))\n",
    "decoder = RepeatVector(input_shape[0])(decoder_inputs)\n",
    "decoder = GRU(32, return_sequences=True)(decoder)\n",
    "decoder = GRU(64, return_sequences=True)(decoder)\n",
    "decoder_outputs = TimeDistributed(Dense(output_shape[1]))(decoder)\n",
    "\n",
    "encoder_model = Model(inputs, dense1)\n",
    "decoder_model = Model(decoder_inputs, decoder_outputs)\n",
    "\n",
    "model = Model(inputs, decoder_model(dense1))\n",
    "\n",
    "model.compile(optimizer='adam', loss='mse', metrics=[tf.keras.metrics.MeanSquaredError()])\n",
    "model.summary()"
   ],
   "metadata": {
    "collapsed": false,
    "ExecuteTime": {
     "end_time": "2023-05-17T22:07:12.831331Z",
     "start_time": "2023-05-17T22:07:08.402827Z"
    }
   }
  },
  {
   "cell_type": "code",
   "execution_count": 20,
   "outputs": [
    {
     "name": "stdout",
     "output_type": "stream",
     "text": [
      "Model: \"model_5\"\n",
      "__________________________________________________________________________________________________\n",
      " Layer (type)                   Output Shape         Param #     Connected to                     \n",
      "==================================================================================================\n",
      " input_3 (InputLayer)           [(None, 4, 50)]      0           []                               \n",
      "                                                                                                  \n",
      " gru_4 (GRU)                    (None, 4, 64)        22272       ['input_3[0][0]']                \n",
      "                                                                                                  \n",
      " gru_5 (GRU)                    (None, 32)           9408        ['gru_4[0][0]']                  \n",
      "                                                                                                  \n",
      " dense_2 (Dense)                (None, 4)            132         ['gru_5[0][0]']                  \n",
      "                                                                                                  \n",
      " dense_3 (Dense)                (None, 4)            132         ['gru_5[0][0]']                  \n",
      "                                                                                                  \n",
      " lambda (Lambda)                (None, 4)            0           ['dense_2[0][0]',                \n",
      "                                                                  'dense_3[0][0]']                \n",
      "                                                                                                  \n",
      " model_4 (Functional)           (None, 4, 50)        25714       ['lambda[0][0]']                 \n",
      "                                                                                                  \n",
      " tf.__operators__.add (TFOpLamb  (None, 4)           0           ['dense_3[0][0]']                \n",
      " da)                                                                                              \n",
      "                                                                                                  \n",
      " tf.math.square (TFOpLambda)    (None, 4)            0           ['dense_2[0][0]']                \n",
      "                                                                                                  \n",
      " tf.math.subtract (TFOpLambda)  (None, 4)            0           ['tf.__operators__.add[0][0]',   \n",
      "                                                                  'tf.math.square[0][0]']         \n",
      "                                                                                                  \n",
      " tf.math.exp (TFOpLambda)       (None, 4)            0           ['dense_3[0][0]']                \n",
      "                                                                                                  \n",
      " tf.reshape_1 (TFOpLambda)      (None,)              0           ['model_4[0][0]']                \n",
      "                                                                                                  \n",
      " tf.reshape (TFOpLambda)        (None,)              0           ['input_3[0][0]']                \n",
      "                                                                                                  \n",
      " tf.math.subtract_1 (TFOpLambda  (None, 4)           0           ['tf.math.subtract[0][0]',       \n",
      " )                                                                'tf.math.exp[0][0]']            \n",
      "                                                                                                  \n",
      " tf.convert_to_tensor (TFOpLamb  (None,)             0           ['tf.reshape_1[0][0]']           \n",
      " da)                                                                                              \n",
      "                                                                                                  \n",
      " tf.cast (TFOpLambda)           (None,)              0           ['tf.reshape[0][0]']             \n",
      "                                                                                                  \n",
      " tf.math.reduce_sum (TFOpLambda  (None,)             0           ['tf.math.subtract_1[0][0]']     \n",
      " )                                                                                                \n",
      "                                                                                                  \n",
      " tf.math.squared_difference (TF  (None,)             0           ['tf.convert_to_tensor[0][0]',   \n",
      " OpLambda)                                                        'tf.cast[0][0]']                \n",
      "                                                                                                  \n",
      " tf.math.multiply (TFOpLambda)  (None,)              0           ['tf.math.reduce_sum[0][0]']     \n",
      "                                                                                                  \n",
      " tf.math.reduce_mean (TFOpLambd  ()                  0           ['tf.math.squared_difference[0][0\n",
      " a)                                                              ]']                              \n",
      "                                                                                                  \n",
      " tf.math.multiply_1 (TFOpLambda  (None,)             0           ['tf.math.multiply[0][0]']       \n",
      " )                                                                                                \n",
      "                                                                                                  \n",
      " tf.__operators__.add_1 (TFOpLa  (None,)             0           ['tf.math.reduce_mean[0][0]',    \n",
      " mbda)                                                            'tf.math.multiply_1[0][0]']     \n",
      "                                                                                                  \n",
      " tf.math.reduce_mean_1 (TFOpLam  ()                  0           ['tf.__operators__.add_1[0][0]'] \n",
      " bda)                                                                                             \n",
      "                                                                                                  \n",
      " add_loss (AddLoss)             ()                   0           ['tf.math.reduce_mean_1[0][0]']  \n",
      "                                                                                                  \n",
      "==================================================================================================\n",
      "Total params: 57,658\n",
      "Trainable params: 57,658\n",
      "Non-trainable params: 0\n",
      "__________________________________________________________________________________________________\n"
     ]
    }
   ],
   "source": [
    "import tensorflow as tf\n",
    "from keras.layers import Input, GRU, Dense, RepeatVector, TimeDistributed\n",
    "from keras.models import Model\n",
    "from keras import backend as K\n",
    "\n",
    "beta = 5\n",
    "\n",
    "input_shape = (4, EMBEDDING_DIM)\n",
    "output_shape = (4, EMBEDDING_DIM)\n",
    "latent_dim = 4\n",
    "\n",
    "inputs = Input(shape=input_shape)\n",
    "\n",
    "# Encoder\n",
    "encoder = GRU(64, return_sequences=True)(inputs)\n",
    "encoder = GRU(32)(encoder)\n",
    "\n",
    "# Latent layer\n",
    "z_mean = Dense(latent_dim)(encoder)\n",
    "z_log_var = Dense(latent_dim)(encoder)\n",
    "\n",
    "def sampling(args):\n",
    "    z_mean, z_log_var = args\n",
    "    epsilon = K.random_normal(shape=(K.shape(z_mean)[0], latent_dim), mean=0., stddev=1.)\n",
    "    return z_mean + K.exp(0.5 * z_log_var) * epsilon\n",
    "\n",
    "z = tf.keras.layers.Lambda(sampling)([z_mean, z_log_var])\n",
    "\n",
    "# Decoder\n",
    "decoder_inputs = Input(shape=(latent_dim,))\n",
    "decoder = RepeatVector(input_shape[0])(decoder_inputs)\n",
    "decoder = GRU(32, return_sequences=True)(decoder)\n",
    "decoder = GRU(64, return_sequences=True)(decoder)\n",
    "decoder_outputs = TimeDistributed(Dense(output_shape[1]))(decoder)\n",
    "\n",
    "# Use z_mean as encoder output to obtain a disentangled latent representation\n",
    "encoder_model = Model(inputs, z_mean)\n",
    "\n",
    "decoder_model = Model(decoder_inputs, decoder_outputs)\n",
    "\n",
    "# VAE model\n",
    "vae_outputs = decoder_model(z)\n",
    "model = Model(inputs, vae_outputs)\n",
    "\n",
    "# Loss function\n",
    "reconstruction_loss = tf.keras.losses.mean_squared_error(K.flatten(inputs), K.flatten(vae_outputs))\n",
    "kl_loss = -0.5 * K.sum(1 + z_log_var - K.square(z_mean) - K.exp(z_log_var), axis=-1)\n",
    "vae_loss = K.mean(reconstruction_loss + beta * kl_loss)\n",
    "model.add_loss(vae_loss)\n",
    "\n",
    "model.compile(optimizer='rmsprop', loss='mse', metrics=[tf.keras.metrics.MeanSquaredError()])\n",
    "model.summary()"
   ],
   "metadata": {
    "collapsed": false,
    "ExecuteTime": {
     "end_time": "2023-05-16T10:44:16.818555Z",
     "start_time": "2023-05-16T10:44:15.125566Z"
    }
   }
  },
  {
   "cell_type": "code",
   "execution_count": 22,
   "outputs": [
    {
     "name": "stdout",
     "output_type": "stream",
     "text": [
      "Model: \"model_8\"\n",
      "__________________________________________________________________________________________________\n",
      " Layer (type)                   Output Shape         Param #     Connected to                     \n",
      "==================================================================================================\n",
      " input_5 (InputLayer)           [(None, 4, 50)]      0           []                               \n",
      "                                                                                                  \n",
      " conv1d (Conv1D)                (None, 4, 64)        9664        ['input_5[0][0]']                \n",
      "                                                                                                  \n",
      " conv1d_1 (Conv1D)              (None, 4, 32)        6176        ['conv1d[0][0]']                 \n",
      "                                                                                                  \n",
      " global_max_pooling1d (GlobalMa  (None, 32)          0           ['conv1d_1[0][0]']               \n",
      " xPooling1D)                                                                                      \n",
      "                                                                                                  \n",
      " dense_5 (Dense)                (None, 4)            132         ['global_max_pooling1d[0][0]']   \n",
      "                                                                                                  \n",
      " dense_6 (Dense)                (None, 4)            132         ['global_max_pooling1d[0][0]']   \n",
      "                                                                                                  \n",
      " lambda_1 (Lambda)              (None, 4)            0           ['dense_5[0][0]',                \n",
      "                                                                  'dense_6[0][0]']                \n",
      "                                                                                                  \n",
      " model_7 (Functional)           (None, 4, 50)        19602       ['lambda_1[0][0]']               \n",
      "                                                                                                  \n",
      " tf.__operators__.add_2 (TFOpLa  (None, 4)           0           ['dense_6[0][0]']                \n",
      " mbda)                                                                                            \n",
      "                                                                                                  \n",
      " tf.math.square_1 (TFOpLambda)  (None, 4)            0           ['dense_5[0][0]']                \n",
      "                                                                                                  \n",
      " tf.math.subtract_2 (TFOpLambda  (None, 4)           0           ['tf.__operators__.add_2[0][0]', \n",
      " )                                                                'tf.math.square_1[0][0]']       \n",
      "                                                                                                  \n",
      " tf.math.exp_1 (TFOpLambda)     (None, 4)            0           ['dense_6[0][0]']                \n",
      "                                                                                                  \n",
      " tf.reshape_3 (TFOpLambda)      (None,)              0           ['model_7[0][0]']                \n",
      "                                                                                                  \n",
      " tf.reshape_2 (TFOpLambda)      (None,)              0           ['input_5[0][0]']                \n",
      "                                                                                                  \n",
      " tf.math.subtract_3 (TFOpLambda  (None, 4)           0           ['tf.math.subtract_2[0][0]',     \n",
      " )                                                                'tf.math.exp_1[0][0]']          \n",
      "                                                                                                  \n",
      " tf.convert_to_tensor_1 (TFOpLa  (None,)             0           ['tf.reshape_3[0][0]']           \n",
      " mbda)                                                                                            \n",
      "                                                                                                  \n",
      " tf.cast_1 (TFOpLambda)         (None,)              0           ['tf.reshape_2[0][0]']           \n",
      "                                                                                                  \n",
      " tf.math.reduce_sum_1 (TFOpLamb  (None,)             0           ['tf.math.subtract_3[0][0]']     \n",
      " da)                                                                                              \n",
      "                                                                                                  \n",
      " tf.math.squared_difference_1 (  (None,)             0           ['tf.convert_to_tensor_1[0][0]', \n",
      " TFOpLambda)                                                      'tf.cast_1[0][0]']              \n",
      "                                                                                                  \n",
      " tf.math.multiply_2 (TFOpLambda  (None,)             0           ['tf.math.reduce_sum_1[0][0]']   \n",
      " )                                                                                                \n",
      "                                                                                                  \n",
      " tf.math.reduce_mean_2 (TFOpLam  ()                  0           ['tf.math.squared_difference_1[0]\n",
      " bda)                                                            [0]']                            \n",
      "                                                                                                  \n",
      " tf.math.multiply_3 (TFOpLambda  (None,)             0           ['tf.math.multiply_2[0][0]']     \n",
      " )                                                                                                \n",
      "                                                                                                  \n",
      " tf.__operators__.add_3 (TFOpLa  (None,)             0           ['tf.math.reduce_mean_2[0][0]',  \n",
      " mbda)                                                            'tf.math.multiply_3[0][0]']     \n",
      "                                                                                                  \n",
      " tf.math.reduce_mean_3 (TFOpLam  ()                  0           ['tf.__operators__.add_3[0][0]'] \n",
      " bda)                                                                                             \n",
      "                                                                                                  \n",
      " add_loss_1 (AddLoss)           ()                   0           ['tf.math.reduce_mean_3[0][0]']  \n",
      "                                                                                                  \n",
      "==================================================================================================\n",
      "Total params: 35,706\n",
      "Trainable params: 35,706\n",
      "Non-trainable params: 0\n",
      "__________________________________________________________________________________________________\n"
     ]
    }
   ],
   "source": [
    "import tensorflow as tf\n",
    "from keras.layers import Input, Conv1D, GlobalMaxPooling1D, Conv1DTranspose\n",
    "from keras.models import Model\n",
    "from keras import backend as K\n",
    "\n",
    "beta = 5\n",
    "SEQUENCE_LENGTH = 4\n",
    "\n",
    "input_shape = (SEQUENCE_LENGTH, EMBEDDING_DIM)\n",
    "latent_dim = 4\n",
    "\n",
    "inputs = Input(shape=input_shape)\n",
    "\n",
    "# Encoder\n",
    "encoder = Conv1D(64, kernel_size=3, activation='relu', padding='same')(inputs)\n",
    "encoder = Conv1D(32, kernel_size=3, activation='relu', padding='same')(encoder)\n",
    "encoder = GlobalMaxPooling1D()(encoder)\n",
    "\n",
    "# Latent space\n",
    "z_mean = Dense(latent_dim)(encoder)\n",
    "z_log_var = Dense(latent_dim)(encoder)\n",
    "\n",
    "# Sampling function\n",
    "def sampling(args):\n",
    "    z_mean, z_log_var = args\n",
    "    epsilon = K.random_normal(shape=(K.shape(z_mean)[0], latent_dim), mean=0., stddev=1.)\n",
    "    return z_mean + K.exp(0.5 * z_log_var) * epsilon\n",
    "\n",
    "z = tf.keras.layers.Lambda(sampling)([z_mean, z_log_var])\n",
    "\n",
    "# Decoder\n",
    "decoder = Dense(32 * SEQUENCE_LENGTH, activation='relu')(z)\n",
    "decoder = tf.keras.layers.Reshape((SEQUENCE_LENGTH, 32))(decoder)\n",
    "decoder = Conv1DTranspose(32, kernel_size=3, activation='relu', padding='same')(decoder)\n",
    "decoder = Conv1DTranspose(64, kernel_size=3, activation='relu', padding='same')(decoder)\n",
    "decoder_outputs = Conv1DTranspose(EMBEDDING_DIM, kernel_size=3, padding='same')(decoder)\n",
    "\n",
    "encoder_model = Model(inputs, z_mean)\n",
    "decoder_model = Model(z, decoder_outputs)\n",
    "\n",
    "vae_outputs = decoder_model(z)\n",
    "model = Model(inputs, vae_outputs)\n",
    "\n",
    "# Loss function\n",
    "reconstruction_loss = tf.keras.losses.mean_squared_error(K.flatten(inputs), K.flatten(vae_outputs))\n",
    "kl_loss = -0.5 * K.sum(1 + z_log_var - K.square(z_mean) - K.exp(z_log_var), axis=-1)\n",
    "vae_loss = K.mean(reconstruction_loss + beta * kl_loss)\n",
    "model.add_loss(vae_loss)\n",
    "\n",
    "model.compile(optimizer='rmsprop', loss='mse', metrics=[tf.keras.metrics.MeanSquaredError()])\n",
    "model.summary()"
   ],
   "metadata": {
    "collapsed": false,
    "ExecuteTime": {
     "end_time": "2023-05-16T10:49:00.804428Z",
     "start_time": "2023-05-16T10:49:00.522179Z"
    }
   }
  },
  {
   "cell_type": "code",
   "execution_count": 10,
   "outputs": [
    {
     "name": "stdout",
     "output_type": "stream",
     "text": [
      "Epoch 1/10\n",
      "219/219 [==============================] - 7s 10ms/step - loss: 0.2014 - mean_squared_error: 0.2014\n",
      "Epoch 2/10\n",
      "219/219 [==============================] - 2s 9ms/step - loss: 0.0860 - mean_squared_error: 0.0860\n",
      "Epoch 3/10\n",
      "219/219 [==============================] - 2s 9ms/step - loss: 0.0475 - mean_squared_error: 0.0475\n",
      "Epoch 4/10\n",
      "219/219 [==============================] - 2s 9ms/step - loss: 0.0328 - mean_squared_error: 0.0328\n",
      "Epoch 5/10\n",
      "219/219 [==============================] - 2s 9ms/step - loss: 0.0250 - mean_squared_error: 0.0250\n",
      "Epoch 6/10\n",
      "219/219 [==============================] - 2s 9ms/step - loss: 0.0190 - mean_squared_error: 0.0190\n",
      "Epoch 7/10\n",
      "219/219 [==============================] - 2s 9ms/step - loss: 0.0139 - mean_squared_error: 0.0139\n",
      "Epoch 8/10\n",
      "219/219 [==============================] - 2s 9ms/step - loss: 0.0112 - mean_squared_error: 0.0112\n",
      "Epoch 9/10\n",
      "219/219 [==============================] - 2s 9ms/step - loss: 0.0100 - mean_squared_error: 0.0100\n",
      "Epoch 10/10\n",
      "219/219 [==============================] - 2s 9ms/step - loss: 0.0090 - mean_squared_error: 0.0090\n"
     ]
    }
   ],
   "source": [
    "history = model.fit(x = train_embedding.input_arrays,\n",
    "                    y = train_embedding.input_arrays,\n",
    "                    epochs=10,\n",
    "                    batch_size=32,\n",
    "                    verbose=1)"
   ],
   "metadata": {
    "collapsed": false,
    "ExecuteTime": {
     "end_time": "2023-05-17T22:07:37.624010Z",
     "start_time": "2023-05-17T22:07:12.835933Z"
    }
   }
  },
  {
   "cell_type": "markdown",
   "source": [
    "## Plot history"
   ],
   "metadata": {
    "collapsed": false
   }
  },
  {
   "cell_type": "code",
   "execution_count": 11,
   "outputs": [
    {
     "data": {
      "text/plain": "<Figure size 640x480 with 1 Axes>",
      "image/png": "[encoded data removed]"
     },
     "metadata": {},
     "output_type": "display_data"
    },
    {
     "data": {
      "text/plain": "<Figure size 640x480 with 1 Axes>",
      "image/png": "[encoded data removed]"
     },
     "metadata": {},
     "output_type": "display_data"
    }
   ],
   "source": [
    "# Plot history loss and mse\n",
    "\n",
    "import matplotlib.pyplot as plt\n",
    "\n",
    "plt.plot(history.history['loss'], label='train')\n",
    "plt.title('Loss')\n",
    "plt.xlabel('Epochs')\n",
    "plt.ylabel('Loss')\n",
    "plt.show()\n",
    "\n",
    "plt.plot(history.history['mean_squared_error'], label='mse')\n",
    "plt.title('Mean Squared Error')\n",
    "plt.xlabel('Epochs')\n",
    "plt.ylabel('MSE')\n",
    "plt.show()"
   ],
   "metadata": {
    "collapsed": false,
    "ExecuteTime": {
     "end_time": "2023-05-17T22:07:41.750091Z",
     "start_time": "2023-05-17T22:07:40.973921Z"
    }
   }
  },
  {
   "cell_type": "code",
   "execution_count": 18,
   "outputs": [
    {
     "name": "stdout",
     "output_type": "stream",
     "text": [
      "94/94 [==============================] - 0s 2ms/step - loss: 0.0085 - mean_squared_error: 0.0085\n"
     ]
    }
   ],
   "source": [
    "# Evaluate model\n",
    "score = model.evaluate(test_embedding.input_arrays, test_embedding.input_arrays, verbose=1)"
   ],
   "metadata": {
    "collapsed": false,
    "ExecuteTime": {
     "end_time": "2023-05-17T22:10:48.780739Z",
     "start_time": "2023-05-17T22:10:48.508453Z"
    }
   }
  },
  {
   "cell_type": "markdown",
   "source": [
    "## Make predictions"
   ],
   "metadata": {
    "collapsed": false
   }
  },
  {
   "cell_type": "code",
   "execution_count": 12,
   "outputs": [],
   "source": [
    "def find_closest_embeddings(embedding, emb):\n",
    "    return sorted(emb.keys(), key=lambda word: spatial.distance.euclidean(emb[word], embedding))[0]"
   ],
   "metadata": {
    "collapsed": false,
    "ExecuteTime": {
     "end_time": "2023-05-17T22:07:44.418966Z",
     "start_time": "2023-05-17T22:07:44.412569Z"
    }
   }
  },
  {
   "cell_type": "code",
   "execution_count": 15,
   "outputs": [
    {
     "name": "stdout",
     "output_type": "stream",
     "text": [
      "Input - Random passenger data: \n",
      "origin            madrid\n",
      "destination       girona\n",
      "user_pattern    business\n",
      "week_day         tuesday\n",
      "month                may\n",
      "time            21:21:00\n",
      "Name: 9579, dtype: object\n",
      "1/1 [==============================] - 0s 19ms/step\n",
      "Passenger latent representation:  [ 7.3532076   1.3819605   3.6512246  -3.7424912  -0.39898577]\n",
      "\n",
      "1/1 [==============================] - 0s 24ms/step\n",
      "Output - Passenger reconstruction: \n",
      "['madrid', 'girona', 'business', 'tuesday', 'april']\n"
     ]
    }
   ],
   "source": [
    "random_index = np.random.randint(0, len(test_embedding.input_arrays))\n",
    "random_vector = test_embedding.input_arrays[random_index]\n",
    "\n",
    "print(\"Input - Random passenger data: \")\n",
    "print(test_embedding.df.iloc[random_index])\n",
    "\n",
    "latent_passenger = encoder_model.predict(np.array([random_vector]))[0]\n",
    "print(\"Passenger latent representation: \", latent_passenger)\n",
    "print()\n",
    "\n",
    "prediction = model.predict(np.array([random_vector]))[0]\n",
    "\n",
    "print(\"Output - Passenger reconstruction: \")\n",
    "decoded_prediction = [find_closest_embeddings(word_vector, test_embedding.embedding_dict) for word_vector in prediction]\n",
    "print(decoded_prediction)\n",
    "\n",
    "#print(\"Time prediction: \", prediction[-1])\n",
    "#predicted_year = test_embedding.scaler.inverse_transform(np.array([prediction[-1][:1]]))\n",
    "#print(int(predicted_year[0][0]))"
   ],
   "metadata": {
    "collapsed": false,
    "ExecuteTime": {
     "end_time": "2023-05-17T22:08:07.033369Z",
     "start_time": "2023-05-17T22:08:06.912337Z"
    }
   }
  },
  {
   "cell_type": "markdown",
   "source": [
    "Mes y día como palabra, hora pensar idea para representar (ángulo?)"
   ],
   "metadata": {
    "collapsed": false
   }
  },
  {
   "cell_type": "markdown",
   "source": [
    "## Estudio de la correlación entre factores latentes y la entrada del autoencoder"
   ],
   "metadata": {
    "collapsed": false
   }
  },
  {
   "cell_type": "code",
   "execution_count": null,
   "outputs": [],
   "source": [],
   "metadata": {
    "collapsed": false
   }
  }
 ],
 "metadata": {
  "kernelspec": {
   "display_name": "Python 3",
   "language": "python",
   "name": "python3"
  },
  "language_info": {
   "codemirror_mode": {
    "name": "ipython",
    "version": 3
   },
   "file_extension": ".py",
   "mimetype": "text/x-python",
   "name": "python",
   "nbconvert_exporter": "python",
   "pygments_lexer": "ipython3",
   "version": "3.8.6"
  }
 },
 "nbformat": 4,
 "nbformat_minor": 0
}
