{
 "cells": [
  {
   "attachments": {},
   "cell_type": "markdown",
   "metadata": {},
   "source": [
    "# Interpretability of autoencoder latent space for passengers demand-sensitive planning on high-speed railways (IWANN 2023)\n"
   ]
  },
  {
   "cell_type": "code",
   "execution_count": 1,
   "outputs": [],
   "source": [
    "import datetime\n",
    "import nltk\n",
    "import numpy as np\n",
    "import os\n",
    "import pandas as pd\n",
    "import random\n",
    "import tensorflow as tf\n",
    "\n",
    "from feature_engine.creation import CyclicalFeatures\n",
    "from nltk.corpus import wordnet\n",
    "from scipy import spatial\n",
    "from sklearn.model_selection import train_test_split\n",
    "from sklearn.preprocessing import MinMaxScaler\n",
    "from typing import Dict, List, Tuple\n",
    "\n",
    "from tensorflow.keras.layers import *\n",
    "from tensorflow.keras.models import Model\n",
    "\n",
    "EMBEDDING_DIM = 50"
   ],
   "metadata": {
    "collapsed": false,
    "ExecuteTime": {
     "end_time": "2023-05-23T11:07:39.556470Z",
     "start_time": "2023-05-23T11:07:37.950662Z"
    }
   }
  },
  {
   "cell_type": "code",
   "execution_count": 2,
   "outputs": [
    {
     "name": "stderr",
     "output_type": "stream",
     "text": [
      "[nltk_data] Downloading package wordnet to /Users/david/nltk_data...\n",
      "[nltk_data]   Package wordnet is already up-to-date!\n"
     ]
    },
    {
     "data": {
      "text/plain": "True"
     },
     "execution_count": 2,
     "metadata": {},
     "output_type": "execute_result"
    }
   ],
   "source": [
    "# Download wordnet if not already downloaded\n",
    "nltk.download('wordnet')"
   ],
   "metadata": {
    "collapsed": false,
    "ExecuteTime": {
     "end_time": "2023-05-23T11:07:39.697764Z",
     "start_time": "2023-05-23T11:07:39.558762Z"
    }
   }
  },
  {
   "cell_type": "code",
   "execution_count": 9,
   "outputs": [
    {
     "name": "stdout",
     "output_type": "stream",
     "text": [
      "[['madrid', 'guadalajara', 'calatayud', 'zaragoza', 'lleida', 'tarragona', 'barcelona', 'girona', 'figueres']]\n"
     ]
    }
   ],
   "source": [
    "from src.robin.supply.entities import Supply\n",
    "\n",
    "def get_paths_from_supply(path_config_supply: str = '../configs/test_case/supply_data.yml') -> List[List[str]]:\n",
    "    \"\"\"\n",
    "    Get the paths of a supply\n",
    "\n",
    "    Args:\n",
    "        path_config_supply (str, optional): Path to the supply config file. Defaults to '../configs/test_case/supply_data.yml'.\n",
    "\n",
    "    Returns:\n",
    "        List[List[str]]: List of paths\n",
    "    \"\"\"\n",
    "    supply = Supply.from_yaml(path_config_supply)\n",
    "\n",
    "    # Get set of corridors\n",
    "    corridors = []\n",
    "    for service in supply.services:\n",
    "        if service.line.corridor not in corridors:\n",
    "            corridors.append(service.line.corridor)\n",
    "\n",
    "    # Get set of paths\n",
    "    paths = []\n",
    "    for corridor in corridors:\n",
    "        for path in corridor.paths:\n",
    "            if path not in paths:\n",
    "                paths.append(path)\n",
    "\n",
    "    # Parse paths of Station objects to paths of station mame\n",
    "    paths = [[station.name.replace(\"-\", \" \").split(\" \")[0].lower() for station in path] for path in paths]\n",
    "    return paths\n",
    "\n",
    "paths = get_paths_from_supply()\n",
    "print(paths)"
   ],
   "metadata": {
    "collapsed": false,
    "ExecuteTime": {
     "end_time": "2023-05-23T11:08:37.960606Z",
     "start_time": "2023-05-23T11:08:37.919384Z"
    }
   }
  },
  {
   "cell_type": "code",
   "execution_count": 10,
   "outputs": [],
   "source": [
    "def get_random_pair(paths: list[list]) -> Tuple[str, str]:\n",
    "    \"\"\"\n",
    "    Get a random pair of stations from a path\n",
    "\n",
    "    Args:\n",
    "        paths (list[list]): List of stations\n",
    "\n",
    "    Returns:\n",
    "        Tuple[str, str]: Tuple with the origin and destination stations\n",
    "    \"\"\"\n",
    "    random_path = random.choice(paths)  # Choose a random path\n",
    "\n",
    "    origin_index = random.randint(0, len(random_path) - 2)  # Choose a random origin station\n",
    "    destination_index = random.randint(origin_index + 1, len(random_path) - 1)  # Choose a random destination station\n",
    "\n",
    "    origin_station = random_path[origin_index]\n",
    "    destination_station = random_path[destination_index]\n",
    "    return origin_station, destination_station"
   ],
   "metadata": {
    "collapsed": false,
    "ExecuteTime": {
     "end_time": "2023-05-23T11:08:38.706271Z",
     "start_time": "2023-05-23T11:08:38.693949Z"
    }
   }
  },
  {
   "cell_type": "code",
   "execution_count": 11,
   "outputs": [],
   "source": [
    "def get_renfe_station_id(adif_id: str, stations_df: pd.DataFrame) -> str:\n",
    "    \"\"\"\n",
    "    Returns the Station name given the Adif station id.\n",
    "\n",
    "    Args:\n",
    "        adif_id (str): Adif station id.\n",
    "        stations_df (pd.DataFrame): Dataframe with the stations' information.\n",
    "\n",
    "    Returns:\n",
    "        str: Station name.\n",
    "    \"\"\"\n",
    "    station_name = stations_df[stations_df['stop_id'] == adif_id]['stop_name'].values[0]\n",
    "    station_name = station_name.replace(\"-\", \" \").split(\" \")[0].lower()\n",
    "    return station_name\n",
    "\n",
    "stations_csv_path = f'../data/renfe/renfe_stations.csv'\n",
    "stations_df = pd.read_csv(stations_csv_path, dtype={'stop_id': str, 'renfe_id': str})"
   ],
   "metadata": {
    "collapsed": false,
    "ExecuteTime": {
     "end_time": "2023-05-23T11:08:39.535405Z",
     "start_time": "2023-05-23T11:08:39.530306Z"
    }
   }
  },
  {
   "cell_type": "code",
   "execution_count": 12,
   "outputs": [
    {
     "name": "stdout",
     "output_type": "stream",
     "text": [
      "        origin  destination user_pattern        arrival_date   week_day  \\\n",
      "0       madrid    tarragona      tourist 2027-05-03 14:39:00     monday   \n",
      "1     zaragoza    tarragona     business 2028-01-04 23:52:00    tuesday   \n",
      "2  guadalajara    barcelona     business 2027-08-13 01:46:00     friday   \n",
      "3       madrid  guadalajara      student 2028-08-30 07:48:00  wednesday   \n",
      "4     zaragoza    tarragona      student 2029-08-27 04:15:00     monday   \n",
      "\n",
      "     month      time  \n",
      "0      may  14:39:00  \n",
      "1  january  23:52:00  \n",
      "2   august  01:46:00  \n",
      "3   august  07:48:00  \n",
      "4   august  04:15:00  \n"
     ]
    }
   ],
   "source": [
    "def simulate_passengers_data(paths: list,\n",
    "                             user_patterns: list,\n",
    "                             n_passengers: int = 10000,\n",
    "                             seed: int = 42\n",
    "    ) -> pd.DataFrame:\n",
    "    # Set random state\n",
    "    random.seed(seed)\n",
    "\n",
    "    pairs = []\n",
    "    for _ in range(n_passengers):\n",
    "        pairs.append(get_random_pair(paths))\n",
    "\n",
    "    df = pd.DataFrame(pairs, columns=['origin', 'destination'])\n",
    "    df['user_pattern'] = [random.choice(user_patterns) for _ in range(n_passengers)]\n",
    "\n",
    "    random_days = lambda: random.randint(0, 365*10)\n",
    "    random_hours = lambda: random.randint(0, 24)\n",
    "    random_minutes = lambda: random.randint(0,60)\n",
    "\n",
    "    random_timedelta = lambda: datetime.timedelta(days=random_days(), hours=random_hours(), minutes=random_minutes())\n",
    "    df['arrival_date'] = [datetime.datetime(2021, 1, 1) + random_timedelta() for _ in range(n_passengers)]\n",
    "    df['week_day'] = [date.strftime('%A').lower() for date in df['arrival_date']]\n",
    "    df['month'] = [date.strftime('%B').lower() for date in df['arrival_date']]\n",
    "    df['time'] = [date.time() for date in df['arrival_date']]\n",
    "    return df\n",
    "\n",
    "user_patterns = (\"business\", \"student\", \"tourist\")\n",
    "df = simulate_passengers_data(paths, user_patterns, n_passengers=10000)\n",
    "print(df.head())"
   ],
   "metadata": {
    "collapsed": false,
    "ExecuteTime": {
     "end_time": "2023-05-23T11:08:40.609308Z",
     "start_time": "2023-05-23T11:08:40.372742Z"
    }
   }
  },
  {
   "cell_type": "code",
   "execution_count": 13,
   "outputs": [],
   "source": [
    "class AutoencoderEmbedding:\n",
    "    \"\"\"\n",
    "    Class to get the embedding of a dataframe to be used as input of an autoencoder\n",
    "\n",
    "    Attributes:\n",
    "        df (pd.DataFrame): Dataframe with the data to be embedded\n",
    "        df_embedding (pd.DataFrame): Dataframe with the embedding.\n",
    "        embedding_dim (int, optional): Embedding dimension. Defaults to 50.\n",
    "        embedding_dict (dict): Dictionary with the embedding.\n",
    "        scaler (MinMaxScaler): Scaler to normalize the data.\n",
    "        cyclical (CyclicalFeatures): Cyclical features transformer.\n",
    "        df_time (pd.DataFrame): Dataframe with the time embedding.\n",
    "        input_arrays (list[np.array]): List of arrays with the embedded input data.\n",
    "    \"\"\"\n",
    "    def __init__(self, df: pd.DataFrame, embedding_dim: int = 50, noise: bool = True):\n",
    "        \"\"\"\n",
    "        Constructor method\n",
    "\n",
    "        Args:\n",
    "            df (pd.DataFrame): Dataframe with the data to be embedded\n",
    "            embedding_dim (int, optional): Embedding dimension. Defaults to 50.\n",
    "        \"\"\"\n",
    "        self.df = df\n",
    "        self.noise = noise\n",
    "        self.embedding_dim = embedding_dim\n",
    "        self.scaler = MinMaxScaler()\n",
    "        self.cyclical = CyclicalFeatures(variables=['time'], drop_original=True)\n",
    "        if self.noise:\n",
    "            self.df_noisy = self._get_noisy_df()\n",
    "\n",
    "        df_bag_words = pd.concat([self.df_noisy, self.df], ignore_index=True) if self.noise else self.df\n",
    "        words_set = set(df_bag_words[['origin', 'destination', 'user_pattern', 'week_day', 'month']].values.flatten())\n",
    "        self.word_index = {word: index for index, word in enumerate(words_set)}\n",
    "        self.embedding_dict = self._get_embedding_dict()\n",
    "\n",
    "        if self.noise:\n",
    "            self.df_embedding_noisy = self._get_embedding_df(self.df_noisy)\n",
    "            #for x in self.df_embedding_noisy['origin'].values.tolist():\n",
    "            #    print(x)\n",
    "            #    print(len(x))\n",
    "            self.words_noisy_embedding = self._get_words_embedding(self.df_embedding_noisy)\n",
    "            self.time_noisy_embedding = self._get_time_embedding(self.df_embedding_noisy)\n",
    "        self.df_embedding = self._get_embedding_df(self.df)\n",
    "        self.words_embeddings = self._get_words_embedding(self.df_embedding)\n",
    "        self.time_embedding = self._get_time_embedding(self.df_embedding)\n",
    "\n",
    "    def _get_words_embedding(self, df: pd.DataFrame) -> np.array:\n",
    "        \"\"\"\n",
    "        Get the words embedding.\n",
    "\n",
    "        Args:\n",
    "            df (pd.DataFrame, optional): Dataframe with the data to be embedded. Defaults to None.\n",
    "\n",
    "        Returns:\n",
    "            np.array: Array with the words embedding.\n",
    "        \"\"\"\n",
    "        input_data = df[['origin', 'destination', 'user_pattern', 'week_day', 'month']].values.tolist()\n",
    "        return np.array([np.asarray(row, dtype=np.float32) for row in input_data])\n",
    "\n",
    "    def _get_time_embedding(self, df: pd.DataFrame) -> np.array:\n",
    "        \"\"\"\n",
    "        Get the time embedding.\n",
    "\n",
    "        Args:\n",
    "            df (pd.DataFrame, optional): Dataframe with the data to be embedded.\n",
    "\n",
    "        Returns:\n",
    "            np.array: Array with the time embedding.\n",
    "        \"\"\"\n",
    "        input_data = df[['time']].values.tolist()\n",
    "        return np.array([np.asarray(row, dtype=np.float32) for row in input_data])\n",
    "\n",
    "    def _get_embedding_dict(self) -> Dict[str, np.array]:\n",
    "        \"\"\"\n",
    "        Get the words embedding dictionary\n",
    "\n",
    "        Returns:\n",
    "            Dict[str, np.array]: Dictionary with the embedding.\n",
    "        \"\"\"\n",
    "        embeddings_index = {}\n",
    "        f = open(os.path.join('../data/pretrained/glove6B/glove.6B.50d.txt'))\n",
    "\n",
    "        # Read GloVe embeddings\n",
    "        for line in f:\n",
    "            values = line.split()\n",
    "            word = values[0]\n",
    "            coefs = np.asarray(values[1:], dtype=np.float32)\n",
    "            embeddings_index[word] = coefs\n",
    "        f.close()\n",
    "\n",
    "        # Create embedding matrix\n",
    "        embedding_matrix = np.zeros((len(self.word_index) + 1, self.embedding_dim))\n",
    "        embedding_dict = {}\n",
    "        for word, i in self.word_index.items():\n",
    "            embedding_vector = embeddings_index.get(word, np.zeros(self.embedding_dim))\n",
    "            if embedding_vector is not None:\n",
    "                embedding_matrix[i] = embedding_vector\n",
    "                embedding_dict[word] = embedding_vector\n",
    "\n",
    "        return embedding_dict\n",
    "\n",
    "    def decode_time_embedding(self, time_embedding: np.array) -> datetime.time:\n",
    "        \"\"\"\n",
    "        Decode the time embedding\n",
    "\n",
    "        Args:\n",
    "            time_embedding (np.array): Time embedding\n",
    "\n",
    "        Returns:\n",
    "            datetime.time: Time\n",
    "        \"\"\"\n",
    "        total_minutes = self.scaler.inverse_transform(time_embedding)\n",
    "        hours = int(total_minutes / 60)\n",
    "        minutes = int(total_minutes % 60)\n",
    "        time = datetime.time(hour=hours, minute=minutes)\n",
    "\n",
    "        return time\n",
    "\n",
    "    def get_word_syn(self, word: str) -> str:\n",
    "        \"\"\"\n",
    "        Get a random synonym of a word\n",
    "\n",
    "        Args:\n",
    "            word (str): Word to get the synonym from\n",
    "\n",
    "        Returns:\n",
    "            str: Synonym of the word\n",
    "        \"\"\"\n",
    "        word_synset = wordnet.synsets(word)\n",
    "        if len(word_synset) > 0:\n",
    "            station_synset = word_synset[0]\n",
    "            station_lemmas = station_synset.lemmas()\n",
    "            if len(station_lemmas) > 0:\n",
    "                word_lemma = random.choice(station_lemmas)\n",
    "                return word_lemma.name().lower()\n",
    "\n",
    "        return word\n",
    "\n",
    "    def _get_noisy_df(self, p: float = 0.2) -> pd.DataFrame:\n",
    "        \"\"\"\n",
    "        Get the noisy embedding dataframe by replacing some of the words with synonyms\n",
    "\n",
    "        Returns:\n",
    "            pd.DataFrame: Noisy embedding dataframe.\n",
    "        \"\"\"\n",
    "        df_noisy = self.df.copy()\n",
    "        df_noisy['origin'] = df_noisy['origin'].apply(lambda x: self.get_word_syn(x) if random.random() < p else x)\n",
    "        df_noisy['destination'] = df_noisy['destination'].apply(lambda x: self.get_word_syn(x) if random.random() < p else x)\n",
    "        df_noisy['user_pattern'] = df_noisy['user_pattern'].apply(lambda x: self.get_word_syn(x) if random.random() < p else x)\n",
    "        df_noisy['week_day'] = df_noisy['week_day'].apply(lambda x: self.get_word_syn(x) if random.random() < p else x)\n",
    "        df_noisy['month'] = df_noisy['month'].apply(lambda x: self.get_word_syn(x) if random.random() < p else x)\n",
    "\n",
    "        # Replace time with a similar date (sum random timedelta of minutes in range [-30, 30])\n",
    "        df_noisy['time'] = df_noisy['arrival_date'].apply(lambda x: x + datetime.timedelta(minutes=random.randint(-30, 30)) if random.random() < p else x)\n",
    "        df_noisy['time'] = df_noisy['time'].apply(lambda x: x.time())\n",
    "\n",
    "        return df_noisy\n",
    "\n",
    "    def _get_embedding_df(self, df: pd.DataFrame) -> pd.DataFrame:\n",
    "        \"\"\"\n",
    "        Get embedding dataframe.\n",
    "\n",
    "        Returns:\n",
    "            pd.DataFrame: Embedding dataframe.\n",
    "        \"\"\"\n",
    "        df_embedding = df.copy()\n",
    "        df_embedding['origin'] = df_embedding['origin'].apply(lambda x: self.embedding_dict.get(x))\n",
    "        df_embedding['destination'] = df_embedding['destination'].apply(lambda x: self.embedding_dict.get(x))\n",
    "        df_embedding['user_pattern'] = df_embedding['user_pattern'].apply(lambda x: self.embedding_dict.get(x))\n",
    "        df_embedding['week_day'] = df_embedding['week_day'].apply(lambda x: self.embedding_dict.get(x))\n",
    "        df_embedding['month'] = df_embedding['month'].apply(lambda x: self.embedding_dict.get(x))\n",
    "\n",
    "        def total_minutes(time: datetime.datetime) -> np.float32:\n",
    "            total_minutes = (time.hour * 60) + time.minute\n",
    "            return np.float32(total_minutes)\n",
    "        df_embedding['time'] = df_embedding['time'].apply(lambda x: total_minutes(x))\n",
    "        df_embedding['time'] = self.scaler.fit_transform(df_embedding[['time']])\n",
    "\n",
    "        return df_embedding[['origin', 'destination', 'user_pattern', 'week_day', 'month', 'time']]"
   ],
   "metadata": {
    "collapsed": false,
    "ExecuteTime": {
     "end_time": "2023-05-23T11:08:41.541273Z",
     "start_time": "2023-05-23T11:08:41.529173Z"
    }
   }
  },
  {
   "cell_type": "code",
   "execution_count": 15,
   "outputs": [
    {
     "name": "stdout",
     "output_type": "stream",
     "text": [
      "Train data shape:  (7000, 7)\n",
      "Test data shape:  (3000, 7)\n",
      "Test data autoencoder input shape:  (3000, 5, 50)\n",
      "First test data instance:  origin                     zaragoza\n",
      "destination                  lleida\n",
      "user_pattern                student\n",
      "arrival_date    2027-06-13 22:10:00\n",
      "week_day                     sunday\n",
      "month                          june\n",
      "time                       22:10:00\n",
      "Name: 6252, dtype: object\n",
      "First test data instance embedded:  [[ 1.0642    0.089939 -0.28715   0.82471   0.31063  -1.4798    0.12028\n",
      "   0.7449   -1.2919    0.39737   0.4715   -0.53483  -0.48049  -1.2998\n",
      "   0.32826  -1.3085   -0.67916  -0.20625  -0.7232    0.41638  -1.2895\n",
      "  -0.69963  -0.23631   0.70175  -0.61498   0.20193   1.329     0.25294\n",
      "  -0.093715 -0.16535   0.99605   1.2007   -0.26729  -0.42035  -0.15881\n",
      "   0.63906  -0.73977   1.3119    0.61136  -0.59197   1.3032    0.16094\n",
      "  -0.027686 -0.9412   -0.68288   0.65116   0.47976  -0.32516   1.3912\n",
      "  -0.50467 ]\n",
      " [ 0.23779  -0.70155  -1.123     0.36108  -1.1387   -0.49992   0.28795\n",
      "   0.87089  -0.32366   0.85312   1.5365   -1.2579    0.45029  -0.87621\n",
      "  -0.3849   -0.45242  -1.0222    0.90672   0.60101   0.89574  -1.5187\n",
      "  -0.54763  -0.23907   1.3125   -0.30361   0.95009  -0.84021  -0.1023\n",
      "  -0.41569  -0.24651   0.20699   0.85849  -0.80493   0.55103   0.3738\n",
      "   0.39285   0.50441   0.77364   0.73249   0.94046   0.072068 -0.46804\n",
      "  -1.0545   -0.48751  -1.0242    1.0787    0.25623   0.24465   0.1344\n",
      "  -0.66684 ]\n",
      " [-1.0729    0.94103   0.084904 -1.0766    0.42866   0.099877 -0.51081\n",
      "  -0.24961  -0.30883   0.19553   0.1965   -0.73152   0.096916 -0.062686\n",
      "   0.12078  -0.72384  -0.382     0.6934    0.32956   0.40244   0.53485\n",
      "   0.91781  -0.44553   0.71804  -0.13635  -1.6906    0.15818  -1.2367\n",
      "  -1.2278   -0.058566  2.7544    0.18672  -0.263    -1.2792    0.16992\n",
      "   0.40748   0.12248   0.11211   0.78318   0.036392 -0.40808  -0.058474\n",
      "  -0.27932   0.33035   0.52384  -1.0487    0.27565   0.0363    0.048604\n",
      "   0.28239 ]\n",
      " [ 0.30272   0.47367   0.014592  0.75974   0.10437  -0.97046  -1.1058\n",
      "   1.0341   -0.43228  -0.81307  -0.71578  -1.5049   -0.71511   0.20684\n",
      "   0.83131  -0.031434 -0.63713  -0.73632  -1.2828    0.11016   0.043357\n",
      "   0.76154   0.36802   0.021238  0.1249   -1.6035    0.46462   0.57985\n",
      "  -0.40849   0.12044   3.227     0.8057   -0.81701   0.089946 -0.19074\n",
      "  -0.19545   0.71636   0.068456 -0.12522   0.098213 -0.091142  0.33782\n",
      "  -0.47617  -0.58733   0.49366   0.67611  -0.57251   0.59616   0.42731\n",
      "  -0.51154 ]\n",
      " [-0.038875  0.17613  -0.016038 -0.064066 -0.20913   0.049825 -1.0929\n",
      "   0.045317 -0.62033  -0.7479    0.33231  -0.70502  -0.38843  -0.47448\n",
      "   1.4496    0.30839  -1.3149   -0.56169  -1.6595    0.85848   1.3056\n",
      "  -0.35666   0.81395  -0.48261  -0.77276  -1.1614    0.60481  -0.41118\n",
      "  -0.076125  0.93533   2.8776   -0.28886  -1.0489   -0.30294   0.3079\n",
      "  -0.96906   0.74114   0.070662  0.024136 -0.47567  -0.73735  -0.54993\n",
      "  -0.13232  -1.3861   -0.38072   0.14414  -0.16532  -0.7342   -0.014946\n",
      "   0.15634 ]]\n",
      "                                                 origin  \\\n",
      "6252  [1.0642, 0.089939, -0.28715, 0.82471, 0.31063,...   \n",
      "4684  [0.69573, 0.16443, -0.61718, -0.13909, -1.2492...   \n",
      "1731  [0.66454, -0.030792, -0.65976, 1.0981, -0.2797...   \n",
      "4742  [0.66454, -0.030792, -0.65976, 1.0981, -0.2797...   \n",
      "4521  [1.3315, 0.72181, -0.060088, 0.43948, 0.18419,...   \n",
      "\n",
      "                                            destination  \\\n",
      "6252  [0.23779, -0.70155, -1.123, 0.36108, -1.1387, ...   \n",
      "4684  [0.90565, 0.46405, -0.48596, 0.42419, -0.8704,...   \n",
      "1731  [0.90565, 0.46405, -0.48596, 0.42419, -0.8704,...   \n",
      "4742  [0.69573, 0.16443, -0.61718, -0.13909, -1.2492...   \n",
      "4521  [0.90565, 0.46405, -0.48596, 0.42419, -0.8704,...   \n",
      "\n",
      "                                           user_pattern  \\\n",
      "6252  [-1.0729, 0.94103, 0.084904, -1.0766, 0.42866,...   \n",
      "4684  [0.97263, 1.0474, -0.25339, 0.50992, -0.079486...   \n",
      "1731  [0.023693, 0.13316, 0.023131, 0.49833, 0.02687...   \n",
      "4742  [-1.0729, 0.94103, 0.084904, -1.0766, 0.42866,...   \n",
      "4521  [-1.0729, 0.94103, 0.084904, -1.0766, 0.42866,...   \n",
      "\n",
      "                                               week_day  \\\n",
      "6252  [0.30272, 0.47367, 0.014592, 0.75974, 0.10437,...   \n",
      "4684  [0.2209, 0.41107, -0.09043, 0.82131, -0.11215,...   \n",
      "1731  [0.18662, 0.067127, 0.00038229, 0.76014, 0.282...   \n",
      "4742  [0.3475, -0.076136, 0.21338, 0.81253, 0.22343,...   \n",
      "4521  [0.3475, -0.076136, 0.21338, 0.81253, 0.22343,...   \n",
      "\n",
      "                                                  month      time  \n",
      "6252  [-0.038875, 0.17613, -0.016038, -0.064066, -0....  0.924253  \n",
      "4684  [-0.038875, 0.17613, -0.016038, -0.064066, -0....  0.965949  \n",
      "1731  [0.026755, 0.26427, -0.040861, -0.0096214, -0....  0.170257  \n",
      "4742  [-0.10179, -0.12605, -0.039728, -0.33016, -0.2...  0.726894  \n",
      "4521  [0.7048, 0.22261, 0.086997, -0.21241, -0.08935...  0.444058  \n"
     ]
    }
   ],
   "source": [
    "df_train, df_test = train_test_split(df, test_size=0.3, random_state=42)\n",
    "\n",
    "print(\"Train data shape: \", df_train.shape)\n",
    "print(\"Test data shape: \", df_test.shape)\n",
    "\n",
    "train_embedding = AutoencoderEmbedding(df = df_train, embedding_dim=EMBEDDING_DIM)\n",
    "test_embedding = AutoencoderEmbedding(df = df_test, embedding_dim=EMBEDDING_DIM, noise=False)\n",
    "\n",
    "print(\"Test data autoencoder input shape: \", test_embedding.words_embeddings.shape)\n",
    "print(\"First test data instance: \", test_embedding.df.iloc[0])\n",
    "print(\"First test data instance embedded: \", test_embedding.words_embeddings[0])\n",
    "print(test_embedding.df_embedding.head())"
   ],
   "metadata": {
    "collapsed": false,
    "ExecuteTime": {
     "end_time": "2023-05-23T11:09:20.138035Z",
     "start_time": "2023-05-23T11:09:12.737805Z"
    }
   }
  },
  {
   "cell_type": "markdown",
   "source": [
    "## Embedding Model"
   ],
   "metadata": {
    "collapsed": false
   }
  },
  {
   "cell_type": "markdown",
   "source": [
    "## Autoencoder model"
   ],
   "metadata": {
    "collapsed": false
   }
  },
  {
   "cell_type": "code",
   "execution_count": 16,
   "outputs": [
    {
     "name": "stderr",
     "output_type": "stream",
     "text": [
      "2023-05-23 13:09:23.161275: I tensorflow/core/platform/cpu_feature_guard.cc:193] This TensorFlow binary is optimized with oneAPI Deep Neural Network Library (oneDNN) to use the following CPU instructions in performance-critical operations:  SSE4.1 SSE4.2 AVX AVX2 FMA\n",
      "To enable them in other operations, rebuild TensorFlow with the appropriate compiler flags.\n",
      "2023-05-23 13:09:27.342296: I tensorflow/core/platform/cpu_feature_guard.cc:193] This TensorFlow binary is optimized with oneAPI Deep Neural Network Library (oneDNN) to use the following CPU instructions in performance-critical operations:  SSE4.1 SSE4.2 AVX AVX2 FMA\n",
      "To enable them in other operations, rebuild TensorFlow with the appropriate compiler flags.\n"
     ]
    },
    {
     "name": "stdout",
     "output_type": "stream",
     "text": [
      "Model: \"model_2\"\n",
      "__________________________________________________________________________________________________\n",
      " Layer (type)                   Output Shape         Param #     Connected to                     \n",
      "==================================================================================================\n",
      " input_1 (InputLayer)           [(None, 5, 50)]      0           []                               \n",
      "                                                                                                  \n",
      " conv1d (Conv1D)                (None, 5, 64)        9664        ['input_1[0][0]']                \n",
      "                                                                                                  \n",
      " conv1d_1 (Conv1D)              (None, 5, 32)        6176        ['conv1d[0][0]']                 \n",
      "                                                                                                  \n",
      " global_max_pooling1d (GlobalMa  (None, 32)          0           ['conv1d_1[0][0]']               \n",
      " xPooling1D)                                                                                      \n",
      "                                                                                                  \n",
      " flatten (Flatten)              (None, 32)           0           ['global_max_pooling1d[0][0]']   \n",
      "                                                                                                  \n",
      " input_2 (InputLayer)           [(None, 1)]          0           []                               \n",
      "                                                                                                  \n",
      " concatenate (Concatenate)      (None, 33)           0           ['flatten[0][0]',                \n",
      "                                                                  'input_2[0][0]']                \n",
      "                                                                                                  \n",
      " dense (Dense)                  (None, 64)           2176        ['concatenate[0][0]']            \n",
      "                                                                                                  \n",
      " dense_1 (Dense)                (None, 32)           2080        ['dense[0][0]']                  \n",
      "                                                                                                  \n",
      " dense_2 (Dense)                (None, 5)            165         ['dense_1[0][0]']                \n",
      "                                                                                                  \n",
      " model_1 (Functional)           [(None, 5, 50),      31731       ['dense_2[0][0]']                \n",
      "                                 (None, 1)]                                                       \n",
      "                                                                                                  \n",
      "==================================================================================================\n",
      "Total params: 51,992\n",
      "Trainable params: 51,992\n",
      "Non-trainable params: 0\n",
      "__________________________________________________________________________________________________\n"
     ]
    }
   ],
   "source": [
    "words_embeddings_shape = (5, EMBEDDING_DIM)\n",
    "time_embedding_shape = (1,)\n",
    "\n",
    "SEQUENCE_LENGTH = 5\n",
    "\n",
    "latent_dim = 5\n",
    "\n",
    "# Encoder model\n",
    "input_words = Input(shape=words_embeddings_shape)\n",
    "\n",
    "conv1 = Conv1D(64, kernel_size=3, activation='relu', padding='same')(input_words)\n",
    "conv2 = Conv1D(32, kernel_size=3, activation='relu', padding='same')(conv1)\n",
    "pooling = GlobalMaxPooling1D()(conv2)\n",
    "flat_layer = Flatten()(pooling)\n",
    "\n",
    "input_time = Input(shape=time_embedding_shape)\n",
    "concat_layer = Concatenate(axis=1)([flat_layer, input_time])\n",
    "\n",
    "encoder = Dense(64)(concat_layer)\n",
    "encoder = Dense(32)(encoder)\n",
    "\n",
    "dense1 = Dense(latent_dim)(encoder)\n",
    "\n",
    "# Decoder model\n",
    "decoder_inputs = Input(shape=(latent_dim,))\n",
    "dense3 = Dense(32)(decoder_inputs)\n",
    "dense4 = Dense(64)(dense3)\n",
    "\n",
    "repeat_vector = RepeatVector(6)(Flatten()(dense4))\n",
    "\n",
    "decoder = Dense(32 * SEQUENCE_LENGTH, activation='relu')(dense4)\n",
    "decoder = Reshape((SEQUENCE_LENGTH, 32))(decoder)\n",
    "decoder = Conv1DTranspose(32, kernel_size=3, activation='relu', padding='same')(decoder)\n",
    "decoder = Conv1DTranspose(64, kernel_size=3, activation='relu', padding='same')(decoder)\n",
    "decoder_words = Conv1DTranspose(EMBEDDING_DIM, kernel_size=3, padding='same')(decoder)\n",
    "\n",
    "decoder_time = Dense(1)(dense4)\n",
    "\n",
    "encoder_model = Model(inputs=[input_words, input_time], outputs=dense1)\n",
    "decoder_model = Model(inputs=decoder_inputs, outputs=[decoder_words, decoder_time])\n",
    "\n",
    "decoded_words, decoded_time = decoder_model(dense1)\n",
    "model = Model(inputs=[input_words, input_time], outputs=[decoded_words, decoded_time])\n",
    "\n",
    "model.compile(optimizer='rmsprop', loss='mse', metrics=[tf.keras.metrics.MeanSquaredError()])\n",
    "model.summary()"
   ],
   "metadata": {
    "collapsed": false,
    "ExecuteTime": {
     "end_time": "2023-05-23T11:09:27.611344Z",
     "start_time": "2023-05-23T11:09:23.148206Z"
    }
   }
  },
  {
   "cell_type": "code",
   "execution_count": 17,
   "outputs": [
    {
     "name": "stdout",
     "output_type": "stream",
     "text": [
      "Epoch 1/10\n",
      "219/219 [==============================] - 2s 3ms/step - loss: 0.1759 - model_1_loss: 0.1405 - model_1_1_loss: 0.0354 - model_1_mean_squared_error: 0.1405 - model_1_1_mean_squared_error: 0.0354\n",
      "Epoch 2/10\n",
      "219/219 [==============================] - 1s 2ms/step - loss: 0.0804 - model_1_loss: 0.0771 - model_1_1_loss: 0.0033 - model_1_mean_squared_error: 0.0771 - model_1_1_mean_squared_error: 0.0033\n",
      "Epoch 3/10\n",
      "219/219 [==============================] - 1s 3ms/step - loss: 0.0569 - model_1_loss: 0.0544 - model_1_1_loss: 0.0025 - model_1_mean_squared_error: 0.0544 - model_1_1_mean_squared_error: 0.0025\n",
      "Epoch 4/10\n",
      "219/219 [==============================] - 1s 3ms/step - loss: 0.0477 - model_1_loss: 0.0457 - model_1_1_loss: 0.0020 - model_1_mean_squared_error: 0.0457 - model_1_1_mean_squared_error: 0.0020\n",
      "Epoch 5/10\n",
      "219/219 [==============================] - 1s 2ms/step - loss: 0.0410 - model_1_loss: 0.0393 - model_1_1_loss: 0.0018 - model_1_mean_squared_error: 0.0393 - model_1_1_mean_squared_error: 0.0018\n",
      "Epoch 6/10\n",
      "219/219 [==============================] - 1s 2ms/step - loss: 0.0359 - model_1_loss: 0.0342 - model_1_1_loss: 0.0016 - model_1_mean_squared_error: 0.0342 - model_1_1_mean_squared_error: 0.0016\n",
      "Epoch 7/10\n",
      "219/219 [==============================] - 1s 3ms/step - loss: 0.0315 - model_1_loss: 0.0301 - model_1_1_loss: 0.0014 - model_1_mean_squared_error: 0.0301 - model_1_1_mean_squared_error: 0.0014\n",
      "Epoch 8/10\n",
      "219/219 [==============================] - 1s 2ms/step - loss: 0.0280 - model_1_loss: 0.0267 - model_1_1_loss: 0.0013 - model_1_mean_squared_error: 0.0267 - model_1_1_mean_squared_error: 0.0013\n",
      "Epoch 9/10\n",
      "219/219 [==============================] - 1s 3ms/step - loss: 0.0247 - model_1_loss: 0.0235 - model_1_1_loss: 0.0012 - model_1_mean_squared_error: 0.0235 - model_1_1_mean_squared_error: 0.0012\n",
      "Epoch 10/10\n",
      "219/219 [==============================] - 1s 3ms/step - loss: 0.0217 - model_1_loss: 0.0205 - model_1_1_loss: 0.0011 - model_1_mean_squared_error: 0.0205 - model_1_1_mean_squared_error: 0.0011\n"
     ]
    }
   ],
   "source": [
    "history = model.fit(x = [train_embedding.words_embeddings, train_embedding.time_embedding],\n",
    "                    y = [train_embedding.words_embeddings, train_embedding.time_embedding],\n",
    "                    epochs=10,\n",
    "                    batch_size=32,\n",
    "                    verbose=1)"
   ],
   "metadata": {
    "collapsed": false,
    "ExecuteTime": {
     "end_time": "2023-05-23T11:10:14.579109Z",
     "start_time": "2023-05-23T11:10:07.124830Z"
    }
   }
  },
  {
   "cell_type": "markdown",
   "source": [
    "## Plot history"
   ],
   "metadata": {
    "collapsed": false
   }
  },
  {
   "cell_type": "code",
   "execution_count": 18,
   "outputs": [
    {
     "data": {
      "text/plain": "dict_keys(['loss', 'model_1_loss', 'model_1_1_loss', 'model_1_mean_squared_error', 'model_1_1_mean_squared_error'])"
     },
     "execution_count": 18,
     "metadata": {},
     "output_type": "execute_result"
    }
   ],
   "source": [
    "history.history.keys()"
   ],
   "metadata": {
    "collapsed": false,
    "ExecuteTime": {
     "end_time": "2023-05-23T11:10:16.954098Z",
     "start_time": "2023-05-23T11:10:16.945276Z"
    }
   }
  },
  {
   "cell_type": "code",
   "execution_count": 19,
   "outputs": [
    {
     "data": {
      "text/plain": "<Figure size 640x480 with 1 Axes>",
      "image/png": "[encoded data removed]"
     },
     "metadata": {},
     "output_type": "display_data"
    }
   ],
   "source": [
    "# Plot history loss and mse\n",
    "\n",
    "import matplotlib.pyplot as plt\n",
    "\n",
    "plt.plot(history.history['loss'], label='train')\n",
    "plt.title('Loss')\n",
    "plt.xlabel('Epochs')\n",
    "plt.ylabel('Loss')\n",
    "plt.show()"
   ],
   "metadata": {
    "collapsed": false,
    "ExecuteTime": {
     "end_time": "2023-05-23T11:10:18.906464Z",
     "start_time": "2023-05-23T11:10:17.983162Z"
    }
   }
  },
  {
   "cell_type": "code",
   "execution_count": 20,
   "outputs": [
    {
     "name": "stdout",
     "output_type": "stream",
     "text": [
      "94/94 [==============================] - 0s 2ms/step - loss: 0.0268 - model_1_loss: 0.0242 - model_1_1_loss: 0.0026 - model_1_mean_squared_error: 0.0242 - model_1_1_mean_squared_error: 0.0026\n"
     ]
    }
   ],
   "source": [
    "# Evaluate model\n",
    "score = model.evaluate(x=[test_embedding.words_embeddings, test_embedding.time_embedding],\n",
    "                       y=[test_embedding.words_embeddings, test_embedding.time_embedding],\n",
    "                       verbose=1)"
   ],
   "metadata": {
    "collapsed": false,
    "ExecuteTime": {
     "end_time": "2023-05-23T11:10:21.445481Z",
     "start_time": "2023-05-23T11:10:20.951144Z"
    }
   }
  },
  {
   "cell_type": "markdown",
   "source": [
    "## Make predictions"
   ],
   "metadata": {
    "collapsed": false
   }
  },
  {
   "cell_type": "code",
   "execution_count": 21,
   "outputs": [],
   "source": [
    "def find_closest_embeddings(embedding, emb):\n",
    "    return sorted(emb.keys(), key=lambda word: spatial.distance.euclidean(emb[word], embedding))[0]"
   ],
   "metadata": {
    "collapsed": false,
    "ExecuteTime": {
     "end_time": "2023-05-23T11:10:23.555199Z",
     "start_time": "2023-05-23T11:10:23.544644Z"
    }
   }
  },
  {
   "cell_type": "code",
   "execution_count": 22,
   "outputs": [
    {
     "name": "stdout",
     "output_type": "stream",
     "text": [
      "Input - Random passenger data: \n",
      "origin                    calatayud\n",
      "destination               tarragona\n",
      "user_pattern               business\n",
      "arrival_date    2025-11-28 17:52:00\n",
      "week_day                     friday\n",
      "month                      november\n",
      "time                       17:52:00\n",
      "Name: 8341, dtype: object\n",
      "1/1 [==============================] - 0s 185ms/step\n",
      "Output - Passenger reconstruction: \n",
      "['calatayud', 'tarragona', 'business', 'wednesday', 'december']\n",
      "Time prediction: \n",
      "17:44:00\n"
     ]
    }
   ],
   "source": [
    "random_index = np.random.randint(0, test_embedding.df.shape[0])\n",
    "\n",
    "random_words_embedding = test_embedding.words_embeddings[random_index:random_index+1]\n",
    "random_time_embedding = test_embedding.time_embedding[random_index:random_index+1]\n",
    "\n",
    "print(\"Input - Random passenger data: \")\n",
    "print(test_embedding.df.iloc[random_index])\n",
    "\n",
    "prediction = model.predict(x = [random_words_embedding, random_time_embedding])\n",
    "\n",
    "print(\"Output - Passenger reconstruction: \")\n",
    "decoded_words = [find_closest_embeddings(word_vector, test_embedding.embedding_dict) for word_vector in prediction[0][0]]\n",
    "print(decoded_words)\n",
    "\n",
    "print(\"Time prediction: \")\n",
    "predicted_time = test_embedding.decode_time_embedding([prediction[1][0]])\n",
    "print(predicted_time)"
   ],
   "metadata": {
    "collapsed": false,
    "ExecuteTime": {
     "end_time": "2023-05-23T11:10:24.624575Z",
     "start_time": "2023-05-23T11:10:24.402283Z"
    }
   }
  },
  {
   "cell_type": "markdown",
   "source": [
    "## Estudio de la correlación entre factores latentes y la entrada del autoencoder"
   ],
   "metadata": {
    "collapsed": false
   }
  },
  {
   "cell_type": "code",
   "execution_count": 46,
   "outputs": [
    {
     "name": "stdout",
     "output_type": "stream",
     "text": [
      "94/94 [==============================] - 0s 1ms/step\n",
      "Latent space range: \n",
      "            0         1         2         3         4\n",
      "min -0.685368 -1.758703 -0.807945 -1.330426 -1.657424\n",
      "max  0.856519 -0.125330  1.686299  1.119511  0.329995\n"
     ]
    }
   ],
   "source": [
    "# New df from test_embedding.df\n",
    "\n",
    "df_test = test_embedding.df.copy()\n",
    "\n",
    "# Set all values of row 'origin' to 'madrid'\n",
    "\n",
    "df_test['origin'] = 'madrid'\n",
    "#df_test['destination'] = 'madrid'\n",
    "#df_test['user_pattern'] = 'business'\n",
    "#df_test['week_day'] = 'monday'\n",
    "#df_test['month'] = 'january'\n",
    "#df_test['time'] = datetime.datetime(2020, 1, 1, 10, 18, 30)\n",
    "\n",
    "fixed_embedding = AutoencoderEmbedding(df = df_test, embedding_dim=EMBEDDING_DIM)\n",
    "\n",
    "# Get latent space from fixed_embedding\n",
    "latent_space = encoder_model.predict(x = [fixed_embedding.words_embeddings, fixed_embedding.time_embedding])\n",
    "\n",
    "# Get range of values for each latent factor\n",
    "latent_space_range = pd.DataFrame(latent_space).describe().loc[['min', 'max']]\n",
    "\n",
    "print(\"Latent space range: \")\n",
    "print(latent_space_range)"
   ],
   "metadata": {
    "collapsed": false,
    "ExecuteTime": {
     "end_time": "2023-05-23T18:57:07.958599Z",
     "start_time": "2023-05-23T18:57:03.747305Z"
    }
   }
  },
  {
   "cell_type": "code",
   "execution_count": 45,
   "outputs": [
    {
     "name": "stdout",
     "output_type": "stream",
     "text": [
      "   latent_0  latent_1  latent_2  latent_3  latent_4\n",
      "0  0.246651 -1.217494  0.384339 -1.156676  0.302237\n",
      "1  0.280755  0.547266  1.372185  0.390878  0.722794\n",
      "2 -0.158233 -0.167382  0.019862  0.775883 -0.127805\n",
      "3 -0.064373 -0.788396  0.202836 -0.497544  0.431263\n",
      "4  0.458995 -0.673099  0.617731  0.842813 -0.205029\n"
     ]
    },
    {
     "data": {
      "text/plain": "[]"
     },
     "execution_count": 45,
     "metadata": {},
     "output_type": "execute_result"
    },
    {
     "data": {
      "text/plain": "<Figure size 640x480 with 1 Axes>",
      "image/png": "[encoded data removed]"
     },
     "metadata": {},
     "output_type": "display_data"
    }
   ],
   "source": [
    "from matplotlib import pyplot as plt\n",
    "\n",
    "# Cambios en origen\n",
    "df_predictions = pd.DataFrame(latent_space, columns = [f\"latent_{i}\" for i in range(latent_dim)])\n",
    "print(df_predictions.head())\n",
    "\n",
    "b_plot = df_predictions.boxplot()\n",
    "plt.ylim(-2.0, 2.0)\n",
    "\n",
    "plt.title(\"Boxplot - Changes only in origin column\")\n",
    "b_plot.plot()"
   ],
   "metadata": {
    "collapsed": false,
    "ExecuteTime": {
     "end_time": "2023-05-23T18:56:31.379381Z",
     "start_time": "2023-05-23T18:56:31.149466Z"
    }
   }
  },
  {
   "cell_type": "code",
   "execution_count": 47,
   "outputs": [
    {
     "name": "stdout",
     "output_type": "stream",
     "text": [
      "   latent_0  latent_1  latent_2  latent_3  latent_4\n",
      "0  0.341337 -1.581254  0.492442 -1.214517 -0.155201\n",
      "1  0.082326 -0.633223  1.536714  0.637654 -0.434126\n",
      "2 -0.028026 -0.571460  0.240216  1.058021 -0.609698\n",
      "3  0.031639 -1.466675  0.358423 -0.500821 -0.328038\n",
      "4  0.458995 -0.673099  0.617731  0.842813 -0.205029\n"
     ]
    },
    {
     "data": {
      "text/plain": "[]"
     },
     "execution_count": 47,
     "metadata": {},
     "output_type": "execute_result"
    },
    {
     "data": {
      "text/plain": "<Figure size 640x480 with 1 Axes>",
      "image/png": "[encoded data removed]"
     },
     "metadata": {},
     "output_type": "display_data"
    }
   ],
   "source": [
    "from matplotlib import pyplot as plt\n",
    "\n",
    "# Cambios en origen\n",
    "df_predictions = pd.DataFrame(latent_space, columns = [f\"latent_{i}\" for i in range(latent_dim)])\n",
    "print(df_predictions.head())\n",
    "\n",
    "b_plot = df_predictions.boxplot()\n",
    "plt.ylim(-2.0, 2.0)\n",
    "\n",
    "plt.title(\"Boxplot - Changes only in origin column\")\n",
    "b_plot.plot()"
   ],
   "metadata": {
    "collapsed": false,
    "ExecuteTime": {
     "end_time": "2023-05-23T18:57:14.063570Z",
     "start_time": "2023-05-23T18:57:13.828642Z"
    }
   }
  },
  {
   "cell_type": "code",
   "execution_count": 23,
   "outputs": [
    {
     "name": "stdout",
     "output_type": "stream",
     "text": [
      "94/94 [==============================] - 0s 1ms/step\n"
     ]
    }
   ],
   "source": [
    "# Get latent space from every possible combination of fixed dfs\n",
    "df_test = test_embedding.df.copy()\n",
    "\n",
    "# Get set of values in 'origin' column\n",
    "origin_values = set(df_test['origin'].values)\n",
    "destination_values = set(df_test['destination'].values)\n",
    "user_pattern_values = set(df_test['user_pattern'].values)\n",
    "week_day_values = set(df_test['week_day'].values)\n",
    "month_values = set(df_test['month'].values)\n",
    "time_values = set(df_test['time'].values)\n",
    "\n",
    "df_test = test_embedding.df.copy()\n",
    "df_test['destination'] = 'barcelona'\n",
    "df_test['user_pattern'] = 'business'\n",
    "df_test['week_day'] = 'monday'\n",
    "df_test['month'] = 'january'\n",
    "df_test['time'] = datetime.datetime(year=2023, month=1, day=1, hour=18, minute=30)\n",
    "\n",
    "fixed_data = AutoencoderEmbedding(df = df_test, embedding_dim=EMBEDDING_DIM)\n",
    "\n",
    "latent_space = encoder_model.predict(x = [fixed_data.words_embeddings, fixed_data.time_embedding])"
   ],
   "metadata": {
    "collapsed": false,
    "ExecuteTime": {
     "end_time": "2023-05-23T11:10:45.980441Z",
     "start_time": "2023-05-23T11:10:41.807436Z"
    }
   }
  },
  {
   "cell_type": "code",
   "execution_count": 24,
   "outputs": [
    {
     "name": "stdout",
     "output_type": "stream",
     "text": [
      "Shape of tsne_latent_space[df_test['origin'] == calatayud]: (388, 2)\n",
      "Shape of tsne_latent_space[df_test['origin'] == lleida]: (389, 2)\n",
      "Shape of tsne_latent_space[df_test['origin'] == girona]: (352, 2)\n",
      "Shape of tsne_latent_space[df_test['origin'] == tarragona]: (364, 2)\n",
      "Shape of tsne_latent_space[df_test['origin'] == zaragoza]: (381, 2)\n",
      "Shape of tsne_latent_space[df_test['origin'] == guadalajara]: (367, 2)\n",
      "Shape of tsne_latent_space[df_test['origin'] == madrid]: (369, 2)\n",
      "Shape of tsne_latent_space[df_test['origin'] == barcelona]: (390, 2)\n"
     ]
    },
    {
     "data": {
      "text/plain": "<Figure size 1000x1000 with 1 Axes>",
      "image/png": "[encoded data removed]"
     },
     "metadata": {},
     "output_type": "display_data"
    }
   ],
   "source": [
    "from sklearn.manifold import TSNE\n",
    "\n",
    "tsne = TSNE(n_components=2, random_state=0)\n",
    "tsne_latent_space = tsne.fit_transform(latent_space)\n",
    "\n",
    "# Scatter plot tsne_latent_space\n",
    "plt.figure(figsize=(10, 10))\n",
    "plt.title(\"T-SNE plot of latent space - Changes only in origin column\")\n",
    "\n",
    "for i, origin in enumerate(origin_values):\n",
    "    print(f\"Shape of tsne_latent_space[df_test['origin'] == {origin}]: {tsne_latent_space[df_test['origin'] == origin].shape}\")\n",
    "    plt.scatter(tsne_latent_space[df_test['origin'] == origin, 0],\n",
    "                tsne_latent_space[df_test['origin'] == origin, 1],\n",
    "                label=origin)\n",
    "plt.legend()\n",
    "plt.show()"
   ],
   "metadata": {
    "collapsed": false,
    "ExecuteTime": {
     "end_time": "2023-05-23T11:10:53.813789Z",
     "start_time": "2023-05-23T11:10:47.654115Z"
    }
   }
  },
  {
   "cell_type": "code",
   "execution_count": 28,
   "outputs": [
    {
     "name": "stdout",
     "output_type": "stream",
     "text": [
      "94/94 [==============================] - 0s 977us/step\n"
     ]
    },
    {
     "data": {
      "text/plain": "<Figure size 1000x1000 with 1 Axes>",
      "image/png": "[encoded data removed]"
     },
     "metadata": {},
     "output_type": "display_data"
    }
   ],
   "source": [
    "# Get latent space from every possible combination of fixed dfs\n",
    "df_test = test_embedding.df.copy()\n",
    "\n",
    "# Get set of values in 'origin' column\n",
    "origin_values = set(df_test['origin'].values)\n",
    "destination_values = set(df_test['destination'].values)\n",
    "user_pattern_values = set(df_test['user_pattern'].values)\n",
    "week_day_values = set(df_test['week_day'].values)\n",
    "month_values = set(df_test['month'].values)\n",
    "time_values = set(df_test['time'].values)\n",
    "\n",
    "df_test = test_embedding.df.copy()\n",
    "df_test['origin'] = 'madrid'\n",
    "df_test['destination'] = 'barcelona'\n",
    "df_test['week_day'] = 'monday'\n",
    "df_test['month'] = 'january'\n",
    "df_test['time'] = datetime.datetime(year=2023, month=1, day=1, hour=18, minute=30)\n",
    "\n",
    "fixed_data = AutoencoderEmbedding(df = df_test, embedding_dim=EMBEDDING_DIM)\n",
    "\n",
    "latent_space = encoder_model.predict(x = [fixed_data.words_embeddings, fixed_data.time_embedding])\n",
    "\n",
    "tsne = TSNE(n_components=2, random_state=0)\n",
    "tsne_latent_space = tsne.fit_transform(latent_space)\n",
    "\n",
    "# Scatter plot tsne_latent_space with legend of origin\n",
    "plt.figure(figsize=(10, 10))\n",
    "plt.title(\"T-SNE plot of latent space - Changes only in origin column\")\n",
    "\n",
    "for i, user_pattern in enumerate(user_pattern_values):\n",
    "    plt.scatter(tsne_latent_space[df_test['user_pattern'] == user_pattern, 0],\n",
    "                tsne_latent_space[df_test['user_pattern'] == user_pattern, 1],\n",
    "                label=user_pattern)\n",
    "plt.legend()\n",
    "plt.show()"
   ],
   "metadata": {
    "collapsed": false,
    "ExecuteTime": {
     "end_time": "2023-05-23T15:53:59.565101Z",
     "start_time": "2023-05-23T15:53:48.803039Z"
    }
   }
  },
  {
   "cell_type": "code",
   "execution_count": 35,
   "outputs": [
    {
     "data": {
      "text/plain": "<Figure size 1000x1000 with 1 Axes>",
      "image/png": "[encoded data removed]"
     },
     "metadata": {},
     "output_type": "display_data"
    }
   ],
   "source": [
    "# PCA on latent space to analyze relationship between latent factors and input variables\n",
    "from sklearn.decomposition import PCA\n",
    "\n",
    "pca = PCA(n_components=2)\n",
    "pca_latent_space = pca.fit_transform(latent_space)\n",
    "\n",
    "# Scatter plot pca_latent_space with legend of origin\n",
    "plt.figure(figsize=(10, 10))\n",
    "plt.title(\"PCA plot of latent space - Changes only in origin column\")\n",
    "\n",
    "for i, user_pattern in enumerate(user_pattern_values):\n",
    "    plt.scatter(pca_latent_space[df_test['user_pattern'] == user_pattern, 0],\n",
    "                pca_latent_space[df_test['user_pattern'] == user_pattern, 1],\n",
    "                label=user_pattern)\n",
    "\n",
    "plt.legend()\n",
    "plt.show()"
   ],
   "metadata": {
    "collapsed": false,
    "ExecuteTime": {
     "end_time": "2023-05-23T15:59:52.013542Z",
     "start_time": "2023-05-23T15:59:51.733069Z"
    }
   }
  },
  {
   "cell_type": "code",
   "execution_count": 51,
   "outputs": [
    {
     "name": "stdout",
     "output_type": "stream",
     "text": [
      "   Latent factor  Pearson correlation  Pearson p-value  Spearman correlation  \\\n",
      "0              1             0.263315     9.176944e-49              0.271803   \n",
      "1              2            -0.332068     3.801670e-78             -0.326546   \n",
      "2              3             0.822054     0.000000e+00              0.825664   \n",
      "3              4            -0.162147     4.010516e-19             -0.211377   \n",
      "4              5             0.430810    7.530785e-136              0.419955   \n",
      "\n",
      "   Spearman p-valus  \n",
      "0      5.806504e-52  \n",
      "1      1.748882e-75  \n",
      "2      0.000000e+00  \n",
      "3      1.198065e-31  \n",
      "4     1.691649e-128  \n"
     ]
    }
   ],
   "source": [
    "import numpy as np\n",
    "import pandas as pd\n",
    "\n",
    "from scipy.stats import pearsonr, spearmanr\n",
    "\n",
    "# Calculate Pearson correlation\n",
    "pearson_corr = []\n",
    "p_values_pearson = []\n",
    "for i in range(5):\n",
    "    correlation, p_value = pearsonr(latent_space[:, i], test_embedding.df_embedding['time'])\n",
    "    pearson_corr.append(correlation)\n",
    "    p_values_pearson.append(p_value)\n",
    "\n",
    "# Calculate Spearman correlation\n",
    "spearman_corr = []\n",
    "p_values_spearman = []\n",
    "for i in range(5):\n",
    "    correlation, p_value = spearmanr(latent_space[:, i], test_embedding.df_embedding['time'])\n",
    "    spearman_corr.append(correlation)\n",
    "    p_values_spearman.append(p_value)\n",
    "\n",
    "# Create dataframe with results\n",
    "resultados_correlacion = pd.DataFrame({'Latent factor': range(1, 6),\n",
    "                                      'Pearson correlation': pearson_corr,\n",
    "                                      'Pearson p-value': p_values_pearson,\n",
    "                                      'Spearman correlation': spearman_corr,\n",
    "                                      'Spearman p-valus': p_values_spearman})\n",
    "\n",
    "# Print results\n",
    "print(resultados_correlacion)"
   ],
   "metadata": {
    "collapsed": false,
    "ExecuteTime": {
     "end_time": "2023-05-23T19:44:23.799244Z",
     "start_time": "2023-05-23T19:44:23.773633Z"
    }
   }
  },
  {
   "cell_type": "code",
   "execution_count": null,
   "outputs": [],
   "source": [],
   "metadata": {
    "collapsed": false
   }
  }
 ],
 "metadata": {
  "kernelspec": {
   "display_name": "Python 3",
   "language": "python",
   "name": "python3"
  },
  "language_info": {
   "codemirror_mode": {
    "name": "ipython",
    "version": 3
   },
   "file_extension": ".py",
   "mimetype": "text/x-python",
   "name": "python",
   "nbconvert_exporter": "python",
   "pygments_lexer": "ipython3",
   "version": "3.8.6"
  }
 },
 "nbformat": 4,
 "nbformat_minor": 0
}
