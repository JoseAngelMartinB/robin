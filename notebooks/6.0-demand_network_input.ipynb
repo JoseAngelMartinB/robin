{
 "cells": [
  {
   "attachments": {},
   "cell_type": "markdown",
   "metadata": {},
   "source": [
    "# Transform Demand data, so it can be used by a Neural Network\n"
   ]
  },
  {
   "cell_type": "code",
   "execution_count": 1,
   "outputs": [],
   "source": [
    "import datetime\n",
    "import pandas as pd\n",
    "import nltk\n",
    "import numpy as np\n",
    "import random\n",
    "\n",
    "from feature_engine.creation import CyclicalFeatures\n",
    "from nltk.corpus import wordnet\n",
    "from sklearn.preprocessing import MinMaxScaler\n",
    "from scipy import spatial\n",
    "from typing import Tuple"
   ],
   "metadata": {
    "collapsed": false,
    "ExecuteTime": {
     "end_time": "2023-05-12T08:55:35.998617Z",
     "start_time": "2023-05-12T08:55:29.975736Z"
    }
   }
  },
  {
   "cell_type": "code",
   "execution_count": 2,
   "outputs": [
    {
     "name": "stderr",
     "output_type": "stream",
     "text": [
      "[nltk_data] Downloading package wordnet to /Users/uclm/nltk_data...\n",
      "[nltk_data]   Package wordnet is already up-to-date!\n"
     ]
    },
    {
     "data": {
      "text/plain": "True"
     },
     "execution_count": 2,
     "metadata": {},
     "output_type": "execute_result"
    }
   ],
   "source": [
    "# Download wordnet if not already downloaded\n",
    "nltk.download('wordnet')"
   ],
   "metadata": {
    "collapsed": false,
    "ExecuteTime": {
     "end_time": "2023-05-12T08:55:37.567321Z",
     "start_time": "2023-05-12T08:55:37.451161Z"
    }
   }
  },
  {
   "cell_type": "code",
   "execution_count": 3,
   "outputs": [
    {
     "name": "stdout",
     "output_type": "stream",
     "text": [
      "[['madrid', 'guadalajara', 'calatayud', 'zaragoza', 'lleida', 'tarragona', 'barcelona', 'girona', 'figueres']]\n"
     ]
    }
   ],
   "source": [
    "from src.robin.supply.entities import Supply\n",
    "\n",
    "path_config_supply = '../configs/test_case/supply_data.yml'\n",
    "\n",
    "supply = Supply.from_yaml(path_config_supply)\n",
    "\n",
    "# Get set of corridors\n",
    "corridors = []\n",
    "for service in supply.services:\n",
    "    if service.line.corridor not in corridors:\n",
    "        corridors.append(service.line.corridor)\n",
    "\n",
    "# Get set of paths\n",
    "paths = []\n",
    "for corridor in corridors:\n",
    "    for path in corridor.paths:\n",
    "        if path not in paths:\n",
    "            paths.append(path)\n",
    "\n",
    "# Parse paths of Station objects to paths of station mame\n",
    "paths = [[station.name.replace(\"-\", \" \").split(\" \")[0].lower() for station in path] for path in paths]\n",
    "print(paths)"
   ],
   "metadata": {
    "collapsed": false,
    "ExecuteTime": {
     "end_time": "2023-05-12T08:55:39.638402Z",
     "start_time": "2023-05-12T08:55:39.549338Z"
    }
   }
  },
  {
   "cell_type": "code",
   "execution_count": 4,
   "outputs": [],
   "source": [
    "def get_word_syn(word: str) -> str:\n",
    "    \"\"\"\n",
    "    Get a random synonym of a word\n",
    "\n",
    "    Args:\n",
    "        word (str): Word to get the synonym from\n",
    "\n",
    "    Returns:\n",
    "        str: Synonym of the word\n",
    "    \"\"\"\n",
    "    word_synset = wordnet.synsets(word)\n",
    "    if len(word_synset) > 0:\n",
    "        station_synset = word_synset[0]\n",
    "        station_lemmas = station_synset.lemmas()\n",
    "        if len(station_lemmas) > 0:\n",
    "            word_lemma = random.choice(station_lemmas)\n",
    "            return word_lemma.name().lower()\n",
    "\n",
    "    return word\n",
    "\n",
    "def get_random_pair(paths: list[list]) -> Tuple[str, str]:\n",
    "    \"\"\"\n",
    "    Get a random pair of stations from a path\n",
    "\n",
    "    Args:\n",
    "        paths (list[list]): List of stations\n",
    "\n",
    "    Returns:\n",
    "        Tuple[str, str]: Tuple with the origin and destination stations\n",
    "    \"\"\"\n",
    "    random_path = random.choice(paths)  # Choose a random path\n",
    "\n",
    "    origin_index = random.randint(0, len(random_path) - 2)  # Choose a random origin station\n",
    "    destination_index = random.randint(origin_index + 1, len(random_path) - 1)  # Choose a random destination station\n",
    "\n",
    "    origin_station = random_path[origin_index]\n",
    "    destination_station = random_path[destination_index]\n",
    "    return origin_station, destination_station"
   ],
   "metadata": {
    "collapsed": false,
    "ExecuteTime": {
     "end_time": "2023-05-12T08:55:41.408682Z",
     "start_time": "2023-05-12T08:55:41.399108Z"
    }
   }
  },
  {
   "cell_type": "code",
   "execution_count": 5,
   "outputs": [],
   "source": [
    "stations_csv_path = f'../data/renfe/renfe_stations.csv'\n",
    "\n",
    "def get_renfe_station_id(adif_id: str, stations_df: pd.DataFrame) -> str:\n",
    "    \"\"\"\n",
    "    Returns the Station name given the Adif station id.\n",
    "\n",
    "    Args:\n",
    "        adif_id (str): Adif station id.\n",
    "        stations_df (pd.DataFrame): Dataframe with the stations' information.\n",
    "\n",
    "    Returns:\n",
    "        str: Station name.\n",
    "    \"\"\"\n",
    "    station_name = stations_df[stations_df['stop_id'] == adif_id]['stop_name'].values[0]\n",
    "    station_name = station_name.replace(\"-\", \" \").split(\" \")[0].lower()\n",
    "    return station_name\n",
    "\n",
    "stations_df = pd.read_csv(stations_csv_path, dtype={'stop_id': str, 'renfe_id': str})"
   ],
   "metadata": {
    "collapsed": false,
    "ExecuteTime": {
     "end_time": "2023-05-12T08:55:43.145094Z",
     "start_time": "2023-05-12T08:55:43.130393Z"
    }
   }
  },
  {
   "cell_type": "code",
   "execution_count": 6,
   "outputs": [
    {
     "name": "stdout",
     "output_type": "stream",
     "text": [
      "        origin destination user_pattern        arrival_date\n",
      "0     zaragoza   barcelona     business 2028-01-08 11:38:00\n",
      "1       lleida   tarragona      student 2024-02-03 20:56:00\n",
      "2       madrid   barcelona     business 2030-02-24 05:12:00\n",
      "3    tarragona      girona     business 2026-02-01 06:29:00\n",
      "4  guadalajara    zaragoza      tourist 2029-06-08 07:15:00\n",
      "       year     month_sin  month_cos   day_sin   day_cos  hour_sin  hour_cos  \\\n",
      "0  0.777778  5.000000e-01   0.866025  0.998717 -0.050649  0.136167 -0.990686   \n",
      "1  0.333333  8.660254e-01   0.500000  0.571268  0.820763 -0.730836  0.682553   \n",
      "2  1.000000  8.660254e-01   0.500000 -0.988468  0.151428  0.979084  0.203456   \n",
      "3  0.555556  8.660254e-01   0.500000  0.201299  0.979530  0.997669 -0.068242   \n",
      "4  0.888889  1.224647e-16  -1.000000  0.998717 -0.050649  0.942261 -0.334880   \n",
      "\n",
      "   minute_sin  minute_cos  \n",
      "0   -0.786552   -0.617525  \n",
      "1   -0.314077    0.949398  \n",
      "2    0.957422    0.288692  \n",
      "3    0.053222   -0.998583  \n",
      "4    0.999646   -0.026621  \n"
     ]
    }
   ],
   "source": [
    "n_passengers = 10000\n",
    "\n",
    "pairs = []\n",
    "for _ in range(n_passengers):\n",
    "    pairs.append(get_random_pair(paths))\n",
    "\n",
    "df = pd.DataFrame(pairs, columns=['origin', 'destination'])\n",
    "\n",
    "user_patterns = (\"business\", \"student\", \"tourist\")\n",
    "\n",
    "df['user_pattern'] = [random.choice(user_patterns) for _ in range(n_passengers)]\n",
    "\n",
    "random_timedelta = lambda: datetime.timedelta(days=random.randint(0, 365*10), hours=random.randint(0, 24), minutes=random.randint(0, 60))\n",
    "df['arrival_date'] = [datetime.datetime(2021, 1, 1) + random_timedelta() for _ in range(n_passengers)]\n",
    "print(df.head())\n",
    "\n",
    "df_time = pd.DataFrame()\n",
    "df_time['year'] = df['arrival_date'].apply(lambda x: x.year)\n",
    "df_time['month'] = df['arrival_date'].apply(lambda x: x.month)\n",
    "df_time['day'] = df['arrival_date'].apply(lambda x: x.day)\n",
    "df_time['hour'] = df['arrival_date'].apply(lambda x: x.hour)\n",
    "df_time['minute'] = df['arrival_date'].apply(lambda x: x.minute)\n",
    "\n",
    "scaler = MinMaxScaler()\n",
    "df_time['year'] = scaler.fit_transform(df_time['year'].to_numpy().reshape(-1, 1))\n",
    "\n",
    "cyclical = CyclicalFeatures(variables=['month', 'day', 'hour', 'minute'], drop_original=True)\n",
    "df_time = cyclical.fit_transform(df_time)\n",
    "\n",
    "print(df_time.head())"
   ],
   "metadata": {
    "collapsed": false,
    "ExecuteTime": {
     "end_time": "2023-05-12T08:55:44.998050Z",
     "start_time": "2023-05-12T08:55:44.876206Z"
    }
   }
  },
  {
   "cell_type": "code",
   "execution_count": 7,
   "outputs": [
    {
     "name": "stdout",
     "output_type": "stream",
     "text": [
      "{'tarragona', 'zaragoza', 'girona', 'student', 'madrid', 'figueres', 'calatayud', 'tourist', 'business', 'lleida', 'guadalajara', 'barcelona'}\n"
     ]
    }
   ],
   "source": [
    "# Get bag of words\n",
    "words_set = set(df[['origin', 'destination', 'user_pattern', ]].values.flatten())\n",
    "\n",
    "print(words_set)"
   ],
   "metadata": {
    "collapsed": false,
    "ExecuteTime": {
     "end_time": "2023-05-12T08:55:47.051067Z",
     "start_time": "2023-05-12T08:55:47.045919Z"
    }
   }
  },
  {
   "cell_type": "code",
   "execution_count": 8,
   "outputs": [
    {
     "name": "stdout",
     "output_type": "stream",
     "text": [
      "Found 400000 word vectors.\n",
      "tarragona [ 1.3885   -0.089092 -1.0508    0.058438 -0.50411  -0.80545   0.80153\n",
      "  0.82715  -1.2087    0.45195   0.80519  -1.5551    0.34254  -0.75674\n",
      "  0.028514 -0.10778  -0.059228  0.51951  -0.45246   0.96256  -0.94067\n",
      " -0.78372  -0.36429   1.6069   -1.3246    0.48912   0.53017   0.53761\n",
      "  0.4855    0.50803  -0.27815   0.77234  -1.4666   -0.45942   0.26933\n",
      "  0.33678  -0.36631   1.0428    0.7383    0.42628   0.67481  -0.16776\n",
      "  0.2546   -0.8961   -0.65298   0.98143   0.46095  -0.030374  0.9039\n",
      " -0.36815 ]\n",
      "zaragoza [ 1.0642    0.089939 -0.28715   0.82471   0.31063  -1.4798    0.12028\n",
      "  0.7449   -1.2919    0.39737   0.4715   -0.53483  -0.48049  -1.2998\n",
      "  0.32826  -1.3085   -0.67916  -0.20625  -0.7232    0.41638  -1.2895\n",
      " -0.69963  -0.23631   0.70175  -0.61498   0.20193   1.329     0.25294\n",
      " -0.093715 -0.16535   0.99605   1.2007   -0.26729  -0.42035  -0.15881\n",
      "  0.63906  -0.73977   1.3119    0.61136  -0.59197   1.3032    0.16094\n",
      " -0.027686 -0.9412   -0.68288   0.65116   0.47976  -0.32516   1.3912\n",
      " -0.50467 ]\n",
      "girona [ 0.69573   0.16443  -0.61718  -0.13909  -1.2492   -0.47829   0.50206\n",
      "  1.0136   -1.0403    1.1929    1.3871   -0.88079   0.54227  -0.90985\n",
      " -0.1475   -0.18127  -0.35494   0.63054   0.1464    1.1372   -0.71314\n",
      " -0.61257  -0.44408   1.2782   -0.1732    0.30406  -0.30278   0.071796\n",
      " -0.44694  -0.40649   0.052338  0.95847  -0.58593   0.2334    0.15939\n",
      "  0.25142  -0.07162   0.41319   0.59714   0.78175   0.61157   0.039563\n",
      " -0.2227   -0.83295  -1.2992    0.11728   0.29288  -0.067999  0.49122\n",
      " -1.121   ]\n",
      "student [-1.0729    0.94103   0.084904 -1.0766    0.42866   0.099877 -0.51081\n",
      " -0.24961  -0.30883   0.19553   0.1965   -0.73152   0.096916 -0.062686\n",
      "  0.12078  -0.72384  -0.382     0.6934    0.32956   0.40244   0.53485\n",
      "  0.91781  -0.44553   0.71804  -0.13635  -1.6906    0.15818  -1.2367\n",
      " -1.2278   -0.058566  2.7544    0.18672  -0.263    -1.2792    0.16992\n",
      "  0.40748   0.12248   0.11211   0.78318   0.036392 -0.40808  -0.058474\n",
      " -0.27932   0.33035   0.52384  -1.0487    0.27565   0.0363    0.048604\n",
      "  0.28239 ]\n",
      "madrid [ 1.3315     0.72181   -0.060088   0.43948    0.18419   -1.5083\n",
      " -0.48125    0.46037   -1.4088     1.2701     0.68031   -0.59232\n",
      " -1.6325    -0.30376    0.87685   -0.75531   -0.37583   -0.5363\n",
      " -1.0669     0.45537   -0.66694    0.43001   -0.69525    0.67518\n",
      " -0.93783   -0.67933    1.1104     0.37576   -0.36894   -0.083185\n",
      "  2.0346     0.96286   -0.56629   -0.7787    -0.10705   -0.14102\n",
      "  0.07384    0.62338    0.20366    0.0076751  0.71088    0.01501\n",
      "  0.53186   -0.82256   -0.35087    0.30876   -0.065328   0.23722\n",
      "  1.4692    -0.93469  ]\n",
      "figueres [ 0.90565   0.46405  -0.48596   0.42419  -0.8704    0.066207 -0.50311\n",
      " -0.042838 -0.69957  -0.67761   1.1499    0.2294   -0.054796 -0.22567\n",
      " -0.34964  -0.62358  -0.8379    0.19477   0.94323   0.065511 -2.18\n",
      "  0.12716  -0.45373  -0.12187   0.726     0.2507    0.87852   0.68919\n",
      " -1.6939   -0.42493  -0.59557   0.82288  -0.67005  -0.50038  -0.64736\n",
      " -0.87874  -0.13023   0.45906   0.83137  -0.011592 -0.59417  -0.31512\n",
      "  0.3037   -1.198    -0.38814   0.31753  -0.074266 -0.15812   0.73706\n",
      " -0.11858 ]\n",
      "calatayud [-0.6165     0.22867    0.12732    0.60427   -0.7213    -0.81453\n",
      "  1.3852     0.60059    0.17072    0.95024    0.20744   -0.45372\n",
      "  0.6271    -0.42923    0.25115   -0.66835   -0.02053    0.36235\n",
      "  0.06391    0.48771   -0.74967   -0.72486   -0.12697    0.068176\n",
      "  0.15597   -0.20094    0.60762    0.18272    0.48829   -0.8197\n",
      " -1.4656     0.0081439 -0.16165   -0.37037   -0.6043     0.62072\n",
      " -0.45622    1.2072     0.034754   1.0117     0.65683    0.61171\n",
      "  1.188      0.10198   -0.7492     0.091471  -0.39347   -1.0623\n",
      "  0.65213   -1.0082   ]\n",
      "tourist [ 0.97263   1.0474   -0.25339   0.50992  -0.079486 -0.87991  -1.5079\n",
      " -0.22672   1.08      0.048978  0.018205 -0.70902   0.9513    0.26561\n",
      "  0.72587   0.16435   0.43399   0.15015  -0.5252    0.39367   0.71189\n",
      " -0.018511 -1.4629    1.0692    0.33531  -0.99202  -0.36039   0.14279\n",
      "  0.47913   0.2413    2.2199    0.69557   0.65129   0.074741  0.48242\n",
      "  0.48047  -0.18957  -0.22236  -0.9266    0.42077  -0.81675   0.70776\n",
      "  1.1882   -0.32197   0.12777  -0.79299  -0.78859  -0.26432   1.4907\n",
      " -0.63973 ]\n",
      "business [ 0.023693  0.13316   0.023131  0.49833   0.026874 -0.43252  -1.1364\n",
      " -0.82001   0.22388  -0.032119 -0.069651  0.39857  -0.58275   0.095008\n",
      " -0.023643  0.23237  -0.42441   0.65709   0.57802  -0.51602   1.8253\n",
      "  0.12951  -0.61773   0.39281  -0.35754  -1.6778   -0.45201  -0.47075\n",
      "  0.19487   0.35828   3.6034    0.32865   0.47288  -0.33787  -0.46234\n",
      " -0.51628  -1.3755    0.70789   0.4648   -0.16186  -0.0961   -0.28523\n",
      "  0.30047   0.50902   0.081356 -0.015639 -0.51021   0.34585   0.24201\n",
      "  0.82237 ]\n",
      "lleida [ 0.23779  -0.70155  -1.123     0.36108  -1.1387   -0.49992   0.28795\n",
      "  0.87089  -0.32366   0.85312   1.5365   -1.2579    0.45029  -0.87621\n",
      " -0.3849   -0.45242  -1.0222    0.90672   0.60101   0.89574  -1.5187\n",
      " -0.54763  -0.23907   1.3125   -0.30361   0.95009  -0.84021  -0.1023\n",
      " -0.41569  -0.24651   0.20699   0.85849  -0.80493   0.55103   0.3738\n",
      "  0.39285   0.50441   0.77364   0.73249   0.94046   0.072068 -0.46804\n",
      " -1.0545   -0.48751  -1.0242    1.0787    0.25623   0.24465   0.1344\n",
      " -0.66684 ]\n",
      "guadalajara [ 0.66454   -0.030792  -0.65976    1.0981    -0.27973   -1.0009\n",
      " -0.2335     0.24978   -0.32826    1.244      0.93494   -1.4364\n",
      "  0.070134  -0.27999    0.48562   -1.2171    -1.0182     0.5233\n",
      " -0.81994    0.722     -1.0295    -0.50485    0.10219    0.77464\n",
      " -1.4905    -0.55574    0.13152    0.42089   -0.31912   -1.5303\n",
      "  0.3949     0.33945   -0.87748   -0.75725   -0.043081  -0.26023\n",
      " -0.54686    0.70108    0.68176    0.24399    0.056761  -0.0076331\n",
      "  0.66436   -1.1159    -0.41312    0.71485    0.17968   -0.27269\n",
      "  0.030796  -0.4465   ]\n",
      "barcelona [ 0.68944   1.2217   -0.23655   0.36109  -0.62116  -1.0075   -0.52565\n",
      "  0.65766  -1.2764    1.1286    1.1386   -0.36088  -1.3849   -0.58442\n",
      "  0.9772   -0.35103   0.29237  -0.27426  -1.3109   -0.015967 -1.0695\n",
      "  0.11901  -0.56335   0.49648  -0.44571  -0.47566   0.79045   0.42923\n",
      " -0.76743  -0.14029   1.7552    1.3342   -0.42864  -0.29125  -0.2056\n",
      "  0.21055   0.099324  1.4187    0.34068  -0.4477    1.0795    0.10387\n",
      "  0.15772  -0.51013  -0.50933   0.25395   0.050859 -0.084172  0.69738\n",
      " -1.192   ]\n"
     ]
    }
   ],
   "source": [
    "# Import GloVe embeddings 50D\n",
    "import os\n",
    "import numpy as np\n",
    "\n",
    "EMBEDDING_DIM = 50\n",
    "\n",
    "word_index = {word: index for index, word in enumerate(words_set)}\n",
    "\n",
    "embeddings_index = {}\n",
    "f = open(os.path.join('../data/pretrained/glove6B/glove.6B.50d.txt'))\n",
    "\n",
    "for line in f:\n",
    "    values = line.split()\n",
    "    word = values[0]\n",
    "    coefs = np.asarray(values[1:], dtype=np.float32)\n",
    "    embeddings_index[word] = coefs\n",
    "f.close()\n",
    "\n",
    "print('Found %s word vectors.' % len(embeddings_index))\n",
    "\n",
    "EMBEDDING_DIM = 50\n",
    "\n",
    "embedding_matrix = np.zeros((len(word_index) + 1, EMBEDDING_DIM))\n",
    "embedding_dict = {}\n",
    "for word, i in word_index.items():\n",
    "    embedding_vector = embeddings_index.get(word)\n",
    "    print(word, embedding_vector)\n",
    "    if embedding_vector is not None:\n",
    "        # Words not found in embedding index will be all-zeros.\n",
    "        embedding_matrix[i] = embedding_vector\n",
    "        embedding_dict[word] = embedding_vector"
   ],
   "metadata": {
    "collapsed": false,
    "ExecuteTime": {
     "end_time": "2023-05-12T08:55:52.168382Z",
     "start_time": "2023-05-12T08:55:48.549479Z"
    }
   }
  },
  {
   "cell_type": "code",
   "execution_count": 9,
   "outputs": [
    {
     "name": "stdout",
     "output_type": "stream",
     "text": [
      "(10000, 4, 50)\n"
     ]
    }
   ],
   "source": [
    "df_embedding = pd.DataFrame()\n",
    "df_embedding['origin'] = df['origin'].apply(lambda x: embedding_dict.get(x))\n",
    "df_embedding['destination'] = df['destination'].apply(lambda x: embedding_dict.get(x))\n",
    "df_embedding['user_pattern'] = df['user_pattern'].apply(lambda x: embedding_dict.get(x))\n",
    "df_embedding['scaled_date'] = df_time.values.tolist()\n",
    "df_embedding['scaled_date'] = df_embedding['scaled_date'].apply(lambda x: np.asarray(x + [0.0] * (EMBEDDING_DIM - len(x)), dtype=np.float32))\n",
    "df_embedding = df_embedding[['origin', 'destination', 'user_pattern', 'scaled_date']]\n",
    "\n",
    "input_data = df_embedding[['origin', 'destination', 'user_pattern', 'scaled_date']].values.tolist()\n",
    "input_vectors = np.array([np.asarray(row, dtype=np.float32) for row in input_data])\n",
    "\n",
    "print(input_vectors.shape)"
   ],
   "metadata": {
    "collapsed": false,
    "ExecuteTime": {
     "end_time": "2023-05-12T08:55:58.138024Z",
     "start_time": "2023-05-12T08:55:58.066720Z"
    }
   }
  },
  {
   "cell_type": "markdown",
   "source": [
    "## Embedding Model"
   ],
   "metadata": {
    "collapsed": false
   }
  },
  {
   "cell_type": "code",
   "execution_count": 10,
   "outputs": [
    {
     "name": "stderr",
     "output_type": "stream",
     "text": [
      "2023-05-12 10:56:04.360167: I tensorflow/core/platform/cpu_feature_guard.cc:193] This TensorFlow binary is optimized with oneAPI Deep Neural Network Library (oneDNN) to use the following CPU instructions in performance-critical operations:  SSE4.1 SSE4.2 AVX AVX2 FMA\n",
      "To enable them in other operations, rebuild TensorFlow with the appropriate compiler flags.\n"
     ]
    }
   ],
   "source": [
    "import keras.backend as K\n",
    "\n",
    "from keras.layers import Layer\n",
    "from keras.utils.generic_utils import get_custom_objects\n",
    "\n",
    "\n",
    "class SampleLayer(Layer):\n",
    "    @property\n",
    "    def name(self):\n",
    "        return self._name\n",
    "\n",
    "    def __init__(self, gamma, capacity, name, **kwargs):\n",
    "        super(SampleLayer, self).__init__(**kwargs)\n",
    "        self.gamma = gamma\n",
    "        self.max_capacity = capacity\n",
    "        self.name = name\n",
    "\n",
    "    def build(self, input_shape):\n",
    "        super(SampleLayer, self).build(input_shape)\n",
    "        self.built = True\n",
    "\n",
    "    def call(self, layer_inputs, **kwargs):\n",
    "        if len(layer_inputs) != 2:\n",
    "            raise Exception('input layers must be a list: mean and stddev')\n",
    "        if len(K.int_shape(layer_inputs[0])) != 2 or len(K.int_shape(layer_inputs[1])) != 2:\n",
    "            raise Exception('input shape is not a vector [batchSize, latentSize]')\n",
    "\n",
    "        mean = layer_inputs[0]\n",
    "        log_var = layer_inputs[1]\n",
    "\n",
    "        batch = K.shape(mean)[0]\n",
    "        dim = K.int_shape(mean)[1]\n",
    "\n",
    "        latent_loss = -0.5 * (1 + log_var - K.square(mean) - K.exp(log_var))\n",
    "        latent_loss = K.sum(latent_loss, axis=1, keepdims=True)\n",
    "        latent_loss = K.mean(latent_loss)\n",
    "        latent_loss = self.gamma * K.abs(latent_loss - self.max_capacity)\n",
    "\n",
    "        latent_loss = K.reshape(latent_loss, [1, 1])\n",
    "\n",
    "        epsilon = K.random_normal(shape=(batch, dim), mean=0., stddev=1.)\n",
    "        layer_output = mean + K.exp(0.5 * log_var) * epsilon\n",
    "\n",
    "        self.add_loss(losses=[latent_loss], inputs=[layer_inputs])\n",
    "\n",
    "        return layer_output\n",
    "\n",
    "    def compute_output_shape(self, input_shape):\n",
    "        return input_shape[0]\n",
    "\n",
    "    def get_config(self):\n",
    "        config = {\n",
    "            'gamma': self.gamma,\n",
    "            'capacity': self.max_capacity,\n",
    "            'name': self.name\n",
    "        }\n",
    "        base_config = super(SampleLayer, self).get_config()\n",
    "        return dict(list(base_config.items()) + list(config.items()))\n",
    "\n",
    "    @name.setter\n",
    "    def name(self, value):\n",
    "        self._name = value\n",
    "\n",
    "\n",
    "get_custom_objects().update({'SampleLayer': SampleLayer})"
   ],
   "metadata": {
    "collapsed": false,
    "ExecuteTime": {
     "end_time": "2023-05-12T08:56:11.263412Z",
     "start_time": "2023-05-12T08:56:04.322507Z"
    }
   }
  },
  {
   "cell_type": "code",
   "execution_count": 11,
   "outputs": [
    {
     "name": "stderr",
     "output_type": "stream",
     "text": [
      "2023-05-11 19:20:46.089991: I tensorflow/core/platform/cpu_feature_guard.cc:193] This TensorFlow binary is optimized with oneAPI Deep Neural Network Library (oneDNN) to use the following CPU instructions in performance-critical operations:  SSE4.1 SSE4.2 AVX AVX2 FMA\n",
      "To enable them in other operations, rebuild TensorFlow with the appropriate compiler flags.\n"
     ]
    },
    {
     "ename": "NameError",
     "evalue": "name 'scaled_date' is not defined",
     "output_type": "error",
     "traceback": [
      "\u001B[0;31m---------------------------------------------------------------------------\u001B[0m",
      "\u001B[0;31mNameError\u001B[0m                                 Traceback (most recent call last)",
      "Cell \u001B[0;32mIn[11], line 92\u001B[0m\n\u001B[1;32m     88\u001B[0m         \u001B[38;5;28;01mreturn\u001B[39;00m (input_shape[\u001B[38;5;241m0\u001B[39m], input_shape[\u001B[38;5;241m1\u001B[39m], \u001B[38;5;28mself\u001B[39m\u001B[38;5;241m.\u001B[39mk \u001B[38;5;241m+\u001B[39m \u001B[38;5;241m1\u001B[39m)\n\u001B[1;32m     91\u001B[0m \u001B[38;5;28;01mif\u001B[39;00m \u001B[38;5;18m__name__\u001B[39m \u001B[38;5;241m==\u001B[39m \u001B[38;5;124m\"\u001B[39m\u001B[38;5;124m__main__\u001B[39m\u001B[38;5;124m\"\u001B[39m:\n\u001B[0;32m---> 92\u001B[0m     test_vector \u001B[38;5;241m=\u001B[39m \u001B[43mscaled_date\u001B[49m\n\u001B[1;32m     93\u001B[0m     \u001B[38;5;28mprint\u001B[39m(test_vector)\n\u001B[1;32m     95\u001B[0m     xti \u001B[38;5;241m=\u001B[39m Time2Vec(\u001B[38;5;241m50\u001B[39m, \u001B[38;5;124m\"\u001B[39m\u001B[38;5;124msin\u001B[39m\u001B[38;5;124m\"\u001B[39m)(test_vector)\n",
      "\u001B[0;31mNameError\u001B[0m: name 'scaled_date' is not defined"
     ]
    }
   ],
   "source": [
    "\"\"\"Module for implementing time to vector encoding\"\"\"\n",
    "\n",
    "# Source: https://gist.github.com/Anuj040/9402d433e0c7f1625f0af737ff03a02d\n",
    "\n",
    "import tensorflow as tf\n",
    "from tensorflow.keras.layers import Layer\n",
    "\n",
    "class Time2Vec(Layer):\n",
    "    \"\"\"Time2Vector encoding layer\"\"\"\n",
    "\n",
    "    def __init__(self, kernel: int = 64, activation: str = \"sin\") -> None:\n",
    "        \"\"\"\n",
    "        Args:\n",
    "            kernel (int, optional): length of time vector representation. Defaults to 64\n",
    "            activation (str, optional): periodic activation for time encoding. Defaults to \"sin\".\n",
    "        Raises:\n",
    "            NotImplementedError: Non-supported activations\n",
    "        \"\"\"\n",
    "        # periodic components\n",
    "        if activation in [\"sin\", \"cos\"]:\n",
    "            activation = {\"sin\": tf.math.sin, \"cos\": tf.math.cos}[activation]\n",
    "        else:\n",
    "            raise NotImplementedError(\n",
    "                f\"'{activation}' is an unsupported periodic activation.\"\n",
    "            )\n",
    "\n",
    "        super().__init__(trainable=True, name=\"Time2VecLayer_\" + activation.__name__)\n",
    "\n",
    "        self.k = kernel - 1\n",
    "        self.p_activation = activation\n",
    "\n",
    "    def build(self, input_shape: tuple) -> None:\n",
    "        \"\"\"method for building and initializing the weights for the tensor operations\n",
    "        Args:\n",
    "            input_shape (tuple): shape of the incoming tensor\n",
    "        \"\"\"\n",
    "        # Linear component\n",
    "        self.w_b = self.add_weight(\n",
    "            shape=(1, input_shape[1], 1), initializer=\"uniform\", trainable=True\n",
    "        )\n",
    "\n",
    "        self.b_b = self.add_weight(\n",
    "            shape=(1, input_shape[1], 1), initializer=\"uniform\", trainable=True\n",
    "        )\n",
    "\n",
    "        # Periodic components\n",
    "        self.freq = self.add_weight(\n",
    "            shape=(1, input_shape[1], self.k), initializer=\"uniform\", trainable=True\n",
    "        )\n",
    "\n",
    "        self.phase = self.add_weight(\n",
    "            shape=(1, input_shape[1], self.k), initializer=\"uniform\", trainable=True\n",
    "        )\n",
    "\n",
    "        super().build(input_shape)\n",
    "\n",
    "    def call(self, inputs: tf.Tensor, **kwargs) -> tf.Tensor:\n",
    "        \"\"\"method to perform the layer operation\n",
    "        Args:\n",
    "            inputs (tf.Tensor): shape = (batch_size, feature_size)\n",
    "        Returns:\n",
    "            tf.Tensor: shape = (batch_size, feature_size, length of time vector representation)\n",
    "        \"\"\"\n",
    "        inputs = tf.expand_dims(inputs, axis=-1)\n",
    "\n",
    "        # Linear components\n",
    "        lin = (\n",
    "            # Multiply each time dimension with the corresponding linear time component\n",
    "            tf.multiply(inputs, self.w_b)\n",
    "            # Bias component for each time dimension\n",
    "            + self.b_b\n",
    "        )\n",
    "\n",
    "        # Periodic components\n",
    "        # Multiply each time dimension (M, D, H, mins, etc.) with the corresponding frequency vector\n",
    "        per = tf.multiply(tf.tile(inputs, multiples=[1, 1, self.k]), self.freq)\n",
    "        # Phase vector for each time dimension\n",
    "        per = self.p_activation(per + self.phase)\n",
    "        return tf.concat([lin, per], -1)\n",
    "\n",
    "    def compute_output_shape(self, input_shape: tuple) -> tuple:\n",
    "        \"\"\"computes the shape of output tensor\n",
    "        Args:\n",
    "            input_shape (tuple): shape of incoming tensor\n",
    "        Returns:\n",
    "            tuple: shape of outgoing tensor\n",
    "        \"\"\"\n",
    "        return (input_shape[0], input_shape[1], self.k + 1)\n",
    "\n",
    "\n",
    "if __name__ == \"__main__\":\n",
    "    test_vector = scaled_date\n",
    "    print(test_vector)\n",
    "\n",
    "    xti = Time2Vec(50, \"sin\")(test_vector)\n",
    "    print(xti.shape)"
   ],
   "metadata": {
    "collapsed": false
   }
  },
  {
   "cell_type": "code",
   "execution_count": 11,
   "outputs": [
    {
     "name": "stdout",
     "output_type": "stream",
     "text": [
      "Model: \"sequential\"\n",
      "_________________________________________________________________\n",
      " Layer (type)                Output Shape              Param #   \n",
      "=================================================================\n",
      " words_embedding (Embedding)  (None, 3, 50)            650       \n",
      "                                                                 \n",
      "=================================================================\n",
      "Total params: 650\n",
      "Trainable params: 650\n",
      "Non-trainable params: 0\n",
      "_________________________________________________________________\n"
     ]
    },
    {
     "name": "stderr",
     "output_type": "stream",
     "text": [
      "2023-05-12 10:56:21.381064: I tensorflow/core/platform/cpu_feature_guard.cc:193] This TensorFlow binary is optimized with oneAPI Deep Neural Network Library (oneDNN) to use the following CPU instructions in performance-critical operations:  SSE4.1 SSE4.2 AVX AVX2 FMA\n",
      "To enable them in other operations, rebuild TensorFlow with the appropriate compiler flags.\n"
     ]
    }
   ],
   "source": [
    "from keras.models import Sequential\n",
    "from keras.layers import Input, Embedding, Flatten\n",
    "\n",
    "vocab_size = len(words_set)\n",
    "\n",
    "embedding_model = Sequential()\n",
    "embedding_model.add(Input(shape=(3,)))\n",
    "embedding_model.add(Embedding(input_dim= vocab_size + 1,\n",
    "                            output_dim=EMBEDDING_DIM,\n",
    "                            weights=[embedding_matrix],\n",
    "                            name='words_embedding', trainable=True\n",
    "                            ))\n",
    "\n",
    "embedding_model.compile(optimizer='adam', loss='mse')\n",
    "embedding_model.summary()"
   ],
   "metadata": {
    "collapsed": false,
    "ExecuteTime": {
     "end_time": "2023-05-12T08:56:21.489298Z",
     "start_time": "2023-05-12T08:56:21.367379Z"
    }
   }
  },
  {
   "cell_type": "markdown",
   "source": [
    "## Autoencoder model"
   ],
   "metadata": {
    "collapsed": false
   }
  },
  {
   "cell_type": "code",
   "execution_count": 13,
   "outputs": [
    {
     "name": "stdout",
     "output_type": "stream",
     "text": [
      "Model: \"model_2\"\n",
      "__________________________________________________________________________________________________\n",
      " Layer (type)                   Output Shape         Param #     Connected to                     \n",
      "==================================================================================================\n",
      " input_4 (InputLayer)           [(None, 4, 50)]      0           []                               \n",
      "                                                                                                  \n",
      " gru_4 (GRU)                    (None, 4, 64)        22272       ['input_4[0][0]']                \n",
      "                                                                                                  \n",
      " gru_5 (GRU)                    (None, 32)           9408        ['gru_4[0][0]']                  \n",
      "                                                                                                  \n",
      " dense_3 (Dense)                (None, 4)            132         ['gru_5[0][0]']                  \n",
      "                                                                                                  \n",
      " dense_4 (Dense)                (None, 8)            40          ['dense_3[0][0]']                \n",
      "                                                                                                  \n",
      " sample_mean (Dense)            (None, 4)            20          ['dense_3[0][0]']                \n",
      "                                                                                                  \n",
      " sample_log_var (Dense)         (None, 4)            36          ['dense_4[0][0]']                \n",
      "                                                                                                  \n",
      " sampling_layer (SampleLayer)   (None, 4)            0           ['sample_mean[0][0]',            \n",
      "                                                                  'sample_log_var[0][0]']         \n",
      "                                                                                                  \n",
      " model_1 (Functional)           (None, 4, 50)        25714       ['sampling_layer[0][0]']         \n",
      "                                                                                                  \n",
      "==================================================================================================\n",
      "Total params: 57,622\n",
      "Trainable params: 57,622\n",
      "Non-trainable params: 0\n",
      "__________________________________________________________________________________________________\n"
     ]
    }
   ],
   "source": [
    "import tensorflow as tf\n",
    "\n",
    "from keras.layers import Input, GRU, Dense, RepeatVector, TimeDistributed\n",
    "from keras.models import Model\n",
    "\n",
    "input_shape = (4, EMBEDDING_DIM)\n",
    "output_shape = (4, EMBEDDING_DIM)\n",
    "\n",
    "latent_dim = 4\n",
    "\n",
    "inputs = Input(shape=input_shape)\n",
    "\n",
    "encoder = GRU(64, return_sequences=True)(inputs)\n",
    "encoder = GRU(32)(encoder)\n",
    "\n",
    "z_dim = 4\n",
    "vae_gamma = 100\n",
    "vae_capacity = 5\n",
    "dense1 = Dense(4)(encoder)\n",
    "x = Dense(units=z_dim * 2, activation='linear')(dense1)\n",
    "\n",
    "# Beta-VAE implementation as follows\n",
    "z_mean = Dense(units=z_dim, activation='linear', name='sample_mean')(dense1)\n",
    "z_log_var = Dense(units=z_dim, activation='linear', name='sample_log_var')(x)\n",
    "embed_layer = SampleLayer(gamma=vae_gamma, capacity=vae_capacity, name='sampling_layer')([z_mean, z_log_var])\n",
    "\n",
    "decoder_inputs = Input(shape=(latent_dim,))\n",
    "decoder = RepeatVector(input_shape[0])(decoder_inputs)\n",
    "decoder = GRU(32, return_sequences=True)(decoder)\n",
    "decoder = GRU(64, return_sequences=True)(decoder)\n",
    "decoder_outputs = TimeDistributed(Dense(output_shape[1]))(decoder)\n",
    "\n",
    "encoder_model = Model(inputs, embed_layer)\n",
    "decoder_model = Model(decoder_inputs, decoder_outputs)\n",
    "\n",
    "model = Model(inputs, decoder_model(embed_layer))\n",
    "\n",
    "model.compile(optimizer='adam', loss='mse', metrics=[tf.keras.metrics.MeanSquaredError()])\n",
    "model.summary()"
   ],
   "metadata": {
    "collapsed": false,
    "ExecuteTime": {
     "end_time": "2023-05-12T08:56:52.893675Z",
     "start_time": "2023-05-12T08:56:51.378663Z"
    }
   }
  },
  {
   "cell_type": "code",
   "execution_count": 14,
   "outputs": [
    {
     "name": "stdout",
     "output_type": "stream",
     "text": [
      "Epoch 1/10\n"
     ]
    },
    {
     "ename": "ValueError",
     "evalue": "in user code:\n\n    File \"/Users/david/opt/anaconda3/envs/robin/lib/python3.10/site-packages/keras/engine/training.py\", line 1160, in train_function  *\n        return step_function(self, iterator)\n    File \"/Users/david/opt/anaconda3/envs/robin/lib/python3.10/site-packages/keras/engine/training.py\", line 1146, in step_function  **\n        outputs = model.distribute_strategy.run(run_step, args=(data,))\n    File \"/Users/david/opt/anaconda3/envs/robin/lib/python3.10/site-packages/keras/engine/training.py\", line 1135, in run_step  **\n        outputs = model.train_step(data)\n    File \"/Users/david/opt/anaconda3/envs/robin/lib/python3.10/site-packages/keras/engine/training.py\", line 994, in train_step\n        loss = self.compute_loss(x, y, y_pred, sample_weight)\n    File \"/Users/david/opt/anaconda3/envs/robin/lib/python3.10/site-packages/keras/engine/training.py\", line 1052, in compute_loss\n        return self.compiled_loss(\n    File \"/Users/david/opt/anaconda3/envs/robin/lib/python3.10/site-packages/keras/engine/compile_utils.py\", line 316, in __call__\n        total_total_loss_mean_value = tf.add_n(total_loss_mean_values)\n\n    ValueError: Shapes must be equal rank, but are 0 and 2\n    \tFrom merging shape 0 with other shapes. for '{{node AddN}} = AddN[N=2, T=DT_FLOAT](mean_squared_error/weighted_loss/value, model_2/sampling_layer/Reshape)' with input shapes: [], [1,1].\n",
     "output_type": "error",
     "traceback": [
      "\u001B[0;31m---------------------------------------------------------------------------\u001B[0m",
      "\u001B[0;31mValueError\u001B[0m                                Traceback (most recent call last)",
      "Cell \u001B[0;32mIn[14], line 1\u001B[0m\n\u001B[0;32m----> 1\u001B[0m history \u001B[38;5;241m=\u001B[39m \u001B[43mmodel\u001B[49m\u001B[38;5;241;43m.\u001B[39;49m\u001B[43mfit\u001B[49m\u001B[43m(\u001B[49m\u001B[43minput_vectors\u001B[49m\u001B[43m,\u001B[49m\u001B[43m \u001B[49m\u001B[43minput_vectors\u001B[49m\u001B[43m,\u001B[49m\u001B[43m \u001B[49m\u001B[43mepochs\u001B[49m\u001B[38;5;241;43m=\u001B[39;49m\u001B[38;5;241;43m10\u001B[39;49m\u001B[43m,\u001B[49m\u001B[43m \u001B[49m\u001B[43mbatch_size\u001B[49m\u001B[38;5;241;43m=\u001B[39;49m\u001B[38;5;241;43m32\u001B[39;49m\u001B[43m,\u001B[49m\u001B[43m \u001B[49m\u001B[43mverbose\u001B[49m\u001B[38;5;241;43m=\u001B[39;49m\u001B[38;5;241;43m1\u001B[39;49m\u001B[43m)\u001B[49m\n",
      "File \u001B[0;32m/Users/david/opt/anaconda3/envs/robin/lib/python3.10/site-packages/keras/utils/traceback_utils.py:70\u001B[0m, in \u001B[0;36mfilter_traceback.<locals>.error_handler\u001B[0;34m(*args, **kwargs)\u001B[0m\n\u001B[1;32m     67\u001B[0m     filtered_tb \u001B[38;5;241m=\u001B[39m _process_traceback_frames(e\u001B[38;5;241m.\u001B[39m__traceback__)\n\u001B[1;32m     68\u001B[0m     \u001B[38;5;66;03m# To get the full stack trace, call:\u001B[39;00m\n\u001B[1;32m     69\u001B[0m     \u001B[38;5;66;03m# `tf.debugging.disable_traceback_filtering()`\u001B[39;00m\n\u001B[0;32m---> 70\u001B[0m     \u001B[38;5;28;01mraise\u001B[39;00m e\u001B[38;5;241m.\u001B[39mwith_traceback(filtered_tb) \u001B[38;5;28;01mfrom\u001B[39;00m \u001B[38;5;28mNone\u001B[39m\n\u001B[1;32m     71\u001B[0m \u001B[38;5;28;01mfinally\u001B[39;00m:\n\u001B[1;32m     72\u001B[0m     \u001B[38;5;28;01mdel\u001B[39;00m filtered_tb\n",
      "File \u001B[0;32m/var/folders/kv/yp3fzzxx7sd7xvmm1xvmcctm0000gp/T/__autograph_generated_fileih6ncx_8.py:15\u001B[0m, in \u001B[0;36mouter_factory.<locals>.inner_factory.<locals>.tf__train_function\u001B[0;34m(iterator)\u001B[0m\n\u001B[1;32m     13\u001B[0m \u001B[38;5;28;01mtry\u001B[39;00m:\n\u001B[1;32m     14\u001B[0m     do_return \u001B[38;5;241m=\u001B[39m \u001B[38;5;28;01mTrue\u001B[39;00m\n\u001B[0;32m---> 15\u001B[0m     retval_ \u001B[38;5;241m=\u001B[39m ag__\u001B[38;5;241m.\u001B[39mconverted_call(ag__\u001B[38;5;241m.\u001B[39mld(step_function), (ag__\u001B[38;5;241m.\u001B[39mld(\u001B[38;5;28mself\u001B[39m), ag__\u001B[38;5;241m.\u001B[39mld(iterator)), \u001B[38;5;28;01mNone\u001B[39;00m, fscope)\n\u001B[1;32m     16\u001B[0m \u001B[38;5;28;01mexcept\u001B[39;00m:\n\u001B[1;32m     17\u001B[0m     do_return \u001B[38;5;241m=\u001B[39m \u001B[38;5;28;01mFalse\u001B[39;00m\n",
      "\u001B[0;31mValueError\u001B[0m: in user code:\n\n    File \"/Users/david/opt/anaconda3/envs/robin/lib/python3.10/site-packages/keras/engine/training.py\", line 1160, in train_function  *\n        return step_function(self, iterator)\n    File \"/Users/david/opt/anaconda3/envs/robin/lib/python3.10/site-packages/keras/engine/training.py\", line 1146, in step_function  **\n        outputs = model.distribute_strategy.run(run_step, args=(data,))\n    File \"/Users/david/opt/anaconda3/envs/robin/lib/python3.10/site-packages/keras/engine/training.py\", line 1135, in run_step  **\n        outputs = model.train_step(data)\n    File \"/Users/david/opt/anaconda3/envs/robin/lib/python3.10/site-packages/keras/engine/training.py\", line 994, in train_step\n        loss = self.compute_loss(x, y, y_pred, sample_weight)\n    File \"/Users/david/opt/anaconda3/envs/robin/lib/python3.10/site-packages/keras/engine/training.py\", line 1052, in compute_loss\n        return self.compiled_loss(\n    File \"/Users/david/opt/anaconda3/envs/robin/lib/python3.10/site-packages/keras/engine/compile_utils.py\", line 316, in __call__\n        total_total_loss_mean_value = tf.add_n(total_loss_mean_values)\n\n    ValueError: Shapes must be equal rank, but are 0 and 2\n    \tFrom merging shape 0 with other shapes. for '{{node AddN}} = AddN[N=2, T=DT_FLOAT](mean_squared_error/weighted_loss/value, model_2/sampling_layer/Reshape)' with input shapes: [], [1,1].\n"
     ]
    }
   ],
   "source": [
    "history = model.fit(input_vectors, input_vectors, epochs=10, batch_size=32, verbose=1)"
   ],
   "metadata": {
    "collapsed": false,
    "ExecuteTime": {
     "end_time": "2023-05-12T08:57:02.731372Z",
     "start_time": "2023-05-12T08:57:01.501770Z"
    }
   }
  },
  {
   "cell_type": "markdown",
   "source": [
    "## Plot history"
   ],
   "metadata": {
    "collapsed": false
   }
  },
  {
   "cell_type": "code",
   "execution_count": 17,
   "outputs": [
    {
     "data": {
      "text/plain": "<Figure size 640x480 with 1 Axes>",
      "image/png": "[encoded data removed]"
     },
     "metadata": {},
     "output_type": "display_data"
    },
    {
     "data": {
      "text/plain": "<Figure size 640x480 with 1 Axes>",
      "image/png": "[encoded data removed]"
     },
     "metadata": {},
     "output_type": "display_data"
    }
   ],
   "source": [
    "# Plot history loss and mse\n",
    "\n",
    "import matplotlib.pyplot as plt\n",
    "\n",
    "plt.plot(history.history['loss'], label='train')\n",
    "plt.show()\n",
    "plt.plot(history.history['mean_squared_error'], label='mse')\n",
    "plt.show()"
   ],
   "metadata": {
    "collapsed": false,
    "ExecuteTime": {
     "end_time": "2023-05-11T17:22:27.053099Z",
     "start_time": "2023-05-11T17:22:26.776485Z"
    }
   }
  },
  {
   "cell_type": "markdown",
   "source": [
    "## Make predictions"
   ],
   "metadata": {
    "collapsed": false
   }
  },
  {
   "cell_type": "code",
   "execution_count": 18,
   "outputs": [],
   "source": [
    "def find_closest_embeddings(embedding, embedding_dict):\n",
    "    return sorted(embedding_dict.keys(), key=lambda word: spatial.distance.euclidean(embedding_dict[word], embedding))[0]"
   ],
   "metadata": {
    "collapsed": false,
    "ExecuteTime": {
     "end_time": "2023-05-11T17:22:47.009461Z",
     "start_time": "2023-05-11T17:22:47.001962Z"
    }
   }
  },
  {
   "cell_type": "code",
   "execution_count": 35,
   "outputs": [
    {
     "name": "stdout",
     "output_type": "stream",
     "text": [
      "Input - Random passenger data: \n",
      "origin                     zaragoza\n",
      "destination                  girona\n",
      "user_pattern                tourist\n",
      "arrival_date    2030-07-19 09:41:00\n",
      "Name: 9867, dtype: object\n",
      "1/1 [==============================] - 0s 17ms/step\n",
      "Output - Passenger reconstruction: \n",
      "['zaragoza', 'girona', 'tourist']\n",
      "2025\n"
     ]
    }
   ],
   "source": [
    "random_index = np.random.randint(0, len(input_vectors))\n",
    "random_vector = input_vectors[random_index]\n",
    "\n",
    "print(\"Input - Random passenger data: \")\n",
    "print(df.iloc[random_index])\n",
    "\n",
    "prediction = model.predict(np.array([random_vector]))[0]\n",
    "\n",
    "print(\"Output - Passenger reconstruction: \")\n",
    "decoded_prediction = [find_closest_embeddings(word_vector, embedding_dict) for word_vector in prediction[:3]]\n",
    "print(decoded_prediction)\n",
    "predicted_year = scaler.inverse_transform(np.array([prediction[-1][:1]]))\n",
    "print(int(predicted_year[0][0]))\n",
    "\n"
   ],
   "metadata": {
    "collapsed": false,
    "ExecuteTime": {
     "end_time": "2023-05-11T17:26:17.043927Z",
     "start_time": "2023-05-11T17:26:16.994806Z"
    }
   }
  },
  {
   "cell_type": "code",
   "execution_count": 15,
   "outputs": [],
   "source": [],
   "metadata": {
    "collapsed": false,
    "ExecuteTime": {
     "end_time": "2023-05-11T15:05:20.945013Z",
     "start_time": "2023-05-11T15:05:20.942951Z"
    }
   }
  }
 ],
 "metadata": {
  "kernelspec": {
   "display_name": "Python 3",
   "language": "python",
   "name": "python3"
  },
  "language_info": {
   "codemirror_mode": {
    "name": "ipython",
    "version": 3
   },
   "file_extension": ".py",
   "mimetype": "text/x-python",
   "name": "python",
   "nbconvert_exporter": "python",
   "pygments_lexer": "ipython3",
   "version": "3.8.6"
  }
 },
 "nbformat": 4,
 "nbformat_minor": 0
}
