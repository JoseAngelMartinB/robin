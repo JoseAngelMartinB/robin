{
 "cells": [
  {
   "cell_type": "markdown",
   "metadata": {},
   "source": [
    "# Robin Labs Module"
   ]
  },
  {
   "cell_type": "code",
   "execution_count": 1,
   "metadata": {
    "ExecuteTime": {
     "end_time": "2023-10-09T15:46:39.456552Z",
     "start_time": "2023-10-09T15:46:39.437089Z"
    }
   },
   "outputs": [],
   "source": [
    "# Configure auto-reload\n",
    "\n",
    "%load_ext autoreload\n",
    "%autoreload 2"
   ]
  },
  {
   "cell_type": "code",
   "execution_count": 2,
   "metadata": {
    "ExecuteTime": {
     "end_time": "2023-10-09T15:46:43.003147Z",
     "start_time": "2023-10-09T15:46:40.205633Z"
    }
   },
   "outputs": [],
   "source": [
    "# Import libraries and set up environment\n",
    "\n",
    "import ipywidgets as widgets\n",
    "import os\n",
    "import yaml\n",
    "\n",
    "from robin.labs.entities import RobinLab\n",
    "\n",
    "from IPython.display import display\n",
    "from ipywidgets import interact\n",
    "from pathlib import Path\n",
    "\n",
    "path_config_supply = Path('../configs/ewgt23/supply_data.yml')\n",
    "path_config_demand = Path('../configs/ewgt23/demand_data.yml')\n",
    "path_config_labs = Path('../src/robin/labs/config.yml')\n",
    "tmp_path = Path('../data/labs/tmp')"
   ]
  },
  {
   "cell_type": "code",
   "execution_count": 3,
   "metadata": {
    "ExecuteTime": {
     "end_time": "2023-10-09T15:46:43.861841Z",
     "start_time": "2023-10-09T15:46:43.737921Z"
    },
    "collapsed": false
   },
   "outputs": [
    {
     "data": {
      "text/plain": [
       "{'demand': {'passengers': None},\n",
       " 'seed': 10,\n",
       " 'supply': {'capacities': None,\n",
       "  'prices': {'start': 1, 'step': 0.5, 'stop': 500}}}"
      ]
     },
     "execution_count": 3,
     "metadata": {},
     "output_type": "execute_result"
    }
   ],
   "source": [
    "# Open Robin labs default config\n",
    "with open(path_config_labs, 'r') as f:\n",
    "    config = yaml.load(f, Loader=yaml.SafeLoader)\n",
    "    \n",
    "config"
   ]
  },
  {
   "cell_type": "code",
   "execution_count": 4,
   "metadata": {},
   "outputs": [
    {
     "name": "stdout",
     "output_type": "stream",
     "text": [
      "Supply options:  ['Capacities', 'Prices']\n",
      "Demand options:  ['Passengers']\n"
     ]
    }
   ],
   "source": [
    "# Get options from YML config files\n",
    "\n",
    "supply_options = []\n",
    "for supply_key, supp_val in config['supply'].items():\n",
    "    supply_options.append(f'{supply_key.capitalize()}')\n",
    "        \n",
    "demand_options = []\n",
    "for demand_key, dem_val in config['demand'].items():\n",
    "    demand_options.append(f'{demand_key.capitalize()}')\n",
    "\n",
    "print(\"Supply options: \", supply_options)\n",
    "print(\"Demand options: \", demand_options)"
   ]
  },
  {
   "cell_type": "code",
   "execution_count": 5,
   "metadata": {},
   "outputs": [
    {
     "data": {
      "application/vnd.jupyter.widget-view+json": {
       "model_id": "8c37e80938dd47e5be28da9a02f231e7",
       "version_major": 2,
       "version_minor": 0
      },
      "text/plain": [
       "Dropdown(description='Experiment: ', options=('Supply', 'Demand'), value='Supply')"
      ]
     },
     "metadata": {},
     "output_type": "display_data"
    }
   ],
   "source": [
    "# Widget to select if we want to perform a supply or demand experiment\n",
    "\n",
    "widget_opt = widgets.Dropdown(\n",
    "    options=['Supply', 'Demand'],\n",
    "    description='Experiment: '\n",
    ")\n",
    "\n",
    "# Mostrar el widget\n",
    "display(widget_opt)"
   ]
  },
  {
   "cell_type": "code",
   "execution_count": 6,
   "metadata": {},
   "outputs": [
    {
     "data": {
      "application/vnd.jupyter.widget-view+json": {
       "model_id": "9e360ca369b7419daf4d277cbad44962",
       "version_major": 2,
       "version_minor": 0
      },
      "text/plain": [
       "interactive(children=(Dropdown(description='Supply options:', options=('Capacities', 'Prices'), value='Capacit…"
      ]
     },
     "metadata": {},
     "output_type": "display_data"
    }
   ],
   "source": [
    "# Set the experiment type and ask for the experiment name\n",
    "\n",
    "step_widget = widgets.FloatText(value=0.5, description='Step: ', step=0.5)\n",
    "\n",
    "# Asumiendo que widget_opt y supply_options ya están definidos\n",
    "if widget_opt.value.lower() == 'supply':\n",
    "    # Selecciona qué opción de oferta queremos usar\n",
    "    widget_supply = widgets.Dropdown(\n",
    "        options=supply_options,\n",
    "        description='Supply options:'\n",
    "    )\n",
    "    \n",
    "    # Inicializa los widgets de Prices y Capacities con el valor inicial de step\n",
    "    widget_prices = widgets.IntRangeSlider(\n",
    "        value=[1, 10],\n",
    "        min=1,\n",
    "        max=500,\n",
    "        step=1,\n",
    "        description='Prices:',\n",
    "        disabled=False,\n",
    "        continuous_update=False,\n",
    "        orientation='horizontal',\n",
    "        readout=True,\n",
    "        readout_format='d',\n",
    "    )\n",
    "    \n",
    "    widget_capacities = widgets.IntRangeSlider(\n",
    "        value=[1, 3],\n",
    "        min=1,\n",
    "        max=10,\n",
    "        step=1,\n",
    "        description='Capacities:',\n",
    "        disabled=False,\n",
    "        continuous_update=False,\n",
    "        orientation='horizontal',\n",
    "        readout=True,\n",
    "        readout_format='d',\n",
    "    )\n",
    "    \n",
    "    # Define una función para actualizar el step en los otros widgets cuando cambie step_widget\n",
    "    def update_step(*args):\n",
    "        widget_prices.step = step_widget.value\n",
    "        widget_capacities.step = step_widget.value\n",
    "    \n",
    "    # Agrega un observador a step_widget para llamar a update_step cuando cambie su valor\n",
    "    step_widget.observe(update_step, 'value')\n",
    "    \n",
    "    # Define una función para mostrar los widgets apropiados según la opción seleccionada en widget_supply\n",
    "    def on_supply_change(change):\n",
    "        if change == 'Prices':\n",
    "            display(step_widget)\n",
    "            display(widget_prices)\n",
    "        elif change == 'Capacities':\n",
    "            display(step_widget)\n",
    "            display(widget_capacities)\n",
    "    \n",
    "    # Usa interact para llamar a on_supply_change cuando cambie widget_supply\n",
    "    interact(on_supply_change, change=widget_supply)\n",
    "\n",
    "else:\n",
    "    # Select which of the demand options we want to use\n",
    "    widget_demand = widgets.Dropdown(\n",
    "        options=demand_options,\n",
    "        value='demand - 1',\n",
    "        description='Demand:'\n",
    "    )\n",
    "    display(widget_demand)\n",
    "\n",
    "    # Ask for new config param"
   ]
  },
  {
   "cell_type": "code",
   "execution_count": 7,
   "metadata": {},
   "outputs": [
    {
     "name": "stdout",
     "output_type": "stream",
     "text": [
      "Modified config:  {'demand': {'passengers': None}, 'seed': 10, 'supply': {'capacities': None, 'prices': {'start': 1, 'stop': 500, 'step': 25.0}}}\n",
      "Do you want to save the config?\n"
     ]
    },
    {
     "data": {
      "application/vnd.jupyter.widget-view+json": {
       "model_id": "95095ccab6a646d4aab365117523390b",
       "version_major": 2,
       "version_minor": 0
      },
      "text/plain": [
       "Button(description='Update Config', style=ButtonStyle())"
      ]
     },
     "metadata": {},
     "output_type": "display_data"
    },
    {
     "name": "stdout",
     "output_type": "stream",
     "text": [
      "Config updated!\n"
     ]
    }
   ],
   "source": [
    "# Update the config file with the new experiment\n",
    "\n",
    "if widget_opt.value.lower() == 'supply':\n",
    "    if widget_supply.value.lower() == 'prices':\n",
    "        config['supply']['prices'] = {'start': widget_prices.value[0], 'stop': widget_prices.value[1], 'step': step_widget.value}\n",
    "    elif widget_supply.value.lower() == 'capacities':\n",
    "        pass\n",
    "else:\n",
    "    pass \n",
    "\n",
    "print(\"Modified config: \", config)\n",
    "print(\"Do you want to save the config?\")\n",
    "\n",
    "update_button = widgets.Button(description=\"Update Config\")\n",
    "display(update_button) \n",
    "\n",
    "def update_config(change):\n",
    "    with open(path_config_labs, 'w') as f:\n",
    "        yaml.dump(config, f)\n",
    "    print(\"Config updated!\")\n",
    "\n",
    "update_button.on_click(update_config)"
   ]
  },
  {
   "cell_type": "markdown",
   "metadata": {},
   "source": [
    "## New Robin Lab Experiment"
   ]
  },
  {
   "cell_type": "code",
   "execution_count": 8,
   "metadata": {
    "ExecuteTime": {
     "end_time": "2023-10-09T15:46:48.888476Z",
     "start_time": "2023-10-09T15:46:48.763969Z"
    }
   },
   "outputs": [],
   "source": [
    "robin_lab = RobinLab(path_config_supply=path_config_supply,\n",
    "                     path_config_demand=path_config_demand,\n",
    "                     tmp_path=tmp_path)"
   ]
  },
  {
   "cell_type": "code",
   "execution_count": 9,
   "metadata": {
    "ExecuteTime": {
     "end_time": "2023-10-09T15:46:52.241547Z",
     "start_time": "2023-10-09T15:46:50.213873Z"
    }
   },
   "outputs": [
    {
     "name": "stderr",
     "output_type": "stream",
     "text": [
      "  0% (1 of 20) |#                        | Elapsed Time: 0:00:00 ETA:  --:--:--\n",
      "  5% (2 of 20) |##                       | Elapsed Time: 0:00:00 ETA:   0:00:03\n",
      " 10% (3 of 20) |###                      | Elapsed Time: 0:00:00 ETA:   0:00:03\n",
      " 15% (4 of 20) |#####                    | Elapsed Time: 0:00:00 ETA:   0:00:02\n",
      " 21% (5 of 20) |######                   | Elapsed Time: 0:00:00 ETA:   0:00:02\n",
      " 26% (6 of 20) |#######                  | Elapsed Time: 0:00:00 ETA:   0:00:02\n",
      " 31% (7 of 20) |########                 | Elapsed Time: 0:00:01 ETA:   0:00:02\n",
      " 36% (8 of 20) |##########               | Elapsed Time: 0:00:01 ETA:   0:00:02\n",
      " 42% (9 of 20) |###########              | Elapsed Time: 0:00:01 ETA:   0:00:01\n",
      " 47% (10 of 20) |############            | Elapsed Time: 0:00:01 ETA:   0:00:01\n",
      " 52% (11 of 20) |#############           | Elapsed Time: 0:00:01 ETA:   0:00:01\n",
      " 57% (12 of 20) |##############          | Elapsed Time: 0:00:01 ETA:   0:00:01\n",
      " 63% (13 of 20) |###############         | Elapsed Time: 0:00:02 ETA:   0:00:01\n",
      " 68% (14 of 20) |################        | Elapsed Time: 0:00:02 ETA:   0:00:01\n",
      " 73% (15 of 20) |##################      | Elapsed Time: 0:00:02 ETA:   0:00:00\n",
      " 78% (16 of 20) |###################     | Elapsed Time: 0:00:02 ETA:   0:00:00\n",
      " 84% (17 of 20) |####################    | Elapsed Time: 0:00:02 ETA:   0:00:00\n",
      " 89% (18 of 20) |#####################   | Elapsed Time: 0:00:02 ETA:   0:00:00\n",
      " 94% (19 of 20) |######################  | Elapsed Time: 0:00:03 ETA:   0:00:00\n",
      "100% (20 of 20) |########################| Elapsed Time: 0:00:03 ETA:  00:00:00\n",
      "100% (20 of 20) |########################| Elapsed Time: 0:00:03 Time:  0:00:03\n"
     ]
    }
   ],
   "source": [
    "# Set the configuration for the experiment\n",
    "\n",
    "robin_lab.set_lab_config(config=config)"
   ]
  },
  {
   "cell_type": "code",
   "execution_count": 10,
   "metadata": {
    "ExecuteTime": {
     "end_time": "2023-10-09T15:50:27.598045Z",
     "start_time": "2023-10-09T15:49:54.247078Z"
    }
   },
   "outputs": [
    {
     "name": "stderr",
     "output_type": "stream",
     "text": [
      "  0% (1 of 20) |#                        | Elapsed Time: 0:00:00 ETA:  --:--:--\n",
      "  5% (2 of 20) |##                       | Elapsed Time: 0:00:02 ETA:   0:00:42\n",
      " 10% (3 of 20) |###                      | Elapsed Time: 0:00:06 ETA:   0:01:16\n",
      " 15% (4 of 20) |#####                    | Elapsed Time: 0:00:10 ETA:   0:00:51\n",
      " 21% (5 of 20) |######                   | Elapsed Time: 0:00:12 ETA:   0:00:40\n",
      " 26% (6 of 20) |#######                  | Elapsed Time: 0:00:15 ETA:   0:00:37\n",
      " 31% (7 of 20) |########                 | Elapsed Time: 0:00:18 ETA:   0:00:36\n",
      " 36% (8 of 20) |##########               | Elapsed Time: 0:00:21 ETA:   0:00:39\n",
      " 42% (9 of 20) |###########              | Elapsed Time: 0:00:24 ETA:   0:00:31\n",
      " 47% (10 of 20) |############            | Elapsed Time: 0:00:27 ETA:   0:00:24\n",
      " 52% (11 of 20) |#############           | Elapsed Time: 0:00:29 ETA:   0:00:24\n",
      " 57% (12 of 20) |##############          | Elapsed Time: 0:00:32 ETA:   0:00:21\n",
      " 63% (13 of 20) |###############         | Elapsed Time: 0:00:34 ETA:   0:00:17\n",
      " 68% (14 of 20) |################        | Elapsed Time: 0:00:37 ETA:   0:00:15\n",
      " 73% (15 of 20) |##################      | Elapsed Time: 0:00:39 ETA:   0:00:12\n",
      " 78% (16 of 20) |###################     | Elapsed Time: 0:00:42 ETA:   0:00:10\n",
      " 84% (17 of 20) |####################    | Elapsed Time: 0:00:45 ETA:   0:00:07\n",
      " 89% (18 of 20) |#####################   | Elapsed Time: 0:00:47 ETA:   0:00:05\n",
      " 94% (19 of 20) |######################  | Elapsed Time: 0:00:50 ETA:   0:00:02\n",
      "100% (20 of 20) |########################| Elapsed Time: 0:00:52 ETA:  00:00:00\n",
      "100% (20 of 20) |########################| Elapsed Time: 0:00:52 Time:  0:00:52\n"
     ]
    }
   ],
   "source": [
    "# Move seed to simulate method\n",
    "robin_lab.simulate() # Run simulation"
   ]
  },
  {
   "cell_type": "code",
   "execution_count": 12,
   "metadata": {
    "ExecuteTime": {
     "end_time": "2023-08-25T12:28:54.565219Z",
     "start_time": "2023-08-25T12:28:54.031124Z"
    }
   },
   "outputs": [
    {
     "data": {
      "image/png": "[encoded data removed]",
      "text/plain": [
       "<Figure size 1000x600 with 1 Axes>"
      ]
     },
     "metadata": {},
     "output_type": "display_data"
    }
   ],
   "source": [
    "save_path = Path(\"../reports/figures/labs\")\n",
    "\n",
    "if not save_path.exists():\n",
    "    os.mkdir(save_path)\n",
    "    \n",
    "robin_lab.plot_elasticity_curve(save_path=Path(save_path / \"elasticity_curve_ewgt23.svg\"))"
   ]
  },
  {
   "cell_type": "code",
   "execution_count": 19,
   "metadata": {
    "ExecuteTime": {
     "end_time": "2023-10-09T16:07:46.939676Z",
     "start_time": "2023-10-09T16:06:57.295883Z"
    }
   },
   "outputs": [
    {
     "name": "stderr",
     "output_type": "stream",
     "text": [
      "  0% (1 of 20) |#                        | Elapsed Time: 0:00:00 ETA:  --:--:--\n",
      "  5% (2 of 20) |##                       | Elapsed Time: 0:00:03 ETA:   0:01:09\n",
      " 10% (3 of 20) |###                      | Elapsed Time: 0:00:07 ETA:   0:00:55\n",
      " 15% (4 of 20) |#####                    | Elapsed Time: 0:00:10 ETA:   0:00:52\n",
      " 21% (5 of 20) |######                   | Elapsed Time: 0:00:13 ETA:   0:00:52\n",
      " 26% (6 of 20) |#######                  | Elapsed Time: 0:00:17 ETA:   0:00:47\n",
      " 31% (7 of 20) |########                 | Elapsed Time: 0:00:20 ETA:   0:00:42\n",
      " 36% (8 of 20) |##########               | Elapsed Time: 0:00:23 ETA:   0:00:40\n",
      " 42% (9 of 20) |###########              | Elapsed Time: 0:00:26 ETA:   0:00:32\n",
      " 47% (10 of 20) |############            | Elapsed Time: 0:00:30 ETA:   0:00:32\n",
      " 52% (11 of 20) |#############           | Elapsed Time: 0:00:33 ETA:   0:00:26\n",
      " 57% (12 of 20) |##############          | Elapsed Time: 0:00:36 ETA:   0:00:24\n",
      " 63% (13 of 20) |###############         | Elapsed Time: 0:00:39 ETA:   0:00:21\n",
      " 68% (14 of 20) |################        | Elapsed Time: 0:00:42 ETA:   0:00:18\n",
      " 73% (15 of 20) |##################      | Elapsed Time: 0:00:45 ETA:   0:00:15\n",
      " 78% (16 of 20) |###################     | Elapsed Time: 0:00:48 ETA:   0:00:11\n",
      " 84% (17 of 20) |####################    | Elapsed Time: 0:00:51 ETA:   0:00:08\n",
      " 89% (18 of 20) |#####################   | Elapsed Time: 0:00:54 ETA:   0:00:06\n",
      " 94% (19 of 20) |######################  | Elapsed Time: 0:00:57 ETA:   0:00:02\n",
      "100% (20 of 20) |########################| Elapsed Time: 0:01:00 ETA:  00:00:00\n",
      "100% (20 of 20) |########################| Elapsed Time: 0:01:00 Time:  0:01:00\n"
     ]
    }
   ],
   "source": [
    "demand_status, tickets_by_date, tickets_by_w_s = robin_lab.get_kpis()"
   ]
  },
  {
   "cell_type": "code",
   "execution_count": 21,
   "metadata": {
    "collapsed": false
   },
   "outputs": [
    {
     "name": "stdout",
     "output_type": "stream",
     "text": [
      "{1: ({0: 3730, 1: 1033, 2: 954, 3: 672}, [\"User found \\nany service that\\nmet his needs\\nbut couldn't purchase.\", 'User bought\\na service which\\nwas not the one\\nwith the best utility.', 'User bought\\nthe ticket with\\nbest utility.', \"User didn't find\\nany ticket\\nthat met his needs.\"]), 2: ({0: 3974, 2: 889, 3: 885, 1: 641}, [\"User found \\nany service that\\nmet his needs\\nbut couldn't purchase.\", 'User bought\\na service which\\nwas not the one\\nwith the best utility.', 'User bought\\nthe ticket with\\nbest utility.', \"User didn't find\\nany ticket\\nthat met his needs.\"]), 3: ({0: 3644, 3: 1734, 1: 527, 2: 484}, [\"User found \\nany service that\\nmet his needs\\nbut couldn't purchase.\", 'User bought\\na service which\\nwas not the one\\nwith the best utility.', 'User bought\\nthe ticket with\\nbest utility.', \"User didn't find\\nany ticket\\nthat met his needs.\"]), 4: ({0: 3762, 3: 1961, 1: 502, 2: 164}, [\"User found \\nany service that\\nmet his needs\\nbut couldn't purchase.\", 'User bought\\na service which\\nwas not the one\\nwith the best utility.', 'User bought\\nthe ticket with\\nbest utility.', \"User didn't find\\nany ticket\\nthat met his needs.\"]), 5: ({0: 3852, 3: 1967, 1: 444, 2: 126}, [\"User found \\nany service that\\nmet his needs\\nbut couldn't purchase.\", 'User bought\\na service which\\nwas not the one\\nwith the best utility.', 'User bought\\nthe ticket with\\nbest utility.', \"User didn't find\\nany ticket\\nthat met his needs.\"]), 6: ({0: 3820, 3: 2039, 1: 407, 2: 123}, [\"User found \\nany service that\\nmet his needs\\nbut couldn't purchase.\", 'User bought\\na service which\\nwas not the one\\nwith the best utility.', 'User bought\\nthe ticket with\\nbest utility.', \"User didn't find\\nany ticket\\nthat met his needs.\"]), 7: ({0: 3556, 3: 2303, 1: 373, 2: 157}, [\"User found \\nany service that\\nmet his needs\\nbut couldn't purchase.\", 'User bought\\na service which\\nwas not the one\\nwith the best utility.', 'User bought\\nthe ticket with\\nbest utility.', \"User didn't find\\nany ticket\\nthat met his needs.\"]), 8: ({0: 2964, 3: 2950, 2: 242, 1: 233}, [\"User found \\nany service that\\nmet his needs\\nbut couldn't purchase.\", 'User bought\\na service which\\nwas not the one\\nwith the best utility.', 'User bought\\nthe ticket with\\nbest utility.', \"User didn't find\\nany ticket\\nthat met his needs.\"]), 9: ({3: 3835, 0: 2154, 2: 308, 1: 92}, [\"User found \\nany service that\\nmet his needs\\nbut couldn't purchase.\", 'User bought\\na service which\\nwas not the one\\nwith the best utility.', 'User bought\\nthe ticket with\\nbest utility.', \"User didn't find\\nany ticket\\nthat met his needs.\"]), 10: ({3: 4557, 0: 1440, 2: 345, 1: 47}, [\"User found \\nany service that\\nmet his needs\\nbut couldn't purchase.\", 'User bought\\na service which\\nwas not the one\\nwith the best utility.', 'User bought\\nthe ticket with\\nbest utility.', \"User didn't find\\nany ticket\\nthat met his needs.\"]), 11: ({3: 5030, 0: 996, 2: 351, 1: 12}, [\"User found \\nany service that\\nmet his needs\\nbut couldn't purchase.\", 'User bought\\na service which\\nwas not the one\\nwith the best utility.', 'User bought\\nthe ticket with\\nbest utility.', \"User didn't find\\nany ticket\\nthat met his needs.\"]), 12: ({3: 5410, 0: 625, 2: 353, 1: 1}, [\"User found \\nany service that\\nmet his needs\\nbut couldn't purchase.\", 'User bought\\na service which\\nwas not the one\\nwith the best utility.', 'User bought\\nthe ticket with\\nbest utility.', \"User didn't find\\nany ticket\\nthat met his needs.\"]), 13: ({3: 5720, 2: 343, 0: 326, 1: 0}, [\"User found \\nany service that\\nmet his needs\\nbut couldn't purchase.\", 'User bought\\na service which\\nwas not the one\\nwith the best utility.', 'User bought\\nthe ticket with\\nbest utility.', \"User didn't find\\nany ticket\\nthat met his needs.\"]), 14: ({3: 5956, 2: 310, 0: 123, 1: 0}, [\"User found \\nany service that\\nmet his needs\\nbut couldn't purchase.\", 'User bought\\na service which\\nwas not the one\\nwith the best utility.', 'User bought\\nthe ticket with\\nbest utility.', \"User didn't find\\nany ticket\\nthat met his needs.\"]), 15: ({3: 6127, 2: 262, 0: 0, 1: 0}, [\"User found \\nany service that\\nmet his needs\\nbut couldn't purchase.\", 'User bought\\na service which\\nwas not the one\\nwith the best utility.', 'User bought\\nthe ticket with\\nbest utility.', \"User didn't find\\nany ticket\\nthat met his needs.\"]), 16: ({3: 6224, 2: 165, 0: 0, 1: 0}, [\"User found \\nany service that\\nmet his needs\\nbut couldn't purchase.\", 'User bought\\na service which\\nwas not the one\\nwith the best utility.', 'User bought\\nthe ticket with\\nbest utility.', \"User didn't find\\nany ticket\\nthat met his needs.\"]), 17: ({3: 6284, 2: 105, 0: 0, 1: 0}, [\"User found \\nany service that\\nmet his needs\\nbut couldn't purchase.\", 'User bought\\na service which\\nwas not the one\\nwith the best utility.', 'User bought\\nthe ticket with\\nbest utility.', \"User didn't find\\nany ticket\\nthat met his needs.\"]), 18: ({3: 6315, 2: 74, 0: 0, 1: 0}, [\"User found \\nany service that\\nmet his needs\\nbut couldn't purchase.\", 'User bought\\na service which\\nwas not the one\\nwith the best utility.', 'User bought\\nthe ticket with\\nbest utility.', \"User didn't find\\nany ticket\\nthat met his needs.\"]), 19: ({3: 6336, 2: 53, 0: 0, 1: 0}, [\"User found \\nany service that\\nmet his needs\\nbut couldn't purchase.\", 'User bought\\na service which\\nwas not the one\\nwith the best utility.', 'User bought\\nthe ticket with\\nbest utility.', \"User didn't find\\nany ticket\\nthat met his needs.\"]), 20: ({3: 6360, 2: 29, 0: 0, 1: 0}, [\"User found \\nany service that\\nmet his needs\\nbut couldn't purchase.\", 'User bought\\na service which\\nwas not the one\\nwith the best utility.', 'User bought\\nthe ticket with\\nbest utility.', \"User didn't find\\nany ticket\\nthat met his needs.\"])}\n"
     ]
    }
   ],
   "source": [
    "# Different situations the passengers have encountered during the simulation\n",
    "\n",
    "print(demand_status)"
   ]
  },
  {
   "cell_type": "code",
   "execution_count": 22,
   "metadata": {},
   "outputs": [
    {
     "name": "stdout",
     "output_type": "stream",
     "text": [
      "{1: {datetime.date(2023, 8, 30): {'Business': {'Premium': 2}}, datetime.date(2023, 8, 31): {'Business': {'Premium': 7}, 'Student': {'Básico': 1}}, datetime.date(2023, 9, 1): {'Business': {'Premium': 37}, 'Student': {'Básico': 2}}, datetime.date(2023, 9, 2): {'Student': {'Básico': 19}, 'Business': {'Premium': 131}}, datetime.date(2023, 9, 3): {'Business': {'Premium': 126, 'Elige': 5, 'Básico': 250}, 'Student': {'Básico': 64, 'Elige': 6}}, datetime.date(2023, 9, 4): {'Business': {'Básico': 301, 'Premium': 7}, 'Student': {'Básico': 251, 'Elige': 5}}, datetime.date(2023, 9, 5): {'Student': {'Básico': 204, 'Elige': 89}, 'Business': {'Básico': 197}}, datetime.date(2023, 9, 6): {'Business': {'Básico': 131}, 'Student': {'Básico': 152}}}, 2: {datetime.date(2023, 8, 30): {'Business': {'Premium': 2}}, datetime.date(2023, 8, 31): {'Business': {'Premium': 7}, 'Student': {'Básico': 1}}, datetime.date(2023, 9, 1): {'Business': {'Premium': 37}, 'Student': {'Básico': 2}}, datetime.date(2023, 9, 2): {'Student': {'Básico': 16}, 'Business': {'Premium': 129, 'Elige': 2}}, datetime.date(2023, 9, 3): {'Business': {'Premium': 124, 'Elige': 7, 'Básico': 234}, 'Student': {'Básico': 59, 'Elige': 1}}, datetime.date(2023, 9, 4): {'Business': {'Básico': 159, 'Premium': 9}, 'Student': {'Básico': 213}}, datetime.date(2023, 9, 5): {'Student': {'Básico': 209, 'Elige': 32}, 'Business': {'Básico': 215}}, datetime.date(2023, 9, 6): {'Business': {'Básico': 55}, 'Student': {'Elige': 17}}}, 3: {datetime.date(2023, 8, 30): {'Business': {'Premium': 2}}, datetime.date(2023, 8, 31): {'Business': {'Premium': 7}, 'Student': {}}, datetime.date(2023, 9, 1): {'Business': {'Premium': 37}, 'Student': {'Básico': 1}}, datetime.date(2023, 9, 2): {'Student': {'Básico': 3}, 'Business': {'Premium': 126, 'Elige': 4, 'Básico': 1}}, datetime.date(2023, 9, 3): {'Business': {'Premium': 124, 'Elige': 8, 'Básico': 213}, 'Student': {'Básico': 16}}, datetime.date(2023, 9, 4): {'Business': {'Básico': 96, 'Premium': 10}, 'Student': {'Básico': 49}}, datetime.date(2023, 9, 5): {'Student': {'Básico': 65}, 'Business': {'Básico': 90}}, datetime.date(2023, 9, 6): {'Business': {'Básico': 68}, 'Student': {'Básico': 91}}}, 4: {datetime.date(2023, 8, 30): {'Business': {'Premium': 2}}, datetime.date(2023, 8, 31): {'Business': {'Premium': 7}, 'Student': {}}, datetime.date(2023, 9, 1): {'Business': {'Premium': 37}, 'Student': {}}, datetime.date(2023, 9, 2): {'Student': {}, 'Business': {'Premium': 118, 'Elige': 5, 'Básico': 7}}, datetime.date(2023, 9, 3): {'Business': {'Premium': 94, 'Elige': 12, 'Básico': 208}, 'Student': {}}, datetime.date(2023, 9, 4): {'Business': {'Básico': 63, 'Premium': 43}, 'Student': {}}, datetime.date(2023, 9, 5): {'Student': {}, 'Business': {'Básico': 44}}, datetime.date(2023, 9, 6): {'Business': {'Básico': 26}, 'Student': {}}}, 5: {datetime.date(2023, 8, 30): {'Business': {'Premium': 2}}, datetime.date(2023, 8, 31): {'Business': {'Premium': 7}, 'Student': {}}, datetime.date(2023, 9, 1): {'Business': {'Premium': 37}, 'Student': {}}, datetime.date(2023, 9, 2): {'Student': {}, 'Business': {'Premium': 102, 'Básico': 16, 'Elige': 6}}, datetime.date(2023, 9, 3): {'Business': {'Premium': 84, 'Elige': 18, 'Básico': 179}, 'Student': {}}, datetime.date(2023, 9, 4): {'Business': {'Básico': 70, 'Premium': 9}, 'Student': {}}, datetime.date(2023, 9, 5): {'Student': {}, 'Business': {'Básico': 19, 'Premium': 4}}, datetime.date(2023, 9, 6): {'Business': {'Básico': 11, 'Premium': 6}, 'Student': {}}}, 6: {datetime.date(2023, 8, 30): {'Business': {'Premium': 2}}, datetime.date(2023, 8, 31): {'Business': {'Premium': 7}, 'Student': {}}, datetime.date(2023, 9, 1): {'Business': {'Premium': 34}, 'Student': {}}, datetime.date(2023, 9, 2): {'Student': {}, 'Business': {'Premium': 70, 'Básico': 30, 'Elige': 5}}, datetime.date(2023, 9, 3): {'Business': {'Elige': 24, 'Premium': 75, 'Básico': 153}, 'Student': {}}, datetime.date(2023, 9, 4): {'Business': {'Premium': 36, 'Elige': 7, 'Básico': 73}, 'Student': {}}, datetime.date(2023, 9, 5): {'Student': {}, 'Business': {'Básico': 6, 'Premium': 2}}, datetime.date(2023, 9, 6): {'Business': {'Básico': 6}, 'Student': {}}}, 7: {datetime.date(2023, 8, 30): {'Business': {'Premium': 2}}, datetime.date(2023, 8, 31): {'Business': {'Premium': 7}, 'Student': {}}, datetime.date(2023, 9, 1): {'Business': {'Premium': 31}, 'Student': {}}, datetime.date(2023, 9, 2): {'Student': {}, 'Business': {'Premium': 49, 'Elige': 6, 'Básico': 33}}, datetime.date(2023, 9, 3): {'Business': {'Elige': 18, 'Premium': 51, 'Básico': 141}, 'Student': {}}, datetime.date(2023, 9, 4): {'Business': {'Premium': 40, 'Básico': 79, 'Elige': 24}, 'Student': {}}, datetime.date(2023, 9, 5): {'Student': {}, 'Business': {'Premium': 25, 'Elige': 17, 'Básico': 2}}, datetime.date(2023, 9, 6): {'Business': {'Básico': 5}, 'Student': {}}}, 8: {datetime.date(2023, 8, 30): {'Business': {}}, datetime.date(2023, 8, 31): {'Business': {'Premium': 4, 'Básico': 2}, 'Student': {}}, datetime.date(2023, 9, 1): {'Business': {'Premium': 25, 'Básico': 3}, 'Student': {}}, datetime.date(2023, 9, 2): {'Student': {}, 'Business': {'Premium': 39, 'Elige': 3, 'Básico': 30}}, datetime.date(2023, 9, 3): {'Business': {'Elige': 7, 'Premium': 42, 'Básico': 118}, 'Student': {}}, datetime.date(2023, 9, 4): {'Business': {'Premium': 22, 'Elige': 19, 'Básico': 98}, 'Student': {}}, datetime.date(2023, 9, 5): {'Student': {}, 'Business': {'Premium': 15, 'Elige': 24, 'Básico': 1}}, datetime.date(2023, 9, 6): {'Business': {'Premium': 8, 'Elige': 13, 'Básico': 2}, 'Student': {}}}, 9: {datetime.date(2023, 8, 30): {'Business': {}}, datetime.date(2023, 8, 31): {'Business': {'Premium': 3, 'Básico': 1}, 'Student': {}}, datetime.date(2023, 9, 1): {'Business': {'Premium': 14, 'Elige': 1, 'Básico': 5}, 'Student': {}}, datetime.date(2023, 9, 2): {'Student': {}, 'Business': {'Premium': 43, 'Elige': 6, 'Básico': 23}}, datetime.date(2023, 9, 3): {'Business': {'Elige': 2, 'Premium': 22, 'Básico': 97}, 'Student': {}}, datetime.date(2023, 9, 4): {'Business': {'Premium': 39, 'Elige': 4, 'Básico': 124}, 'Student': {}}, datetime.date(2023, 9, 5): {'Student': {}, 'Business': {'Elige': 6, 'Premium': 1}}, datetime.date(2023, 9, 6): {'Business': {'Elige': 9}, 'Student': {}}}, 10: {datetime.date(2023, 8, 30): {'Business': {}}, datetime.date(2023, 8, 31): {'Business': {'Premium': 3, 'Básico': 1}, 'Student': {}}, datetime.date(2023, 9, 1): {'Business': {'Premium': 9, 'Elige': 1, 'Básico': 5}, 'Student': {}}, datetime.date(2023, 9, 2): {'Student': {}, 'Business': {'Elige': 5, 'Premium': 32, 'Básico': 21}}, datetime.date(2023, 9, 3): {'Business': {'Premium': 41, 'Elige': 2, 'Básico': 78}, 'Student': {}}, datetime.date(2023, 9, 4): {'Business': {'Premium': 15, 'Básico': 145}, 'Student': {}}, datetime.date(2023, 9, 5): {'Student': {}, 'Business': {'Premium': 25, 'Elige': 2}}, datetime.date(2023, 9, 6): {'Business': {'Premium': 7}, 'Student': {}}}, 11: {datetime.date(2023, 8, 30): {'Business': {}}, datetime.date(2023, 8, 31): {'Business': {'Premium': 2, 'Elige': 1, 'Básico': 1}, 'Student': {}}, datetime.date(2023, 9, 1): {'Business': {'Premium': 6, 'Elige': 1, 'Básico': 3}, 'Student': {}}, datetime.date(2023, 9, 2): {'Student': {}, 'Business': {'Premium': 22, 'Elige': 3, 'Básico': 18}}, datetime.date(2023, 9, 3): {'Business': {'Premium': 42, 'Elige': 5, 'Básico': 59}, 'Student': {}}, datetime.date(2023, 9, 4): {'Business': {'Premium': 18, 'Elige': 1, 'Básico': 145}, 'Student': {}}, datetime.date(2023, 9, 5): {'Student': {}, 'Business': {'Premium': 8, 'Básico': 24}}, datetime.date(2023, 9, 6): {'Business': {'Premium': 4}, 'Student': {}}}, 12: {datetime.date(2023, 8, 30): {'Business': {}}, datetime.date(2023, 8, 31): {'Business': {'Premium': 2, 'Elige': 1, 'Básico': 1}, 'Student': {}}, datetime.date(2023, 9, 1): {'Business': {'Premium': 4, 'Elige': 1, 'Básico': 3}, 'Student': {}}, datetime.date(2023, 9, 2): {'Student': {}, 'Business': {'Premium': 14, 'Elige': 2, 'Básico': 17}}, datetime.date(2023, 9, 3): {'Business': {'Premium': 25, 'Elige': 4, 'Básico': 48}, 'Student': {}}, datetime.date(2023, 9, 4): {'Business': {'Premium': 31, 'Elige': 2, 'Básico': 121}, 'Student': {}}, datetime.date(2023, 9, 5): {'Student': {}, 'Business': {'Premium': 16, 'Elige': 1, 'Básico': 60}}, datetime.date(2023, 9, 6): {'Business': {'Premium': 1}, 'Student': {}}}, 13: {datetime.date(2023, 8, 30): {'Business': {}}, datetime.date(2023, 8, 31): {'Business': {'Premium': 1, 'Elige': 1}, 'Student': {}}, datetime.date(2023, 9, 1): {'Business': {'Premium': 4, 'Elige': 1, 'Básico': 2}, 'Student': {}}, datetime.date(2023, 9, 2): {'Student': {}, 'Business': {'Premium': 6, 'Elige': 1, 'Básico': 14}}, datetime.date(2023, 9, 3): {'Business': {'Premium': 11, 'Elige': 3, 'Básico': 32}, 'Student': {}}, datetime.date(2023, 9, 4): {'Business': {'Premium': 34, 'Elige': 2, 'Básico': 87}, 'Student': {}}, datetime.date(2023, 9, 5): {'Student': {}, 'Business': {'Premium': 16, 'Básico': 115}}, datetime.date(2023, 9, 6): {'Business': {'Premium': 12, 'Elige': 1}, 'Student': {}}}, 14: {datetime.date(2023, 8, 30): {'Business': {}}, datetime.date(2023, 8, 31): {'Business': {'Premium': 1}, 'Student': {}}, datetime.date(2023, 9, 1): {'Business': {'Premium': 2, 'Básico': 2}, 'Student': {}}, datetime.date(2023, 9, 2): {'Student': {}, 'Business': {'Premium': 3, 'Elige': 1, 'Básico': 10}}, datetime.date(2023, 9, 3): {'Business': {'Premium': 7, 'Elige': 2, 'Básico': 26}, 'Student': {}}, datetime.date(2023, 9, 4): {'Business': {'Premium': 22, 'Elige': 3, 'Básico': 63}, 'Student': {}}, datetime.date(2023, 9, 5): {'Student': {}, 'Business': {'Elige': 6, 'Premium': 10, 'Básico': 115}}, datetime.date(2023, 9, 6): {'Business': {'Premium': 3, 'Básico': 34}, 'Student': {}}}, 15: {datetime.date(2023, 8, 30): {'Business': {}}, datetime.date(2023, 8, 31): {'Business': {}, 'Student': {}}, datetime.date(2023, 9, 1): {'Business': {'Premium': 2, 'Básico': 1}, 'Student': {}}, datetime.date(2023, 9, 2): {'Student': {}, 'Business': {'Básico': 7}}, datetime.date(2023, 9, 3): {'Business': {'Elige': 1, 'Básico': 22}, 'Student': {}}, datetime.date(2023, 9, 4): {'Business': {'Premium': 3, 'Elige': 2, 'Básico': 43}, 'Student': {}}, datetime.date(2023, 9, 5): {'Student': {}, 'Business': {'Elige': 5, 'Premium': 4, 'Básico': 87}}, datetime.date(2023, 9, 6): {'Business': {'Premium': 12, 'Elige': 5, 'Básico': 68}, 'Student': {}}}, 16: {datetime.date(2023, 8, 30): {'Business': {}}, datetime.date(2023, 8, 31): {'Business': {}, 'Student': {}}, datetime.date(2023, 9, 1): {'Business': {'Básico': 1}, 'Student': {}}, datetime.date(2023, 9, 2): {'Student': {}, 'Business': {'Básico': 6}}, datetime.date(2023, 9, 3): {'Business': {'Elige': 1, 'Básico': 14}, 'Student': {}}, datetime.date(2023, 9, 4): {'Business': {'Elige': 1, 'Básico': 28}, 'Student': {}}, datetime.date(2023, 9, 5): {'Student': {}, 'Business': {'Elige': 2, 'Premium': 1, 'Básico': 60}}, datetime.date(2023, 9, 6): {'Business': {'Premium': 4, 'Elige': 1, 'Básico': 46}, 'Student': {}}}, 17: {datetime.date(2023, 8, 30): {'Business': {}}, datetime.date(2023, 8, 31): {'Business': {}, 'Student': {}}, datetime.date(2023, 9, 1): {'Business': {'Básico': 1}, 'Student': {}}, datetime.date(2023, 9, 2): {'Student': {}, 'Business': {'Básico': 6}}, datetime.date(2023, 9, 3): {'Business': {'Elige': 1, 'Básico': 10}, 'Student': {}}, datetime.date(2023, 9, 4): {'Business': {'Elige': 1, 'Básico': 21}, 'Student': {}}, datetime.date(2023, 9, 5): {'Student': {}, 'Business': {'Elige': 1, 'Básico': 35}}, datetime.date(2023, 9, 6): {'Business': {'Premium': 1, 'Básico': 28}, 'Student': {}}}, 18: {datetime.date(2023, 8, 30): {'Business': {}}, datetime.date(2023, 8, 31): {'Business': {}, 'Student': {}}, datetime.date(2023, 9, 1): {'Business': {'Básico': 1}, 'Student': {}}, datetime.date(2023, 9, 2): {'Student': {}, 'Business': {'Básico': 4}}, datetime.date(2023, 9, 3): {'Business': {'Básico': 9}, 'Student': {}}, datetime.date(2023, 9, 4): {'Business': {'Básico': 15}, 'Student': {}}, datetime.date(2023, 9, 5): {'Student': {}, 'Business': {'Básico': 26}}, datetime.date(2023, 9, 6): {'Business': {'Básico': 19}, 'Student': {}}}, 19: {datetime.date(2023, 8, 30): {'Business': {}}, datetime.date(2023, 8, 31): {'Business': {}, 'Student': {}}, datetime.date(2023, 9, 1): {'Business': {'Básico': 1}, 'Student': {}}, datetime.date(2023, 9, 2): {'Student': {}, 'Business': {'Básico': 4}}, datetime.date(2023, 9, 3): {'Business': {'Básico': 5}, 'Student': {}}, datetime.date(2023, 9, 4): {'Business': {'Básico': 8}, 'Student': {}}, datetime.date(2023, 9, 5): {'Student': {}, 'Business': {'Básico': 19}}, datetime.date(2023, 9, 6): {'Business': {'Básico': 16}, 'Student': {}}}, 20: {datetime.date(2023, 8, 30): {'Business': {}}, datetime.date(2023, 8, 31): {'Business': {}, 'Student': {}}, datetime.date(2023, 9, 1): {'Business': {}, 'Student': {}}, datetime.date(2023, 9, 2): {'Student': {}, 'Business': {'Básico': 3}}, datetime.date(2023, 9, 3): {'Business': {'Básico': 1}, 'Student': {}}, datetime.date(2023, 9, 4): {'Business': {'Básico': 6}, 'Student': {}}, datetime.date(2023, 9, 5): {'Student': {}, 'Business': {'Básico': 11}}, datetime.date(2023, 9, 6): {'Business': {'Básico': 8}, 'Student': {}}}}\n"
     ]
    }
   ],
   "source": [
    "# Number of tickets sold by day prior to the service date\n",
    "\n",
    "print(tickets_by_date)"
   ]
  },
  {
   "cell_type": "code",
   "execution_count": 17,
   "metadata": {},
   "outputs": [
    {
     "name": "stdout",
     "output_type": "stream",
     "text": [
      "{1: {'Madrid-Puerta de Atocha\\nBarcelona-Sants': {'Básico': 1001, 'Elige': 52, 'Premium': 183}, 'Zaragoza-Delicias\\nBarcelona-Sants': {'Básico': 468, 'Elige': 50, 'Premium': 65}, 'Madrid-Puerta de Atocha\\nZaragoza-Delicias': {'Básico': 103, 'Elige': 3, 'Premium': 62}}, 2: {'Madrid-Puerta de Atocha\\nBarcelona-Sants': {'Básico': 828, 'Elige': 4, 'Premium': 179}, 'Zaragoza-Delicias\\nBarcelona-Sants': {'Básico': 248, 'Elige': 52, 'Premium': 65}, 'Madrid-Puerta de Atocha\\nZaragoza-Delicias': {'Básico': 87, 'Elige': 3, 'Premium': 64}}, 3: {'Madrid-Puerta de Atocha\\nBarcelona-Sants': {'Básico': 361, 'Elige': 5, 'Premium': 177}, 'Zaragoza-Delicias\\nBarcelona-Sants': {'Básico': 255, 'Elige': 3, 'Premium': 65}, 'Madrid-Puerta de Atocha\\nZaragoza-Delicias': {'Básico': 77, 'Elige': 4, 'Premium': 64}}, 4: {'Madrid-Puerta de Atocha\\nBarcelona-Sants': {'Básico': 284, 'Elige': 5, 'Premium': 177}, 'Madrid-Puerta de Atocha\\nZaragoza-Delicias': {'Básico': 48, 'Elige': 6, 'Premium': 62}, 'Zaragoza-Delicias\\nBarcelona-Sants': {'Básico': 16, 'Elige': 6, 'Premium': 62}}, 5: {'Madrid-Puerta de Atocha\\nBarcelona-Sants': {'Básico': 262, 'Elige': 11, 'Premium': 144}, 'Madrid-Puerta de Atocha\\nZaragoza-Delicias': {'Básico': 31, 'Elige': 5, 'Premium': 55}, 'Zaragoza-Delicias\\nBarcelona-Sants': {'Básico': 2, 'Elige': 8, 'Premium': 52}}, 6: {'Madrid-Puerta de Atocha\\nBarcelona-Sants': {'Básico': 252, 'Elige': 18, 'Premium': 108}, 'Madrid-Puerta de Atocha\\nZaragoza-Delicias': {'Básico': 15, 'Elige': 9, 'Premium': 53}, 'Zaragoza-Delicias\\nBarcelona-Sants': {'Básico': 1, 'Elige': 9, 'Premium': 65}}, 7: {'Madrid-Puerta de Atocha\\nBarcelona-Sants': {'Básico': 250, 'Elige': 28, 'Premium': 71}, 'Zaragoza-Delicias\\nBarcelona-Sants': {'Elige': 18, 'Premium': 83}, 'Madrid-Puerta de Atocha\\nZaragoza-Delicias': {'Básico': 10, 'Elige': 19, 'Premium': 51}}, 8: {'Madrid-Puerta de Atocha\\nBarcelona-Sants': {'Básico': 250, 'Elige': 39, 'Premium': 52}, 'Zaragoza-Delicias\\nBarcelona-Sants': {'Elige': 11, 'Premium': 61}, 'Madrid-Puerta de Atocha\\nZaragoza-Delicias': {'Básico': 4, 'Elige': 16, 'Premium': 42}}, 9: {'Madrid-Puerta de Atocha\\nBarcelona-Sants': {'Básico': 250, 'Elige': 16, 'Premium': 36}, 'Zaragoza-Delicias\\nBarcelona-Sants': {'Elige': 5, 'Premium': 61}, 'Madrid-Puerta de Atocha\\nZaragoza-Delicias': {'Elige': 7, 'Premium': 25}}, 10: {'Madrid-Puerta de Atocha\\nBarcelona-Sants': {'Básico': 250, 'Elige': 1, 'Premium': 11}, 'Zaragoza-Delicias\\nBarcelona-Sants': {'Elige': 4, 'Premium': 85}, 'Madrid-Puerta de Atocha\\nZaragoza-Delicias': {'Elige': 5, 'Premium': 36}}, 11: {'Madrid-Puerta de Atocha\\nBarcelona-Sants': {'Básico': 250, 'Premium': 3}, 'Zaragoza-Delicias\\nBarcelona-Sants': {'Elige': 3, 'Premium': 60}, 'Madrid-Puerta de Atocha\\nZaragoza-Delicias': {'Elige': 8, 'Premium': 39}}, 12: {'Madrid-Puerta de Atocha\\nBarcelona-Sants': {'Básico': 250}, 'Zaragoza-Delicias\\nBarcelona-Sants': {'Elige': 3, 'Premium': 51}, 'Madrid-Puerta de Atocha\\nZaragoza-Delicias': {'Elige': 8, 'Premium': 42}}, 13: {'Madrid-Puerta de Atocha\\nBarcelona-Sants': {'Básico': 250}, 'Madrid-Puerta de Atocha\\nZaragoza-Delicias': {'Elige': 7, 'Premium': 43}, 'Zaragoza-Delicias\\nBarcelona-Sants': {'Elige': 2, 'Premium': 41}}, 14: {'Madrid-Puerta de Atocha\\nBarcelona-Sants': {'Básico': 250}, 'Madrid-Puerta de Atocha\\nZaragoza-Delicias': {'Elige': 12, 'Premium': 38}, 'Zaragoza-Delicias\\nBarcelona-Sants': {'Premium': 10}}, 15: {'Madrid-Puerta de Atocha\\nBarcelona-Sants': {'Básico': 228}, 'Madrid-Puerta de Atocha\\nZaragoza-Delicias': {'Elige': 13, 'Premium': 21}}, 16: {'Madrid-Puerta de Atocha\\nBarcelona-Sants': {'Básico': 155}, 'Madrid-Puerta de Atocha\\nZaragoza-Delicias': {'Elige': 5, 'Premium': 5}}, 17: {'Madrid-Puerta de Atocha\\nBarcelona-Sants': {'Básico': 101}, 'Madrid-Puerta de Atocha\\nZaragoza-Delicias': {'Elige': 3, 'Premium': 1}}, 18: {'Madrid-Puerta de Atocha\\nBarcelona-Sants': {'Básico': 74}}, 19: {'Madrid-Puerta de Atocha\\nBarcelona-Sants': {'Básico': 53}}, 20: {'Madrid-Puerta de Atocha\\nBarcelona-Sants': {'Básico': 29}}}\n"
     ]
    }
   ],
   "source": [
    "# Number of tickets sold for each origin-destination pair and seat type\n",
    "\n",
    "print(tickets_by_w_s)"
   ]
  },
  {
   "cell_type": "code",
   "execution_count": null,
   "metadata": {},
   "outputs": [],
   "source": []
  }
 ],
 "metadata": {
  "kernelspec": {
   "display_name": "Python 3 (ipykernel)",
   "language": "python",
   "name": "python3"
  },
  "language_info": {
   "codemirror_mode": {
    "name": "ipython",
    "version": 3
   },
   "file_extension": ".py",
   "mimetype": "text/x-python",
   "name": "python",
   "nbconvert_exporter": "python",
   "pygments_lexer": "ipython3",
   "version": "3.11.5"
  }
 },
 "nbformat": 4,
 "nbformat_minor": 1
}
