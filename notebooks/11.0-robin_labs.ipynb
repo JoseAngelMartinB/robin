{
 "cells": [
  {
   "cell_type": "markdown",
   "metadata": {},
   "source": [
    "# Robin Labs Module"
   ]
  },
  {
   "cell_type": "code",
   "execution_count": 1,
   "metadata": {
    "ExecuteTime": {
     "end_time": "2023-10-09T15:46:39.456552Z",
     "start_time": "2023-10-09T15:46:39.437089Z"
    }
   },
   "outputs": [],
   "source": [
    "# Configure auto-reload\n",
    "\n",
    "%load_ext autoreload\n",
    "%autoreload 2"
   ]
  },
  {
   "cell_type": "code",
   "execution_count": 31,
   "metadata": {
    "ExecuteTime": {
     "end_time": "2023-10-09T15:46:43.003147Z",
     "start_time": "2023-10-09T15:46:40.205633Z"
    }
   },
   "outputs": [],
   "source": [
    "# Import libraries and set up environment\n",
    "\n",
    "import ipywidgets as widgets\n",
    "import os\n",
    "import yaml\n",
    "\n",
    "from robin.labs.entities import RobinLab\n",
    "\n",
    "from IPython.display import display\n",
    "from ipywidgets import interact\n",
    "from pathlib import Path\n",
    "\n",
    "path_config_supply = Path('../configs/ewgt23/supply_data.yml')\n",
    "path_config_demand = Path('../configs/ewgt23/demand_data.yml')\n",
    "path_config_labs = Path('../src/robin/labs/config.yml')\n",
    "tmp_path = Path('../data/labs/tmp')"
   ]
  },
  {
   "cell_type": "code",
   "execution_count": 60,
   "metadata": {
    "ExecuteTime": {
     "end_time": "2023-10-09T15:46:43.861841Z",
     "start_time": "2023-10-09T15:46:43.737921Z"
    },
    "collapsed": false
   },
   "outputs": [
    {
     "data": {
      "text/plain": [
       "{'demand': {'passengers': None},\n",
       " 'seed': 0,\n",
       " 'supply': {'capacities': None, 'prices': [1, 10, 0.5]}}"
      ]
     },
     "execution_count": 60,
     "metadata": {},
     "output_type": "execute_result"
    }
   ],
   "source": [
    "# Open Robin labs default config\n",
    "with open(path_config_labs, 'r') as f:\n",
    "    config = yaml.load(f, Loader=yaml.SafeLoader)\n",
    "    \n",
    "config"
   ]
  },
  {
   "cell_type": "code",
   "execution_count": 35,
   "metadata": {},
   "outputs": [
    {
     "name": "stdout",
     "output_type": "stream",
     "text": [
      "Supply options:  ['Prices', 'Capacities']\n",
      "Demand options:  ['Passengers']\n"
     ]
    }
   ],
   "source": [
    "# Get options from YML config files\n",
    "\n",
    "supply_options = []\n",
    "for supply_key, supp_val in config['supply'].items():\n",
    "    supply_options.append(f'{supply_key.capitalize()}')\n",
    "        \n",
    "demand_options = []\n",
    "for demand_key, dem_val in config['demand'].items():\n",
    "    demand_options.append(f'{demand_key.capitalize()}')\n",
    "\n",
    "print(\"Supply options: \", supply_options)\n",
    "print(\"Demand options: \", demand_options)"
   ]
  },
  {
   "cell_type": "code",
   "execution_count": 61,
   "metadata": {},
   "outputs": [
    {
     "data": {
      "application/vnd.jupyter.widget-view+json": {
       "model_id": "f057ff7d7d064c979fa464df69af6371",
       "version_major": 2,
       "version_minor": 0
      },
      "text/plain": [
       "Dropdown(description='Experiment: ', options=('Supply', 'Demand'), value='Supply')"
      ]
     },
     "metadata": {},
     "output_type": "display_data"
    }
   ],
   "source": [
    "# Widget to select if we want to perform a supply or demand experiment\n",
    "\n",
    "widget_opt = widgets.Dropdown(\n",
    "    options=['Supply', 'Demand'],\n",
    "    description='Experiment: '\n",
    ")\n",
    "\n",
    "# Mostrar el widget\n",
    "display(widget_opt)"
   ]
  },
  {
   "cell_type": "code",
   "execution_count": 81,
   "metadata": {},
   "outputs": [
    {
     "data": {
      "application/vnd.jupyter.widget-view+json": {
       "model_id": "c0f5d67cb7ea4afa8612a64715cc9728",
       "version_major": 2,
       "version_minor": 0
      },
      "text/plain": [
       "interactive(children=(Dropdown(description='Supply options:', options=('Prices', 'Capacities'), value='Prices'…"
      ]
     },
     "metadata": {},
     "output_type": "display_data"
    }
   ],
   "source": [
    "# Set the experiment type and ask for the experiment name\n",
    "\n",
    "step_widget = widgets.FloatText(value=0.5, description='Step: ', step=0.5)\n",
    "\n",
    "# Asumiendo que widget_opt y supply_options ya están definidos\n",
    "if widget_opt.value.lower() == 'supply':\n",
    "    # Selecciona qué opción de oferta queremos usar\n",
    "    widget_supply = widgets.Dropdown(\n",
    "        options=supply_options,\n",
    "        description='Supply options:'\n",
    "    )\n",
    "    \n",
    "    # Inicializa los widgets de Prices y Capacities con el valor inicial de step\n",
    "    widget_prices = widgets.IntRangeSlider(\n",
    "        value=[1, 10],\n",
    "        min=1,\n",
    "        max=500,\n",
    "        step=1,\n",
    "        description='Prices:',\n",
    "        disabled=False,\n",
    "        continuous_update=False,\n",
    "        orientation='horizontal',\n",
    "        readout=True,\n",
    "        readout_format='d',\n",
    "    )\n",
    "    \n",
    "    widget_capacities = widgets.IntRangeSlider(\n",
    "        value=[1, 3],\n",
    "        min=1,\n",
    "        max=10,\n",
    "        step=1,\n",
    "        description='Capacities:',\n",
    "        disabled=False,\n",
    "        continuous_update=False,\n",
    "        orientation='horizontal',\n",
    "        readout=True,\n",
    "        readout_format='d',\n",
    "    )\n",
    "    \n",
    "    # Define una función para actualizar el step en los otros widgets cuando cambie step_widget\n",
    "    def update_step(*args):\n",
    "        widget_prices.step = step_widget.value\n",
    "        widget_capacities.step = step_widget.value\n",
    "    \n",
    "    # Agrega un observador a step_widget para llamar a update_step cuando cambie su valor\n",
    "    step_widget.observe(update_step, 'value')\n",
    "    \n",
    "    # Define una función para mostrar los widgets apropiados según la opción seleccionada en widget_supply\n",
    "    def on_supply_change(change):\n",
    "        if change == 'Prices':\n",
    "            display(step_widget)\n",
    "            display(widget_prices)\n",
    "        elif change == 'Capacities':\n",
    "            display(step_widget)\n",
    "            display(widget_capacities)\n",
    "    \n",
    "    # Usa interact para llamar a on_supply_change cuando cambie widget_supply\n",
    "    interact(on_supply_change, change=widget_supply)\n",
    "\n",
    "else:\n",
    "    # Select which of the demand options we want to use\n",
    "    widget_demand = widgets.Dropdown(\n",
    "        options=demand_options,\n",
    "        value='demand - 1',\n",
    "        description='Demand:'\n",
    "    )\n",
    "    display(widget_demand)\n",
    "\n",
    "    # Ask for new config param"
   ]
  },
  {
   "cell_type": "code",
   "execution_count": 82,
   "metadata": {},
   "outputs": [
    {
     "name": "stdout",
     "output_type": "stream",
     "text": [
      "Modified config:  {'demand': {'passengers': None}, 'seed': 0, 'supply': {'capacities': None, 'prices': {'start': 1, 'stop': 500, 'step': 25.0}}}\n",
      "Do you want to save the config?\n"
     ]
    },
    {
     "data": {
      "application/vnd.jupyter.widget-view+json": {
       "model_id": "e11f55b1a3074731980e5cf7923f865d",
       "version_major": 2,
       "version_minor": 0
      },
      "text/plain": [
       "Button(description='Update Config', style=ButtonStyle())"
      ]
     },
     "metadata": {},
     "output_type": "display_data"
    },
    {
     "name": "stdout",
     "output_type": "stream",
     "text": [
      "Config updated!\n"
     ]
    }
   ],
   "source": [
    "# Update the config file with the new experiment\n",
    "\n",
    "if widget_opt.value.lower() == 'supply':\n",
    "    if widget_supply.value.lower() == 'prices':\n",
    "        config['supply']['prices'] = {'start': widget_prices.value[0], 'stop': widget_prices.value[1], 'step': step_widget.value}\n",
    "    elif widget_supply.value.lower() == 'capacities':\n",
    "        pass\n",
    "else:\n",
    "    pass \n",
    "\n",
    "print(\"Modified config: \", config)\n",
    "print(\"Do you want to save the config?\")\n",
    "\n",
    "update_button = widgets.Button(description=\"Update Config\")\n",
    "display(update_button) \n",
    "\n",
    "def update_config(change):\n",
    "    with open(path_config_labs, 'w') as f:\n",
    "        yaml.dump(config, f)\n",
    "    print(\"Config updated!\")\n",
    "\n",
    "update_button.on_click(update_config)"
   ]
  },
  {
   "cell_type": "markdown",
   "metadata": {},
   "source": [
    "## New Robin Lab Experiment"
   ]
  },
  {
   "cell_type": "code",
   "execution_count": 76,
   "metadata": {
    "ExecuteTime": {
     "end_time": "2023-10-09T15:46:48.888476Z",
     "start_time": "2023-10-09T15:46:48.763969Z"
    }
   },
   "outputs": [],
   "source": [
    "robin_lab = RobinLab(path_config_supply=path_config_supply,\n",
    "                     path_config_demand=path_config_demand,\n",
    "                     tmp_path=tmp_path)"
   ]
  },
  {
   "cell_type": "code",
   "execution_count": 83,
   "metadata": {
    "ExecuteTime": {
     "end_time": "2023-10-09T15:46:52.241547Z",
     "start_time": "2023-10-09T15:46:50.213873Z"
    }
   },
   "outputs": [
    {
     "name": "stderr",
     "output_type": "stream",
     "text": [
      "  0% (1 of 20) |#                        | Elapsed Time: 0:00:00 ETA:  --:--:--\n",
      "  5% (2 of 20) |##                       | Elapsed Time: 0:00:00 ETA:   0:00:04\n",
      " 10% (3 of 20) |###                      | Elapsed Time: 0:00:00 ETA:   0:00:03\n",
      " 15% (4 of 20) |#####                    | Elapsed Time: 0:00:00 ETA:   0:00:02\n",
      " 21% (5 of 20) |######                   | Elapsed Time: 0:00:00 ETA:   0:00:02\n",
      " 26% (6 of 20) |#######                  | Elapsed Time: 0:00:00 ETA:   0:00:02\n",
      " 31% (7 of 20) |########                 | Elapsed Time: 0:00:01 ETA:   0:00:02\n",
      " 36% (8 of 20) |##########               | Elapsed Time: 0:00:01 ETA:   0:00:02\n",
      " 42% (9 of 20) |###########              | Elapsed Time: 0:00:01 ETA:   0:00:02\n",
      " 47% (10 of 20) |############            | Elapsed Time: 0:00:01 ETA:   0:00:01\n",
      " 52% (11 of 20) |#############           | Elapsed Time: 0:00:01 ETA:   0:00:01\n",
      " 57% (12 of 20) |##############          | Elapsed Time: 0:00:02 ETA:   0:00:01\n",
      " 63% (13 of 20) |###############         | Elapsed Time: 0:00:02 ETA:   0:00:01\n",
      " 68% (14 of 20) |################        | Elapsed Time: 0:00:02 ETA:   0:00:01\n",
      " 73% (15 of 20) |##################      | Elapsed Time: 0:00:02 ETA:   0:00:00\n",
      " 78% (16 of 20) |###################     | Elapsed Time: 0:00:02 ETA:   0:00:00\n",
      " 84% (17 of 20) |####################    | Elapsed Time: 0:00:02 ETA:   0:00:00\n",
      " 89% (18 of 20) |#####################   | Elapsed Time: 0:00:03 ETA:   0:00:00\n",
      " 94% (19 of 20) |######################  | Elapsed Time: 0:00:03 ETA:   0:00:00\n",
      "100% (20 of 20) |########################| Elapsed Time: 0:00:03 ETA:  00:00:00\n",
      "100% (20 of 20) |########################| Elapsed Time: 0:00:03 Time:  0:00:03\n"
     ]
    }
   ],
   "source": [
    "# Set the configuration for the experiment\n",
    "\n",
    "robin_lab.set_lab_config(config=config)"
   ]
  },
  {
   "cell_type": "code",
   "execution_count": 84,
   "metadata": {
    "ExecuteTime": {
     "end_time": "2023-10-09T15:50:27.598045Z",
     "start_time": "2023-10-09T15:49:54.247078Z"
    }
   },
   "outputs": [
    {
     "name": "stderr",
     "output_type": "stream",
     "text": [
      "  0% (1 of 20) |#                        | Elapsed Time: 0:00:00 ETA:  --:--:--\n",
      "  5% (2 of 20) |##                       | Elapsed Time: 0:00:02 ETA:   0:00:51\n",
      " 10% (3 of 20) |###                      | Elapsed Time: 0:00:05 ETA:   0:00:46\n",
      " 15% (4 of 20) |#####                    | Elapsed Time: 0:00:08 ETA:   0:00:49\n",
      " 21% (5 of 20) |######                   | Elapsed Time: 0:00:11 ETA:   0:00:38\n",
      " 26% (6 of 20) |#######                  | Elapsed Time: 0:00:14 ETA:   0:00:41\n",
      " 31% (7 of 20) |########                 | Elapsed Time: 0:00:17 ETA:   0:00:36\n",
      " 36% (8 of 20) |##########               | Elapsed Time: 0:00:19 ETA:   0:00:31\n",
      " 42% (9 of 20) |###########              | Elapsed Time: 0:00:22 ETA:   0:00:31\n",
      " 47% (10 of 20) |############            | Elapsed Time: 0:00:25 ETA:   0:00:29\n",
      " 52% (11 of 20) |#############           | Elapsed Time: 0:00:28 ETA:   0:00:25\n",
      " 57% (12 of 20) |##############          | Elapsed Time: 0:00:31 ETA:   0:00:22\n",
      " 63% (13 of 20) |###############         | Elapsed Time: 0:00:34 ETA:   0:00:21\n",
      " 68% (14 of 20) |################        | Elapsed Time: 0:00:37 ETA:   0:00:18\n",
      " 73% (15 of 20) |##################      | Elapsed Time: 0:00:39 ETA:   0:00:13\n",
      " 78% (16 of 20) |###################     | Elapsed Time: 0:00:42 ETA:   0:00:11\n",
      " 84% (17 of 20) |####################    | Elapsed Time: 0:00:45 ETA:   0:00:08\n",
      " 89% (18 of 20) |#####################   | Elapsed Time: 0:00:48 ETA:   0:00:05\n",
      " 94% (19 of 20) |######################  | Elapsed Time: 0:00:50 ETA:   0:00:02\n",
      "100% (20 of 20) |########################| Elapsed Time: 0:00:53 ETA:  00:00:00\n",
      "100% (20 of 20) |########################| Elapsed Time: 0:00:53 Time:  0:00:53\n"
     ]
    }
   ],
   "source": [
    "# Move seed to simulate method\n",
    "robin_lab.simulate() # Run simulation"
   ]
  },
  {
   "cell_type": "code",
   "execution_count": 85,
   "metadata": {
    "ExecuteTime": {
     "end_time": "2023-08-25T12:28:54.565219Z",
     "start_time": "2023-08-25T12:28:54.031124Z"
    }
   },
   "outputs": [
    {
     "data": {
      "image/png": "[encoded data removed]",
      "text/plain": [
       "<Figure size 1000x600 with 1 Axes>"
      ]
     },
     "metadata": {},
     "output_type": "display_data"
    }
   ],
   "source": [
    "save_path = Path(\"../reports/figures/labs\")\n",
    "\n",
    "if not save_path.exists():\n",
    "    os.mkdir(save_path)\n",
    "    \n",
    "robin_lab.plot_elasticity_curve(save_path=Path(save_path / \"elasticity_curve_ewgt23.svg\"))"
   ]
  },
  {
   "cell_type": "code",
   "execution_count": 12,
   "metadata": {
    "ExecuteTime": {
     "end_time": "2023-10-09T16:07:46.939676Z",
     "start_time": "2023-10-09T16:06:57.295883Z"
    }
   },
   "outputs": [
    {
     "name": "stderr",
     "output_type": "stream",
     "text": [
      "100% (20 of 20) |########################| Elapsed Time: 0:00:46 Time:  0:00:46\n"
     ]
    }
   ],
   "source": [
    "a, b, c, d = robin_lab.get_kpis()"
   ]
  },
  {
   "cell_type": "code",
   "execution_count": null,
   "metadata": {
    "collapsed": false
   },
   "outputs": [],
   "source": []
  }
 ],
 "metadata": {
  "kernelspec": {
   "display_name": "Python 3 (ipykernel)",
   "language": "python",
   "name": "python3"
  },
  "language_info": {
   "codemirror_mode": {
    "name": "ipython",
    "version": 3
   },
   "file_extension": ".py",
   "mimetype": "text/x-python",
   "name": "python",
   "nbconvert_exporter": "python",
   "pygments_lexer": "ipython3",
   "version": "3.11.4"
  }
 },
 "nbformat": 4,
 "nbformat_minor": 1
}
