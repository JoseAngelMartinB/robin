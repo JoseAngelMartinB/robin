{
 "cells": [
  {
   "cell_type": "markdown",
   "metadata": {},
   "source": [
    "# Robin Labs Module"
   ]
  },
  {
   "cell_type": "code",
   "execution_count": 1,
   "metadata": {
    "ExecuteTime": {
     "end_time": "2023-08-23T09:53:58.095569Z",
     "start_time": "2023-08-23T09:53:58.048848Z"
    }
   },
   "outputs": [],
   "source": [
    "%load_ext autoreload\n",
    "%autoreload 2"
   ]
  },
  {
   "cell_type": "code",
   "execution_count": 2,
   "metadata": {
    "ExecuteTime": {
     "end_time": "2023-08-23T09:54:20.626494Z",
     "start_time": "2023-08-23T09:54:16.447303Z"
    }
   },
   "outputs": [],
   "source": [
    "import ipywidgets as widgets\n",
    "import shutil\n",
    "import yaml\n",
    "\n",
    "from src.robin.labs.entities import RobinLab\n",
    "\n",
    "from pathlib import Path\n",
    "\n",
    "path_config_supply = Path('../configs/supply_data.yml')\n",
    "path_config_demand = Path('../configs/demand_data.yml')\n",
    "path_config_labs = Path('../src/robin/labs/config.yml')\n",
    "tmp_path = Path('../data/labs/tmp')"
   ]
  },
  {
   "cell_type": "code",
   "execution_count": 3,
   "outputs": [
    {
     "name": "stdout",
     "output_type": "stream",
     "text": [
      "{'seed': 10, 'supply': [{'prices': 'default'}, {'capacities': 'default'}, {'capacity_constraints': 'default'}, {'services': 'default'}], 'demand': [{'passengers': 'default'}, {'markets': 'default'}, {'user_types': 'default'}]}\n"
     ]
    }
   ],
   "source": [
    "# Open Robin labs default config\n",
    "with open(path_config_labs, 'r') as f:\n",
    "    config_labs = yaml.load(f, Loader=yaml.SafeLoader)\n",
    "    \n",
    "print(config_labs)"
   ],
   "metadata": {
    "collapsed": false,
    "ExecuteTime": {
     "end_time": "2023-08-23T09:54:22.138768Z",
     "start_time": "2023-08-23T09:54:21.933214Z"
    }
   }
  },
  {
   "cell_type": "code",
   "execution_count": 4,
   "metadata": {
    "ExecuteTime": {
     "end_time": "2023-08-23T09:54:23.700102Z",
     "start_time": "2023-08-23T09:54:23.534270Z"
    }
   },
   "outputs": [
    {
     "name": "stdout",
     "output_type": "stream",
     "text": [
      "Prices: \n"
     ]
    },
    {
     "data": {
      "text/plain": "HBox(children=(FloatRangeSlider(value=(0.0, 350.0), description='Price increase range: ', max=500.0, step=1.0)…",
      "application/vnd.jupyter.widget-view+json": {
       "version_major": 2,
       "version_minor": 0,
       "model_id": "1d01cc753df14d0c8ed8a6193259108b"
      }
     },
     "metadata": {},
     "output_type": "display_data"
    }
   ],
   "source": [
    "# Prices range widget\n",
    "print(\"Prices: \")\n",
    "prices_range = {\"min\": 0, \"max\": 500, \"step\": 1.0}\n",
    "range_widget = widgets.FloatRangeSlider(value=[0, 350], **prices_range, description='Price increase range: ')\n",
    "container = widgets.HBox([range_widget])\n",
    "display(container)\n",
    "\n",
    "step_range = {\"min\": 0, \"max\": 10.0, \"step\": 0.1}\n",
    "step_widget = widgets.BoundedFloatText(value=10.0, **step_range, description='Step (%): ')\n",
    "container = widgets.HBox([step_widget])\n",
    "display(container)\n",
    "\n",
    "# Update config file\n",
    "btn = widgets.Button(description='Update config')\n",
    "display(btn)\n",
    "\n",
    "def btn_eventhandler(obj):\n",
    "    print('Updating config file...')\n",
    "    \n",
    "btn.on_click(btn_eventhandler)"
   ]
  },
  {
   "cell_type": "code",
   "execution_count": 5,
   "metadata": {
    "ExecuteTime": {
     "end_time": "2023-08-23T09:54:32.882868Z",
     "start_time": "2023-08-23T09:54:32.792640Z"
    }
   },
   "outputs": [
    {
     "name": "stdout",
     "output_type": "stream",
     "text": [
      "Prices increase range: 0.0% - 350.0% with step 10.0%\n"
     ]
    }
   ],
   "source": [
    "lower_limit, upper_limit = range_widget.value\n",
    "step = step_widget.value\n",
    "\n",
    "print(f\"Prices increase range: {lower_limit}% - {upper_limit}% with step {step}%\")"
   ]
  },
  {
   "cell_type": "code",
   "execution_count": 6,
   "metadata": {
    "ExecuteTime": {
     "end_time": "2023-08-23T09:54:34.151373Z",
     "start_time": "2023-08-23T09:54:34.060359Z"
    }
   },
   "outputs": [],
   "source": [
    "robin_lab = RobinLab(path_config_supply=path_config_supply,\n",
    "                     path_config_demand=path_config_demand,\n",
    "                     tmp_path=tmp_path)"
   ]
  },
  {
   "cell_type": "code",
   "execution_count": 7,
   "metadata": {
    "ExecuteTime": {
     "end_time": "2023-08-23T09:57:12.370807Z",
     "start_time": "2023-08-23T09:54:35.313626Z"
    }
   },
   "outputs": [
    {
     "data": {
      "text/plain": "  0%|          | 0/35 [00:00<?, ?it/s]",
      "application/vnd.jupyter.widget-view+json": {
       "version_major": 2,
       "version_minor": 0,
       "model_id": "0d8dda6318aa4649994b0ed462ae28d8"
      }
     },
     "metadata": {},
     "output_type": "display_data"
    }
   ],
   "source": [
    "config = {\"supply\": {\"start\": 0, \"stop\": 350, \"step\": 10},\n",
    "          \"demand\": (),\n",
    "          \"seed\": 53}\n",
    "\n",
    "robin_lab.set_lab_config(config=config)"
   ]
  },
  {
   "cell_type": "code",
   "execution_count": 8,
   "metadata": {
    "ExecuteTime": {
     "end_time": "2023-08-23T09:59:10.794547Z",
     "start_time": "2023-08-23T09:57:16.273756Z"
    }
   },
   "outputs": [],
   "source": [
    "robin_lab.simulate() # Run simulation"
   ]
  },
  {
   "cell_type": "code",
   "execution_count": 9,
   "metadata": {},
   "outputs": [],
   "source": [
    "robin_lab.plot_elasticity_curve(save_path=Path(\"../reports/figures/labs/price_elasticity_curve.svg\"))"
   ]
  },
  {
   "cell_type": "code",
   "execution_count": null,
   "metadata": {},
   "outputs": [],
   "source": []
  }
 ],
 "metadata": {
  "kernelspec": {
   "display_name": "Python 3 (ipykernel)",
   "language": "python",
   "name": "python3"
  },
  "language_info": {
   "codemirror_mode": {
    "name": "ipython",
    "version": 3
   },
   "file_extension": ".py",
   "mimetype": "text/x-python",
   "name": "python",
   "nbconvert_exporter": "python",
   "pygments_lexer": "ipython3",
   "version": "3.11.4"
  }
 },
 "nbformat": 4,
 "nbformat_minor": 1
}
