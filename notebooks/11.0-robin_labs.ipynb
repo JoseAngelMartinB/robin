{
 "cells": [
  {
   "cell_type": "code",
   "execution_count": null,
   "metadata": {
    "collapsed": true
   },
   "outputs": [],
   "source": [
    "%load_ext autoreload\n",
    "%autoreload 2"
   ]
  },
  {
   "cell_type": "code",
   "execution_count": 1,
   "outputs": [
    {
     "name": "stdout",
     "output_type": "stream",
     "text": [
      "Defaulting to user installation because normal site-packages is not writeable\r\n",
      "Requirement already satisfied: ipywidgets in /Users/david/opt/anaconda3/envs/robin/lib/python3.10/site-packages (7.6.5)\r\n",
      "Requirement already satisfied: ipykernel>=4.5.1 in /Users/david/opt/anaconda3/envs/robin/lib/python3.10/site-packages (from ipywidgets) (6.19.2)\r\n",
      "Requirement already satisfied: ipython-genutils~=0.2.0 in /Users/david/opt/anaconda3/envs/robin/lib/python3.10/site-packages (from ipywidgets) (0.2.0)\r\n",
      "Requirement already satisfied: traitlets>=4.3.1 in /Users/david/opt/anaconda3/envs/robin/lib/python3.10/site-packages (from ipywidgets) (5.7.1)\r\n",
      "Requirement already satisfied: nbformat>=4.2.0 in /Users/david/opt/anaconda3/envs/robin/lib/python3.10/site-packages (from ipywidgets) (5.7.0)\r\n",
      "Requirement already satisfied: widgetsnbextension~=3.5.0 in /Users/david/opt/anaconda3/envs/robin/lib/python3.10/site-packages (from ipywidgets) (3.5.2)\r\n",
      "Requirement already satisfied: ipython>=4.0.0 in /Users/david/opt/anaconda3/envs/robin/lib/python3.10/site-packages (from ipywidgets) (8.12.0)\r\n",
      "Requirement already satisfied: jupyterlab-widgets>=1.0.0 in /Users/david/opt/anaconda3/envs/robin/lib/python3.10/site-packages (from ipywidgets) (3.0.5)\r\n",
      "Requirement already satisfied: appnope in /Users/david/opt/anaconda3/envs/robin/lib/python3.10/site-packages (from ipykernel>=4.5.1->ipywidgets) (0.1.2)\r\n",
      "Requirement already satisfied: comm>=0.1.1 in /Users/david/opt/anaconda3/envs/robin/lib/python3.10/site-packages (from ipykernel>=4.5.1->ipywidgets) (0.1.2)\r\n",
      "Requirement already satisfied: debugpy>=1.0 in /Users/david/opt/anaconda3/envs/robin/lib/python3.10/site-packages (from ipykernel>=4.5.1->ipywidgets) (1.5.1)\r\n",
      "Requirement already satisfied: jupyter-client>=6.1.12 in /Users/david/opt/anaconda3/envs/robin/lib/python3.10/site-packages (from ipykernel>=4.5.1->ipywidgets) (8.1.0)\r\n",
      "Requirement already satisfied: matplotlib-inline>=0.1 in /Users/david/opt/anaconda3/envs/robin/lib/python3.10/site-packages (from ipykernel>=4.5.1->ipywidgets) (0.1.6)\r\n",
      "Requirement already satisfied: nest-asyncio in /Users/david/opt/anaconda3/envs/robin/lib/python3.10/site-packages (from ipykernel>=4.5.1->ipywidgets) (1.5.6)\r\n",
      "Requirement already satisfied: packaging in /Users/david/opt/anaconda3/envs/robin/lib/python3.10/site-packages (from ipykernel>=4.5.1->ipywidgets) (23.0)\r\n",
      "Requirement already satisfied: psutil in /Users/david/opt/anaconda3/envs/robin/lib/python3.10/site-packages (from ipykernel>=4.5.1->ipywidgets) (5.9.0)\r\n",
      "Requirement already satisfied: pyzmq>=17 in /Users/david/opt/anaconda3/envs/robin/lib/python3.10/site-packages (from ipykernel>=4.5.1->ipywidgets) (25.0.2)\r\n",
      "Requirement already satisfied: tornado>=6.1 in /Users/david/opt/anaconda3/envs/robin/lib/python3.10/site-packages (from ipykernel>=4.5.1->ipywidgets) (6.2)\r\n",
      "Requirement already satisfied: backcall in /Users/david/opt/anaconda3/envs/robin/lib/python3.10/site-packages (from ipython>=4.0.0->ipywidgets) (0.2.0)\r\n",
      "Requirement already satisfied: decorator in /Users/david/opt/anaconda3/envs/robin/lib/python3.10/site-packages (from ipython>=4.0.0->ipywidgets) (5.1.1)\r\n",
      "Requirement already satisfied: jedi>=0.16 in /Users/david/opt/anaconda3/envs/robin/lib/python3.10/site-packages (from ipython>=4.0.0->ipywidgets) (0.18.1)\r\n",
      "Requirement already satisfied: pickleshare in /Users/david/opt/anaconda3/envs/robin/lib/python3.10/site-packages (from ipython>=4.0.0->ipywidgets) (0.7.5)\r\n",
      "Requirement already satisfied: prompt-toolkit!=3.0.37,<3.1.0,>=3.0.30 in /Users/david/opt/anaconda3/envs/robin/lib/python3.10/site-packages (from ipython>=4.0.0->ipywidgets) (3.0.36)\r\n",
      "Requirement already satisfied: pygments>=2.4.0 in /Users/david/opt/anaconda3/envs/robin/lib/python3.10/site-packages (from ipython>=4.0.0->ipywidgets) (2.11.2)\r\n",
      "Requirement already satisfied: stack-data in /Users/david/opt/anaconda3/envs/robin/lib/python3.10/site-packages (from ipython>=4.0.0->ipywidgets) (0.2.0)\r\n",
      "Requirement already satisfied: pexpect>4.3 in /Users/david/opt/anaconda3/envs/robin/lib/python3.10/site-packages (from ipython>=4.0.0->ipywidgets) (4.8.0)\r\n",
      "Requirement already satisfied: fastjsonschema in /Users/david/opt/anaconda3/envs/robin/lib/python3.10/site-packages (from nbformat>=4.2.0->ipywidgets) (2.16.2)\r\n",
      "Requirement already satisfied: jsonschema>=2.6 in /Users/david/opt/anaconda3/envs/robin/lib/python3.10/site-packages (from nbformat>=4.2.0->ipywidgets) (4.17.3)\r\n",
      "Requirement already satisfied: jupyter-core in /Users/david/opt/anaconda3/envs/robin/lib/python3.10/site-packages (from nbformat>=4.2.0->ipywidgets) (5.3.0)\r\n",
      "Requirement already satisfied: notebook>=4.4.1 in /Users/david/opt/anaconda3/envs/robin/lib/python3.10/site-packages (from widgetsnbextension~=3.5.0->ipywidgets) (6.5.4)\r\n",
      "Requirement already satisfied: parso<0.9.0,>=0.8.0 in /Users/david/opt/anaconda3/envs/robin/lib/python3.10/site-packages (from jedi>=0.16->ipython>=4.0.0->ipywidgets) (0.8.3)\r\n",
      "Requirement already satisfied: attrs>=17.4.0 in /Users/david/opt/anaconda3/envs/robin/lib/python3.10/site-packages (from jsonschema>=2.6->nbformat>=4.2.0->ipywidgets) (22.1.0)\r\n",
      "Requirement already satisfied: pyrsistent!=0.17.0,!=0.17.1,!=0.17.2,>=0.14.0 in /Users/david/opt/anaconda3/envs/robin/lib/python3.10/site-packages (from jsonschema>=2.6->nbformat>=4.2.0->ipywidgets) (0.18.0)\r\n",
      "Requirement already satisfied: python-dateutil>=2.8.2 in /Users/david/opt/anaconda3/envs/robin/lib/python3.10/site-packages (from jupyter-client>=6.1.12->ipykernel>=4.5.1->ipywidgets) (2.8.2)\r\n",
      "Requirement already satisfied: platformdirs>=2.5 in /Users/david/opt/anaconda3/envs/robin/lib/python3.10/site-packages (from jupyter-core->nbformat>=4.2.0->ipywidgets) (2.6.2)\r\n",
      "Requirement already satisfied: jinja2 in /Users/david/opt/anaconda3/envs/robin/lib/python3.10/site-packages (from notebook>=4.4.1->widgetsnbextension~=3.5.0->ipywidgets) (3.1.2)\r\n",
      "Requirement already satisfied: argon2-cffi in /Users/david/opt/anaconda3/envs/robin/lib/python3.10/site-packages (from notebook>=4.4.1->widgetsnbextension~=3.5.0->ipywidgets) (21.3.0)\r\n",
      "Requirement already satisfied: nbconvert>=5 in /Users/david/opt/anaconda3/envs/robin/lib/python3.10/site-packages (from notebook>=4.4.1->widgetsnbextension~=3.5.0->ipywidgets) (6.5.4)\r\n",
      "Requirement already satisfied: Send2Trash>=1.8.0 in /Users/david/opt/anaconda3/envs/robin/lib/python3.10/site-packages (from notebook>=4.4.1->widgetsnbextension~=3.5.0->ipywidgets) (1.8.0)\r\n",
      "Requirement already satisfied: terminado>=0.8.3 in /Users/david/opt/anaconda3/envs/robin/lib/python3.10/site-packages (from notebook>=4.4.1->widgetsnbextension~=3.5.0->ipywidgets) (0.17.1)\r\n",
      "Requirement already satisfied: prometheus-client in /Users/david/opt/anaconda3/envs/robin/lib/python3.10/site-packages (from notebook>=4.4.1->widgetsnbextension~=3.5.0->ipywidgets) (0.14.1)\r\n",
      "Requirement already satisfied: nbclassic>=0.4.7 in /Users/david/opt/anaconda3/envs/robin/lib/python3.10/site-packages (from notebook>=4.4.1->widgetsnbextension~=3.5.0->ipywidgets) (0.5.5)\r\n",
      "Requirement already satisfied: ptyprocess>=0.5 in /Users/david/opt/anaconda3/envs/robin/lib/python3.10/site-packages (from pexpect>4.3->ipython>=4.0.0->ipywidgets) (0.7.0)\r\n",
      "Requirement already satisfied: wcwidth in /Users/david/opt/anaconda3/envs/robin/lib/python3.10/site-packages (from prompt-toolkit!=3.0.37,<3.1.0,>=3.0.30->ipython>=4.0.0->ipywidgets) (0.2.5)\r\n",
      "Requirement already satisfied: executing in /Users/david/opt/anaconda3/envs/robin/lib/python3.10/site-packages (from stack-data->ipython>=4.0.0->ipywidgets) (0.8.3)\r\n",
      "Requirement already satisfied: asttokens in /Users/david/opt/anaconda3/envs/robin/lib/python3.10/site-packages (from stack-data->ipython>=4.0.0->ipywidgets) (2.0.5)\r\n",
      "Requirement already satisfied: pure-eval in /Users/david/opt/anaconda3/envs/robin/lib/python3.10/site-packages (from stack-data->ipython>=4.0.0->ipywidgets) (0.2.2)\r\n",
      "Requirement already satisfied: jupyter-server>=1.8 in /Users/david/opt/anaconda3/envs/robin/lib/python3.10/site-packages (from nbclassic>=0.4.7->notebook>=4.4.1->widgetsnbextension~=3.5.0->ipywidgets) (1.23.4)\r\n",
      "Requirement already satisfied: notebook-shim>=0.1.0 in /Users/david/opt/anaconda3/envs/robin/lib/python3.10/site-packages (from nbclassic>=0.4.7->notebook>=4.4.1->widgetsnbextension~=3.5.0->ipywidgets) (0.2.2)\r\n",
      "Requirement already satisfied: lxml in /Users/david/opt/anaconda3/envs/robin/lib/python3.10/site-packages (from nbconvert>=5->notebook>=4.4.1->widgetsnbextension~=3.5.0->ipywidgets) (4.9.2)\r\n",
      "Requirement already satisfied: beautifulsoup4 in /Users/david/opt/anaconda3/envs/robin/lib/python3.10/site-packages (from nbconvert>=5->notebook>=4.4.1->widgetsnbextension~=3.5.0->ipywidgets) (4.12.2)\r\n",
      "Requirement already satisfied: bleach in /Users/david/opt/anaconda3/envs/robin/lib/python3.10/site-packages (from nbconvert>=5->notebook>=4.4.1->widgetsnbextension~=3.5.0->ipywidgets) (4.1.0)\r\n",
      "Requirement already satisfied: defusedxml in /Users/david/opt/anaconda3/envs/robin/lib/python3.10/site-packages (from nbconvert>=5->notebook>=4.4.1->widgetsnbextension~=3.5.0->ipywidgets) (0.7.1)\r\n",
      "Requirement already satisfied: entrypoints>=0.2.2 in /Users/david/opt/anaconda3/envs/robin/lib/python3.10/site-packages (from nbconvert>=5->notebook>=4.4.1->widgetsnbextension~=3.5.0->ipywidgets) (0.4)\r\n",
      "Requirement already satisfied: jupyterlab-pygments in /Users/david/opt/anaconda3/envs/robin/lib/python3.10/site-packages (from nbconvert>=5->notebook>=4.4.1->widgetsnbextension~=3.5.0->ipywidgets) (0.1.2)\r\n",
      "Requirement already satisfied: MarkupSafe>=2.0 in /Users/david/opt/anaconda3/envs/robin/lib/python3.10/site-packages (from nbconvert>=5->notebook>=4.4.1->widgetsnbextension~=3.5.0->ipywidgets) (2.1.1)\r\n",
      "Requirement already satisfied: mistune<2,>=0.8.1 in /Users/david/opt/anaconda3/envs/robin/lib/python3.10/site-packages (from nbconvert>=5->notebook>=4.4.1->widgetsnbextension~=3.5.0->ipywidgets) (0.8.4)\r\n",
      "Requirement already satisfied: nbclient>=0.5.0 in /Users/david/opt/anaconda3/envs/robin/lib/python3.10/site-packages (from nbconvert>=5->notebook>=4.4.1->widgetsnbextension~=3.5.0->ipywidgets) (0.5.13)\r\n",
      "Requirement already satisfied: pandocfilters>=1.4.1 in /Users/david/opt/anaconda3/envs/robin/lib/python3.10/site-packages (from nbconvert>=5->notebook>=4.4.1->widgetsnbextension~=3.5.0->ipywidgets) (1.5.0)\r\n",
      "Requirement already satisfied: tinycss2 in /Users/david/opt/anaconda3/envs/robin/lib/python3.10/site-packages (from nbconvert>=5->notebook>=4.4.1->widgetsnbextension~=3.5.0->ipywidgets) (1.2.1)\r\n",
      "Requirement already satisfied: six>=1.5 in /Users/david/opt/anaconda3/envs/robin/lib/python3.10/site-packages (from python-dateutil>=2.8.2->jupyter-client>=6.1.12->ipykernel>=4.5.1->ipywidgets) (1.16.0)\r\n",
      "Requirement already satisfied: argon2-cffi-bindings in /Users/david/opt/anaconda3/envs/robin/lib/python3.10/site-packages (from argon2-cffi->notebook>=4.4.1->widgetsnbextension~=3.5.0->ipywidgets) (21.2.0)\r\n",
      "Requirement already satisfied: anyio<4,>=3.1.0 in /Users/david/opt/anaconda3/envs/robin/lib/python3.10/site-packages (from jupyter-server>=1.8->nbclassic>=0.4.7->notebook>=4.4.1->widgetsnbextension~=3.5.0->ipywidgets) (3.5.0)\r\n",
      "Requirement already satisfied: websocket-client in /Users/david/opt/anaconda3/envs/robin/lib/python3.10/site-packages (from jupyter-server>=1.8->nbclassic>=0.4.7->notebook>=4.4.1->widgetsnbextension~=3.5.0->ipywidgets) (0.58.0)\r\n",
      "Requirement already satisfied: cffi>=1.0.1 in /Users/david/opt/anaconda3/envs/robin/lib/python3.10/site-packages (from argon2-cffi-bindings->argon2-cffi->notebook>=4.4.1->widgetsnbextension~=3.5.0->ipywidgets) (1.15.1)\r\n",
      "Requirement already satisfied: soupsieve>1.2 in /Users/david/opt/anaconda3/envs/robin/lib/python3.10/site-packages (from beautifulsoup4->nbconvert>=5->notebook>=4.4.1->widgetsnbextension~=3.5.0->ipywidgets) (2.4)\r\n",
      "Requirement already satisfied: webencodings in /Users/david/opt/anaconda3/envs/robin/lib/python3.10/site-packages (from bleach->nbconvert>=5->notebook>=4.4.1->widgetsnbextension~=3.5.0->ipywidgets) (0.5.1)\r\n",
      "Requirement already satisfied: idna>=2.8 in /Users/david/opt/anaconda3/envs/robin/lib/python3.10/site-packages (from anyio<4,>=3.1.0->jupyter-server>=1.8->nbclassic>=0.4.7->notebook>=4.4.1->widgetsnbextension~=3.5.0->ipywidgets) (3.4)\r\n",
      "Requirement already satisfied: sniffio>=1.1 in /Users/david/opt/anaconda3/envs/robin/lib/python3.10/site-packages (from anyio<4,>=3.1.0->jupyter-server>=1.8->nbclassic>=0.4.7->notebook>=4.4.1->widgetsnbextension~=3.5.0->ipywidgets) (1.2.0)\r\n",
      "Requirement already satisfied: pycparser in /Users/david/opt/anaconda3/envs/robin/lib/python3.10/site-packages (from cffi>=1.0.1->argon2-cffi-bindings->argon2-cffi->notebook>=4.4.1->widgetsnbextension~=3.5.0->ipywidgets) (2.21)\r\n"
     ]
    }
   ],
   "source": [
    "!pip install ipywidgets"
   ],
   "metadata": {
    "collapsed": false,
    "ExecuteTime": {
     "end_time": "2023-05-24T09:46:26.812773Z",
     "start_time": "2023-05-24T09:45:23.582361Z"
    }
   }
  },
  {
   "cell_type": "code",
   "execution_count": 5,
   "outputs": [
    {
     "name": "stdout",
     "output_type": "stream",
     "text": [
      "Enabling notebook extension jupyter-js-widgets/extension...\r\n",
      "      - Validating: \u001B[32mOK\u001B[0m\r\n"
     ]
    }
   ],
   "source": [
    "!jupyter nbextension enable --py widgetsnbextension"
   ],
   "metadata": {
    "collapsed": false,
    "ExecuteTime": {
     "end_time": "2023-05-24T09:47:18.646075Z",
     "start_time": "2023-05-24T09:47:15.021420Z"
    }
   }
  },
  {
   "cell_type": "code",
   "execution_count": 1,
   "outputs": [],
   "source": [
    "import datetime\n",
    "import ipywidgets as widgets\n",
    "import pandas as pd\n",
    "\n",
    "from ipywidgets import interact, interact_manual"
   ],
   "metadata": {
    "collapsed": false,
    "ExecuteTime": {
     "end_time": "2023-05-24T10:22:24.248700Z",
     "start_time": "2023-05-24T10:22:23.840210Z"
    }
   }
  },
  {
   "cell_type": "code",
   "execution_count": 2,
   "outputs": [
    {
     "data": {
      "text/plain": "interactive(children=(DatePicker(value=Timestamp('2023-01-01 00:00:00'), description='start_date'), DatePicker…",
      "application/vnd.jupyter.widget-view+json": {
       "version_major": 2,
       "version_minor": 0,
       "model_id": "e74233b8efde45e9a076ed3131119bd5"
      }
     },
     "metadata": {},
     "output_type": "display_data"
    },
    {
     "data": {
      "text/plain": "<function __main__.range_dates(start_date: datetime.datetime, end_date: datetime.datetime)>"
     },
     "execution_count": 2,
     "metadata": {},
     "output_type": "execute_result"
    }
   ],
   "source": [
    "def range_dates(start_date: datetime.datetime, end_date: datetime.datetime):\n",
    "    print(f\"Dates between {start_date} and {end_date}\")\n",
    "\n",
    "interact(range_dates,\n",
    "         start_date=widgets.DatePicker(value=pd.to_datetime('2023-01-01')),\n",
    "         end_date=widgets.DatePicker(value=pd.to_datetime('2023-06-01')))"
   ],
   "metadata": {
    "collapsed": false,
    "ExecuteTime": {
     "end_time": "2023-05-24T10:22:24.287099Z",
     "start_time": "2023-05-24T10:22:24.251696Z"
    }
   }
  },
  {
   "cell_type": "code",
   "execution_count": null,
   "outputs": [],
   "source": [
    "\"\"\"\n",
    "Supply experiment configuration\n",
    "\n",
    "- Prices\n",
    "- Capacities\n",
    "- Capacity constraints\n",
    "\n",
    "Steps:\n",
    "1) Load defult supply configuration\n",
    "2) Select which parameters want to be analyzed through the experiment\n",
    "3) Interactively select the values based on the observed data\n",
    "4) Generate YAML files for the experiment\n",
    "\"\"\""
   ],
   "metadata": {
    "collapsed": false
   }
  }
 ],
 "metadata": {
  "kernelspec": {
   "display_name": "Python 3",
   "language": "python",
   "name": "python3"
  },
  "language_info": {
   "codemirror_mode": {
    "name": "ipython",
    "version": 2
   },
   "file_extension": ".py",
   "mimetype": "text/x-python",
   "name": "python",
   "nbconvert_exporter": "python",
   "pygments_lexer": "ipython2",
   "version": "2.7.6"
  }
 },
 "nbformat": 4,
 "nbformat_minor": 0
}
