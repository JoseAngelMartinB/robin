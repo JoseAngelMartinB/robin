{
 "cells": [
  {
   "attachments": {},
   "cell_type": "markdown",
   "metadata": {},
   "source": [
    "# Generate one year of demand based on calendar"
   ]
  },
  {
   "cell_type": "code",
   "execution_count": 71,
   "metadata": {},
   "outputs": [],
   "source": [
    "import holidays\n",
    "import yaml\n",
    "\n",
    "from copy import deepcopy\n",
    "from datetime import date, timedelta"
   ]
  },
  {
   "cell_type": "code",
   "execution_count": 72,
   "metadata": {},
   "outputs": [],
   "source": [
    "with open('../configs/renfe_tft/demand_data_base.yml', 'r') as f:\n",
    "    demand_yaml = f.read()\n",
    "\n",
    "data = yaml.safe_load(demand_yaml)"
   ]
  },
  {
   "cell_type": "code",
   "execution_count": 73,
   "metadata": {},
   "outputs": [],
   "source": [
    "class Calendar1(holidays.HolidayBase):\n",
    "\n",
    "    def _populate(self, year):\n",
    "        # Febraury\n",
    "        for i in range(1, 29):\n",
    "            self[date(year, 2, i)] = 'Holidays'\n",
    "        # March - July - October\n",
    "        for i in range(1, 32):\n",
    "            self[date(year, 3, i)] = 'Holidays'\n",
    "            self[date(year, 7, i)] = 'Holidays'\n",
    "            self[date(year, 10, i)] = 'Holidays'\n",
    "        # June - November\n",
    "        for i in range(1, 31):\n",
    "            self[date(year, 6, i)] = 'Holidays'\n",
    "            self[date(year, 11, i)] = 'Holidays'"
   ]
  },
  {
   "cell_type": "code",
   "execution_count": 74,
   "metadata": {},
   "outputs": [],
   "source": [
    "class Calendar2(holidays.HolidayBase):\n",
    "\n",
    "    def _populate(self, year):\n",
    "        # January - May - August - December\n",
    "        for i in range(1, 32):\n",
    "            self[date(year, 1, i)] = 'Holidays'\n",
    "            self[date(year, 5, i)] = 'Holidays'\n",
    "            self[date(year, 8, i)] = 'Holidays'\n",
    "            self[date(year, 12, i)] = 'Holidays'\n",
    "        # April - September\n",
    "        for i in range(1, 31):\n",
    "            self[date(year, 4, i)] = 'Holidays'\n",
    "            self[date(year, 9, i)] = 'Holidays'"
   ]
  },
  {
   "cell_type": "code",
   "execution_count": 75,
   "metadata": {},
   "outputs": [],
   "source": [
    "class CustomHolidays(holidays.ES):\n",
    "    \n",
    "    def _populate(self, year):\n",
    "        holidays.ES._populate(self, year)\n",
    "        for i in range(1, 7):\n",
    "            self[date(year, 1, i)] = 'Navidad'\n",
    "        self[date(year, 2, 14)] = 'San Laventín'\n",
    "        for i in range(8, 14):\n",
    "            self[date(year, 3, i)] = 'Carnaval'\n",
    "        for i in range(2, 10):\n",
    "            self[date(year, 4, i)] = 'Semana Santa'\n",
    "        self[date(year, 8, 1)] = 'Verano'\n",
    "        self[date(year, 8, 31)] = 'Verano'\n",
    "        for i in range(24, 26):\n",
    "            self[date(year, 12, i)] = 'Navidad'"
   ]
  },
  {
   "cell_type": "code",
   "execution_count": 76,
   "metadata": {},
   "outputs": [],
   "source": [
    "custom_holidays = holidays.ES()\n",
    "calendar1 = Calendar1()\n",
    "calendar2 = Calendar2()\n",
    "\n",
    "def get_demand_pattern(_date: date):\n",
    "    demand_pattern = None\n",
    "    if _date.weekday() >= 0 and _date.weekday() <= 3:\n",
    "        if _date in calendar1:\n",
    "            demand_pattern = 1 # Monday-Thrusday-1\n",
    "        elif _date in calendar2:\n",
    "            demand_pattern = 3 # Monday-Thrusday-2\n",
    "    elif _date.weekday() > 3 and _date.weekday() <= 6:\n",
    "        if _date in calendar1:\n",
    "            demand_pattern = 2 # Weekend-1\n",
    "        elif _date in calendar2:\n",
    "            demand_pattern = 4 # Weekend-2\n",
    "    if _date in custom_holidays:\n",
    "        demand_pattern = 4 # Weekend-2\n",
    "    return demand_pattern"
   ]
  },
  {
   "cell_type": "code",
   "execution_count": 77,
   "metadata": {},
   "outputs": [],
   "source": [
    "start_date = date(2023, 1, 1)\n",
    "end_date = date(2023, 12, 31)\n",
    "while start_date < end_date:\n",
    "    previous_day = deepcopy(data['day'][-1])\n",
    "    previous_day['id'] += 1\n",
    "    previous_day['date'] += timedelta(days=1)\n",
    "    previous_day['demandPattern'] = get_demand_pattern(previous_day['date'])\n",
    "    data['day'].append(previous_day)\n",
    "    start_date += timedelta(days=1)"
   ]
  },
  {
   "cell_type": "code",
   "execution_count": 78,
   "metadata": {},
   "outputs": [],
   "source": [
    "yaml.safe_dump(data, open('../configs/renfe_tft/demand_data.yml', 'w'), sort_keys=False, allow_unicode=True)"
   ]
  }
 ],
 "metadata": {
  "kernelspec": {
   "display_name": "robin",
   "language": "python",
   "name": "python3"
  },
  "language_info": {
   "codemirror_mode": {
    "name": "ipython",
    "version": 3
   },
   "file_extension": ".py",
   "mimetype": "text/x-python",
   "name": "python",
   "nbconvert_exporter": "python",
   "pygments_lexer": "ipython3",
   "version": "3.9.5"
  },
  "orig_nbformat": 4
 },
 "nbformat": 4,
 "nbformat_minor": 2
}
