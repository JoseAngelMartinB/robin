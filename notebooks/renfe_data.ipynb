{
 "cells": [
  {
   "cell_type": "code",
   "execution_count": 1,
   "outputs": [],
   "source": [
    "import pandas as pd\n",
    "import requests\n",
    "import datetime\n",
    "import shutil\n",
    "import errno\n",
    "import os\n",
    "\n",
    "savepath = \"datasets/\""
   ],
   "metadata": {
    "collapsed": false
   }
  },
  {
   "cell_type": "code",
   "execution_count": 2,
   "outputs": [
    {
     "name": "stdout",
     "output_type": "stream",
     "text": [
      "File already exists!\n"
     ]
    }
   ],
   "source": [
    "# Renfe Horarios de alta velocidad, larga distancia y media distancia\n",
    "url = 'https://ssl.renfe.com/gtransit/Fichero_AV_LD/google_transit.zip'\n",
    "\n",
    "flags = os.O_CREAT | os.O_EXCL | os.O_WRONLY\n",
    "\n",
    "# Download zip file\n",
    "req = requests.get(url)\n",
    "\n",
    "# Get file name from url\n",
    "filename = url.split('/')[-1]\n",
    "\n",
    "if not os.path.exists(savepath):\n",
    "   os.makedirs(savepath)\n",
    "\n",
    "try:\n",
    "    file_handle = os.open(savepath+filename, flags)\n",
    "except OSError as e:\n",
    "    if e.errno == errno.EEXIST:  # Failed as the file already exists.\n",
    "        print('File already exists!')\n",
    "    else:  # Something unexpected went wrong so reraise the exception.\n",
    "        raise\n",
    "else:  # No exception, so the file must have been created successfully.\n",
    "    # Writing the file to the local file system\n",
    "    with open(savepath+filename, 'wb') as output_file:\n",
    "        output_file.write(req.content)\n",
    "\n",
    "    # Unzip\n",
    "    shutil.unpack_archive(savepath+filename, savepath)\n",
    "\n",
    "    print('File downloaded successfully!')"
   ],
   "metadata": {
    "collapsed": false
   }
  },
  {
   "cell_type": "code",
   "execution_count": 3,
   "metadata": {
    "collapsed": true
   },
   "outputs": [
    {
     "data": {
      "text/plain": "   agency_id      agency_name            agency_url agency_timezone  \\\n0       1071  RENFE OPERADORA  http://www.renfe.com   Europe/Madrid   \n\n  agency_lang  \\\n0          ES   \n\n   agency_phone                                                                                                                                                                                                                                                                                       \n0                                          902320320                                                                                                                                                                                                                                                  ",
      "text/html": "<div>\n<style scoped>\n    .dataframe tbody tr th:only-of-type {\n        vertical-align: middle;\n    }\n\n    .dataframe tbody tr th {\n        vertical-align: top;\n    }\n\n    .dataframe thead th {\n        text-align: right;\n    }\n</style>\n<table border=\"1\" class=\"dataframe\">\n  <thead>\n    <tr style=\"text-align: right;\">\n      <th></th>\n      <th>agency_id</th>\n      <th>agency_name</th>\n      <th>agency_url</th>\n      <th>agency_timezone</th>\n      <th>agency_lang</th>\n      <th>agency_phone</th>\n    </tr>\n  </thead>\n  <tbody>\n    <tr>\n      <th>0</th>\n      <td>1071</td>\n      <td>RENFE OPERADORA</td>\n      <td>http://www.renfe.com</td>\n      <td>Europe/Madrid</td>\n      <td>ES</td>\n      <td>902320320</td>\n    </tr>\n  </tbody>\n</table>\n</div>"
     },
     "execution_count": 3,
     "metadata": {},
     "output_type": "execute_result"
    }
   ],
   "source": [
    "agency = pd.read_csv(savepath+\"/agency.txt\", sep=\",\")\n",
    "\n",
    "agency.head()"
   ]
  },
  {
   "cell_type": "code",
   "execution_count": 4,
   "outputs": [
    {
     "data": {
      "text/plain": "                   service_id      date  \\\n0  2022-11-302022-12-10001901  20221204   \n1  2022-12-112023-03-12001901  20221211   \n2  2022-12-112023-03-12001901  20221218   \n3  2022-12-112023-03-12001901  20221225   \n4  2022-12-112023-03-12001901  20230101   \n\n   exception_type                                                                                                                                                                                                                                                                                                                                  \n0                                                  2                                                                                                                                                                                                                                                                                               \n1                                                  2                                                                                                                                                                                                                                                                                               \n2                                                  2                                                                                                                                                                                                                                                                                               \n3                                                  2                                                                                                                                                                                                                                                                                               \n4                                                  2                                                                                                                                                                                                                                                                                               ",
      "text/html": "<div>\n<style scoped>\n    .dataframe tbody tr th:only-of-type {\n        vertical-align: middle;\n    }\n\n    .dataframe tbody tr th {\n        vertical-align: top;\n    }\n\n    .dataframe thead th {\n        text-align: right;\n    }\n</style>\n<table border=\"1\" class=\"dataframe\">\n  <thead>\n    <tr style=\"text-align: right;\">\n      <th></th>\n      <th>service_id</th>\n      <th>date</th>\n      <th>exception_type</th>\n    </tr>\n  </thead>\n  <tbody>\n    <tr>\n      <th>0</th>\n      <td>2022-11-302022-12-10001901</td>\n      <td>20221204</td>\n      <td>2</td>\n    </tr>\n    <tr>\n      <th>1</th>\n      <td>2022-12-112023-03-12001901</td>\n      <td>20221211</td>\n      <td>2</td>\n    </tr>\n    <tr>\n      <th>2</th>\n      <td>2022-12-112023-03-12001901</td>\n      <td>20221218</td>\n      <td>2</td>\n    </tr>\n    <tr>\n      <th>3</th>\n      <td>2022-12-112023-03-12001901</td>\n      <td>20221225</td>\n      <td>2</td>\n    </tr>\n    <tr>\n      <th>4</th>\n      <td>2022-12-112023-03-12001901</td>\n      <td>20230101</td>\n      <td>2</td>\n    </tr>\n  </tbody>\n</table>\n</div>"
     },
     "execution_count": 4,
     "metadata": {},
     "output_type": "execute_result"
    }
   ],
   "source": [
    "calendar_dates = pd.read_csv(savepath+\"/calendar_dates.txt\", sep=\",\")\n",
    "\n",
    "calendar_dates.head()"
   ],
   "metadata": {
    "collapsed": false
   }
  },
  {
   "cell_type": "code",
   "execution_count": 5,
   "outputs": [],
   "source": [
    "# Parse date column\n",
    "calendar_dates.date = calendar_dates.date.apply(lambda d : datetime.datetime.strptime(str(d), '%Y%m%d'))"
   ],
   "metadata": {
    "collapsed": false
   }
  },
  {
   "cell_type": "code",
   "execution_count": 6,
   "outputs": [
    {
     "data": {
      "text/plain": "                   service_id       date  \\\n0  2022-11-302022-12-10001901 2022-12-04   \n1  2022-12-112023-03-12001901 2022-12-11   \n2  2022-12-112023-03-12001901 2022-12-18   \n3  2022-12-112023-03-12001901 2022-12-25   \n4  2022-12-112023-03-12001901 2023-01-01   \n\n   exception_type                                                                                                                                                                                                                                                                                                                                  \n0                                                  2                                                                                                                                                                                                                                                                                               \n1                                                  2                                                                                                                                                                                                                                                                                               \n2                                                  2                                                                                                                                                                                                                                                                                               \n3                                                  2                                                                                                                                                                                                                                                                                               \n4                                                  2                                                                                                                                                                                                                                                                                               ",
      "text/html": "<div>\n<style scoped>\n    .dataframe tbody tr th:only-of-type {\n        vertical-align: middle;\n    }\n\n    .dataframe tbody tr th {\n        vertical-align: top;\n    }\n\n    .dataframe thead th {\n        text-align: right;\n    }\n</style>\n<table border=\"1\" class=\"dataframe\">\n  <thead>\n    <tr style=\"text-align: right;\">\n      <th></th>\n      <th>service_id</th>\n      <th>date</th>\n      <th>exception_type</th>\n    </tr>\n  </thead>\n  <tbody>\n    <tr>\n      <th>0</th>\n      <td>2022-11-302022-12-10001901</td>\n      <td>2022-12-04</td>\n      <td>2</td>\n    </tr>\n    <tr>\n      <th>1</th>\n      <td>2022-12-112023-03-12001901</td>\n      <td>2022-12-11</td>\n      <td>2</td>\n    </tr>\n    <tr>\n      <th>2</th>\n      <td>2022-12-112023-03-12001901</td>\n      <td>2022-12-18</td>\n      <td>2</td>\n    </tr>\n    <tr>\n      <th>3</th>\n      <td>2022-12-112023-03-12001901</td>\n      <td>2022-12-25</td>\n      <td>2</td>\n    </tr>\n    <tr>\n      <th>4</th>\n      <td>2022-12-112023-03-12001901</td>\n      <td>2023-01-01</td>\n      <td>2</td>\n    </tr>\n  </tbody>\n</table>\n</div>"
     },
     "execution_count": 6,
     "metadata": {},
     "output_type": "execute_result"
    }
   ],
   "source": [
    "calendar_dates.head()"
   ],
   "metadata": {
    "collapsed": false
   }
  },
  {
   "cell_type": "code",
   "execution_count": 7,
   "outputs": [
    {
     "name": "stdout",
     "output_type": "stream",
     "text": [
      "['agency.txt', 'calendar_dates.txt', 'stop_times.txt', 'trips.txt', 'stops.txt', 'calendar.txt', 'routes.txt']\n"
     ]
    }
   ],
   "source": [
    "res = []\n",
    "\n",
    "# Iterate directory\n",
    "for filename in os.listdir(savepath):\n",
    "    # check only text files\n",
    "    if filename.endswith('.txt'):\n",
    "        res.append(filename)\n",
    "print(res)"
   ],
   "metadata": {
    "collapsed": false
   }
  },
  {
   "cell_type": "code",
   "execution_count": 8,
   "outputs": [],
   "source": [
    "renfe_schedules = {}\n",
    "\n",
    "savepath = \"datasets/\"\n",
    "\n",
    "for filename in os.listdir(savepath):\n",
    "    if filename.endswith('.txt'):\n",
    "        renfe_schedules[filename.split(\".\")[0]] = pd.read_csv(savepath+filename, delimiter=',')"
   ],
   "metadata": {
    "collapsed": false
   }
  },
  {
   "cell_type": "code",
   "execution_count": 9,
   "outputs": [
    {
     "data": {
      "text/plain": "dict_keys(['agency', 'calendar_dates', 'stop_times', 'trips', 'stops', 'calendar', 'routes'])"
     },
     "execution_count": 9,
     "metadata": {},
     "output_type": "execute_result"
    }
   ],
   "source": [
    "renfe_schedules.keys()"
   ],
   "metadata": {
    "collapsed": false
   }
  },
  {
   "cell_type": "code",
   "execution_count": 10,
   "outputs": [
    {
     "data": {
      "text/plain": "                       service_id      date  \\\n0      2022-11-302022-12-10001901  20221204   \n1      2022-12-112023-03-12001901  20221211   \n2      2022-12-112023-03-12001901  20221218   \n3      2022-12-112023-03-12001901  20221225   \n4      2022-12-112023-03-12001901  20230101   \n...                           ...       ...   \n50122  2022-11-302022-12-10385232  20221205   \n50123  2022-11-302022-12-10385232  20221206   \n50124  2022-11-302022-12-10385232  20221207   \n50125  2022-11-302022-12-10385232  20221208   \n50126  2022-11-302022-12-10385232  20221209   \n\n       exception_type                                                                                                                                                                                                                                                                                                                                  \n0                                                      2                                                                                                                                                                                                                                                                                               \n1                                                      2                                                                                                                                                                                                                                                                                               \n2                                                      2                                                                                                                                                                                                                                                                                               \n3                                                      2                                                                                                                                                                                                                                                                                               \n4                                                      2                                                                                                                                                                                                                                                                                               \n...                                                  ...                                                                                                                                                                                                                                                                                               \n50122                                                  2                                                                                                                                                                                                                                                                                               \n50123                                                  2                                                                                                                                                                                                                                                                                               \n50124                                                  2                                                                                                                                                                                                                                                                                               \n50125                                                  2                                                                                                                                                                                                                                                                                               \n50126                                                  2                                                                                                                                                                                                                                                                                               \n\n[50127 rows x 3 columns]",
      "text/html": "<div>\n<style scoped>\n    .dataframe tbody tr th:only-of-type {\n        vertical-align: middle;\n    }\n\n    .dataframe tbody tr th {\n        vertical-align: top;\n    }\n\n    .dataframe thead th {\n        text-align: right;\n    }\n</style>\n<table border=\"1\" class=\"dataframe\">\n  <thead>\n    <tr style=\"text-align: right;\">\n      <th></th>\n      <th>service_id</th>\n      <th>date</th>\n      <th>exception_type</th>\n    </tr>\n  </thead>\n  <tbody>\n    <tr>\n      <th>0</th>\n      <td>2022-11-302022-12-10001901</td>\n      <td>20221204</td>\n      <td>2</td>\n    </tr>\n    <tr>\n      <th>1</th>\n      <td>2022-12-112023-03-12001901</td>\n      <td>20221211</td>\n      <td>2</td>\n    </tr>\n    <tr>\n      <th>2</th>\n      <td>2022-12-112023-03-12001901</td>\n      <td>20221218</td>\n      <td>2</td>\n    </tr>\n    <tr>\n      <th>3</th>\n      <td>2022-12-112023-03-12001901</td>\n      <td>20221225</td>\n      <td>2</td>\n    </tr>\n    <tr>\n      <th>4</th>\n      <td>2022-12-112023-03-12001901</td>\n      <td>20230101</td>\n      <td>2</td>\n    </tr>\n    <tr>\n      <th>...</th>\n      <td>...</td>\n      <td>...</td>\n      <td>...</td>\n    </tr>\n    <tr>\n      <th>50122</th>\n      <td>2022-11-302022-12-10385232</td>\n      <td>20221205</td>\n      <td>2</td>\n    </tr>\n    <tr>\n      <th>50123</th>\n      <td>2022-11-302022-12-10385232</td>\n      <td>20221206</td>\n      <td>2</td>\n    </tr>\n    <tr>\n      <th>50124</th>\n      <td>2022-11-302022-12-10385232</td>\n      <td>20221207</td>\n      <td>2</td>\n    </tr>\n    <tr>\n      <th>50125</th>\n      <td>2022-11-302022-12-10385232</td>\n      <td>20221208</td>\n      <td>2</td>\n    </tr>\n    <tr>\n      <th>50126</th>\n      <td>2022-11-302022-12-10385232</td>\n      <td>20221209</td>\n      <td>2</td>\n    </tr>\n  </tbody>\n</table>\n<p>50127 rows × 3 columns</p>\n</div>"
     },
     "execution_count": 10,
     "metadata": {},
     "output_type": "execute_result"
    }
   ],
   "source": [
    "renfe_schedules['calendar_dates']"
   ],
   "metadata": {
    "collapsed": false
   }
  },
  {
   "cell_type": "code",
   "execution_count": 11,
   "outputs": [
    {
     "data": {
      "text/plain": "                       service_id        date  \\\n0      2022-11-302022-12-10001901  04/12/2022   \n1      2022-12-112023-03-12001901  11/12/2022   \n2      2022-12-112023-03-12001901  18/12/2022   \n3      2022-12-112023-03-12001901  25/12/2022   \n4      2022-12-112023-03-12001901  01/01/2023   \n...                           ...         ...   \n50122  2022-11-302022-12-10385232  05/12/2022   \n50123  2022-11-302022-12-10385232  06/12/2022   \n50124  2022-11-302022-12-10385232  07/12/2022   \n50125  2022-11-302022-12-10385232  08/12/2022   \n50126  2022-11-302022-12-10385232  09/12/2022   \n\n       exception_type                                                                                                                                                                                                                                                                                                                                  \n0                                                      2                                                                                                                                                                                                                                                                                               \n1                                                      2                                                                                                                                                                                                                                                                                               \n2                                                      2                                                                                                                                                                                                                                                                                               \n3                                                      2                                                                                                                                                                                                                                                                                               \n4                                                      2                                                                                                                                                                                                                                                                                               \n...                                                  ...                                                                                                                                                                                                                                                                                               \n50122                                                  2                                                                                                                                                                                                                                                                                               \n50123                                                  2                                                                                                                                                                                                                                                                                               \n50124                                                  2                                                                                                                                                                                                                                                                                               \n50125                                                  2                                                                                                                                                                                                                                                                                               \n50126                                                  2                                                                                                                                                                                                                                                                                               \n\n[50127 rows x 3 columns]",
      "text/html": "<div>\n<style scoped>\n    .dataframe tbody tr th:only-of-type {\n        vertical-align: middle;\n    }\n\n    .dataframe tbody tr th {\n        vertical-align: top;\n    }\n\n    .dataframe thead th {\n        text-align: right;\n    }\n</style>\n<table border=\"1\" class=\"dataframe\">\n  <thead>\n    <tr style=\"text-align: right;\">\n      <th></th>\n      <th>service_id</th>\n      <th>date</th>\n      <th>exception_type</th>\n    </tr>\n  </thead>\n  <tbody>\n    <tr>\n      <th>0</th>\n      <td>2022-11-302022-12-10001901</td>\n      <td>04/12/2022</td>\n      <td>2</td>\n    </tr>\n    <tr>\n      <th>1</th>\n      <td>2022-12-112023-03-12001901</td>\n      <td>11/12/2022</td>\n      <td>2</td>\n    </tr>\n    <tr>\n      <th>2</th>\n      <td>2022-12-112023-03-12001901</td>\n      <td>18/12/2022</td>\n      <td>2</td>\n    </tr>\n    <tr>\n      <th>3</th>\n      <td>2022-12-112023-03-12001901</td>\n      <td>25/12/2022</td>\n      <td>2</td>\n    </tr>\n    <tr>\n      <th>4</th>\n      <td>2022-12-112023-03-12001901</td>\n      <td>01/01/2023</td>\n      <td>2</td>\n    </tr>\n    <tr>\n      <th>...</th>\n      <td>...</td>\n      <td>...</td>\n      <td>...</td>\n    </tr>\n    <tr>\n      <th>50122</th>\n      <td>2022-11-302022-12-10385232</td>\n      <td>05/12/2022</td>\n      <td>2</td>\n    </tr>\n    <tr>\n      <th>50123</th>\n      <td>2022-11-302022-12-10385232</td>\n      <td>06/12/2022</td>\n      <td>2</td>\n    </tr>\n    <tr>\n      <th>50124</th>\n      <td>2022-11-302022-12-10385232</td>\n      <td>07/12/2022</td>\n      <td>2</td>\n    </tr>\n    <tr>\n      <th>50125</th>\n      <td>2022-11-302022-12-10385232</td>\n      <td>08/12/2022</td>\n      <td>2</td>\n    </tr>\n    <tr>\n      <th>50126</th>\n      <td>2022-11-302022-12-10385232</td>\n      <td>09/12/2022</td>\n      <td>2</td>\n    </tr>\n  </tbody>\n</table>\n<p>50127 rows × 3 columns</p>\n</div>"
     },
     "execution_count": 11,
     "metadata": {},
     "output_type": "execute_result"
    }
   ],
   "source": [
    "# Parse date of service to format: Day/Month/Year\n",
    "\n",
    "parse_date = lambda d : datetime.datetime.strptime(str(d), '%Y%m%d').date().strftime(\"%d/%m/%Y\")\n",
    "\n",
    "renfe_schedules['calendar_dates'].date = renfe_schedules['calendar_dates'].date.apply(parse_date)\n",
    "\n",
    "renfe_schedules['calendar_dates']"
   ],
   "metadata": {
    "collapsed": false
   }
  },
  {
   "cell_type": "code",
   "execution_count": 12,
   "outputs": [
    {
     "data": {
      "text/plain": "            route_id  agency_id route_short_name  route_long_name  route_desc  \\\n0    7180161307GL026       1071        Intercity              NaN         NaN   \n1    7180161200GL026       1071        Intercity              NaN         NaN   \n2    1700037606GL026       1071        Intercity              NaN         NaN   \n3    3760617000GL026       1071        Intercity              NaN         NaN   \n4    1700037606GL023       1071            ALVIA              NaN         NaN   \n..               ...        ...              ...              ...         ...   \n598    8111081100VRM       1071               MD              NaN         NaN   \n599    8110081110VRM       1071               MD              NaN         NaN   \n600    1510022308VRM       1071               MD              NaN         NaN   \n601    1510022100VRM       1071               MD              NaN         NaN   \n602    0500002003VRX       1071               MD              NaN         NaN   \n\n     route_type  route_url route_color  \\\n0             2        NaN      F2F5F5   \n1             2        NaN      F2F5F5   \n2             2        NaN      F2F5F5   \n3             2        NaN      F2F5F5   \n4             2        NaN      F2F5F5   \n..          ...        ...         ...   \n598           2        NaN      F2F5F5   \n599           2        NaN      F2F5F5   \n600           2        NaN      F2F5F5   \n601           2        NaN      F2F5F5   \n602           2        NaN      F2F5F5   \n\n    route_text_color                                                                                                                                                                                                                                                \n0                                                  ...                                                                                                                                                                                                              \n1                                                  ...                                                                                                                                                                                                              \n2                                                  ...                                                                                                                                                                                                              \n3                                                  ...                                                                                                                                                                                                              \n4                                                  ...                                                                                                                                                                                                              \n..                                                 ...                                                                                                                                                                                                              \n598                                                ...                                                                                                                                                                                                              \n599                                                ...                                                                                                                                                                                                              \n600                                                ...                                                                                                                                                                                                              \n601                                                ...                                                                                                                                                                                                              \n602                                                ...                                                                                                                                                                                                              \n\n[603 rows x 9 columns]",
      "text/html": "<div>\n<style scoped>\n    .dataframe tbody tr th:only-of-type {\n        vertical-align: middle;\n    }\n\n    .dataframe tbody tr th {\n        vertical-align: top;\n    }\n\n    .dataframe thead th {\n        text-align: right;\n    }\n</style>\n<table border=\"1\" class=\"dataframe\">\n  <thead>\n    <tr style=\"text-align: right;\">\n      <th></th>\n      <th>route_id</th>\n      <th>agency_id</th>\n      <th>route_short_name</th>\n      <th>route_long_name</th>\n      <th>route_desc</th>\n      <th>route_type</th>\n      <th>route_url</th>\n      <th>route_color</th>\n      <th>route_text_color</th>\n    </tr>\n  </thead>\n  <tbody>\n    <tr>\n      <th>0</th>\n      <td>7180161307GL026</td>\n      <td>1071</td>\n      <td>Intercity</td>\n      <td>NaN</td>\n      <td>NaN</td>\n      <td>2</td>\n      <td>NaN</td>\n      <td>F2F5F5</td>\n      <td>...</td>\n    </tr>\n    <tr>\n      <th>1</th>\n      <td>7180161200GL026</td>\n      <td>1071</td>\n      <td>Intercity</td>\n      <td>NaN</td>\n      <td>NaN</td>\n      <td>2</td>\n      <td>NaN</td>\n      <td>F2F5F5</td>\n      <td>...</td>\n    </tr>\n    <tr>\n      <th>2</th>\n      <td>1700037606GL026</td>\n      <td>1071</td>\n      <td>Intercity</td>\n      <td>NaN</td>\n      <td>NaN</td>\n      <td>2</td>\n      <td>NaN</td>\n      <td>F2F5F5</td>\n      <td>...</td>\n    </tr>\n    <tr>\n      <th>3</th>\n      <td>3760617000GL026</td>\n      <td>1071</td>\n      <td>Intercity</td>\n      <td>NaN</td>\n      <td>NaN</td>\n      <td>2</td>\n      <td>NaN</td>\n      <td>F2F5F5</td>\n      <td>...</td>\n    </tr>\n    <tr>\n      <th>4</th>\n      <td>1700037606GL023</td>\n      <td>1071</td>\n      <td>ALVIA</td>\n      <td>NaN</td>\n      <td>NaN</td>\n      <td>2</td>\n      <td>NaN</td>\n      <td>F2F5F5</td>\n      <td>...</td>\n    </tr>\n    <tr>\n      <th>...</th>\n      <td>...</td>\n      <td>...</td>\n      <td>...</td>\n      <td>...</td>\n      <td>...</td>\n      <td>...</td>\n      <td>...</td>\n      <td>...</td>\n      <td>...</td>\n    </tr>\n    <tr>\n      <th>598</th>\n      <td>8111081100VRM</td>\n      <td>1071</td>\n      <td>MD</td>\n      <td>NaN</td>\n      <td>NaN</td>\n      <td>2</td>\n      <td>NaN</td>\n      <td>F2F5F5</td>\n      <td>...</td>\n    </tr>\n    <tr>\n      <th>599</th>\n      <td>8110081110VRM</td>\n      <td>1071</td>\n      <td>MD</td>\n      <td>NaN</td>\n      <td>NaN</td>\n      <td>2</td>\n      <td>NaN</td>\n      <td>F2F5F5</td>\n      <td>...</td>\n    </tr>\n    <tr>\n      <th>600</th>\n      <td>1510022308VRM</td>\n      <td>1071</td>\n      <td>MD</td>\n      <td>NaN</td>\n      <td>NaN</td>\n      <td>2</td>\n      <td>NaN</td>\n      <td>F2F5F5</td>\n      <td>...</td>\n    </tr>\n    <tr>\n      <th>601</th>\n      <td>1510022100VRM</td>\n      <td>1071</td>\n      <td>MD</td>\n      <td>NaN</td>\n      <td>NaN</td>\n      <td>2</td>\n      <td>NaN</td>\n      <td>F2F5F5</td>\n      <td>...</td>\n    </tr>\n    <tr>\n      <th>602</th>\n      <td>0500002003VRX</td>\n      <td>1071</td>\n      <td>MD</td>\n      <td>NaN</td>\n      <td>NaN</td>\n      <td>2</td>\n      <td>NaN</td>\n      <td>F2F5F5</td>\n      <td>...</td>\n    </tr>\n  </tbody>\n</table>\n<p>603 rows × 9 columns</p>\n</div>"
     },
     "execution_count": 12,
     "metadata": {},
     "output_type": "execute_result"
    }
   ],
   "source": [
    "renfe_schedules['routes']"
   ],
   "metadata": {
    "collapsed": false
   }
  },
  {
   "cell_type": "code",
   "execution_count": 13,
   "outputs": [
    {
     "data": {
      "text/plain": "{'ALVIA',\n 'AVANT',\n 'AVE',\n 'AVE-TGV',\n 'AVLO',\n 'EUROMED',\n 'Intercity',\n 'MD',\n 'REG.EXP.',\n 'REGIONAL',\n 'RODALIES',\n 'TORRE ORO'}"
     },
     "execution_count": 13,
     "metadata": {},
     "output_type": "execute_result"
    }
   ],
   "source": [
    "x = renfe_schedules['routes'].route_short_name.values\n",
    "\n",
    "x = set(x)\n",
    "\n",
    "x"
   ],
   "metadata": {
    "collapsed": false
   }
  },
  {
   "cell_type": "code",
   "execution_count": 14,
   "outputs": [
    {
     "data": {
      "text/plain": "            route_id  agency_id route_short_name  route_long_name  route_desc  \\\n4    1700037606GL023       1071            ALVIA              NaN         NaN   \n5    3760617000GL023       1071            ALVIA              NaN         NaN   \n16   1320071801GL023       1071            ALVIA              NaN         NaN   \n17   0404071801GL023       1071            ALVIA              NaN         NaN   \n18   1320011200GL023       1071            ALVIA              NaN         NaN   \n..               ...        ...              ...              ...         ...   \n231  0430760000LC112       1071             AVLO              NaN         NaN   \n232  7180160000LC112       1071             AVLO              NaN         NaN   \n233  6000004307LC112       1071             AVLO              NaN         NaN   \n234  6000003216LC112       1071             AVLO              NaN         NaN   \n235  0321660000LC112       1071             AVLO              NaN         NaN   \n\n     route_type  route_url route_color  \\\n4             2        NaN      F2F5F5   \n5             2        NaN      F2F5F5   \n16            2        NaN      F2F5F5   \n17            2        NaN      F2F5F5   \n18            2        NaN      F2F5F5   \n..          ...        ...         ...   \n231           2        NaN      F2F5F5   \n232           2        NaN      F2F5F5   \n233           2        NaN      F2F5F5   \n234           2        NaN      F2F5F5   \n235           2        NaN      F2F5F5   \n\n    route_text_color                                                                                                                                                                                                                                                \n4                                                  ...                                                                                                                                                                                                              \n5                                                  ...                                                                                                                                                                                                              \n16                                                 ...                                                                                                                                                                                                              \n17                                                 ...                                                                                                                                                                                                              \n18                                                 ...                                                                                                                                                                                                              \n..                                                 ...                                                                                                                                                                                                              \n231                                                ...                                                                                                                                                                                                              \n232                                                ...                                                                                                                                                                                                              \n233                                                ...                                                                                                                                                                                                              \n234                                                ...                                                                                                                                                                                                              \n235                                                ...                                                                                                                                                                                                              \n\n[167 rows x 9 columns]",
      "text/html": "<div>\n<style scoped>\n    .dataframe tbody tr th:only-of-type {\n        vertical-align: middle;\n    }\n\n    .dataframe tbody tr th {\n        vertical-align: top;\n    }\n\n    .dataframe thead th {\n        text-align: right;\n    }\n</style>\n<table border=\"1\" class=\"dataframe\">\n  <thead>\n    <tr style=\"text-align: right;\">\n      <th></th>\n      <th>route_id</th>\n      <th>agency_id</th>\n      <th>route_short_name</th>\n      <th>route_long_name</th>\n      <th>route_desc</th>\n      <th>route_type</th>\n      <th>route_url</th>\n      <th>route_color</th>\n      <th>route_text_color</th>\n    </tr>\n  </thead>\n  <tbody>\n    <tr>\n      <th>4</th>\n      <td>1700037606GL023</td>\n      <td>1071</td>\n      <td>ALVIA</td>\n      <td>NaN</td>\n      <td>NaN</td>\n      <td>2</td>\n      <td>NaN</td>\n      <td>F2F5F5</td>\n      <td>...</td>\n    </tr>\n    <tr>\n      <th>5</th>\n      <td>3760617000GL023</td>\n      <td>1071</td>\n      <td>ALVIA</td>\n      <td>NaN</td>\n      <td>NaN</td>\n      <td>2</td>\n      <td>NaN</td>\n      <td>F2F5F5</td>\n      <td>...</td>\n    </tr>\n    <tr>\n      <th>16</th>\n      <td>1320071801GL023</td>\n      <td>1071</td>\n      <td>ALVIA</td>\n      <td>NaN</td>\n      <td>NaN</td>\n      <td>2</td>\n      <td>NaN</td>\n      <td>F2F5F5</td>\n      <td>...</td>\n    </tr>\n    <tr>\n      <th>17</th>\n      <td>0404071801GL023</td>\n      <td>1071</td>\n      <td>ALVIA</td>\n      <td>NaN</td>\n      <td>NaN</td>\n      <td>2</td>\n      <td>NaN</td>\n      <td>F2F5F5</td>\n      <td>...</td>\n    </tr>\n    <tr>\n      <th>18</th>\n      <td>1320011200GL023</td>\n      <td>1071</td>\n      <td>ALVIA</td>\n      <td>NaN</td>\n      <td>NaN</td>\n      <td>2</td>\n      <td>NaN</td>\n      <td>F2F5F5</td>\n      <td>...</td>\n    </tr>\n    <tr>\n      <th>...</th>\n      <td>...</td>\n      <td>...</td>\n      <td>...</td>\n      <td>...</td>\n      <td>...</td>\n      <td>...</td>\n      <td>...</td>\n      <td>...</td>\n      <td>...</td>\n    </tr>\n    <tr>\n      <th>231</th>\n      <td>0430760000LC112</td>\n      <td>1071</td>\n      <td>AVLO</td>\n      <td>NaN</td>\n      <td>NaN</td>\n      <td>2</td>\n      <td>NaN</td>\n      <td>F2F5F5</td>\n      <td>...</td>\n    </tr>\n    <tr>\n      <th>232</th>\n      <td>7180160000LC112</td>\n      <td>1071</td>\n      <td>AVLO</td>\n      <td>NaN</td>\n      <td>NaN</td>\n      <td>2</td>\n      <td>NaN</td>\n      <td>F2F5F5</td>\n      <td>...</td>\n    </tr>\n    <tr>\n      <th>233</th>\n      <td>6000004307LC112</td>\n      <td>1071</td>\n      <td>AVLO</td>\n      <td>NaN</td>\n      <td>NaN</td>\n      <td>2</td>\n      <td>NaN</td>\n      <td>F2F5F5</td>\n      <td>...</td>\n    </tr>\n    <tr>\n      <th>234</th>\n      <td>6000003216LC112</td>\n      <td>1071</td>\n      <td>AVLO</td>\n      <td>NaN</td>\n      <td>NaN</td>\n      <td>2</td>\n      <td>NaN</td>\n      <td>F2F5F5</td>\n      <td>...</td>\n    </tr>\n    <tr>\n      <th>235</th>\n      <td>0321660000LC112</td>\n      <td>1071</td>\n      <td>AVLO</td>\n      <td>NaN</td>\n      <td>NaN</td>\n      <td>2</td>\n      <td>NaN</td>\n      <td>F2F5F5</td>\n      <td>...</td>\n    </tr>\n  </tbody>\n</table>\n<p>167 rows × 9 columns</p>\n</div>"
     },
     "execution_count": 14,
     "metadata": {},
     "output_type": "execute_result"
    }
   ],
   "source": [
    "# Servicios alta velocidad y larga distancia en territorio español\n",
    "s = {'ALVIA', 'AVE', 'AVLO'}\n",
    "\n",
    "renfe_schedules['routes'] = renfe_schedules['routes'][renfe_schedules['routes']['route_short_name'].isin(s)]\n",
    "\n",
    "renfe_schedules['routes']"
   ],
   "metadata": {
    "collapsed": false
   }
  },
  {
   "cell_type": "code",
   "execution_count": 15,
   "outputs": [
    {
     "data": {
      "text/plain": "              route_id                  service_id           trip_id  \\\n0      7180161307GL026  2022-11-302022-12-10001651  0016512022-11-30   \n1      7180161200GL026  2022-11-302022-12-10001653  0016532022-11-30   \n2      1700037606GL026  2022-11-302022-12-10001901  0019012022-11-30   \n3      1700037606GL026  2022-12-112023-03-12001901  0019012022-12-11   \n4      1700037606GL026  2022-11-302022-12-10001902  0019022022-11-30   \n...                ...                         ...               ...   \n15724  6000003216AV006  2022-12-242022-12-24950701  9507012022-12-24   \n15725  6000003216AV006  2022-12-252023-02-05950701  9507012022-12-25   \n15726  6000003216AV006  2023-02-062023-02-06950701  9507012023-02-06   \n15727  6000003216AV006  2023-02-072023-02-07950701  9507012023-02-07   \n15728  6000003216AV006  2023-02-082023-12-31950701  9507012023-02-08   \n\n       trip_headsign  trip_short_name  direction_id  block_id  shape_id  \\\n0                NaN              165           NaN       NaN       NaN   \n1                NaN              165           NaN       NaN       NaN   \n2                NaN              190           NaN       NaN       NaN   \n3                NaN              190           NaN       NaN       NaN   \n4                NaN              190           NaN       NaN       NaN   \n...              ...              ...           ...       ...       ...   \n15724            NaN            95070           NaN       NaN       NaN   \n15725            NaN            95070           NaN       NaN       NaN   \n15726            NaN            95070           NaN       NaN       NaN   \n15727            NaN            95070           NaN       NaN       NaN   \n15728            NaN            95070           NaN       NaN       NaN   \n\n       wheelchair_accessible                                                                                                                                                                                                                                                  \n0                                                      1                                                                                                                                                                                                                      \n1                                                      2                                                                                                                                                                                                                      \n2                                                      1                                                                                                                                                                                                                      \n3                                                      1                                                                                                                                                                                                                      \n4                                                      2                                                                                                                                                                                                                      \n...                                                  ...                                                                                                                                                                                                                      \n15724                                                  2                                                                                                                                                                                                                      \n15725                                                  2                                                                                                                                                                                                                      \n15726                                                  2                                                                                                                                                                                                                      \n15727                                                  2                                                                                                                                                                                                                      \n15728                                                  2                                                                                                                                                                                                                      \n\n[15729 rows x 9 columns]",
      "text/html": "<div>\n<style scoped>\n    .dataframe tbody tr th:only-of-type {\n        vertical-align: middle;\n    }\n\n    .dataframe tbody tr th {\n        vertical-align: top;\n    }\n\n    .dataframe thead th {\n        text-align: right;\n    }\n</style>\n<table border=\"1\" class=\"dataframe\">\n  <thead>\n    <tr style=\"text-align: right;\">\n      <th></th>\n      <th>route_id</th>\n      <th>service_id</th>\n      <th>trip_id</th>\n      <th>trip_headsign</th>\n      <th>trip_short_name</th>\n      <th>direction_id</th>\n      <th>block_id</th>\n      <th>shape_id</th>\n      <th>wheelchair_accessible</th>\n    </tr>\n  </thead>\n  <tbody>\n    <tr>\n      <th>0</th>\n      <td>7180161307GL026</td>\n      <td>2022-11-302022-12-10001651</td>\n      <td>0016512022-11-30</td>\n      <td>NaN</td>\n      <td>165</td>\n      <td>NaN</td>\n      <td>NaN</td>\n      <td>NaN</td>\n      <td>1</td>\n    </tr>\n    <tr>\n      <th>1</th>\n      <td>7180161200GL026</td>\n      <td>2022-11-302022-12-10001653</td>\n      <td>0016532022-11-30</td>\n      <td>NaN</td>\n      <td>165</td>\n      <td>NaN</td>\n      <td>NaN</td>\n      <td>NaN</td>\n      <td>2</td>\n    </tr>\n    <tr>\n      <th>2</th>\n      <td>1700037606GL026</td>\n      <td>2022-11-302022-12-10001901</td>\n      <td>0019012022-11-30</td>\n      <td>NaN</td>\n      <td>190</td>\n      <td>NaN</td>\n      <td>NaN</td>\n      <td>NaN</td>\n      <td>1</td>\n    </tr>\n    <tr>\n      <th>3</th>\n      <td>1700037606GL026</td>\n      <td>2022-12-112023-03-12001901</td>\n      <td>0019012022-12-11</td>\n      <td>NaN</td>\n      <td>190</td>\n      <td>NaN</td>\n      <td>NaN</td>\n      <td>NaN</td>\n      <td>1</td>\n    </tr>\n    <tr>\n      <th>4</th>\n      <td>1700037606GL026</td>\n      <td>2022-11-302022-12-10001902</td>\n      <td>0019022022-11-30</td>\n      <td>NaN</td>\n      <td>190</td>\n      <td>NaN</td>\n      <td>NaN</td>\n      <td>NaN</td>\n      <td>2</td>\n    </tr>\n    <tr>\n      <th>...</th>\n      <td>...</td>\n      <td>...</td>\n      <td>...</td>\n      <td>...</td>\n      <td>...</td>\n      <td>...</td>\n      <td>...</td>\n      <td>...</td>\n      <td>...</td>\n    </tr>\n    <tr>\n      <th>15724</th>\n      <td>6000003216AV006</td>\n      <td>2022-12-242022-12-24950701</td>\n      <td>9507012022-12-24</td>\n      <td>NaN</td>\n      <td>95070</td>\n      <td>NaN</td>\n      <td>NaN</td>\n      <td>NaN</td>\n      <td>2</td>\n    </tr>\n    <tr>\n      <th>15725</th>\n      <td>6000003216AV006</td>\n      <td>2022-12-252023-02-05950701</td>\n      <td>9507012022-12-25</td>\n      <td>NaN</td>\n      <td>95070</td>\n      <td>NaN</td>\n      <td>NaN</td>\n      <td>NaN</td>\n      <td>2</td>\n    </tr>\n    <tr>\n      <th>15726</th>\n      <td>6000003216AV006</td>\n      <td>2023-02-062023-02-06950701</td>\n      <td>9507012023-02-06</td>\n      <td>NaN</td>\n      <td>95070</td>\n      <td>NaN</td>\n      <td>NaN</td>\n      <td>NaN</td>\n      <td>2</td>\n    </tr>\n    <tr>\n      <th>15727</th>\n      <td>6000003216AV006</td>\n      <td>2023-02-072023-02-07950701</td>\n      <td>9507012023-02-07</td>\n      <td>NaN</td>\n      <td>95070</td>\n      <td>NaN</td>\n      <td>NaN</td>\n      <td>NaN</td>\n      <td>2</td>\n    </tr>\n    <tr>\n      <th>15728</th>\n      <td>6000003216AV006</td>\n      <td>2023-02-082023-12-31950701</td>\n      <td>9507012023-02-08</td>\n      <td>NaN</td>\n      <td>95070</td>\n      <td>NaN</td>\n      <td>NaN</td>\n      <td>NaN</td>\n      <td>2</td>\n    </tr>\n  </tbody>\n</table>\n<p>15729 rows × 9 columns</p>\n</div>"
     },
     "execution_count": 15,
     "metadata": {},
     "output_type": "execute_result"
    }
   ],
   "source": [
    "# Filter Route id contains GL (ALVIA), AV (AVE) or LC (AVLO)\n",
    "\n",
    "renfe_schedules['trips']"
   ],
   "metadata": {
    "collapsed": false
   }
  },
  {
   "cell_type": "code",
   "execution_count": 16,
   "outputs": [
    {
     "data": {
      "text/plain": "              route_id                  service_id           trip_id  \\\n0      7180161307GL026  2022-11-302022-12-10001651  0016512022-11-30   \n1      7180161200GL026  2022-11-302022-12-10001653  0016532022-11-30   \n2      1700037606GL026  2022-11-302022-12-10001901  0019012022-11-30   \n3      1700037606GL026  2022-12-112023-03-12001901  0019012022-12-11   \n4      1700037606GL026  2022-11-302022-12-10001902  0019022022-11-30   \n...                ...                         ...               ...   \n15724  6000003216AV006  2022-12-242022-12-24950701  9507012022-12-24   \n15725  6000003216AV006  2022-12-252023-02-05950701  9507012022-12-25   \n15726  6000003216AV006  2023-02-062023-02-06950701  9507012023-02-06   \n15727  6000003216AV006  2023-02-072023-02-07950701  9507012023-02-07   \n15728  6000003216AV006  2023-02-082023-12-31950701  9507012023-02-08   \n\n       trip_headsign  trip_short_name  direction_id  block_id  shape_id  \\\n0                NaN              165           NaN       NaN       NaN   \n1                NaN              165           NaN       NaN       NaN   \n2                NaN              190           NaN       NaN       NaN   \n3                NaN              190           NaN       NaN       NaN   \n4                NaN              190           NaN       NaN       NaN   \n...              ...              ...           ...       ...       ...   \n15724            NaN            95070           NaN       NaN       NaN   \n15725            NaN            95070           NaN       NaN       NaN   \n15726            NaN            95070           NaN       NaN       NaN   \n15727            NaN            95070           NaN       NaN       NaN   \n15728            NaN            95070           NaN       NaN       NaN   \n\n       wheelchair_accessible                                                                                                                                                                                                                                                  \n0                                                      1                                                                                                                                                                                                                      \n1                                                      2                                                                                                                                                                                                                      \n2                                                      1                                                                                                                                                                                                                      \n3                                                      1                                                                                                                                                                                                                      \n4                                                      2                                                                                                                                                                                                                      \n...                                                  ...                                                                                                                                                                                                                      \n15724                                                  2                                                                                                                                                                                                                      \n15725                                                  2                                                                                                                                                                                                                      \n15726                                                  2                                                                                                                                                                                                                      \n15727                                                  2                                                                                                                                                                                                                      \n15728                                                  2                                                                                                                                                                                                                      \n\n[12036 rows x 9 columns]",
      "text/html": "<div>\n<style scoped>\n    .dataframe tbody tr th:only-of-type {\n        vertical-align: middle;\n    }\n\n    .dataframe tbody tr th {\n        vertical-align: top;\n    }\n\n    .dataframe thead th {\n        text-align: right;\n    }\n</style>\n<table border=\"1\" class=\"dataframe\">\n  <thead>\n    <tr style=\"text-align: right;\">\n      <th></th>\n      <th>route_id</th>\n      <th>service_id</th>\n      <th>trip_id</th>\n      <th>trip_headsign</th>\n      <th>trip_short_name</th>\n      <th>direction_id</th>\n      <th>block_id</th>\n      <th>shape_id</th>\n      <th>wheelchair_accessible</th>\n    </tr>\n  </thead>\n  <tbody>\n    <tr>\n      <th>0</th>\n      <td>7180161307GL026</td>\n      <td>2022-11-302022-12-10001651</td>\n      <td>0016512022-11-30</td>\n      <td>NaN</td>\n      <td>165</td>\n      <td>NaN</td>\n      <td>NaN</td>\n      <td>NaN</td>\n      <td>1</td>\n    </tr>\n    <tr>\n      <th>1</th>\n      <td>7180161200GL026</td>\n      <td>2022-11-302022-12-10001653</td>\n      <td>0016532022-11-30</td>\n      <td>NaN</td>\n      <td>165</td>\n      <td>NaN</td>\n      <td>NaN</td>\n      <td>NaN</td>\n      <td>2</td>\n    </tr>\n    <tr>\n      <th>2</th>\n      <td>1700037606GL026</td>\n      <td>2022-11-302022-12-10001901</td>\n      <td>0019012022-11-30</td>\n      <td>NaN</td>\n      <td>190</td>\n      <td>NaN</td>\n      <td>NaN</td>\n      <td>NaN</td>\n      <td>1</td>\n    </tr>\n    <tr>\n      <th>3</th>\n      <td>1700037606GL026</td>\n      <td>2022-12-112023-03-12001901</td>\n      <td>0019012022-12-11</td>\n      <td>NaN</td>\n      <td>190</td>\n      <td>NaN</td>\n      <td>NaN</td>\n      <td>NaN</td>\n      <td>1</td>\n    </tr>\n    <tr>\n      <th>4</th>\n      <td>1700037606GL026</td>\n      <td>2022-11-302022-12-10001902</td>\n      <td>0019022022-11-30</td>\n      <td>NaN</td>\n      <td>190</td>\n      <td>NaN</td>\n      <td>NaN</td>\n      <td>NaN</td>\n      <td>2</td>\n    </tr>\n    <tr>\n      <th>...</th>\n      <td>...</td>\n      <td>...</td>\n      <td>...</td>\n      <td>...</td>\n      <td>...</td>\n      <td>...</td>\n      <td>...</td>\n      <td>...</td>\n      <td>...</td>\n    </tr>\n    <tr>\n      <th>15724</th>\n      <td>6000003216AV006</td>\n      <td>2022-12-242022-12-24950701</td>\n      <td>9507012022-12-24</td>\n      <td>NaN</td>\n      <td>95070</td>\n      <td>NaN</td>\n      <td>NaN</td>\n      <td>NaN</td>\n      <td>2</td>\n    </tr>\n    <tr>\n      <th>15725</th>\n      <td>6000003216AV006</td>\n      <td>2022-12-252023-02-05950701</td>\n      <td>9507012022-12-25</td>\n      <td>NaN</td>\n      <td>95070</td>\n      <td>NaN</td>\n      <td>NaN</td>\n      <td>NaN</td>\n      <td>2</td>\n    </tr>\n    <tr>\n      <th>15726</th>\n      <td>6000003216AV006</td>\n      <td>2023-02-062023-02-06950701</td>\n      <td>9507012023-02-06</td>\n      <td>NaN</td>\n      <td>95070</td>\n      <td>NaN</td>\n      <td>NaN</td>\n      <td>NaN</td>\n      <td>2</td>\n    </tr>\n    <tr>\n      <th>15727</th>\n      <td>6000003216AV006</td>\n      <td>2023-02-072023-02-07950701</td>\n      <td>9507012023-02-07</td>\n      <td>NaN</td>\n      <td>95070</td>\n      <td>NaN</td>\n      <td>NaN</td>\n      <td>NaN</td>\n      <td>2</td>\n    </tr>\n    <tr>\n      <th>15728</th>\n      <td>6000003216AV006</td>\n      <td>2023-02-082023-12-31950701</td>\n      <td>9507012023-02-08</td>\n      <td>NaN</td>\n      <td>95070</td>\n      <td>NaN</td>\n      <td>NaN</td>\n      <td>NaN</td>\n      <td>2</td>\n    </tr>\n  </tbody>\n</table>\n<p>12036 rows × 9 columns</p>\n</div>"
     },
     "execution_count": 16,
     "metadata": {},
     "output_type": "execute_result"
    }
   ],
   "source": [
    "s = {'GL', 'AV', 'LC'}\n",
    "\n",
    "# Service id es único\n",
    "# Toute ids se repiten\n",
    "\n",
    "renfe_schedules['trips'] = renfe_schedules['trips'][renfe_schedules['trips']['route_id'].str.contains('|'.join(s))]\n",
    "\n",
    "renfe_schedules['trips']"
   ],
   "metadata": {
    "collapsed": false
   }
  },
  {
   "cell_type": "code",
   "execution_count": 17,
   "outputs": [
    {
     "data": {
      "text/plain": "292"
     },
     "execution_count": 17,
     "metadata": {},
     "output_type": "execute_result"
    }
   ],
   "source": [
    "x = renfe_schedules['trips'].route_id.values\n",
    "\n",
    "x = len(set(x))\n",
    "\n",
    "x"
   ],
   "metadata": {
    "collapsed": false
   }
  },
  {
   "cell_type": "code",
   "execution_count": 17,
   "outputs": [],
   "source": [],
   "metadata": {
    "collapsed": false
   }
  }
 ],
 "metadata": {
  "kernelspec": {
   "display_name": "Python 3",
   "language": "python",
   "name": "python3"
  },
  "language_info": {
   "codemirror_mode": {
    "name": "ipython",
    "version": 2
   },
   "file_extension": ".py",
   "mimetype": "text/x-python",
   "name": "python",
   "nbconvert_exporter": "python",
   "pygments_lexer": "ipython2",
   "version": "2.7.6"
  }
 },
 "nbformat": 4,
 "nbformat_minor": 0
}
