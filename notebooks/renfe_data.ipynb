{
 "cells": [
  {
   "cell_type": "code",
   "execution_count": 2,
   "outputs": [
    {
     "name": "stdout",
     "output_type": "stream",
     "text": [
      "Downloading Completed\n"
     ]
    }
   ],
   "source": [
    "import requests\n",
    "import os\n",
    "\n",
    "# Renfe Horarios de alta velocidad, larga distancia y media distancia\n",
    "url = 'https://ssl.renfe.com/gtransit/Fichero_AV_LD/google_transit.zip'\n",
    "\n",
    "# Download zip file\n",
    "req = requests.get(url)\n",
    "\n",
    "# Get file name from url\n",
    "filename = url.split('/')[-1]\n",
    "\n",
    "savepath = \"datasets/\"\n",
    "\n",
    "if not os.path.exists(savepath):\n",
    "   os.makedirs(savepath)\n",
    "\n",
    "# Writing the file to the local file system\n",
    "with open(savepath+filename, 'wb') as output_file:\n",
    "    output_file.write(req.content)\n",
    "\n",
    "print('Downloading Completed')"
   ],
   "metadata": {
    "collapsed": false
   }
  },
  {
   "cell_type": "code",
   "execution_count": 3,
   "outputs": [],
   "source": [
    "import shutil\n",
    "\n",
    "# Unzip zip\n",
    "shutil.unpack_archive(savepath+filename, savepath)"
   ],
   "metadata": {
    "collapsed": false
   }
  },
  {
   "cell_type": "code",
   "execution_count": 4,
   "metadata": {
    "collapsed": true
   },
   "outputs": [
    {
     "data": {
      "text/plain": "   agency_id      agency_name            agency_url agency_timezone  \\\n0       1071  RENFE OPERADORA  http://www.renfe.com   Europe/Madrid   \n\n  agency_lang  \\\n0          ES   \n\n   agency_phone                                                                                                                                                                                                                                                                                       \n0                                          902320320                                                                                                                                                                                                                                                  ",
      "text/html": "<div>\n<style scoped>\n    .dataframe tbody tr th:only-of-type {\n        vertical-align: middle;\n    }\n\n    .dataframe tbody tr th {\n        vertical-align: top;\n    }\n\n    .dataframe thead th {\n        text-align: right;\n    }\n</style>\n<table border=\"1\" class=\"dataframe\">\n  <thead>\n    <tr style=\"text-align: right;\">\n      <th></th>\n      <th>agency_id</th>\n      <th>agency_name</th>\n      <th>agency_url</th>\n      <th>agency_timezone</th>\n      <th>agency_lang</th>\n      <th>agency_phone</th>\n    </tr>\n  </thead>\n  <tbody>\n    <tr>\n      <th>0</th>\n      <td>1071</td>\n      <td>RENFE OPERADORA</td>\n      <td>http://www.renfe.com</td>\n      <td>Europe/Madrid</td>\n      <td>ES</td>\n      <td>902320320</td>\n    </tr>\n  </tbody>\n</table>\n</div>"
     },
     "execution_count": 4,
     "metadata": {},
     "output_type": "execute_result"
    }
   ],
   "source": [
    "import pandas as pd\n",
    "\n",
    "agency = pd.read_csv(savepath+\"/agency.txt\", sep=\",\")\n",
    "\n",
    "agency.head()"
   ]
  },
  {
   "cell_type": "code",
   "execution_count": 5,
   "outputs": [
    {
     "data": {
      "text/plain": "                   service_id      date  \\\n0  2022-11-302022-12-10001901  20221204   \n1  2022-12-112023-03-12001901  20221211   \n2  2022-12-112023-03-12001901  20221218   \n3  2022-12-112023-03-12001901  20221225   \n4  2022-12-112023-03-12001901  20230101   \n\n   exception_type                                                                                                                                                                                                                                                                                                                                  \n0                                                  2                                                                                                                                                                                                                                                                                               \n1                                                  2                                                                                                                                                                                                                                                                                               \n2                                                  2                                                                                                                                                                                                                                                                                               \n3                                                  2                                                                                                                                                                                                                                                                                               \n4                                                  2                                                                                                                                                                                                                                                                                               ",
      "text/html": "<div>\n<style scoped>\n    .dataframe tbody tr th:only-of-type {\n        vertical-align: middle;\n    }\n\n    .dataframe tbody tr th {\n        vertical-align: top;\n    }\n\n    .dataframe thead th {\n        text-align: right;\n    }\n</style>\n<table border=\"1\" class=\"dataframe\">\n  <thead>\n    <tr style=\"text-align: right;\">\n      <th></th>\n      <th>service_id</th>\n      <th>date</th>\n      <th>exception_type</th>\n    </tr>\n  </thead>\n  <tbody>\n    <tr>\n      <th>0</th>\n      <td>2022-11-302022-12-10001901</td>\n      <td>20221204</td>\n      <td>2</td>\n    </tr>\n    <tr>\n      <th>1</th>\n      <td>2022-12-112023-03-12001901</td>\n      <td>20221211</td>\n      <td>2</td>\n    </tr>\n    <tr>\n      <th>2</th>\n      <td>2022-12-112023-03-12001901</td>\n      <td>20221218</td>\n      <td>2</td>\n    </tr>\n    <tr>\n      <th>3</th>\n      <td>2022-12-112023-03-12001901</td>\n      <td>20221225</td>\n      <td>2</td>\n    </tr>\n    <tr>\n      <th>4</th>\n      <td>2022-12-112023-03-12001901</td>\n      <td>20230101</td>\n      <td>2</td>\n    </tr>\n  </tbody>\n</table>\n</div>"
     },
     "execution_count": 5,
     "metadata": {},
     "output_type": "execute_result"
    }
   ],
   "source": [
    "calendar_dates = pd.read_csv(savepath+\"/calendar_dates.txt\", sep=\",\")\n",
    "\n",
    "calendar_dates.head()"
   ],
   "metadata": {
    "collapsed": false
   }
  },
  {
   "cell_type": "code",
   "execution_count": 6,
   "outputs": [],
   "source": [
    "import datetime\n",
    "\n",
    "# Parse date column\n",
    "calendar_dates.date = calendar_dates.date.apply(lambda d : datetime.datetime.strptime(str(d), '%Y%m%d'))"
   ],
   "metadata": {
    "collapsed": false
   }
  },
  {
   "cell_type": "code",
   "execution_count": 7,
   "outputs": [
    {
     "data": {
      "text/plain": "                   service_id       date  \\\n0  2022-11-302022-12-10001901 2022-12-04   \n1  2022-12-112023-03-12001901 2022-12-11   \n2  2022-12-112023-03-12001901 2022-12-18   \n3  2022-12-112023-03-12001901 2022-12-25   \n4  2022-12-112023-03-12001901 2023-01-01   \n\n   exception_type                                                                                                                                                                                                                                                                                                                                  \n0                                                  2                                                                                                                                                                                                                                                                                               \n1                                                  2                                                                                                                                                                                                                                                                                               \n2                                                  2                                                                                                                                                                                                                                                                                               \n3                                                  2                                                                                                                                                                                                                                                                                               \n4                                                  2                                                                                                                                                                                                                                                                                               ",
      "text/html": "<div>\n<style scoped>\n    .dataframe tbody tr th:only-of-type {\n        vertical-align: middle;\n    }\n\n    .dataframe tbody tr th {\n        vertical-align: top;\n    }\n\n    .dataframe thead th {\n        text-align: right;\n    }\n</style>\n<table border=\"1\" class=\"dataframe\">\n  <thead>\n    <tr style=\"text-align: right;\">\n      <th></th>\n      <th>service_id</th>\n      <th>date</th>\n      <th>exception_type</th>\n    </tr>\n  </thead>\n  <tbody>\n    <tr>\n      <th>0</th>\n      <td>2022-11-302022-12-10001901</td>\n      <td>2022-12-04</td>\n      <td>2</td>\n    </tr>\n    <tr>\n      <th>1</th>\n      <td>2022-12-112023-03-12001901</td>\n      <td>2022-12-11</td>\n      <td>2</td>\n    </tr>\n    <tr>\n      <th>2</th>\n      <td>2022-12-112023-03-12001901</td>\n      <td>2022-12-18</td>\n      <td>2</td>\n    </tr>\n    <tr>\n      <th>3</th>\n      <td>2022-12-112023-03-12001901</td>\n      <td>2022-12-25</td>\n      <td>2</td>\n    </tr>\n    <tr>\n      <th>4</th>\n      <td>2022-12-112023-03-12001901</td>\n      <td>2023-01-01</td>\n      <td>2</td>\n    </tr>\n  </tbody>\n</table>\n</div>"
     },
     "execution_count": 7,
     "metadata": {},
     "output_type": "execute_result"
    }
   ],
   "source": [
    "calendar_dates.head()"
   ],
   "metadata": {
    "collapsed": false
   }
  },
  {
   "cell_type": "code",
   "execution_count": 8,
   "outputs": [
    {
     "name": "stdout",
     "output_type": "stream",
     "text": [
      "['agency.txt', 'calendar_dates.txt', 'stop_times.txt', 'trips.txt', 'stops.txt', 'calendar.txt', 'routes.txt']\n"
     ]
    }
   ],
   "source": [
    "res = []\n",
    "\n",
    "# Iterate directory\n",
    "for filename in os.listdir(savepath):\n",
    "    # check only text files\n",
    "    if filename.endswith('.txt'):\n",
    "        res.append(filename)\n",
    "print(res)"
   ],
   "metadata": {
    "collapsed": false
   }
  },
  {
   "cell_type": "code",
   "execution_count": 12,
   "outputs": [],
   "source": [
    "renfe_schedules = {}\n",
    "\n",
    "for filename in os.listdir(savepath):\n",
    "    if filename.endswith('.txt'):\n",
    "        renfe_schedules[filename.split(\".\")[0]] = pd.read_csv(savepath+filename, delimiter=',')"
   ],
   "metadata": {
    "collapsed": false
   }
  },
  {
   "cell_type": "code",
   "execution_count": 13,
   "outputs": [
    {
     "data": {
      "text/plain": "dict_keys(['agency', 'calendar_dates', 'stop_times', 'trips', 'stops', 'calendar', 'routes'])"
     },
     "execution_count": 13,
     "metadata": {},
     "output_type": "execute_result"
    }
   ],
   "source": [
    "renfe_schedules.keys()"
   ],
   "metadata": {
    "collapsed": false
   }
  },
  {
   "cell_type": "code",
   "execution_count": null,
   "outputs": [],
   "source": [],
   "metadata": {
    "collapsed": false
   }
  }
 ],
 "metadata": {
  "kernelspec": {
   "display_name": "Python 3",
   "language": "python",
   "name": "python3"
  },
  "language_info": {
   "codemirror_mode": {
    "name": "ipython",
    "version": 2
   },
   "file_extension": ".py",
   "mimetype": "text/x-python",
   "name": "python",
   "nbconvert_exporter": "python",
   "pygments_lexer": "ipython2",
   "version": "2.7.6"
  }
 },
 "nbformat": 4,
 "nbformat_minor": 0
}
