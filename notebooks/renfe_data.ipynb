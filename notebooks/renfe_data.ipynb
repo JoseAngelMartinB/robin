{
 "cells": [
  {
   "cell_type": "code",
   "execution_count": 1,
   "outputs": [],
   "source": [
    "import pandas as pd\n",
    "import requests\n",
    "import datetime\n",
    "import shutil\n",
    "import errno\n",
    "import os\n",
    "\n",
    "savepath = \"datasets/\""
   ],
   "metadata": {
    "collapsed": false
   }
  },
  {
   "cell_type": "code",
   "execution_count": 2,
   "outputs": [
    {
     "name": "stdout",
     "output_type": "stream",
     "text": [
      "File already exists!\n"
     ]
    }
   ],
   "source": [
    "# Renfe Horarios de alta velocidad, larga distancia y media distancia\n",
    "url = 'https://ssl.renfe.com/gtransit/Fichero_AV_LD/google_transit.zip'\n",
    "\n",
    "flags = os.O_CREAT | os.O_EXCL | os.O_WRONLY\n",
    "\n",
    "# Download zip file\n",
    "req = requests.get(url)\n",
    "\n",
    "# Get file name from url\n",
    "filename = url.split('/')[-1]\n",
    "\n",
    "if not os.path.exists(savepath):\n",
    "   os.makedirs(savepath)\n",
    "\n",
    "try:\n",
    "    file_handle = os.open(savepath+filename, flags)\n",
    "except OSError as e:\n",
    "    if e.errno == errno.EEXIST:  # Failed as the file already exists.\n",
    "        print('File already exists!')\n",
    "    else:  # Something unexpected went wrong so reraise the exception.\n",
    "        raise\n",
    "else:  # No exception, so the file must have been created successfully.\n",
    "    # Writing the file to the local file system\n",
    "    with open(savepath+filename, 'wb') as output_file:\n",
    "        output_file.write(req.content)\n",
    "\n",
    "    # Unzip\n",
    "    shutil.unpack_archive(savepath+filename, savepath)\n",
    "\n",
    "    print('File downloaded successfully!')"
   ],
   "metadata": {
    "collapsed": false
   }
  },
  {
   "cell_type": "code",
   "execution_count": 3,
   "metadata": {
    "collapsed": true
   },
   "outputs": [
    {
     "data": {
      "text/plain": "   agency_id      agency_name            agency_url agency_timezone  \\\n0       1071  RENFE OPERADORA  http://www.renfe.com   Europe/Madrid   \n\n  agency_lang  \\\n0          ES   \n\n   agency_phone                                                                                                                                                                                                                                                                                       \n0                                          902320320                                                                                                                                                                                                                                                  ",
      "text/html": "<div>\n<style scoped>\n    .dataframe tbody tr th:only-of-type {\n        vertical-align: middle;\n    }\n\n    .dataframe tbody tr th {\n        vertical-align: top;\n    }\n\n    .dataframe thead th {\n        text-align: right;\n    }\n</style>\n<table border=\"1\" class=\"dataframe\">\n  <thead>\n    <tr style=\"text-align: right;\">\n      <th></th>\n      <th>agency_id</th>\n      <th>agency_name</th>\n      <th>agency_url</th>\n      <th>agency_timezone</th>\n      <th>agency_lang</th>\n      <th>agency_phone</th>\n    </tr>\n  </thead>\n  <tbody>\n    <tr>\n      <th>0</th>\n      <td>1071</td>\n      <td>RENFE OPERADORA</td>\n      <td>http://www.renfe.com</td>\n      <td>Europe/Madrid</td>\n      <td>ES</td>\n      <td>902320320</td>\n    </tr>\n  </tbody>\n</table>\n</div>"
     },
     "execution_count": 3,
     "metadata": {},
     "output_type": "execute_result"
    }
   ],
   "source": [
    "agency = pd.read_csv(savepath+\"/agency.txt\", sep=\",\")\n",
    "\n",
    "agency.head()"
   ]
  },
  {
   "cell_type": "code",
   "execution_count": 4,
   "outputs": [
    {
     "data": {
      "text/plain": "                   service_id      date  \\\n0  2022-12-012022-12-10001901  20221204   \n1  2022-12-112023-03-12001901  20221211   \n2  2022-12-112023-03-12001901  20221218   \n3  2022-12-112023-03-12001901  20221225   \n4  2022-12-112023-03-12001901  20230101   \n\n   exception_type                                                                                                                                                                                                                                                                                                                                  \n0                                                  2                                                                                                                                                                                                                                                                                               \n1                                                  2                                                                                                                                                                                                                                                                                               \n2                                                  2                                                                                                                                                                                                                                                                                               \n3                                                  2                                                                                                                                                                                                                                                                                               \n4                                                  2                                                                                                                                                                                                                                                                                               ",
      "text/html": "<div>\n<style scoped>\n    .dataframe tbody tr th:only-of-type {\n        vertical-align: middle;\n    }\n\n    .dataframe tbody tr th {\n        vertical-align: top;\n    }\n\n    .dataframe thead th {\n        text-align: right;\n    }\n</style>\n<table border=\"1\" class=\"dataframe\">\n  <thead>\n    <tr style=\"text-align: right;\">\n      <th></th>\n      <th>service_id</th>\n      <th>date</th>\n      <th>exception_type</th>\n    </tr>\n  </thead>\n  <tbody>\n    <tr>\n      <th>0</th>\n      <td>2022-12-012022-12-10001901</td>\n      <td>20221204</td>\n      <td>2</td>\n    </tr>\n    <tr>\n      <th>1</th>\n      <td>2022-12-112023-03-12001901</td>\n      <td>20221211</td>\n      <td>2</td>\n    </tr>\n    <tr>\n      <th>2</th>\n      <td>2022-12-112023-03-12001901</td>\n      <td>20221218</td>\n      <td>2</td>\n    </tr>\n    <tr>\n      <th>3</th>\n      <td>2022-12-112023-03-12001901</td>\n      <td>20221225</td>\n      <td>2</td>\n    </tr>\n    <tr>\n      <th>4</th>\n      <td>2022-12-112023-03-12001901</td>\n      <td>20230101</td>\n      <td>2</td>\n    </tr>\n  </tbody>\n</table>\n</div>"
     },
     "execution_count": 4,
     "metadata": {},
     "output_type": "execute_result"
    }
   ],
   "source": [
    "calendar_dates = pd.read_csv(savepath+\"/calendar_dates.txt\", sep=\",\")\n",
    "\n",
    "calendar_dates.head()"
   ],
   "metadata": {
    "collapsed": false
   }
  },
  {
   "cell_type": "code",
   "execution_count": 5,
   "outputs": [],
   "source": [
    "# Parse date column\n",
    "calendar_dates.date = calendar_dates.date.apply(lambda d : datetime.datetime.strptime(str(d), '%Y%m%d'))"
   ],
   "metadata": {
    "collapsed": false
   }
  },
  {
   "cell_type": "code",
   "execution_count": 6,
   "outputs": [
    {
     "data": {
      "text/plain": "                   service_id       date  \\\n0  2022-12-012022-12-10001901 2022-12-04   \n1  2022-12-112023-03-12001901 2022-12-11   \n2  2022-12-112023-03-12001901 2022-12-18   \n3  2022-12-112023-03-12001901 2022-12-25   \n4  2022-12-112023-03-12001901 2023-01-01   \n\n   exception_type                                                                                                                                                                                                                                                                                                                                  \n0                                                  2                                                                                                                                                                                                                                                                                               \n1                                                  2                                                                                                                                                                                                                                                                                               \n2                                                  2                                                                                                                                                                                                                                                                                               \n3                                                  2                                                                                                                                                                                                                                                                                               \n4                                                  2                                                                                                                                                                                                                                                                                               ",
      "text/html": "<div>\n<style scoped>\n    .dataframe tbody tr th:only-of-type {\n        vertical-align: middle;\n    }\n\n    .dataframe tbody tr th {\n        vertical-align: top;\n    }\n\n    .dataframe thead th {\n        text-align: right;\n    }\n</style>\n<table border=\"1\" class=\"dataframe\">\n  <thead>\n    <tr style=\"text-align: right;\">\n      <th></th>\n      <th>service_id</th>\n      <th>date</th>\n      <th>exception_type</th>\n    </tr>\n  </thead>\n  <tbody>\n    <tr>\n      <th>0</th>\n      <td>2022-12-012022-12-10001901</td>\n      <td>2022-12-04</td>\n      <td>2</td>\n    </tr>\n    <tr>\n      <th>1</th>\n      <td>2022-12-112023-03-12001901</td>\n      <td>2022-12-11</td>\n      <td>2</td>\n    </tr>\n    <tr>\n      <th>2</th>\n      <td>2022-12-112023-03-12001901</td>\n      <td>2022-12-18</td>\n      <td>2</td>\n    </tr>\n    <tr>\n      <th>3</th>\n      <td>2022-12-112023-03-12001901</td>\n      <td>2022-12-25</td>\n      <td>2</td>\n    </tr>\n    <tr>\n      <th>4</th>\n      <td>2022-12-112023-03-12001901</td>\n      <td>2023-01-01</td>\n      <td>2</td>\n    </tr>\n  </tbody>\n</table>\n</div>"
     },
     "execution_count": 6,
     "metadata": {},
     "output_type": "execute_result"
    }
   ],
   "source": [
    "calendar_dates.head()"
   ],
   "metadata": {
    "collapsed": false
   }
  },
  {
   "cell_type": "code",
   "execution_count": 7,
   "outputs": [
    {
     "name": "stdout",
     "output_type": "stream",
     "text": [
      "['agency.txt', 'calendar_dates.txt', 'stop_times.txt', 'trips.txt', 'stops.txt', 'calendar.txt', 'routes.txt']\n"
     ]
    }
   ],
   "source": [
    "res = []\n",
    "\n",
    "# Iterate directory\n",
    "for filename in os.listdir(savepath):\n",
    "    # check only text files\n",
    "    if filename.endswith('.txt'):\n",
    "        res.append(filename)\n",
    "print(res)"
   ],
   "metadata": {
    "collapsed": false
   }
  },
  {
   "cell_type": "code",
   "execution_count": 2,
   "outputs": [],
   "source": [
    "renfe_schedules = {}\n",
    "\n",
    "savepath = \"datasets/\"\n",
    "\n",
    "for filename in os.listdir(savepath):\n",
    "    if filename.endswith('.txt'):\n",
    "        renfe_schedules[filename.split(\".\")[0]] = pd.read_csv(savepath+filename, delimiter=',')"
   ],
   "metadata": {
    "collapsed": false
   }
  },
  {
   "cell_type": "code",
   "execution_count": 3,
   "outputs": [
    {
     "data": {
      "text/plain": "dict_keys(['agency', 'calendar_dates', 'stop_times', 'trips', 'stops', 'calendar', 'routes'])"
     },
     "execution_count": 3,
     "metadata": {},
     "output_type": "execute_result"
    }
   ],
   "source": [
    "renfe_schedules.keys()"
   ],
   "metadata": {
    "collapsed": false
   }
  },
  {
   "cell_type": "code",
   "execution_count": 10,
   "outputs": [
    {
     "data": {
      "text/plain": "                       service_id      date  \\\n0      2022-12-012022-12-10001901  20221204   \n1      2022-12-112023-03-12001901  20221211   \n2      2022-12-112023-03-12001901  20221218   \n3      2022-12-112023-03-12001901  20221225   \n4      2022-12-112023-03-12001901  20230101   \n...                           ...       ...   \n49942  2022-12-012022-12-10385232  20221205   \n49943  2022-12-012022-12-10385232  20221206   \n49944  2022-12-012022-12-10385232  20221207   \n49945  2022-12-012022-12-10385232  20221208   \n49946  2022-12-012022-12-10385232  20221209   \n\n       exception_type                                                                                                                                                                                                                                                                                                                                  \n0                                                      2                                                                                                                                                                                                                                                                                               \n1                                                      2                                                                                                                                                                                                                                                                                               \n2                                                      2                                                                                                                                                                                                                                                                                               \n3                                                      2                                                                                                                                                                                                                                                                                               \n4                                                      2                                                                                                                                                                                                                                                                                               \n...                                                  ...                                                                                                                                                                                                                                                                                               \n49942                                                  2                                                                                                                                                                                                                                                                                               \n49943                                                  2                                                                                                                                                                                                                                                                                               \n49944                                                  2                                                                                                                                                                                                                                                                                               \n49945                                                  2                                                                                                                                                                                                                                                                                               \n49946                                                  2                                                                                                                                                                                                                                                                                               \n\n[49947 rows x 3 columns]",
      "text/html": "<div>\n<style scoped>\n    .dataframe tbody tr th:only-of-type {\n        vertical-align: middle;\n    }\n\n    .dataframe tbody tr th {\n        vertical-align: top;\n    }\n\n    .dataframe thead th {\n        text-align: right;\n    }\n</style>\n<table border=\"1\" class=\"dataframe\">\n  <thead>\n    <tr style=\"text-align: right;\">\n      <th></th>\n      <th>service_id</th>\n      <th>date</th>\n      <th>exception_type</th>\n    </tr>\n  </thead>\n  <tbody>\n    <tr>\n      <th>0</th>\n      <td>2022-12-012022-12-10001901</td>\n      <td>20221204</td>\n      <td>2</td>\n    </tr>\n    <tr>\n      <th>1</th>\n      <td>2022-12-112023-03-12001901</td>\n      <td>20221211</td>\n      <td>2</td>\n    </tr>\n    <tr>\n      <th>2</th>\n      <td>2022-12-112023-03-12001901</td>\n      <td>20221218</td>\n      <td>2</td>\n    </tr>\n    <tr>\n      <th>3</th>\n      <td>2022-12-112023-03-12001901</td>\n      <td>20221225</td>\n      <td>2</td>\n    </tr>\n    <tr>\n      <th>4</th>\n      <td>2022-12-112023-03-12001901</td>\n      <td>20230101</td>\n      <td>2</td>\n    </tr>\n    <tr>\n      <th>...</th>\n      <td>...</td>\n      <td>...</td>\n      <td>...</td>\n    </tr>\n    <tr>\n      <th>49942</th>\n      <td>2022-12-012022-12-10385232</td>\n      <td>20221205</td>\n      <td>2</td>\n    </tr>\n    <tr>\n      <th>49943</th>\n      <td>2022-12-012022-12-10385232</td>\n      <td>20221206</td>\n      <td>2</td>\n    </tr>\n    <tr>\n      <th>49944</th>\n      <td>2022-12-012022-12-10385232</td>\n      <td>20221207</td>\n      <td>2</td>\n    </tr>\n    <tr>\n      <th>49945</th>\n      <td>2022-12-012022-12-10385232</td>\n      <td>20221208</td>\n      <td>2</td>\n    </tr>\n    <tr>\n      <th>49946</th>\n      <td>2022-12-012022-12-10385232</td>\n      <td>20221209</td>\n      <td>2</td>\n    </tr>\n  </tbody>\n</table>\n<p>49947 rows × 3 columns</p>\n</div>"
     },
     "execution_count": 10,
     "metadata": {},
     "output_type": "execute_result"
    }
   ],
   "source": [
    "renfe_schedules['calendar_dates']"
   ],
   "metadata": {
    "collapsed": false
   }
  },
  {
   "cell_type": "code",
   "execution_count": 11,
   "outputs": [
    {
     "data": {
      "text/plain": "                       service_id        date  \\\n0      2022-12-012022-12-10001901  04/12/2022   \n1      2022-12-112023-03-12001901  11/12/2022   \n2      2022-12-112023-03-12001901  18/12/2022   \n3      2022-12-112023-03-12001901  25/12/2022   \n4      2022-12-112023-03-12001901  01/01/2023   \n...                           ...         ...   \n49942  2022-12-012022-12-10385232  05/12/2022   \n49943  2022-12-012022-12-10385232  06/12/2022   \n49944  2022-12-012022-12-10385232  07/12/2022   \n49945  2022-12-012022-12-10385232  08/12/2022   \n49946  2022-12-012022-12-10385232  09/12/2022   \n\n       exception_type                                                                                                                                                                                                                                                                                                                                  \n0                                                      2                                                                                                                                                                                                                                                                                               \n1                                                      2                                                                                                                                                                                                                                                                                               \n2                                                      2                                                                                                                                                                                                                                                                                               \n3                                                      2                                                                                                                                                                                                                                                                                               \n4                                                      2                                                                                                                                                                                                                                                                                               \n...                                                  ...                                                                                                                                                                                                                                                                                               \n49942                                                  2                                                                                                                                                                                                                                                                                               \n49943                                                  2                                                                                                                                                                                                                                                                                               \n49944                                                  2                                                                                                                                                                                                                                                                                               \n49945                                                  2                                                                                                                                                                                                                                                                                               \n49946                                                  2                                                                                                                                                                                                                                                                                               \n\n[49947 rows x 3 columns]",
      "text/html": "<div>\n<style scoped>\n    .dataframe tbody tr th:only-of-type {\n        vertical-align: middle;\n    }\n\n    .dataframe tbody tr th {\n        vertical-align: top;\n    }\n\n    .dataframe thead th {\n        text-align: right;\n    }\n</style>\n<table border=\"1\" class=\"dataframe\">\n  <thead>\n    <tr style=\"text-align: right;\">\n      <th></th>\n      <th>service_id</th>\n      <th>date</th>\n      <th>exception_type</th>\n    </tr>\n  </thead>\n  <tbody>\n    <tr>\n      <th>0</th>\n      <td>2022-12-012022-12-10001901</td>\n      <td>04/12/2022</td>\n      <td>2</td>\n    </tr>\n    <tr>\n      <th>1</th>\n      <td>2022-12-112023-03-12001901</td>\n      <td>11/12/2022</td>\n      <td>2</td>\n    </tr>\n    <tr>\n      <th>2</th>\n      <td>2022-12-112023-03-12001901</td>\n      <td>18/12/2022</td>\n      <td>2</td>\n    </tr>\n    <tr>\n      <th>3</th>\n      <td>2022-12-112023-03-12001901</td>\n      <td>25/12/2022</td>\n      <td>2</td>\n    </tr>\n    <tr>\n      <th>4</th>\n      <td>2022-12-112023-03-12001901</td>\n      <td>01/01/2023</td>\n      <td>2</td>\n    </tr>\n    <tr>\n      <th>...</th>\n      <td>...</td>\n      <td>...</td>\n      <td>...</td>\n    </tr>\n    <tr>\n      <th>49942</th>\n      <td>2022-12-012022-12-10385232</td>\n      <td>05/12/2022</td>\n      <td>2</td>\n    </tr>\n    <tr>\n      <th>49943</th>\n      <td>2022-12-012022-12-10385232</td>\n      <td>06/12/2022</td>\n      <td>2</td>\n    </tr>\n    <tr>\n      <th>49944</th>\n      <td>2022-12-012022-12-10385232</td>\n      <td>07/12/2022</td>\n      <td>2</td>\n    </tr>\n    <tr>\n      <th>49945</th>\n      <td>2022-12-012022-12-10385232</td>\n      <td>08/12/2022</td>\n      <td>2</td>\n    </tr>\n    <tr>\n      <th>49946</th>\n      <td>2022-12-012022-12-10385232</td>\n      <td>09/12/2022</td>\n      <td>2</td>\n    </tr>\n  </tbody>\n</table>\n<p>49947 rows × 3 columns</p>\n</div>"
     },
     "execution_count": 11,
     "metadata": {},
     "output_type": "execute_result"
    }
   ],
   "source": [
    "# Parse date of service to format: Day/Month/Year\n",
    "\n",
    "parse_date = lambda d : datetime.datetime.strptime(str(d), '%Y%m%d').date().strftime(\"%d/%m/%Y\")\n",
    "\n",
    "renfe_schedules['calendar_dates'].date = renfe_schedules['calendar_dates'].date.apply(parse_date)\n",
    "\n",
    "renfe_schedules['calendar_dates']"
   ],
   "metadata": {
    "collapsed": false
   }
  },
  {
   "cell_type": "code",
   "execution_count": 12,
   "outputs": [
    {
     "data": {
      "text/plain": "            route_id  agency_id route_short_name  route_long_name  route_desc  \\\n0    7180161307GL026       1071        Intercity              NaN         NaN   \n1    7180161200GL026       1071        Intercity              NaN         NaN   \n2    1700037606GL026       1071        Intercity              NaN         NaN   \n3    3760617000GL026       1071        Intercity              NaN         NaN   \n4    1700037606GL023       1071            ALVIA              NaN         NaN   \n..               ...        ...              ...              ...         ...   \n598    8111081100VRM       1071               MD              NaN         NaN   \n599    8110081110VRM       1071               MD              NaN         NaN   \n600    1510022308VRM       1071               MD              NaN         NaN   \n601    1510022100VRM       1071               MD              NaN         NaN   \n602    0500002003VRX       1071               MD              NaN         NaN   \n\n     route_type  route_url route_color  \\\n0             2        NaN      F2F5F5   \n1             2        NaN      F2F5F5   \n2             2        NaN      F2F5F5   \n3             2        NaN      F2F5F5   \n4             2        NaN      F2F5F5   \n..          ...        ...         ...   \n598           2        NaN      F2F5F5   \n599           2        NaN      F2F5F5   \n600           2        NaN      F2F5F5   \n601           2        NaN      F2F5F5   \n602           2        NaN      F2F5F5   \n\n    route_text_color                                                                                                                                                                                                                                                \n0                                                  ...                                                                                                                                                                                                              \n1                                                  ...                                                                                                                                                                                                              \n2                                                  ...                                                                                                                                                                                                              \n3                                                  ...                                                                                                                                                                                                              \n4                                                  ...                                                                                                                                                                                                              \n..                                                 ...                                                                                                                                                                                                              \n598                                                ...                                                                                                                                                                                                              \n599                                                ...                                                                                                                                                                                                              \n600                                                ...                                                                                                                                                                                                              \n601                                                ...                                                                                                                                                                                                              \n602                                                ...                                                                                                                                                                                                              \n\n[603 rows x 9 columns]",
      "text/html": "<div>\n<style scoped>\n    .dataframe tbody tr th:only-of-type {\n        vertical-align: middle;\n    }\n\n    .dataframe tbody tr th {\n        vertical-align: top;\n    }\n\n    .dataframe thead th {\n        text-align: right;\n    }\n</style>\n<table border=\"1\" class=\"dataframe\">\n  <thead>\n    <tr style=\"text-align: right;\">\n      <th></th>\n      <th>route_id</th>\n      <th>agency_id</th>\n      <th>route_short_name</th>\n      <th>route_long_name</th>\n      <th>route_desc</th>\n      <th>route_type</th>\n      <th>route_url</th>\n      <th>route_color</th>\n      <th>route_text_color</th>\n    </tr>\n  </thead>\n  <tbody>\n    <tr>\n      <th>0</th>\n      <td>7180161307GL026</td>\n      <td>1071</td>\n      <td>Intercity</td>\n      <td>NaN</td>\n      <td>NaN</td>\n      <td>2</td>\n      <td>NaN</td>\n      <td>F2F5F5</td>\n      <td>...</td>\n    </tr>\n    <tr>\n      <th>1</th>\n      <td>7180161200GL026</td>\n      <td>1071</td>\n      <td>Intercity</td>\n      <td>NaN</td>\n      <td>NaN</td>\n      <td>2</td>\n      <td>NaN</td>\n      <td>F2F5F5</td>\n      <td>...</td>\n    </tr>\n    <tr>\n      <th>2</th>\n      <td>1700037606GL026</td>\n      <td>1071</td>\n      <td>Intercity</td>\n      <td>NaN</td>\n      <td>NaN</td>\n      <td>2</td>\n      <td>NaN</td>\n      <td>F2F5F5</td>\n      <td>...</td>\n    </tr>\n    <tr>\n      <th>3</th>\n      <td>3760617000GL026</td>\n      <td>1071</td>\n      <td>Intercity</td>\n      <td>NaN</td>\n      <td>NaN</td>\n      <td>2</td>\n      <td>NaN</td>\n      <td>F2F5F5</td>\n      <td>...</td>\n    </tr>\n    <tr>\n      <th>4</th>\n      <td>1700037606GL023</td>\n      <td>1071</td>\n      <td>ALVIA</td>\n      <td>NaN</td>\n      <td>NaN</td>\n      <td>2</td>\n      <td>NaN</td>\n      <td>F2F5F5</td>\n      <td>...</td>\n    </tr>\n    <tr>\n      <th>...</th>\n      <td>...</td>\n      <td>...</td>\n      <td>...</td>\n      <td>...</td>\n      <td>...</td>\n      <td>...</td>\n      <td>...</td>\n      <td>...</td>\n      <td>...</td>\n    </tr>\n    <tr>\n      <th>598</th>\n      <td>8111081100VRM</td>\n      <td>1071</td>\n      <td>MD</td>\n      <td>NaN</td>\n      <td>NaN</td>\n      <td>2</td>\n      <td>NaN</td>\n      <td>F2F5F5</td>\n      <td>...</td>\n    </tr>\n    <tr>\n      <th>599</th>\n      <td>8110081110VRM</td>\n      <td>1071</td>\n      <td>MD</td>\n      <td>NaN</td>\n      <td>NaN</td>\n      <td>2</td>\n      <td>NaN</td>\n      <td>F2F5F5</td>\n      <td>...</td>\n    </tr>\n    <tr>\n      <th>600</th>\n      <td>1510022308VRM</td>\n      <td>1071</td>\n      <td>MD</td>\n      <td>NaN</td>\n      <td>NaN</td>\n      <td>2</td>\n      <td>NaN</td>\n      <td>F2F5F5</td>\n      <td>...</td>\n    </tr>\n    <tr>\n      <th>601</th>\n      <td>1510022100VRM</td>\n      <td>1071</td>\n      <td>MD</td>\n      <td>NaN</td>\n      <td>NaN</td>\n      <td>2</td>\n      <td>NaN</td>\n      <td>F2F5F5</td>\n      <td>...</td>\n    </tr>\n    <tr>\n      <th>602</th>\n      <td>0500002003VRX</td>\n      <td>1071</td>\n      <td>MD</td>\n      <td>NaN</td>\n      <td>NaN</td>\n      <td>2</td>\n      <td>NaN</td>\n      <td>F2F5F5</td>\n      <td>...</td>\n    </tr>\n  </tbody>\n</table>\n<p>603 rows × 9 columns</p>\n</div>"
     },
     "execution_count": 12,
     "metadata": {},
     "output_type": "execute_result"
    }
   ],
   "source": [
    "renfe_schedules['routes']"
   ],
   "metadata": {
    "collapsed": false
   }
  },
  {
   "cell_type": "code",
   "execution_count": 13,
   "outputs": [
    {
     "data": {
      "text/plain": "{'ALVIA',\n 'AVANT',\n 'AVE',\n 'AVE-TGV',\n 'AVLO',\n 'EUROMED',\n 'Intercity',\n 'MD',\n 'REG.EXP.',\n 'REGIONAL',\n 'RODALIES',\n 'TORRE ORO'}"
     },
     "execution_count": 13,
     "metadata": {},
     "output_type": "execute_result"
    }
   ],
   "source": [
    "x = renfe_schedules['routes'].route_short_name.values\n",
    "\n",
    "x = set(x)\n",
    "\n",
    "x"
   ],
   "metadata": {
    "collapsed": false
   }
  },
  {
   "cell_type": "code",
   "execution_count": 14,
   "outputs": [
    {
     "data": {
      "text/plain": "            route_id  agency_id route_short_name  route_long_name  route_desc  \\\n4    1700037606GL023       1071            ALVIA              NaN         NaN   \n5    3760617000GL023       1071            ALVIA              NaN         NaN   \n16   1320071801GL023       1071            ALVIA              NaN         NaN   \n17   0404071801GL023       1071            ALVIA              NaN         NaN   \n18   1320011200GL023       1071            ALVIA              NaN         NaN   \n..               ...        ...              ...              ...         ...   \n231  0430760000LC112       1071             AVLO              NaN         NaN   \n232  7180160000LC112       1071             AVLO              NaN         NaN   \n233  6000004307LC112       1071             AVLO              NaN         NaN   \n234  6000003216LC112       1071             AVLO              NaN         NaN   \n235  0321660000LC112       1071             AVLO              NaN         NaN   \n\n     route_type  route_url route_color  \\\n4             2        NaN      F2F5F5   \n5             2        NaN      F2F5F5   \n16            2        NaN      F2F5F5   \n17            2        NaN      F2F5F5   \n18            2        NaN      F2F5F5   \n..          ...        ...         ...   \n231           2        NaN      F2F5F5   \n232           2        NaN      F2F5F5   \n233           2        NaN      F2F5F5   \n234           2        NaN      F2F5F5   \n235           2        NaN      F2F5F5   \n\n    route_text_color                                                                                                                                                                                                                                                \n4                                                  ...                                                                                                                                                                                                              \n5                                                  ...                                                                                                                                                                                                              \n16                                                 ...                                                                                                                                                                                                              \n17                                                 ...                                                                                                                                                                                                              \n18                                                 ...                                                                                                                                                                                                              \n..                                                 ...                                                                                                                                                                                                              \n231                                                ...                                                                                                                                                                                                              \n232                                                ...                                                                                                                                                                                                              \n233                                                ...                                                                                                                                                                                                              \n234                                                ...                                                                                                                                                                                                              \n235                                                ...                                                                                                                                                                                                              \n\n[167 rows x 9 columns]",
      "text/html": "<div>\n<style scoped>\n    .dataframe tbody tr th:only-of-type {\n        vertical-align: middle;\n    }\n\n    .dataframe tbody tr th {\n        vertical-align: top;\n    }\n\n    .dataframe thead th {\n        text-align: right;\n    }\n</style>\n<table border=\"1\" class=\"dataframe\">\n  <thead>\n    <tr style=\"text-align: right;\">\n      <th></th>\n      <th>route_id</th>\n      <th>agency_id</th>\n      <th>route_short_name</th>\n      <th>route_long_name</th>\n      <th>route_desc</th>\n      <th>route_type</th>\n      <th>route_url</th>\n      <th>route_color</th>\n      <th>route_text_color</th>\n    </tr>\n  </thead>\n  <tbody>\n    <tr>\n      <th>4</th>\n      <td>1700037606GL023</td>\n      <td>1071</td>\n      <td>ALVIA</td>\n      <td>NaN</td>\n      <td>NaN</td>\n      <td>2</td>\n      <td>NaN</td>\n      <td>F2F5F5</td>\n      <td>...</td>\n    </tr>\n    <tr>\n      <th>5</th>\n      <td>3760617000GL023</td>\n      <td>1071</td>\n      <td>ALVIA</td>\n      <td>NaN</td>\n      <td>NaN</td>\n      <td>2</td>\n      <td>NaN</td>\n      <td>F2F5F5</td>\n      <td>...</td>\n    </tr>\n    <tr>\n      <th>16</th>\n      <td>1320071801GL023</td>\n      <td>1071</td>\n      <td>ALVIA</td>\n      <td>NaN</td>\n      <td>NaN</td>\n      <td>2</td>\n      <td>NaN</td>\n      <td>F2F5F5</td>\n      <td>...</td>\n    </tr>\n    <tr>\n      <th>17</th>\n      <td>0404071801GL023</td>\n      <td>1071</td>\n      <td>ALVIA</td>\n      <td>NaN</td>\n      <td>NaN</td>\n      <td>2</td>\n      <td>NaN</td>\n      <td>F2F5F5</td>\n      <td>...</td>\n    </tr>\n    <tr>\n      <th>18</th>\n      <td>1320011200GL023</td>\n      <td>1071</td>\n      <td>ALVIA</td>\n      <td>NaN</td>\n      <td>NaN</td>\n      <td>2</td>\n      <td>NaN</td>\n      <td>F2F5F5</td>\n      <td>...</td>\n    </tr>\n    <tr>\n      <th>...</th>\n      <td>...</td>\n      <td>...</td>\n      <td>...</td>\n      <td>...</td>\n      <td>...</td>\n      <td>...</td>\n      <td>...</td>\n      <td>...</td>\n      <td>...</td>\n    </tr>\n    <tr>\n      <th>231</th>\n      <td>0430760000LC112</td>\n      <td>1071</td>\n      <td>AVLO</td>\n      <td>NaN</td>\n      <td>NaN</td>\n      <td>2</td>\n      <td>NaN</td>\n      <td>F2F5F5</td>\n      <td>...</td>\n    </tr>\n    <tr>\n      <th>232</th>\n      <td>7180160000LC112</td>\n      <td>1071</td>\n      <td>AVLO</td>\n      <td>NaN</td>\n      <td>NaN</td>\n      <td>2</td>\n      <td>NaN</td>\n      <td>F2F5F5</td>\n      <td>...</td>\n    </tr>\n    <tr>\n      <th>233</th>\n      <td>6000004307LC112</td>\n      <td>1071</td>\n      <td>AVLO</td>\n      <td>NaN</td>\n      <td>NaN</td>\n      <td>2</td>\n      <td>NaN</td>\n      <td>F2F5F5</td>\n      <td>...</td>\n    </tr>\n    <tr>\n      <th>234</th>\n      <td>6000003216LC112</td>\n      <td>1071</td>\n      <td>AVLO</td>\n      <td>NaN</td>\n      <td>NaN</td>\n      <td>2</td>\n      <td>NaN</td>\n      <td>F2F5F5</td>\n      <td>...</td>\n    </tr>\n    <tr>\n      <th>235</th>\n      <td>0321660000LC112</td>\n      <td>1071</td>\n      <td>AVLO</td>\n      <td>NaN</td>\n      <td>NaN</td>\n      <td>2</td>\n      <td>NaN</td>\n      <td>F2F5F5</td>\n      <td>...</td>\n    </tr>\n  </tbody>\n</table>\n<p>167 rows × 9 columns</p>\n</div>"
     },
     "execution_count": 14,
     "metadata": {},
     "output_type": "execute_result"
    }
   ],
   "source": [
    "# Servicios alta velocidad y larga distancia en territorio español\n",
    "s = {'ALVIA', 'AVE', 'AVLO'}\n",
    "\n",
    "renfe_schedules['routes'] = renfe_schedules['routes'][renfe_schedules['routes']['route_short_name'].isin(s)]\n",
    "\n",
    "renfe_schedules['routes']"
   ],
   "metadata": {
    "collapsed": false
   }
  },
  {
   "cell_type": "code",
   "execution_count": 15,
   "outputs": [
    {
     "data": {
      "text/plain": "              route_id                  service_id           trip_id  \\\n0      7180161307GL026  2022-12-012022-12-10001651  0016512022-12-01   \n1      7180161307GL026  2022-12-112022-12-19001651  0016512022-12-11   \n2      7180161307GL026  2022-12-202023-01-29001651  0016512022-12-20   \n3      7180161200GL026  2022-12-012022-12-10001653  0016532022-12-01   \n4      7180161200GL026  2022-12-112022-12-19001653  0016532022-12-11   \n...                ...                         ...               ...   \n15623  6000003216AV006  2022-12-242022-12-24950701  9507012022-12-24   \n15624  6000003216AV006  2022-12-252023-02-05950701  9507012022-12-25   \n15625  6000003216AV006  2023-02-062023-02-06950701  9507012023-02-06   \n15626  6000003216AV006  2023-02-072023-02-07950701  9507012023-02-07   \n15627  6000003216AV006  2023-02-082023-12-31950701  9507012023-02-08   \n\n       trip_headsign  trip_short_name  direction_id  block_id  shape_id  \\\n0                NaN              165           NaN       NaN       NaN   \n1                NaN              165           NaN       NaN       NaN   \n2                NaN              165           NaN       NaN       NaN   \n3                NaN              165           NaN       NaN       NaN   \n4                NaN              165           NaN       NaN       NaN   \n...              ...              ...           ...       ...       ...   \n15623            NaN            95070           NaN       NaN       NaN   \n15624            NaN            95070           NaN       NaN       NaN   \n15625            NaN            95070           NaN       NaN       NaN   \n15626            NaN            95070           NaN       NaN       NaN   \n15627            NaN            95070           NaN       NaN       NaN   \n\n       wheelchair_accessible                                                                                                                                                                                                                                                  \n0                                                      1                                                                                                                                                                                                                      \n1                                                      2                                                                                                                                                                                                                      \n2                                                      2                                                                                                                                                                                                                      \n3                                                      2                                                                                                                                                                                                                      \n4                                                      2                                                                                                                                                                                                                      \n...                                                  ...                                                                                                                                                                                                                      \n15623                                                  2                                                                                                                                                                                                                      \n15624                                                  2                                                                                                                                                                                                                      \n15625                                                  2                                                                                                                                                                                                                      \n15626                                                  2                                                                                                                                                                                                                      \n15627                                                  2                                                                                                                                                                                                                      \n\n[15628 rows x 9 columns]",
      "text/html": "<div>\n<style scoped>\n    .dataframe tbody tr th:only-of-type {\n        vertical-align: middle;\n    }\n\n    .dataframe tbody tr th {\n        vertical-align: top;\n    }\n\n    .dataframe thead th {\n        text-align: right;\n    }\n</style>\n<table border=\"1\" class=\"dataframe\">\n  <thead>\n    <tr style=\"text-align: right;\">\n      <th></th>\n      <th>route_id</th>\n      <th>service_id</th>\n      <th>trip_id</th>\n      <th>trip_headsign</th>\n      <th>trip_short_name</th>\n      <th>direction_id</th>\n      <th>block_id</th>\n      <th>shape_id</th>\n      <th>wheelchair_accessible</th>\n    </tr>\n  </thead>\n  <tbody>\n    <tr>\n      <th>0</th>\n      <td>7180161307GL026</td>\n      <td>2022-12-012022-12-10001651</td>\n      <td>0016512022-12-01</td>\n      <td>NaN</td>\n      <td>165</td>\n      <td>NaN</td>\n      <td>NaN</td>\n      <td>NaN</td>\n      <td>1</td>\n    </tr>\n    <tr>\n      <th>1</th>\n      <td>7180161307GL026</td>\n      <td>2022-12-112022-12-19001651</td>\n      <td>0016512022-12-11</td>\n      <td>NaN</td>\n      <td>165</td>\n      <td>NaN</td>\n      <td>NaN</td>\n      <td>NaN</td>\n      <td>2</td>\n    </tr>\n    <tr>\n      <th>2</th>\n      <td>7180161307GL026</td>\n      <td>2022-12-202023-01-29001651</td>\n      <td>0016512022-12-20</td>\n      <td>NaN</td>\n      <td>165</td>\n      <td>NaN</td>\n      <td>NaN</td>\n      <td>NaN</td>\n      <td>2</td>\n    </tr>\n    <tr>\n      <th>3</th>\n      <td>7180161200GL026</td>\n      <td>2022-12-012022-12-10001653</td>\n      <td>0016532022-12-01</td>\n      <td>NaN</td>\n      <td>165</td>\n      <td>NaN</td>\n      <td>NaN</td>\n      <td>NaN</td>\n      <td>2</td>\n    </tr>\n    <tr>\n      <th>4</th>\n      <td>7180161200GL026</td>\n      <td>2022-12-112022-12-19001653</td>\n      <td>0016532022-12-11</td>\n      <td>NaN</td>\n      <td>165</td>\n      <td>NaN</td>\n      <td>NaN</td>\n      <td>NaN</td>\n      <td>2</td>\n    </tr>\n    <tr>\n      <th>...</th>\n      <td>...</td>\n      <td>...</td>\n      <td>...</td>\n      <td>...</td>\n      <td>...</td>\n      <td>...</td>\n      <td>...</td>\n      <td>...</td>\n      <td>...</td>\n    </tr>\n    <tr>\n      <th>15623</th>\n      <td>6000003216AV006</td>\n      <td>2022-12-242022-12-24950701</td>\n      <td>9507012022-12-24</td>\n      <td>NaN</td>\n      <td>95070</td>\n      <td>NaN</td>\n      <td>NaN</td>\n      <td>NaN</td>\n      <td>2</td>\n    </tr>\n    <tr>\n      <th>15624</th>\n      <td>6000003216AV006</td>\n      <td>2022-12-252023-02-05950701</td>\n      <td>9507012022-12-25</td>\n      <td>NaN</td>\n      <td>95070</td>\n      <td>NaN</td>\n      <td>NaN</td>\n      <td>NaN</td>\n      <td>2</td>\n    </tr>\n    <tr>\n      <th>15625</th>\n      <td>6000003216AV006</td>\n      <td>2023-02-062023-02-06950701</td>\n      <td>9507012023-02-06</td>\n      <td>NaN</td>\n      <td>95070</td>\n      <td>NaN</td>\n      <td>NaN</td>\n      <td>NaN</td>\n      <td>2</td>\n    </tr>\n    <tr>\n      <th>15626</th>\n      <td>6000003216AV006</td>\n      <td>2023-02-072023-02-07950701</td>\n      <td>9507012023-02-07</td>\n      <td>NaN</td>\n      <td>95070</td>\n      <td>NaN</td>\n      <td>NaN</td>\n      <td>NaN</td>\n      <td>2</td>\n    </tr>\n    <tr>\n      <th>15627</th>\n      <td>6000003216AV006</td>\n      <td>2023-02-082023-12-31950701</td>\n      <td>9507012023-02-08</td>\n      <td>NaN</td>\n      <td>95070</td>\n      <td>NaN</td>\n      <td>NaN</td>\n      <td>NaN</td>\n      <td>2</td>\n    </tr>\n  </tbody>\n</table>\n<p>15628 rows × 9 columns</p>\n</div>"
     },
     "execution_count": 15,
     "metadata": {},
     "output_type": "execute_result"
    }
   ],
   "source": [
    "# Filter Route id contains GL (ALVIA), AV (AVE) or LC (AVLO)\n",
    "\n",
    "renfe_schedules['trips']"
   ],
   "metadata": {
    "collapsed": false
   }
  },
  {
   "cell_type": "code",
   "execution_count": 16,
   "outputs": [
    {
     "data": {
      "text/plain": "              route_id                  service_id           trip_id  \\\n0      7180161307GL026  2022-12-012022-12-10001651  0016512022-12-01   \n1      7180161307GL026  2022-12-112022-12-19001651  0016512022-12-11   \n2      7180161307GL026  2022-12-202023-01-29001651  0016512022-12-20   \n3      7180161200GL026  2022-12-012022-12-10001653  0016532022-12-01   \n4      7180161200GL026  2022-12-112022-12-19001653  0016532022-12-11   \n...                ...                         ...               ...   \n15623  6000003216AV006  2022-12-242022-12-24950701  9507012022-12-24   \n15624  6000003216AV006  2022-12-252023-02-05950701  9507012022-12-25   \n15625  6000003216AV006  2023-02-062023-02-06950701  9507012023-02-06   \n15626  6000003216AV006  2023-02-072023-02-07950701  9507012023-02-07   \n15627  6000003216AV006  2023-02-082023-12-31950701  9507012023-02-08   \n\n       trip_headsign  trip_short_name  direction_id  block_id  shape_id  \\\n0                NaN              165           NaN       NaN       NaN   \n1                NaN              165           NaN       NaN       NaN   \n2                NaN              165           NaN       NaN       NaN   \n3                NaN              165           NaN       NaN       NaN   \n4                NaN              165           NaN       NaN       NaN   \n...              ...              ...           ...       ...       ...   \n15623            NaN            95070           NaN       NaN       NaN   \n15624            NaN            95070           NaN       NaN       NaN   \n15625            NaN            95070           NaN       NaN       NaN   \n15626            NaN            95070           NaN       NaN       NaN   \n15627            NaN            95070           NaN       NaN       NaN   \n\n       wheelchair_accessible                                                                                                                                                                                                                                                  \n0                                                      1                                                                                                                                                                                                                      \n1                                                      2                                                                                                                                                                                                                      \n2                                                      2                                                                                                                                                                                                                      \n3                                                      2                                                                                                                                                                                                                      \n4                                                      2                                                                                                                                                                                                                      \n...                                                  ...                                                                                                                                                                                                                      \n15623                                                  2                                                                                                                                                                                                                      \n15624                                                  2                                                                                                                                                                                                                      \n15625                                                  2                                                                                                                                                                                                                      \n15626                                                  2                                                                                                                                                                                                                      \n15627                                                  2                                                                                                                                                                                                                      \n\n[11935 rows x 9 columns]",
      "text/html": "<div>\n<style scoped>\n    .dataframe tbody tr th:only-of-type {\n        vertical-align: middle;\n    }\n\n    .dataframe tbody tr th {\n        vertical-align: top;\n    }\n\n    .dataframe thead th {\n        text-align: right;\n    }\n</style>\n<table border=\"1\" class=\"dataframe\">\n  <thead>\n    <tr style=\"text-align: right;\">\n      <th></th>\n      <th>route_id</th>\n      <th>service_id</th>\n      <th>trip_id</th>\n      <th>trip_headsign</th>\n      <th>trip_short_name</th>\n      <th>direction_id</th>\n      <th>block_id</th>\n      <th>shape_id</th>\n      <th>wheelchair_accessible</th>\n    </tr>\n  </thead>\n  <tbody>\n    <tr>\n      <th>0</th>\n      <td>7180161307GL026</td>\n      <td>2022-12-012022-12-10001651</td>\n      <td>0016512022-12-01</td>\n      <td>NaN</td>\n      <td>165</td>\n      <td>NaN</td>\n      <td>NaN</td>\n      <td>NaN</td>\n      <td>1</td>\n    </tr>\n    <tr>\n      <th>1</th>\n      <td>7180161307GL026</td>\n      <td>2022-12-112022-12-19001651</td>\n      <td>0016512022-12-11</td>\n      <td>NaN</td>\n      <td>165</td>\n      <td>NaN</td>\n      <td>NaN</td>\n      <td>NaN</td>\n      <td>2</td>\n    </tr>\n    <tr>\n      <th>2</th>\n      <td>7180161307GL026</td>\n      <td>2022-12-202023-01-29001651</td>\n      <td>0016512022-12-20</td>\n      <td>NaN</td>\n      <td>165</td>\n      <td>NaN</td>\n      <td>NaN</td>\n      <td>NaN</td>\n      <td>2</td>\n    </tr>\n    <tr>\n      <th>3</th>\n      <td>7180161200GL026</td>\n      <td>2022-12-012022-12-10001653</td>\n      <td>0016532022-12-01</td>\n      <td>NaN</td>\n      <td>165</td>\n      <td>NaN</td>\n      <td>NaN</td>\n      <td>NaN</td>\n      <td>2</td>\n    </tr>\n    <tr>\n      <th>4</th>\n      <td>7180161200GL026</td>\n      <td>2022-12-112022-12-19001653</td>\n      <td>0016532022-12-11</td>\n      <td>NaN</td>\n      <td>165</td>\n      <td>NaN</td>\n      <td>NaN</td>\n      <td>NaN</td>\n      <td>2</td>\n    </tr>\n    <tr>\n      <th>...</th>\n      <td>...</td>\n      <td>...</td>\n      <td>...</td>\n      <td>...</td>\n      <td>...</td>\n      <td>...</td>\n      <td>...</td>\n      <td>...</td>\n      <td>...</td>\n    </tr>\n    <tr>\n      <th>15623</th>\n      <td>6000003216AV006</td>\n      <td>2022-12-242022-12-24950701</td>\n      <td>9507012022-12-24</td>\n      <td>NaN</td>\n      <td>95070</td>\n      <td>NaN</td>\n      <td>NaN</td>\n      <td>NaN</td>\n      <td>2</td>\n    </tr>\n    <tr>\n      <th>15624</th>\n      <td>6000003216AV006</td>\n      <td>2022-12-252023-02-05950701</td>\n      <td>9507012022-12-25</td>\n      <td>NaN</td>\n      <td>95070</td>\n      <td>NaN</td>\n      <td>NaN</td>\n      <td>NaN</td>\n      <td>2</td>\n    </tr>\n    <tr>\n      <th>15625</th>\n      <td>6000003216AV006</td>\n      <td>2023-02-062023-02-06950701</td>\n      <td>9507012023-02-06</td>\n      <td>NaN</td>\n      <td>95070</td>\n      <td>NaN</td>\n      <td>NaN</td>\n      <td>NaN</td>\n      <td>2</td>\n    </tr>\n    <tr>\n      <th>15626</th>\n      <td>6000003216AV006</td>\n      <td>2023-02-072023-02-07950701</td>\n      <td>9507012023-02-07</td>\n      <td>NaN</td>\n      <td>95070</td>\n      <td>NaN</td>\n      <td>NaN</td>\n      <td>NaN</td>\n      <td>2</td>\n    </tr>\n    <tr>\n      <th>15627</th>\n      <td>6000003216AV006</td>\n      <td>2023-02-082023-12-31950701</td>\n      <td>9507012023-02-08</td>\n      <td>NaN</td>\n      <td>95070</td>\n      <td>NaN</td>\n      <td>NaN</td>\n      <td>NaN</td>\n      <td>2</td>\n    </tr>\n  </tbody>\n</table>\n<p>11935 rows × 9 columns</p>\n</div>"
     },
     "execution_count": 16,
     "metadata": {},
     "output_type": "execute_result"
    }
   ],
   "source": [
    "s = {'GL', 'AV', 'LC'}\n",
    "\n",
    "# Service id es único\n",
    "# Route ids se repiten\n",
    "\n",
    "renfe_schedules['trips'] = renfe_schedules['trips'][renfe_schedules['trips']['route_id'].str.contains('|'.join(s))]\n",
    "\n",
    "renfe_schedules['trips']"
   ],
   "metadata": {
    "collapsed": false
   }
  },
  {
   "cell_type": "code",
   "execution_count": 17,
   "outputs": [
    {
     "data": {
      "text/plain": "292"
     },
     "execution_count": 17,
     "metadata": {},
     "output_type": "execute_result"
    }
   ],
   "source": [
    "x = renfe_schedules['trips'].route_id.values\n",
    "\n",
    "x = len(set(x))\n",
    "\n",
    "x"
   ],
   "metadata": {
    "collapsed": false
   }
  },
  {
   "cell_type": "code",
   "execution_count": 7,
   "outputs": [
    {
     "name": "stdout",
     "output_type": "stream",
     "text": [
      "[61307,Cartagena,CAR,(37.604967, -0.975122)]\n"
     ]
    }
   ],
   "source": [
    "os.chdir(\"..\")\n",
    "from src.robin.offer.entities import *\n",
    "\n",
    "s = Station(0, \"MAD\", \"Madrid\")\n",
    "\n",
    "df = renfe_schedules['stops']\n",
    "\n",
    "df['stop_id'] = df['stop_id'].astype(int)\n",
    "df['stop_lat'] = df['stop_lat'].astype(float)\n",
    "df['stop_lon'] = df['stop_lon'].astype(float)\n",
    "\n",
    "stopsD = dict(zip(df.stop_name, zip(df.stop_id, zip(df.stop_lat, df.stop_lon))))\n",
    "\n",
    "stations = [Station(stopsD[s][0], str(s), str(str(s)[:3].upper()), stopsD[s][1]) for s in stopsD]\n",
    "\n",
    "print(stations[1])"
   ],
   "metadata": {
    "collapsed": false
   }
  },
  {
   "cell_type": "code",
   "execution_count": 20,
   "outputs": [
    {
     "name": "stdout",
     "output_type": "stream",
     "text": [
      "292\n",
      "11935\n",
      "11929\n"
     ]
    }
   ],
   "source": [
    "x = renfe_schedules['trips'].route_id.values\n",
    "\n",
    "x = len(set(x))\n",
    "\n",
    "print(x)\n",
    "print(len(renfe_schedules['trips'].route_id.values))\n",
    "y = sum([1 for v in renfe_schedules['trips'].route_id.values if len(v) == 15])\n",
    "print(y)"
   ],
   "metadata": {
    "collapsed": false
   }
  },
  {
   "cell_type": "code",
   "execution_count": 9,
   "outputs": [
    {
     "data": {
      "text/plain": "[(71801, 61307),\n (71801, 61307),\n (71801, 61307),\n (71801, 61200),\n (71801, 61200),\n (71801, 61200),\n (17000, 37606),\n (17000, 37606),\n (17000, 37606),\n (17000, 37606),\n (37606, 17000),\n (37606, 17000),\n (37606, 17000),\n (37606, 17000),\n (17000, 37606),\n (17000, 37606),\n (17000, 37606),\n (17000, 37606),\n (37606, 17000),\n (37606, 17000),\n (37606, 17000),\n (37606, 17000),\n (37606, 17000),\n (37606, 17000),\n (37606, 17000),\n (37606, 17000),\n (37606, 17000),\n (37606, 17000),\n (37606, 17000),\n (37606, 17000),\n (37606, 17000),\n (37606, 17000),\n (37606, 17000),\n (37606, 17000),\n (37606, 17000),\n (37606, 17000),\n (61307, 71801),\n (61307, 71801),\n (61307, 71801),\n (61200, 71801),\n (61200, 71801),\n (61200, 71801),\n (17000, 56312),\n (17000, 56312),\n (17000, 50300),\n (17000, 50300),\n (56312, 17000),\n (56312, 17000),\n (50300, 17000),\n (50300, 17000),\n (11200, 13200),\n (11200, 13200),\n (11511, 11208),\n (11511, 11208),\n (11208, 11511),\n (11208, 11511),\n (13200, 11200),\n (13200, 11200),\n (13200, 71801),\n (13200, 71801),\n (4040, 71801),\n (4040, 71801),\n (13200, 11200),\n (13200, 11200),\n (71801, 13200),\n (71801, 13200),\n (71801, 4040),\n (71801, 4040),\n (11200, 13200),\n (11200, 13200),\n (71801, 11511),\n (71801, 11511),\n (71801, 11511),\n (71801, 11511),\n (11511, 71801),\n (11511, 71801),\n (11511, 78400),\n (11511, 78400),\n (20309, 22100),\n (20309, 22100),\n (20309, 22100),\n (20309, 22100),\n (20309, 22100),\n (22100, 20309),\n (22100, 20309),\n (22100, 20309),\n (22100, 20309),\n (22100, 20309),\n (22100, 20309),\n (22100, 20309),\n (71801, 80100),\n (71801, 80100),\n (71801, 80100),\n (71801, 80100),\n (71801, 80100),\n (71801, 80100),\n (80100, 71801),\n (80100, 71801),\n (80100, 71801),\n (80100, 71801),\n (80100, 71801),\n (80100, 71801),\n (80100, 60000),\n (80100, 60000),\n (60000, 80100),\n (60000, 80100),\n (60000, 80100),\n (60000, 80100),\n (60000, 80100),\n (60000, 80100),\n (60000, 80100),\n (80100, 60000),\n (80100, 60000),\n (60000, 80100),\n (60000, 80100),\n (60000, 80100),\n (60000, 80100),\n (80100, 60000),\n (80100, 60000),\n (80100, 60000),\n (80100, 60000),\n (80100, 60000),\n (80100, 60000),\n (80100, 60000),\n (60000, 80100),\n (60000, 80100),\n (60000, 80100),\n (60000, 80100),\n (80100, 60000),\n (80100, 60000),\n (80100, 60000),\n (80100, 60000),\n (80100, 60000),\n (80100, 60000),\n (80100, 60000),\n (80100, 60000),\n (80100, 60000),\n (80100, 60000),\n (60000, 80100),\n (60000, 80100),\n (60000, 80100),\n (60000, 80100),\n (60000, 80100),\n (60000, 80100),\n (60000, 80100),\n (60000, 80100),\n (60000, 80100),\n (22308, 71801),\n (22308, 71801),\n (22100, 71801),\n (22100, 71801),\n (22308, 71801),\n (22308, 71801),\n (15100, 71801),\n (15100, 71801),\n (71801, 22308),\n (71801, 22308),\n (71801, 22100),\n (71801, 22100),\n (71801, 22308),\n (71801, 22308),\n (71801, 15100),\n (71801, 15100),\n (71801, 4040),\n (71801, 4040),\n (11208, 15100),\n (11208, 15100),\n (31412, 71801),\n (31412, 71801),\n (22100, 71801),\n (22100, 71801),\n (31412, 71801),\n (31412, 71801),\n (15100, 71801),\n (15100, 71801),\n (71801, 31412),\n (71801, 31412),\n (71801, 22100),\n (71801, 22100),\n (71801, 31412),\n (71801, 31412),\n (71801, 15100),\n (71801, 15100),\n (71801, 4040),\n (71801, 4040),\n (11208, 15100),\n (11208, 15100),\n (30100, 71801),\n (30100, 71801),\n (4040, 78400),\n (4040, 78400),\n (11200, 11208),\n (11200, 11208),\n (71801, 30100),\n (71801, 30100),\n (71801, 30100),\n (71801, 30100),\n (78400, 30100),\n (78400, 30100),\n (78400, 11200),\n (78400, 11200),\n (51405, 71801),\n (51405, 71801),\n (51003, 71801),\n (51003, 71801),\n (71801, 51405),\n (71801, 51405),\n (71801, 51003),\n (71801, 51003),\n (60000, 81100),\n (60000, 81100),\n (60000, 81100),\n (60000, 81100),\n (60000, 81110),\n (60000, 81110),\n (60000, 81110),\n (60000, 81110),\n (81100, 60000),\n (81100, 60000),\n (81100, 60000),\n (81100, 60000),\n (81110, 60000),\n (81110, 60000),\n (81110, 60000),\n (81110, 60000),\n (60000, 81100),\n (60000, 81100),\n (81100, 60000),\n (81100, 60000),\n (80100, 60000),\n (80100, 60000),\n (80100, 60000),\n (80100, 60000),\n (80100, 60000),\n (80100, 60000),\n (80100, 60000),\n (80100, 60000),\n (60000, 80100),\n (60000, 80100),\n (80100, 60000),\n (80100, 60000),\n (80100, 60000),\n (80100, 60000),\n (80100, 60000),\n (80100, 60000),\n (80100, 60000),\n (80100, 60000),\n (80100, 60000),\n (71801, 60911),\n (71801, 60911),\n (71801, 60911),\n (71801, 60911),\n (71801, 60911),\n (71801, 60911),\n (71801, 3216),\n (3216, 71801),\n (3216, 71801),\n (3216, 71801),\n (3216, 71801),\n (65000, 71801),\n (65000, 71801),\n (65000, 71801),\n (65000, 71801),\n (65000, 71801),\n (65000, 71801),\n (65000, 71801),\n (65000, 71801),\n (65000, 71801),\n (65000, 71801),\n (65000, 71801),\n (65000, 71801),\n (65000, 71801),\n (65000, 71801),\n (65000, 71801),\n (65000, 71801),\n (65000, 71801),\n (65000, 71801),\n (65000, 71801),\n (65000, 71801),\n (65000, 71801),\n (65000, 71801),\n (65000, 71801),\n (65000, 71801),\n (65000, 71801),\n (65000, 71801),\n (65000, 71801),\n (65000, 71801),\n (65000, 71801),\n (65000, 71801),\n (65000, 71801),\n (65000, 71801),\n (65000, 71801),\n (65000, 71801),\n (65000, 71801),\n (65000, 71801),\n (65000, 71801),\n (65000, 71801),\n (65000, 71801),\n (65000, 71801),\n (65000, 71801),\n (65000, 71801),\n (4307, 3216),\n (4307, 3216),\n (4307, 3216),\n (4307, 3216),\n (4307, 3216),\n (4307, 3216),\n (4307, 3216),\n (4307, 3216),\n (71801, 3216),\n (71801, 3216),\n (71801, 3216),\n (71801, 3216),\n (71801, 3216),\n (71801, 3216),\n (71801, 3216),\n (71801, 3216),\n (71801, 3216),\n (71801, 3216),\n (71801, 3216),\n (71801, 3216),\n (71801, 3216),\n (60911, 71801),\n (60911, 71801),\n (60911, 71801),\n (60911, 71801),\n (60911, 71801),\n (60911, 71801),\n (3216, 71801),\n (3216, 71801),\n (4307, 60911),\n (4307, 60911),\n (4307, 60911),\n (4307, 60911),\n (4307, 60911),\n (4307, 60911),\n (4307, 60911),\n (4307, 60911),\n (4307, 60911),\n (4307, 60911),\n (71801, 60911),\n (71801, 60911),\n (71801, 60911),\n (71801, 60911),\n (71801, 60911),\n (71801, 60911),\n (71801, 60911),\n (71801, 60911),\n (71801, 60911),\n (71801, 60911),\n (4307, 3216),\n (4307, 3216),\n (4307, 3216),\n (4307, 3216),\n (4307, 3216),\n (60911, 71801),\n (60911, 71801),\n (60911, 71801),\n (60911, 71801),\n (60911, 71801),\n (60911, 71801),\n (3216, 71801),\n (3216, 71801),\n (71801, 65000),\n (71801, 65000),\n (71801, 65000),\n (71801, 65000),\n (3216, 71801),\n (3216, 71801),\n (3216, 71801),\n (3216, 71801),\n (3216, 71801),\n (71801, 60911),\n (71801, 60911),\n (71801, 60911),\n (71801, 60911),\n (71801, 60911),\n (71801, 60911),\n (71801, 60911),\n (71801, 60911),\n (71801, 60911),\n (71801, 60911),\n (71801, 3216),\n (71801, 3216),\n (71801, 3216),\n (71801, 3216),\n (60911, 71801),\n (60911, 71801),\n (3216, 71801),\n (71801, 60911),\n (71801, 60911),\n (71801, 60911),\n (71801, 60911),\n (71801, 60911),\n (71801, 60911),\n (71801, 60911),\n (71801, 60911),\n (71801, 60911),\n (71801, 60911),\n (71801, 3216),\n (3216, 71801),\n (3216, 71801),\n (3216, 71801),\n (60911, 71801),\n (60911, 71801),\n (60911, 71801),\n (60911, 71801),\n (60911, 71801),\n (60911, 71801),\n (3216, 71801),\n (71801, 3216),\n (71801, 3216),\n (71801, 65000),\n (71801, 65000),\n (71801, 65000),\n (71801, 65000),\n (71801, 65000),\n (71801, 65000),\n (71801, 65000),\n (71801, 65000),\n (71801, 65000),\n (71801, 65000),\n (71801, 65000),\n (71801, 65000),\n (71801, 65000),\n (71801, 65000),\n (71801, 65000),\n (71801, 65000),\n (71801, 65000),\n (71801, 65000),\n (71801, 65000),\n (71801, 65000),\n (71801, 65000),\n (71801, 65000),\n (71801, 65000),\n (71801, 65000),\n (71801, 65000),\n (71801, 65000),\n (71801, 65000),\n (71801, 65000),\n (71801, 65000),\n (71801, 65000),\n (71801, 65000),\n (71801, 65000),\n (71801, 65000),\n (71801, 65000),\n (71801, 65000),\n (71801, 65000),\n (71801, 65000),\n (71801, 65000),\n (71801, 65000),\n (71801, 65000),\n (71801, 65000),\n (71801, 65000),\n (71801, 65000),\n (71801, 60911),\n (71801, 60911),\n (71801, 60911),\n (60911, 71801),\n (60911, 71801),\n (60911, 71801),\n (60911, 71801),\n (71801, 60911),\n (71801, 60911),\n (71801, 60911),\n (71801, 60911),\n (71801, 60911),\n (65000, 71801),\n (65000, 71801),\n (65000, 71801),\n (65000, 71801),\n (60911, 71801),\n (60911, 71801),\n (60911, 71801),\n (60911, 71801),\n (65000, 71801),\n (65000, 71801),\n (65000, 71801),\n (65000, 71801),\n (54413, 60000),\n (54413, 60000),\n (54413, 60000),\n (54413, 60000),\n (54413, 60000),\n (60000, 51003),\n (60000, 51003),\n (60000, 51003),\n (60000, 51003),\n (60000, 51003),\n (60000, 51003),\n (60000, 51003),\n (60000, 51003),\n (60000, 51003),\n (60000, 51003),\n (60000, 51003),\n (60000, 51003),\n (60000, 51003),\n (60000, 51003),\n (60000, 51003),\n (60000, 51003),\n (60000, 51003),\n (60000, 51003),\n (60000, 51003),\n (60000, 51003),\n (60000, 51003),\n (60000, 51003),\n (51003, 60000),\n (51003, 60000),\n (51003, 60000),\n (51003, 60000),\n (51003, 60000),\n (51003, 60000),\n (51003, 60000),\n (51003, 60000),\n (51003, 60000),\n (51003, 60000),\n (51003, 60000),\n (51003, 60000),\n (60000, 54413),\n (60000, 54413),\n (60000, 54413),\n (60000, 54413),\n (60000, 54413),\n (60000, 51405),\n (60000, 51405),\n (60000, 51405),\n (60000, 51405),\n (60000, 51405),\n (60000, 51405),\n (60000, 51405),\n (60000, 51405),\n (60000, 37704),\n (60000, 37704),\n (60000, 37704),\n (60000, 37704),\n (37704, 50500),\n (37704, 50500),\n (37704, 50500),\n (37704, 50500),\n (50500, 51405),\n (50500, 51405),\n (50500, 51405),\n (50500, 51405),\n (51405, 60000),\n (51405, 60000),\n (51405, 60000),\n (51405, 60000),\n (51405, 60000),\n (51405, 60000),\n (51405, 60000),\n (51405, 60000),\n (37704, 60000),\n (37704, 60000),\n (37704, 60000),\n (37704, 60000),\n (50500, 37704),\n (50500, 37704),\n (50500, 37704),\n (50500, 37704),\n (51405, 50500),\n (51405, 50500),\n (51405, 50500),\n (51405, 50500),\n (60000, 5000),\n (60000, 5000),\n (60000, 5000),\n (60000, 5000),\n (60000, 5000),\n (60000, 5000),\n (60000, 5000),\n (60000, 5000),\n (60000, 5000),\n (60000, 5000),\n (5000, 60000),\n (5000, 60000),\n (5000, 60000),\n (5000, 60000),\n (5000, 60000),\n (5000, 60000),\n (5000, 60000),\n (5000, 60000),\n (5000, 60000),\n (5000, 60000),\n (60000, 51003),\n (60000, 51003),\n (60000, 51003),\n (60000, 51003),\n (60000, 51003),\n (60000, 51003),\n (60000, 51003),\n (60000, 51003),\n (60000, 51003),\n (60000, 51003),\n (51003, 60000),\n (51003, 60000),\n (51003, 60000),\n (51003, 60000),\n (51003, 60000),\n (51003, 60000),\n (51003, 60000),\n (51003, 60000),\n (51003, 60000),\n (51003, 60000),\n (60000, 54413),\n (60000, 54413),\n (60000, 54413),\n (60000, 54413),\n (60000, 54413),\n (54413, 60000),\n (54413, 60000),\n (54413, 60000),\n (54413, 60000),\n (54413, 60000),\n (60000, 51003),\n (60000, 51003),\n (60000, 51003),\n (60000, 51003),\n (60000, 51003),\n (60000, 51003),\n (60000, 51003),\n (60000, 54413),\n (60000, 54413),\n (60000, 54413),\n (60000, 54413),\n (60000, 54413),\n (60000, 54413),\n (60000, 54413),\n (60000, 54413),\n (60000, 54413),\n (60000, 54413),\n (60000, 54413),\n (60000, 54413),\n (60000, 54413),\n (60000, 54413),\n (60000, 54413),\n (60000, 54413),\n (60000, 54413),\n (60000, 54413),\n (60000, 54413),\n (60000, 54413),\n (60000, 54413),\n (60000, 54413),\n (60000, 54413),\n (60000, 54413),\n (60000, 54413),\n (60000, 54413),\n (60000, 54413),\n (60000, 54413),\n (60000, 54413),\n (60000, 54413),\n (60000, 54413),\n (60000, 54413),\n (60000, 54413),\n (60000, 54413),\n (60000, 54413),\n (60000, 54413),\n (60000, 54413),\n (60000, 54413),\n (60000, 54413),\n (60000, 54413),\n (60000, 54413),\n (60000, 54413),\n (60000, 54413),\n (60000, 54413),\n (60000, 54413),\n (60000, 54413),\n (60000, 54413),\n (60000, 54413),\n (60000, 54413),\n (60000, 54413),\n (60000, 54413),\n (60000, 54413),\n (60000, 54413),\n (60000, 54413),\n (60000, 54413),\n (60000, 54413),\n (60000, 54413),\n (60000, 54413),\n (60000, 54413),\n (60000, 54413),\n (60000, 54413),\n (60000, 54413),\n (60000, 54413),\n (60000, 54413),\n (60000, 54413),\n (60000, 54413),\n (60000, 54413),\n (60000, 54413),\n (60000, 54413),\n (60000, 54413),\n (60000, 54413),\n (60000, 54413),\n (60000, 54413),\n (60000, 54413),\n (60000, 54413),\n (60000, 54413),\n (60000, 54413),\n (60000, 54413),\n (60000, 54413),\n (60000, 54413),\n (60000, 54413),\n (60000, 54413),\n (60000, 54413),\n (60000, 54413),\n (60000, 54413),\n (60000, 54413),\n (60000, 54413),\n (60000, 54413),\n (60000, 54413),\n (60000, 54413),\n (60000, 54413),\n (60000, 54413),\n (60000, 54413),\n (60000, 54413),\n (60000, 54413),\n (60000, 54413),\n (60000, 54413),\n (60000, 54413),\n (60000, 54413),\n (60000, 54413),\n (60000, 54413),\n (60000, 54413),\n (60000, 54413),\n (60000, 54413),\n (60000, 54413),\n (60000, 54413),\n (60000, 54413),\n (60000, 54413),\n (60000, 54413),\n (60000, 54413),\n (60000, 54413),\n (60000, 54413),\n (60000, 54413),\n (60000, 54413),\n (60000, 54413),\n (60000, 54413),\n (60000, 54413),\n (60000, 54413),\n (60000, 54413),\n (60000, 54413),\n (60000, 54413),\n (60000, 54413),\n (60000, 54413),\n (60000, 54413),\n (60000, 54413),\n (60000, 54413),\n (60000, 54413),\n (60000, 54413),\n (60000, 54413),\n (60000, 54413),\n (60000, 54413),\n (60000, 54413),\n (60000, 54413),\n (60000, 54413),\n (60000, 54413),\n (60000, 54413),\n (60000, 54413),\n (60000, 54413),\n (60000, 54413),\n (60000, 54413),\n (60000, 54413),\n (60000, 54413),\n (60000, 54413),\n (60000, 54413),\n (60000, 54413),\n (60000, 54413),\n (60000, 54413),\n (60000, 54413),\n (60000, 54413),\n (60000, 54413),\n (60000, 54413),\n (60000, 54413),\n (60000, 54413),\n (60000, 54413),\n (60000, 54413),\n (60000, 54413),\n (60000, 54413),\n (60000, 54413),\n (60000, 54413),\n (60000, 54413),\n (60000, 54413),\n (60000, 54413),\n (60000, 54413),\n (60000, 54413),\n (60000, 54413),\n (60000, 54413),\n (60000, 54413),\n (60000, 54413),\n (60000, 54413),\n (60000, 54413),\n (60000, 54413),\n (60000, 54413),\n (60000, 54413),\n (60000, 54413),\n (60000, 54413),\n (60000, 54413),\n (60000, 54413),\n (60000, 54413),\n (60000, 54413),\n (60000, 54413),\n (60000, 54413),\n (60000, 54413),\n (60000, 54413),\n (60000, 54413),\n (60000, 54413),\n (60000, 54413),\n (60000, 54413),\n (60000, 54413),\n (60000, 54413),\n (60000, 54413),\n (60000, 54413),\n (60000, 54413),\n (60000, 54413),\n (60000, 54413),\n (60000, 54413),\n (60000, 54413),\n (60000, 54413),\n (60000, 54413),\n (60000, 54413),\n (60000, 54413),\n (60000, 54413),\n (60000, 54413),\n (60000, 54413),\n (60000, 54413),\n (60000, 54413),\n (60000, 54413),\n (60000, 54413),\n (60000, 54413),\n (60000, 54413),\n (60000, 54413),\n (60000, 54413),\n (60000, 54413),\n (60000, 54413),\n (60000, 54413),\n (60000, 54413),\n (60000, 54413),\n (60000, 54413),\n (60000, 54413),\n (60000, 54413),\n (60000, 54413),\n (60000, 54413),\n (60000, 54413),\n (60000, 54413),\n (60000, 54413),\n (54413, 60000),\n (54413, 60000),\n (54413, 60000),\n (54413, 60000),\n (54413, 60000),\n (54413, 60000),\n (54413, 60000),\n (54413, 60000),\n (54413, 60000),\n (54413, 60000),\n (54413, 60000),\n (54413, 60000),\n (54413, 60000),\n (54413, 60000),\n (54413, 60000),\n (54413, 60000),\n (54413, 60000),\n (60000, 51003),\n (60000, 51003),\n (60000, 51003),\n (60000, 51003),\n (60000, 51003),\n (60000, 51003),\n (60000, 51003),\n (60000, 51003),\n (60000, 51003),\n (60000, 51003),\n (51003, 60000),\n (51003, 60000),\n (51003, 60000),\n (51003, 60000),\n (51003, 60000),\n (51003, 60000),\n (51003, 60000),\n (51003, 60000),\n (51003, 60000),\n (51003, 60000),\n (54413, 60000),\n (54413, 60000),\n (54413, 60000),\n (54413, 60000),\n (54413, 60000),\n (54413, 60000),\n (54413, 60000),\n (54413, 60000),\n (54413, 60000),\n (54413, 60000),\n (51003, 60000),\n (51003, 60000),\n (51003, 60000),\n (51003, 60000),\n (51003, 60000),\n (51003, 60000),\n (51003, 60000),\n (51003, 60000),\n (51003, 60000),\n (51003, 60000),\n (60000, 54413),\n (60000, 54413),\n (60000, 54413),\n (60000, 54413),\n (60000, 54413),\n (60000, 54413),\n (60000, 54413),\n (60000, 54413),\n (60000, 54413),\n (60000, 54413),\n (60000, 54413),\n (60000, 54413),\n (60000, 54413),\n (60000, 54413),\n (60000, 54413),\n (60000, 54413),\n (60000, 54413),\n (60000, 54413),\n (60000, 54413),\n (60000, 54413),\n (60000, 54413),\n (54413, 60000),\n (54413, 60000),\n (54413, 60000),\n (54413, 60000),\n (54413, 60000),\n (54413, 60000),\n (54413, 60000),\n (54413, 60000),\n (54413, 60000),\n (54413, 60000),\n (54413, 60000),\n (54413, 60000),\n (60000, 51405),\n (60000, 51405),\n (60000, 51405),\n (60000, 51405),\n (51405, 60000),\n (51405, 60000),\n (51405, 60000),\n (51405, 60000),\n (60000, 51003),\n (60000, 51003),\n (60000, 51003),\n (60000, 51003),\n (60000, 51003),\n (60000, 51003),\n (60000, 51003),\n (60000, 51003),\n (60000, 51003),\n (60000, 51003),\n (60000, 51003),\n (51003, 60000),\n (51003, 60000),\n (51003, 60000),\n (51003, 60000),\n (51003, 60000),\n (51003, 60000),\n (51003, 60000),\n (51003, 60000),\n (51003, 60000),\n (51003, 60000),\n (51003, 60000),\n (60000, 54413),\n (60000, 54413),\n (60000, 54413),\n (60000, 54413),\n (60000, 54413),\n (60000, 54413),\n (60000, 54413),\n (60000, 54413),\n (60000, 54413),\n (60000, 54413),\n (54413, 60000),\n (54413, 60000),\n (54413, 60000),\n (54413, 60000),\n (54413, 60000),\n (54413, 60000),\n (54413, 60000),\n (54413, 60000),\n (54413, 60000),\n (54413, 60000),\n (54413, 60000),\n (60000, 5000),\n (60000, 5000),\n (60000, 5000),\n (60000, 5000),\n (60000, 5000),\n (60000, 5000),\n (60000, 5000),\n (60000, 5000),\n (60000, 5000),\n (60000, 5000),\n (60000, 51003),\n (60000, 51003),\n (60000, 51003),\n (60000, 51003),\n (60000, 51003),\n ...]"
     },
     "execution_count": 9,
     "metadata": {},
     "output_type": "execute_result"
    }
   ],
   "source": [
    "pairs = []\n",
    "for v in renfe_schedules['trips'].route_id.values:\n",
    "    if len(v) == 15:\n",
    "        try:\n",
    "            org = int(v[:5])\n",
    "            dest = int(v[5:10])\n",
    "        except:\n",
    "            continue\n",
    "        pairs.append((org, dest))\n",
    "\n",
    "pairs"
   ],
   "metadata": {
    "collapsed": false
   }
  },
  {
   "cell_type": "code",
   "execution_count": 10,
   "outputs": [
    {
     "data": {
      "text/plain": "array(['7180161307GL026', '7180161307GL026', '7180161307GL026', ...,\n       '6000003216AV006', '6000003216AV006', '6000003216AV006'],\n      dtype=object)"
     },
     "execution_count": 10,
     "metadata": {},
     "output_type": "execute_result"
    }
   ],
   "source": [
    "renfe_schedules['trips'].route_id.values"
   ],
   "metadata": {
    "collapsed": false
   }
  },
  {
   "cell_type": "code",
   "execution_count": 11,
   "outputs": [],
   "source": [
    "pairsStation = []\n",
    "\n",
    "for p in pairs:\n",
    "    keys = [s.id for s in stations]\n",
    "    if p[0] in keys and p[1] in keys:\n",
    "        o_index = keys.index(p[0])\n",
    "        d_index = keys.index(p[1])\n",
    "        pairsStation.append((stations[o_index], stations[d_index]))"
   ],
   "metadata": {
    "collapsed": false
   }
  },
  {
   "cell_type": "code",
   "execution_count": 12,
   "outputs": [
    {
     "name": "stdout",
     "output_type": "stream",
     "text": [
      "[71801,Barcelona-Sants,BAR,(41.37922, 2.140624)], [61307,Cartagena,CAR,(37.604967, -0.975122)], \n",
      "[71801,Barcelona-Sants,BAR,(41.37922, 2.140624)], [61307,Cartagena,CAR,(37.604967, -0.975122)], \n",
      "[71801,Barcelona-Sants,BAR,(41.37922, 2.140624)], [61307,Cartagena,CAR,(37.604967, -0.975122)], \n",
      "[71801,Barcelona-Sants,BAR,(41.37922, 2.140624)], [61200,Murcia,MUR,(37.97465, -1.1299555)], \n",
      "[71801,Barcelona-Sants,BAR,(41.37922, 2.140624)], [61200,Murcia,MUR,(37.97465, -1.1299555)], \n",
      "11929\n"
     ]
    }
   ],
   "source": [
    "for ps in pairsStation[:5]:\n",
    "    for s in ps:\n",
    "        print(s, end= \", \")\n",
    "    print()\n",
    "\n",
    "print(len(pairsStation))"
   ],
   "metadata": {
    "collapsed": false
   }
  },
  {
   "cell_type": "code",
   "execution_count": 13,
   "outputs": [],
   "source": [
    "setPairs = set(pairsStation)"
   ],
   "metadata": {
    "collapsed": false
   }
  },
  {
   "cell_type": "code",
   "execution_count": 14,
   "outputs": [
    {
     "name": "stdout",
     "output_type": "stream",
     "text": [
      "237\n"
     ]
    }
   ],
   "source": [
    "print(len(setPairs))"
   ],
   "metadata": {
    "collapsed": false
   }
  },
  {
   "cell_type": "code",
   "execution_count": 15,
   "outputs": [
    {
     "name": "stdout",
     "output_type": "stream",
     "text": [
      "[10600,Valladolid,VAL,(41.642167, -4.726986)], [11014,Burgos-Rosa de Lima,BUR,(42.371197, -3.666308)], \n",
      "[17000,Madrid-Chamartin,MAD,(40.4720993, -3.6824687)], [60911,Alicante/alacant,ALI,(38.34445, -0.4950527)], \n",
      "[11208,Vitoria/gasteiz,VIT,(42.841517, -2.672601)], [11511,San Sebastian/donostia,SAN,(43.317669, -1.976704)], \n",
      "[4040,Zaragoza-Delicias,ZAR,(41.658649, -0.911615)], [70600,Calatayud,CAL,(41.346692, -1.63868)], \n",
      "[65312,Vinaros,VIN,(40.471682, 0.455727)], [3216,Valencia Joaquin Sorolla,VAL,(39.459051, -0.382923)], \n"
     ]
    }
   ],
   "source": [
    "for sp in list(setPairs)[:5]:\n",
    "    for s in sp:\n",
    "        print(s, end=\", \")\n",
    "    print()"
   ],
   "metadata": {
    "collapsed": false
   }
  },
  {
   "cell_type": "code",
   "execution_count": 16,
   "outputs": [],
   "source": [
    "station_ids = set(pairs)"
   ],
   "metadata": {
    "collapsed": false
   }
  },
  {
   "cell_type": "code",
   "execution_count": 19,
   "outputs": [
    {
     "data": {
      "text/plain": "[(51405, 60000), (71801, 13200), (81100, 60000), (2003, 78400), (31412, 21010)]"
     },
     "execution_count": 19,
     "metadata": {},
     "output_type": "execute_result"
    }
   ],
   "source": [
    "lines = s = {'GL', 'AV', 'LC'}\n",
    "\n",
    "# Service id es único\n",
    "# Route ids se repiten\n",
    "\n",
    "renfe_schedules['trips'] = renfe_schedules['trips'][renfe_schedules['trips']['route_id'].str.contains('|'.join(s))]"
   ],
   "metadata": {
    "collapsed": false
   }
  },
  {
   "cell_type": "code",
   "execution_count": 20,
   "outputs": [
    {
     "data": {
      "text/plain": "{((1, 2), (2, 3), (3, 4)), ((1, 2), (2, 7), (7, 9))}"
     },
     "execution_count": 20,
     "metadata": {},
     "output_type": "execute_result"
    }
   ],
   "source": [
    "c = (((1, 2), (2, 3), (3, 4)), ((1, 2), (2, 7), (7, 9)), ((1, 2), (2, 3), (3, 4)))\n",
    "\n",
    "set(c)"
   ],
   "metadata": {
    "collapsed": false
   }
  },
  {
   "cell_type": "code",
   "execution_count": null,
   "outputs": [],
   "source": [],
   "metadata": {
    "collapsed": false
   }
  }
 ],
 "metadata": {
  "kernelspec": {
   "display_name": "Python 3",
   "language": "python",
   "name": "python3"
  },
  "language_info": {
   "codemirror_mode": {
    "name": "ipython",
    "version": 2
   },
   "file_extension": ".py",
   "mimetype": "text/x-python",
   "name": "python",
   "nbconvert_exporter": "python",
   "pygments_lexer": "ipython2",
   "version": "2.7.6"
  }
 },
 "nbformat": 4,
 "nbformat_minor": 0
}
