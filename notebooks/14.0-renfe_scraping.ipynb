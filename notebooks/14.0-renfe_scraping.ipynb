{
 "cells": [
  {
   "cell_type": "markdown",
   "source": [
    "# Get Line of stations from Renfe data"
   ],
   "metadata": {
    "collapsed": false
   },
   "id": "d28460963881a6ec"
  },
  {
   "cell_type": "code",
   "execution_count": 1,
   "id": "initial_id",
   "metadata": {
    "collapsed": true,
    "ExecuteTime": {
     "end_time": "2024-03-14T16:29:54.694957Z",
     "start_time": "2024-03-14T16:29:54.681600Z"
    }
   },
   "outputs": [],
   "source": [
    "%load_ext autoreload\n",
    "%autoreload 2"
   ]
  },
  {
   "cell_type": "code",
   "execution_count": 2,
   "outputs": [],
   "source": [
    "import sys\n",
    "\n",
    "sys.path.append('..')"
   ],
   "metadata": {
    "collapsed": false,
    "ExecuteTime": {
     "end_time": "2024-03-14T16:29:55.473752Z",
     "start_time": "2024-03-14T16:29:55.364549Z"
    }
   },
   "id": "cb3eba62325e05e8"
  },
  {
   "cell_type": "code",
   "execution_count": 2,
   "outputs": [
    {
     "name": "stdout",
     "output_type": "stream",
     "text": [
      "?: Estaciones de Origen\n",
      "31412: A Coruña\n",
      "94707: Abrantes\n",
      "60911: Alicante / Alacant\n",
      "60600: Albacete\n",
      "06008: Alcantarilla-Los Romanos\n",
      "60400: Alcázar de San Juan\n",
      "55020: Algeciras\n",
      "56312: Almería\n",
      "99003: Altet Bus\n",
      "99115: Aguadulce Bus\n",
      "87912: Aix En Provence\n",
      "99114: Andorra-Bus\n",
      "ANTEQ: Antequera (TODAS)\n",
      "87814: Avignon\n",
      "10400: Avila\n",
      "37606: Badajoz\n",
      "BARCE: Barcelona (TODAS)\n",
      "87078: Beziers\n",
      "65318: Benicassim\n",
      "BILBA: Bilbao (TODAS)\n",
      "54400: Bobadilla\n",
      "11014: Burgos Rosa Manzano\n",
      "35400: Cáceres\n",
      "51405: Cádiz\n",
      "70600: Calatayud\n",
      "50417: Campus Rabanales\n",
      "61307: Cartagena\n",
      "65300: Castellón /Castelló\n",
      "37200: Ciudad Real\n",
      "50500: Córdoba\n",
      "CUENC: Cuenca (TODAS)\n",
      "92201: Denia-Bus\n",
      "60905: Elda-Petrer\n",
      "03410: Elche AV/Elx AV\n",
      "94428: Entroncamento\n",
      "92157: Estepona Bus\n",
      "21010: Ferrol\n",
      "79309: Figueres\n",
      "79333: Figueres Bus\n",
      "04307: Figueres Vilafant\n",
      "69110: Gandía\n",
      "GIJON: Gijón\n",
      "79300: Girona\n",
      "05000: Granada\n",
      "GUADA: Guadalajara (TODAS)\n",
      "43019: Huelva\n",
      "74200: Huesca\n",
      "IRUN-: Irun-Hendaya (TODAS)\n",
      "80100: Pamplona/Iruña\n",
      "99103: Jaca-Bus\n",
      "03100: Jaén\n",
      "64100: Xàtiva/Játiva\n",
      "97639: Javea-Bus\n",
      "51300: Jerez de la Frontera\n",
      "06004: La Hoya\n",
      "15100: León\n",
      "50300: Linares-Baeza\n",
      "06001: Librilla\n",
      "LYON-: Lyon\n",
      "78400: Lleida\n",
      "81100: Logroño\n",
      "06005: Lorca-San Diego\n",
      "06006: Lorca-Sutullena\n",
      "99002: Los Arenales Bus\n",
      "20309: Lugo\n",
      "MADRI: Madrid (TODAS)\n",
      "54413: Málaga María Zambrano\n",
      "92124: Marbella Bus\n",
      "87089: Marseille St Charles\n",
      "94401: Lisboa Santa Apolonia\n",
      "MEDIN: Medina del Campo (TODAS)\n",
      "37500: Mérida\n",
      "11200: Miranda de Ebro\n",
      "20300: Monforte de Lemos\n",
      "78301: Monzón-Río Cinca\n",
      "MONTP: Montpellier\n",
      "61200: Murcia\n",
      "87088: Narbonne\n",
      "35206: Navalmoral de la Mata\n",
      "NIMES: Nimes\n",
      "94021: Nine\n",
      "94346: Porto Campanha-Oporto\n",
      "62002: Orihuela-Miguel Hernádez\n",
      "65304: Oropesa del Mar/Orpesa\n",
      "22100: Ourense\n",
      "15211: Oviedo\n",
      "23021: Padrón-Barbanza\n",
      "14100: Palencia\n",
      "87374: Perpignan\n",
      "20200: Ponferrada\n",
      "23004: Pontevedra\n",
      "79315: Portbou\n",
      "PUEBL: Puebla de Sanabria (TODAS)\n",
      "PTE G: Puente Genil (TODAS)\n",
      "51400: Puerto Santa María\n",
      "37300: Puertollano\n",
      "REDON: Redondela (TODAS)\n",
      "71400: Reus\n",
      "03213: Requena / Utiel\n",
      "99116: Roquetas-Bus\n",
      "15009: Sahagún\n",
      "SALAM: Salamanca (TODAS)\n",
      "S FER: San Fernando (TODAS)\n",
      "11511: San Sebastián/Donostia\n",
      "99001: Santa Pola Bus\n",
      "SANTA: Santander (TODAS)\n",
      "31400: Santiago de Compostela\n",
      "SEGOV: Segovia (TODAS)\n",
      "51003: Sevilla\n",
      "82100: Soria\n",
      "TARRA: Tarragona (TODAS)\n",
      "67200: Teruel\n",
      "92102: Toledo\n",
      "81202: Tudela de Navarra\n",
      "50102: Valdepeñas\n",
      "87810: Valence\n",
      "VALEN: Valencia (TODAS)\n",
      "22402: Valença do Minho\n",
      "10600: Valladolid Campo Grande\n",
      "94033: Vielha-Bus\n",
      "99853: Viana do Castelo\n",
      "VIGO-: Vigo (TODAS)\n",
      "37704: Vva. de Córdoba-Los Pedroches\n",
      "60902: Villena\n",
      "03309: Villena AV\n",
      "11208: Vitoria/Gasteiz\n",
      "40100: Zafra\n",
      "40008: Zafra Feria\n",
      "30200: Zamora\n",
      "ZARAG: Zaragoza (TODAS)\n"
     ]
    }
   ],
   "source": [
    "import datetime\n",
    "\n",
    "from src.robin.scraping.renfe.entities import RenfeScraper\n",
    "\n",
    "scraper = RenfeScraper(stations_csv_path='../data/renfe/renfe_stations.csv')\n",
    "\n",
    "for station_id, station_name in scraper.available_stations.items():\n",
    "    print(f'{station_id}: {station_name}')"
   ],
   "metadata": {
    "collapsed": false,
    "ExecuteTime": {
     "end_time": "2024-03-19T10:54:04.494180Z",
     "start_time": "2024-03-19T10:54:02.229984Z"
    }
   },
   "id": "e23ac93d044c3c9f"
  },
  {
   "cell_type": "code",
   "execution_count": 3,
   "outputs": [
    {
     "data": {
      "text/plain": "   stop_id                       stop_name renfe_id   stop_lat  stop_lon\n0    00000                         Unknown    00000   0.000000  0.000000\n1    31412                       A Corunya    31412  43.352761 -8.409755\n2    60911                 AlicanteAlacant    60911  38.344450 -0.495053\n3    60600             Albacete-Los Llanos    60600  38.999384 -1.848450\n4    60400             Alcazar de San Juan    60400  39.395628 -3.205744\n..     ...                             ...      ...        ...       ...\n92   13200  Bilbao-Abando Indalecio Prieto    BILBA  43.259609 -2.929150\n93   66100                          Cuenca    CUENC  40.067340 -2.136471\n94   15410                      GijonXixon    GIJON  43.535175 -5.698318\n95   70200                     Guadalajara    GUADA  40.644103 -3.182230\n96   78200                       Tardienta    78200  41.975751 -0.538314\n\n[97 rows x 5 columns]",
      "text/html": "<div>\n<style scoped>\n    .dataframe tbody tr th:only-of-type {\n        vertical-align: middle;\n    }\n\n    .dataframe tbody tr th {\n        vertical-align: top;\n    }\n\n    .dataframe thead th {\n        text-align: right;\n    }\n</style>\n<table border=\"1\" class=\"dataframe\">\n  <thead>\n    <tr style=\"text-align: right;\">\n      <th></th>\n      <th>stop_id</th>\n      <th>stop_name</th>\n      <th>renfe_id</th>\n      <th>stop_lat</th>\n      <th>stop_lon</th>\n    </tr>\n  </thead>\n  <tbody>\n    <tr>\n      <th>0</th>\n      <td>00000</td>\n      <td>Unknown</td>\n      <td>00000</td>\n      <td>0.000000</td>\n      <td>0.000000</td>\n    </tr>\n    <tr>\n      <th>1</th>\n      <td>31412</td>\n      <td>A Corunya</td>\n      <td>31412</td>\n      <td>43.352761</td>\n      <td>-8.409755</td>\n    </tr>\n    <tr>\n      <th>2</th>\n      <td>60911</td>\n      <td>AlicanteAlacant</td>\n      <td>60911</td>\n      <td>38.344450</td>\n      <td>-0.495053</td>\n    </tr>\n    <tr>\n      <th>3</th>\n      <td>60600</td>\n      <td>Albacete-Los Llanos</td>\n      <td>60600</td>\n      <td>38.999384</td>\n      <td>-1.848450</td>\n    </tr>\n    <tr>\n      <th>4</th>\n      <td>60400</td>\n      <td>Alcazar de San Juan</td>\n      <td>60400</td>\n      <td>39.395628</td>\n      <td>-3.205744</td>\n    </tr>\n    <tr>\n      <th>...</th>\n      <td>...</td>\n      <td>...</td>\n      <td>...</td>\n      <td>...</td>\n      <td>...</td>\n    </tr>\n    <tr>\n      <th>92</th>\n      <td>13200</td>\n      <td>Bilbao-Abando Indalecio Prieto</td>\n      <td>BILBA</td>\n      <td>43.259609</td>\n      <td>-2.929150</td>\n    </tr>\n    <tr>\n      <th>93</th>\n      <td>66100</td>\n      <td>Cuenca</td>\n      <td>CUENC</td>\n      <td>40.067340</td>\n      <td>-2.136471</td>\n    </tr>\n    <tr>\n      <th>94</th>\n      <td>15410</td>\n      <td>GijonXixon</td>\n      <td>GIJON</td>\n      <td>43.535175</td>\n      <td>-5.698318</td>\n    </tr>\n    <tr>\n      <th>95</th>\n      <td>70200</td>\n      <td>Guadalajara</td>\n      <td>GUADA</td>\n      <td>40.644103</td>\n      <td>-3.182230</td>\n    </tr>\n    <tr>\n      <th>96</th>\n      <td>78200</td>\n      <td>Tardienta</td>\n      <td>78200</td>\n      <td>41.975751</td>\n      <td>-0.538314</td>\n    </tr>\n  </tbody>\n</table>\n<p>97 rows × 5 columns</p>\n</div>"
     },
     "execution_count": 3,
     "metadata": {},
     "output_type": "execute_result"
    }
   ],
   "source": [
    "scraper.stations_df"
   ],
   "metadata": {
    "collapsed": false,
    "ExecuteTime": {
     "end_time": "2024-03-19T10:54:05.172282Z",
     "start_time": "2024-03-19T10:54:05.160855Z"
    }
   },
   "id": "a906b79da446d8b3"
  },
  {
   "cell_type": "code",
   "execution_count": 4,
   "outputs": [
    {
     "name": "stdout",
     "output_type": "stream",
     "text": [
      "From 60000 to 51405\n",
      "Date:  2024-06-20\n",
      "Search url:  https://horarios.renfe.com/HIRRenfeWeb/buscar.do?O=MADRI&D=51405&AF=2024&MF=06&DF=20&SF=4&ID=s\n",
      "######## ROWS OF DF_TRIPS: 3 ############\n",
      "From 51405 to 60000\n",
      "Date:  2024-06-20\n",
      "Search url:  https://horarios.renfe.com/HIRRenfeWeb/buscar.do?O=51405&D=MADRI&AF=2024&MF=06&DF=20&SF=4&ID=s\n",
      "######## ROWS OF DF_TRIPS: 6 ############\n",
      "From 60000 to 54413\n",
      "Date:  2024-06-20\n",
      "Search url:  https://horarios.renfe.com/HIRRenfeWeb/buscar.do?O=MADRI&D=54413&AF=2024&MF=06&DF=20&SF=4&ID=s\n",
      "######## ROWS OF DF_TRIPS: 19 ############\n",
      "From 54413 to 60000\n",
      "Date:  2024-06-20\n",
      "Search url:  https://horarios.renfe.com/HIRRenfeWeb/buscar.do?O=54413&D=MADRI&AF=2024&MF=06&DF=20&SF=4&ID=s\n",
      "######## ROWS OF DF_TRIPS: 30 ############\n",
      "From 60000 to 05000\n",
      "Date:  2024-06-20\n",
      "Search url:  https://horarios.renfe.com/HIRRenfeWeb/buscar.do?O=MADRI&D=05000&AF=2024&MF=06&DF=20&SF=4&ID=s\n",
      "##################################################\n",
      "UNKNOWN STATION: loja\n",
      "##################################################\n",
      "######## ROWS OF DF_TRIPS: 33 ############\n",
      "From 05000 to 60000\n",
      "Date:  2024-06-20\n",
      "Search url:  https://horarios.renfe.com/HIRRenfeWeb/buscar.do?O=05000&D=MADRI&AF=2024&MF=06&DF=20&SF=4&ID=s\n",
      "##################################################\n",
      "UNKNOWN STATION: loja\n",
      "##################################################\n",
      "######## ROWS OF DF_TRIPS: 36 ############\n",
      "               service_id stop_id  arrival  departure\n",
      "0  02074_20-06-2024-07.30   60000        0          0\n",
      "1  02074_20-06-2024-07.30   37200       57         59\n",
      "2  02074_20-06-2024-07.30   37300       74         76\n",
      "3  02074_20-06-2024-07.30   37704       99        101\n",
      "4  02074_20-06-2024-07.30   50500      125        127\n"
     ]
    }
   ],
   "source": [
    "import pandas as pd \n",
    "\n",
    "trips = ['60000',  # MADRID\n",
    "         '51405',  # CÁDIZ\n",
    "         '54413',  # MÁLAGA\n",
    "         '05000']  # GRANADA\n",
    "\n",
    "\"\"\"\n",
    "         '71801',\n",
    "         '74200',  # HUESCA\n",
    "         '15100',  # LEÓN\n",
    "         '11014',  # BURGOS\n",
    "         '31412',  # A CORUÑA\n",
    "         '23004',  # PONTEVEDRA\n",
    "         '65300',  # CASTELLÓN\n",
    "         '60911']  # ALICANTE\n",
    "\"\"\"\n",
    "\n",
    "master = trips[0]\n",
    "destinations = trips[1:]\n",
    "\n",
    "df_trips, df_stops = pd.DataFrame(), pd.DataFrame()\n",
    "\n",
    "for destination in destinations:\n",
    "    for i in range(2):\n",
    "        trip = None\n",
    "        if i == 0:\n",
    "            print(f'From {master} to {destination}')\n",
    "            trip = (master, destination)\n",
    "        else:\n",
    "            print(f'From {destination} to {master}')\n",
    "            trip = (destination, master)\n",
    "        \n",
    "        origin_id = scraper.get_renfe_station_id(trip[0])\n",
    "        destination_id = scraper.get_renfe_station_id(trip[1])\n",
    "    \n",
    "        # 15, 17, 19, 20, 21\n",
    "        date = datetime.date(day=20, month=6, year=2024)\n",
    "    \n",
    "        buffer_df_trips, buffer_df_stops = scraper.scrape_trips(origin_id=origin_id, \n",
    "                                                                destination_id=destination_id, \n",
    "                                                                init_date=date)\n",
    "        \n",
    "        df_trips = pd.concat([df_trips, buffer_df_trips], ignore_index=True)\n",
    "        df_stops = pd.concat([df_stops, buffer_df_stops], ignore_index=True)\n",
    "        print(f\"######## ROWS OF DF_TRIPS: {df_trips.shape[0]} ############\")\n",
    "        \n",
    "print(df_stops.head())"
   ],
   "metadata": {
    "collapsed": false,
    "ExecuteTime": {
     "end_time": "2024-03-19T10:54:12.086335Z",
     "start_time": "2024-03-19T10:54:07.831377Z"
    }
   },
   "id": "a353c1b3c36002ef"
  },
  {
   "cell_type": "code",
   "execution_count": 10,
   "outputs": [
    {
     "data": {
      "text/plain": "               service_id stop_id  arrival  departure\n0  02074_20-06-2024-07.30   60000        0          0\n1  02074_20-06-2024-07.30   37200       57         59\n2  02074_20-06-2024-07.30   37300       74         76\n3  02074_20-06-2024-07.30   37704       99        101\n4  02074_20-06-2024-07.30   50500      125        127",
      "text/html": "<div>\n<style scoped>\n    .dataframe tbody tr th:only-of-type {\n        vertical-align: middle;\n    }\n\n    .dataframe tbody tr th {\n        vertical-align: top;\n    }\n\n    .dataframe thead th {\n        text-align: right;\n    }\n</style>\n<table border=\"1\" class=\"dataframe\">\n  <thead>\n    <tr style=\"text-align: right;\">\n      <th></th>\n      <th>service_id</th>\n      <th>stop_id</th>\n      <th>arrival</th>\n      <th>departure</th>\n    </tr>\n  </thead>\n  <tbody>\n    <tr>\n      <th>0</th>\n      <td>02074_20-06-2024-07.30</td>\n      <td>60000</td>\n      <td>0</td>\n      <td>0</td>\n    </tr>\n    <tr>\n      <th>1</th>\n      <td>02074_20-06-2024-07.30</td>\n      <td>37200</td>\n      <td>57</td>\n      <td>59</td>\n    </tr>\n    <tr>\n      <th>2</th>\n      <td>02074_20-06-2024-07.30</td>\n      <td>37300</td>\n      <td>74</td>\n      <td>76</td>\n    </tr>\n    <tr>\n      <th>3</th>\n      <td>02074_20-06-2024-07.30</td>\n      <td>37704</td>\n      <td>99</td>\n      <td>101</td>\n    </tr>\n    <tr>\n      <th>4</th>\n      <td>02074_20-06-2024-07.30</td>\n      <td>50500</td>\n      <td>125</td>\n      <td>127</td>\n    </tr>\n  </tbody>\n</table>\n</div>"
     },
     "execution_count": 10,
     "metadata": {},
     "output_type": "execute_result"
    }
   ],
   "source": [
    "df_stops.head()"
   ],
   "metadata": {
    "collapsed": false,
    "ExecuteTime": {
     "end_time": "2024-03-19T10:56:18.128115Z",
     "start_time": "2024-03-19T10:56:18.123482Z"
    }
   },
   "id": "b944e1cf062533c6"
  },
  {
   "cell_type": "code",
   "outputs": [
    {
     "name": "stdout",
     "output_type": "stream",
     "text": [
      "194\n"
     ]
    }
   ],
   "source": [
    "# Len of dataframe\n",
    "print(len(df_stops))"
   ],
   "metadata": {
    "collapsed": false,
    "ExecuteTime": {
     "end_time": "2024-03-19T10:54:38.095341Z",
     "start_time": "2024-03-19T10:54:38.092984Z"
    }
   },
   "id": "e6f5d8a270c74544",
   "execution_count": 6
  },
  {
   "cell_type": "code",
   "outputs": [
    {
     "name": "stdout",
     "output_type": "stream",
     "text": [
      "192\n"
     ]
    }
   ],
   "source": [
    "# Remove rows with stop_id value '00000'\n",
    "df_stops_new = df_stops[df_stops['stop_id'] != '00000']\n",
    "print(len(df_stops_new))"
   ],
   "metadata": {
    "collapsed": false,
    "ExecuteTime": {
     "end_time": "2024-03-19T10:54:43.661753Z",
     "start_time": "2024-03-19T10:54:43.658074Z"
    }
   },
   "id": "a334a8105056b9fe",
   "execution_count": 7
  },
  {
   "cell_type": "code",
   "outputs": [
    {
     "name": "stdout",
     "output_type": "stream",
     "text": [
      "192\n"
     ]
    }
   ],
   "source": [
    "# Group by service_id. \n",
    "grouped = df_stops_new.groupby(\"service_id\")\n",
    "\n",
    "# If first row of group has arrival and departure not equal to 0, then remove the group\n",
    "for name, group in grouped:\n",
    "    if group.iloc[0]['arrival'] != 0 and group.iloc[0]['departure'] != 0:\n",
    "        df_stops_new = df_stops_new[df_stops_new['service_id'] != name]\n",
    "\n",
    "print(len(df_stops_new))"
   ],
   "metadata": {
    "collapsed": false,
    "ExecuteTime": {
     "end_time": "2024-03-19T10:54:52.276240Z",
     "start_time": "2024-03-19T10:54:52.270994Z"
    }
   },
   "id": "f4f125241317f6eb",
   "execution_count": 8
  },
  {
   "cell_type": "code",
   "outputs": [
    {
     "name": "stdout",
     "output_type": "stream",
     "text": [
      "36\n"
     ]
    }
   ],
   "source": [
    "# Print number of groups\n",
    "print(len(grouped))"
   ],
   "metadata": {
    "collapsed": false,
    "ExecuteTime": {
     "end_time": "2024-03-19T10:54:55.891563Z",
     "start_time": "2024-03-19T10:54:55.889522Z"
    }
   },
   "id": "407605752645bfe2",
   "execution_count": 9
  },
  {
   "cell_type": "code",
   "outputs": [
    {
     "name": "stdout",
     "output_type": "stream",
     "text": [
      "782\n"
     ]
    }
   ],
   "source": [
    "for name, group in grouped:\n",
    "    if group.iloc[-1]['arrival'] != group.iloc[-1]['departure']:\n",
    "        df_stops_new = df_stops_new[df_stops_new['service_id'] != name]\n",
    "\n",
    "print(len(df_stops_new))"
   ],
   "metadata": {
    "collapsed": false,
    "ExecuteTime": {
     "end_time": "2024-03-14T16:38:51.112153Z",
     "start_time": "2024-03-14T16:38:51.096181Z"
    }
   },
   "id": "f6964a005e95013d",
   "execution_count": 51
  },
  {
   "cell_type": "code",
   "outputs": [
    {
     "name": "stdout",
     "output_type": "stream",
     "text": [
      "782\n"
     ]
    }
   ],
   "source": [
    "# If len of group is less than 2, then remove the group\n",
    "for name, group in grouped:\n",
    "    if len(group) < 2:\n",
    "        df_stops_new = df_stops_new[df_stops_new['service_id'] != name]\n",
    "\n",
    "print(len(df_stops_new))"
   ],
   "metadata": {
    "collapsed": false,
    "ExecuteTime": {
     "end_time": "2024-03-14T16:38:53.315909Z",
     "start_time": "2024-03-14T16:38:53.302328Z"
    }
   },
   "id": "fa9a5cb000cc14f1",
   "execution_count": 52
  },
  {
   "cell_type": "code",
   "execution_count": 53,
   "outputs": [],
   "source": [
    "# Save dataframe to csv\n",
    "df_stops_new.to_csv('stops_HSR_Spain_20_April_24.csv', index=False)"
   ],
   "metadata": {
    "collapsed": false,
    "ExecuteTime": {
     "end_time": "2024-03-14T16:38:57.661547Z",
     "start_time": "2024-03-14T16:38:57.650042Z"
    }
   },
   "id": "664f5daed706fb49"
  },
  {
   "cell_type": "code",
   "outputs": [],
   "source": [
    "# Save dataframe to csv\n",
    "df_trips.to_csv('trips_HSR_Spain_15_April_24.csv', index=False)"
   ],
   "metadata": {
    "collapsed": false,
    "ExecuteTime": {
     "end_time": "2024-03-14T16:03:06.140477Z",
     "start_time": "2024-03-14T16:03:06.124737Z"
    }
   },
   "id": "76c43d4cc8f668c1",
   "execution_count": 10
  },
  {
   "cell_type": "code",
   "outputs": [
    {
     "data": {
      "text/plain": "               service_id stop_id  arrival  departure\n0  06301_15-04-2024-06.15   60000        0          0\n1  06301_15-04-2024-06.15   71801      150        150\n2  03063_15-04-2024-06.30   60000        0          0\n3  03063_15-04-2024-06.30   70600       55         56\n4  03063_15-04-2024-06.30   04040       81         82",
      "text/html": "<div>\n<style scoped>\n    .dataframe tbody tr th:only-of-type {\n        vertical-align: middle;\n    }\n\n    .dataframe tbody tr th {\n        vertical-align: top;\n    }\n\n    .dataframe thead th {\n        text-align: right;\n    }\n</style>\n<table border=\"1\" class=\"dataframe\">\n  <thead>\n    <tr style=\"text-align: right;\">\n      <th></th>\n      <th>service_id</th>\n      <th>stop_id</th>\n      <th>arrival</th>\n      <th>departure</th>\n    </tr>\n  </thead>\n  <tbody>\n    <tr>\n      <th>0</th>\n      <td>06301_15-04-2024-06.15</td>\n      <td>60000</td>\n      <td>0</td>\n      <td>0</td>\n    </tr>\n    <tr>\n      <th>1</th>\n      <td>06301_15-04-2024-06.15</td>\n      <td>71801</td>\n      <td>150</td>\n      <td>150</td>\n    </tr>\n    <tr>\n      <th>2</th>\n      <td>03063_15-04-2024-06.30</td>\n      <td>60000</td>\n      <td>0</td>\n      <td>0</td>\n    </tr>\n    <tr>\n      <th>3</th>\n      <td>03063_15-04-2024-06.30</td>\n      <td>70600</td>\n      <td>55</td>\n      <td>56</td>\n    </tr>\n    <tr>\n      <th>4</th>\n      <td>03063_15-04-2024-06.30</td>\n      <td>04040</td>\n      <td>81</td>\n      <td>82</td>\n    </tr>\n  </tbody>\n</table>\n</div>"
     },
     "execution_count": 11,
     "metadata": {},
     "output_type": "execute_result"
    }
   ],
   "source": [
    "import pandas as pd\n",
    "\n",
    "dtypes = {'stop_id': str}\n",
    "df_stops = pd.read_csv('stops_HSR_Spain_15_April_24.csv', dtype=dtypes)\n",
    "df_stops.head()"
   ],
   "metadata": {
    "collapsed": false,
    "ExecuteTime": {
     "end_time": "2024-03-14T16:03:17.439322Z",
     "start_time": "2024-03-14T16:03:17.398078Z"
    }
   },
   "id": "3def270c0c2afc5d",
   "execution_count": 11
  },
  {
   "cell_type": "code",
   "outputs": [
    {
     "name": "stdout",
     "output_type": "stream",
     "text": [
      "6241\n"
     ]
    }
   ],
   "source": [
    "# Len of dataframe\n",
    "print(len(df_stops))"
   ],
   "metadata": {
    "collapsed": false,
    "ExecuteTime": {
     "end_time": "2024-03-06T13:04:03.585453Z",
     "start_time": "2024-03-06T13:04:03.572994Z"
    }
   },
   "id": "52bdee01f8742e0",
   "execution_count": 11
  },
  {
   "cell_type": "code",
   "outputs": [
    {
     "name": "stdout",
     "output_type": "stream",
     "text": [
      "{'04040', '71500', '79300', '04307', '70600', '70200', '60000', '00000', '71801', '78400'}\n"
     ]
    }
   ],
   "source": [
    "print(set(df_stops['stop_id']))"
   ],
   "metadata": {
    "collapsed": false,
    "ExecuteTime": {
     "end_time": "2024-03-06T13:04:05.666893Z",
     "start_time": "2024-03-06T13:04:05.655478Z"
    }
   },
   "id": "85c02106a29ea1fd",
   "execution_count": 12
  },
  {
   "cell_type": "code",
   "outputs": [
    {
     "name": "stdout",
     "output_type": "stream",
     "text": [
      "{'64100', '14100', '79309', '15211', '50500', '37704', '70101', '03410', '65304', '23021', '81100', '92102', '03213', '50417', '51400', '11014', '65318', '37606', '54413', '06006', '78301', '30100', '62002', '15410', '61307', '15100', '31200', '55020', '20309', '22300', '10400', '78200', '81202', '12100', '60000', '14223', '11208', '51300', '71801', '04040', '03309', '60905', '05000', '69110', '60902', '04307', '02002', '35206', '40100', '78400', '20300', '74200', '35400', '60911', '60400', '15009', '37200', '10600', '23004', '51003', '79315', '50300', '31400', '08223', '70600', '66100', '00000', '02003', '43019', '31412', '37300', '70200', '30200', '11200', '21010', '61200', '67200', '71400', '37500', '20200', '56312', '80100', '50102', '79300', '71500', '54400', '22100', '11511', '82100', '40008', '13200', '65000', '51405', '10500', '60600', '03100', '65300'}\n"
     ]
    }
   ],
   "source": [
    "print(set(scraper.stations_df['stop_id']))"
   ],
   "metadata": {
    "collapsed": false,
    "ExecuteTime": {
     "end_time": "2024-03-06T13:04:07.505568Z",
     "start_time": "2024-03-06T13:04:07.493166Z"
    }
   },
   "id": "29b45b649e6aab78",
   "execution_count": 13
  },
  {
   "cell_type": "code",
   "outputs": [
    {
     "name": "stdout",
     "output_type": "stream",
     "text": [
      "set()\n"
     ]
    }
   ],
   "source": [
    "# Get set of stations which are NOT in the column renfe_id of scraper.stations_df\n",
    "print(set(df_stops['stop_id']) - set(scraper.stations_df['stop_id']))"
   ],
   "metadata": {
    "collapsed": false,
    "ExecuteTime": {
     "end_time": "2024-03-06T13:04:16.263138Z",
     "start_time": "2024-03-06T13:04:16.251619Z"
    }
   },
   "id": "7a85ad74aa9f21cf",
   "execution_count": 14
  },
  {
   "cell_type": "code",
   "outputs": [
    {
     "name": "stdout",
     "output_type": "stream",
     "text": [
      "                   service_id stop_id  arrival  departure\n",
      "0      03063_01-03-2024-06.30   70600       55         56\n",
      "1      03073_01-03-2024-07.30   78400      125        127\n",
      "2      03093_01-03-2024-09.30   78400      119        121\n",
      "3      03093_01-03-2024-09.30   79300      233        235\n",
      "4      03093_01-03-2024-09.30   04307      250        250\n",
      "...                       ...     ...      ...        ...\n",
      "13673  05903_31-03-2024-20.01   03309       81         83\n",
      "13674  05903_31-03-2024-20.01   60600      115        117\n",
      "13675  05217_31-03-2024-21.04   00000        0          0\n",
      "13676  05217_31-03-2024-21.04   03309       19         21\n",
      "13677  05217_31-03-2024-21.04   60600       53         55\n",
      "\n",
      "[13678 rows x 4 columns]\n"
     ]
    }
   ],
   "source": [
    "# remove rows in wich stop_id is not in the column renfe_id of scraper.stations_df\n",
    "df_stops_clean = df_stops[df_stops['stop_id'].isin(scraper.stations_df['renfe_id'])]\n",
    "df_stops_clean.reset_index(drop=True, inplace=True)\n",
    "print(df_stops_clean)"
   ],
   "metadata": {
    "collapsed": false,
    "ExecuteTime": {
     "end_time": "2024-02-20T23:41:24.631532Z",
     "start_time": "2024-02-20T23:41:24.613398Z"
    }
   },
   "id": "74bdd4503ea7e5ec",
   "execution_count": 8
  },
  {
   "cell_type": "code",
   "outputs": [],
   "source": [
    "# save dataframe to csv\n",
    "df_stops_clean.to_csv('stops_HSR_Spain_March_24_clean.csv', index=False)"
   ],
   "metadata": {
    "collapsed": false,
    "ExecuteTime": {
     "end_time": "2024-02-20T23:42:05.045255Z",
     "start_time": "2024-02-20T23:42:05.018509Z"
    }
   },
   "id": "e0a9f69f2c29e81f",
   "execution_count": 10
  },
  {
   "cell_type": "code",
   "execution_count": 15,
   "outputs": [
    {
     "name": "stdout",
     "output_type": "stream",
     "text": [
      "{'03062_01-06-2024-05.50': {'71801': (0, 0), '71500': (33, 35), '78400': (60, 62), '04040': (103, 106), '70600': (130, 131), '70200': (169, 170), '60000': (200, 200)}, '03062_03-06-2024-05.50': {'71801': (0, 0), '71500': (33, 35), '78400': (60, 62), '04040': (103, 106), '70600': (130, 131), '70200': (169, 170), '60000': (200, 200)}, '03062_04-06-2024-05.50': {'71801': (0, 0), '71500': (33, 35), '78400': (60, 62), '04040': (103, 106), '70600': (130, 131), '70200': (169, 170), '60000': (200, 200)}, '03062_05-06-2024-05.50': {'71801': (0, 0), '71500': (33, 35), '78400': (60, 62), '04040': (103, 106), '70600': (130, 131), '70200': (169, 170), '60000': (200, 200)}, '03062_06-06-2024-05.50': {'71801': (0, 0), '71500': (33, 35), '78400': (60, 62), '04040': (103, 106), '70600': (130, 131), '70200': (169, 170), '60000': (200, 200)}, '03062_07-06-2024-05.50': {'71801': (0, 0), '71500': (33, 35), '78400': (60, 62), '04040': (103, 106), '70600': (130, 131), '70200': (169, 170), '60000': (200, 200)}, '03062_08-06-2024-05.50': {'71801': (0, 0), '71500': (33, 35), '78400': (60, 62), '04040': (103, 106), '70600': (130, 131), '70200': (169, 170), '60000': (200, 200)}, '03062_10-06-2024-05.50': {'71801': (0, 0), '71500': (33, 35), '78400': (60, 62), '04040': (103, 106), '70600': (130, 131), '70200': (169, 170), '60000': (200, 200)}, '03062_11-06-2024-05.50': {'71801': (0, 0), '71500': (33, 35), '78400': (60, 62), '04040': (103, 106), '70600': (130, 131), '70200': (169, 170), '60000': (200, 200)}, '03062_12-06-2024-05.50': {'71801': (0, 0), '71500': (33, 35), '78400': (60, 62), '04040': (103, 106), '70600': (130, 131), '70200': (169, 170), '60000': (200, 200)}, '03062_13-06-2024-05.50': {'71801': (0, 0), '71500': (33, 35), '78400': (60, 62), '04040': (103, 106), '70600': (130, 131), '70200': (169, 170), '60000': (200, 200)}, '03062_14-06-2024-05.50': {'71801': (0, 0), '71500': (33, 35), '78400': (60, 62), '04040': (103, 106), '70600': (130, 131), '70200': (169, 170), '60000': (200, 200)}, '03062_15-06-2024-05.50': {'71801': (0, 0), '71500': (33, 35), '78400': (60, 62), '04040': (103, 106), '70600': (130, 131), '70200': (169, 170), '60000': (200, 200)}, '03062_17-06-2024-05.50': {'71801': (0, 0), '71500': (33, 35), '78400': (60, 62), '04040': (103, 106), '70600': (130, 131), '70200': (169, 170), '60000': (200, 200)}, '03062_18-06-2024-05.50': {'71801': (0, 0), '71500': (33, 35), '78400': (60, 62), '04040': (103, 106), '70600': (130, 131), '70200': (169, 170), '60000': (200, 200)}, '03062_19-06-2024-05.50': {'71801': (0, 0), '71500': (33, 35), '78400': (60, 62), '04040': (103, 106), '70600': (130, 131), '70200': (169, 170), '60000': (200, 200)}, '03062_20-06-2024-05.50': {'71801': (0, 0), '71500': (33, 35), '78400': (60, 62), '04040': (103, 106), '70600': (130, 131), '70200': (169, 170), '60000': (200, 200)}, '03062_21-06-2024-05.50': {'71801': (0, 0), '71500': (33, 35), '78400': (60, 62), '04040': (103, 106), '70600': (130, 131), '70200': (169, 170), '60000': (200, 200)}, '03062_22-06-2024-05.50': {'71801': (0, 0), '71500': (33, 35), '78400': (60, 62), '04040': (103, 106), '70600': (130, 131), '70200': (169, 170), '60000': (200, 200)}, '03062_24-06-2024-05.50': {'71801': (0, 0), '71500': (33, 35), '78400': (60, 62), '04040': (103, 106), '70600': (130, 131), '70200': (169, 170), '60000': (200, 200)}, '03062_25-06-2024-05.50': {'71801': (0, 0), '71500': (33, 35), '78400': (60, 62), '04040': (103, 106), '70600': (130, 131), '70200': (169, 170), '60000': (200, 200)}, '03062_26-06-2024-05.50': {'71801': (0, 0), '71500': (33, 35), '78400': (60, 62), '04040': (103, 106), '70600': (130, 131), '70200': (169, 170), '60000': (200, 200)}, '03062_27-06-2024-05.50': {'71801': (0, 0), '71500': (33, 35), '78400': (60, 62), '04040': (103, 106), '70600': (130, 131), '70200': (169, 170), '60000': (200, 200)}, '03062_28-06-2024-05.50': {'71801': (0, 0), '71500': (33, 35), '78400': (60, 62), '04040': (103, 106), '70600': (130, 131), '70200': (169, 170), '60000': (200, 200)}, '03062_29-06-2024-05.50': {'71801': (0, 0), '71500': (33, 35), '78400': (60, 62), '04040': (103, 106), '70600': (130, 131), '70200': (169, 170), '60000': (200, 200)}, '03063_03-06-2024-06.30': {'60000': (0, 0), '70600': (55, 56), '04040': (81, 82), '71801': (170, 170)}, '03063_04-06-2024-06.30': {'60000': (0, 0), '70600': (55, 56), '04040': (81, 82), '71801': (170, 170)}, '03063_05-06-2024-06.30': {'60000': (0, 0), '70600': (55, 56), '04040': (81, 82), '71801': (170, 170)}, '03063_06-06-2024-06.30': {'60000': (0, 0), '70600': (55, 56), '04040': (81, 82), '71801': (170, 170)}, '03063_07-06-2024-06.30': {'60000': (0, 0), '70600': (55, 56), '04040': (81, 82), '71801': (170, 170)}, '03063_10-06-2024-06.30': {'60000': (0, 0), '70600': (55, 56), '04040': (81, 82), '71801': (170, 170)}, '03063_11-06-2024-06.30': {'60000': (0, 0), '70600': (55, 56), '04040': (81, 82), '71801': (170, 170)}, '03063_12-06-2024-06.30': {'60000': (0, 0), '70600': (55, 56), '04040': (81, 82), '71801': (170, 170)}, '03063_13-06-2024-06.30': {'60000': (0, 0), '70600': (55, 56), '04040': (81, 82), '71801': (170, 170)}, '03063_14-06-2024-06.30': {'60000': (0, 0), '70600': (55, 56), '04040': (81, 82), '71801': (170, 170)}, '03063_17-06-2024-06.30': {'60000': (0, 0), '70600': (55, 56), '04040': (81, 82), '71801': (170, 170)}, '03063_18-06-2024-06.30': {'60000': (0, 0), '70600': (55, 56), '04040': (81, 82), '71801': (170, 170)}, '03063_19-06-2024-06.30': {'60000': (0, 0), '70600': (55, 56), '04040': (81, 82), '71801': (170, 170)}, '03063_20-06-2024-06.30': {'60000': (0, 0), '70600': (55, 56), '04040': (81, 82), '71801': (170, 170)}, '03063_21-06-2024-06.30': {'60000': (0, 0), '70600': (55, 56), '04040': (81, 82), '71801': (170, 170)}, '03063_24-06-2024-06.30': {'60000': (0, 0), '70600': (55, 56), '04040': (81, 82), '71801': (170, 170)}, '03063_25-06-2024-06.30': {'60000': (0, 0), '70600': (55, 56), '04040': (81, 82), '71801': (170, 170)}, '03063_26-06-2024-06.30': {'60000': (0, 0), '70600': (55, 56), '04040': (81, 82), '71801': (170, 170)}, '03063_27-06-2024-06.30': {'60000': (0, 0), '70600': (55, 56), '04040': (81, 82), '71801': (170, 170)}, '03063_28-06-2024-06.30': {'60000': (0, 0), '70600': (55, 56), '04040': (81, 82), '71801': (170, 170)}, '03071_03-06-2024-07.00': {'60000': (0, 0), '71801': (150, 150)}, '03071_04-06-2024-07.00': {'60000': (0, 0), '71801': (150, 150)}, '03071_05-06-2024-07.00': {'60000': (0, 0), '71801': (150, 150)}, '03071_06-06-2024-07.00': {'60000': (0, 0), '71801': (150, 150)}, '03071_07-06-2024-07.00': {'60000': (0, 0), '71801': (150, 150)}, '03071_10-06-2024-07.00': {'60000': (0, 0), '71801': (150, 150)}, '03071_11-06-2024-07.00': {'60000': (0, 0), '71801': (150, 150)}, '03071_12-06-2024-07.00': {'60000': (0, 0), '71801': (150, 150)}, '03071_13-06-2024-07.00': {'60000': (0, 0), '71801': (150, 150)}, '03071_14-06-2024-07.00': {'60000': (0, 0), '71801': (150, 150)}, '03071_17-06-2024-07.00': {'60000': (0, 0), '71801': (150, 150)}, '03071_18-06-2024-07.00': {'60000': (0, 0), '71801': (150, 150)}, '03071_19-06-2024-07.00': {'60000': (0, 0), '71801': (150, 150)}, '03071_20-06-2024-07.00': {'60000': (0, 0), '71801': (150, 150)}, '03071_21-06-2024-07.00': {'60000': (0, 0), '71801': (150, 150)}, '03071_24-06-2024-07.00': {'60000': (0, 0), '71801': (150, 150)}, '03071_25-06-2024-07.00': {'60000': (0, 0), '71801': (150, 150)}, '03071_26-06-2024-07.00': {'60000': (0, 0), '71801': (150, 150)}, '03071_27-06-2024-07.00': {'60000': (0, 0), '71801': (150, 150)}, '03071_28-06-2024-07.00': {'60000': (0, 0), '71801': (150, 150)}, '03073_01-06-2024-07.30': {'60000': (0, 0), '70200': (23, 24), '04040': (81, 82), '78400': (125, 127), '71500': (154, 156), '71801': (192, 200), '79300': (238, 240), '04307': (255, 255)}, '03073_02-06-2024-07.30': {'60000': (0, 0), '70200': (23, 24), '04040': (81, 82), '78400': (125, 127), '71500': (154, 156), '71801': (192, 200), '79300': (238, 240), '04307': (255, 255)}, '03073_03-06-2024-07.30': {'60000': (0, 0), '70200': (23, 24), '04040': (81, 82), '78400': (125, 127), '71500': (154, 156), '71801': (192, 192)}, '03073_04-06-2024-07.30': {'60000': (0, 0), '70200': (23, 24), '04040': (81, 82), '78400': (125, 127), '71500': (154, 156), '71801': (192, 192)}, '03073_05-06-2024-07.30': {'60000': (0, 0), '70200': (23, 24), '04040': (81, 82), '78400': (125, 127), '71500': (154, 156), '71801': (192, 192)}, '03073_06-06-2024-07.30': {'60000': (0, 0), '70200': (23, 24), '04040': (81, 82), '78400': (125, 127), '71500': (154, 156), '71801': (192, 192)}, '03073_07-06-2024-07.30': {'60000': (0, 0), '70200': (23, 24), '04040': (81, 82), '78400': (125, 127), '71500': (154, 156), '71801': (192, 192)}, '03073_08-06-2024-07.30': {'60000': (0, 0), '70200': (23, 24), '04040': (81, 82), '78400': (125, 127), '71500': (154, 156), '71801': (192, 200), '79300': (238, 240), '04307': (255, 255)}, '03073_09-06-2024-07.30': {'60000': (0, 0), '70200': (23, 24), '04040': (81, 82), '78400': (125, 127), '71500': (154, 156), '71801': (192, 200), '79300': (238, 240), '04307': (255, 255)}, '03073_10-06-2024-07.30': {'60000': (0, 0), '70200': (23, 24), '04040': (81, 82), '78400': (125, 127), '71500': (154, 156), '71801': (192, 192)}, '03073_11-06-2024-07.30': {'60000': (0, 0), '70200': (23, 24), '04040': (81, 82), '78400': (125, 127), '71500': (154, 156), '71801': (192, 192)}, '03073_12-06-2024-07.30': {'60000': (0, 0), '70200': (23, 24), '04040': (81, 82), '78400': (125, 127), '71500': (154, 156), '71801': (192, 192)}, '03073_13-06-2024-07.30': {'60000': (0, 0), '70200': (23, 24), '04040': (81, 82), '78400': (125, 127), '71500': (154, 156), '71801': (192, 192)}, '03073_14-06-2024-07.30': {'60000': (0, 0), '70200': (23, 24), '04040': (81, 82), '78400': (125, 127), '71500': (154, 156), '71801': (192, 192)}, '03073_15-06-2024-07.30': {'60000': (0, 0), '70200': (23, 24), '04040': (81, 82), '78400': (125, 127), '71500': (154, 156), '71801': (192, 200), '79300': (238, 240), '04307': (255, 255)}, '03073_16-06-2024-07.30': {'60000': (0, 0), '70200': (23, 24), '04040': (81, 82), '78400': (125, 127), '71500': (154, 156), '71801': (192, 200), '79300': (238, 240), '04307': (255, 255)}, '03073_17-06-2024-07.30': {'60000': (0, 0), '70200': (23, 24), '04040': (81, 82), '78400': (125, 127), '71500': (154, 156), '71801': (192, 192)}, '03073_18-06-2024-07.30': {'60000': (0, 0), '70200': (23, 24), '04040': (81, 82), '78400': (125, 127), '71500': (154, 156), '71801': (192, 192)}, '03073_19-06-2024-07.30': {'60000': (0, 0), '70200': (23, 24), '04040': (81, 82), '78400': (125, 127), '71500': (154, 156), '71801': (192, 192)}, '03073_20-06-2024-07.30': {'60000': (0, 0), '70200': (23, 24), '04040': (81, 82), '78400': (125, 127), '71500': (154, 156), '71801': (192, 192)}, '03073_21-06-2024-07.30': {'60000': (0, 0), '70200': (23, 24), '04040': (81, 82), '78400': (125, 127), '71500': (154, 156), '71801': (192, 192)}, '03073_22-06-2024-07.30': {'60000': (0, 0), '70200': (23, 24), '04040': (81, 82), '78400': (125, 127), '71500': (154, 156), '71801': (192, 200), '79300': (238, 240), '04307': (255, 255)}, '03073_23-06-2024-07.30': {'60000': (0, 0), '70200': (23, 24), '04040': (81, 82), '78400': (125, 127), '71500': (154, 156), '71801': (192, 200), '79300': (238, 240), '04307': (255, 255)}, '03073_24-06-2024-07.30': {'60000': (0, 0), '70200': (23, 24), '04040': (81, 82), '78400': (125, 127), '71500': (154, 156), '71801': (192, 192)}, '03073_25-06-2024-07.30': {'60000': (0, 0), '70200': (23, 24), '04040': (81, 82), '78400': (125, 127), '71500': (154, 156), '71801': (192, 192)}, '03073_26-06-2024-07.30': {'60000': (0, 0), '70200': (23, 24), '04040': (81, 82), '78400': (125, 127), '71500': (154, 156), '71801': (192, 192)}, '03073_27-06-2024-07.30': {'60000': (0, 0), '70200': (23, 24), '04040': (81, 82), '78400': (125, 127), '71500': (154, 156), '71801': (192, 192)}, '03073_28-06-2024-07.30': {'60000': (0, 0), '70200': (23, 24), '04040': (81, 82), '78400': (125, 127), '71500': (154, 156), '71801': (192, 192)}, '03073_29-06-2024-07.30': {'60000': (0, 0), '70200': (23, 24), '04040': (81, 82), '78400': (125, 127), '71500': (154, 156), '71801': (192, 200), '79300': (238, 240), '04307': (255, 255)}, '03073_30-06-2024-07.30': {'60000': (0, 0), '70200': (23, 24), '04040': (81, 82), '78400': (125, 127), '71500': (154, 156), '71801': (192, 200), '79300': (238, 240), '04307': (255, 255)}, '03080_01-06-2024-08.25': {'71801': (0, 0), '60000': (150, 150)}, '03080_03-06-2024-08.25': {'71801': (0, 0), '60000': (150, 150)}, '03080_04-06-2024-08.25': {'71801': (0, 0), '60000': (150, 150)}, '03080_05-06-2024-08.25': {'71801': (0, 0), '60000': (150, 150)}, '03080_06-06-2024-08.25': {'71801': (0, 0), '60000': (150, 150)}, '03080_07-06-2024-08.25': {'71801': (0, 0), '60000': (150, 150)}, '03080_08-06-2024-08.25': {'71801': (0, 0), '60000': (150, 150)}, '03080_10-06-2024-08.25': {'71801': (0, 0), '60000': (150, 150)}, '03080_11-06-2024-08.25': {'71801': (0, 0), '60000': (150, 150)}, '03080_12-06-2024-08.25': {'71801': (0, 0), '60000': (150, 150)}, '03080_13-06-2024-08.25': {'71801': (0, 0), '60000': (150, 150)}, '03080_14-06-2024-08.25': {'71801': (0, 0), '60000': (150, 150)}, '03080_15-06-2024-08.25': {'71801': (0, 0), '60000': (150, 150)}, '03080_17-06-2024-08.25': {'71801': (0, 0), '60000': (150, 150)}, '03080_18-06-2024-08.25': {'71801': (0, 0), '60000': (150, 150)}, '03080_19-06-2024-08.25': {'71801': (0, 0), '60000': (150, 150)}, '03080_20-06-2024-08.25': {'71801': (0, 0), '60000': (150, 150)}, '03080_21-06-2024-08.25': {'71801': (0, 0), '60000': (150, 150)}, '03080_22-06-2024-08.25': {'71801': (0, 0), '60000': (150, 150)}, '03080_24-06-2024-08.25': {'71801': (0, 0), '60000': (150, 150)}, '03080_25-06-2024-08.25': {'71801': (0, 0), '60000': (150, 150)}, '03080_26-06-2024-08.25': {'71801': (0, 0), '60000': (150, 150)}, '03080_27-06-2024-08.25': {'71801': (0, 0), '60000': (150, 150)}, '03080_28-06-2024-08.25': {'71801': (0, 0), '60000': (150, 150)}, '03080_29-06-2024-08.25': {'71801': (0, 0), '60000': (150, 150)}, '03081_03-06-2024-08.00': {'60000': (0, 0), '71801': (150, 150)}, '03081_04-06-2024-08.00': {'60000': (0, 0), '71801': (150, 150)}, '03081_05-06-2024-08.00': {'60000': (0, 0), '71801': (150, 150)}, '03081_06-06-2024-08.00': {'60000': (0, 0), '71801': (150, 150)}, '03081_07-06-2024-08.00': {'60000': (0, 0), '71801': (150, 150)}, '03081_10-06-2024-08.00': {'60000': (0, 0), '71801': (150, 150)}, '03081_11-06-2024-08.00': {'60000': (0, 0), '71801': (150, 150)}, '03081_12-06-2024-08.00': {'60000': (0, 0), '71801': (150, 150)}, '03081_13-06-2024-08.00': {'60000': (0, 0), '71801': (150, 150)}, '03081_14-06-2024-08.00': {'60000': (0, 0), '71801': (150, 150)}, '03081_17-06-2024-08.00': {'60000': (0, 0), '71801': (150, 150)}, '03081_18-06-2024-08.00': {'60000': (0, 0), '71801': (150, 150)}, '03081_19-06-2024-08.00': {'60000': (0, 0), '71801': (150, 150)}, '03081_20-06-2024-08.00': {'60000': (0, 0), '71801': (150, 150)}, '03081_21-06-2024-08.00': {'60000': (0, 0), '71801': (150, 150)}, '03081_24-06-2024-08.00': {'60000': (0, 0), '71801': (150, 150)}, '03081_25-06-2024-08.00': {'60000': (0, 0), '71801': (150, 150)}, '03081_26-06-2024-08.00': {'60000': (0, 0), '71801': (150, 150)}, '03081_27-06-2024-08.00': {'60000': (0, 0), '71801': (150, 150)}, '03081_28-06-2024-08.00': {'60000': (0, 0), '71801': (150, 150)}, '03082_01-06-2024-08.00': {'71801': (0, 0), '71500': (32, 34), '78400': (59, 61), '04040': (102, 105), '70600': (129, 130), '60000': (192, 192)}, '03082_02-06-2024-08.00': {'71801': (0, 0), '71500': (32, 34), '78400': (59, 61), '04040': (102, 105), '70600': (129, 130), '60000': (192, 192)}, '03082_03-06-2024-08.00': {'71801': (0, 0), '71500': (32, 34), '78400': (59, 61), '04040': (102, 105), '70600': (129, 130), '60000': (192, 192)}, '03082_04-06-2024-08.00': {'71801': (0, 0), '71500': (32, 34), '78400': (59, 61), '04040': (102, 105), '70600': (129, 130), '60000': (192, 192)}, '03082_05-06-2024-08.00': {'71801': (0, 0), '71500': (32, 34), '78400': (59, 61), '04040': (102, 105), '70600': (129, 130), '60000': (192, 192)}, '03082_06-06-2024-08.00': {'71801': (0, 0), '71500': (32, 34), '78400': (59, 61), '04040': (102, 105), '70600': (129, 130), '60000': (192, 192)}, '03082_07-06-2024-08.00': {'71801': (0, 0), '71500': (32, 34), '78400': (59, 61), '04040': (102, 105), '70600': (129, 130), '60000': (192, 192)}, '03082_08-06-2024-08.00': {'71801': (0, 0), '71500': (32, 34), '78400': (59, 61), '04040': (102, 105), '70600': (129, 130), '60000': (192, 192)}, '03082_09-06-2024-08.00': {'71801': (0, 0), '71500': (32, 34), '78400': (59, 61), '04040': (102, 105), '70600': (129, 130), '60000': (192, 192)}, '03082_10-06-2024-08.00': {'71801': (0, 0), '71500': (32, 34), '78400': (59, 61), '04040': (102, 105), '70600': (129, 130), '60000': (192, 192)}, '03082_11-06-2024-08.00': {'71801': (0, 0), '71500': (32, 34), '78400': (59, 61), '04040': (102, 105), '70600': (129, 130), '60000': (192, 192)}, '03082_12-06-2024-08.00': {'71801': (0, 0), '71500': (32, 34), '78400': (59, 61), '04040': (102, 105), '70600': (129, 130), '60000': (192, 192)}, '03082_13-06-2024-08.00': {'71801': (0, 0), '71500': (32, 34), '78400': (59, 61), '04040': (102, 105), '70600': (129, 130), '60000': (192, 192)}, '03082_14-06-2024-08.00': {'71801': (0, 0), '71500': (32, 34), '78400': (59, 61), '04040': (102, 105), '70600': (129, 130), '60000': (192, 192)}, '03082_15-06-2024-08.00': {'71801': (0, 0), '71500': (32, 34), '78400': (59, 61), '04040': (102, 105), '70600': (129, 130), '60000': (192, 192)}, '03082_16-06-2024-08.00': {'71801': (0, 0), '71500': (32, 34), '78400': (59, 61), '04040': (102, 105), '70600': (129, 130), '60000': (192, 192)}, '03082_17-06-2024-08.00': {'71801': (0, 0), '71500': (32, 34), '78400': (59, 61), '04040': (102, 105), '70600': (129, 130), '60000': (192, 192)}, '03082_18-06-2024-08.00': {'71801': (0, 0), '71500': (32, 34), '78400': (59, 61), '04040': (102, 105), '70600': (129, 130), '60000': (192, 192)}, '03082_19-06-2024-08.00': {'71801': (0, 0), '71500': (32, 34), '78400': (59, 61), '04040': (102, 105), '70600': (129, 130), '60000': (192, 192)}, '03082_20-06-2024-08.00': {'71801': (0, 0), '71500': (32, 34), '78400': (59, 61), '04040': (102, 105), '70600': (129, 130), '60000': (192, 192)}, '03082_21-06-2024-08.00': {'71801': (0, 0), '71500': (32, 34), '78400': (59, 61), '04040': (102, 105), '70600': (129, 130), '60000': (192, 192)}, '03082_22-06-2024-08.00': {'71801': (0, 0), '71500': (32, 34), '78400': (59, 61), '04040': (102, 105), '70600': (129, 130), '60000': (192, 192)}, '03082_23-06-2024-08.00': {'71801': (0, 0), '71500': (32, 34), '78400': (59, 61), '04040': (102, 105), '70600': (129, 130), '60000': (192, 192)}, '03082_24-06-2024-08.00': {'71801': (0, 0), '71500': (32, 34), '78400': (59, 61), '04040': (102, 105), '70600': (129, 130), '60000': (192, 192)}, '03082_25-06-2024-08.00': {'71801': (0, 0), '71500': (32, 34), '78400': (59, 61), '04040': (102, 105), '70600': (129, 130), '60000': (192, 192)}, '03082_26-06-2024-08.00': {'71801': (0, 0), '71500': (32, 34), '78400': (59, 61), '04040': (102, 105), '70600': (129, 130), '60000': (192, 192)}, '03082_27-06-2024-08.00': {'71801': (0, 0), '71500': (32, 34), '78400': (59, 61), '04040': (102, 105), '70600': (129, 130), '60000': (192, 192)}, '03082_28-06-2024-08.00': {'71801': (0, 0), '71500': (32, 34), '78400': (59, 61), '04040': (102, 105), '70600': (129, 130), '60000': (192, 192)}, '03082_29-06-2024-08.00': {'71801': (0, 0), '71500': (32, 34), '78400': (59, 61), '04040': (102, 105), '70600': (129, 130), '60000': (192, 192)}, '03082_30-06-2024-08.00': {'71801': (0, 0), '71500': (32, 34), '78400': (59, 61), '04040': (102, 105), '70600': (129, 130), '60000': (192, 192)}, '03083_01-06-2024-08.30': {'60000': (0, 0), '04040': (75, 76), '71801': (165, 165)}, '03083_02-06-2024-08.30': {'60000': (0, 0), '04040': (75, 76), '71801': (165, 165)}, '03083_03-06-2024-08.30': {'60000': (0, 0), '04040': (75, 76), '71801': (165, 165)}, '03083_04-06-2024-08.30': {'60000': (0, 0), '04040': (75, 76), '71801': (165, 165)}, '03083_05-06-2024-08.30': {'60000': (0, 0), '04040': (75, 76), '71801': (165, 165)}, '03083_06-06-2024-08.30': {'60000': (0, 0), '04040': (75, 76), '71801': (165, 165)}, '03083_08-06-2024-08.30': {'60000': (0, 0), '04040': (75, 76), '71801': (165, 165)}, '03083_09-06-2024-08.30': {'60000': (0, 0), '04040': (75, 76), '71801': (165, 165)}, '03083_10-06-2024-08.30': {'60000': (0, 0), '04040': (75, 76), '71801': (165, 165)}, '03083_11-06-2024-08.30': {'60000': (0, 0), '04040': (75, 76), '71801': (165, 165)}, '03083_12-06-2024-08.30': {'60000': (0, 0), '04040': (75, 76), '71801': (165, 165)}, '03083_13-06-2024-08.30': {'60000': (0, 0), '04040': (75, 76), '71801': (165, 165)}, '03083_15-06-2024-08.30': {'60000': (0, 0), '04040': (75, 76), '71801': (165, 165)}, '03083_16-06-2024-08.30': {'60000': (0, 0), '04040': (75, 76), '71801': (165, 165)}, '03083_17-06-2024-08.30': {'60000': (0, 0), '04040': (75, 76), '71801': (165, 165)}, '03083_18-06-2024-08.30': {'60000': (0, 0), '04040': (75, 76), '71801': (165, 165)}, '03083_19-06-2024-08.30': {'60000': (0, 0), '04040': (75, 76), '71801': (165, 165)}, '03083_20-06-2024-08.30': {'60000': (0, 0), '04040': (75, 76), '71801': (165, 165)}, '03083_22-06-2024-08.30': {'60000': (0, 0), '04040': (75, 76), '71801': (165, 165)}, '03083_23-06-2024-08.30': {'60000': (0, 0), '04040': (75, 76), '71801': (165, 165)}, '03083_24-06-2024-08.30': {'60000': (0, 0), '04040': (75, 76), '71801': (165, 165)}, '03083_25-06-2024-08.30': {'60000': (0, 0), '04040': (75, 76), '71801': (165, 165)}, '03083_26-06-2024-08.30': {'60000': (0, 0), '04040': (75, 76), '71801': (165, 165)}, '03083_27-06-2024-08.30': {'60000': (0, 0), '04040': (75, 76), '71801': (165, 165)}, '03083_29-06-2024-08.30': {'60000': (0, 0), '04040': (75, 76), '71801': (165, 165)}, '03083_30-06-2024-08.30': {'60000': (0, 0), '04040': (75, 76), '71801': (165, 165)}, '03091_01-06-2024-09.00': {'60000': (0, 0), '71801': (150, 150)}, '03091_03-06-2024-09.00': {'60000': (0, 0), '71801': (150, 150)}, '03091_04-06-2024-09.00': {'60000': (0, 0), '71801': (150, 150)}, '03091_05-06-2024-09.00': {'60000': (0, 0), '71801': (150, 150)}, '03091_06-06-2024-09.00': {'60000': (0, 0), '71801': (150, 150)}, '03091_07-06-2024-09.00': {'60000': (0, 0), '71801': (150, 150)}, '03091_08-06-2024-09.00': {'60000': (0, 0), '71801': (150, 150)}, '03091_10-06-2024-09.00': {'60000': (0, 0), '71801': (150, 150)}, '03091_11-06-2024-09.00': {'60000': (0, 0), '71801': (150, 150)}, '03091_12-06-2024-09.00': {'60000': (0, 0), '71801': (150, 150)}, '03091_13-06-2024-09.00': {'60000': (0, 0), '71801': (150, 150)}, '03091_14-06-2024-09.00': {'60000': (0, 0), '71801': (150, 150)}, '03091_15-06-2024-09.00': {'60000': (0, 0), '71801': (150, 150)}, '03091_17-06-2024-09.00': {'60000': (0, 0), '71801': (150, 150)}, '03091_18-06-2024-09.00': {'60000': (0, 0), '71801': (150, 150)}, '03091_19-06-2024-09.00': {'60000': (0, 0), '71801': (150, 150)}, '03091_20-06-2024-09.00': {'60000': (0, 0), '71801': (150, 150)}, '03091_21-06-2024-09.00': {'60000': (0, 0), '71801': (150, 150)}, '03091_22-06-2024-09.00': {'60000': (0, 0), '71801': (150, 150)}, '03091_24-06-2024-09.00': {'60000': (0, 0), '71801': (150, 150)}, '03091_25-06-2024-09.00': {'60000': (0, 0), '71801': (150, 150)}, '03091_26-06-2024-09.00': {'60000': (0, 0), '71801': (150, 150)}, '03091_27-06-2024-09.00': {'60000': (0, 0), '71801': (150, 150)}, '03091_28-06-2024-09.00': {'60000': (0, 0), '71801': (150, 150)}, '03091_29-06-2024-09.00': {'60000': (0, 0), '71801': (150, 150)}, '03092_01-06-2024-09.00': {'04307': (0, 0), '79300': (14, 16), '71801': (55, 65), '04040': (148, 151), '60000': (230, 230)}, '03092_02-06-2024-09.00': {'71801': (0, 0), '04040': (83, 86), '60000': (165, 165)}, '03092_03-06-2024-09.00': {'04307': (0, 0), '79300': (14, 16), '71801': (55, 65), '04040': (148, 151), '60000': (230, 230)}, '03092_04-06-2024-09.00': {'04307': (0, 0), '79300': (14, 16), '71801': (55, 65), '04040': (148, 151), '60000': (230, 230)}, '03092_05-06-2024-09.00': {'04307': (0, 0), '79300': (14, 16), '71801': (55, 65), '04040': (148, 151), '60000': (230, 230)}, '03092_06-06-2024-09.00': {'04307': (0, 0), '79300': (14, 16), '71801': (55, 65), '04040': (148, 151), '60000': (230, 230)}, '03092_07-06-2024-09.00': {'04307': (0, 0), '79300': (14, 16), '71801': (55, 65), '04040': (148, 151), '60000': (230, 230)}, '03092_08-06-2024-09.00': {'04307': (0, 0), '79300': (14, 16), '71801': (55, 65), '04040': (148, 151), '60000': (230, 230)}, '03092_09-06-2024-09.00': {'71801': (0, 0), '04040': (83, 86), '60000': (165, 165)}, '03092_10-06-2024-09.00': {'04307': (0, 0), '79300': (14, 16), '71801': (55, 65), '04040': (148, 151), '60000': (230, 230)}, '03092_11-06-2024-09.00': {'04307': (0, 0), '79300': (14, 16), '71801': (55, 65), '04040': (148, 151), '60000': (230, 230)}, '03092_12-06-2024-09.00': {'04307': (0, 0), '79300': (14, 16), '71801': (55, 65), '04040': (148, 151), '60000': (230, 230)}, '03092_13-06-2024-09.00': {'04307': (0, 0), '79300': (14, 16), '71801': (55, 65), '04040': (148, 151), '60000': (230, 230)}, '03092_14-06-2024-09.00': {'04307': (0, 0), '79300': (14, 16), '71801': (55, 65), '04040': (148, 151), '60000': (230, 230)}, '03092_15-06-2024-09.00': {'04307': (0, 0), '79300': (14, 16), '71801': (55, 65), '04040': (148, 151), '60000': (230, 230)}, '03092_16-06-2024-09.00': {'71801': (0, 0), '04040': (83, 86), '60000': (165, 165)}, '03092_17-06-2024-09.00': {'04307': (0, 0), '79300': (14, 16), '71801': (55, 65), '04040': (148, 151), '60000': (230, 230)}, '03092_18-06-2024-09.00': {'04307': (0, 0), '79300': (14, 16), '71801': (55, 65), '04040': (148, 151), '60000': (230, 230)}, '03092_19-06-2024-09.00': {'04307': (0, 0), '79300': (14, 16), '71801': (55, 65), '04040': (148, 151), '60000': (230, 230)}, '03092_20-06-2024-09.00': {'04307': (0, 0), '79300': (14, 16), '71801': (55, 65), '04040': (148, 151), '60000': (230, 230)}, '03092_21-06-2024-09.00': {'04307': (0, 0), '79300': (14, 16), '71801': (55, 65), '04040': (148, 151), '60000': (230, 230)}, '03092_22-06-2024-09.00': {'04307': (0, 0), '79300': (14, 16), '71801': (55, 65), '04040': (148, 151), '60000': (230, 230)}, '03092_23-06-2024-09.00': {'71801': (0, 0), '04040': (83, 86), '60000': (165, 165)}, '03092_24-06-2024-09.00': {'04307': (0, 0), '79300': (14, 16), '71801': (55, 65), '04040': (148, 151), '60000': (230, 230)}, '03092_25-06-2024-09.00': {'04307': (0, 0), '79300': (14, 16), '71801': (55, 65), '04040': (148, 151), '60000': (230, 230)}, '03092_26-06-2024-09.00': {'04307': (0, 0), '79300': (14, 16), '71801': (55, 65), '04040': (148, 151), '60000': (230, 230)}, '03092_27-06-2024-09.00': {'04307': (0, 0), '79300': (14, 16), '71801': (55, 65), '04040': (148, 151), '60000': (230, 230)}, '03092_28-06-2024-09.00': {'04307': (0, 0), '79300': (14, 16), '71801': (55, 65), '04040': (148, 151), '60000': (230, 230)}, '03092_29-06-2024-09.00': {'04307': (0, 0), '79300': (14, 16), '71801': (55, 65), '04040': (148, 151), '60000': (230, 230)}, '03092_30-06-2024-09.00': {'71801': (0, 0), '04040': (83, 86), '60000': (165, 165)}, '03093_01-06-2024-09.30': {'60000': (0, 0), '04040': (75, 76), '78400': (119, 121), '71500': (148, 150), '71801': (187, 195), '79300': (233, 235), '04307': (250, 250)}, '03093_02-06-2024-09.30': {'60000': (0, 0), '04040': (75, 76), '78400': (119, 121), '71500': (148, 150), '71801': (187, 195), '79300': (233, 235), '04307': (250, 250)}, '03093_03-06-2024-09.30': {'60000': (0, 0), '04040': (75, 76), '78400': (119, 121), '71500': (148, 150), '71801': (187, 195), '79300': (233, 235), '04307': (250, 250)}, '03093_04-06-2024-09.30': {'60000': (0, 0), '04040': (75, 76), '78400': (119, 121), '71500': (148, 150), '71801': (187, 195), '79300': (233, 235), '04307': (250, 250)}, '03093_05-06-2024-09.30': {'60000': (0, 0), '04040': (75, 76), '78400': (119, 121), '71500': (148, 150), '71801': (187, 195), '79300': (233, 235), '04307': (250, 250)}, '03093_06-06-2024-09.30': {'60000': (0, 0), '04040': (75, 76), '78400': (119, 121), '71500': (148, 150), '71801': (187, 195), '79300': (233, 235), '04307': (250, 250)}, '03093_07-06-2024-09.30': {'60000': (0, 0), '04040': (75, 76), '78400': (119, 121), '71500': (148, 150), '71801': (187, 195), '79300': (233, 235), '04307': (250, 250)}, '03093_08-06-2024-09.30': {'60000': (0, 0), '04040': (75, 76), '78400': (119, 121), '71500': (148, 150), '71801': (187, 195), '79300': (233, 235), '04307': (250, 250)}, '03093_09-06-2024-09.30': {'60000': (0, 0), '04040': (75, 76), '78400': (119, 121), '71500': (148, 150), '71801': (187, 195), '79300': (233, 235), '04307': (250, 250)}, '03093_10-06-2024-09.30': {'60000': (0, 0), '04040': (75, 76), '78400': (119, 121), '71500': (148, 150), '71801': (187, 195), '79300': (233, 235), '04307': (250, 250)}, '03093_11-06-2024-09.30': {'60000': (0, 0), '04040': (75, 76), '78400': (119, 121), '71500': (148, 150), '71801': (187, 195), '79300': (233, 235), '04307': (250, 250)}, '03093_12-06-2024-09.30': {'60000': (0, 0), '04040': (75, 76), '78400': (119, 121), '71500': (148, 150), '71801': (187, 195), '79300': (233, 235), '04307': (250, 250)}, '03093_13-06-2024-09.30': {'60000': (0, 0), '04040': (75, 76), '78400': (119, 121), '71500': (148, 150), '71801': (187, 195), '79300': (233, 235), '04307': (250, 250)}, '03093_14-06-2024-09.30': {'60000': (0, 0), '04040': (75, 76), '78400': (119, 121), '71500': (148, 150), '71801': (187, 195), '79300': (233, 235), '04307': (250, 250)}, '03093_15-06-2024-09.30': {'60000': (0, 0), '04040': (75, 76), '78400': (119, 121), '71500': (148, 150), '71801': (187, 195), '79300': (233, 235), '04307': (250, 250)}, '03093_16-06-2024-09.30': {'60000': (0, 0), '04040': (75, 76), '78400': (119, 121), '71500': (148, 150), '71801': (187, 195), '79300': (233, 235), '04307': (250, 250)}, '03093_17-06-2024-09.30': {'60000': (0, 0), '04040': (75, 76), '78400': (119, 121), '71500': (148, 150), '71801': (187, 195), '79300': (233, 235), '04307': (250, 250)}, '03093_18-06-2024-09.30': {'60000': (0, 0), '04040': (75, 76), '78400': (119, 121), '71500': (148, 150), '71801': (187, 195), '79300': (233, 235), '04307': (250, 250)}, '03093_19-06-2024-09.30': {'60000': (0, 0), '04040': (75, 76), '78400': (119, 121), '71500': (148, 150), '71801': (187, 195), '79300': (233, 235), '04307': (250, 250)}, '03093_20-06-2024-09.30': {'60000': (0, 0), '04040': (75, 76), '78400': (119, 121), '71500': (148, 150), '71801': (187, 195), '79300': (233, 235), '04307': (250, 250)}, '03093_21-06-2024-09.30': {'60000': (0, 0), '04040': (75, 76), '78400': (119, 121), '71500': (148, 150), '71801': (187, 195), '79300': (233, 235), '04307': (250, 250)}, '03093_22-06-2024-09.30': {'60000': (0, 0), '04040': (75, 76), '78400': (119, 121), '71500': (148, 150), '71801': (187, 195), '79300': (233, 235), '04307': (250, 250)}, '03093_23-06-2024-09.30': {'60000': (0, 0), '04040': (75, 76), '78400': (119, 121), '71500': (148, 150), '71801': (187, 195), '79300': (233, 235), '04307': (250, 250)}, '03093_24-06-2024-09.30': {'60000': (0, 0), '04040': (75, 76), '78400': (119, 121), '71500': (148, 150), '71801': (187, 195), '79300': (233, 235), '04307': (250, 250)}, '03093_25-06-2024-09.30': {'60000': (0, 0), '04040': (75, 76), '78400': (119, 121), '71500': (148, 150), '71801': (187, 195), '79300': (233, 235), '04307': (250, 250)}, '03093_26-06-2024-09.30': {'60000': (0, 0), '04040': (75, 76), '78400': (119, 121), '71500': (148, 150), '71801': (187, 195), '79300': (233, 235), '04307': (250, 250)}, '03093_27-06-2024-09.30': {'60000': (0, 0), '04040': (75, 76), '78400': (119, 121), '71500': (148, 150), '71801': (187, 195), '79300': (233, 235), '04307': (250, 250)}, '03093_28-06-2024-09.30': {'60000': (0, 0), '04040': (75, 76), '78400': (119, 121), '71500': (148, 150), '71801': (187, 195), '79300': (233, 235), '04307': (250, 250)}, '03093_29-06-2024-09.30': {'60000': (0, 0), '04040': (75, 76), '78400': (119, 121), '71500': (148, 150), '71801': (187, 195), '79300': (233, 235), '04307': (250, 250)}, '03093_30-06-2024-09.30': {'60000': (0, 0), '04040': (75, 76), '78400': (119, 121), '71500': (148, 150), '71801': (187, 195), '79300': (233, 235), '04307': (250, 250)}, '03112_01-06-2024-11.00': {'71801': (0, 0), '04040': (83, 86), '60000': (165, 165)}, '03112_02-06-2024-11.00': {'71801': (0, 0), '04040': (83, 86), '60000': (165, 165)}, '03112_03-06-2024-11.00': {'71801': (0, 0), '04040': (83, 86), '60000': (165, 165)}, '03112_04-06-2024-11.00': {'71801': (0, 0), '04040': (83, 86), '60000': (165, 165)}, '03112_05-06-2024-11.00': {'71801': (0, 0), '04040': (83, 86), '60000': (165, 165)}, '03112_06-06-2024-11.00': {'71801': (0, 0), '04040': (83, 86), '60000': (165, 165)}, '03112_07-06-2024-11.00': {'71801': (0, 0), '04040': (83, 86), '60000': (165, 165)}, '03112_08-06-2024-11.00': {'71801': (0, 0), '04040': (83, 86), '60000': (165, 165)}, '03112_09-06-2024-11.00': {'71801': (0, 0), '04040': (83, 86), '60000': (165, 165)}, '03112_10-06-2024-11.00': {'71801': (0, 0), '04040': (83, 86), '60000': (165, 165)}, '03112_11-06-2024-11.00': {'71801': (0, 0), '04040': (83, 86), '60000': (165, 165)}, '03112_12-06-2024-11.00': {'71801': (0, 0), '04040': (83, 86), '60000': (165, 165)}, '03112_13-06-2024-11.00': {'71801': (0, 0), '04040': (83, 86), '60000': (165, 165)}, '03112_14-06-2024-11.00': {'71801': (0, 0), '04040': (83, 86), '60000': (165, 165)}, '03112_15-06-2024-11.00': {'71801': (0, 0), '04040': (83, 86), '60000': (165, 165)}, '03112_16-06-2024-11.00': {'71801': (0, 0), '04040': (83, 86), '60000': (165, 165)}, '03112_17-06-2024-11.00': {'71801': (0, 0), '04040': (83, 86), '60000': (165, 165)}, '03112_18-06-2024-11.00': {'71801': (0, 0), '04040': (83, 86), '60000': (165, 165)}, '03112_19-06-2024-11.00': {'71801': (0, 0), '04040': (83, 86), '60000': (165, 165)}, '03112_20-06-2024-11.00': {'71801': (0, 0), '04040': (83, 86), '60000': (165, 165)}, '03112_21-06-2024-11.00': {'71801': (0, 0), '04040': (83, 86), '60000': (165, 165)}, '03112_22-06-2024-11.00': {'71801': (0, 0), '04040': (83, 86), '60000': (165, 165)}, '03112_23-06-2024-11.00': {'71801': (0, 0), '04040': (83, 86), '60000': (165, 165)}, '03112_24-06-2024-11.00': {'71801': (0, 0), '04040': (83, 86), '60000': (165, 165)}, '03112_25-06-2024-11.00': {'71801': (0, 0), '04040': (83, 86), '60000': (165, 165)}, '03112_26-06-2024-11.00': {'71801': (0, 0), '04040': (83, 86), '60000': (165, 165)}, '03112_27-06-2024-11.00': {'71801': (0, 0), '04040': (83, 86), '60000': (165, 165)}, '03112_28-06-2024-11.00': {'71801': (0, 0), '04040': (83, 86), '60000': (165, 165)}, '03112_29-06-2024-11.00': {'71801': (0, 0), '04040': (83, 86), '60000': (165, 165)}, '03112_30-06-2024-11.00': {'71801': (0, 0), '04040': (83, 86), '60000': (165, 165)}, '03113_01-06-2024-11.30': {'60000': (0, 0), '70600': (55, 56), '04040': (81, 82), '78400': (125, 127), '71500': (154, 156), '71801': (192, 192)}, '03113_02-06-2024-11.30': {'60000': (0, 0), '70600': (55, 56), '04040': (81, 82), '78400': (125, 127), '71500': (154, 156), '71801': (192, 192)}, '03113_03-06-2024-11.30': {'60000': (0, 0), '70600': (55, 56), '04040': (81, 82), '78400': (125, 127), '71500': (154, 156), '71801': (192, 192)}, '03113_04-06-2024-11.30': {'60000': (0, 0), '70600': (55, 56), '04040': (81, 82), '78400': (125, 127), '71500': (154, 156), '71801': (192, 192)}, '03113_05-06-2024-11.30': {'60000': (0, 0), '70600': (55, 56), '04040': (81, 82), '78400': (125, 127), '71500': (154, 156), '71801': (192, 192)}, '03113_06-06-2024-11.30': {'60000': (0, 0), '70600': (55, 56), '04040': (81, 82), '78400': (125, 127), '71500': (154, 156), '71801': (192, 192)}, '03113_07-06-2024-11.30': {'60000': (0, 0), '70600': (55, 56), '04040': (81, 82), '78400': (125, 127), '71500': (154, 156), '71801': (192, 192)}, '03113_08-06-2024-11.30': {'60000': (0, 0), '70600': (55, 56), '04040': (81, 82), '78400': (125, 127), '71500': (154, 156), '71801': (192, 192)}, '03113_09-06-2024-11.30': {'60000': (0, 0), '70600': (55, 56), '04040': (81, 82), '78400': (125, 127), '71500': (154, 156), '71801': (192, 192)}, '03113_10-06-2024-11.30': {'60000': (0, 0), '70600': (55, 56), '04040': (81, 82), '78400': (125, 127), '71500': (154, 156), '71801': (192, 192)}, '03113_11-06-2024-11.30': {'60000': (0, 0), '70600': (55, 56), '04040': (81, 82), '78400': (125, 127), '71500': (154, 156), '71801': (192, 192)}, '03113_12-06-2024-11.30': {'60000': (0, 0), '70600': (55, 56), '04040': (81, 82), '78400': (125, 127), '71500': (154, 156), '71801': (192, 192)}, '03113_13-06-2024-11.30': {'60000': (0, 0), '70600': (55, 56), '04040': (81, 82), '78400': (125, 127), '71500': (154, 156), '71801': (192, 192)}, '03113_14-06-2024-11.30': {'60000': (0, 0), '70600': (55, 56), '04040': (81, 82), '78400': (125, 127), '71500': (154, 156), '71801': (192, 192)}, '03113_15-06-2024-11.30': {'60000': (0, 0), '70600': (55, 56), '04040': (81, 82), '78400': (125, 127), '71500': (154, 156), '71801': (192, 192)}, '03113_16-06-2024-11.30': {'60000': (0, 0), '70600': (55, 56), '04040': (81, 82), '78400': (125, 127), '71500': (154, 156), '71801': (192, 192)}, '03113_17-06-2024-11.30': {'60000': (0, 0), '70600': (55, 56), '04040': (81, 82), '78400': (125, 127), '71500': (154, 156), '71801': (192, 192)}, '03113_18-06-2024-11.30': {'60000': (0, 0), '70600': (55, 56), '04040': (81, 82), '78400': (125, 127), '71500': (154, 156), '71801': (192, 192)}, '03113_19-06-2024-11.30': {'60000': (0, 0), '70600': (55, 56), '04040': (81, 82), '78400': (125, 127), '71500': (154, 156), '71801': (192, 192)}, '03113_20-06-2024-11.30': {'60000': (0, 0), '70600': (55, 56), '04040': (81, 82), '78400': (125, 127), '71500': (154, 156), '71801': (192, 192)}, '03113_21-06-2024-11.30': {'60000': (0, 0), '70600': (55, 56), '04040': (81, 82), '78400': (125, 127), '71500': (154, 156), '71801': (192, 192)}, '03113_22-06-2024-11.30': {'60000': (0, 0), '70600': (55, 56), '04040': (81, 82), '78400': (125, 127), '71500': (154, 156), '71801': (192, 192)}, '03113_23-06-2024-11.30': {'60000': (0, 0), '70600': (55, 56), '04040': (81, 82), '78400': (125, 127), '71500': (154, 156), '71801': (192, 192)}, '03113_24-06-2024-11.30': {'60000': (0, 0), '70600': (55, 56), '04040': (81, 82), '78400': (125, 127), '71500': (154, 156), '71801': (192, 192)}, '03113_25-06-2024-11.30': {'60000': (0, 0), '70600': (55, 56), '04040': (81, 82), '78400': (125, 127), '71500': (154, 156), '71801': (192, 192)}, '03113_26-06-2024-11.30': {'60000': (0, 0), '70600': (55, 56), '04040': (81, 82), '78400': (125, 127), '71500': (154, 156), '71801': (192, 192)}, '03113_27-06-2024-11.30': {'60000': (0, 0), '70600': (55, 56), '04040': (81, 82), '78400': (125, 127), '71500': (154, 156), '71801': (192, 192)}, '03113_28-06-2024-11.30': {'60000': (0, 0), '70600': (55, 56), '04040': (81, 82), '78400': (125, 127), '71500': (154, 156), '71801': (192, 192)}, '03113_29-06-2024-11.30': {'60000': (0, 0), '70600': (55, 56), '04040': (81, 82), '78400': (125, 127), '71500': (154, 156), '71801': (192, 192)}, '03113_30-06-2024-11.30': {'60000': (0, 0), '70600': (55, 56), '04040': (81, 82), '78400': (125, 127), '71500': (154, 156), '71801': (192, 192)}, '03122_01-06-2024-12.00': {'71801': (0, 0), '71500': (32, 34), '78400': (59, 61), '04040': (102, 105), '70200': (164, 165), '60000': (192, 192)}, '03122_02-06-2024-12.00': {'71801': (0, 0), '71500': (32, 34), '78400': (59, 61), '04040': (102, 105), '70200': (164, 165), '60000': (192, 192)}, '03122_03-06-2024-12.00': {'71801': (0, 0), '71500': (32, 34), '78400': (59, 61), '04040': (102, 105), '70200': (164, 165), '60000': (192, 192)}, '03122_04-06-2024-12.00': {'71801': (0, 0), '71500': (32, 34), '78400': (59, 61), '04040': (102, 105), '70200': (164, 165), '60000': (192, 192)}, '03122_05-06-2024-12.00': {'71801': (0, 0), '71500': (32, 34), '78400': (59, 61), '04040': (102, 105), '70200': (164, 165), '60000': (192, 192)}, '03122_06-06-2024-12.00': {'71801': (0, 0), '71500': (32, 34), '78400': (59, 61), '04040': (102, 105), '70200': (164, 165), '60000': (192, 192)}, '03122_07-06-2024-12.00': {'71801': (0, 0), '71500': (32, 34), '78400': (59, 61), '04040': (102, 105), '70200': (164, 165), '60000': (192, 192)}, '03122_08-06-2024-12.00': {'71801': (0, 0), '71500': (32, 34), '78400': (59, 61), '04040': (102, 105), '70200': (164, 165), '60000': (192, 192)}, '03122_09-06-2024-12.00': {'71801': (0, 0), '71500': (32, 34), '78400': (59, 61), '04040': (102, 105), '70200': (164, 165), '60000': (192, 192)}, '03122_10-06-2024-12.00': {'71801': (0, 0), '71500': (32, 34), '78400': (59, 61), '04040': (102, 105), '70200': (164, 165), '60000': (192, 192)}, '03122_11-06-2024-12.00': {'71801': (0, 0), '71500': (32, 34), '78400': (59, 61), '04040': (102, 105), '70200': (164, 165), '60000': (192, 192)}, '03122_12-06-2024-12.00': {'71801': (0, 0), '71500': (32, 34), '78400': (59, 61), '04040': (102, 105), '70200': (164, 165), '60000': (192, 192)}, '03122_13-06-2024-12.00': {'71801': (0, 0), '71500': (32, 34), '78400': (59, 61), '04040': (102, 105), '70200': (164, 165), '60000': (192, 192)}, '03122_14-06-2024-12.00': {'71801': (0, 0), '71500': (32, 34), '78400': (59, 61), '04040': (102, 105), '70200': (164, 165), '60000': (192, 192)}, '03122_15-06-2024-12.00': {'71801': (0, 0), '71500': (32, 34), '78400': (59, 61), '04040': (102, 105), '70200': (164, 165), '60000': (192, 192)}, '03122_16-06-2024-12.00': {'71801': (0, 0), '71500': (32, 34), '78400': (59, 61), '04040': (102, 105), '70200': (164, 165), '60000': (192, 192)}, '03122_17-06-2024-12.00': {'71801': (0, 0), '71500': (32, 34), '78400': (59, 61), '04040': (102, 105), '70200': (164, 165), '60000': (192, 192)}, '03122_18-06-2024-12.00': {'71801': (0, 0), '71500': (32, 34), '78400': (59, 61), '04040': (102, 105), '70200': (164, 165), '60000': (192, 192)}, '03122_19-06-2024-12.00': {'71801': (0, 0), '71500': (32, 34), '78400': (59, 61), '04040': (102, 105), '70200': (164, 165), '60000': (192, 192)}, '03122_20-06-2024-12.00': {'71801': (0, 0), '71500': (32, 34), '78400': (59, 61), '04040': (102, 105), '70200': (164, 165), '60000': (192, 192)}, '03122_21-06-2024-12.00': {'71801': (0, 0), '71500': (32, 34), '78400': (59, 61), '04040': (102, 105), '70200': (164, 165), '60000': (192, 192)}, '03122_22-06-2024-12.00': {'71801': (0, 0), '71500': (32, 34), '78400': (59, 61), '04040': (102, 105), '70200': (164, 165), '60000': (192, 192)}, '03122_23-06-2024-12.00': {'71801': (0, 0), '71500': (32, 34), '78400': (59, 61), '04040': (102, 105), '70200': (164, 165), '60000': (192, 192)}, '03122_24-06-2024-12.00': {'71801': (0, 0), '71500': (32, 34), '78400': (59, 61), '04040': (102, 105), '70200': (164, 165), '60000': (192, 192)}, '03122_25-06-2024-12.00': {'71801': (0, 0), '71500': (32, 34), '78400': (59, 61), '04040': (102, 105), '70200': (164, 165), '60000': (192, 192)}, '03122_26-06-2024-12.00': {'71801': (0, 0), '71500': (32, 34), '78400': (59, 61), '04040': (102, 105), '70200': (164, 165), '60000': (192, 192)}, '03122_27-06-2024-12.00': {'71801': (0, 0), '71500': (32, 34), '78400': (59, 61), '04040': (102, 105), '70200': (164, 165), '60000': (192, 192)}, '03122_28-06-2024-12.00': {'71801': (0, 0), '71500': (32, 34), '78400': (59, 61), '04040': (102, 105), '70200': (164, 165), '60000': (192, 192)}, '03122_29-06-2024-12.00': {'71801': (0, 0), '71500': (32, 34), '78400': (59, 61), '04040': (102, 105), '70200': (164, 165), '60000': (192, 192)}, '03122_30-06-2024-12.00': {'71801': (0, 0), '71500': (32, 34), '78400': (59, 61), '04040': (102, 105), '70200': (164, 165), '60000': (192, 192)}, '03123_01-06-2024-12.30': {'60000': (0, 0), '04040': (75, 76), '78400': (119, 121), '71801': (190, 190)}, '03123_02-06-2024-12.30': {'60000': (0, 0), '04040': (75, 76), '78400': (119, 121), '71801': (190, 200), '79300': (238, 240), '04307': (255, 255)}, '03123_03-06-2024-12.30': {'60000': (0, 0), '04040': (75, 76), '78400': (119, 121), '71801': (190, 200), '79300': (238, 240), '04307': (255, 255)}, '03123_04-06-2024-12.30': {'60000': (0, 0), '04040': (75, 76), '78400': (119, 121), '71801': (190, 200), '79300': (238, 240), '04307': (255, 255)}, '03123_05-06-2024-12.30': {'60000': (0, 0), '04040': (75, 76), '78400': (119, 121), '71801': (190, 200), '79300': (238, 240), '04307': (255, 255)}, '03123_06-06-2024-12.30': {'60000': (0, 0), '04040': (75, 76), '78400': (119, 121), '71801': (190, 200), '79300': (238, 240), '04307': (255, 255)}, '03123_07-06-2024-12.30': {'60000': (0, 0), '04040': (75, 76), '78400': (119, 121), '71801': (190, 200), '79300': (238, 240), '04307': (255, 255)}, '03123_08-06-2024-12.30': {'60000': (0, 0), '04040': (75, 76), '78400': (119, 121), '71801': (190, 190)}, '03123_09-06-2024-12.30': {'60000': (0, 0), '04040': (75, 76), '78400': (119, 121), '71801': (190, 200), '79300': (238, 240), '04307': (255, 255)}, '03123_10-06-2024-12.30': {'60000': (0, 0), '04040': (75, 76), '78400': (119, 121), '71801': (190, 200), '79300': (238, 240), '04307': (255, 255)}, '03123_11-06-2024-12.30': {'60000': (0, 0), '04040': (75, 76), '78400': (119, 121), '71801': (190, 200), '79300': (238, 240), '04307': (255, 255)}, '03123_12-06-2024-12.30': {'60000': (0, 0), '04040': (75, 76), '78400': (119, 121), '71801': (190, 200), '79300': (238, 240), '04307': (255, 255)}, '03123_13-06-2024-12.30': {'60000': (0, 0), '04040': (75, 76), '78400': (119, 121), '71801': (190, 200), '79300': (238, 240), '04307': (255, 255)}, '03123_14-06-2024-12.30': {'60000': (0, 0), '04040': (75, 76), '78400': (119, 121), '71801': (190, 200), '79300': (238, 240), '04307': (255, 255)}, '03123_15-06-2024-12.30': {'60000': (0, 0), '04040': (75, 76), '78400': (119, 121), '71801': (190, 190)}, '03123_16-06-2024-12.30': {'60000': (0, 0), '04040': (75, 76), '78400': (119, 121), '71801': (190, 200), '79300': (238, 240), '04307': (255, 255)}, '03123_17-06-2024-12.30': {'60000': (0, 0), '04040': (75, 76), '78400': (119, 121), '71801': (190, 200), '79300': (238, 240), '04307': (255, 255)}, '03123_18-06-2024-12.30': {'60000': (0, 0), '04040': (75, 76), '78400': (119, 121), '71801': (190, 200), '79300': (238, 240), '04307': (255, 255)}, '03123_19-06-2024-12.30': {'60000': (0, 0), '04040': (75, 76), '78400': (119, 121), '71801': (190, 200), '79300': (238, 240), '04307': (255, 255)}, '03123_20-06-2024-12.30': {'60000': (0, 0), '04040': (75, 76), '78400': (119, 121), '71801': (190, 200), '79300': (238, 240), '04307': (255, 255)}, '03123_21-06-2024-12.30': {'60000': (0, 0), '04040': (75, 76), '78400': (119, 121), '71801': (190, 200), '79300': (238, 240), '04307': (255, 255)}, '03123_22-06-2024-12.30': {'60000': (0, 0), '04040': (75, 76), '78400': (119, 121), '71801': (190, 190)}, '03123_23-06-2024-12.30': {'60000': (0, 0), '04040': (75, 76), '78400': (119, 121), '71801': (190, 200), '79300': (238, 240), '04307': (255, 255)}, '03123_24-06-2024-12.30': {'60000': (0, 0), '04040': (75, 76), '78400': (119, 121), '71801': (190, 200), '79300': (238, 240), '04307': (255, 255)}, '03123_25-06-2024-12.30': {'60000': (0, 0), '04040': (75, 76), '78400': (119, 121), '71801': (190, 200), '79300': (238, 240), '04307': (255, 255)}, '03123_26-06-2024-12.30': {'60000': (0, 0), '04040': (75, 76), '78400': (119, 121), '71801': (190, 200), '79300': (238, 240), '04307': (255, 255)}, '03123_27-06-2024-12.30': {'60000': (0, 0), '04040': (75, 76), '78400': (119, 121), '71801': (190, 200), '79300': (238, 240), '04307': (255, 255)}, '03123_28-06-2024-12.30': {'60000': (0, 0), '04040': (75, 76), '78400': (119, 121), '71801': (190, 200), '79300': (238, 240), '04307': (255, 255)}, '03123_29-06-2024-12.30': {'60000': (0, 0), '04040': (75, 76), '78400': (119, 121), '71801': (190, 190)}, '03123_30-06-2024-12.30': {'60000': (0, 0), '04040': (75, 76), '78400': (119, 121), '71801': (190, 200), '79300': (238, 240), '04307': (255, 255)}, '03130_03-06-2024-13.25': {'71801': (0, 0), '60000': (149, 149)}, '03130_04-06-2024-13.25': {'71801': (0, 0), '60000': (149, 149)}, '03130_05-06-2024-13.25': {'71801': (0, 0), '60000': (149, 149)}, '03130_06-06-2024-13.25': {'71801': (0, 0), '60000': (149, 149)}, '03130_07-06-2024-13.25': {'71801': (0, 0), '60000': (149, 149)}, '03130_10-06-2024-13.25': {'71801': (0, 0), '60000': (149, 149)}, '03130_11-06-2024-13.25': {'71801': (0, 0), '60000': (149, 149)}, '03130_12-06-2024-13.25': {'71801': (0, 0), '60000': (149, 149)}, '03130_13-06-2024-13.25': {'71801': (0, 0), '60000': (149, 149)}, '03130_14-06-2024-13.25': {'71801': (0, 0), '60000': (149, 149)}, '03130_17-06-2024-13.25': {'71801': (0, 0), '60000': (149, 149)}, '03130_18-06-2024-13.25': {'71801': (0, 0), '60000': (149, 149)}, '03130_19-06-2024-13.25': {'71801': (0, 0), '60000': (149, 149)}, '03130_20-06-2024-13.25': {'71801': (0, 0), '60000': (149, 149)}, '03130_21-06-2024-13.25': {'71801': (0, 0), '60000': (149, 149)}, '03130_24-06-2024-13.25': {'71801': (0, 0), '60000': (149, 149)}, '03130_25-06-2024-13.25': {'71801': (0, 0), '60000': (149, 149)}, '03130_26-06-2024-13.25': {'71801': (0, 0), '60000': (149, 149)}, '03130_27-06-2024-13.25': {'71801': (0, 0), '60000': (149, 149)}, '03130_28-06-2024-13.25': {'71801': (0, 0), '60000': (149, 149)}, '03131_02-06-2024-13.00': {'60000': (0, 0), '71801': (150, 150)}, '03131_03-06-2024-13.00': {'60000': (0, 0), '71801': (150, 150)}, '03131_04-06-2024-13.00': {'60000': (0, 0), '71801': (150, 150)}, '03131_05-06-2024-13.00': {'60000': (0, 0), '71801': (150, 150)}, '03131_06-06-2024-13.00': {'60000': (0, 0), '71801': (150, 150)}, '03131_09-06-2024-13.00': {'60000': (0, 0), '71801': (150, 150)}, '03131_10-06-2024-13.00': {'60000': (0, 0), '71801': (150, 150)}, '03131_11-06-2024-13.00': {'60000': (0, 0), '71801': (150, 150)}, '03131_12-06-2024-13.00': {'60000': (0, 0), '71801': (150, 150)}, '03131_13-06-2024-13.00': {'60000': (0, 0), '71801': (150, 150)}, '03131_16-06-2024-13.00': {'60000': (0, 0), '71801': (150, 150)}, '03131_17-06-2024-13.00': {'60000': (0, 0), '71801': (150, 150)}, '03131_18-06-2024-13.00': {'60000': (0, 0), '71801': (150, 150)}, '03131_19-06-2024-13.00': {'60000': (0, 0), '71801': (150, 150)}, '03131_20-06-2024-13.00': {'60000': (0, 0), '71801': (150, 150)}, '03131_23-06-2024-13.00': {'60000': (0, 0), '71801': (150, 150)}, '03131_24-06-2024-13.00': {'60000': (0, 0), '71801': (150, 150)}, '03131_25-06-2024-13.00': {'60000': (0, 0), '71801': (150, 150)}, '03131_26-06-2024-13.00': {'60000': (0, 0), '71801': (150, 150)}, '03131_27-06-2024-13.00': {'60000': (0, 0), '71801': (150, 150)}, '03131_30-06-2024-13.00': {'60000': (0, 0), '71801': (150, 150)}, '03142_01-06-2024-14.00': {'71801': (0, 0), '71500': (30, 32), '78400': (58, 60), '04040': (102, 104), '70600': (129, 130), '60000': (192, 192)}, '03142_02-06-2024-14.00': {'71801': (0, 0), '71500': (30, 32), '78400': (58, 60), '04040': (102, 104), '70600': (129, 130), '60000': (192, 192)}, '03142_03-06-2024-14.00': {'71801': (0, 0), '71500': (30, 32), '78400': (58, 60), '04040': (102, 104), '70600': (129, 130), '60000': (192, 192)}, '03142_04-06-2024-14.00': {'71801': (0, 0), '71500': (30, 32), '78400': (58, 60), '04040': (102, 104), '70600': (129, 130), '60000': (192, 192)}, '03142_05-06-2024-14.00': {'71801': (0, 0), '71500': (30, 32), '78400': (58, 60), '04040': (102, 104), '70600': (129, 130), '60000': (192, 192)}, '03142_06-06-2024-14.00': {'71801': (0, 0), '71500': (30, 32), '78400': (58, 60), '04040': (102, 104), '70600': (129, 130), '60000': (192, 192)}, '03142_07-06-2024-14.00': {'71801': (0, 0), '71500': (30, 32), '78400': (58, 60), '04040': (102, 104), '70600': (129, 130), '60000': (192, 192)}, '03142_08-06-2024-14.00': {'71801': (0, 0), '71500': (30, 32), '78400': (58, 60), '04040': (102, 104), '70600': (129, 130), '60000': (192, 192)}, '03142_09-06-2024-14.00': {'71801': (0, 0), '71500': (30, 32), '78400': (58, 60), '04040': (102, 104), '70600': (129, 130), '60000': (192, 192)}, '03142_10-06-2024-14.00': {'71801': (0, 0), '71500': (30, 32), '78400': (58, 60), '04040': (102, 104), '70600': (129, 130), '60000': (192, 192)}, '03142_11-06-2024-14.00': {'71801': (0, 0), '71500': (30, 32), '78400': (58, 60), '04040': (102, 104), '70600': (129, 130), '60000': (192, 192)}, '03142_12-06-2024-14.00': {'71801': (0, 0), '71500': (30, 32), '78400': (58, 60), '04040': (102, 104), '70600': (129, 130), '60000': (192, 192)}, '03142_13-06-2024-14.00': {'71801': (0, 0), '71500': (30, 32), '78400': (58, 60), '04040': (102, 104), '70600': (129, 130), '60000': (192, 192)}, '03142_14-06-2024-14.00': {'71801': (0, 0), '71500': (30, 32), '78400': (58, 60), '04040': (102, 104), '70600': (129, 130), '60000': (192, 192)}, '03142_15-06-2024-14.00': {'71801': (0, 0), '71500': (30, 32), '78400': (58, 60), '04040': (102, 104), '70600': (129, 130), '60000': (192, 192)}, '03142_16-06-2024-14.00': {'71801': (0, 0), '71500': (30, 32), '78400': (58, 60), '04040': (102, 104), '70600': (129, 130), '60000': (192, 192)}, '03142_17-06-2024-14.00': {'71801': (0, 0), '71500': (30, 32), '78400': (58, 60), '04040': (102, 104), '70600': (129, 130), '60000': (192, 192)}, '03142_18-06-2024-14.00': {'71801': (0, 0), '71500': (30, 32), '78400': (58, 60), '04040': (102, 104), '70600': (129, 130), '60000': (192, 192)}, '03142_19-06-2024-14.00': {'71801': (0, 0), '71500': (30, 32), '78400': (58, 60), '04040': (102, 104), '70600': (129, 130), '60000': (192, 192)}, '03142_20-06-2024-14.00': {'71801': (0, 0), '71500': (30, 32), '78400': (58, 60), '04040': (102, 104), '70600': (129, 130), '60000': (192, 192)}, '03142_21-06-2024-14.00': {'71801': (0, 0), '71500': (30, 32), '78400': (58, 60), '04040': (102, 104), '70600': (129, 130), '60000': (192, 192)}, '03142_22-06-2024-14.00': {'71801': (0, 0), '71500': (30, 32), '78400': (58, 60), '04040': (102, 104), '70600': (129, 130), '60000': (192, 192)}, '03142_23-06-2024-14.00': {'71801': (0, 0), '71500': (30, 32), '78400': (58, 60), '04040': (102, 104), '70600': (129, 130), '60000': (192, 192)}, '03142_24-06-2024-14.00': {'71801': (0, 0), '71500': (30, 32), '78400': (58, 60), '04040': (102, 104), '70600': (129, 130), '60000': (192, 192)}, '03142_25-06-2024-14.00': {'71801': (0, 0), '71500': (30, 32), '78400': (58, 60), '04040': (102, 104), '70600': (129, 130), '60000': (192, 192)}, '03142_26-06-2024-14.00': {'71801': (0, 0), '71500': (30, 32), '78400': (58, 60), '04040': (102, 104), '70600': (129, 130), '60000': (192, 192)}, '03142_27-06-2024-14.00': {'71801': (0, 0), '71500': (30, 32), '78400': (58, 60), '04040': (102, 104), '70600': (129, 130), '60000': (192, 192)}, '03142_28-06-2024-14.00': {'71801': (0, 0), '71500': (30, 32), '78400': (58, 60), '04040': (102, 104), '70600': (129, 130), '60000': (192, 192)}, '03142_29-06-2024-14.00': {'71801': (0, 0), '71500': (30, 32), '78400': (58, 60), '04040': (102, 104), '70600': (129, 130), '60000': (192, 192)}, '03142_30-06-2024-14.00': {'71801': (0, 0), '71500': (30, 32), '78400': (58, 60), '04040': (102, 104), '70600': (129, 130), '60000': (192, 192)}, '03143_02-06-2024-14.30': {'60000': (0, 0), '70600': (55, 56), '04040': (81, 82), '71801': (170, 180), '79300': (218, 220), '04307': (235, 235)}, '03143_03-06-2024-14.30': {'60000': (0, 0), '70600': (55, 56), '04040': (81, 82), '71801': (170, 180), '79300': (218, 220), '04307': (235, 235)}, '03143_04-06-2024-14.30': {'60000': (0, 0), '70600': (55, 56), '04040': (81, 82), '71801': (170, 180), '79300': (218, 220), '04307': (235, 235)}, '03143_05-06-2024-14.30': {'60000': (0, 0), '70600': (55, 56), '04040': (81, 82), '71801': (170, 180), '79300': (218, 220), '04307': (235, 235)}, '03143_06-06-2024-14.30': {'60000': (0, 0), '70600': (55, 56), '04040': (81, 82), '71801': (170, 180), '79300': (218, 220), '04307': (235, 235)}, '03143_07-06-2024-14.30': {'60000': (0, 0), '70600': (55, 56), '04040': (81, 82), '71801': (170, 180), '79300': (218, 220), '04307': (235, 235)}, '03143_09-06-2024-14.30': {'60000': (0, 0), '70600': (55, 56), '04040': (81, 82), '71801': (170, 180), '79300': (218, 220), '04307': (235, 235)}, '03143_10-06-2024-14.30': {'60000': (0, 0), '70600': (55, 56), '04040': (81, 82), '71801': (170, 180), '79300': (218, 220), '04307': (235, 235)}, '03143_11-06-2024-14.30': {'60000': (0, 0), '70600': (55, 56), '04040': (81, 82), '71801': (170, 180), '79300': (218, 220), '04307': (235, 235)}, '03143_12-06-2024-14.30': {'60000': (0, 0), '70600': (55, 56), '04040': (81, 82), '71801': (170, 180), '79300': (218, 220), '04307': (235, 235)}, '03143_13-06-2024-14.30': {'60000': (0, 0), '70600': (55, 56), '04040': (81, 82), '71801': (170, 180), '79300': (218, 220), '04307': (235, 235)}, '03143_14-06-2024-14.30': {'60000': (0, 0), '70600': (55, 56), '04040': (81, 82), '71801': (170, 180), '79300': (218, 220), '04307': (235, 235)}, '03143_16-06-2024-14.30': {'60000': (0, 0), '70600': (55, 56), '04040': (81, 82), '71801': (170, 180), '79300': (218, 220), '04307': (235, 235)}, '03143_17-06-2024-14.30': {'60000': (0, 0), '70600': (55, 56), '04040': (81, 82), '71801': (170, 180), '79300': (218, 220), '04307': (235, 235)}, '03143_18-06-2024-14.30': {'60000': (0, 0), '70600': (55, 56), '04040': (81, 82), '71801': (170, 180), '79300': (218, 220), '04307': (235, 235)}, '03143_19-06-2024-14.30': {'60000': (0, 0), '70600': (55, 56), '04040': (81, 82), '71801': (170, 180), '79300': (218, 220), '04307': (235, 235)}, '03143_20-06-2024-14.30': {'60000': (0, 0), '70600': (55, 56), '04040': (81, 82), '71801': (170, 180), '79300': (218, 220), '04307': (235, 235)}, '03143_21-06-2024-14.30': {'60000': (0, 0), '70600': (55, 56), '04040': (81, 82), '71801': (170, 180), '79300': (218, 220), '04307': (235, 235)}, '03143_23-06-2024-14.30': {'60000': (0, 0), '70600': (55, 56), '04040': (81, 82), '71801': (170, 180), '79300': (218, 220), '04307': (235, 235)}, '03143_24-06-2024-14.30': {'60000': (0, 0), '70600': (55, 56), '04040': (81, 82), '71801': (170, 180), '79300': (218, 220), '04307': (235, 235)}, '03143_25-06-2024-14.30': {'60000': (0, 0), '70600': (55, 56), '04040': (81, 82), '71801': (170, 180), '79300': (218, 220), '04307': (235, 235)}, '03143_26-06-2024-14.30': {'60000': (0, 0), '70600': (55, 56), '04040': (81, 82), '71801': (170, 180), '79300': (218, 220), '04307': (235, 235)}, '03143_27-06-2024-14.30': {'60000': (0, 0), '70600': (55, 56), '04040': (81, 82), '71801': (170, 180), '79300': (218, 220), '04307': (235, 235)}, '03143_28-06-2024-14.30': {'60000': (0, 0), '70600': (55, 56), '04040': (81, 82), '71801': (170, 180), '79300': (218, 220), '04307': (235, 235)}, '03143_30-06-2024-14.30': {'60000': (0, 0), '70600': (55, 56), '04040': (81, 82), '71801': (170, 180), '79300': (218, 220), '04307': (235, 235)}, '03150_03-06-2024-15.25': {'71801': (0, 0), '60000': (150, 150)}, '03150_04-06-2024-15.25': {'71801': (0, 0), '60000': (150, 150)}, '03150_05-06-2024-15.25': {'71801': (0, 0), '60000': (150, 150)}, '03150_06-06-2024-15.25': {'71801': (0, 0), '60000': (150, 150)}, '03150_07-06-2024-15.25': {'71801': (0, 0), '60000': (150, 150)}, '03150_10-06-2024-15.25': {'71801': (0, 0), '60000': (150, 150)}, '03150_11-06-2024-15.25': {'71801': (0, 0), '60000': (150, 150)}, '03150_12-06-2024-15.25': {'71801': (0, 0), '60000': (150, 150)}, '03150_13-06-2024-15.25': {'71801': (0, 0), '60000': (150, 150)}, '03150_14-06-2024-15.25': {'71801': (0, 0), '60000': (150, 150)}, '03150_17-06-2024-15.25': {'71801': (0, 0), '60000': (150, 150)}, '03150_18-06-2024-15.25': {'71801': (0, 0), '60000': (150, 150)}, '03150_19-06-2024-15.25': {'71801': (0, 0), '60000': (150, 150)}, '03150_20-06-2024-15.25': {'71801': (0, 0), '60000': (150, 150)}, '03150_21-06-2024-15.25': {'71801': (0, 0), '60000': (150, 150)}, '03150_24-06-2024-15.25': {'71801': (0, 0), '60000': (150, 150)}, '03150_25-06-2024-15.25': {'71801': (0, 0), '60000': (150, 150)}, '03150_26-06-2024-15.25': {'71801': (0, 0), '60000': (150, 150)}, '03150_27-06-2024-15.25': {'71801': (0, 0), '60000': (150, 150)}, '03150_28-06-2024-15.25': {'71801': (0, 0), '60000': (150, 150)}, '03151_03-06-2024-15.00': {'60000': (0, 0), '71801': (149, 149)}, '03151_04-06-2024-15.00': {'60000': (0, 0), '71801': (149, 149)}, '03151_05-06-2024-15.00': {'60000': (0, 0), '71801': (149, 149)}, '03151_06-06-2024-15.00': {'60000': (0, 0), '71801': (149, 149)}, '03151_07-06-2024-15.00': {'60000': (0, 0), '71801': (149, 149)}, '03151_10-06-2024-15.00': {'60000': (0, 0), '71801': (149, 149)}, '03151_11-06-2024-15.00': {'60000': (0, 0), '71801': (149, 149)}, '03151_12-06-2024-15.00': {'60000': (0, 0), '71801': (149, 149)}, '03151_13-06-2024-15.00': {'60000': (0, 0), '71801': (149, 149)}, '03151_14-06-2024-15.00': {'60000': (0, 0), '71801': (149, 149)}, '03151_17-06-2024-15.00': {'60000': (0, 0), '71801': (149, 149)}, '03151_18-06-2024-15.00': {'60000': (0, 0), '71801': (149, 149)}, '03151_19-06-2024-15.00': {'60000': (0, 0), '71801': (149, 149)}, '03151_20-06-2024-15.00': {'60000': (0, 0), '71801': (149, 149)}, '03151_21-06-2024-15.00': {'60000': (0, 0), '71801': (149, 149)}, '03151_24-06-2024-15.00': {'60000': (0, 0), '71801': (149, 149)}, '03151_25-06-2024-15.00': {'60000': (0, 0), '71801': (149, 149)}, '03151_26-06-2024-15.00': {'60000': (0, 0), '71801': (149, 149)}, '03151_27-06-2024-15.00': {'60000': (0, 0), '71801': (149, 149)}, '03151_28-06-2024-15.00': {'60000': (0, 0), '71801': (149, 149)}, '03153_01-06-2024-15.30': {'60000': (0, 0), '70600': (55, 56), '04040': (81, 82), '78400': (125, 127), '71500': (154, 156), '71801': (192, 192)}, '03153_02-06-2024-15.30': {'60000': (0, 0), '70600': (55, 56), '04040': (81, 82), '78400': (125, 127), '71500': (154, 156), '71801': (192, 192)}, '03153_03-06-2024-15.30': {'60000': (0, 0), '70600': (55, 56), '04040': (81, 82), '78400': (125, 127), '71500': (154, 156), '71801': (192, 192)}, '03153_04-06-2024-15.30': {'60000': (0, 0), '70600': (55, 56), '04040': (81, 82), '78400': (125, 127), '71500': (154, 156), '71801': (192, 192)}, '03153_05-06-2024-15.30': {'60000': (0, 0), '70600': (55, 56), '04040': (81, 82), '78400': (125, 127), '71500': (154, 156), '71801': (192, 192)}, '03153_06-06-2024-15.30': {'60000': (0, 0), '70600': (55, 56), '04040': (81, 82), '78400': (125, 127), '71500': (154, 156), '71801': (192, 192)}, '03153_07-06-2024-15.30': {'60000': (0, 0), '70600': (55, 56), '04040': (81, 82), '78400': (125, 127), '71500': (154, 156), '71801': (192, 192)}, '03153_08-06-2024-15.30': {'60000': (0, 0), '70600': (55, 56), '04040': (81, 82), '78400': (125, 127), '71500': (154, 156), '71801': (192, 192)}, '03153_09-06-2024-15.30': {'60000': (0, 0), '70600': (55, 56), '04040': (81, 82), '78400': (125, 127), '71500': (154, 156), '71801': (192, 192)}, '03153_10-06-2024-15.30': {'60000': (0, 0), '70600': (55, 56), '04040': (81, 82), '78400': (125, 127), '71500': (154, 156), '71801': (192, 192)}, '03153_11-06-2024-15.30': {'60000': (0, 0), '70600': (55, 56), '04040': (81, 82), '78400': (125, 127), '71500': (154, 156), '71801': (192, 192)}, '03153_12-06-2024-15.30': {'60000': (0, 0), '70600': (55, 56), '04040': (81, 82), '78400': (125, 127), '71500': (154, 156), '71801': (192, 192)}, '03153_13-06-2024-15.30': {'60000': (0, 0), '70600': (55, 56), '04040': (81, 82), '78400': (125, 127), '71500': (154, 156), '71801': (192, 192)}, '03153_14-06-2024-15.30': {'60000': (0, 0), '70600': (55, 56), '04040': (81, 82), '78400': (125, 127), '71500': (154, 156), '71801': (192, 192)}, '03153_15-06-2024-15.30': {'60000': (0, 0), '70600': (55, 56), '04040': (81, 82), '78400': (125, 127), '71500': (154, 156), '71801': (192, 192)}, '03153_16-06-2024-15.30': {'60000': (0, 0), '70600': (55, 56), '04040': (81, 82), '78400': (125, 127), '71500': (154, 156), '71801': (192, 192)}, '03153_17-06-2024-15.30': {'60000': (0, 0), '70600': (55, 56), '04040': (81, 82), '78400': (125, 127), '71500': (154, 156), '71801': (192, 192)}, '03153_18-06-2024-15.30': {'60000': (0, 0), '70600': (55, 56), '04040': (81, 82), '78400': (125, 127), '71500': (154, 156), '71801': (192, 192)}, '03153_19-06-2024-15.30': {'60000': (0, 0), '70600': (55, 56), '04040': (81, 82), '78400': (125, 127), '71500': (154, 156), '71801': (192, 192)}, '03153_20-06-2024-15.30': {'60000': (0, 0), '70600': (55, 56), '04040': (81, 82), '78400': (125, 127), '71500': (154, 156), '71801': (192, 192)}, '03153_21-06-2024-15.30': {'60000': (0, 0), '70600': (55, 56), '04040': (81, 82), '78400': (125, 127), '71500': (154, 156), '71801': (192, 192)}, '03153_22-06-2024-15.30': {'60000': (0, 0), '70600': (55, 56), '04040': (81, 82), '78400': (125, 127), '71500': (154, 156), '71801': (192, 192)}, '03153_23-06-2024-15.30': {'60000': (0, 0), '70600': (55, 56), '04040': (81, 82), '78400': (125, 127), '71500': (154, 156), '71801': (192, 192)}, '03153_24-06-2024-15.30': {'60000': (0, 0), '70600': (55, 56), '04040': (81, 82), '78400': (125, 127), '71500': (154, 156), '71801': (192, 192)}, '03153_25-06-2024-15.30': {'60000': (0, 0), '70600': (55, 56), '04040': (81, 82), '78400': (125, 127), '71500': (154, 156), '71801': (192, 192)}, '03153_26-06-2024-15.30': {'60000': (0, 0), '70600': (55, 56), '04040': (81, 82), '78400': (125, 127), '71500': (154, 156), '71801': (192, 192)}, '03153_27-06-2024-15.30': {'60000': (0, 0), '70600': (55, 56), '04040': (81, 82), '78400': (125, 127), '71500': (154, 156), '71801': (192, 192)}, '03153_28-06-2024-15.30': {'60000': (0, 0), '70600': (55, 56), '04040': (81, 82), '78400': (125, 127), '71500': (154, 156), '71801': (192, 192)}, '03153_29-06-2024-15.30': {'60000': (0, 0), '70600': (55, 56), '04040': (81, 82), '78400': (125, 127), '71500': (154, 156), '71801': (192, 192)}, '03153_30-06-2024-15.30': {'60000': (0, 0), '70600': (55, 56), '04040': (81, 82), '78400': (125, 127), '71500': (154, 156), '71801': (192, 192)}, '03160_02-06-2024-16.25': {'71801': (0, 0), '60000': (150, 150)}, '03160_03-06-2024-16.25': {'71801': (0, 0), '60000': (150, 150)}, '03160_04-06-2024-16.25': {'71801': (0, 0), '60000': (150, 150)}, '03160_05-06-2024-16.25': {'71801': (0, 0), '60000': (150, 150)}, '03160_06-06-2024-16.25': {'71801': (0, 0), '60000': (150, 150)}, '03160_07-06-2024-16.25': {'71801': (0, 0), '60000': (150, 150)}, '03160_09-06-2024-16.25': {'71801': (0, 0), '60000': (150, 150)}, '03160_10-06-2024-16.25': {'71801': (0, 0), '60000': (150, 150)}, '03160_11-06-2024-16.25': {'71801': (0, 0), '60000': (150, 150)}, '03160_12-06-2024-16.25': {'71801': (0, 0), '60000': (150, 150)}, '03160_13-06-2024-16.25': {'71801': (0, 0), '60000': (150, 150)}, '03160_14-06-2024-16.25': {'71801': (0, 0), '60000': (150, 150)}, '03160_16-06-2024-16.25': {'71801': (0, 0), '60000': (150, 150)}, '03160_17-06-2024-16.25': {'71801': (0, 0), '60000': (150, 150)}, '03160_18-06-2024-16.25': {'71801': (0, 0), '60000': (150, 150)}, '03160_19-06-2024-16.25': {'71801': (0, 0), '60000': (150, 150)}, '03160_20-06-2024-16.25': {'71801': (0, 0), '60000': (150, 150)}, '03160_21-06-2024-16.25': {'71801': (0, 0), '60000': (150, 150)}, '03160_23-06-2024-16.25': {'71801': (0, 0), '60000': (150, 150)}, '03160_24-06-2024-16.25': {'71801': (0, 0), '60000': (150, 150)}, '03160_25-06-2024-16.25': {'71801': (0, 0), '60000': (150, 150)}, '03160_26-06-2024-16.25': {'71801': (0, 0), '60000': (150, 150)}, '03160_27-06-2024-16.25': {'71801': (0, 0), '60000': (150, 150)}, '03160_28-06-2024-16.25': {'71801': (0, 0), '60000': (150, 150)}, '03160_30-06-2024-16.25': {'71801': (0, 0), '60000': (150, 150)}, '03161_02-06-2024-16.00': {'60000': (0, 0), '71801': (150, 150)}, '03161_03-06-2024-16.00': {'60000': (0, 0), '71801': (150, 150)}, '03161_04-06-2024-16.00': {'60000': (0, 0), '71801': (150, 150)}, '03161_05-06-2024-16.00': {'60000': (0, 0), '71801': (150, 150)}, '03161_06-06-2024-16.00': {'60000': (0, 0), '71801': (150, 150)}, '03161_07-06-2024-16.00': {'60000': (0, 0), '71801': (150, 150)}, '03161_09-06-2024-16.00': {'60000': (0, 0), '71801': (150, 150)}, '03161_10-06-2024-16.00': {'60000': (0, 0), '71801': (150, 150)}, '03161_11-06-2024-16.00': {'60000': (0, 0), '71801': (150, 150)}, '03161_12-06-2024-16.00': {'60000': (0, 0), '71801': (150, 150)}, '03161_13-06-2024-16.00': {'60000': (0, 0), '71801': (150, 150)}, '03161_14-06-2024-16.00': {'60000': (0, 0), '71801': (150, 150)}, '03161_16-06-2024-16.00': {'60000': (0, 0), '71801': (150, 150)}, '03161_17-06-2024-16.00': {'60000': (0, 0), '71801': (150, 150)}, '03161_18-06-2024-16.00': {'60000': (0, 0), '71801': (150, 150)}, '03161_19-06-2024-16.00': {'60000': (0, 0), '71801': (150, 150)}, '03161_20-06-2024-16.00': {'60000': (0, 0), '71801': (150, 150)}, '03161_21-06-2024-16.00': {'60000': (0, 0), '71801': (150, 150)}, '03161_23-06-2024-16.00': {'60000': (0, 0), '71801': (150, 150)}, '03161_24-06-2024-16.00': {'60000': (0, 0), '71801': (150, 150)}, '03161_25-06-2024-16.00': {'60000': (0, 0), '71801': (150, 150)}, '03161_26-06-2024-16.00': {'60000': (0, 0), '71801': (150, 150)}, '03161_27-06-2024-16.00': {'60000': (0, 0), '71801': (150, 150)}, '03161_28-06-2024-16.00': {'60000': (0, 0), '71801': (150, 150)}, '03161_30-06-2024-16.00': {'60000': (0, 0), '71801': (150, 150)}, '03162_01-06-2024-16.00': {'04307': (0, 0), '79300': (14, 16), '71801': (55, 65), '71500': (97, 99), '78400': (124, 126), '04040': (167, 170), '70600': (194, 195), '60000': (257, 257)}, '03162_02-06-2024-16.00': {'04307': (0, 0), '79300': (14, 16), '71801': (55, 65), '71500': (97, 99), '78400': (124, 126), '04040': (167, 170), '70600': (194, 195), '60000': (257, 257)}, '03162_03-06-2024-16.00': {'04307': (0, 0), '79300': (14, 16), '71801': (55, 65), '71500': (97, 99), '78400': (124, 126), '04040': (167, 170), '70600': (194, 195), '60000': (257, 257)}, '03162_04-06-2024-16.00': {'04307': (0, 0), '79300': (14, 16), '71801': (55, 65), '71500': (97, 99), '78400': (124, 126), '04040': (167, 170), '70600': (194, 195), '60000': (257, 257)}, '03162_05-06-2024-16.00': {'04307': (0, 0), '79300': (14, 16), '71801': (55, 65), '71500': (97, 99), '78400': (124, 126), '04040': (167, 170), '70600': (194, 195), '60000': (257, 257)}, '03162_06-06-2024-16.00': {'04307': (0, 0), '79300': (14, 16), '71801': (55, 65), '71500': (97, 99), '78400': (124, 126), '04040': (167, 170), '70600': (194, 195), '60000': (257, 257)}, '03162_07-06-2024-16.00': {'04307': (0, 0), '79300': (14, 16), '71801': (55, 65), '71500': (97, 99), '78400': (124, 126), '04040': (167, 170), '70600': (194, 195), '60000': (257, 257)}, '03162_08-06-2024-16.00': {'04307': (0, 0), '79300': (14, 16), '71801': (55, 65), '71500': (97, 99), '78400': (124, 126), '04040': (167, 170), '70600': (194, 195), '60000': (257, 257)}, '03162_09-06-2024-16.00': {'04307': (0, 0), '79300': (14, 16), '71801': (55, 65), '71500': (97, 99), '78400': (124, 126), '04040': (167, 170), '70600': (194, 195), '60000': (257, 257)}, '03162_10-06-2024-16.00': {'04307': (0, 0), '79300': (14, 16), '71801': (55, 65), '71500': (97, 99), '78400': (124, 126), '04040': (167, 170), '70600': (194, 195), '60000': (257, 257)}, '03162_11-06-2024-16.00': {'04307': (0, 0), '79300': (14, 16), '71801': (55, 65), '71500': (97, 99), '78400': (124, 126), '04040': (167, 170), '70600': (194, 195), '60000': (257, 257)}, '03162_12-06-2024-16.00': {'04307': (0, 0), '79300': (14, 16), '71801': (55, 65), '71500': (97, 99), '78400': (124, 126), '04040': (167, 170), '70600': (194, 195), '60000': (257, 257)}, '03162_13-06-2024-16.00': {'04307': (0, 0), '79300': (14, 16), '71801': (55, 65), '71500': (97, 99), '78400': (124, 126), '04040': (167, 170), '70600': (194, 195), '60000': (257, 257)}, '03162_14-06-2024-16.00': {'04307': (0, 0), '79300': (14, 16), '71801': (55, 65), '71500': (97, 99), '78400': (124, 126), '04040': (167, 170), '70600': (194, 195), '60000': (257, 257)}, '03162_15-06-2024-16.00': {'04307': (0, 0), '79300': (14, 16), '71801': (55, 65), '71500': (97, 99), '78400': (124, 126), '04040': (167, 170), '70600': (194, 195), '60000': (257, 257)}, '03162_16-06-2024-16.00': {'04307': (0, 0), '79300': (14, 16), '71801': (55, 65), '71500': (97, 99), '78400': (124, 126), '04040': (167, 170), '70600': (194, 195), '60000': (257, 257)}, '03162_17-06-2024-16.00': {'04307': (0, 0), '79300': (14, 16), '71801': (55, 65), '71500': (97, 99), '78400': (124, 126), '04040': (167, 170), '70600': (194, 195), '60000': (257, 257)}, '03162_18-06-2024-16.00': {'04307': (0, 0), '79300': (14, 16), '71801': (55, 65), '71500': (97, 99), '78400': (124, 126), '04040': (167, 170), '70600': (194, 195), '60000': (257, 257)}, '03162_19-06-2024-16.00': {'04307': (0, 0), '79300': (14, 16), '71801': (55, 65), '71500': (97, 99), '78400': (124, 126), '04040': (167, 170), '70600': (194, 195), '60000': (257, 257)}, '03162_20-06-2024-16.00': {'04307': (0, 0), '79300': (14, 16), '71801': (55, 65), '71500': (97, 99), '78400': (124, 126), '04040': (167, 170), '70600': (194, 195), '60000': (257, 257)}, '03162_21-06-2024-16.00': {'04307': (0, 0), '79300': (14, 16), '71801': (55, 65), '71500': (97, 99), '78400': (124, 126), '04040': (167, 170), '70600': (194, 195), '60000': (257, 257)}, '03162_22-06-2024-16.00': {'04307': (0, 0), '79300': (14, 16), '71801': (55, 65), '71500': (97, 99), '78400': (124, 126), '04040': (167, 170), '70600': (194, 195), '60000': (257, 257)}, '03162_23-06-2024-16.00': {'04307': (0, 0), '79300': (14, 16), '71801': (55, 65), '71500': (97, 99), '78400': (124, 126), '04040': (167, 170), '70600': (194, 195), '60000': (257, 257)}, '03162_24-06-2024-16.00': {'04307': (0, 0), '79300': (14, 16), '71801': (55, 65), '71500': (97, 99), '78400': (124, 126), '04040': (167, 170), '70600': (194, 195), '60000': (257, 257)}, '03162_25-06-2024-16.00': {'04307': (0, 0), '79300': (14, 16), '71801': (55, 65), '71500': (97, 99), '78400': (124, 126), '04040': (167, 170), '70600': (194, 195), '60000': (257, 257)}, '03162_26-06-2024-16.00': {'04307': (0, 0), '79300': (14, 16), '71801': (55, 65), '71500': (97, 99), '78400': (124, 126), '04040': (167, 170), '70600': (194, 195), '60000': (257, 257)}, '03162_27-06-2024-16.00': {'04307': (0, 0), '79300': (14, 16), '71801': (55, 65), '71500': (97, 99), '78400': (124, 126), '04040': (167, 170), '70600': (194, 195), '60000': (257, 257)}, '03162_28-06-2024-16.00': {'04307': (0, 0), '79300': (14, 16), '71801': (55, 65), '71500': (97, 99), '78400': (124, 126), '04040': (167, 170), '70600': (194, 195), '60000': (257, 257)}, '03162_29-06-2024-16.00': {'04307': (0, 0), '79300': (14, 16), '71801': (55, 65), '71500': (97, 99), '78400': (124, 126), '04040': (167, 170), '70600': (194, 195), '60000': (257, 257)}, '03162_30-06-2024-16.00': {'04307': (0, 0), '79300': (14, 16), '71801': (55, 65), '71500': (97, 99), '78400': (124, 126), '04040': (167, 170), '70600': (194, 195), '60000': (257, 257)}, '03163_01-06-2024-16.30': {'60000': (0, 0), '04040': (75, 76), '71801': (165, 165)}, '03163_02-06-2024-16.30': {'60000': (0, 0), '04040': (75, 76), '71801': (165, 165)}, '03163_03-06-2024-16.30': {'60000': (0, 0), '04040': (75, 76), '71801': (165, 175), '79300': (221, 223), '04307': (238, 238)}, '03163_04-06-2024-16.30': {'60000': (0, 0), '04040': (75, 76), '71801': (165, 175), '79300': (221, 223), '04307': (238, 238)}, '03163_05-06-2024-16.30': {'60000': (0, 0), '04040': (75, 76), '71801': (165, 175), '79300': (221, 223), '04307': (238, 238)}, '03163_06-06-2024-16.30': {'60000': (0, 0), '04040': (75, 76), '71801': (165, 175), '79300': (221, 223), '04307': (238, 238)}, '03163_07-06-2024-16.30': {'60000': (0, 0), '04040': (75, 76), '71801': (165, 175), '79300': (221, 223), '04307': (238, 238)}, '03163_08-06-2024-16.30': {'60000': (0, 0), '04040': (75, 76), '71801': (165, 165)}, '03163_09-06-2024-16.30': {'60000': (0, 0), '04040': (75, 76), '71801': (165, 165)}, '03163_10-06-2024-16.30': {'60000': (0, 0), '04040': (75, 76), '71801': (165, 175), '79300': (221, 223), '04307': (238, 238)}, '03163_11-06-2024-16.30': {'60000': (0, 0), '04040': (75, 76), '71801': (165, 175), '79300': (221, 223), '04307': (238, 238)}, '03163_12-06-2024-16.30': {'60000': (0, 0), '04040': (75, 76), '71801': (165, 175), '79300': (221, 223), '04307': (238, 238)}, '03163_13-06-2024-16.30': {'60000': (0, 0), '04040': (75, 76), '71801': (165, 175), '79300': (221, 223), '04307': (238, 238)}, '03163_14-06-2024-16.30': {'60000': (0, 0), '04040': (75, 76), '71801': (165, 175), '79300': (221, 223), '04307': (238, 238)}, '03163_15-06-2024-16.30': {'60000': (0, 0), '04040': (75, 76), '71801': (165, 165)}, '03163_16-06-2024-16.30': {'60000': (0, 0), '04040': (75, 76), '71801': (165, 165)}, '03163_17-06-2024-16.30': {'60000': (0, 0), '04040': (75, 76), '71801': (165, 175), '79300': (221, 223), '04307': (238, 238)}, '03163_18-06-2024-16.30': {'60000': (0, 0), '04040': (75, 76), '71801': (165, 175), '79300': (221, 223), '04307': (238, 238)}, '03163_19-06-2024-16.30': {'60000': (0, 0), '04040': (75, 76), '71801': (165, 175), '79300': (221, 223), '04307': (238, 238)}, '03163_20-06-2024-16.30': {'60000': (0, 0), '04040': (75, 76), '71801': (165, 175), '79300': (221, 223), '04307': (238, 238)}, '03163_21-06-2024-16.30': {'60000': (0, 0), '04040': (75, 76), '71801': (165, 175), '79300': (221, 223), '04307': (238, 238)}, '03163_22-06-2024-16.30': {'60000': (0, 0), '04040': (75, 76), '71801': (165, 165)}, '03163_23-06-2024-16.30': {'60000': (0, 0), '04040': (75, 76), '71801': (165, 165)}, '03163_24-06-2024-16.30': {'60000': (0, 0), '04040': (75, 76), '71801': (165, 175), '79300': (221, 223), '04307': (238, 238)}, '03163_25-06-2024-16.30': {'60000': (0, 0), '04040': (75, 76), '71801': (165, 175), '79300': (221, 223), '04307': (238, 238)}, '03163_26-06-2024-16.30': {'60000': (0, 0), '04040': (75, 76), '71801': (165, 175), '79300': (221, 223), '04307': (238, 238)}, '03163_27-06-2024-16.30': {'60000': (0, 0), '04040': (75, 76), '71801': (165, 175), '79300': (221, 223), '04307': (238, 238)}, '03163_28-06-2024-16.30': {'60000': (0, 0), '04040': (75, 76), '71801': (165, 175), '79300': (221, 223), '04307': (238, 238)}, '03163_29-06-2024-16.30': {'60000': (0, 0), '04040': (75, 76), '71801': (165, 165)}, '03163_30-06-2024-16.30': {'60000': (0, 0), '04040': (75, 76), '71801': (165, 165)}, '03170_01-06-2024-17.25': {'71801': (0, 0), '60000': (150, 150)}, '03170_02-06-2024-17.25': {'71801': (0, 0), '60000': (150, 150)}, '03170_03-06-2024-17.25': {'71801': (0, 0), '60000': (150, 150)}, '03170_04-06-2024-17.25': {'71801': (0, 0), '60000': (150, 150)}, '03170_05-06-2024-17.25': {'71801': (0, 0), '60000': (150, 150)}, '03170_06-06-2024-17.25': {'71801': (0, 0), '60000': (150, 150)}, '03170_07-06-2024-17.25': {'71801': (0, 0), '60000': (150, 150)}, '03170_08-06-2024-17.25': {'71801': (0, 0), '60000': (150, 150)}, '03170_09-06-2024-17.25': {'71801': (0, 0), '60000': (150, 150)}, '03170_10-06-2024-17.25': {'71801': (0, 0), '60000': (150, 150)}, '03170_11-06-2024-17.25': {'71801': (0, 0), '60000': (150, 150)}, '03170_12-06-2024-17.25': {'71801': (0, 0), '60000': (150, 150)}, '03170_13-06-2024-17.25': {'71801': (0, 0), '60000': (150, 150)}, '03170_14-06-2024-17.25': {'71801': (0, 0), '60000': (150, 150)}, '03170_15-06-2024-17.25': {'71801': (0, 0), '60000': (150, 150)}, '03170_16-06-2024-17.25': {'71801': (0, 0), '60000': (150, 150)}, '03170_17-06-2024-17.25': {'71801': (0, 0), '60000': (150, 150)}, '03170_18-06-2024-17.25': {'71801': (0, 0), '60000': (150, 150)}, '03170_19-06-2024-17.25': {'71801': (0, 0), '60000': (150, 150)}, '03170_20-06-2024-17.25': {'71801': (0, 0), '60000': (150, 150)}, '03170_21-06-2024-17.25': {'71801': (0, 0), '60000': (150, 150)}, '03170_22-06-2024-17.25': {'71801': (0, 0), '60000': (150, 150)}, '03170_23-06-2024-17.25': {'71801': (0, 0), '60000': (150, 150)}, '03170_24-06-2024-17.25': {'71801': (0, 0), '60000': (150, 150)}, '03170_25-06-2024-17.25': {'71801': (0, 0), '60000': (150, 150)}, '03170_26-06-2024-17.25': {'71801': (0, 0), '60000': (150, 150)}, '03170_27-06-2024-17.25': {'71801': (0, 0), '60000': (150, 150)}, '03170_28-06-2024-17.25': {'71801': (0, 0), '60000': (150, 150)}, '03170_29-06-2024-17.25': {'71801': (0, 0), '60000': (150, 150)}, '03170_30-06-2024-17.25': {'71801': (0, 0), '60000': (150, 150)}, '03171_02-06-2024-17.00': {'60000': (0, 0), '71801': (150, 150)}, '03171_03-06-2024-17.00': {'60000': (0, 0), '71801': (150, 150)}, '03171_04-06-2024-17.00': {'60000': (0, 0), '71801': (150, 150)}, '03171_05-06-2024-17.00': {'60000': (0, 0), '71801': (150, 150)}, '03171_06-06-2024-17.00': {'60000': (0, 0), '71801': (150, 150)}, '03171_07-06-2024-17.00': {'60000': (0, 0), '71801': (150, 150)}, '03171_09-06-2024-17.00': {'60000': (0, 0), '71801': (150, 150)}, '03171_10-06-2024-17.00': {'60000': (0, 0), '71801': (150, 150)}, '03171_11-06-2024-17.00': {'60000': (0, 0), '71801': (150, 150)}, '03171_12-06-2024-17.00': {'60000': (0, 0), '71801': (150, 150)}, '03171_13-06-2024-17.00': {'60000': (0, 0), '71801': (150, 150)}, '03171_14-06-2024-17.00': {'60000': (0, 0), '71801': (150, 150)}, '03171_16-06-2024-17.00': {'60000': (0, 0), '71801': (150, 150)}, '03171_17-06-2024-17.00': {'60000': (0, 0), '71801': (150, 150)}, '03171_18-06-2024-17.00': {'60000': (0, 0), '71801': (150, 150)}, '03171_19-06-2024-17.00': {'60000': (0, 0), '71801': (150, 150)}, '03171_20-06-2024-17.00': {'60000': (0, 0), '71801': (150, 150)}, '03171_21-06-2024-17.00': {'60000': (0, 0), '71801': (150, 150)}, '03171_23-06-2024-17.00': {'60000': (0, 0), '71801': (150, 150)}, '03171_24-06-2024-17.00': {'60000': (0, 0), '71801': (150, 150)}, '03171_25-06-2024-17.00': {'60000': (0, 0), '71801': (150, 150)}, '03171_26-06-2024-17.00': {'60000': (0, 0), '71801': (150, 150)}, '03171_27-06-2024-17.00': {'60000': (0, 0), '71801': (150, 150)}, '03171_28-06-2024-17.00': {'60000': (0, 0), '71801': (150, 150)}, '03171_30-06-2024-17.00': {'60000': (0, 0), '71801': (150, 150)}, '03172_01-06-2024-17.00': {'71801': (0, 0), '04040': (83, 86), '60000': (165, 165)}, '03172_02-06-2024-17.00': {'71801': (0, 0), '04040': (83, 86), '60000': (165, 165)}, '03172_03-06-2024-17.00': {'71801': (0, 0), '04040': (83, 86), '60000': (165, 165)}, '03172_04-06-2024-17.00': {'71801': (0, 0), '04040': (83, 86), '60000': (165, 165)}, '03172_05-06-2024-17.00': {'71801': (0, 0), '04040': (83, 86), '60000': (165, 165)}, '03172_06-06-2024-17.00': {'71801': (0, 0), '04040': (83, 86), '60000': (165, 165)}, '03172_07-06-2024-17.00': {'71801': (0, 0), '04040': (83, 86), '60000': (165, 165)}, '03172_08-06-2024-17.00': {'71801': (0, 0), '04040': (83, 86), '60000': (165, 165)}, '03172_09-06-2024-17.00': {'71801': (0, 0), '04040': (83, 86), '60000': (165, 165)}, '03172_10-06-2024-17.00': {'71801': (0, 0), '04040': (83, 86), '60000': (165, 165)}, '03172_11-06-2024-17.00': {'71801': (0, 0), '04040': (83, 86), '60000': (165, 165)}, '03172_12-06-2024-17.00': {'71801': (0, 0), '04040': (83, 86), '60000': (165, 165)}, '03172_13-06-2024-17.00': {'71801': (0, 0), '04040': (83, 86), '60000': (165, 165)}, '03172_14-06-2024-17.00': {'71801': (0, 0), '04040': (83, 86), '60000': (165, 165)}, '03172_15-06-2024-17.00': {'71801': (0, 0), '04040': (83, 86), '60000': (165, 165)}, '03172_16-06-2024-17.00': {'71801': (0, 0), '04040': (83, 86), '60000': (165, 165)}, '03172_17-06-2024-17.00': {'71801': (0, 0), '04040': (83, 86), '60000': (165, 165)}, '03172_18-06-2024-17.00': {'71801': (0, 0), '04040': (83, 86), '60000': (165, 165)}, '03172_19-06-2024-17.00': {'71801': (0, 0), '04040': (83, 86), '60000': (165, 165)}, '03172_20-06-2024-17.00': {'71801': (0, 0), '04040': (83, 86), '60000': (165, 165)}, '03172_21-06-2024-17.00': {'71801': (0, 0), '04040': (83, 86), '60000': (165, 165)}, '03172_22-06-2024-17.00': {'71801': (0, 0), '04040': (83, 86), '60000': (165, 165)}, '03172_23-06-2024-17.00': {'71801': (0, 0), '04040': (83, 86), '60000': (165, 165)}, '03172_24-06-2024-17.00': {'71801': (0, 0), '04040': (83, 86), '60000': (165, 165)}, '03172_25-06-2024-17.00': {'71801': (0, 0), '04040': (83, 86), '60000': (165, 165)}, '03172_26-06-2024-17.00': {'71801': (0, 0), '04040': (83, 86), '60000': (165, 165)}, '03172_27-06-2024-17.00': {'71801': (0, 0), '04040': (83, 86), '60000': (165, 165)}, '03172_28-06-2024-17.00': {'71801': (0, 0), '04040': (83, 86), '60000': (165, 165)}, '03172_29-06-2024-17.00': {'71801': (0, 0), '04040': (83, 86), '60000': (165, 165)}, '03172_30-06-2024-17.00': {'71801': (0, 0), '04040': (83, 86), '60000': (165, 165)}, '03173_01-06-2024-17.30': {'60000': (0, 0), '70200': (23, 24), '04040': (81, 82), '78400': (125, 127), '71500': (154, 156), '71801': (192, 192)}, '03173_02-06-2024-17.30': {'60000': (0, 0), '70200': (23, 24), '04040': (81, 82), '78400': (125, 127), '71500': (154, 156), '71801': (192, 192)}, '03173_03-06-2024-17.30': {'60000': (0, 0), '70200': (23, 24), '04040': (81, 82), '78400': (125, 127), '71500': (154, 156), '71801': (192, 192)}, '03173_04-06-2024-17.30': {'60000': (0, 0), '70200': (23, 24), '04040': (81, 82), '78400': (125, 127), '71500': (154, 156), '71801': (192, 192)}, '03173_05-06-2024-17.30': {'60000': (0, 0), '70200': (23, 24), '04040': (81, 82), '78400': (125, 127), '71500': (154, 156), '71801': (192, 192)}, '03173_06-06-2024-17.30': {'60000': (0, 0), '70200': (23, 24), '04040': (81, 82), '78400': (125, 127), '71500': (154, 156), '71801': (192, 192)}, '03173_07-06-2024-17.30': {'60000': (0, 0), '70200': (23, 24), '04040': (81, 82), '78400': (125, 127), '71500': (154, 156), '71801': (192, 192)}, '03173_08-06-2024-17.30': {'60000': (0, 0), '70200': (23, 24), '04040': (81, 82), '78400': (125, 127), '71500': (154, 156), '71801': (192, 192)}, '03173_09-06-2024-17.30': {'60000': (0, 0), '70200': (23, 24), '04040': (81, 82), '78400': (125, 127), '71500': (154, 156), '71801': (192, 192)}, '03173_10-06-2024-17.30': {'60000': (0, 0), '70200': (23, 24), '04040': (81, 82), '78400': (125, 127), '71500': (154, 156), '71801': (192, 192)}, '03173_11-06-2024-17.30': {'60000': (0, 0), '70200': (23, 24), '04040': (81, 82), '78400': (125, 127), '71500': (154, 156), '71801': (192, 192)}, '03173_12-06-2024-17.30': {'60000': (0, 0), '70200': (23, 24), '04040': (81, 82), '78400': (125, 127), '71500': (154, 156), '71801': (192, 192)}, '03173_13-06-2024-17.30': {'60000': (0, 0), '70200': (23, 24), '04040': (81, 82), '78400': (125, 127), '71500': (154, 156), '71801': (192, 192)}, '03173_14-06-2024-17.30': {'60000': (0, 0), '70200': (23, 24), '04040': (81, 82), '78400': (125, 127), '71500': (154, 156), '71801': (192, 192)}, '03173_15-06-2024-17.30': {'60000': (0, 0), '70200': (23, 24), '04040': (81, 82), '78400': (125, 127), '71500': (154, 156), '71801': (192, 192)}, '03173_16-06-2024-17.30': {'60000': (0, 0), '70200': (23, 24), '04040': (81, 82), '78400': (125, 127), '71500': (154, 156), '71801': (192, 192)}, '03173_17-06-2024-17.30': {'60000': (0, 0), '70200': (23, 24), '04040': (81, 82), '78400': (125, 127), '71500': (154, 156), '71801': (192, 192)}, '03173_18-06-2024-17.30': {'60000': (0, 0), '70200': (23, 24), '04040': (81, 82), '78400': (125, 127), '71500': (154, 156), '71801': (192, 192)}, '03173_19-06-2024-17.30': {'60000': (0, 0), '70200': (23, 24), '04040': (81, 82), '78400': (125, 127), '71500': (154, 156), '71801': (192, 192)}, '03173_20-06-2024-17.30': {'60000': (0, 0), '70200': (23, 24), '04040': (81, 82), '78400': (125, 127), '71500': (154, 156), '71801': (192, 192)}, '03173_21-06-2024-17.30': {'60000': (0, 0), '70200': (23, 24), '04040': (81, 82), '78400': (125, 127), '71500': (154, 156), '71801': (192, 192)}, '03173_22-06-2024-17.30': {'60000': (0, 0), '70200': (23, 24), '04040': (81, 82), '78400': (125, 127), '71500': (154, 156), '71801': (192, 192)}, '03173_23-06-2024-17.30': {'60000': (0, 0), '70200': (23, 24), '04040': (81, 82), '78400': (125, 127), '71500': (154, 156), '71801': (192, 192)}, '03173_24-06-2024-17.30': {'60000': (0, 0), '70200': (23, 24), '04040': (81, 82), '78400': (125, 127), '71500': (154, 156), '71801': (192, 192)}, '03173_25-06-2024-17.30': {'60000': (0, 0), '70200': (23, 24), '04040': (81, 82), '78400': (125, 127), '71500': (154, 156), '71801': (192, 192)}, '03173_26-06-2024-17.30': {'60000': (0, 0), '70200': (23, 24), '04040': (81, 82), '78400': (125, 127), '71500': (154, 156), '71801': (192, 192)}, '03173_27-06-2024-17.30': {'60000': (0, 0), '70200': (23, 24), '04040': (81, 82), '78400': (125, 127), '71500': (154, 156), '71801': (192, 192)}, '03173_28-06-2024-17.30': {'60000': (0, 0), '70200': (23, 24), '04040': (81, 82), '78400': (125, 127), '71500': (154, 156), '71801': (192, 192)}, '03173_29-06-2024-17.30': {'60000': (0, 0), '70200': (23, 24), '04040': (81, 82), '78400': (125, 127), '71500': (154, 156), '71801': (192, 192)}, '03173_30-06-2024-17.30': {'60000': (0, 0), '70200': (23, 24), '04040': (81, 82), '78400': (125, 127), '71500': (154, 156), '71801': (192, 192)}, '03180_02-06-2024-18.25': {'71801': (0, 0), '60000': (150, 150)}, '03180_03-06-2024-18.25': {'71801': (0, 0), '60000': (150, 150)}, '03180_04-06-2024-18.25': {'71801': (0, 0), '60000': (150, 150)}, '03180_05-06-2024-18.25': {'71801': (0, 0), '60000': (150, 150)}, '03180_06-06-2024-18.25': {'71801': (0, 0), '60000': (150, 150)}, '03180_07-06-2024-18.25': {'71801': (0, 0), '60000': (150, 150)}, '03180_09-06-2024-18.25': {'71801': (0, 0), '60000': (150, 150)}, '03180_10-06-2024-18.25': {'71801': (0, 0), '60000': (150, 150)}, '03180_11-06-2024-18.25': {'71801': (0, 0), '60000': (150, 150)}, '03180_12-06-2024-18.25': {'71801': (0, 0), '60000': (150, 150)}, '03180_13-06-2024-18.25': {'71801': (0, 0), '60000': (150, 150)}, '03180_14-06-2024-18.25': {'71801': (0, 0), '60000': (150, 150)}, '03180_16-06-2024-18.25': {'71801': (0, 0), '60000': (150, 150)}, '03180_17-06-2024-18.25': {'71801': (0, 0), '60000': (150, 150)}, '03180_18-06-2024-18.25': {'71801': (0, 0), '60000': (150, 150)}, '03180_19-06-2024-18.25': {'71801': (0, 0), '60000': (150, 150)}, '03180_20-06-2024-18.25': {'71801': (0, 0), '60000': (150, 150)}, '03180_21-06-2024-18.25': {'71801': (0, 0), '60000': (150, 150)}, '03180_23-06-2024-18.25': {'71801': (0, 0), '60000': (150, 150)}, '03180_24-06-2024-18.25': {'71801': (0, 0), '60000': (150, 150)}, '03180_25-06-2024-18.25': {'71801': (0, 0), '60000': (150, 150)}, '03180_26-06-2024-18.25': {'71801': (0, 0), '60000': (150, 150)}, '03180_27-06-2024-18.25': {'71801': (0, 0), '60000': (150, 150)}, '03180_28-06-2024-18.25': {'71801': (0, 0), '60000': (150, 150)}, '03180_30-06-2024-18.25': {'71801': (0, 0), '60000': (150, 150)}, '03182_01-06-2024-18.00': {'71801': (0, 0), '71500': (32, 34), '78400': (59, 61), '04040': (102, 105), '70600': (129, 130), '60000': (192, 192)}, '03182_02-06-2024-18.00': {'71801': (0, 0), '71500': (32, 34), '78400': (59, 61), '04040': (102, 105), '70600': (129, 130), '60000': (192, 192)}, '03182_03-06-2024-18.00': {'71801': (0, 0), '71500': (32, 34), '78400': (59, 61), '04040': (102, 105), '70600': (129, 130), '60000': (192, 192)}, '03182_04-06-2024-18.00': {'71801': (0, 0), '71500': (32, 34), '78400': (59, 61), '04040': (102, 105), '70600': (129, 130), '60000': (192, 192)}, '03182_05-06-2024-18.00': {'71801': (0, 0), '71500': (32, 34), '78400': (59, 61), '04040': (102, 105), '70600': (129, 130), '60000': (192, 192)}, '03182_06-06-2024-18.00': {'71801': (0, 0), '71500': (32, 34), '78400': (59, 61), '04040': (102, 105), '70600': (129, 130), '60000': (192, 192)}, '03182_07-06-2024-18.00': {'71801': (0, 0), '71500': (32, 34), '78400': (59, 61), '04040': (102, 105), '70600': (129, 130), '60000': (192, 192)}, '03182_08-06-2024-18.00': {'71801': (0, 0), '71500': (32, 34), '78400': (59, 61), '04040': (102, 105), '70600': (129, 130), '60000': (192, 192)}, '03182_09-06-2024-18.00': {'71801': (0, 0), '71500': (32, 34), '78400': (59, 61), '04040': (102, 105), '70600': (129, 130), '60000': (192, 192)}, '03182_10-06-2024-18.00': {'71801': (0, 0), '71500': (32, 34), '78400': (59, 61), '04040': (102, 105), '70600': (129, 130), '60000': (192, 192)}, '03182_11-06-2024-18.00': {'71801': (0, 0), '71500': (32, 34), '78400': (59, 61), '04040': (102, 105), '70600': (129, 130), '60000': (192, 192)}, '03182_12-06-2024-18.00': {'71801': (0, 0), '71500': (32, 34), '78400': (59, 61), '04040': (102, 105), '70600': (129, 130), '60000': (192, 192)}, '03182_13-06-2024-18.00': {'71801': (0, 0), '71500': (32, 34), '78400': (59, 61), '04040': (102, 105), '70600': (129, 130), '60000': (192, 192)}, '03182_14-06-2024-18.00': {'71801': (0, 0), '71500': (32, 34), '78400': (59, 61), '04040': (102, 105), '70600': (129, 130), '60000': (192, 192)}, '03182_15-06-2024-18.00': {'71801': (0, 0), '71500': (32, 34), '78400': (59, 61), '04040': (102, 105), '70600': (129, 130), '60000': (192, 192)}, '03182_16-06-2024-18.00': {'71801': (0, 0), '71500': (32, 34), '78400': (59, 61), '04040': (102, 105), '70600': (129, 130), '60000': (192, 192)}, '03182_17-06-2024-18.00': {'71801': (0, 0), '71500': (32, 34), '78400': (59, 61), '04040': (102, 105), '70600': (129, 130), '60000': (192, 192)}, '03182_18-06-2024-18.00': {'71801': (0, 0), '71500': (32, 34), '78400': (59, 61), '04040': (102, 105), '70600': (129, 130), '60000': (192, 192)}, '03182_19-06-2024-18.00': {'71801': (0, 0), '71500': (32, 34), '78400': (59, 61), '04040': (102, 105), '70600': (129, 130), '60000': (192, 192)}, '03182_20-06-2024-18.00': {'71801': (0, 0), '71500': (32, 34), '78400': (59, 61), '04040': (102, 105), '70600': (129, 130), '60000': (192, 192)}, '03182_21-06-2024-18.00': {'71801': (0, 0), '71500': (32, 34), '78400': (59, 61), '04040': (102, 105), '70600': (129, 130), '60000': (192, 192)}, '03182_22-06-2024-18.00': {'71801': (0, 0), '71500': (32, 34), '78400': (59, 61), '04040': (102, 105), '70600': (129, 130), '60000': (192, 192)}, '03182_23-06-2024-18.00': {'71801': (0, 0), '71500': (32, 34), '78400': (59, 61), '04040': (102, 105), '70600': (129, 130), '60000': (192, 192)}, '03182_24-06-2024-18.00': {'71801': (0, 0), '71500': (32, 34), '78400': (59, 61), '04040': (102, 105), '70600': (129, 130), '60000': (192, 192)}, '03182_25-06-2024-18.00': {'71801': (0, 0), '71500': (32, 34), '78400': (59, 61), '04040': (102, 105), '70600': (129, 130), '60000': (192, 192)}, '03182_26-06-2024-18.00': {'71801': (0, 0), '71500': (32, 34), '78400': (59, 61), '04040': (102, 105), '70600': (129, 130), '60000': (192, 192)}, '03182_27-06-2024-18.00': {'71801': (0, 0), '71500': (32, 34), '78400': (59, 61), '04040': (102, 105), '70600': (129, 130), '60000': (192, 192)}, '03182_28-06-2024-18.00': {'71801': (0, 0), '71500': (32, 34), '78400': (59, 61), '04040': (102, 105), '70600': (129, 130), '60000': (192, 192)}, '03182_29-06-2024-18.00': {'71801': (0, 0), '71500': (32, 34), '78400': (59, 61), '04040': (102, 105), '70600': (129, 130), '60000': (192, 192)}, '03182_30-06-2024-18.00': {'71801': (0, 0), '71500': (32, 34), '78400': (59, 61), '04040': (102, 105), '70600': (129, 130), '60000': (192, 192)}, '03183_01-06-2024-18.30': {'60000': (0, 0), '04040': (75, 76), '71500': (134, 136), '71801': (170, 170)}, '03183_02-06-2024-18.30': {'60000': (0, 0), '04040': (75, 76), '71500': (134, 136), '71801': (170, 170)}, '03183_03-06-2024-18.30': {'60000': (0, 0), '04040': (75, 76), '71500': (134, 136), '71801': (170, 170)}, '03183_04-06-2024-18.30': {'60000': (0, 0), '04040': (75, 76), '71500': (134, 136), '71801': (170, 170)}, '03183_05-06-2024-18.30': {'60000': (0, 0), '04040': (75, 76), '71500': (134, 136), '71801': (170, 170)}, '03183_06-06-2024-18.30': {'60000': (0, 0), '04040': (75, 76), '71500': (134, 136), '71801': (170, 170)}, '03183_07-06-2024-18.30': {'60000': (0, 0), '04040': (75, 76), '71500': (134, 136), '71801': (170, 170)}, '03183_08-06-2024-18.30': {'60000': (0, 0), '04040': (75, 76), '71500': (134, 136), '71801': (170, 170)}, '03183_09-06-2024-18.30': {'60000': (0, 0), '04040': (75, 76), '71500': (134, 136), '71801': (170, 170)}, '03183_10-06-2024-18.30': {'60000': (0, 0), '04040': (75, 76), '71500': (134, 136), '71801': (170, 170)}, '03183_11-06-2024-18.30': {'60000': (0, 0), '04040': (75, 76), '71500': (134, 136), '71801': (170, 170)}, '03183_12-06-2024-18.30': {'60000': (0, 0), '04040': (75, 76), '71500': (134, 136), '71801': (170, 170)}, '03183_13-06-2024-18.30': {'60000': (0, 0), '04040': (75, 76), '71500': (134, 136), '71801': (170, 170)}, '03183_14-06-2024-18.30': {'60000': (0, 0), '04040': (75, 76), '71500': (134, 136), '71801': (170, 170)}, '03183_15-06-2024-18.30': {'60000': (0, 0), '04040': (75, 76), '71500': (134, 136), '71801': (170, 170)}, '03183_16-06-2024-18.30': {'60000': (0, 0), '04040': (75, 76), '71500': (134, 136), '71801': (170, 170)}, '03183_17-06-2024-18.30': {'60000': (0, 0), '04040': (75, 76), '71500': (134, 136), '71801': (170, 170)}, '03183_18-06-2024-18.30': {'60000': (0, 0), '04040': (75, 76), '71500': (134, 136), '71801': (170, 170)}, '03183_19-06-2024-18.30': {'60000': (0, 0), '04040': (75, 76), '71500': (134, 136), '71801': (170, 170)}, '03183_20-06-2024-18.30': {'60000': (0, 0), '04040': (75, 76), '71500': (134, 136), '71801': (170, 170)}, '03183_21-06-2024-18.30': {'60000': (0, 0), '04040': (75, 76), '71500': (134, 136), '71801': (170, 170)}, '03183_22-06-2024-18.30': {'60000': (0, 0), '04040': (75, 76), '71500': (134, 136), '71801': (170, 170)}, '03183_23-06-2024-18.30': {'60000': (0, 0), '04040': (75, 76), '71500': (134, 136), '71801': (170, 170)}, '03183_24-06-2024-18.30': {'60000': (0, 0), '04040': (75, 76), '71500': (134, 136), '71801': (170, 170)}, '03183_25-06-2024-18.30': {'60000': (0, 0), '04040': (75, 76), '71500': (134, 136), '71801': (170, 170)}, '03183_26-06-2024-18.30': {'60000': (0, 0), '04040': (75, 76), '71500': (134, 136), '71801': (170, 170)}, '03183_27-06-2024-18.30': {'60000': (0, 0), '04040': (75, 76), '71500': (134, 136), '71801': (170, 170)}, '03183_28-06-2024-18.30': {'60000': (0, 0), '04040': (75, 76), '71500': (134, 136), '71801': (170, 170)}, '03183_29-06-2024-18.30': {'60000': (0, 0), '04040': (75, 76), '71500': (134, 136), '71801': (170, 170)}, '03183_30-06-2024-18.30': {'60000': (0, 0), '04040': (75, 76), '71500': (134, 136), '71801': (170, 170)}, '03190_02-06-2024-19.25': {'71801': (0, 0), '60000': (150, 150)}, '03190_03-06-2024-19.25': {'71801': (0, 0), '60000': (150, 150)}, '03190_04-06-2024-19.25': {'71801': (0, 0), '60000': (150, 150)}, '03190_05-06-2024-19.25': {'71801': (0, 0), '60000': (150, 150)}, '03190_06-06-2024-19.25': {'71801': (0, 0), '60000': (150, 150)}, '03190_07-06-2024-19.25': {'71801': (0, 0), '60000': (150, 150)}, '03190_09-06-2024-19.25': {'71801': (0, 0), '60000': (150, 150)}, '03190_10-06-2024-19.25': {'71801': (0, 0), '60000': (150, 150)}, '03190_11-06-2024-19.25': {'71801': (0, 0), '60000': (150, 150)}, '03190_12-06-2024-19.25': {'71801': (0, 0), '60000': (150, 150)}, '03190_13-06-2024-19.25': {'71801': (0, 0), '60000': (150, 150)}, '03190_14-06-2024-19.25': {'71801': (0, 0), '60000': (150, 150)}, '03190_16-06-2024-19.25': {'71801': (0, 0), '60000': (150, 150)}, '03190_17-06-2024-19.25': {'71801': (0, 0), '60000': (150, 150)}, '03190_18-06-2024-19.25': {'71801': (0, 0), '60000': (150, 150)}, '03190_19-06-2024-19.25': {'71801': (0, 0), '60000': (150, 150)}, '03190_20-06-2024-19.25': {'71801': (0, 0), '60000': (150, 150)}, '03190_21-06-2024-19.25': {'71801': (0, 0), '60000': (150, 150)}, '03190_23-06-2024-19.25': {'71801': (0, 0), '60000': (150, 150)}, '03190_24-06-2024-19.25': {'71801': (0, 0), '60000': (150, 150)}, '03190_25-06-2024-19.25': {'71801': (0, 0), '60000': (150, 150)}, '03190_26-06-2024-19.25': {'71801': (0, 0), '60000': (150, 150)}, '03190_27-06-2024-19.25': {'71801': (0, 0), '60000': (150, 150)}, '03190_28-06-2024-19.25': {'71801': (0, 0), '60000': (150, 150)}, '03190_30-06-2024-19.25': {'71801': (0, 0), '60000': (150, 150)}, '03191_02-06-2024-19.00': {'60000': (0, 0), '71801': (150, 160), '79300': (198, 200), '04307': (215, 215)}, '03191_03-06-2024-19.00': {'60000': (0, 0), '71801': (150, 160), '79300': (198, 200), '04307': (215, 215)}, '03191_04-06-2024-19.00': {'60000': (0, 0), '71801': (150, 160), '79300': (198, 200), '04307': (215, 215)}, '03191_05-06-2024-19.00': {'60000': (0, 0), '71801': (150, 160), '79300': (198, 200), '04307': (215, 215)}, '03191_06-06-2024-19.00': {'60000': (0, 0), '71801': (150, 160), '79300': (198, 200), '04307': (215, 215)}, '03191_07-06-2024-19.00': {'60000': (0, 0), '71801': (150, 150)}, '03191_09-06-2024-19.00': {'60000': (0, 0), '71801': (150, 160), '79300': (198, 200), '04307': (215, 215)}, '03191_10-06-2024-19.00': {'60000': (0, 0), '71801': (150, 160), '79300': (198, 200), '04307': (215, 215)}, '03191_11-06-2024-19.00': {'60000': (0, 0), '71801': (150, 160), '79300': (198, 200), '04307': (215, 215)}, '03191_12-06-2024-19.00': {'60000': (0, 0), '71801': (150, 160), '79300': (198, 200), '04307': (215, 215)}, '03191_13-06-2024-19.00': {'60000': (0, 0), '71801': (150, 160), '79300': (198, 200), '04307': (215, 215)}, '03191_14-06-2024-19.00': {'60000': (0, 0), '71801': (150, 150)}, '03191_16-06-2024-19.00': {'60000': (0, 0), '71801': (150, 160), '79300': (198, 200), '04307': (215, 215)}, '03191_17-06-2024-19.00': {'60000': (0, 0), '71801': (150, 160), '79300': (198, 200), '04307': (215, 215)}, '03191_18-06-2024-19.00': {'60000': (0, 0), '71801': (150, 160), '79300': (198, 200), '04307': (215, 215)}, '03191_19-06-2024-19.00': {'60000': (0, 0), '71801': (150, 160), '79300': (198, 200), '04307': (215, 215)}, '03191_20-06-2024-19.00': {'60000': (0, 0), '71801': (150, 160), '79300': (198, 200), '04307': (215, 215)}, '03191_21-06-2024-19.00': {'60000': (0, 0), '71801': (150, 150)}, '03191_23-06-2024-19.00': {'60000': (0, 0), '71801': (150, 160), '79300': (198, 200), '04307': (215, 215)}, '03191_24-06-2024-19.00': {'60000': (0, 0), '71801': (150, 160), '79300': (198, 200), '04307': (215, 215)}, '03191_25-06-2024-19.00': {'60000': (0, 0), '71801': (150, 160), '79300': (198, 200), '04307': (215, 215)}, '03191_26-06-2024-19.00': {'60000': (0, 0), '71801': (150, 160), '79300': (198, 200), '04307': (215, 215)}, '03191_27-06-2024-19.00': {'60000': (0, 0), '71801': (150, 160), '79300': (198, 200), '04307': (215, 215)}, '03191_28-06-2024-19.00': {'60000': (0, 0), '71801': (150, 150)}, '03191_30-06-2024-19.00': {'60000': (0, 0), '71801': (150, 160), '79300': (198, 200), '04307': (215, 215)}, '03192_01-06-2024-18.40': {'04307': (0, 0), '79300': (14, 16), '71801': (55, 65), '71500': (97, 99), '78400': (125, 127), '04040': (168, 171), '60000': (250, 250)}, '03192_02-06-2024-18.40': {'04307': (0, 0), '79300': (14, 16), '71801': (55, 65), '71500': (97, 99), '78400': (125, 127), '04040': (168, 171), '60000': (250, 250)}, '03192_03-06-2024-18.40': {'04307': (0, 0), '79300': (14, 16), '71801': (55, 65), '71500': (97, 99), '78400': (125, 127), '04040': (168, 171), '60000': (250, 250)}, '03192_04-06-2024-18.40': {'04307': (0, 0), '79300': (14, 16), '71801': (55, 65), '71500': (97, 99), '78400': (125, 127), '04040': (168, 171), '60000': (250, 250)}, '03192_05-06-2024-18.40': {'04307': (0, 0), '79300': (14, 16), '71801': (55, 65), '71500': (97, 99), '78400': (125, 127), '04040': (168, 171), '60000': (250, 250)}, '03192_06-06-2024-18.40': {'04307': (0, 0), '79300': (14, 16), '71801': (55, 65), '71500': (97, 99), '78400': (125, 127), '04040': (168, 171), '60000': (250, 250)}, '03192_07-06-2024-18.40': {'04307': (0, 0), '79300': (14, 16), '71801': (55, 65), '71500': (97, 99), '78400': (125, 127), '04040': (168, 171), '60000': (250, 250)}, '03192_08-06-2024-18.40': {'04307': (0, 0), '79300': (14, 16), '71801': (55, 65), '71500': (97, 99), '78400': (125, 127), '04040': (168, 171), '60000': (250, 250)}, '03192_09-06-2024-18.40': {'04307': (0, 0), '79300': (14, 16), '71801': (55, 65), '71500': (97, 99), '78400': (125, 127), '04040': (168, 171), '60000': (250, 250)}, '03192_10-06-2024-18.40': {'04307': (0, 0), '79300': (14, 16), '71801': (55, 65), '71500': (97, 99), '78400': (125, 127), '04040': (168, 171), '60000': (250, 250)}, '03192_11-06-2024-18.40': {'04307': (0, 0), '79300': (14, 16), '71801': (55, 65), '71500': (97, 99), '78400': (125, 127), '04040': (168, 171), '60000': (250, 250)}, '03192_12-06-2024-18.40': {'04307': (0, 0), '79300': (14, 16), '71801': (55, 65), '71500': (97, 99), '78400': (125, 127), '04040': (168, 171), '60000': (250, 250)}, '03192_13-06-2024-18.40': {'04307': (0, 0), '79300': (14, 16), '71801': (55, 65), '71500': (97, 99), '78400': (125, 127), '04040': (168, 171), '60000': (250, 250)}, '03192_14-06-2024-18.40': {'04307': (0, 0), '79300': (14, 16), '71801': (55, 65), '71500': (97, 99), '78400': (125, 127), '04040': (168, 171), '60000': (250, 250)}, '03192_15-06-2024-18.40': {'04307': (0, 0), '79300': (14, 16), '71801': (55, 65), '71500': (97, 99), '78400': (125, 127), '04040': (168, 171), '60000': (250, 250)}, '03192_16-06-2024-18.40': {'04307': (0, 0), '79300': (14, 16), '71801': (55, 65), '71500': (97, 99), '78400': (125, 127), '04040': (168, 171), '60000': (250, 250)}, '03192_17-06-2024-18.40': {'04307': (0, 0), '79300': (14, 16), '71801': (55, 65), '71500': (97, 99), '78400': (125, 127), '04040': (168, 171), '60000': (250, 250)}, '03192_18-06-2024-18.40': {'04307': (0, 0), '79300': (14, 16), '71801': (55, 65), '71500': (97, 99), '78400': (125, 127), '04040': (168, 171), '60000': (250, 250)}, '03192_19-06-2024-18.40': {'04307': (0, 0), '79300': (14, 16), '71801': (55, 65), '71500': (97, 99), '78400': (125, 127), '04040': (168, 171), '60000': (250, 250)}, '03192_20-06-2024-18.40': {'04307': (0, 0), '79300': (14, 16), '71801': (55, 65), '71500': (97, 99), '78400': (125, 127), '04040': (168, 171), '60000': (250, 250)}, '03192_21-06-2024-18.40': {'04307': (0, 0), '79300': (14, 16), '71801': (55, 65), '71500': (97, 99), '78400': (125, 127), '04040': (168, 171), '60000': (250, 250)}, '03192_22-06-2024-18.40': {'04307': (0, 0), '79300': (14, 16), '71801': (55, 65), '71500': (97, 99), '78400': (125, 127), '04040': (168, 171), '60000': (250, 250)}, '03192_23-06-2024-18.40': {'04307': (0, 0), '79300': (14, 16), '71801': (55, 65), '71500': (97, 99), '78400': (125, 127), '04040': (168, 171), '60000': (250, 250)}, '03192_24-06-2024-18.40': {'04307': (0, 0), '79300': (14, 16), '71801': (55, 65), '71500': (97, 99), '78400': (125, 127), '04040': (168, 171), '60000': (250, 250)}, '03192_25-06-2024-18.40': {'04307': (0, 0), '79300': (14, 16), '71801': (55, 65), '71500': (97, 99), '78400': (125, 127), '04040': (168, 171), '60000': (250, 250)}, '03192_26-06-2024-18.40': {'04307': (0, 0), '79300': (14, 16), '71801': (55, 65), '71500': (97, 99), '78400': (125, 127), '04040': (168, 171), '60000': (250, 250)}, '03192_27-06-2024-18.40': {'04307': (0, 0), '79300': (14, 16), '71801': (55, 65), '71500': (97, 99), '78400': (125, 127), '04040': (168, 171), '60000': (250, 250)}, '03192_28-06-2024-18.40': {'04307': (0, 0), '79300': (14, 16), '71801': (55, 65), '71500': (97, 99), '78400': (125, 127), '04040': (168, 171), '60000': (250, 250)}, '03192_29-06-2024-18.40': {'04307': (0, 0), '79300': (14, 16), '71801': (55, 65), '71500': (97, 99), '78400': (125, 127), '04040': (168, 171), '60000': (250, 250)}, '03192_30-06-2024-18.40': {'04307': (0, 0), '79300': (14, 16), '71801': (55, 65), '71500': (97, 99), '78400': (125, 127), '04040': (168, 171), '60000': (250, 250)}, '03201_02-06-2024-20.00': {'60000': (0, 0), '71801': (150, 150)}, '03201_03-06-2024-20.00': {'60000': (0, 0), '71801': (150, 150)}, '03201_04-06-2024-20.00': {'60000': (0, 0), '71801': (150, 150)}, '03201_05-06-2024-20.00': {'60000': (0, 0), '71801': (150, 150)}, '03201_06-06-2024-20.00': {'60000': (0, 0), '71801': (150, 150)}, '03201_07-06-2024-20.00': {'60000': (0, 0), '71801': (150, 150)}, '03201_09-06-2024-20.00': {'60000': (0, 0), '71801': (150, 150)}, '03201_10-06-2024-20.00': {'60000': (0, 0), '71801': (150, 150)}, '03201_11-06-2024-20.00': {'60000': (0, 0), '71801': (150, 150)}, '03201_12-06-2024-20.00': {'60000': (0, 0), '71801': (150, 150)}, '03201_13-06-2024-20.00': {'60000': (0, 0), '71801': (150, 150)}, '03201_14-06-2024-20.00': {'60000': (0, 0), '71801': (150, 150)}, '03201_16-06-2024-20.00': {'60000': (0, 0), '71801': (150, 150)}, '03201_17-06-2024-20.00': {'60000': (0, 0), '71801': (150, 150)}, '03201_18-06-2024-20.00': {'60000': (0, 0), '71801': (150, 150)}, '03201_19-06-2024-20.00': {'60000': (0, 0), '71801': (150, 150)}, '03201_20-06-2024-20.00': {'60000': (0, 0), '71801': (150, 150)}, '03201_21-06-2024-20.00': {'60000': (0, 0), '71801': (150, 150)}, '03201_23-06-2024-20.00': {'60000': (0, 0), '71801': (150, 150)}, '03201_24-06-2024-20.00': {'60000': (0, 0), '71801': (150, 150)}, '03201_25-06-2024-20.00': {'60000': (0, 0), '71801': (150, 150)}, '03201_26-06-2024-20.00': {'60000': (0, 0), '71801': (150, 150)}, '03201_27-06-2024-20.00': {'60000': (0, 0), '71801': (150, 150)}, '03201_28-06-2024-20.00': {'60000': (0, 0), '71801': (150, 150)}, '03201_30-06-2024-20.00': {'60000': (0, 0), '71801': (150, 150)}, '03202_01-06-2024-20.00': {'71801': (0, 0), '71500': (32, 34), '78400': (59, 61), '04040': (102, 105), '70200': (164, 165), '60000': (192, 192)}, '03202_02-06-2024-20.00': {'71801': (0, 0), '71500': (32, 34), '78400': (59, 61), '04040': (102, 105), '70200': (164, 165), '60000': (192, 192)}, '03202_03-06-2024-20.00': {'71801': (0, 0), '71500': (32, 34), '78400': (59, 61), '04040': (102, 105), '70200': (164, 165), '60000': (192, 192)}, '03202_04-06-2024-20.00': {'71801': (0, 0), '71500': (32, 34), '78400': (59, 61), '04040': (102, 105), '70200': (164, 165), '60000': (192, 192)}, '03202_05-06-2024-20.00': {'71801': (0, 0), '71500': (32, 34), '78400': (59, 61), '04040': (102, 105), '70200': (164, 165), '60000': (192, 192)}, '03202_06-06-2024-20.00': {'71801': (0, 0), '71500': (32, 34), '78400': (59, 61), '04040': (102, 105), '70200': (164, 165), '60000': (192, 192)}, '03202_07-06-2024-20.00': {'71801': (0, 0), '71500': (32, 34), '78400': (59, 61), '04040': (102, 105), '70200': (164, 165), '60000': (192, 192)}, '03202_08-06-2024-20.00': {'71801': (0, 0), '71500': (32, 34), '78400': (59, 61), '04040': (102, 105), '70200': (164, 165), '60000': (192, 192)}, '03202_09-06-2024-20.00': {'71801': (0, 0), '71500': (32, 34), '78400': (59, 61), '04040': (102, 105), '70200': (164, 165), '60000': (192, 192)}, '03202_10-06-2024-20.00': {'71801': (0, 0), '71500': (32, 34), '78400': (59, 61), '04040': (102, 105), '70200': (164, 165), '60000': (192, 192)}, '03202_11-06-2024-20.00': {'71801': (0, 0), '71500': (32, 34), '78400': (59, 61), '04040': (102, 105), '70200': (164, 165), '60000': (192, 192)}, '03202_12-06-2024-20.00': {'71801': (0, 0), '71500': (32, 34), '78400': (59, 61), '04040': (102, 105), '70200': (164, 165), '60000': (192, 192)}, '03202_13-06-2024-20.00': {'71801': (0, 0), '71500': (32, 34), '78400': (59, 61), '04040': (102, 105), '70200': (164, 165), '60000': (192, 192)}, '03202_14-06-2024-20.00': {'71801': (0, 0), '71500': (32, 34), '78400': (59, 61), '04040': (102, 105), '70200': (164, 165), '60000': (192, 192)}, '03202_15-06-2024-20.00': {'71801': (0, 0), '71500': (32, 34), '78400': (59, 61), '04040': (102, 105), '70200': (164, 165), '60000': (192, 192)}, '03202_16-06-2024-20.00': {'71801': (0, 0), '71500': (32, 34), '78400': (59, 61), '04040': (102, 105), '70200': (164, 165), '60000': (192, 192)}, '03202_17-06-2024-20.00': {'71801': (0, 0), '71500': (32, 34), '78400': (59, 61), '04040': (102, 105), '70200': (164, 165), '60000': (192, 192)}, '03202_18-06-2024-20.00': {'71801': (0, 0), '71500': (32, 34), '78400': (59, 61), '04040': (102, 105), '70200': (164, 165), '60000': (192, 192)}, '03202_19-06-2024-20.00': {'71801': (0, 0), '71500': (32, 34), '78400': (59, 61), '04040': (102, 105), '70200': (164, 165), '60000': (192, 192)}, '03202_20-06-2024-20.00': {'71801': (0, 0), '71500': (32, 34), '78400': (59, 61), '04040': (102, 105), '70200': (164, 165), '60000': (192, 192)}, '03202_21-06-2024-20.00': {'71801': (0, 0), '71500': (32, 34), '78400': (59, 61), '04040': (102, 105), '70200': (164, 165), '60000': (192, 192)}, '03202_22-06-2024-20.00': {'71801': (0, 0), '71500': (32, 34), '78400': (59, 61), '04040': (102, 105), '70200': (164, 165), '60000': (192, 192)}, '03202_23-06-2024-20.00': {'71801': (0, 0), '71500': (32, 34), '78400': (59, 61), '04040': (102, 105), '70200': (164, 165), '60000': (192, 192)}, '03202_24-06-2024-20.00': {'71801': (0, 0), '71500': (32, 34), '78400': (59, 61), '04040': (102, 105), '70200': (164, 165), '60000': (192, 192)}, '03202_25-06-2024-20.00': {'71801': (0, 0), '71500': (32, 34), '78400': (59, 61), '04040': (102, 105), '70200': (164, 165), '60000': (192, 192)}, '03202_26-06-2024-20.00': {'71801': (0, 0), '71500': (32, 34), '78400': (59, 61), '04040': (102, 105), '70200': (164, 165), '60000': (192, 192)}, '03202_27-06-2024-20.00': {'71801': (0, 0), '71500': (32, 34), '78400': (59, 61), '04040': (102, 105), '70200': (164, 165), '60000': (192, 192)}, '03202_28-06-2024-20.00': {'71801': (0, 0), '71500': (32, 34), '78400': (59, 61), '04040': (102, 105), '70200': (164, 165), '60000': (192, 192)}, '03202_29-06-2024-20.00': {'71801': (0, 0), '71500': (32, 34), '78400': (59, 61), '04040': (102, 105), '70200': (164, 165), '60000': (192, 192)}, '03202_30-06-2024-20.00': {'71801': (0, 0), '71500': (32, 34), '78400': (59, 61), '04040': (102, 105), '70200': (164, 165), '60000': (192, 192)}, '03203_01-06-2024-20.40': {'60000': (0, 0), '70200': (23, 24), '70600': (60, 61), '04040': (85, 86), '78400': (129, 131), '71500': (158, 160), '71801': (195, 195)}, '03203_02-06-2024-20.40': {'60000': (0, 0), '70200': (23, 24), '70600': (60, 61), '04040': (85, 86), '78400': (129, 131), '71500': (158, 160), '71801': (195, 195)}, '03203_03-06-2024-20.40': {'60000': (0, 0), '70200': (23, 24), '70600': (60, 61), '04040': (85, 86), '78400': (129, 131), '71500': (158, 160), '71801': (195, 195)}, '03203_04-06-2024-20.40': {'60000': (0, 0), '70200': (23, 24), '70600': (60, 61), '04040': (85, 86), '78400': (129, 131), '71500': (158, 160), '71801': (195, 195)}, '03203_05-06-2024-20.40': {'60000': (0, 0), '70200': (23, 24), '70600': (60, 61), '04040': (85, 86), '78400': (129, 131), '71500': (158, 160), '71801': (195, 195)}, '03203_06-06-2024-20.40': {'60000': (0, 0), '70200': (23, 24), '70600': (60, 61), '04040': (85, 86), '78400': (129, 131), '71500': (158, 160), '71801': (195, 195)}, '03203_07-06-2024-20.40': {'60000': (0, 0), '70200': (23, 24), '70600': (60, 61), '04040': (85, 86), '78400': (129, 131), '71500': (158, 160), '71801': (195, 195)}, '03203_08-06-2024-20.40': {'60000': (0, 0), '70200': (23, 24), '70600': (60, 61), '04040': (85, 86), '78400': (129, 131), '71500': (158, 160), '71801': (195, 195)}, '03203_09-06-2024-20.40': {'60000': (0, 0), '70200': (23, 24), '70600': (60, 61), '04040': (85, 86), '78400': (129, 131), '71500': (158, 160), '71801': (195, 195)}, '03203_10-06-2024-20.40': {'60000': (0, 0), '70200': (23, 24), '70600': (60, 61), '04040': (85, 86), '78400': (129, 131), '71500': (158, 160), '71801': (195, 195)}, '03203_11-06-2024-20.40': {'60000': (0, 0), '70200': (23, 24), '70600': (60, 61), '04040': (85, 86), '78400': (129, 131), '71500': (158, 160), '71801': (195, 195)}, '03203_12-06-2024-20.40': {'60000': (0, 0), '70200': (23, 24), '70600': (60, 61), '04040': (85, 86), '78400': (129, 131), '71500': (158, 160), '71801': (195, 195)}, '03203_13-06-2024-20.40': {'60000': (0, 0), '70200': (23, 24), '70600': (60, 61), '04040': (85, 86), '78400': (129, 131), '71500': (158, 160), '71801': (195, 195)}, '03203_14-06-2024-20.40': {'60000': (0, 0), '70200': (23, 24), '70600': (60, 61), '04040': (85, 86), '78400': (129, 131), '71500': (158, 160), '71801': (195, 195)}, '03203_15-06-2024-20.40': {'60000': (0, 0), '70200': (23, 24), '70600': (60, 61), '04040': (85, 86), '78400': (129, 131), '71500': (158, 160), '71801': (195, 195)}, '03203_16-06-2024-20.40': {'60000': (0, 0), '70200': (23, 24), '70600': (60, 61), '04040': (85, 86), '78400': (129, 131), '71500': (158, 160), '71801': (195, 195)}, '03203_17-06-2024-20.40': {'60000': (0, 0), '70200': (23, 24), '70600': (60, 61), '04040': (85, 86), '78400': (129, 131), '71500': (158, 160), '71801': (195, 195)}, '03203_18-06-2024-20.40': {'60000': (0, 0), '70200': (23, 24), '70600': (60, 61), '04040': (85, 86), '78400': (129, 131), '71500': (158, 160), '71801': (195, 195)}, '03203_19-06-2024-20.40': {'60000': (0, 0), '70200': (23, 24), '70600': (60, 61), '04040': (85, 86), '78400': (129, 131), '71500': (158, 160), '71801': (195, 195)}, '03203_20-06-2024-20.40': {'60000': (0, 0), '70200': (23, 24), '70600': (60, 61), '04040': (85, 86), '78400': (129, 131), '71500': (158, 160), '71801': (195, 195)}, '03203_21-06-2024-20.40': {'60000': (0, 0), '70200': (23, 24), '70600': (60, 61), '04040': (85, 86), '78400': (129, 131), '71500': (158, 160), '71801': (195, 195)}, '03203_22-06-2024-20.40': {'60000': (0, 0), '70200': (23, 24), '70600': (60, 61), '04040': (85, 86), '78400': (129, 131), '71500': (158, 160), '71801': (195, 195)}, '03203_23-06-2024-20.40': {'60000': (0, 0), '70200': (23, 24), '70600': (60, 61), '04040': (85, 86), '78400': (129, 131), '71500': (158, 160), '71801': (195, 195)}, '03203_24-06-2024-20.40': {'60000': (0, 0), '70200': (23, 24), '70600': (60, 61), '04040': (85, 86), '78400': (129, 131), '71500': (158, 160), '71801': (195, 195)}, '03203_25-06-2024-20.40': {'60000': (0, 0), '70200': (23, 24), '70600': (60, 61), '04040': (85, 86), '78400': (129, 131), '71500': (158, 160), '71801': (195, 195)}, '03203_26-06-2024-20.40': {'60000': (0, 0), '70200': (23, 24), '70600': (60, 61), '04040': (85, 86), '78400': (129, 131), '71500': (158, 160), '71801': (195, 195)}, '03203_27-06-2024-20.40': {'60000': (0, 0), '70200': (23, 24), '70600': (60, 61), '04040': (85, 86), '78400': (129, 131), '71500': (158, 160), '71801': (195, 195)}, '03203_28-06-2024-20.40': {'60000': (0, 0), '70200': (23, 24), '70600': (60, 61), '04040': (85, 86), '78400': (129, 131), '71500': (158, 160), '71801': (195, 195)}, '03203_29-06-2024-20.40': {'60000': (0, 0), '70200': (23, 24), '70600': (60, 61), '04040': (85, 86), '78400': (129, 131), '71500': (158, 160), '71801': (195, 195)}, '03203_30-06-2024-20.40': {'60000': (0, 0), '70200': (23, 24), '70600': (60, 61), '04040': (85, 86), '78400': (129, 131), '71500': (158, 160), '71801': (195, 195)}, '03211_02-06-2024-21.10': {'60000': (0, 0), '71801': (150, 150)}, '03211_03-06-2024-21.10': {'60000': (0, 0), '71801': (150, 150)}, '03211_04-06-2024-21.10': {'60000': (0, 0), '71801': (150, 150)}, '03211_05-06-2024-21.10': {'60000': (0, 0), '71801': (150, 150)}, '03211_06-06-2024-21.10': {'60000': (0, 0), '71801': (150, 150)}, '03211_07-06-2024-21.10': {'60000': (0, 0), '71801': (150, 150)}, '03211_09-06-2024-21.10': {'60000': (0, 0), '71801': (150, 150)}, '03211_10-06-2024-21.10': {'60000': (0, 0), '71801': (150, 150)}, '03211_11-06-2024-21.10': {'60000': (0, 0), '71801': (150, 150)}, '03211_12-06-2024-21.10': {'60000': (0, 0), '71801': (150, 150)}, '03211_13-06-2024-21.10': {'60000': (0, 0), '71801': (150, 150)}, '03211_14-06-2024-21.10': {'60000': (0, 0), '71801': (150, 150)}, '03211_16-06-2024-21.10': {'60000': (0, 0), '71801': (150, 150)}, '03211_17-06-2024-21.10': {'60000': (0, 0), '71801': (150, 150)}, '03211_18-06-2024-21.10': {'60000': (0, 0), '71801': (150, 150)}, '03211_19-06-2024-21.10': {'60000': (0, 0), '71801': (150, 150)}, '03211_20-06-2024-21.10': {'60000': (0, 0), '71801': (150, 150)}, '03211_21-06-2024-21.10': {'60000': (0, 0), '71801': (150, 150)}, '03211_23-06-2024-21.10': {'60000': (0, 0), '71801': (150, 150)}, '03211_24-06-2024-21.10': {'60000': (0, 0), '71801': (150, 150)}, '03211_25-06-2024-21.10': {'60000': (0, 0), '71801': (150, 150)}, '03211_26-06-2024-21.10': {'60000': (0, 0), '71801': (150, 150)}, '03211_27-06-2024-21.10': {'60000': (0, 0), '71801': (150, 150)}, '03211_28-06-2024-21.10': {'60000': (0, 0), '71801': (150, 150)}, '03211_30-06-2024-21.10': {'60000': (0, 0), '71801': (150, 150)}, '03260_03-06-2024-06.20': {'71801': (0, 0), '60000': (150, 150)}, '03260_04-06-2024-06.20': {'71801': (0, 0), '60000': (150, 150)}, '03260_05-06-2024-06.20': {'71801': (0, 0), '60000': (150, 150)}, '03260_06-06-2024-06.20': {'71801': (0, 0), '60000': (150, 150)}, '03260_10-06-2024-06.20': {'71801': (0, 0), '60000': (150, 150)}, '03260_11-06-2024-06.20': {'71801': (0, 0), '60000': (150, 150)}, '03260_12-06-2024-06.20': {'71801': (0, 0), '60000': (150, 150)}, '03260_13-06-2024-06.20': {'71801': (0, 0), '60000': (150, 150)}, '03260_17-06-2024-06.20': {'71801': (0, 0), '60000': (150, 150)}, '03260_18-06-2024-06.20': {'71801': (0, 0), '60000': (150, 150)}, '03260_19-06-2024-06.20': {'71801': (0, 0), '60000': (150, 150)}, '03260_20-06-2024-06.20': {'71801': (0, 0), '60000': (150, 150)}, '03260_24-06-2024-06.20': {'71801': (0, 0), '60000': (150, 150)}, '03260_25-06-2024-06.20': {'71801': (0, 0), '60000': (150, 150)}, '03260_26-06-2024-06.20': {'71801': (0, 0), '60000': (150, 150)}, '03260_27-06-2024-06.20': {'71801': (0, 0), '60000': (150, 150)}, '03270_03-06-2024-07.00': {'71801': (0, 0), '60000': (150, 150)}, '03270_04-06-2024-07.00': {'71801': (0, 0), '60000': (150, 150)}, '03270_05-06-2024-07.00': {'71801': (0, 0), '60000': (150, 150)}, '03270_06-06-2024-07.00': {'71801': (0, 0), '60000': (150, 150)}, '03270_10-06-2024-07.00': {'71801': (0, 0), '60000': (150, 150)}, '03270_11-06-2024-07.00': {'71801': (0, 0), '60000': (150, 150)}, '03270_12-06-2024-07.00': {'71801': (0, 0), '60000': (150, 150)}, '03270_13-06-2024-07.00': {'71801': (0, 0), '60000': (150, 150)}, '03270_17-06-2024-07.00': {'71801': (0, 0), '60000': (150, 150)}, '03270_18-06-2024-07.00': {'71801': (0, 0), '60000': (150, 150)}, '03270_19-06-2024-07.00': {'71801': (0, 0), '60000': (150, 150)}, '03270_20-06-2024-07.00': {'71801': (0, 0), '60000': (150, 150)}, '03270_24-06-2024-07.00': {'71801': (0, 0), '60000': (150, 150)}, '03270_25-06-2024-07.00': {'71801': (0, 0), '60000': (150, 150)}, '03270_26-06-2024-07.00': {'71801': (0, 0), '60000': (150, 150)}, '03270_27-06-2024-07.00': {'71801': (0, 0), '60000': (150, 150)}, '03610_02-06-2024-21.25': {'71801': (0, 0), '60000': (150, 150)}, '03610_03-06-2024-21.25': {'71801': (0, 0), '60000': (150, 150)}, '03610_04-06-2024-21.25': {'71801': (0, 0), '60000': (150, 150)}, '03610_05-06-2024-21.25': {'71801': (0, 0), '60000': (150, 150)}, '03610_06-06-2024-21.25': {'71801': (0, 0), '60000': (150, 150)}, '03610_07-06-2024-21.25': {'71801': (0, 0), '60000': (150, 150)}, '03610_09-06-2024-21.25': {'71801': (0, 0), '60000': (150, 150)}, '03610_10-06-2024-21.25': {'71801': (0, 0), '60000': (150, 150)}, '03610_11-06-2024-21.25': {'71801': (0, 0), '60000': (150, 150)}, '03610_12-06-2024-21.25': {'71801': (0, 0), '60000': (150, 150)}, '03610_13-06-2024-21.25': {'71801': (0, 0), '60000': (150, 150)}, '03610_14-06-2024-21.25': {'71801': (0, 0), '60000': (150, 150)}, '03610_16-06-2024-21.25': {'71801': (0, 0), '60000': (150, 150)}, '03610_17-06-2024-21.25': {'71801': (0, 0), '60000': (150, 150)}, '03610_18-06-2024-21.25': {'71801': (0, 0), '60000': (150, 150)}, '03610_19-06-2024-21.25': {'71801': (0, 0), '60000': (150, 150)}, '03610_20-06-2024-21.25': {'71801': (0, 0), '60000': (150, 150)}, '03610_21-06-2024-21.25': {'71801': (0, 0), '60000': (150, 150)}, '03610_23-06-2024-21.25': {'71801': (0, 0), '60000': (150, 150)}, '03610_24-06-2024-21.25': {'71801': (0, 0), '60000': (150, 150)}, '03610_25-06-2024-21.25': {'71801': (0, 0), '60000': (150, 150)}, '03610_26-06-2024-21.25': {'71801': (0, 0), '60000': (150, 150)}, '03610_27-06-2024-21.25': {'71801': (0, 0), '60000': (150, 150)}, '03610_28-06-2024-21.25': {'71801': (0, 0), '60000': (150, 150)}, '03610_30-06-2024-21.25': {'71801': (0, 0), '60000': (150, 150)}, '03662_03-06-2024-07.40': {'04307': (0, 0), '79300': (14, 16), '71801': (55, 70), '60000': (220, 220)}, '03662_04-06-2024-07.40': {'04307': (0, 0), '79300': (14, 16), '71801': (55, 70), '60000': (220, 220)}, '03662_05-06-2024-07.40': {'04307': (0, 0), '79300': (14, 16), '71801': (55, 70), '60000': (220, 220)}, '03662_06-06-2024-07.40': {'04307': (0, 0), '79300': (14, 16), '71801': (55, 70), '60000': (220, 220)}, '03662_07-06-2024-07.40': {'04307': (0, 0), '79300': (14, 16), '71801': (55, 70), '60000': (220, 220)}, '03662_10-06-2024-07.40': {'04307': (0, 0), '79300': (14, 16), '71801': (55, 70), '60000': (220, 220)}, '03662_11-06-2024-07.40': {'04307': (0, 0), '79300': (14, 16), '71801': (55, 70), '60000': (220, 220)}, '03662_12-06-2024-07.40': {'04307': (0, 0), '79300': (14, 16), '71801': (55, 70), '60000': (220, 220)}, '03662_13-06-2024-07.40': {'04307': (0, 0), '79300': (14, 16), '71801': (55, 70), '60000': (220, 220)}, '03662_14-06-2024-07.40': {'04307': (0, 0), '79300': (14, 16), '71801': (55, 70), '60000': (220, 220)}, '03662_17-06-2024-07.40': {'04307': (0, 0), '79300': (14, 16), '71801': (55, 70), '60000': (220, 220)}, '03662_18-06-2024-07.40': {'04307': (0, 0), '79300': (14, 16), '71801': (55, 70), '60000': (220, 220)}, '03662_19-06-2024-07.40': {'04307': (0, 0), '79300': (14, 16), '71801': (55, 70), '60000': (220, 220)}, '03662_20-06-2024-07.40': {'04307': (0, 0), '79300': (14, 16), '71801': (55, 70), '60000': (220, 220)}, '03662_21-06-2024-07.40': {'04307': (0, 0), '79300': (14, 16), '71801': (55, 70), '60000': (220, 220)}, '03662_24-06-2024-07.40': {'04307': (0, 0), '79300': (14, 16), '71801': (55, 70), '60000': (220, 220)}, '03662_25-06-2024-07.40': {'04307': (0, 0), '79300': (14, 16), '71801': (55, 70), '60000': (220, 220)}, '03662_26-06-2024-07.40': {'04307': (0, 0), '79300': (14, 16), '71801': (55, 70), '60000': (220, 220)}, '03662_27-06-2024-07.40': {'04307': (0, 0), '79300': (14, 16), '71801': (55, 70), '60000': (220, 220)}, '03662_28-06-2024-07.40': {'04307': (0, 0), '79300': (14, 16), '71801': (55, 70), '60000': (220, 220)}, '06301_01-06-2024-06.15': {'60000': (0, 0), '71801': (150, 150)}, '06301_02-06-2024-06.15': {'60000': (0, 0), '71801': (150, 150)}, '06301_03-06-2024-06.15': {'60000': (0, 0), '71801': (150, 150)}, '06301_04-06-2024-06.15': {'60000': (0, 0), '71801': (150, 150)}, '06301_05-06-2024-06.15': {'60000': (0, 0), '71801': (150, 150)}, '06301_06-06-2024-06.15': {'60000': (0, 0), '71801': (150, 150)}, '06301_07-06-2024-06.15': {'60000': (0, 0), '71801': (150, 150)}, '06301_08-06-2024-06.15': {'60000': (0, 0), '71801': (150, 150)}, '06301_09-06-2024-06.15': {'60000': (0, 0), '71801': (150, 150)}, '06301_10-06-2024-06.15': {'60000': (0, 0), '71801': (150, 150)}, '06301_11-06-2024-06.15': {'60000': (0, 0), '71801': (150, 150)}, '06301_12-06-2024-06.15': {'60000': (0, 0), '71801': (150, 150)}, '06301_13-06-2024-06.15': {'60000': (0, 0), '71801': (150, 150)}, '06301_14-06-2024-06.15': {'60000': (0, 0), '71801': (150, 150)}, '06301_15-06-2024-06.15': {'60000': (0, 0), '71801': (150, 150)}, '06301_16-06-2024-06.15': {'60000': (0, 0), '71801': (150, 150)}, '06301_17-06-2024-06.15': {'60000': (0, 0), '71801': (150, 150)}, '06301_18-06-2024-06.15': {'60000': (0, 0), '71801': (150, 150)}, '06301_19-06-2024-06.15': {'60000': (0, 0), '71801': (150, 150)}, '06301_20-06-2024-06.15': {'60000': (0, 0), '71801': (150, 150)}, '06301_21-06-2024-06.15': {'60000': (0, 0), '71801': (150, 150)}, '06301_22-06-2024-06.15': {'60000': (0, 0), '71801': (150, 150)}, '06301_23-06-2024-06.15': {'60000': (0, 0), '71801': (150, 150)}, '06301_24-06-2024-06.15': {'60000': (0, 0), '71801': (150, 150)}, '06301_25-06-2024-06.15': {'60000': (0, 0), '71801': (150, 150)}, '06301_26-06-2024-06.15': {'60000': (0, 0), '71801': (150, 150)}, '06301_27-06-2024-06.15': {'60000': (0, 0), '71801': (150, 150)}, '06301_28-06-2024-06.15': {'60000': (0, 0), '71801': (150, 150)}, '06301_29-06-2024-06.15': {'60000': (0, 0), '71801': (150, 150)}, '06301_30-06-2024-06.15': {'60000': (0, 0), '71801': (150, 150)}, '06302_01-06-2024-06.35': {'04307': (0, 0), '79300': (14, 16), '71801': (55, 65), '04040': (148, 151), '60000': (230, 230)}, '06302_02-06-2024-06.35': {'04307': (0, 0), '79300': (14, 16), '71801': (55, 65), '04040': (148, 151), '60000': (230, 230)}, '06302_03-06-2024-06.35': {'04307': (0, 0), '79300': (14, 16), '71801': (55, 65), '04040': (148, 151), '60000': (230, 230)}, '06302_04-06-2024-06.35': {'04307': (0, 0), '79300': (14, 16), '71801': (55, 65), '04040': (148, 151), '60000': (230, 230)}, '06302_05-06-2024-06.35': {'04307': (0, 0), '79300': (14, 16), '71801': (55, 65), '04040': (148, 151), '60000': (230, 230)}, '06302_06-06-2024-06.35': {'04307': (0, 0), '79300': (14, 16), '71801': (55, 65), '04040': (148, 151), '60000': (230, 230)}, '06302_07-06-2024-06.35': {'04307': (0, 0), '79300': (14, 16), '71801': (55, 65), '04040': (148, 151), '60000': (230, 230)}, '06302_08-06-2024-06.35': {'04307': (0, 0), '79300': (14, 16), '71801': (55, 65), '04040': (148, 151), '60000': (230, 230)}, '06302_09-06-2024-06.35': {'04307': (0, 0), '79300': (14, 16), '71801': (55, 65), '04040': (148, 151), '60000': (230, 230)}, '06302_10-06-2024-06.35': {'04307': (0, 0), '79300': (14, 16), '71801': (55, 65), '04040': (148, 151), '60000': (230, 230)}, '06302_11-06-2024-06.35': {'04307': (0, 0), '79300': (14, 16), '71801': (55, 65), '04040': (148, 151), '60000': (230, 230)}, '06302_12-06-2024-06.35': {'04307': (0, 0), '79300': (14, 16), '71801': (55, 65), '04040': (148, 151), '60000': (230, 230)}, '06302_13-06-2024-06.35': {'04307': (0, 0), '79300': (14, 16), '71801': (55, 65), '04040': (148, 151), '60000': (230, 230)}, '06302_14-06-2024-06.35': {'04307': (0, 0), '79300': (14, 16), '71801': (55, 65), '04040': (148, 151), '60000': (230, 230)}, '06302_15-06-2024-06.35': {'04307': (0, 0), '79300': (14, 16), '71801': (55, 65), '04040': (148, 151), '60000': (230, 230)}, '06302_16-06-2024-06.35': {'04307': (0, 0), '79300': (14, 16), '71801': (55, 65), '04040': (148, 151), '60000': (230, 230)}, '06302_17-06-2024-06.35': {'04307': (0, 0), '79300': (14, 16), '71801': (55, 65), '04040': (148, 151), '60000': (230, 230)}, '06302_18-06-2024-06.35': {'04307': (0, 0), '79300': (14, 16), '71801': (55, 65), '04040': (148, 151), '60000': (230, 230)}, '06302_19-06-2024-06.35': {'04307': (0, 0), '79300': (14, 16), '71801': (55, 65), '04040': (148, 151), '60000': (230, 230)}, '06302_20-06-2024-06.35': {'04307': (0, 0), '79300': (14, 16), '71801': (55, 65), '04040': (148, 151), '60000': (230, 230)}, '06302_21-06-2024-06.35': {'04307': (0, 0), '79300': (14, 16), '71801': (55, 65), '04040': (148, 151), '60000': (230, 230)}, '06302_22-06-2024-06.35': {'04307': (0, 0), '79300': (14, 16), '71801': (55, 65), '04040': (148, 151), '60000': (230, 230)}, '06302_23-06-2024-06.35': {'04307': (0, 0), '79300': (14, 16), '71801': (55, 65), '04040': (148, 151), '60000': (230, 230)}, '06302_24-06-2024-06.35': {'04307': (0, 0), '79300': (14, 16), '71801': (55, 65), '04040': (148, 151), '60000': (230, 230)}, '06302_25-06-2024-06.35': {'04307': (0, 0), '79300': (14, 16), '71801': (55, 65), '04040': (148, 151), '60000': (230, 230)}, '06302_26-06-2024-06.35': {'04307': (0, 0), '79300': (14, 16), '71801': (55, 65), '04040': (148, 151), '60000': (230, 230)}, '06302_27-06-2024-06.35': {'04307': (0, 0), '79300': (14, 16), '71801': (55, 65), '04040': (148, 151), '60000': (230, 230)}, '06302_28-06-2024-06.35': {'04307': (0, 0), '79300': (14, 16), '71801': (55, 65), '04040': (148, 151), '60000': (230, 230)}, '06302_29-06-2024-06.35': {'04307': (0, 0), '79300': (14, 16), '71801': (55, 65), '04040': (148, 151), '60000': (230, 230)}, '06302_30-06-2024-06.35': {'04307': (0, 0), '79300': (14, 16), '71801': (55, 65), '04040': (148, 151), '60000': (230, 230)}, '06303_01-06-2024-10.30': {'60000': (0, 0), '04040': (74, 75), '71801': (165, 165)}, '06303_02-06-2024-10.30': {'60000': (0, 0), '04040': (74, 75), '71801': (165, 165)}, '06303_03-06-2024-10.30': {'60000': (0, 0), '04040': (74, 75), '71801': (165, 165)}, '06303_04-06-2024-10.30': {'60000': (0, 0), '04040': (74, 75), '71801': (165, 165)}, '06303_05-06-2024-10.30': {'60000': (0, 0), '04040': (74, 75), '71801': (165, 165)}, '06303_06-06-2024-10.30': {'60000': (0, 0), '04040': (74, 75), '71801': (165, 165)}, '06303_07-06-2024-10.30': {'60000': (0, 0), '04040': (74, 75), '71801': (165, 165)}, '06303_08-06-2024-10.30': {'60000': (0, 0), '04040': (74, 75), '71801': (165, 165)}, '06303_09-06-2024-10.30': {'60000': (0, 0), '04040': (74, 75), '71801': (165, 165)}, '06303_10-06-2024-10.30': {'60000': (0, 0), '04040': (74, 75), '71801': (165, 165)}, '06303_11-06-2024-10.30': {'60000': (0, 0), '04040': (74, 75), '71801': (165, 165)}, '06303_12-06-2024-10.30': {'60000': (0, 0), '04040': (74, 75), '71801': (165, 165)}, '06303_13-06-2024-10.30': {'60000': (0, 0), '04040': (74, 75), '71801': (165, 165)}, '06303_14-06-2024-10.30': {'60000': (0, 0), '04040': (74, 75), '71801': (165, 165)}, '06303_15-06-2024-10.30': {'60000': (0, 0), '04040': (74, 75), '71801': (165, 165)}, '06303_16-06-2024-10.30': {'60000': (0, 0), '04040': (74, 75), '71801': (165, 165)}, '06303_17-06-2024-10.30': {'60000': (0, 0), '04040': (74, 75), '71801': (165, 165)}, '06303_18-06-2024-10.30': {'60000': (0, 0), '04040': (74, 75), '71801': (165, 165)}, '06303_19-06-2024-10.30': {'60000': (0, 0), '04040': (74, 75), '71801': (165, 165)}, '06303_20-06-2024-10.30': {'60000': (0, 0), '04040': (74, 75), '71801': (165, 165)}, '06303_21-06-2024-10.30': {'60000': (0, 0), '04040': (74, 75), '71801': (165, 165)}, '06303_22-06-2024-10.30': {'60000': (0, 0), '04040': (74, 75), '71801': (165, 165)}, '06303_23-06-2024-10.30': {'60000': (0, 0), '04040': (74, 75), '71801': (165, 165)}, '06303_24-06-2024-10.30': {'60000': (0, 0), '04040': (74, 75), '71801': (165, 165)}, '06303_25-06-2024-10.30': {'60000': (0, 0), '04040': (74, 75), '71801': (165, 165)}, '06303_26-06-2024-10.30': {'60000': (0, 0), '04040': (74, 75), '71801': (165, 165)}, '06303_27-06-2024-10.30': {'60000': (0, 0), '04040': (74, 75), '71801': (165, 165)}, '06303_28-06-2024-10.30': {'60000': (0, 0), '04040': (74, 75), '71801': (165, 165)}, '06303_29-06-2024-10.30': {'60000': (0, 0), '04040': (74, 75), '71801': (165, 165)}, '06303_30-06-2024-10.30': {'60000': (0, 0), '04040': (74, 75), '71801': (165, 165)}, '06304_01-06-2024-10.00': {'71801': (0, 0), '71500': (32, 34), '78400': (59, 61), '04040': (102, 105), '70600': (129, 130), '70200': (168, 169), '60000': (197, 197)}, '06304_02-06-2024-10.00': {'71801': (0, 0), '71500': (32, 34), '78400': (59, 61), '04040': (102, 105), '70600': (129, 130), '70200': (168, 169), '60000': (197, 197)}, '06304_03-06-2024-10.00': {'71801': (0, 0), '71500': (32, 34), '78400': (59, 61), '04040': (102, 105), '70600': (129, 130), '70200': (168, 169), '60000': (197, 197)}, '06304_04-06-2024-10.00': {'71801': (0, 0), '71500': (32, 34), '78400': (59, 61), '04040': (102, 105), '70600': (129, 130), '70200': (168, 169), '60000': (197, 197)}, '06304_05-06-2024-10.00': {'71801': (0, 0), '71500': (32, 34), '78400': (59, 61), '04040': (102, 105), '70600': (129, 130), '70200': (168, 169), '60000': (197, 197)}, '06304_06-06-2024-10.00': {'71801': (0, 0), '71500': (32, 34), '78400': (59, 61), '04040': (102, 105), '70600': (129, 130), '70200': (168, 169), '60000': (197, 197)}, '06304_07-06-2024-10.00': {'71801': (0, 0), '71500': (32, 34), '78400': (59, 61), '04040': (102, 105), '70600': (129, 130), '70200': (168, 169), '60000': (197, 197)}, '06304_08-06-2024-10.00': {'71801': (0, 0), '71500': (32, 34), '78400': (59, 61), '04040': (102, 105), '70600': (129, 130), '70200': (168, 169), '60000': (197, 197)}, '06304_09-06-2024-10.00': {'71801': (0, 0), '71500': (32, 34), '78400': (59, 61), '04040': (102, 105), '70600': (129, 130), '70200': (168, 169), '60000': (197, 197)}, '06304_10-06-2024-10.00': {'71801': (0, 0), '71500': (32, 34), '78400': (59, 61), '04040': (102, 105), '70600': (129, 130), '70200': (168, 169), '60000': (197, 197)}, '06304_11-06-2024-10.00': {'71801': (0, 0), '71500': (32, 34), '78400': (59, 61), '04040': (102, 105), '70600': (129, 130), '70200': (168, 169), '60000': (197, 197)}, '06304_12-06-2024-10.00': {'71801': (0, 0), '71500': (32, 34), '78400': (59, 61), '04040': (102, 105), '70600': (129, 130), '70200': (168, 169), '60000': (197, 197)}, '06304_13-06-2024-10.00': {'71801': (0, 0), '71500': (32, 34), '78400': (59, 61), '04040': (102, 105), '70600': (129, 130), '70200': (168, 169), '60000': (197, 197)}, '06304_14-06-2024-10.00': {'71801': (0, 0), '71500': (32, 34), '78400': (59, 61), '04040': (102, 105), '70600': (129, 130), '70200': (168, 169), '60000': (197, 197)}, '06304_15-06-2024-10.00': {'71801': (0, 0), '71500': (32, 34), '78400': (59, 61), '04040': (102, 105), '70600': (129, 130), '70200': (168, 169), '60000': (197, 197)}, '06304_16-06-2024-10.00': {'71801': (0, 0), '71500': (32, 34), '78400': (59, 61), '04040': (102, 105), '70600': (129, 130), '70200': (168, 169), '60000': (197, 197)}, '06304_17-06-2024-10.00': {'71801': (0, 0), '71500': (32, 34), '78400': (59, 61), '04040': (102, 105), '70600': (129, 130), '70200': (168, 169), '60000': (197, 197)}, '06304_18-06-2024-10.00': {'71801': (0, 0), '71500': (32, 34), '78400': (59, 61), '04040': (102, 105), '70600': (129, 130), '70200': (168, 169), '60000': (197, 197)}, '06304_19-06-2024-10.00': {'71801': (0, 0), '71500': (32, 34), '78400': (59, 61), '04040': (102, 105), '70600': (129, 130), '70200': (168, 169), '60000': (197, 197)}, '06304_20-06-2024-10.00': {'71801': (0, 0), '71500': (32, 34), '78400': (59, 61), '04040': (102, 105), '70600': (129, 130), '70200': (168, 169), '60000': (197, 197)}, '06304_21-06-2024-10.00': {'71801': (0, 0), '71500': (32, 34), '78400': (59, 61), '04040': (102, 105), '70600': (129, 130), '70200': (168, 169), '60000': (197, 197)}, '06304_22-06-2024-10.00': {'71801': (0, 0), '71500': (32, 34), '78400': (59, 61), '04040': (102, 105), '70600': (129, 130), '70200': (168, 169), '60000': (197, 197)}, '06304_23-06-2024-10.00': {'71801': (0, 0), '71500': (32, 34), '78400': (59, 61), '04040': (102, 105), '70600': (129, 130), '70200': (168, 169), '60000': (197, 197)}, '06304_24-06-2024-10.00': {'71801': (0, 0), '71500': (32, 34), '78400': (59, 61), '04040': (102, 105), '70600': (129, 130), '70200': (168, 169), '60000': (197, 197)}, '06304_25-06-2024-10.00': {'71801': (0, 0), '71500': (32, 34), '78400': (59, 61), '04040': (102, 105), '70600': (129, 130), '70200': (168, 169), '60000': (197, 197)}, '06304_26-06-2024-10.00': {'71801': (0, 0), '71500': (32, 34), '78400': (59, 61), '04040': (102, 105), '70600': (129, 130), '70200': (168, 169), '60000': (197, 197)}, '06304_27-06-2024-10.00': {'71801': (0, 0), '71500': (32, 34), '78400': (59, 61), '04040': (102, 105), '70600': (129, 130), '70200': (168, 169), '60000': (197, 197)}, '06304_28-06-2024-10.00': {'71801': (0, 0), '71500': (32, 34), '78400': (59, 61), '04040': (102, 105), '70600': (129, 130), '70200': (168, 169), '60000': (197, 197)}, '06304_29-06-2024-10.00': {'71801': (0, 0), '71500': (32, 34), '78400': (59, 61), '04040': (102, 105), '70600': (129, 130), '70200': (168, 169), '60000': (197, 197)}, '06304_30-06-2024-10.00': {'71801': (0, 0), '71500': (32, 34), '78400': (59, 61), '04040': (102, 105), '70600': (129, 130), '70200': (168, 169), '60000': (197, 197)}, '06306_01-06-2024-15.00': {'71801': (0, 0), '04040': (83, 86), '60000': (165, 165)}, '06306_02-06-2024-15.00': {'71801': (0, 0), '04040': (83, 86), '60000': (165, 165)}, '06306_03-06-2024-15.00': {'71801': (0, 0), '04040': (83, 86), '60000': (165, 165)}, '06306_04-06-2024-15.00': {'71801': (0, 0), '04040': (83, 86), '60000': (165, 165)}, '06306_05-06-2024-15.00': {'71801': (0, 0), '04040': (83, 86), '60000': (165, 165)}, '06306_06-06-2024-15.00': {'71801': (0, 0), '04040': (83, 86), '60000': (165, 165)}, '06306_07-06-2024-15.00': {'71801': (0, 0), '04040': (83, 86), '60000': (165, 165)}, '06306_08-06-2024-15.00': {'71801': (0, 0), '04040': (83, 86), '60000': (165, 165)}, '06306_09-06-2024-15.00': {'71801': (0, 0), '04040': (83, 86), '60000': (165, 165)}, '06306_10-06-2024-15.00': {'71801': (0, 0), '04040': (83, 86), '60000': (165, 165)}, '06306_11-06-2024-15.00': {'71801': (0, 0), '04040': (83, 86), '60000': (165, 165)}, '06306_12-06-2024-15.00': {'71801': (0, 0), '04040': (83, 86), '60000': (165, 165)}, '06306_13-06-2024-15.00': {'71801': (0, 0), '04040': (83, 86), '60000': (165, 165)}, '06306_14-06-2024-15.00': {'71801': (0, 0), '04040': (83, 86), '60000': (165, 165)}, '06306_15-06-2024-15.00': {'71801': (0, 0), '04040': (83, 86), '60000': (165, 165)}, '06306_16-06-2024-15.00': {'71801': (0, 0), '04040': (83, 86), '60000': (165, 165)}, '06306_17-06-2024-15.00': {'71801': (0, 0), '04040': (83, 86), '60000': (165, 165)}, '06306_18-06-2024-15.00': {'71801': (0, 0), '04040': (83, 86), '60000': (165, 165)}, '06306_19-06-2024-15.00': {'71801': (0, 0), '04040': (83, 86), '60000': (165, 165)}, '06306_20-06-2024-15.00': {'71801': (0, 0), '04040': (83, 86), '60000': (165, 165)}, '06306_21-06-2024-15.00': {'71801': (0, 0), '04040': (83, 86), '60000': (165, 165)}, '06306_22-06-2024-15.00': {'71801': (0, 0), '04040': (83, 86), '60000': (165, 165)}, '06306_23-06-2024-15.00': {'71801': (0, 0), '04040': (83, 86), '60000': (165, 165)}, '06306_24-06-2024-15.00': {'71801': (0, 0), '04040': (83, 86), '60000': (165, 165)}, '06306_25-06-2024-15.00': {'71801': (0, 0), '04040': (83, 86), '60000': (165, 165)}, '06306_26-06-2024-15.00': {'71801': (0, 0), '04040': (83, 86), '60000': (165, 165)}, '06306_27-06-2024-15.00': {'71801': (0, 0), '04040': (83, 86), '60000': (165, 165)}, '06306_28-06-2024-15.00': {'71801': (0, 0), '04040': (83, 86), '60000': (165, 165)}, '06306_29-06-2024-15.00': {'71801': (0, 0), '04040': (83, 86), '60000': (165, 165)}, '06306_30-06-2024-15.00': {'71801': (0, 0), '04040': (83, 86), '60000': (165, 165)}, '06307_01-06-2024-18.00': {'60000': (0, 0), '71801': (150, 150)}, '06307_02-06-2024-18.00': {'60000': (0, 0), '71801': (150, 150)}, '06307_03-06-2024-18.00': {'60000': (0, 0), '71801': (150, 150)}, '06307_04-06-2024-18.00': {'60000': (0, 0), '71801': (150, 150)}, '06307_05-06-2024-18.00': {'60000': (0, 0), '71801': (150, 150)}, '06307_06-06-2024-18.00': {'60000': (0, 0), '71801': (150, 150)}, '06307_07-06-2024-18.00': {'60000': (0, 0), '71801': (150, 150)}, '06307_08-06-2024-18.00': {'60000': (0, 0), '71801': (150, 150)}, '06307_09-06-2024-18.00': {'60000': (0, 0), '71801': (150, 150)}, '06307_10-06-2024-18.00': {'60000': (0, 0), '71801': (150, 150)}, '06307_11-06-2024-18.00': {'60000': (0, 0), '71801': (150, 150)}, '06307_12-06-2024-18.00': {'60000': (0, 0), '71801': (150, 150)}, '06307_13-06-2024-18.00': {'60000': (0, 0), '71801': (150, 150)}, '06307_14-06-2024-18.00': {'60000': (0, 0), '71801': (150, 150)}, '06307_15-06-2024-18.00': {'60000': (0, 0), '71801': (150, 150)}, '06307_16-06-2024-18.00': {'60000': (0, 0), '71801': (150, 150)}, '06307_17-06-2024-18.00': {'60000': (0, 0), '71801': (150, 150)}, '06307_18-06-2024-18.00': {'60000': (0, 0), '71801': (150, 150)}, '06307_19-06-2024-18.00': {'60000': (0, 0), '71801': (150, 150)}, '06307_20-06-2024-18.00': {'60000': (0, 0), '71801': (150, 150)}, '06307_21-06-2024-18.00': {'60000': (0, 0), '71801': (150, 150)}, '06307_22-06-2024-18.00': {'60000': (0, 0), '71801': (150, 150)}, '06307_23-06-2024-18.00': {'60000': (0, 0), '71801': (150, 150)}, '06307_24-06-2024-18.00': {'60000': (0, 0), '71801': (150, 150)}, '06307_25-06-2024-18.00': {'60000': (0, 0), '71801': (150, 150)}, '06307_26-06-2024-18.00': {'60000': (0, 0), '71801': (150, 150)}, '06307_27-06-2024-18.00': {'60000': (0, 0), '71801': (150, 150)}, '06307_28-06-2024-18.00': {'60000': (0, 0), '71801': (150, 150)}, '06307_29-06-2024-18.00': {'60000': (0, 0), '71801': (150, 150)}, '06307_30-06-2024-18.00': {'60000': (0, 0), '71801': (150, 150)}, '06309_01-06-2024-19.30': {'60000': (0, 0), '70200': (23, 24), '70600': (59, 60), '04040': (85, 86), '78400': (129, 131), '71500': (158, 160), '71801': (196, 206), '79300': (244, 246), '04307': (261, 261)}, '06309_02-06-2024-19.30': {'60000': (0, 0), '70200': (23, 24), '70600': (59, 60), '04040': (85, 86), '78400': (129, 131), '71500': (158, 160), '71801': (196, 206), '79300': (244, 246), '04307': (261, 261)}, '06309_03-06-2024-19.30': {'60000': (0, 0), '70200': (23, 24), '70600': (59, 60), '04040': (85, 86), '78400': (129, 131), '71500': (158, 160), '71801': (196, 206), '79300': (244, 246), '04307': (261, 261)}, '06309_04-06-2024-19.30': {'60000': (0, 0), '70200': (23, 24), '70600': (59, 60), '04040': (85, 86), '78400': (129, 131), '71500': (158, 160), '71801': (196, 206), '79300': (244, 246), '04307': (261, 261)}, '06309_05-06-2024-19.30': {'60000': (0, 0), '70200': (23, 24), '70600': (59, 60), '04040': (85, 86), '78400': (129, 131), '71500': (158, 160), '71801': (196, 206), '79300': (244, 246), '04307': (261, 261)}, '06309_06-06-2024-19.30': {'60000': (0, 0), '70200': (23, 24), '70600': (59, 60), '04040': (85, 86), '78400': (129, 131), '71500': (158, 160), '71801': (196, 206), '79300': (244, 246), '04307': (261, 261)}, '06309_07-06-2024-19.30': {'60000': (0, 0), '70200': (23, 24), '70600': (59, 60), '04040': (85, 86), '78400': (129, 131), '71500': (158, 160), '71801': (196, 206), '79300': (244, 246), '04307': (261, 261)}, '06309_08-06-2024-19.30': {'60000': (0, 0), '70200': (23, 24), '70600': (59, 60), '04040': (85, 86), '78400': (129, 131), '71500': (158, 160), '71801': (196, 206), '79300': (244, 246), '04307': (261, 261)}, '06309_09-06-2024-19.30': {'60000': (0, 0), '70200': (23, 24), '70600': (59, 60), '04040': (85, 86), '78400': (129, 131), '71500': (158, 160), '71801': (196, 206), '79300': (244, 246), '04307': (261, 261)}, '06309_10-06-2024-19.30': {'60000': (0, 0), '70200': (23, 24), '70600': (59, 60), '04040': (85, 86), '78400': (129, 131), '71500': (158, 160), '71801': (196, 206), '79300': (244, 246), '04307': (261, 261)}, '06309_11-06-2024-19.30': {'60000': (0, 0), '70200': (23, 24), '70600': (59, 60), '04040': (85, 86), '78400': (129, 131), '71500': (158, 160), '71801': (196, 206), '79300': (244, 246), '04307': (261, 261)}, '06309_12-06-2024-19.30': {'60000': (0, 0), '70200': (23, 24), '70600': (59, 60), '04040': (85, 86), '78400': (129, 131), '71500': (158, 160), '71801': (196, 206), '79300': (244, 246), '04307': (261, 261)}, '06309_13-06-2024-19.30': {'60000': (0, 0), '70200': (23, 24), '70600': (59, 60), '04040': (85, 86), '78400': (129, 131), '71500': (158, 160), '71801': (196, 206), '79300': (244, 246), '04307': (261, 261)}, '06309_14-06-2024-19.30': {'60000': (0, 0), '70200': (23, 24), '70600': (59, 60), '04040': (85, 86), '78400': (129, 131), '71500': (158, 160), '71801': (196, 206), '79300': (244, 246), '04307': (261, 261)}, '06309_15-06-2024-19.30': {'60000': (0, 0), '70200': (23, 24), '70600': (59, 60), '04040': (85, 86), '78400': (129, 131), '71500': (158, 160), '71801': (196, 206), '79300': (244, 246), '04307': (261, 261)}, '06309_16-06-2024-19.30': {'60000': (0, 0), '70200': (23, 24), '70600': (59, 60), '04040': (85, 86), '78400': (129, 131), '71500': (158, 160), '71801': (196, 206), '79300': (244, 246), '04307': (261, 261)}, '06309_17-06-2024-19.30': {'60000': (0, 0), '70200': (23, 24), '70600': (59, 60), '04040': (85, 86), '78400': (129, 131), '71500': (158, 160), '71801': (196, 206), '79300': (244, 246), '04307': (261, 261)}, '06309_18-06-2024-19.30': {'60000': (0, 0), '70200': (23, 24), '70600': (59, 60), '04040': (85, 86), '78400': (129, 131), '71500': (158, 160), '71801': (196, 206), '79300': (244, 246), '04307': (261, 261)}, '06309_19-06-2024-19.30': {'60000': (0, 0), '70200': (23, 24), '70600': (59, 60), '04040': (85, 86), '78400': (129, 131), '71500': (158, 160), '71801': (196, 206), '79300': (244, 246), '04307': (261, 261)}, '06309_20-06-2024-19.30': {'60000': (0, 0), '70200': (23, 24), '70600': (59, 60), '04040': (85, 86), '78400': (129, 131), '71500': (158, 160), '71801': (196, 206), '79300': (244, 246), '04307': (261, 261)}, '06309_21-06-2024-19.30': {'60000': (0, 0), '70200': (23, 24), '70600': (59, 60), '04040': (85, 86), '78400': (129, 131), '71500': (158, 160), '71801': (196, 206), '79300': (244, 246), '04307': (261, 261)}, '06309_22-06-2024-19.30': {'60000': (0, 0), '70200': (23, 24), '70600': (59, 60), '04040': (85, 86), '78400': (129, 131), '71500': (158, 160), '71801': (196, 206), '79300': (244, 246), '04307': (261, 261)}, '06309_23-06-2024-19.30': {'60000': (0, 0), '70200': (23, 24), '70600': (59, 60), '04040': (85, 86), '78400': (129, 131), '71500': (158, 160), '71801': (196, 206), '79300': (244, 246), '04307': (261, 261)}, '06309_24-06-2024-19.30': {'60000': (0, 0), '70200': (23, 24), '70600': (59, 60), '04040': (85, 86), '78400': (129, 131), '71500': (158, 160), '71801': (196, 206), '79300': (244, 246), '04307': (261, 261)}, '06309_25-06-2024-19.30': {'60000': (0, 0), '70200': (23, 24), '70600': (59, 60), '04040': (85, 86), '78400': (129, 131), '71500': (158, 160), '71801': (196, 206), '79300': (244, 246), '04307': (261, 261)}, '06309_26-06-2024-19.30': {'60000': (0, 0), '70200': (23, 24), '70600': (59, 60), '04040': (85, 86), '78400': (129, 131), '71500': (158, 160), '71801': (196, 206), '79300': (244, 246), '04307': (261, 261)}, '06309_27-06-2024-19.30': {'60000': (0, 0), '70200': (23, 24), '70600': (59, 60), '04040': (85, 86), '78400': (129, 131), '71500': (158, 160), '71801': (196, 206), '79300': (244, 246), '04307': (261, 261)}, '06309_28-06-2024-19.30': {'60000': (0, 0), '70200': (23, 24), '70600': (59, 60), '04040': (85, 86), '78400': (129, 131), '71500': (158, 160), '71801': (196, 206), '79300': (244, 246), '04307': (261, 261)}, '06309_29-06-2024-19.30': {'60000': (0, 0), '70200': (23, 24), '70600': (59, 60), '04040': (85, 86), '78400': (129, 131), '71500': (158, 160), '71801': (196, 206), '79300': (244, 246), '04307': (261, 261)}, '06309_30-06-2024-19.30': {'60000': (0, 0), '70200': (23, 24), '70600': (59, 60), '04040': (85, 86), '78400': (129, 131), '71500': (158, 160), '71801': (196, 206), '79300': (244, 246), '04307': (261, 261)}, '06310_01-06-2024-21.00': {'71801': (0, 0), '04040': (84, 87), '60000': (165, 165)}, '06310_02-06-2024-21.00': {'71801': (0, 0), '04040': (84, 87), '60000': (165, 165)}, '06310_03-06-2024-21.00': {'71801': (0, 0), '04040': (84, 87), '60000': (165, 165)}, '06310_04-06-2024-21.00': {'71801': (0, 0), '04040': (84, 87), '60000': (165, 165)}, '06310_05-06-2024-21.00': {'71801': (0, 0), '04040': (84, 87), '60000': (165, 165)}, '06310_06-06-2024-21.00': {'71801': (0, 0), '04040': (84, 87), '60000': (165, 165)}, '06310_07-06-2024-21.00': {'71801': (0, 0), '04040': (84, 87), '60000': (165, 165)}, '06310_08-06-2024-21.00': {'71801': (0, 0), '04040': (84, 87), '60000': (165, 165)}, '06310_09-06-2024-21.00': {'71801': (0, 0), '04040': (84, 87), '60000': (165, 165)}, '06310_10-06-2024-21.00': {'71801': (0, 0), '04040': (84, 87), '60000': (165, 165)}, '06310_11-06-2024-21.00': {'71801': (0, 0), '04040': (84, 87), '60000': (165, 165)}, '06310_12-06-2024-21.00': {'71801': (0, 0), '04040': (84, 87), '60000': (165, 165)}, '06310_13-06-2024-21.00': {'71801': (0, 0), '04040': (84, 87), '60000': (165, 165)}, '06310_14-06-2024-21.00': {'71801': (0, 0), '04040': (84, 87), '60000': (165, 165)}, '06310_15-06-2024-21.00': {'71801': (0, 0), '04040': (84, 87), '60000': (165, 165)}, '06310_16-06-2024-21.00': {'71801': (0, 0), '04040': (84, 87), '60000': (165, 165)}, '06310_17-06-2024-21.00': {'71801': (0, 0), '04040': (84, 87), '60000': (165, 165)}, '06310_18-06-2024-21.00': {'71801': (0, 0), '04040': (84, 87), '60000': (165, 165)}, '06310_19-06-2024-21.00': {'71801': (0, 0), '04040': (84, 87), '60000': (165, 165)}, '06310_20-06-2024-21.00': {'71801': (0, 0), '04040': (84, 87), '60000': (165, 165)}, '06310_21-06-2024-21.00': {'71801': (0, 0), '04040': (84, 87), '60000': (165, 165)}, '06310_22-06-2024-21.00': {'71801': (0, 0), '04040': (84, 87), '60000': (165, 165)}, '06310_23-06-2024-21.00': {'71801': (0, 0), '04040': (84, 87), '60000': (165, 165)}, '06310_24-06-2024-21.00': {'71801': (0, 0), '04040': (84, 87), '60000': (165, 165)}, '06310_25-06-2024-21.00': {'71801': (0, 0), '04040': (84, 87), '60000': (165, 165)}, '06310_26-06-2024-21.00': {'71801': (0, 0), '04040': (84, 87), '60000': (165, 165)}, '06310_27-06-2024-21.00': {'71801': (0, 0), '04040': (84, 87), '60000': (165, 165)}, '06310_28-06-2024-21.00': {'71801': (0, 0), '04040': (84, 87), '60000': (165, 165)}, '06310_29-06-2024-21.00': {'71801': (0, 0), '04040': (84, 87), '60000': (165, 165)}, '06310_30-06-2024-21.00': {'71801': (0, 0), '04040': (84, 87), '60000': (165, 165)}, '09725_01-06-2024-13.25': {'60000': (0, 0), '70200': (23, 25), '04040': (82, 85), '71500': (139, 141), '71801': (177, 189), '79300': (228, 231), '04307': (245, 248), '00000': (478, 478)}, '09725_02-06-2024-13.25': {'60000': (0, 0), '70200': (23, 25), '04040': (82, 85), '71500': (139, 141), '71801': (177, 189), '79300': (228, 231), '04307': (245, 248), '00000': (478, 478)}, '09725_03-06-2024-13.25': {'60000': (0, 0), '70200': (23, 25), '04040': (82, 85), '71500': (139, 141), '71801': (177, 189), '79300': (228, 231), '04307': (245, 248), '00000': (478, 478)}, '09725_04-06-2024-13.25': {'60000': (0, 0), '70200': (23, 25), '04040': (82, 85), '71500': (139, 141), '71801': (177, 189), '79300': (228, 231), '04307': (245, 248), '00000': (478, 478)}, '09725_05-06-2024-13.25': {'60000': (0, 0), '70200': (23, 25), '04040': (82, 85), '71500': (139, 141), '71801': (177, 189), '79300': (228, 231), '04307': (245, 248), '00000': (478, 478)}, '09725_06-06-2024-13.25': {'60000': (0, 0), '70200': (23, 25), '04040': (82, 85), '71500': (139, 141), '71801': (177, 189), '79300': (228, 231), '04307': (245, 248), '00000': (478, 478)}, '09725_07-06-2024-13.25': {'60000': (0, 0), '70200': (23, 25), '04040': (82, 85), '71500': (139, 141), '71801': (177, 189), '79300': (228, 231), '04307': (245, 248), '00000': (478, 478)}, '09725_08-06-2024-13.25': {'60000': (0, 0), '70200': (23, 25), '04040': (82, 85), '71500': (139, 141), '71801': (177, 189), '79300': (228, 231), '04307': (245, 248), '00000': (478, 478)}, '09725_09-06-2024-13.25': {'60000': (0, 0), '70200': (23, 25), '04040': (82, 85), '71500': (139, 141), '71801': (177, 189), '79300': (228, 231), '04307': (245, 248), '00000': (478, 478)}, '09725_10-06-2024-13.25': {'60000': (0, 0), '70200': (23, 25), '04040': (82, 85), '71500': (139, 141), '71801': (177, 189), '79300': (228, 231), '04307': (245, 248), '00000': (478, 478)}, '09725_11-06-2024-13.25': {'60000': (0, 0), '70200': (23, 25), '04040': (82, 85), '71500': (139, 141), '71801': (177, 189), '79300': (228, 231), '04307': (245, 248), '00000': (478, 478)}, '09725_12-06-2024-13.25': {'60000': (0, 0), '70200': (23, 25), '04040': (82, 85), '71500': (139, 141), '71801': (177, 189), '79300': (228, 231), '04307': (245, 248), '00000': (478, 478)}, '09725_13-06-2024-13.25': {'60000': (0, 0), '70200': (23, 25), '04040': (82, 85), '71500': (139, 141), '71801': (177, 189), '79300': (228, 231), '04307': (245, 248), '00000': (478, 478)}, '09725_14-06-2024-13.25': {'60000': (0, 0), '70200': (23, 25), '04040': (82, 85), '71500': (139, 141), '71801': (177, 189), '79300': (228, 231), '04307': (245, 248), '00000': (478, 478)}, '09725_15-06-2024-13.25': {'60000': (0, 0), '70200': (23, 25), '04040': (82, 85), '71500': (139, 141), '71801': (177, 189), '79300': (228, 231), '04307': (245, 248), '00000': (478, 478)}, '09725_16-06-2024-13.25': {'60000': (0, 0), '70200': (23, 25), '04040': (82, 85), '71500': (139, 141), '71801': (177, 189), '79300': (228, 231), '04307': (245, 248), '00000': (478, 478)}, '09725_17-06-2024-13.25': {'60000': (0, 0), '70200': (23, 25), '04040': (82, 85), '71500': (139, 141), '71801': (177, 189), '79300': (228, 231), '04307': (245, 248), '00000': (478, 478)}, '09725_18-06-2024-13.25': {'60000': (0, 0), '70200': (23, 25), '04040': (82, 85), '71500': (139, 141), '71801': (177, 189), '79300': (228, 231), '04307': (245, 248), '00000': (478, 478)}, '09725_19-06-2024-13.25': {'60000': (0, 0), '70200': (23, 25), '04040': (82, 85), '71500': (139, 141), '71801': (177, 189), '79300': (228, 231), '04307': (245, 248), '00000': (478, 478)}, '09725_20-06-2024-13.25': {'60000': (0, 0), '70200': (23, 25), '04040': (82, 85), '71500': (139, 141), '71801': (177, 189), '79300': (228, 231), '04307': (245, 248), '00000': (478, 478)}, '09725_21-06-2024-13.25': {'60000': (0, 0), '70200': (23, 25), '04040': (82, 85), '71500': (139, 141), '71801': (177, 189), '79300': (228, 231), '04307': (245, 248), '00000': (478, 478)}, '09725_22-06-2024-13.25': {'60000': (0, 0), '70200': (23, 25), '04040': (82, 85), '71500': (139, 141), '71801': (177, 189), '79300': (228, 231), '04307': (245, 248), '00000': (478, 478)}, '09725_23-06-2024-13.25': {'60000': (0, 0), '70200': (23, 25), '04040': (82, 85), '71500': (139, 141), '71801': (177, 189), '79300': (228, 231), '04307': (245, 248), '00000': (478, 478)}, '09725_24-06-2024-13.25': {'60000': (0, 0), '70200': (23, 25), '04040': (82, 85), '71500': (139, 141), '71801': (177, 189), '79300': (228, 231), '04307': (245, 248), '00000': (478, 478)}, '09725_25-06-2024-13.25': {'60000': (0, 0), '70200': (23, 25), '04040': (82, 85), '71500': (139, 141), '71801': (177, 189), '79300': (228, 231), '04307': (245, 248), '00000': (478, 478)}, '09725_26-06-2024-13.25': {'60000': (0, 0), '70200': (23, 25), '04040': (82, 85), '71500': (139, 141), '71801': (177, 189), '79300': (228, 231), '04307': (245, 248), '00000': (478, 478)}, '09725_27-06-2024-13.25': {'60000': (0, 0), '70200': (23, 25), '04040': (82, 85), '71500': (139, 141), '71801': (177, 189), '79300': (228, 231), '04307': (245, 248), '00000': (478, 478)}, '09725_28-06-2024-13.25': {'60000': (0, 0), '70200': (23, 25), '04040': (82, 85), '71500': (139, 141), '71801': (177, 189), '79300': (228, 231), '04307': (245, 248), '00000': (478, 478)}, '09725_29-06-2024-13.25': {'60000': (0, 0), '70200': (23, 25), '04040': (82, 85), '71500': (139, 141), '71801': (177, 189), '79300': (228, 231), '04307': (245, 248), '00000': (478, 478)}, '09725_30-06-2024-13.25': {'60000': (0, 0), '70200': (23, 25), '04040': (82, 85), '71500': (139, 141), '71801': (177, 189), '79300': (228, 231), '04307': (245, 248), '00000': (478, 478)}, '09730_01-06-2024-12.50': {'00000': (0, 0), '04307': (21, 24), '79300': (38, 41), '71801': (80, 92), '71500': (123, 125), '04040': (184, 187), '60000': (267, 267)}, '09730_02-06-2024-12.50': {'00000': (0, 0), '04307': (21, 24), '79300': (38, 41), '71801': (80, 92), '71500': (123, 125), '04040': (184, 187), '60000': (267, 267)}, '09730_03-06-2024-12.50': {'00000': (0, 0), '04307': (21, 24), '79300': (38, 41), '71801': (80, 92), '71500': (123, 125), '04040': (184, 187), '60000': (267, 267)}, '09730_04-06-2024-12.50': {'00000': (0, 0), '04307': (21, 24), '79300': (38, 41), '71801': (80, 92), '71500': (123, 125), '04040': (184, 187), '60000': (267, 267)}, '09730_05-06-2024-12.50': {'00000': (0, 0), '04307': (21, 24), '79300': (38, 41), '71801': (80, 92), '71500': (123, 125), '04040': (184, 187), '60000': (267, 267)}, '09730_06-06-2024-12.50': {'00000': (0, 0), '04307': (21, 24), '79300': (38, 41), '71801': (80, 92), '71500': (123, 125), '04040': (184, 187), '60000': (267, 267)}, '09730_07-06-2024-12.50': {'00000': (0, 0), '04307': (21, 24), '79300': (38, 41), '71801': (80, 92), '71500': (123, 125), '04040': (184, 187), '60000': (267, 267)}, '09730_08-06-2024-12.50': {'00000': (0, 0), '04307': (21, 24), '79300': (38, 41), '71801': (80, 92), '71500': (123, 125), '04040': (184, 187), '60000': (267, 267)}, '09730_09-06-2024-12.50': {'00000': (0, 0), '04307': (21, 24), '79300': (38, 41), '71801': (80, 92), '71500': (123, 125), '04040': (184, 187), '60000': (267, 267)}, '09730_10-06-2024-12.50': {'00000': (0, 0), '04307': (21, 24), '79300': (38, 41), '71801': (80, 92), '71500': (123, 125), '04040': (184, 187), '60000': (267, 267)}, '09730_11-06-2024-12.50': {'00000': (0, 0), '04307': (21, 24), '79300': (38, 41), '71801': (80, 92), '71500': (123, 125), '04040': (184, 187), '60000': (267, 267)}, '09730_12-06-2024-12.50': {'00000': (0, 0), '04307': (21, 24), '79300': (38, 41), '71801': (80, 92), '71500': (123, 125), '04040': (184, 187), '60000': (267, 267)}, '09730_13-06-2024-12.50': {'00000': (0, 0), '04307': (21, 24), '79300': (38, 41), '71801': (80, 92), '71500': (123, 125), '04040': (184, 187), '60000': (267, 267)}, '09730_14-06-2024-12.50': {'00000': (0, 0), '04307': (21, 24), '79300': (38, 41), '71801': (80, 92), '71500': (123, 125), '04040': (184, 187), '60000': (267, 267)}, '09730_15-06-2024-12.50': {'00000': (0, 0), '04307': (21, 24), '79300': (38, 41), '71801': (80, 92), '71500': (123, 125), '04040': (184, 187), '60000': (267, 267)}, '09730_16-06-2024-12.50': {'00000': (0, 0), '04307': (21, 24), '79300': (38, 41), '71801': (80, 92), '71500': (123, 125), '04040': (184, 187), '60000': (267, 267)}, '09730_17-06-2024-12.50': {'00000': (0, 0), '04307': (21, 24), '79300': (38, 41), '71801': (80, 92), '71500': (123, 125), '04040': (184, 187), '60000': (267, 267)}, '09730_18-06-2024-12.50': {'00000': (0, 0), '04307': (21, 24), '79300': (38, 41), '71801': (80, 92), '71500': (123, 125), '04040': (184, 187), '60000': (267, 267)}, '09730_19-06-2024-12.50': {'00000': (0, 0), '04307': (21, 24), '79300': (38, 41), '71801': (80, 92), '71500': (123, 125), '04040': (184, 187), '60000': (267, 267)}, '09730_20-06-2024-12.50': {'00000': (0, 0), '04307': (21, 24), '79300': (38, 41), '71801': (80, 92), '71500': (123, 125), '04040': (184, 187), '60000': (267, 267)}, '09730_21-06-2024-12.50': {'00000': (0, 0), '04307': (21, 24), '79300': (38, 41), '71801': (80, 92), '71500': (123, 125), '04040': (184, 187), '60000': (267, 267)}, '09730_22-06-2024-12.50': {'00000': (0, 0), '04307': (21, 24), '79300': (38, 41), '71801': (80, 92), '71500': (123, 125), '04040': (184, 187), '60000': (267, 267)}, '09730_23-06-2024-12.50': {'00000': (0, 0), '04307': (21, 24), '79300': (38, 41), '71801': (80, 92), '71500': (123, 125), '04040': (184, 187), '60000': (267, 267)}, '09730_24-06-2024-12.50': {'00000': (0, 0), '04307': (21, 24), '79300': (38, 41), '71801': (80, 92), '71500': (123, 125), '04040': (184, 187), '60000': (267, 267)}, '09730_25-06-2024-12.50': {'00000': (0, 0), '04307': (21, 24), '79300': (38, 41), '71801': (80, 92), '71500': (123, 125), '04040': (184, 187), '60000': (267, 267)}, '09730_26-06-2024-12.50': {'00000': (0, 0), '04307': (21, 24), '79300': (38, 41), '71801': (80, 92), '71500': (123, 125), '04040': (184, 187), '60000': (267, 267)}, '09730_27-06-2024-12.50': {'00000': (0, 0), '04307': (21, 24), '79300': (38, 41), '71801': (80, 92), '71500': (123, 125), '04040': (184, 187), '60000': (267, 267)}, '09730_28-06-2024-12.50': {'00000': (0, 0), '04307': (21, 24), '79300': (38, 41), '71801': (80, 92), '71500': (123, 125), '04040': (184, 187), '60000': (267, 267)}, '09730_29-06-2024-12.50': {'00000': (0, 0), '04307': (21, 24), '79300': (38, 41), '71801': (80, 92), '71500': (123, 125), '04040': (184, 187), '60000': (267, 267)}, '09730_30-06-2024-12.50': {'00000': (0, 0), '04307': (21, 24), '79300': (38, 41), '71801': (80, 92), '71500': (123, 125), '04040': (184, 187), '60000': (267, 267)}}\n"
     ]
    }
   ],
   "source": [
    "result_dict = {}\n",
    "\n",
    "grouped = df_stops.groupby(\"service_id\")\n",
    "\n",
    "for name, group in grouped:\n",
    "    sub_dict = {}\n",
    "    for index, row in group.iterrows():\n",
    "        sub_dict[row['stop_id']] = (row['arrival'], row['departure'])\n",
    "    result_dict[name] = sub_dict\n",
    "\n",
    "print(result_dict)"
   ],
   "metadata": {
    "collapsed": false,
    "ExecuteTime": {
     "end_time": "2024-03-06T13:04:49.721826Z",
     "start_time": "2024-03-06T13:04:49.611329Z"
    }
   },
   "id": "44a3ed89b8b9d8b0"
  },
  {
   "cell_type": "code",
   "execution_count": 16,
   "outputs": [
    {
     "data": {
      "text/plain": "[('04307', '79300', '71801', '04040', '60000'),\n ('60000', '04040', '78400', '71500', '71801', '79300', '04307'),\n ('60000', '70200', '04040', '71500', '71801', '79300', '04307', '00000'),\n ('60000', '04040', '71500', '71801'),\n ('04307', '79300', '71801', '71500', '78400', '04040', '70600', '60000'),\n ('71801', '71500', '78400', '04040', '70200', '60000'),\n ('60000', '71801', '79300', '04307'),\n ('60000', '70600', '04040', '71801'),\n ('60000', '04040', '71801', '79300', '04307'),\n ('71801', '71500', '78400', '04040', '70600', '70200', '60000'),\n ('60000', '70200', '04040', '78400', '71500', '71801'),\n ('00000', '04307', '79300', '71801', '71500', '04040', '60000'),\n ('71801', '71500', '78400', '04040', '70600', '60000'),\n ('60000', '04040', '78400', '71801', '79300', '04307'),\n ('71801', '60000'),\n ('60000',\n  '70200',\n  '70600',\n  '04040',\n  '78400',\n  '71500',\n  '71801',\n  '79300',\n  '04307'),\n ('04307', '79300', '71801', '60000'),\n ('60000', '70600', '04040', '71801', '79300', '04307'),\n ('60000', '71801'),\n ('71801', '04040', '60000'),\n ('60000', '04040', '78400', '71801'),\n ('60000', '04040', '71801'),\n ('60000', '70200', '04040', '78400', '71500', '71801', '79300', '04307'),\n ('04307', '79300', '71801', '71500', '78400', '04040', '60000'),\n ('60000', '70600', '04040', '78400', '71500', '71801'),\n ('60000', '70200', '70600', '04040', '78400', '71500', '71801')]"
     },
     "execution_count": 16,
     "metadata": {},
     "output_type": "execute_result"
    }
   ],
   "source": [
    "trips = list(set(tuple(service.keys())for service in result_dict.values()))\n",
    "trips"
   ],
   "metadata": {
    "collapsed": false,
    "ExecuteTime": {
     "end_time": "2024-03-06T13:04:58.491692Z",
     "start_time": "2024-03-06T13:04:58.479170Z"
    }
   },
   "id": "d9f18b55c6a56ff7"
  },
  {
   "cell_type": "code",
   "execution_count": 17,
   "outputs": [
    {
     "name": "stdout",
     "output_type": "stream",
     "text": [
      "['60000', '70200', '70600', '04040', '78400', '71500', '71801', '79300', '04307', '00000']\n"
     ]
    }
   ],
   "source": [
    "# Initialize line with max length trip\n",
    "line_stations = list(trips.pop(trips.index(max(trips, key=len))))\n",
    "\n",
    "# Complete corridor with other stops that are not in the initial defined corridor\n",
    "for trip in trips:\n",
    "    for i, station in enumerate(trip):\n",
    "        if station not in line_stations:\n",
    "            # If station is the last one, append it to the end of the corridor\n",
    "            if i == len(trip) - 1:\n",
    "                line_stations.append(station)\n",
    "            else:\n",
    "                # If station is not the last one, insert it in the corridor before the next station\n",
    "                index = line_stations.index(trip[i + 1])\n",
    "                line_stations.insert(index, station)\n",
    "\n",
    "print(line_stations)"
   ],
   "metadata": {
    "collapsed": false,
    "ExecuteTime": {
     "end_time": "2024-03-06T13:05:15.371771Z",
     "start_time": "2024-03-06T13:05:15.358967Z"
    }
   },
   "id": "f54893b61318b52c"
  },
  {
   "cell_type": "code",
   "execution_count": 18,
   "outputs": [
    {
     "name": "stdout",
     "output_type": "stream",
     "text": [
      "['Madrid-Puerta de Atocha', 'Guadalajara', 'Calatayud', 'Zaragoza-Delicias', 'Lleida', 'Tarragona', 'Barcelona-Sants', 'Girona', 'Figueres Vilafant', 'Unknown']\n"
     ]
    }
   ],
   "source": [
    "mapped_names = scraper.stations_df.set_index('stop_id')['stop_name'].to_dict()\n",
    "line_stations_names = list(map(mapped_names.get, line_stations))\n",
    "\n",
    "print(line_stations_names)"
   ],
   "metadata": {
    "collapsed": false,
    "ExecuteTime": {
     "end_time": "2024-03-06T13:05:54.765988Z",
     "start_time": "2024-03-06T13:05:54.754477Z"
    }
   },
   "id": "37cd1c7f2e418289"
  },
  {
   "cell_type": "code",
   "execution_count": null,
   "outputs": [],
   "source": [
    "# ['Madrid-Puerta de Atocha', 'Guadalajara', 'Calatayud', 'Zaragoza-Delicias', 'Tardienta', 'Huesca']\n",
    "\n",
    "['Madrid-Puerta de Atocha', 'Guadalajara', 'Calatayud', 'Zaragoza-Delicias', [['Tarragona', 'Lleida', 'Barcelona-Sants', 'Girona', 'Figueres Vilafant'], ['Tardienta', 'Huesca']]]"
   ],
   "metadata": {
    "collapsed": false
   },
   "id": "e816c576d6582c86"
  },
  {
   "cell_type": "code",
   "execution_count": null,
   "outputs": [],
   "source": [
    "['60000', '70200', '70600', '04040'], [['71500', '78400', '71801', '79300', '04307'], ['78200', '74200']]"
   ],
   "metadata": {
    "collapsed": false
   },
   "id": "e2be5fa6ebe18316"
  },
  {
   "cell_type": "code",
   "execution_count": 19,
   "outputs": [
    {
     "name": "stdout",
     "output_type": "stream",
     "text": [
      "  stop_id            stop_name renfe_id   stop_lat  stop_lon\n",
      "0   00000              Unknown    00000   0.000000  0.000000\n",
      "1   31412            A Corunya    31412  43.352761 -8.409755\n",
      "2   60911     Alicante/alacant    60911  38.344450 -0.495053\n",
      "3   60600  Albacete-Los Llanos    60600  38.999384 -1.848450\n",
      "4   60400  Alcazar de San Juan    60400  39.395628 -3.205744\n"
     ]
    }
   ],
   "source": [
    "df_stations = scraper.stations_df.copy()\n",
    "\n",
    "print(df_stations.head())"
   ],
   "metadata": {
    "collapsed": false,
    "ExecuteTime": {
     "end_time": "2023-09-29T15:31:46.098262Z",
     "start_time": "2023-09-29T15:31:46.012860Z"
    }
   },
   "id": "a21e4b9e405afae8"
  },
  {
   "cell_type": "code",
   "execution_count": 22,
   "outputs": [
    {
     "name": "stdout",
     "output_type": "stream",
     "text": [
      "   stop_id                stop_name   stop_lat  stop_lon\n",
      "0    70600                Calatayud  41.346692 -1.638680\n",
      "1    04307        Figueres Vilafant  42.264771  2.943547\n",
      "2    79300                   Girona  41.979303  2.817006\n",
      "3    74200                   Huesca  42.133594 -0.409745\n",
      "4    78400                   Lleida  41.620696  0.632669\n",
      "5    60000  Madrid-Puerta de Atocha  40.406442 -3.690886\n",
      "6    71500                Tarragona  41.111624  1.253214\n",
      "7    04040        Zaragoza-Delicias  41.658649 -0.911615\n",
      "8    71801          Barcelona-Sants  41.379220  2.140624\n",
      "9    70200              Guadalajara  40.644103 -3.182230\n",
      "10   78200                Tardienta  41.975751 -0.538314\n"
     ]
    }
   ],
   "source": [
    "estaciones_noreste = ['60000', '70200', '70600', '04040', '71500', '78400', '71801', '79300', '04307', '78200', '74200']\n",
    "\n",
    "df_stations = df_stations[df_stations['stop_id'].isin(estaciones_noreste)]\n",
    "df_stations.drop(columns=['renfe_id'], inplace=True)\n",
    "df_stations.reset_index(drop=True, inplace=True)\n",
    "print(df_stations)"
   ],
   "metadata": {
    "collapsed": false,
    "ExecuteTime": {
     "end_time": "2023-09-29T15:33:33.628531Z",
     "start_time": "2023-09-29T15:33:33.569220Z"
    }
   },
   "id": "e9cafbc9d6162a8"
  },
  {
   "cell_type": "code",
   "execution_count": 23,
   "outputs": [],
   "source": [
    "# save dataframe to csv\n",
    "df_stations.to_csv('estaciones_corredor_noreste.csv', index=False)"
   ],
   "metadata": {
    "collapsed": false,
    "ExecuteTime": {
     "end_time": "2023-09-29T15:34:02.135340Z",
     "start_time": "2023-09-29T15:34:02.085426Z"
    }
   },
   "id": "563bff98e85e1f5b"
  },
  {
   "cell_type": "code",
   "execution_count": null,
   "outputs": [],
   "source": [],
   "metadata": {
    "collapsed": false
   },
   "id": "4eb74e30d9030add"
  }
 ],
 "metadata": {
  "kernelspec": {
   "display_name": "Python 3",
   "language": "python",
   "name": "python3"
  },
  "language_info": {
   "codemirror_mode": {
    "name": "ipython",
    "version": 2
   },
   "file_extension": ".py",
   "mimetype": "text/x-python",
   "name": "python",
   "nbconvert_exporter": "python",
   "pygments_lexer": "ipython2",
   "version": "2.7.6"
  }
 },
 "nbformat": 4,
 "nbformat_minor": 5
}
