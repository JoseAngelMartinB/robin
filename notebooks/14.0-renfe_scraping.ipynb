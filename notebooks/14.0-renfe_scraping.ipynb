{
 "cells": [
  {
   "cell_type": "markdown",
   "source": [
    "# Get Line of stations from Renfe data"
   ],
   "metadata": {
    "collapsed": false
   },
   "id": "d28460963881a6ec"
  },
  {
   "cell_type": "code",
   "execution_count": 2,
   "id": "initial_id",
   "metadata": {
    "collapsed": true,
    "ExecuteTime": {
     "end_time": "2023-09-29T15:03:04.002724Z",
     "start_time": "2023-09-29T15:03:03.870326Z"
    }
   },
   "outputs": [
    {
     "name": "stdout",
     "output_type": "stream",
     "text": [
      "The autoreload extension is already loaded. To reload it, use:\n",
      "  %reload_ext autoreload\n"
     ]
    }
   ],
   "source": [
    "%load_ext autoreload\n",
    "%autoreload 2"
   ]
  },
  {
   "cell_type": "code",
   "execution_count": 3,
   "outputs": [],
   "source": [
    "import sys\n",
    "\n",
    "sys.path.append('..')"
   ],
   "metadata": {
    "collapsed": false,
    "ExecuteTime": {
     "end_time": "2023-09-29T15:03:05.351071Z",
     "start_time": "2023-09-29T15:03:05.314542Z"
    }
   },
   "id": "cb3eba62325e05e8"
  },
  {
   "cell_type": "code",
   "execution_count": 4,
   "outputs": [
    {
     "name": "stderr",
     "output_type": "stream",
     "text": [
      "The chromedriver version (116.0.5845.96) detected in PATH at /usr/local/bin/chromedriver might not be compatible with the detected chrome version (117.0.5938.132); currently, chromedriver 117.0.5938.92 is recommended for chrome 117.*, so it is advised to delete the driver in PATH and retry\n"
     ]
    },
    {
     "name": "stdout",
     "output_type": "stream",
     "text": [
      "?: Estaciones de Origen\n",
      "31412: A Coruña\n",
      "94707: Abrantes\n",
      "60911: Alicante / Alacant\n",
      "60600: Albacete\n",
      "06008: Alcantarilla-Los Romanos\n",
      "60400: Alcázar de San Juan\n",
      "55020: Algeciras\n",
      "56312: Almería\n",
      "99003: Altet Bus\n",
      "99115: Aguadulce Bus\n",
      "87912: Aix En Provence\n",
      "99114: Andorra-Bus\n",
      "ANTEQ: Antequera (TODAS)\n",
      "87814: Avignon\n",
      "10400: Avila\n",
      "37606: Badajoz\n",
      "BARCE: Barcelona (TODAS)\n",
      "87078: Beziers\n",
      "65318: Benicassim\n",
      "BILBA: Bilbao (TODAS)\n",
      "54400: Bobadilla\n",
      "11014: Burgos Rosa Manzano\n",
      "35400: Cáceres\n",
      "51405: Cádiz\n",
      "70600: Calatayud\n",
      "50417: Campus Rabanales\n",
      "61307: Cartagena\n",
      "65300: Castellón /Castelló\n",
      "37200: Ciudad Real\n",
      "50500: Córdoba\n",
      "CUENC: Cuenca (TODAS)\n",
      "92201: Denia-Bus\n",
      "60905: Elda-Petrer\n",
      "03410: Elche AV/Elx AV\n",
      "94428: Entroncamento\n",
      "92157: Estepona Bus\n",
      "21010: Ferrol\n",
      "79309: Figueres\n",
      "79333: Figueres Bus\n",
      "04307: Figueres Vilafant\n",
      "69110: Gandía\n",
      "GIJON: Gijón\n",
      "79300: Girona\n",
      "05000: Granada\n",
      "GUADA: Guadalajara (TODAS)\n",
      "43019: Huelva\n",
      "74200: Huesca\n",
      "IRUN-: Irun-Hendaya (TODAS)\n",
      "80100: Pamplona/Iruña\n",
      "99103: Jaca-Bus\n",
      "03100: Jaén\n",
      "64100: Xàtiva/Játiva\n",
      "97639: Javea-Bus\n",
      "51300: Jerez de la Frontera\n",
      "06004: La Hoya\n",
      "15100: León\n",
      "50300: Linares-Baeza\n",
      "06001: Librilla\n",
      "LYON-: Lyon\n",
      "78400: Lleida\n",
      "81100: Logroño\n",
      "06005: Lorca-San Diego\n",
      "06006: Lorca-Sutullena\n",
      "99002: Los Arenales Bus\n",
      "20309: Lugo\n",
      "MADRI: Madrid (TODAS)\n",
      "54413: Málaga María Zambrano\n",
      "92124: Marbella Bus\n",
      "87089: Marseille St Charles\n",
      "94401: Marvao - Beira\n",
      "MEDIN: Medina del Campo (TODAS)\n",
      "37500: Mérida\n",
      "11200: Miranda de Ebro\n",
      "20300: Monforte de Lemos\n",
      "78301: Monzón-Río Cinca\n",
      "MONTP: Montpellier\n",
      "61200: Murcia\n",
      "87088: Narbonne\n",
      "35206: Navalmoral de la Mata\n",
      "NIMES: Nimes\n",
      "94021: Nine\n",
      "94346: Porto Campanha-Oporto\n",
      "62002: Orihuela-Miguel Hernádez\n",
      "65304: Oropesa del Mar/Orpesa\n",
      "22100: Ourense\n",
      "15211: Oviedo\n",
      "23021: Padrón-Barbanza\n",
      "14100: Palencia\n",
      "87374: Perpignan\n",
      "20200: Ponferrada\n",
      "23004: Pontevedra\n",
      "79315: Portbou\n",
      "PUEBL: Puebla de Sanabria (TODAS)\n",
      "PTE G: Puente Genil (TODAS)\n",
      "51400: Puerto Santa María\n",
      "37300: Puertollano\n",
      "REDON: Redondela (TODAS)\n",
      "71400: Reus\n",
      "03213: Requena / Utiel\n",
      "99116: Roquetas-Bus\n",
      "15009: Sahagún\n",
      "SALAM: Salamanca (TODAS)\n",
      "S FER: San Fernando (TODAS)\n",
      "11511: San Sebastián/Donostia\n",
      "99001: Santa Pola Bus\n",
      "SANTA: Santander (TODAS)\n",
      "31400: Santiago de Compostela\n",
      "SEGOV: Segovia (TODAS)\n",
      "51003: Sevilla\n",
      "82100: Soria\n",
      "TARRA: Tarragona (TODAS)\n",
      "67200: Teruel\n",
      "92102: Toledo\n",
      "81202: Tudela de Navarra\n",
      "50102: Valdepeñas\n",
      "87810: Valence\n",
      "VALEN: Valencia (TODAS)\n",
      "22402: Valença Do Minho\n",
      "10600: Valladolid Campo Grande\n",
      "94033: Vielha-Bus\n",
      "99853: Viana Da Castelo\n",
      "VIGO-: Vigo (TODAS)\n",
      "37704: Vva. de Córdoba-Los Pedroches\n",
      "60902: Villena\n",
      "03309: Villena AV\n",
      "11208: Vitoria/Gasteiz\n",
      "40100: Zafra\n",
      "40008: Zafra Feria\n",
      "30200: Zamora\n",
      "ZARAG: Zaragoza (TODAS)\n"
     ]
    }
   ],
   "source": [
    "import datetime\n",
    "\n",
    "from src.robin.scraping.renfe.entities import RenfeScraper\n",
    "\n",
    "scraper = RenfeScraper(stations_csv_path='../data/renfe/renfe_stations.csv')\n",
    "\n",
    "for station_id, station_name in scraper.available_stations.items():\n",
    "    print(f'{station_id}: {station_name}')"
   ],
   "metadata": {
    "collapsed": false,
    "ExecuteTime": {
     "end_time": "2023-09-29T15:03:09.277403Z",
     "start_time": "2023-09-29T15:03:06.051484Z"
    }
   },
   "id": "e23ac93d044c3c9f"
  },
  {
   "cell_type": "code",
   "execution_count": 5,
   "outputs": [
    {
     "data": {
      "text/plain": "    stop_id               stop_name renfe_id   stop_lat  stop_lon\n0     00000                 Unknown    00000   0.000000  0.000000\n1     31412               A Corunya    31412  43.352761 -8.409755\n2     60911        Alicante/alacant    60911  38.344450 -0.495053\n3     60600     Albacete-Los Llanos    60600  38.999384 -1.848450\n4     60400     Alcazar de San Juan    60400  39.395628 -3.205744\n..      ...                     ...      ...        ...       ...\n100   87173  Montpellier Saint Roch    87173        NaN       NaN\n101   87302                   Nimes    87302        NaN       NaN\n102   87814             Avignon TGV    87814        NaN       NaN\n103   87912     Aix En Provence TGV    87912        NaN       NaN\n104   87089    Marseille St Charles    87089        NaN       NaN\n\n[105 rows x 5 columns]",
      "text/html": "<div>\n<style scoped>\n    .dataframe tbody tr th:only-of-type {\n        vertical-align: middle;\n    }\n\n    .dataframe tbody tr th {\n        vertical-align: top;\n    }\n\n    .dataframe thead th {\n        text-align: right;\n    }\n</style>\n<table border=\"1\" class=\"dataframe\">\n  <thead>\n    <tr style=\"text-align: right;\">\n      <th></th>\n      <th>stop_id</th>\n      <th>stop_name</th>\n      <th>renfe_id</th>\n      <th>stop_lat</th>\n      <th>stop_lon</th>\n    </tr>\n  </thead>\n  <tbody>\n    <tr>\n      <th>0</th>\n      <td>00000</td>\n      <td>Unknown</td>\n      <td>00000</td>\n      <td>0.000000</td>\n      <td>0.000000</td>\n    </tr>\n    <tr>\n      <th>1</th>\n      <td>31412</td>\n      <td>A Corunya</td>\n      <td>31412</td>\n      <td>43.352761</td>\n      <td>-8.409755</td>\n    </tr>\n    <tr>\n      <th>2</th>\n      <td>60911</td>\n      <td>Alicante/alacant</td>\n      <td>60911</td>\n      <td>38.344450</td>\n      <td>-0.495053</td>\n    </tr>\n    <tr>\n      <th>3</th>\n      <td>60600</td>\n      <td>Albacete-Los Llanos</td>\n      <td>60600</td>\n      <td>38.999384</td>\n      <td>-1.848450</td>\n    </tr>\n    <tr>\n      <th>4</th>\n      <td>60400</td>\n      <td>Alcazar de San Juan</td>\n      <td>60400</td>\n      <td>39.395628</td>\n      <td>-3.205744</td>\n    </tr>\n    <tr>\n      <th>...</th>\n      <td>...</td>\n      <td>...</td>\n      <td>...</td>\n      <td>...</td>\n      <td>...</td>\n    </tr>\n    <tr>\n      <th>100</th>\n      <td>87173</td>\n      <td>Montpellier Saint Roch</td>\n      <td>87173</td>\n      <td>NaN</td>\n      <td>NaN</td>\n    </tr>\n    <tr>\n      <th>101</th>\n      <td>87302</td>\n      <td>Nimes</td>\n      <td>87302</td>\n      <td>NaN</td>\n      <td>NaN</td>\n    </tr>\n    <tr>\n      <th>102</th>\n      <td>87814</td>\n      <td>Avignon TGV</td>\n      <td>87814</td>\n      <td>NaN</td>\n      <td>NaN</td>\n    </tr>\n    <tr>\n      <th>103</th>\n      <td>87912</td>\n      <td>Aix En Provence TGV</td>\n      <td>87912</td>\n      <td>NaN</td>\n      <td>NaN</td>\n    </tr>\n    <tr>\n      <th>104</th>\n      <td>87089</td>\n      <td>Marseille St Charles</td>\n      <td>87089</td>\n      <td>NaN</td>\n      <td>NaN</td>\n    </tr>\n  </tbody>\n</table>\n<p>105 rows × 5 columns</p>\n</div>"
     },
     "execution_count": 5,
     "metadata": {},
     "output_type": "execute_result"
    }
   ],
   "source": [
    "scraper.stations_df"
   ],
   "metadata": {
    "collapsed": false,
    "ExecuteTime": {
     "end_time": "2023-09-29T15:03:10.151783Z",
     "start_time": "2023-09-29T15:03:09.979170Z"
    }
   },
   "id": "a906b79da446d8b3"
  },
  {
   "cell_type": "code",
   "execution_count": 13,
   "outputs": [
    {
     "name": "stdout",
     "output_type": "stream",
     "text": [
      "Date:  2023-10-11\n",
      "Search url:  https://horarios.renfe.com/HIRRenfeWeb/buscar.do?O=MADRI&D=74200&AF=2023&MF=10&DF=11&SF=3&ID=s\n",
      "  trip_id train_type                                           schedule  \\\n",
      "0   03393        AVE  {'60000': (0, 0), '70200': (22, 23), '70600': ...   \n",
      "\n",
      "            departure  duration                                  price  \n",
      "0 2023-10-11 19:05:00       137  {'Turist': 75.6, 'TuristaPlu': 100.5}  \n",
      "  trip_id train_type                                           schedule  \\\n",
      "0   03393        AVE  {'60000': (0, 0), '70200': (22, 23), '70600': ...   \n",
      "\n",
      "            departure  duration                                  price  \\\n",
      "0 2023-10-11 19:05:00       137  {'Turist': 75.6, 'TuristaPlu': 100.5}   \n",
      "\n",
      "               service_id  \n",
      "0  03393_11-10-2023-19.05  \n"
     ]
    }
   ],
   "source": [
    "origin_id = scraper.get_renfe_station_id('60000')\n",
    "destination_id = scraper.get_renfe_station_id('74200')\n",
    "\n",
    "# Huesca: 74200\n",
    "# Barcelona: 71801\n",
    "date = datetime.date(day=11, month=10, year=2023)\n",
    "\n",
    "df_trips, df_stops = scraper.scrape_trips(origin_id=origin_id, \n",
    "                                          destination_id=destination_id, \n",
    "                                          init_date=date)\n",
    "\n",
    "print(df_trips.head())"
   ],
   "metadata": {
    "collapsed": false,
    "ExecuteTime": {
     "end_time": "2023-09-29T15:23:43.173031Z",
     "start_time": "2023-09-29T15:23:42.794598Z"
    }
   },
   "id": "a353c1b3c36002ef"
  },
  {
   "cell_type": "code",
   "execution_count": 14,
   "outputs": [
    {
     "data": {
      "text/plain": "               service_id stop_id  arrival  departure\n0  03393_11-10-2023-19.05   60000        0          0\n1  03393_11-10-2023-19.05   70200       22         23\n2  03393_11-10-2023-19.05   70600       60         61\n3  03393_11-10-2023-19.05   04040       85         88\n4  03393_11-10-2023-19.05   78200      120        121",
      "text/html": "<div>\n<style scoped>\n    .dataframe tbody tr th:only-of-type {\n        vertical-align: middle;\n    }\n\n    .dataframe tbody tr th {\n        vertical-align: top;\n    }\n\n    .dataframe thead th {\n        text-align: right;\n    }\n</style>\n<table border=\"1\" class=\"dataframe\">\n  <thead>\n    <tr style=\"text-align: right;\">\n      <th></th>\n      <th>service_id</th>\n      <th>stop_id</th>\n      <th>arrival</th>\n      <th>departure</th>\n    </tr>\n  </thead>\n  <tbody>\n    <tr>\n      <th>0</th>\n      <td>03393_11-10-2023-19.05</td>\n      <td>60000</td>\n      <td>0</td>\n      <td>0</td>\n    </tr>\n    <tr>\n      <th>1</th>\n      <td>03393_11-10-2023-19.05</td>\n      <td>70200</td>\n      <td>22</td>\n      <td>23</td>\n    </tr>\n    <tr>\n      <th>2</th>\n      <td>03393_11-10-2023-19.05</td>\n      <td>70600</td>\n      <td>60</td>\n      <td>61</td>\n    </tr>\n    <tr>\n      <th>3</th>\n      <td>03393_11-10-2023-19.05</td>\n      <td>04040</td>\n      <td>85</td>\n      <td>88</td>\n    </tr>\n    <tr>\n      <th>4</th>\n      <td>03393_11-10-2023-19.05</td>\n      <td>78200</td>\n      <td>120</td>\n      <td>121</td>\n    </tr>\n  </tbody>\n</table>\n</div>"
     },
     "execution_count": 14,
     "metadata": {},
     "output_type": "execute_result"
    }
   ],
   "source": [
    "df_stops.head()"
   ],
   "metadata": {
    "collapsed": false,
    "ExecuteTime": {
     "end_time": "2023-09-29T15:23:45.043054Z",
     "start_time": "2023-09-29T15:23:44.979466Z"
    }
   },
   "id": "b944e1cf062533c6"
  },
  {
   "cell_type": "code",
   "execution_count": 15,
   "outputs": [],
   "source": [
    "# Save dataframe to csv\n",
    "df_stops.to_csv('stops_MAD_HSC_11-10-2023.csv', index=False)"
   ],
   "metadata": {
    "collapsed": false,
    "ExecuteTime": {
     "end_time": "2023-09-29T15:23:45.994462Z",
     "start_time": "2023-09-29T15:23:45.942217Z"
    }
   },
   "id": "664f5daed706fb49"
  },
  {
   "cell_type": "code",
   "execution_count": 16,
   "outputs": [],
   "source": [
    "result_dict = {}\n",
    "\n",
    "grouped = df_stops.groupby(\"service_id\")\n",
    "\n",
    "for name, group in grouped:\n",
    "    sub_dict = {}\n",
    "    for index, row in group.iterrows():\n",
    "        sub_dict[row['stop_id']] = (row['arrival'], row['departure'])\n",
    "    result_dict[name] = sub_dict\n",
    "\n",
    "# print(result_dict)"
   ],
   "metadata": {
    "collapsed": false,
    "ExecuteTime": {
     "end_time": "2023-09-29T15:28:49.572693Z",
     "start_time": "2023-09-29T15:28:49.519856Z"
    }
   },
   "id": "44a3ed89b8b9d8b0"
  },
  {
   "cell_type": "code",
   "execution_count": 17,
   "outputs": [],
   "source": [
    "trips = list(set(tuple(service.keys())for service in result_dict.values()))\n",
    "# print(trips)"
   ],
   "metadata": {
    "collapsed": false,
    "ExecuteTime": {
     "end_time": "2023-09-29T15:28:50.288184Z",
     "start_time": "2023-09-29T15:28:50.226219Z"
    }
   },
   "id": "d9f18b55c6a56ff7"
  },
  {
   "cell_type": "code",
   "execution_count": 18,
   "outputs": [
    {
     "name": "stdout",
     "output_type": "stream",
     "text": [
      "['60000', '70200', '70600', '04040', '78200', '74200']\n"
     ]
    }
   ],
   "source": [
    "# Initialize line with max length trip\n",
    "line_stations = list(trips.pop(trips.index(max(trips, key=len))))\n",
    "\n",
    "# Complete corridor with other stops that are not in the initial defined corridor\n",
    "for trip in trips:\n",
    "    for i, station in enumerate(trip):\n",
    "        if station not in line_stations:\n",
    "            # If station is the last one, append it to the end of the corridor\n",
    "            if i == len(trip) - 1:\n",
    "                line_stations.append(station)\n",
    "            else:\n",
    "                # If station is not the last one, insert it in the corridor before the next station\n",
    "                index = line_stations.index(trip[i + 1])\n",
    "                line_stations.insert(index, station)\n",
    "\n",
    "print(line_stations)"
   ],
   "metadata": {
    "collapsed": false,
    "ExecuteTime": {
     "end_time": "2023-09-29T15:28:50.922363Z",
     "start_time": "2023-09-29T15:28:50.876385Z"
    }
   },
   "id": "f54893b61318b52c"
  },
  {
   "cell_type": "code",
   "execution_count": 11,
   "outputs": [
    {
     "name": "stdout",
     "output_type": "stream",
     "text": [
      "['Madrid-Puerta de Atocha', 'Guadalajara', 'Calatayud', 'Zaragoza-Delicias', 'Tarragona', 'Lleida', 'Barcelona-Sants', 'Girona', 'Figueres Vilafant', 'Perpignan', 'Narbonne', 'Beziers', 'Montpellier Saint Roch', 'Nimes', 'Avignon TGV', 'Aix En Provence TGV', 'Marseille St Charles']\n"
     ]
    }
   ],
   "source": [
    "mapped_names = scraper.stations_df.set_index('stop_id')['stop_name'].to_dict()\n",
    "line_stations_names = list(map(mapped_names.get, line_stations))\n",
    "\n",
    "print(line_stations_names)"
   ],
   "metadata": {
    "collapsed": false,
    "ExecuteTime": {
     "end_time": "2023-09-29T15:03:19.611074Z",
     "start_time": "2023-09-29T15:03:19.557935Z"
    }
   },
   "id": "37cd1c7f2e418289"
  },
  {
   "cell_type": "code",
   "execution_count": null,
   "outputs": [],
   "source": [
    "# ['Madrid-Puerta de Atocha', 'Guadalajara', 'Calatayud', 'Zaragoza-Delicias', 'Tardienta', 'Huesca']\n",
    "\n",
    "['Madrid-Puerta de Atocha', 'Guadalajara', 'Calatayud', 'Zaragoza-Delicias', [['Tarragona', 'Lleida', 'Barcelona-Sants', 'Girona', 'Figueres Vilafant'], ['Tardienta', 'Huesca']]]"
   ],
   "metadata": {
    "collapsed": false
   },
   "id": "e816c576d6582c86"
  },
  {
   "cell_type": "code",
   "execution_count": null,
   "outputs": [],
   "source": [
    "['60000', '70200', '70600', '04040'], [['71500', '78400', '71801', '79300', '04307'], ['78200', '74200']]"
   ],
   "metadata": {
    "collapsed": false
   },
   "id": "e2be5fa6ebe18316"
  },
  {
   "cell_type": "code",
   "execution_count": 19,
   "outputs": [
    {
     "name": "stdout",
     "output_type": "stream",
     "text": [
      "  stop_id            stop_name renfe_id   stop_lat  stop_lon\n",
      "0   00000              Unknown    00000   0.000000  0.000000\n",
      "1   31412            A Corunya    31412  43.352761 -8.409755\n",
      "2   60911     Alicante/alacant    60911  38.344450 -0.495053\n",
      "3   60600  Albacete-Los Llanos    60600  38.999384 -1.848450\n",
      "4   60400  Alcazar de San Juan    60400  39.395628 -3.205744\n"
     ]
    }
   ],
   "source": [
    "df_stations = scraper.stations_df.copy()\n",
    "\n",
    "print(df_stations.head())"
   ],
   "metadata": {
    "collapsed": false,
    "ExecuteTime": {
     "end_time": "2023-09-29T15:31:46.098262Z",
     "start_time": "2023-09-29T15:31:46.012860Z"
    }
   },
   "id": "a21e4b9e405afae8"
  },
  {
   "cell_type": "code",
   "execution_count": 22,
   "outputs": [
    {
     "name": "stdout",
     "output_type": "stream",
     "text": [
      "   stop_id                stop_name   stop_lat  stop_lon\n",
      "0    70600                Calatayud  41.346692 -1.638680\n",
      "1    04307        Figueres Vilafant  42.264771  2.943547\n",
      "2    79300                   Girona  41.979303  2.817006\n",
      "3    74200                   Huesca  42.133594 -0.409745\n",
      "4    78400                   Lleida  41.620696  0.632669\n",
      "5    60000  Madrid-Puerta de Atocha  40.406442 -3.690886\n",
      "6    71500                Tarragona  41.111624  1.253214\n",
      "7    04040        Zaragoza-Delicias  41.658649 -0.911615\n",
      "8    71801          Barcelona-Sants  41.379220  2.140624\n",
      "9    70200              Guadalajara  40.644103 -3.182230\n",
      "10   78200                Tardienta  41.975751 -0.538314\n"
     ]
    }
   ],
   "source": [
    "estaciones_noreste = ['60000', '70200', '70600', '04040', '71500', '78400', '71801', '79300', '04307', '78200', '74200']\n",
    "\n",
    "df_stations = df_stations[df_stations['stop_id'].isin(estaciones_noreste)]\n",
    "df_stations.drop(columns=['renfe_id'], inplace=True)\n",
    "df_stations.reset_index(drop=True, inplace=True)\n",
    "print(df_stations)"
   ],
   "metadata": {
    "collapsed": false,
    "ExecuteTime": {
     "end_time": "2023-09-29T15:33:33.628531Z",
     "start_time": "2023-09-29T15:33:33.569220Z"
    }
   },
   "id": "e9cafbc9d6162a8"
  },
  {
   "cell_type": "code",
   "execution_count": 23,
   "outputs": [],
   "source": [
    "# save dataframe to csv\n",
    "df_stations.to_csv('estaciones_corredor_noreste.csv', index=False)"
   ],
   "metadata": {
    "collapsed": false,
    "ExecuteTime": {
     "end_time": "2023-09-29T15:34:02.135340Z",
     "start_time": "2023-09-29T15:34:02.085426Z"
    }
   },
   "id": "563bff98e85e1f5b"
  },
  {
   "cell_type": "code",
   "execution_count": null,
   "outputs": [],
   "source": [],
   "metadata": {
    "collapsed": false
   },
   "id": "4eb74e30d9030add"
  }
 ],
 "metadata": {
  "kernelspec": {
   "display_name": "Python 3",
   "language": "python",
   "name": "python3"
  },
  "language_info": {
   "codemirror_mode": {
    "name": "ipython",
    "version": 2
   },
   "file_extension": ".py",
   "mimetype": "text/x-python",
   "name": "python",
   "nbconvert_exporter": "python",
   "pygments_lexer": "ipython2",
   "version": "2.7.6"
  }
 },
 "nbformat": 4,
 "nbformat_minor": 5
}
