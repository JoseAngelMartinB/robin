{
 "cells": [
  {
   "cell_type": "markdown",
   "source": [
    "# Get Line of stations from Renfe data"
   ],
   "metadata": {
    "collapsed": false
   },
   "id": "d28460963881a6ec"
  },
  {
   "cell_type": "code",
   "execution_count": 1,
   "id": "initial_id",
   "metadata": {
    "collapsed": true,
    "ExecuteTime": {
     "end_time": "2023-09-29T11:57:04.573283Z",
     "start_time": "2023-09-29T11:57:04.540683Z"
    }
   },
   "outputs": [],
   "source": [
    "%load_ext autoreload\n",
    "%autoreload 2"
   ]
  },
  {
   "cell_type": "code",
   "execution_count": 2,
   "outputs": [],
   "source": [
    "import sys\n",
    "\n",
    "sys.path.append('..')"
   ],
   "metadata": {
    "collapsed": false,
    "ExecuteTime": {
     "end_time": "2023-09-29T11:57:05.379390Z",
     "start_time": "2023-09-29T11:57:05.289301Z"
    }
   },
   "id": "cb3eba62325e05e8"
  },
  {
   "cell_type": "code",
   "execution_count": 3,
   "outputs": [
    {
     "name": "stderr",
     "output_type": "stream",
     "text": [
      "The chromedriver version (116.0.5845.96) detected in PATH at /usr/local/bin/chromedriver might not be compatible with the detected chrome version (117.0.5938.132); currently, chromedriver 117.0.5938.92 is recommended for chrome 117.*, so it is advised to delete the driver in PATH and retry\n"
     ]
    },
    {
     "name": "stdout",
     "output_type": "stream",
     "text": [
      "{'?': 'Estaciones de Origen', '31412': 'A Coruña', '94707': 'Abrantes', '60911': 'Alicante / Alacant', '60600': 'Albacete', '06008': 'Alcantarilla-Los Romanos', '60400': 'Alcázar de San Juan', '55020': 'Algeciras', '56312': 'Almería', '99003': 'Altet Bus', '99115': 'Aguadulce Bus', '87912': 'Aix En Provence', '99114': 'Andorra-Bus', 'ANTEQ': 'Antequera (TODAS)', '87814': 'Avignon', '10400': 'Avila', '37606': 'Badajoz', 'BARCE': 'Barcelona (TODAS)', '87078': 'Beziers', '65318': 'Benicassim', 'BILBA': 'Bilbao (TODAS)', '54400': 'Bobadilla', '11014': 'Burgos Rosa Manzano', '35400': 'Cáceres', '51405': 'Cádiz', '70600': 'Calatayud', '50417': 'Campus Rabanales', '61307': 'Cartagena', '65300': 'Castellón /Castelló', '37200': 'Ciudad Real', '50500': 'Córdoba', 'CUENC': 'Cuenca (TODAS)', '92201': 'Denia-Bus', '60905': 'Elda-Petrer', '03410': 'Elche AV/Elx AV', '94428': 'Entroncamento', '92157': 'Estepona Bus', '21010': 'Ferrol', '79309': 'Figueres', '79333': 'Figueres Bus', '04307': 'Figueres Vilafant', '69110': 'Gandía', 'GIJON': 'Gijón', '79300': 'Girona', '05000': 'Granada', 'GUADA': 'Guadalajara (TODAS)', '43019': 'Huelva', '74200': 'Huesca', 'IRUN-': 'Irun-Hendaya (TODAS)', '80100': 'Pamplona/Iruña', '99103': 'Jaca-Bus', '03100': 'Jaén', '64100': 'Xàtiva/Játiva', '97639': 'Javea-Bus', '51300': 'Jerez de la Frontera', '06004': 'La Hoya', '15100': 'León', '50300': 'Linares-Baeza', '06001': 'Librilla', 'LYON-': 'Lyon', '78400': 'Lleida', '81100': 'Logroño', '06005': 'Lorca-San Diego', '06006': 'Lorca-Sutullena', '99002': 'Los Arenales Bus', '20309': 'Lugo', 'MADRI': 'Madrid (TODAS)', '54413': 'Málaga María Zambrano', '92124': 'Marbella Bus', '87089': 'Marseille St Charles', '94401': 'Marvao - Beira', 'MEDIN': 'Medina del Campo (TODAS)', '37500': 'Mérida', '11200': 'Miranda de Ebro', '20300': 'Monforte de Lemos', '78301': 'Monzón-Río Cinca', 'MONTP': 'Montpellier', '61200': 'Murcia', '87088': 'Narbonne', '35206': 'Navalmoral de la Mata', 'NIMES': 'Nimes', '94021': 'Nine', '94346': 'Porto Campanha-Oporto', '62002': 'Orihuela-Miguel Hernádez', '65304': 'Oropesa del Mar/Orpesa', '22100': 'Ourense', '15211': 'Oviedo', '23021': 'Padrón-Barbanza', '14100': 'Palencia', '87374': 'Perpignan', '20200': 'Ponferrada', '23004': 'Pontevedra', '79315': 'Portbou', 'PUEBL': 'Puebla de Sanabria (TODAS)', 'PTE G': 'Puente Genil (TODAS)', '51400': 'Puerto Santa María', '37300': 'Puertollano', 'REDON': 'Redondela (TODAS)', '71400': 'Reus', '03213': 'Requena / Utiel', '99116': 'Roquetas-Bus', '15009': 'Sahagún', 'SALAM': 'Salamanca (TODAS)', 'S FER': 'San Fernando (TODAS)', '11511': 'San Sebastián/Donostia', '99001': 'Santa Pola Bus', 'SANTA': 'Santander (TODAS)', '31400': 'Santiago de Compostela', 'SEGOV': 'Segovia (TODAS)', '51003': 'Sevilla', '82100': 'Soria', 'TARRA': 'Tarragona (TODAS)', '67200': 'Teruel', '92102': 'Toledo', '81202': 'Tudela de Navarra', '50102': 'Valdepeñas', '87810': 'Valence', 'VALEN': 'Valencia (TODAS)', '22402': 'Valença Do Minho', '10600': 'Valladolid Campo Grande', '94033': 'Vielha-Bus', '99853': 'Viana Da Castelo', 'VIGO-': 'Vigo (TODAS)', '37704': 'Vva. de Córdoba-Los Pedroches', '60902': 'Villena', '03309': 'Villena AV', '11208': 'Vitoria/Gasteiz', '40100': 'Zafra', '40008': 'Zafra Feria', '30200': 'Zamora', 'ZARAG': 'Zaragoza (TODAS)'}\n"
     ]
    }
   ],
   "source": [
    "import datetime\n",
    "\n",
    "from src.robin.scraping.renfe.entities import RenfeScraper\n",
    "\n",
    "scraper = RenfeScraper(stations_csv_path='../data/renfe/renfe_stations.csv')\n",
    "\n",
    "print(scraper.available_stations)"
   ],
   "metadata": {
    "collapsed": false,
    "ExecuteTime": {
     "end_time": "2023-09-29T11:57:08.373281Z",
     "start_time": "2023-09-29T11:57:05.915998Z"
    }
   },
   "id": "e23ac93d044c3c9f"
  },
  {
   "cell_type": "code",
   "execution_count": 4,
   "outputs": [
    {
     "data": {
      "text/plain": "   stop_id                       stop_name renfe_id   stop_lat  stop_lon\n0    00000                         Unknown    00000   0.000000  0.000000\n1    31412                       A Corunya    31412  43.352761 -8.409755\n2    60911                Alicante/alacant    60911  38.344450 -0.495053\n3    60600             Albacete-Los Llanos    60600  38.999384 -1.848450\n4    60400             Alcazar de San Juan    60400  39.395628 -3.205744\n..     ...                             ...      ...        ...       ...\n91   71801                 Barcelona-Sants    BARCE  41.379220  2.140624\n92   13200  Bilbao-Abando Indalecio Prieto    BILBA  43.259609 -2.929150\n93   66100                          Cuenca    CUENC  40.067340 -2.136471\n94   15410                           Gijon    GIJON  43.535175 -5.698318\n95   70200                     Guadalajara    GUADA  40.644103 -3.182230\n\n[96 rows x 5 columns]",
      "text/html": "<div>\n<style scoped>\n    .dataframe tbody tr th:only-of-type {\n        vertical-align: middle;\n    }\n\n    .dataframe tbody tr th {\n        vertical-align: top;\n    }\n\n    .dataframe thead th {\n        text-align: right;\n    }\n</style>\n<table border=\"1\" class=\"dataframe\">\n  <thead>\n    <tr style=\"text-align: right;\">\n      <th></th>\n      <th>stop_id</th>\n      <th>stop_name</th>\n      <th>renfe_id</th>\n      <th>stop_lat</th>\n      <th>stop_lon</th>\n    </tr>\n  </thead>\n  <tbody>\n    <tr>\n      <th>0</th>\n      <td>00000</td>\n      <td>Unknown</td>\n      <td>00000</td>\n      <td>0.000000</td>\n      <td>0.000000</td>\n    </tr>\n    <tr>\n      <th>1</th>\n      <td>31412</td>\n      <td>A Corunya</td>\n      <td>31412</td>\n      <td>43.352761</td>\n      <td>-8.409755</td>\n    </tr>\n    <tr>\n      <th>2</th>\n      <td>60911</td>\n      <td>Alicante/alacant</td>\n      <td>60911</td>\n      <td>38.344450</td>\n      <td>-0.495053</td>\n    </tr>\n    <tr>\n      <th>3</th>\n      <td>60600</td>\n      <td>Albacete-Los Llanos</td>\n      <td>60600</td>\n      <td>38.999384</td>\n      <td>-1.848450</td>\n    </tr>\n    <tr>\n      <th>4</th>\n      <td>60400</td>\n      <td>Alcazar de San Juan</td>\n      <td>60400</td>\n      <td>39.395628</td>\n      <td>-3.205744</td>\n    </tr>\n    <tr>\n      <th>...</th>\n      <td>...</td>\n      <td>...</td>\n      <td>...</td>\n      <td>...</td>\n      <td>...</td>\n    </tr>\n    <tr>\n      <th>91</th>\n      <td>71801</td>\n      <td>Barcelona-Sants</td>\n      <td>BARCE</td>\n      <td>41.379220</td>\n      <td>2.140624</td>\n    </tr>\n    <tr>\n      <th>92</th>\n      <td>13200</td>\n      <td>Bilbao-Abando Indalecio Prieto</td>\n      <td>BILBA</td>\n      <td>43.259609</td>\n      <td>-2.929150</td>\n    </tr>\n    <tr>\n      <th>93</th>\n      <td>66100</td>\n      <td>Cuenca</td>\n      <td>CUENC</td>\n      <td>40.067340</td>\n      <td>-2.136471</td>\n    </tr>\n    <tr>\n      <th>94</th>\n      <td>15410</td>\n      <td>Gijon</td>\n      <td>GIJON</td>\n      <td>43.535175</td>\n      <td>-5.698318</td>\n    </tr>\n    <tr>\n      <th>95</th>\n      <td>70200</td>\n      <td>Guadalajara</td>\n      <td>GUADA</td>\n      <td>40.644103</td>\n      <td>-3.182230</td>\n    </tr>\n  </tbody>\n</table>\n<p>96 rows × 5 columns</p>\n</div>"
     },
     "execution_count": 4,
     "metadata": {},
     "output_type": "execute_result"
    }
   ],
   "source": [
    "scraper.stations_df"
   ],
   "metadata": {
    "collapsed": false,
    "ExecuteTime": {
     "end_time": "2023-09-29T11:57:09.876381Z",
     "start_time": "2023-09-29T11:57:09.754244Z"
    }
   },
   "id": "a906b79da446d8b3"
  },
  {
   "cell_type": "code",
   "execution_count": 17,
   "outputs": [
    {
     "name": "stdout",
     "output_type": "stream",
     "text": [
      "Date:  2023-09-29\n",
      "Search url:  https://horarios.renfe.com/HIRRenfeWeb/buscar.do?O=MADRI&D=51003&AF=2023&MF=09&DF=29&SF=5&ID=s\n",
      "madrid pta atocha almudena grandes\n",
      "ciudad real\n",
      "puertollano\n",
      "villanueva de crdoba los pedroches\n",
      "crdoba\n",
      "sevilla santa justa\n",
      "jerez de la frontera\n",
      "puerto de santa mara\n",
      "san fernando baha sur\n",
      "cdiz\n",
      "madrid pta atocha almudena grandes\n",
      "ciudad real\n",
      "puertollano\n",
      "crdoba\n",
      "sevilla santa justa\n",
      "madrid pta atocha almudena grandes\n",
      "crdoba\n",
      "sevilla santa justa\n",
      "madrid pta atocha almudena grandes\n",
      "crdoba\n",
      "sevilla santa justa\n",
      "madrid pta atocha almudena grandes\n",
      "ciudad real\n",
      "puertollano\n",
      "crdoba\n",
      "sevilla santa justa\n",
      "madrid pta atocha almudena grandes\n",
      "ciudad real\n",
      "puertollano\n",
      "crdoba\n",
      "sevilla santa justa\n",
      "jerez de la frontera\n",
      "puerto de santa mara\n",
      "san fernando baha sur\n",
      "cdiz\n",
      "madrid pta atocha almudena grandes\n",
      "crdoba\n",
      "sevilla santa justa\n",
      "madrid pta atocha almudena grandes\n",
      "crdoba\n",
      "sevilla santa justa\n",
      "madrid pta atocha almudena grandes\n",
      "crdoba\n",
      "sevilla santa justa\n",
      "madrid pta atocha almudena grandes\n",
      "crdoba\n",
      "sevilla santa justa\n",
      "madrid pta atocha almudena grandes\n",
      "crdoba\n",
      "sevilla santa justa\n",
      "madrid pta atocha almudena grandes\n",
      "crdoba\n",
      "sevilla santa justa\n",
      "madrid pta atocha almudena grandes\n",
      "ciudad real\n",
      "puertollano\n",
      "crdoba\n",
      "sevilla santa justa\n",
      "madrid pta atocha almudena grandes\n",
      "ciudad real\n",
      "puertollano\n",
      "villanueva de crdoba los pedroches\n",
      "crdoba\n",
      "sevilla santa justa\n",
      "  trip_id train_type                                           schedule  \\\n",
      "0   02074      ALVIA  {'60000': (0, 0), '37200': (52, 54), '37300': ...   \n",
      "1   02070        AVE  {'60000': (0, 0), '37200': (51, 52), '37300': ...   \n",
      "2   02080        AVE  {'60000': (0, 0), '00000': (116, 119), '51003'...   \n",
      "3   02100        AVE  {'60000': (0, 0), '00000': (116, 119), '51003'...   \n",
      "4   02310        AVE  {'60000': (0, 0), '37200': (51, 52), '37300': ...   \n",
      "\n",
      "            departure  duration                                  price  \n",
      "0 2023-09-29 06:27:00       202   {'Turist': 70.9, 'TuristaPlu': 85.1}  \n",
      "1 2023-09-29 06:48:00       182  {'Turist': 80.5, 'TuristaPlu': 107.1}  \n",
      "2 2023-09-29 08:05:00       175  {'Turist': 80.5, 'TuristaPlu': 107.1}  \n",
      "3 2023-09-29 10:10:00       175  {'Turist': 80.5, 'TuristaPlu': 107.1}  \n",
      "4 2023-09-29 11:53:00       182  {'Turist': 80.5, 'TuristaPlu': 107.1}  \n",
      "  trip_id train_type                                           schedule  \\\n",
      "0   02074      ALVIA  {'60000': (0, 0), '37200': (52, 54), '37300': ...   \n",
      "1   02070        AVE  {'60000': (0, 0), '37200': (51, 52), '37300': ...   \n",
      "2   02080        AVE  {'60000': (0, 0), '00000': (116, 119), '51003'...   \n",
      "3   02100        AVE  {'60000': (0, 0), '00000': (116, 119), '51003'...   \n",
      "4   02310        AVE  {'60000': (0, 0), '37200': (51, 52), '37300': ...   \n",
      "\n",
      "            departure  duration                                  price  \\\n",
      "0 2023-09-29 06:27:00       202   {'Turist': 70.9, 'TuristaPlu': 85.1}   \n",
      "1 2023-09-29 06:48:00       182  {'Turist': 80.5, 'TuristaPlu': 107.1}   \n",
      "2 2023-09-29 08:05:00       175  {'Turist': 80.5, 'TuristaPlu': 107.1}   \n",
      "3 2023-09-29 10:10:00       175  {'Turist': 80.5, 'TuristaPlu': 107.1}   \n",
      "4 2023-09-29 11:53:00       182  {'Turist': 80.5, 'TuristaPlu': 107.1}   \n",
      "\n",
      "               service_id  \n",
      "0  02074_29-09-2023-06.27  \n",
      "1  02070_29-09-2023-06.48  \n",
      "2  02080_29-09-2023-08.05  \n",
      "3  02100_29-09-2023-10.10  \n",
      "4  02310_29-09-2023-11.53  \n"
     ]
    }
   ],
   "source": [
    "origin_id = scraper.get_renfe_station_id('60000')\n",
    "destination_id = scraper.get_renfe_station_id('51003')\n",
    "\n",
    "date = datetime.date(day=29, month=9, year=2023)\n",
    "df_trips, df_stops = scraper.scrape_trips(origin_id=origin_id, destination_id=destination_id, init_date=date)\n",
    "\n",
    "print(df_trips.head())"
   ],
   "metadata": {
    "collapsed": false,
    "ExecuteTime": {
     "end_time": "2023-09-29T12:00:33.531544Z",
     "start_time": "2023-09-29T12:00:32.629932Z"
    }
   },
   "id": "a353c1b3c36002ef"
  },
  {
   "cell_type": "code",
   "execution_count": 12,
   "outputs": [
    {
     "data": {
      "text/plain": "               service_id stop_id  arrival  departure\n0  02074_29-09-2023-06.27   60000        0          0\n1  02074_29-09-2023-06.27   37200       52         54\n2  02074_29-09-2023-06.27   37300       69         71\n3  02074_29-09-2023-06.27   37704      104        105\n4  02074_29-09-2023-06.27   00000      303       -387",
      "text/html": "<div>\n<style scoped>\n    .dataframe tbody tr th:only-of-type {\n        vertical-align: middle;\n    }\n\n    .dataframe tbody tr th {\n        vertical-align: top;\n    }\n\n    .dataframe thead th {\n        text-align: right;\n    }\n</style>\n<table border=\"1\" class=\"dataframe\">\n  <thead>\n    <tr style=\"text-align: right;\">\n      <th></th>\n      <th>service_id</th>\n      <th>stop_id</th>\n      <th>arrival</th>\n      <th>departure</th>\n    </tr>\n  </thead>\n  <tbody>\n    <tr>\n      <th>0</th>\n      <td>02074_29-09-2023-06.27</td>\n      <td>60000</td>\n      <td>0</td>\n      <td>0</td>\n    </tr>\n    <tr>\n      <th>1</th>\n      <td>02074_29-09-2023-06.27</td>\n      <td>37200</td>\n      <td>52</td>\n      <td>54</td>\n    </tr>\n    <tr>\n      <th>2</th>\n      <td>02074_29-09-2023-06.27</td>\n      <td>37300</td>\n      <td>69</td>\n      <td>71</td>\n    </tr>\n    <tr>\n      <th>3</th>\n      <td>02074_29-09-2023-06.27</td>\n      <td>37704</td>\n      <td>104</td>\n      <td>105</td>\n    </tr>\n    <tr>\n      <th>4</th>\n      <td>02074_29-09-2023-06.27</td>\n      <td>00000</td>\n      <td>303</td>\n      <td>-387</td>\n    </tr>\n  </tbody>\n</table>\n</div>"
     },
     "execution_count": 12,
     "metadata": {},
     "output_type": "execute_result"
    }
   ],
   "source": [
    "df_stops.head()"
   ],
   "metadata": {
    "collapsed": false,
    "ExecuteTime": {
     "end_time": "2023-09-29T11:58:48.715130Z",
     "start_time": "2023-09-29T11:58:48.664749Z"
    }
   },
   "id": "b944e1cf062533c6"
  },
  {
   "cell_type": "code",
   "execution_count": 13,
   "outputs": [],
   "source": [
    "result_dict = {}\n",
    "\n",
    "grouped = df_stops.groupby(\"service_id\")\n",
    "\n",
    "for name, group in grouped:\n",
    "    sub_dict = {}\n",
    "    for index, row in group.iterrows():\n",
    "        sub_dict[row['stop_id']] = (row['arrival'], row['departure'])\n",
    "    result_dict[name] = sub_dict\n",
    "\n",
    "# print(result_dict)"
   ],
   "metadata": {
    "collapsed": false,
    "ExecuteTime": {
     "end_time": "2023-09-29T11:58:49.437830Z",
     "start_time": "2023-09-29T11:58:49.391534Z"
    }
   },
   "id": "44a3ed89b8b9d8b0"
  },
  {
   "cell_type": "code",
   "execution_count": 14,
   "outputs": [],
   "source": [
    "trips = list(set(tuple(service.keys())for service in result_dict.values()))\n",
    "# print(trips)"
   ],
   "metadata": {
    "collapsed": false,
    "ExecuteTime": {
     "end_time": "2023-09-29T11:58:50.188994Z",
     "start_time": "2023-09-29T11:58:50.145388Z"
    }
   },
   "id": "d9f18b55c6a56ff7"
  },
  {
   "cell_type": "code",
   "execution_count": 15,
   "outputs": [
    {
     "name": "stdout",
     "output_type": "stream",
     "text": [
      "['60000', '37200', '37300', '37704', '00000', '51003', '51300', '51400', '70101']\n"
     ]
    }
   ],
   "source": [
    "# Initialize line with max length trip\n",
    "line_stations = list(trips.pop(trips.index(max(trips, key=len))))\n",
    "\n",
    "# Complete corridor with other stops that are not in the initial defined corridor\n",
    "for trip in trips:\n",
    "    for i, station in enumerate(trip):\n",
    "        if station not in line_stations:\n",
    "            # If station is the last one, append it to the end of the corridor\n",
    "            if i == len(trip) - 1:\n",
    "                line_stations.append(station)\n",
    "            else:\n",
    "                # If station is not the last one, insert it in the corridor before the next station\n",
    "                index = line_stations.index(trip[i + 1])\n",
    "                line_stations.insert(index, station)\n",
    "\n",
    "print(line_stations)"
   ],
   "metadata": {
    "collapsed": false,
    "ExecuteTime": {
     "end_time": "2023-09-29T11:58:50.887805Z",
     "start_time": "2023-09-29T11:58:50.843186Z"
    }
   },
   "id": "f54893b61318b52c"
  },
  {
   "cell_type": "code",
   "execution_count": 16,
   "outputs": [
    {
     "name": "stdout",
     "output_type": "stream",
     "text": [
      "['Madrid-Puerta de Atocha', 'Ciudad Real', 'Puertollano', 'Villanueva de Cordoba-Los Pedroches', 'Unknown', 'Sevilla-Santa Justa', 'Jerez de La Frontera', 'Puerto de Santa Maria', 'San Fernando Henares']\n"
     ]
    }
   ],
   "source": [
    "mapped_names = scraper.stations_df.set_index('stop_id')['stop_name'].to_dict()\n",
    "line_stations_names = list(map(mapped_names.get, line_stations))\n",
    "\n",
    "print(line_stations_names)"
   ],
   "metadata": {
    "collapsed": false,
    "ExecuteTime": {
     "end_time": "2023-09-29T11:58:54.344276Z",
     "start_time": "2023-09-29T11:58:54.300435Z"
    }
   },
   "id": "37cd1c7f2e418289"
  },
  {
   "cell_type": "code",
   "execution_count": null,
   "outputs": [],
   "source": [],
   "metadata": {
    "collapsed": false
   },
   "id": "e816c576d6582c86"
  }
 ],
 "metadata": {
  "kernelspec": {
   "display_name": "Python 3",
   "language": "python",
   "name": "python3"
  },
  "language_info": {
   "codemirror_mode": {
    "name": "ipython",
    "version": 2
   },
   "file_extension": ".py",
   "mimetype": "text/x-python",
   "name": "python",
   "nbconvert_exporter": "python",
   "pygments_lexer": "ipython2",
   "version": "2.7.6"
  }
 },
 "nbformat": 4,
 "nbformat_minor": 5
}
