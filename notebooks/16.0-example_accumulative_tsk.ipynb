{
 "cells": [
  {
   "cell_type": "code",
   "execution_count": 1,
   "outputs": [],
   "source": [
    "%load_ext autoreload\n",
    "%autoreload 2"
   ],
   "metadata": {
    "collapsed": false,
    "ExecuteTime": {
     "end_time": "2024-01-26T11:20:03.328557Z",
     "start_time": "2024-01-26T11:20:03.318126Z"
    }
   },
   "id": "65180f3c1ccbdba2"
  },
  {
   "cell_type": "code",
   "execution_count": 2,
   "outputs": [],
   "source": [
    "\"\"\"Import modules.\"\"\"\n",
    "import contextlib\n",
    "\n",
    "from src.robin.decision_model.terms import MembershipFS\n",
    "from src.robin.decision_model.fuzzy_model import AcumulativeTSKFuzzyModel\n",
    "from src.robin.decision_model.utils import read_json_variables, read_rules\n",
    "from src.robin.decision_model.examples.generating_weapons import read_weapons, show_weapons"
   ],
   "metadata": {
    "collapsed": false,
    "ExecuteTime": {
     "end_time": "2024-01-26T11:20:03.495402Z",
     "start_time": "2024-01-26T11:20:03.329456Z"
    }
   },
   "id": "1d0d711309f8768d"
  },
  {
   "cell_type": "code",
   "execution_count": 3,
   "id": "initial_id",
   "metadata": {
    "collapsed": true,
    "ExecuteTime": {
     "end_time": "2024-01-26T11:20:03.503916Z",
     "start_time": "2024-01-26T11:20:03.495779Z"
    }
   },
   "outputs": [],
   "source": [
    "# Input files for each gamer\n",
    "\n",
    "g1 = ['../data/accumulative_tsk/gamer_example_files/gamers_vars.json', # fichero variables \n",
    "      '../data/accumulative_tsk/gamer_example_files/gamer1_model.txt', # fichero reglas\n",
    "      '../reports/accumulative_tsk_output/gamer1_output_100.txt', # fichero de salida\n",
    "      '../data/accumulative_tsk/gamer_example_files/weapons_100.csv']\n",
    "\n",
    "g2 = ['../data/accumulative_tsk/gamer_example_files/gamers_vars.json', # fichero variables \n",
    "      '../data/accumulative_tsk/gamer_example_files/gamer2_model.txt', # fichero reglas\n",
    "      '../reports/accumulative_tsk_output/gamer2_output_100.txt', # fichero de salida\n",
    "      '../data/accumulative_tsk/gamer_example_files/weapons_100.csv']\n",
    "\n",
    "g3 = ['../data/accumulative_tsk/gamer_example_files/gamers_vars.json', # fichero variables \n",
    "      '../data/accumulative_tsk/gamer_example_files/gamer3_model.txt', # fichero reglas\n",
    "      '../reports/accumulative_tsk_output/gamer3_output_100.txt', # fichero de salida\n",
    "      '../data/accumulative_tsk/gamer_example_files/weapons_100.csv']\n",
    "\n",
    "g4 = ['../data/accumulative_tsk/gamer_example_files/gamers_vars_short_names.json', # fichero variables \n",
    "      '../data/accumulative_tsk/gamer_example_files/gamer4_model.txt', # fichero reglas\n",
    "      '../reports/accumulative_tsk_output/gamer4_output_100.txt', # fichero de salida\n",
    "      '../data/accumulative_tsk/gamer_example_files/weapons_100_short_names.csv']\n",
    "\n",
    "# CEO input files\n",
    "CEO = ['../data/accumulative_tsk/gamer_example_files/ceo_vars.json', # fichero variables \n",
    "       '../data/accumulative_tsk/gamer_example_files/induced.txt', # fichero reglas\n",
    "       '../reports/accumulative_tsk_output/CEO.txt']  # fichero de salida\n"
   ]
  },
  {
   "cell_type": "code",
   "execution_count": 4,
   "outputs": [
    {
     "name": "stdout",
     "output_type": "stream",
     "text": [
      "['C', 'Ra', 'Ca', 'S', 'D', 'Co', 'R', 'Sp', 'FE', 'DE', 'PE']\n"
     ]
    }
   ],
   "source": [
    "option_gamer = g4\n",
    "# CASO DE GAMERS\n",
    "vars_names, weapons = read_weapons(option_gamer[3])\n",
    "print(vars_names)\n",
    "show_weapons(vars_names,weapons)"
   ],
   "metadata": {
    "collapsed": false,
    "ExecuteTime": {
     "end_time": "2024-01-26T11:20:03.515048Z",
     "start_time": "2024-01-26T11:20:03.504915Z"
    }
   },
   "id": "bad231358e44e8d"
  },
  {
   "cell_type": "code",
   "execution_count": 5,
   "outputs": [
    {
     "name": "stdout",
     "output_type": "stream",
     "text": [
      "[[80.0, 100.0, 30.0, 28.0, 17.0, 17.0, 10.0, 13.0, 93.0, 10.0, 13.0], [82.0, 56.0, 16.0, 19.0, 2.0, 12.0, 27.0, 32.0, 3.0, 23.0, 76.0], [94.0, 30.0, 25.0, 16.0, 18.0, 19.0, 22.0, 0.0, 12.0, 16.0, 88.0], [89.0, 10.0, 18.0, 14.0, 7.0, 16.0, 23.0, 11.0, 30.0, 7.0, 75.0], [96.0, 35.0, 8.0, 31.0, 6.0, 15.0, 16.0, 34.0, 35.0, 3.0, 82.0], [97.0, 12.0, 6.0, 29.0, 12.0, 14.0, 22.0, 79.0, 18.0, 24.0, 30.0], [90.0, 29.0, 92.0, 1.0, 33.0, 0.0, 35.0, 0.0, 3.0, 5.0, 32.0], [80.0, 6.0, 95.0, 23.0, 4.0, 27.0, 9.0, 31.0, 14.0, 35.0, 9.0], [81.0, 42.0, 30.0, 19.0, 35.0, 20.0, 1.0, 26.0, 80.0, 1.0, 8.0], [97.0, 62.0, 26.0, 7.0, 8.0, 28.0, 4.0, 6.0, 18.0, 25.0, 96.0], [75.0, 51.0, 21.0, 82.0, 21.0, 14.0, 9.0, 32.0, 88.0, 27.0, 11.0], [80.0, 96.0, 6.0, 16.0, 86.0, 23.0, 30.0, 35.0, 31.0, 13.0, 3.0], [74.0, 85.0, 96.0, 16.0, 21.0, 0.0, 4.0, 33.0, 9.0, 3.0, 5.0], [76.0, 60.0, 13.0, 26.0, 1.0, 35.0, 99.0, 6.0, 26.0, 99.0, 2.0], [84.0, 22.0, 90.0, 30.0, 30.0, 24.0, 29.0, 10.0, 35.0, 26.0, 1.0], [84.0, 86.0, 9.0, 14.0, 14.0, 25.0, 15.0, 2.0, 17.0, 99.0, 33.0], [100.0, 10.0, 4.0, 34.0, 21.0, 15.0, 4.0, 97.0, 86.0, 28.0, 4.0], [67.0, 97.0, 24.0, 96.0, 32.0, 0.0, 35.0, 30.0, 26.0, 7.0, 95.0], [78.0, 83.0, 29.0, 31.0, 3.0, 32.0, 13.0, 15.0, 11.0, 81.0, 28.0], [73.0, 88.0, 23.0, 1.0, 34.0, 23.0, 79.0, 24.0, 11.0, 32.0, 18.0], [63.0, 36.0, 35.0, 21.0, 7.0, 18.0, 33.0, 90.0, 13.0, 23.0, 86.0], [64.0, 23.0, 10.0, 10.0, 29.0, 10.0, 3.0, 98.0, 35.0, 100.0, 6.0], [75.0, 94.0, 7.0, 11.0, 13.0, 79.0, 16.0, 34.0, 27.0, 32.0, 87.0], [80.0, 78.0, 31.0, 8.0, 5.0, 83.0, 1.0, 27.0, 31.0, 83.0, 0.0], [79.0, 34.0, 98.0, 25.0, 18.0, 30.0, 95.0, 7.0, 22.0, 30.0, 12.0], [77.0, 12.0, 8.0, 94.0, 11.0, 93.0, 15.0, 18.0, 33.0, 12.0, 0.0], [76.0, 78.0, 6.0, 2.0, 26.0, 75.0, 14.0, 29.0, 83.0, 7.0, 12.0], [71.0, 80.0, 31.0, 91.0, 100.0, 13.0, 25.0, 10.0, 15.0, 34.0, 15.0], [77.0, 51.0, 24.0, 29.0, 95.0, 3.0, 29.0, 100.0, 19.0, 21.0, 10.0], [67.0, 68.0, 16.0, 7.0, 100.0, 77.0, 20.0, 16.0, 4.0, 2.0, 15.0], [58.0, 89.0, 8.0, 2.0, 23.0, 0.0, 77.0, 19.0, 98.0, 33.0, 10.0], [62.0, 23.0, 23.0, 99.0, 4.0, 35.0, 19.0, 29.0, 11.0, 79.0, 87.0], [75.0, 38.0, 100.0, 20.0, 15.0, 7.0, 17.0, 7.0, 77.0, 17.0, 28.0], [66.0, 27.0, 10.0, 2.0, 17.0, 98.0, 93.0, 11.0, 25.0, 0.0, 31.0], [74.0, 42.0, 15.0, 14.0, 89.0, 97.0, 97.0, 5.0, 1.0, 13.0, 20.0], [77.0, 13.0, 27.0, 24.0, 90.0, 29.0, 2.0, 89.0, 34.0, 85.0, 9.0], [79.0, 0.0, 8.0, 4.0, 94.0, 26.0, 33.0, 6.0, 80.0, 20.0, 94.0], [60.0, 22.0, 94.0, 24.0, 9.0, 1.0, 30.0, 8.0, 100.0, 14.0, 32.0], [73.0, 65.0, 82.0, 12.0, 8.0, 6.0, 26.0, 7.0, 31.0, 90.0, 76.0], [79.0, 55.0, 88.0, 12.0, 8.0, 30.0, 15.0, 28.0, 6.0, 18.0, 81.0], [54.0, 36.0, 98.0, 22.0, 25.0, 17.0, 87.0, 20.0, 29.0, 89.0, 30.0], [43.0, 32.0, 15.0, 97.0, 28.0, 33.0, 22.0, 82.0, 3.0, 17.0, 84.0], [49.0, 83.0, 23.0, 76.0, 14.0, 90.0, 1.0, 4.0, 26.0, 24.0, 80.0], [46.0, 67.0, 93.0, 27.0, 91.0, 20.0, 20.0, 81.0, 30.0, 33.0, 9.0], [42.0, 58.0, 77.0, 100.0, 85.0, 16.0, 21.0, 7.0, 5.0, 8.0, 4.0], [43.0, 16.0, 23.0, 100.0, 92.0, 22.0, 34.0, 18.0, 82.0, 28.0, 21.0], [45.0, 76.0, 95.0, 30.0, 89.0, 6.0, 16.0, 97.0, 30.0, 15.0, 7.0], [44.0, 50.0, 15.0, 12.0, 12.0, 90.0, 83.0, 15.0, 24.0, 81.0, 9.0], [48.0, 13.0, 6.0, 33.0, 11.0, 24.0, 9.0, 99.0, 87.0, 30.0, 83.0], [48.0, 30.0, 77.0, 17.0, 0.0, 2.0, 89.0, 92.0, 4.0, 22.0, 1.0], [54.0, 71.0, 90.0, 25.0, 83.0, 86.0, 27.0, 27.0, 86.0, 3.0, 34.0], [46.0, 5.0, 11.0, 75.0, 91.0, 11.0, 7.0, 32.0, 12.0, 19.0, 80.0], [37.0, 2.0, 91.0, 30.0, 19.0, 6.0, 17.0, 89.0, 21.0, 3.0, 98.0], [53.0, 2.0, 33.0, 96.0, 29.0, 78.0, 15.0, 13.0, 18.0, 79.0, 17.0], [46.0, 11.0, 30.0, 81.0, 1.0, 0.0, 79.0, 98.0, 4.0, 24.0, 8.0], [34.0, 66.0, 11.0, 7.0, 95.0, 22.0, 27.0, 11.0, 96.0, 29.0, 88.0], [26.0, 53.0, 26.0, 79.0, 10.0, 100.0, 20.0, 3.0, 76.0, 15.0, 8.0], [37.0, 100.0, 6.0, 7.0, 86.0, 84.0, 96.0, 26.0, 92.0, 33.0, 20.0], [29.0, 97.0, 81.0, 8.0, 30.0, 92.0, 80.0, 86.0, 31.0, 29.0, 10.0], [56.0, 73.0, 99.0, 18.0, 35.0, 19.0, 98.0, 80.0, 31.0, 28.0, 29.0], [24.0, 60.0, 95.0, 86.0, 17.0, 24.0, 29.0, 75.0, 18.0, 26.0, 98.0], [31.0, 39.0, 26.0, 96.0, 83.0, 31.0, 29.0, 80.0, 25.0, 92.0, 14.0], [28.0, 19.0, 26.0, 10.0, 99.0, 87.0, 23.0, 80.0, 15.0, 79.0, 19.0], [34.0, 22.0, 16.0, 26.0, 87.0, 91.0, 26.0, 94.0, 30.0, 94.0, 14.0], [29.0, 7.0, 81.0, 10.0, 91.0, 9.0, 92.0, 85.0, 27.0, 10.0, 29.0], [27.0, 11.0, 7.0, 14.0, 4.0, 95.0, 84.0, 21.0, 95.0, 1.0, 77.0], [31.0, 83.0, 81.0, 91.0, 16.0, 32.0, 76.0, 19.0, 12.0, 94.0, 26.0], [30.0, 69.0, 4.0, 89.0, 4.0, 18.0, 91.0, 92.0, 79.0, 26.0, 35.0], [20.0, 78.0, 100.0, 95.0, 20.0, 93.0, 26.0, 99.0, 29.0, 4.0, 30.0], [39.0, 48.0, 86.0, 89.0, 92.0, 20.0, 77.0, 31.0, 15.0, 6.0, 20.0], [36.0, 76.0, 28.0, 99.0, 100.0, 85.0, 18.0, 89.0, 29.0, 13.0, 11.0], [39.0, 40.0, 100.0, 96.0, 76.0, 16.0, 97.0, 89.0, 27.0, 16.0, 17.0], [39.0, 3.0, 0.0, 79.0, 6.0, 97.0, 0.0, 95.0, 3.0, 6.0, 93.0], [21.0, 53.0, 99.0, 33.0, 88.0, 84.0, 17.0, 75.0, 6.0, 2.0, 8.0], [16.0, 65.0, 98.0, 90.0, 18.0, 13.0, 29.0, 9.0, 85.0, 93.0, 77.0], [30.0, 40.0, 95.0, 3.0, 5.0, 86.0, 100.0, 27.0, 12.0, 98.0, 18.0], [3.0, 46.0, 79.0, 25.0, 6.0, 83.0, 79.0, 15.0, 11.0, 75.0, 91.0], [10.0, 31.0, 100.0, 85.0, 35.0, 98.0, 99.0, 81.0, 8.0, 4.0, 5.0], [14.0, 5.0, 6.0, 89.0, 98.0, 97.0, 32.0, 10.0, 88.0, 19.0, 33.0], [16.0, 86.0, 98.0, 18.0, 96.0, 25.0, 30.0, 18.0, 100.0, 81.0, 6.0], [17.0, 55.0, 21.0, 76.0, 98.0, 26.0, 79.0, 16.0, 80.0, 77.0, 25.0], [17.0, 21.0, 97.0, 91.0, 91.0, 23.0, 15.0, 96.0, 92.0, 30.0, 31.0], [1.0, 49.0, 78.0, 30.0, 83.0, 24.0, 12.0, 93.0, 97.0, 90.0, 13.0], [13.0, 92.0, 86.0, 18.0, 90.0, 79.0, 22.0, 21.0, 78.0, 21.0, 89.0], [14.0, 87.0, 12.0, 98.0, 7.0, 13.0, 96.0, 90.0, 86.0, 93.0, 28.0], [17.0, 61.0, 35.0, 24.0, 100.0, 88.0, 3.0, 19.0, 93.0, 84.0, 84.0], [19.0, 25.0, 13.0, 85.0, 27.0, 9.0, 78.0, 84.0, 31.0, 93.0, 93.0], [9.0, 85.0, 96.0, 78.0, 83.0, 91.0, 79.0, 84.0, 88.0, 80.0, 15.0], [13.0, 58.0, 83.0, 96.0, 87.0, 17.0, 97.0, 15.0, 82.0, 21.0, 10.0], [16.0, 79.0, 99.0, 89.0, 87.0, 35.0, 35.0, 93.0, 95.0, 11.0, 9.0], [5.0, 30.0, 79.0, 95.0, 100.0, 16.0, 96.0, 31.0, 100.0, 28.0, 93.0], [3.0, 66.0, 94.0, 75.0, 34.0, 83.0, 97.0, 11.0, 75.0, 22.0, 30.0], [9.0, 75.0, 94.0, 75.0, 17.0, 94.0, 33.0, 81.0, 95.0, 95.0, 98.0], [15.0, 99.0, 27.0, 24.0, 88.0, 78.0, 76.0, 77.0, 6.0, 77.0, 87.0], [11.0, 73.0, 30.0, 98.0, 84.0, 82.0, 90.0, 81.0, 99.0, 75.0, 84.0], [7.0, 57.0, 92.0, 83.0, 90.0, 84.0, 81.0, 17.0, 97.0, 100.0, 79.0], [8.0, 53.0, 3.0, 88.0, 99.0, 85.0, 84.0, 5.0, 98.0, 93.0, 86.0], [0.0, 67.0, 93.0, 93.0, 89.0, 100.0, 86.0, 83.0, 99.0, 79.0, 75.0], [6.0, 36.0, 88.0, 93.0, 76.0, 89.0, 76.0, 2.0, 93.0, 10.0, 92.0], [10.0, 74.0, 76.0, 13.0, 79.0, 75.0, 21.0, 25.0, 80.0, 89.0, 4.0]]\n",
      "['weapon0', 'weapon1', 'weapon2', 'weapon3', 'weapon4', 'weapon5', 'weapon6', 'weapon7', 'weapon8', 'weapon9', 'weapon10', 'weapon11', 'weapon12', 'weapon13', 'weapon14', 'weapon15', 'weapon16', 'weapon17', 'weapon18', 'weapon19', 'weapon20', 'weapon21', 'weapon22', 'weapon23', 'weapon24', 'weapon25', 'weapon26', 'weapon27', 'weapon28', 'weapon29', 'weapon30', 'weapon31', 'weapon32', 'weapon33', 'weapon34', 'weapon35', 'weapon36', 'weapon37', 'weapon38', 'weapon39', 'weapon40', 'weapon41', 'weapon42', 'weapon43', 'weapon44', 'weapon45', 'weapon46', 'weapon47', 'weapon48', 'weapon49', 'weapon50', 'weapon51', 'weapon52', 'weapon53', 'weapon54', 'weapon55', 'weapon56', 'weapon57', 'weapon58', 'weapon59', 'weapon60', 'weapon61', 'weapon62', 'weapon63', 'weapon64', 'weapon65', 'weapon66', 'weapon67', 'weapon68', 'weapon69', 'weapon70', 'weapon71', 'weapon72', 'weapon73', 'weapon74', 'weapon75', 'weapon76', 'weapon77', 'weapon78', 'weapon79', 'weapon80', 'weapon81', 'weapon82', 'weapon83', 'weapon84', 'weapon85', 'weapon86', 'weapon87', 'weapon88', 'weapon89', 'weapon90', 'weapon91', 'weapon92', 'weapon93', 'weapon94', 'weapon95', 'weapon96', 'weapon97', 'weapon98', 'weapon99']\n"
     ]
    }
   ],
   "source": [
    "input_sequence = [ weapons[weapon] for weapon in weapons ]\n",
    "labels = [ e for e in weapons ]\n",
    "\n",
    "print(input_sequence)\n",
    "print(labels)"
   ],
   "metadata": {
    "collapsed": false,
    "ExecuteTime": {
     "end_time": "2024-01-26T11:20:03.526575Z",
     "start_time": "2024-01-26T11:20:03.513331Z"
    }
   },
   "id": "5d9b7ac5c94ec1d5"
  },
  {
   "cell_type": "code",
   "execution_count": 6,
   "outputs": [
    {
     "name": "stdout",
     "output_type": "stream",
     "text": [
      "C C, S S, D D, Ca Ca, Co Co, R R, Sp Sp, Ra Ra, FE FE, DE DE, PE PE, "
     ]
    }
   ],
   "source": [
    "# Definition of linguistic variables\n",
    "variables = read_json_variables(option_gamer[0], vars_names)\n",
    "for name in variables:\n",
    "    print(name, variables[name]['name'], end=', ')"
   ],
   "metadata": {
    "collapsed": false,
    "ExecuteTime": {
     "end_time": "2024-01-26T11:20:03.530164Z",
     "start_time": "2024-01-26T11:20:03.521360Z"
    }
   },
   "id": "19cb64528374b573"
  },
  {
   "cell_type": "code",
   "execution_count": null,
   "outputs": [],
   "source": [
    "#for dicti in variables:\n",
    "#    aux = {}\n",
    "#    for a_set in variables[dicti]['sets']:\n",
    "#        aux[a_set] = MembershipFS(a_set, trapezoidal, variables[dicti]['sets'][a_set][1])\n",
    "#    variables[dicti]['sets'] = aux\n",
    "\n",
    "# LECTURA DE LAS REGLAS Y GENERACIÓN DEL MODELO\n",
    "rules = read_rules(option_gamer[1],variables)"
   ],
   "metadata": {
    "collapsed": false
   },
   "id": "3f19828a0417a1a5"
  },
  {
   "cell_type": "code",
   "execution_count": 7,
   "outputs": [
    {
     "ename": "KeyError",
     "evalue": "'type'",
     "output_type": "error",
     "traceback": [
      "\u001B[0;31m---------------------------------------------------------------------------\u001B[0m",
      "\u001B[0;31mKeyError\u001B[0m                                  Traceback (most recent call last)",
      "Cell \u001B[0;32mIn[7], line 8\u001B[0m\n\u001B[1;32m      1\u001B[0m \u001B[38;5;66;03m#for dicti in variables:\u001B[39;00m\n\u001B[1;32m      2\u001B[0m \u001B[38;5;66;03m#    aux = {}\u001B[39;00m\n\u001B[1;32m      3\u001B[0m \u001B[38;5;66;03m#    for a_set in variables[dicti]['sets']:\u001B[39;00m\n\u001B[0;32m   (...)\u001B[0m\n\u001B[1;32m      6\u001B[0m \n\u001B[1;32m      7\u001B[0m \u001B[38;5;66;03m# LECTURA DE LAS REGLAS Y GENERACIÓN DEL MODELO\u001B[39;00m\n\u001B[0;32m----> 8\u001B[0m rules \u001B[38;5;241m=\u001B[39m read_rules(option_gamer[\u001B[38;5;241m1\u001B[39m],variables)\n\u001B[1;32m     10\u001B[0m \u001B[38;5;66;03m# CREACIÓN DEL MODELO\u001B[39;00m\n\u001B[1;32m     11\u001B[0m model \u001B[38;5;241m=\u001B[39m AcumulativeTSKFuzzyModel(rules)\n",
      "File \u001B[0;32m~/PycharmProjects/robin/src/robin/decision_model/utils.py:127\u001B[0m, in \u001B[0;36mread_rules\u001B[0;34m(file_name, variables)\u001B[0m\n\u001B[1;32m    117\u001B[0m lista \u001B[38;5;241m=\u001B[39m generaLista(antecedent, [\u001B[38;5;124m'\u001B[39m\u001B[38;5;124m(\u001B[39m\u001B[38;5;124m'\u001B[39m, \u001B[38;5;124m'\u001B[39m\u001B[38;5;124m)\u001B[39m\u001B[38;5;124m'\u001B[39m, \u001B[38;5;124m'\u001B[39m\u001B[38;5;124m&\u001B[39m\u001B[38;5;124m'\u001B[39m, \u001B[38;5;124m'\u001B[39m\u001B[38;5;124m|\u001B[39m\u001B[38;5;124m'\u001B[39m], \u001B[38;5;124m'\u001B[39m\u001B[38;5;124m(\u001B[39m\u001B[38;5;124m'\u001B[39m, \u001B[38;5;124m'\u001B[39m\u001B[38;5;124m)\u001B[39m\u001B[38;5;124m'\u001B[39m, variables)\n\u001B[1;32m    118\u001B[0m \u001B[38;5;66;03m# print('lista:',lista)\u001B[39;00m\n\u001B[1;32m    119\u001B[0m \u001B[38;5;66;03m# print('PROPOSITIONS', lista)\u001B[39;00m\n\u001B[1;32m    120\u001B[0m \u001B[38;5;66;03m# print('Name:', name)\u001B[39;00m\n\u001B[0;32m   (...)\u001B[0m\n\u001B[1;32m    123\u001B[0m \u001B[38;5;66;03m# print('Lista Entrada:', str(lista))\u001B[39;00m\n\u001B[1;32m    124\u001B[0m \u001B[38;5;66;03m# print('')\u001B[39;00m\n\u001B[1;32m    125\u001B[0m r \u001B[38;5;241m=\u001B[39m TSKRule(\n\u001B[1;32m    126\u001B[0m     name,\n\u001B[0;32m--> 127\u001B[0m     PDC(lista, funciones),  \u001B[38;5;66;03m# antedente\u001B[39;00m\n\u001B[1;32m    128\u001B[0m     \u001B[38;5;28;01mlambda\u001B[39;00m cons\u001B[38;5;241m=\u001B[39mconsequent: cons\n\u001B[1;32m    129\u001B[0m     \u001B[38;5;66;03m# consecuente es una función en función de las entradas, por ejemplo: x*0.3+y*0.5\u001B[39;00m\n\u001B[1;32m    130\u001B[0m )\n\u001B[1;32m    131\u001B[0m rules\u001B[38;5;241m.\u001B[39mappend(r)\n\u001B[1;32m    132\u001B[0m \u001B[38;5;66;03m# print('LA REGLA:', rules[-1], rules[-1].get_consequent()())\u001B[39;00m\n",
      "File \u001B[0;32m~/PycharmProjects/robin/src/robin/decision_model/propositions.py:290\u001B[0m, in \u001B[0;36mPDC.__init__\u001B[0;34m(self, propos, functions)\u001B[0m\n\u001B[1;32m    288\u001B[0m     \u001B[38;5;28mself\u001B[39m\u001B[38;5;241m.\u001B[39mproposiciones\u001B[38;5;241m.\u001B[39mappend( PDC(fuz_propo, functions) )\n\u001B[1;32m    289\u001B[0m \u001B[38;5;28;01melse\u001B[39;00m:\n\u001B[0;32m--> 290\u001B[0m     \u001B[38;5;28;01mif\u001B[39;00m fuz_propo[\u001B[38;5;241m0\u001B[39m][\u001B[38;5;124m'\u001B[39m\u001B[38;5;124mtype\u001B[39m\u001B[38;5;124m'\u001B[39m]\u001B[38;5;241m==\u001B[39m\u001B[38;5;124m'\u001B[39m\u001B[38;5;124mreal\u001B[39m\u001B[38;5;124m'\u001B[39m:\n\u001B[1;32m    291\u001B[0m         \u001B[38;5;28mself\u001B[39m\u001B[38;5;241m.\u001B[39mproposiciones\u001B[38;5;241m.\u001B[39mappend( RealAP( \u001B[38;5;66;03m# Crea PDA\u001B[39;00m\n\u001B[1;32m    292\u001B[0m             RealV(fuz_propo[\u001B[38;5;241m0\u001B[39m][\u001B[38;5;124m'\u001B[39m\u001B[38;5;124mname\u001B[39m\u001B[38;5;124m'\u001B[39m],\n\u001B[1;32m    293\u001B[0m                       fuz_propo[\u001B[38;5;241m0\u001B[39m][\u001B[38;5;124m'\u001B[39m\u001B[38;5;124mposition\u001B[39m\u001B[38;5;124m'\u001B[39m],\n\u001B[0;32m   (...)\u001B[0m\n\u001B[1;32m    296\u001B[0m             )\n\u001B[1;32m    297\u001B[0m         )\n\u001B[1;32m    298\u001B[0m     \u001B[38;5;28;01mif\u001B[39;00m fuz_propo[\u001B[38;5;241m0\u001B[39m][\u001B[38;5;124m'\u001B[39m\u001B[38;5;124mtype\u001B[39m\u001B[38;5;124m'\u001B[39m]\u001B[38;5;241m==\u001B[39m\u001B[38;5;124m'\u001B[39m\u001B[38;5;124mcategorical\u001B[39m\u001B[38;5;124m'\u001B[39m:\n",
      "\u001B[0;31mKeyError\u001B[0m: 'type'"
     ]
    }
   ],
   "source": [
    "\n",
    "\n",
    "\n",
    "\n",
    "# CREACIÓN DEL MODELO\n",
    "model = AcumulativeTSKFuzzyModel(rules)\n",
    "\n",
    "# MUESTRA DEL MODELO\n",
    "def inferencia(mod, input, labels):\n",
    "    i = 0\n",
    "    outputs = []\n",
    "    for elem in mod.loop_tsk_inference(input):\n",
    "        print('Type:', labels[i],\n",
    "        '\\nInput:', elem['Input'],\n",
    "        '\\nActives rules:', elem['actives_rules'], \n",
    "        '\\nConsequents:', elem['consequents_values_list'],\n",
    "        '\\nMembership grades:', [ round(e,2) for e in elem['rule_membership_value_list'] ],\n",
    "        '\\nCons*Memb:', [ round(c*m,2) for c,m in zip(elem['consequents_values_list'],elem['rule_membership_value_list'])],\n",
    "        '\\nOutput:', round(elem['Output'],2), '\\n')\n",
    "        outputs.append( round(elem['Output'],2) )\n",
    "        i += 1\n",
    "    return outputs\n",
    "\n",
    "# PROCESO DE INFERENCIA EN MODELO TIPO TSK\n",
    "# CASO DEL CEO\n",
    "#input_sequence = [\n",
    "#    [8, 1, 11.1, 30], # Activa todas \n",
    "#    [6, 99, 90, 85], # Activa R1\n",
    "#    [30, 19, 21, 80], # Activa R2 \n",
    "#    [50, 99, 86, 56], # Activa R3\n",
    "#    [6, 99, 21, 85], # Activa R1,R2\n",
    "#    [6.5, 99, 90, 40], # Activa R1, R3\n",
    "#    [30, 19, 20, 35], # Activa R2, R3\n",
    "#    [23, 99, 89.9, 99], # No activa Ninguna\n",
    "#]\n",
    "#print(model)\n",
    "#inferencia(model,input_sequence)\n",
    "\n",
    "# Salida a fichero\n",
    "tam = 10\n",
    "with open(option_gamer[2], 'w', encoding=\"utf-8\") as f:\n",
    "    with contextlib.redirect_stdout(f): # Salida a archivo de texto\n",
    "        print(model)\n",
    "        outputs = inferencia(model,input_sequence,labels)\n",
    "        for size in range(0,tam*10,tam):\n",
    "            l_aux = outputs[size:size+tam]\n",
    "            if len(l_aux)==0:\n",
    "                print(l_aux, 0.0)\n",
    "            else:\n",
    "                print(l_aux, round( sum(l_aux)/len(l_aux), 2) )\n",
    "        aux_outputs = outputs[:]\n",
    "        for pos in range(len(aux_outputs)):\n",
    "            index = aux_outputs.index(max(aux_outputs))\n",
    "            print( str(pos)+' Index:', index, '. Value:', aux_outputs[index] )\n",
    "            aux_outputs[index] = -1.0\n",
    "        \n",
    "\n",
    "#print(model)\n",
    "#outputs = inferencia(model,input_sequence,labels)\n",
    "#print( 'Best index:', outputs.index(max(outputs)) )"
   ],
   "metadata": {
    "collapsed": false,
    "ExecuteTime": {
     "end_time": "2024-01-26T11:20:03.725288Z",
     "start_time": "2024-01-26T11:20:03.531200Z"
    }
   },
   "id": "fe5bf481bd037ebc"
  },
  {
   "cell_type": "code",
   "execution_count": null,
   "outputs": [],
   "source": [],
   "metadata": {
    "collapsed": false,
    "ExecuteTime": {
     "start_time": "2024-01-26T11:20:03.723867Z"
    }
   },
   "id": "7101227f720cb7dc"
  }
 ],
 "metadata": {
  "kernelspec": {
   "display_name": "Python 3",
   "language": "python",
   "name": "python3"
  },
  "language_info": {
   "codemirror_mode": {
    "name": "ipython",
    "version": 2
   },
   "file_extension": ".py",
   "mimetype": "text/x-python",
   "name": "python",
   "nbconvert_exporter": "python",
   "pygments_lexer": "ipython2",
   "version": "2.7.6"
  }
 },
 "nbformat": 4,
 "nbformat_minor": 5
}
