{
 "cells": [
  {
   "cell_type": "code",
   "execution_count": 1,
   "id": "initial_id",
   "metadata": {
    "collapsed": true,
    "ExecuteTime": {
     "end_time": "2024-02-05T15:14:52.568772Z",
     "start_time": "2024-02-05T15:14:52.559504Z"
    }
   },
   "outputs": [],
   "source": [
    "%load_ext autoreload\n",
    "%autoreload 2"
   ]
  },
  {
   "cell_type": "code",
   "execution_count": 2,
   "outputs": [],
   "source": [
    "import ipywidgets as widgets\n",
    "import os\n",
    "import sys\n",
    "import yaml \n",
    "\n",
    "from IPython.display import display\n",
    "from ipywidgets import interact\n",
    "from pathlib import Path\n",
    "\n",
    "sys.path.append('..')"
   ],
   "metadata": {
    "collapsed": false,
    "ExecuteTime": {
     "end_time": "2024-02-05T15:14:53.756965Z",
     "start_time": "2024-02-05T15:14:53.604440Z"
    }
   },
   "id": "b77318e97a6771ba"
  },
  {
   "cell_type": "code",
   "execution_count": 3,
   "outputs": [],
   "source": [
    "path_config_demand = Path('../configs/ewgt23/demand_data_fuzzy.yml')\n",
    "save_path = Path('../configs/generated/')\n",
    "\n",
    "if not os.path.exists(save_path):\n",
    "    os.makedirs(save_path)"
   ],
   "metadata": {
    "collapsed": false,
    "ExecuteTime": {
     "end_time": "2024-02-05T15:14:54.466080Z",
     "start_time": "2024-02-05T15:14:54.458624Z"
    }
   },
   "id": "8243b9a46ffac0a8"
  },
  {
   "cell_type": "code",
   "execution_count": 4,
   "outputs": [],
   "source": [
    "# Load config file\n",
    "with open(path_config_demand, 'r') as f:\n",
    "        demand_yaml = f.read()\n",
    "        \n",
    "data = yaml.load(demand_yaml, Loader=yaml.CSafeLoader)"
   ],
   "metadata": {
    "collapsed": false,
    "ExecuteTime": {
     "end_time": "2024-02-05T15:14:55.619267Z",
     "start_time": "2024-02-05T15:14:55.607943Z"
    }
   },
   "id": "2094785ac0a301ff"
  },
  {
   "cell_type": "code",
   "execution_count": 5,
   "outputs": [
    {
     "name": "stdout",
     "output_type": "stream",
     "text": [
      "Known user types: ('Business', 'Student', 'Tourist')\n",
      "User type:  Business\n",
      "\tUser Variables: \n",
      "\t\t{'name': 'origin', 'type': 'fuzzy', 'support': [0, 100], 'sets': ['very_near', 'mid_range', 'far', 'far_away'], 'very_near': [0, 0, 10, 20], 'mid_range': [10, 20, 50, 60], 'far': [50, 60, 70, 80], 'far_away': [70, 80, 100, 100]}\n",
      "\t\t{'name': 'destination', 'type': 'fuzzy', 'support': [0, 100], 'sets': ['very_near', 'mid_range', 'far', 'far_away'], 'very_near': [0, 0, 10, 20], 'mid_range': [10, 20, 50, 60], 'far': [50, 60, 70, 80], 'far_away': [70, 80, 100, 100]}\n",
      "\t\t{'name': 'departure_time', 'type': 'fuzzy', 'support': [0, 100], 'sets': ['in_time', 'close', 'remote', 'very_remote'], 'in_time': [0, 0, 10, 30], 'close': [10, 30, 40, 60], 'remote': [40, 60, 70, 90], 'very_remote': [70, 90, 100, 100]}\n",
      "\t\t{'name': 'arrival_time', 'type': 'fuzzy', 'support': [0, 100], 'sets': ['in_time', 'close', 'remote', 'very_remote'], 'in_time': [0, 0, 10, 30], 'close': [10, 30, 40, 60], 'remote': [40, 60, 70, 90], 'very_remote': [70, 90, 100, 100]}\n",
      "\t\t{'name': 'price', 'type': 'fuzzy', 'support': [0, 100], 'sets': ['very_cheap', 'cheap', 'medium', 'expensive'], 'very_cheap': [0, 0, 5, 15], 'cheap': [5, 15, 25, 35], 'medium': [25, 35, 55, 65], 'expensive': [55, 65, 100, 100]}\n",
      "\t\t{'name': 'seat', 'type': 'fuzzy', 'support': [0, 100], 'sets': ['basic', 'tourist', 'premium'], 'basic': [0, 0, 15, 25], 'tourist': [15, 25, 45, 55], 'premium': [45, 55, 100, 100]}\n",
      "\tUser Rules: \n",
      "\t\tR0 : IF (price is expensive) THEN 20.0\n",
      "\t\tR1 : IF (origin is very_near) & (destination is very_near) THEN 16.0\n",
      "\t\tR2 : IF (origin is very_near) & (destination is very_near) THEN 24.0\n",
      "\t\tR3 : IF (origin is very_near) & (destination is very_near) & (departure_time is in_time) & (arrival_time is in_time) THEN 40.0\n",
      "User type:  Student\n",
      "\tUser Variables: \n",
      "\t\t{'name': 'origin', 'type': 'fuzzy', 'support': [0, 100], 'sets': ['very_near', 'mid_range', 'far', 'far_away'], 'very_near': [0, 0, 10, 20], 'mid_range': [10, 20, 50, 60], 'far': [50, 60, 70, 80], 'far_away': [70, 80, 100, 100]}\n",
      "\t\t{'name': 'destination', 'type': 'fuzzy', 'support': [0, 100], 'sets': ['very_near', 'mid_range', 'far', 'far_away'], 'very_near': [0, 0, 10, 20], 'mid_range': [10, 20, 50, 60], 'far': [50, 60, 70, 80], 'far_away': [70, 80, 100, 100]}\n",
      "\t\t{'name': 'departure_time', 'type': 'fuzzy', 'support': [0, 100], 'sets': ['in_time', 'close', 'remote', 'very_remote'], 'in_time': [0, 0, 10, 30], 'close': [10, 30, 40, 60], 'remote': [40, 60, 70, 90], 'very_remote': [70, 90, 100, 100]}\n",
      "\t\t{'name': 'arrival_time', 'type': 'fuzzy', 'support': [0, 100], 'sets': ['in_time', 'close', 'remote', 'very_remote'], 'in_time': [0, 0, 10, 30], 'close': [10, 30, 40, 60], 'remote': [40, 60, 70, 90], 'very_remote': [70, 90, 100, 100]}\n",
      "\t\t{'name': 'price', 'type': 'fuzzy', 'support': [0, 100], 'sets': ['very_cheap', 'cheap', 'medium', 'expensive'], 'very_cheap': [0, 0, 5, 15], 'cheap': [5, 15, 25, 35], 'medium': [25, 35, 55, 65], 'expensive': [55, 65, 100, 100]}\n",
      "\t\t{'name': 'seat', 'type': 'fuzzy', 'support': [0, 100], 'sets': ['basic', 'tourist', 'premium'], 'basic': [0, 0, 15, 25], 'tourist': [15, 25, 45, 55], 'premium': [45, 55, 100, 100]}\n",
      "\tUser Rules: \n",
      "\t\tR0 : IF (price is very_cheap) THEN 70.0\n",
      "\t\tR1 : IF (origin is very_near) & (destination is very_near) THEN 22.5\n",
      "\t\tR2 : IF (origin is very_near) & (destination is very_near) & (departure_time is in_time) & (arrival_time is in_time) THEN 7.5\n",
      "User type:  Tourist\n",
      "\tUser Variables: \n",
      "\t\t{'name': 'origin', 'type': 'fuzzy', 'support': [0, 100], 'sets': ['very_near', 'mid_range', 'far', 'far_away'], 'very_near': [0, 0, 10, 20], 'mid_range': [10, 20, 50, 60], 'far': [50, 60, 70, 80], 'far_away': [70, 80, 100, 100]}\n",
      "\t\t{'name': 'destination', 'type': 'fuzzy', 'support': [0, 100], 'sets': ['very_near', 'mid_range', 'far', 'far_away'], 'very_near': [0, 0, 10, 20], 'mid_range': [10, 20, 50, 60], 'far': [50, 60, 70, 80], 'far_away': [70, 80, 100, 100]}\n",
      "\t\t{'name': 'departure_time', 'type': 'fuzzy', 'support': [0, 100], 'sets': ['in_time', 'close', 'remote', 'very_remote'], 'in_time': [0, 0, 10, 30], 'close': [10, 30, 40, 60], 'remote': [40, 60, 70, 90], 'very_remote': [70, 90, 100, 100]}\n",
      "\t\t{'name': 'arrival_time', 'type': 'fuzzy', 'support': [0, 100], 'sets': ['in_time', 'close', 'remote', 'very_remote'], 'in_time': [0, 0, 10, 30], 'close': [10, 30, 40, 60], 'remote': [40, 60, 70, 90], 'very_remote': [70, 90, 100, 100]}\n",
      "\t\t{'name': 'price', 'type': 'fuzzy', 'support': [0, 100], 'sets': ['very_cheap', 'cheap', 'medium', 'expensive'], 'very_cheap': [0, 0, 5, 15], 'cheap': [5, 15, 25, 35], 'medium': [25, 35, 55, 65], 'expensive': [55, 65, 100, 100]}\n",
      "\t\t{'name': 'seat', 'type': 'fuzzy', 'support': [0, 100], 'sets': ['basic', 'tourist', 'premium'], 'basic': [0, 0, 15, 25], 'tourist': [15, 25, 45, 55], 'premium': [45, 55, 100, 100]}\n",
      "\tUser Rules: \n",
      "\t\tR0 : IF (seat is tourist) THEN 30.0\n",
      "\t\tR1 : IF (origin is very_near) & (destination is very_near) THEN 40.0\n",
      "\t\tR2 : IF (departure_time is close) & (arrival_time is close) THEN 30.0\n"
     ]
    }
   ],
   "source": [
    "# Get users\n",
    "user_patterns = {user_pattern['name']: user_pattern for user_pattern in data['userPattern']}\n",
    "\n",
    "# Get set of user types\n",
    "user_types = tuple(user_patterns.keys())\n",
    "print(f\"Known user types: {user_types}\")\n",
    "\n",
    "# Get set of variables\n",
    "for user_type in user_types:\n",
    "    print(f\"User type: \", user_type)\n",
    "    user_vars = user_patterns[user_type]['variables']\n",
    "    print(f\"\\tUser Variables: \")\n",
    "    for var in user_vars:\n",
    "        print(f\"\\t\\t{var}\")\n",
    "    user_rules = user_patterns[user_type]['rules']\n",
    "    print(f\"\\tUser Rules: \")\n",
    "    for rule in user_rules:\n",
    "        print(f\"\\t\\t{rule} : {user_rules[rule]}\")"
   ],
   "metadata": {
    "collapsed": false,
    "ExecuteTime": {
     "end_time": "2024-02-05T15:14:57.250354Z",
     "start_time": "2024-02-05T15:14:57.225433Z"
    }
   },
   "id": "141546f84dd73351"
  },
  {
   "cell_type": "code",
   "execution_count": 6,
   "outputs": [
    {
     "data": {
      "text/plain": "Dropdown(description='Select user to edit: ', options=('Business', 'Student', 'Tourist'), value='Business')",
      "application/vnd.jupyter.widget-view+json": {
       "version_major": 2,
       "version_minor": 0,
       "model_id": "b4fb71059d724043b5a50fe42705cc75"
      }
     },
     "metadata": {},
     "output_type": "display_data"
    },
    {
     "name": "stdout",
     "output_type": "stream",
     "text": []
    }
   ],
   "source": [
    "# Select passenger to edit\n",
    "widget_user_type = widgets.Dropdown(\n",
    "    options=user_types,\n",
    "    description='Select user to edit: ',\n",
    "    #layout = widgets.Layout(width='500px')\n",
    ")\n",
    "\n",
    "# Mostrar el widget\n",
    "display(widget_user_type)\n",
    "print()"
   ],
   "metadata": {
    "collapsed": false,
    "ExecuteTime": {
     "end_time": "2024-02-05T15:15:01.605054Z",
     "start_time": "2024-02-05T15:15:01.594984Z"
    }
   },
   "id": "ebf41549813c6e33"
  },
  {
   "cell_type": "code",
   "execution_count": 7,
   "outputs": [
    {
     "name": "stdout",
     "output_type": "stream",
     "text": [
      "Chosen user type: Business\n",
      "\tUser Variables: \n",
      "\t\t{'name': 'origin', 'type': 'fuzzy', 'support': [0, 100], 'sets': ['very_near', 'mid_range', 'far', 'far_away'], 'very_near': [0, 0, 10, 20], 'mid_range': [10, 20, 50, 60], 'far': [50, 60, 70, 80], 'far_away': [70, 80, 100, 100]}\n",
      "\t\t{'name': 'destination', 'type': 'fuzzy', 'support': [0, 100], 'sets': ['very_near', 'mid_range', 'far', 'far_away'], 'very_near': [0, 0, 10, 20], 'mid_range': [10, 20, 50, 60], 'far': [50, 60, 70, 80], 'far_away': [70, 80, 100, 100]}\n",
      "\t\t{'name': 'departure_time', 'type': 'fuzzy', 'support': [0, 100], 'sets': ['in_time', 'close', 'remote', 'very_remote'], 'in_time': [0, 0, 10, 30], 'close': [10, 30, 40, 60], 'remote': [40, 60, 70, 90], 'very_remote': [70, 90, 100, 100]}\n",
      "\t\t{'name': 'arrival_time', 'type': 'fuzzy', 'support': [0, 100], 'sets': ['in_time', 'close', 'remote', 'very_remote'], 'in_time': [0, 0, 10, 30], 'close': [10, 30, 40, 60], 'remote': [40, 60, 70, 90], 'very_remote': [70, 90, 100, 100]}\n",
      "\t\t{'name': 'price', 'type': 'fuzzy', 'support': [0, 100], 'sets': ['very_cheap', 'cheap', 'medium', 'expensive'], 'very_cheap': [0, 0, 5, 15], 'cheap': [5, 15, 25, 35], 'medium': [25, 35, 55, 65], 'expensive': [55, 65, 100, 100]}\n",
      "\t\t{'name': 'seat', 'type': 'fuzzy', 'support': [0, 100], 'sets': ['basic', 'tourist', 'premium'], 'basic': [0, 0, 15, 25], 'tourist': [15, 25, 45, 55], 'premium': [45, 55, 100, 100]}\n",
      "\tUser Rules: \n",
      "\t\tR0 : IF (price is expensive) THEN 20.0\n",
      "\t\tR1 : IF (origin is very_near) & (destination is very_near) THEN 16.0\n",
      "\t\tR2 : IF (origin is very_near) & (destination is very_near) THEN 24.0\n",
      "\t\tR3 : IF (origin is very_near) & (destination is very_near) & (departure_time is in_time) & (arrival_time is in_time) THEN 40.0\n"
     ]
    }
   ],
   "source": [
    "# Get users\n",
    "selected_user = widget_user_type.value\n",
    "print(f\"Chosen user type: {selected_user}\")\n",
    "\n",
    "user_vars = user_patterns[selected_user]['variables']\n",
    "print(f\"\\tUser Variables: \")\n",
    "for var in user_vars:\n",
    "    print(f\"\\t\\t{var}\")\n",
    "user_rules = user_patterns[selected_user]['rules']\n",
    "print(f\"\\tUser Rules: \")\n",
    "for rule in user_rules:\n",
    "    print(f\"\\t\\t{rule} : {user_rules[rule]}\")"
   ],
   "metadata": {
    "collapsed": false,
    "ExecuteTime": {
     "end_time": "2024-02-05T15:15:06.537431Z",
     "start_time": "2024-02-05T15:15:06.525753Z"
    }
   },
   "id": "466fd40d3220420c"
  },
  {
   "cell_type": "code",
   "execution_count": 8,
   "outputs": [
    {
     "name": "stdout",
     "output_type": "stream",
     "text": [
      "Set name: very_near\n",
      "[0, 100] [0, 0, 10, 20]\n",
      "Set: [0, 0, 10, 20]\n"
     ]
    },
    {
     "data": {
      "text/plain": "FloatRangeSlider(value=(0.0, 20.0), continuous_update=False, description='Range:', readout_format='.1f', step=…",
      "application/vnd.jupyter.widget-view+json": {
       "version_major": 2,
       "version_minor": 0,
       "model_id": "c914dcc729014937bb5723070e626cf1"
      }
     },
     "metadata": {},
     "output_type": "display_data"
    },
    {
     "data": {
      "text/plain": "FloatSlider(value=0.0, continuous_update=False, description='Intermedio 1:', max=20.0, readout_format='.1f', s…",
      "application/vnd.jupyter.widget-view+json": {
       "version_major": 2,
       "version_minor": 0,
       "model_id": "be39cfafb2a94bc9ae7ed4bf3ae4e30a"
      }
     },
     "metadata": {},
     "output_type": "display_data"
    },
    {
     "data": {
      "text/plain": "FloatSlider(value=10.0, continuous_update=False, description='Intermedio 2:', max=20.0, readout_format='.1f', …",
      "application/vnd.jupyter.widget-view+json": {
       "version_major": 2,
       "version_minor": 0,
       "model_id": "013079d53f67479eb1a9f8001f95c244"
      }
     },
     "metadata": {},
     "output_type": "display_data"
    },
    {
     "name": "stdout",
     "output_type": "stream",
     "text": [
      "\n",
      "Set name: mid_range\n",
      "[0, 100] [10, 20, 50, 60]\n",
      "Set: [10, 20, 50, 60]\n"
     ]
    },
    {
     "data": {
      "text/plain": "FloatRangeSlider(value=(10.0, 60.0), continuous_update=False, description='Range:', readout_format='.1f', step…",
      "application/vnd.jupyter.widget-view+json": {
       "version_major": 2,
       "version_minor": 0,
       "model_id": "1df2aacceef647289d57f6e5520363d1"
      }
     },
     "metadata": {},
     "output_type": "display_data"
    },
    {
     "data": {
      "text/plain": "FloatSlider(value=20.0, continuous_update=False, description='Intermedio 1:', max=60.0, min=10.0, readout_form…",
      "application/vnd.jupyter.widget-view+json": {
       "version_major": 2,
       "version_minor": 0,
       "model_id": "4e78a747eec64c2c916552e58645d96a"
      }
     },
     "metadata": {},
     "output_type": "display_data"
    },
    {
     "data": {
      "text/plain": "FloatSlider(value=50.0, continuous_update=False, description='Intermedio 2:', max=60.0, min=20.0, readout_form…",
      "application/vnd.jupyter.widget-view+json": {
       "version_major": 2,
       "version_minor": 0,
       "model_id": "e8feab3243fc4d28895d4265e7ea7167"
      }
     },
     "metadata": {},
     "output_type": "display_data"
    },
    {
     "name": "stdout",
     "output_type": "stream",
     "text": [
      "\n",
      "Set name: far\n",
      "[0, 100] [50, 60, 70, 80]\n",
      "Set: [50, 60, 70, 80]\n"
     ]
    },
    {
     "data": {
      "text/plain": "FloatRangeSlider(value=(50.0, 80.0), continuous_update=False, description='Range:', readout_format='.1f', step…",
      "application/vnd.jupyter.widget-view+json": {
       "version_major": 2,
       "version_minor": 0,
       "model_id": "684f33f374c749dca44b28b3ada3413f"
      }
     },
     "metadata": {},
     "output_type": "display_data"
    },
    {
     "data": {
      "text/plain": "FloatSlider(value=60.0, continuous_update=False, description='Intermedio 1:', max=80.0, min=50.0, readout_form…",
      "application/vnd.jupyter.widget-view+json": {
       "version_major": 2,
       "version_minor": 0,
       "model_id": "6420857576a94f4792a66be3f78584f4"
      }
     },
     "metadata": {},
     "output_type": "display_data"
    },
    {
     "data": {
      "text/plain": "FloatSlider(value=70.0, continuous_update=False, description='Intermedio 2:', max=80.0, min=60.0, readout_form…",
      "application/vnd.jupyter.widget-view+json": {
       "version_major": 2,
       "version_minor": 0,
       "model_id": "c64ab6d7669e4897b5368bdae99a8fea"
      }
     },
     "metadata": {},
     "output_type": "display_data"
    },
    {
     "name": "stdout",
     "output_type": "stream",
     "text": [
      "\n",
      "Set name: far_away\n",
      "[0, 100] [70, 80, 100, 100]\n",
      "Set: [70, 80, 100, 100]\n"
     ]
    },
    {
     "data": {
      "text/plain": "FloatRangeSlider(value=(70.0, 100.0), continuous_update=False, description='Range:', readout_format='.1f', ste…",
      "application/vnd.jupyter.widget-view+json": {
       "version_major": 2,
       "version_minor": 0,
       "model_id": "fa94fa0e80c7468f9b06dfef42f2fce7"
      }
     },
     "metadata": {},
     "output_type": "display_data"
    },
    {
     "data": {
      "text/plain": "FloatSlider(value=80.0, continuous_update=False, description='Intermedio 1:', min=70.0, readout_format='.1f', …",
      "application/vnd.jupyter.widget-view+json": {
       "version_major": 2,
       "version_minor": 0,
       "model_id": "0debe539fb884ce1a042c52c34d4a92d"
      }
     },
     "metadata": {},
     "output_type": "display_data"
    },
    {
     "data": {
      "text/plain": "FloatSlider(value=100.0, continuous_update=False, description='Intermedio 2:', min=80.0, readout_format='.1f',…",
      "application/vnd.jupyter.widget-view+json": {
       "version_major": 2,
       "version_minor": 0,
       "model_id": "358cc523ac90488bb5b8572f43221c82"
      }
     },
     "metadata": {},
     "output_type": "display_data"
    },
    {
     "name": "stdout",
     "output_type": "stream",
     "text": []
    }
   ],
   "source": [
    "import ipywidgets as widgets\n",
    "\n",
    "from IPython.display import display\n",
    "from typing import Tuple, Dict, Any\n",
    "\n",
    "class FuzzySetWidget:\n",
    "    def __init__(self,\n",
    "                 set_name: str,\n",
    "                 support: Tuple[int, int],\n",
    "                 fuzzy_set: Tuple[int, int, int, int]\n",
    "        ):\n",
    "        print(support, fuzzy_set)\n",
    "        # Initialize the range slider\n",
    "        self.set_name = set_name\n",
    "        self.user_patterns = user_patterns\n",
    "        self.fuzzy_set = fuzzy_set\n",
    "        \n",
    "        self.range_slider = widgets.FloatRangeSlider(\n",
    "            value=self.fuzzy_set[::len(self.fuzzy_set)-1],\n",
    "            min=support[0],\n",
    "            max=support[1],\n",
    "            step=1,\n",
    "            description='Range:',\n",
    "            disabled=False,\n",
    "            continuous_update=False,\n",
    "            orientation='horizontal',\n",
    "            readout=True,\n",
    "            readout_format='.1f',\n",
    "        )\n",
    "\n",
    "        # Initialize the intermediate sliders\n",
    "        self.intermediate_value_1 = widgets.FloatSlider(\n",
    "            value=self.fuzzy_set[1],\n",
    "            min=self.range_slider.value[0],\n",
    "            max=self.range_slider.value[1],\n",
    "            step=1,\n",
    "            description='Intermedio 1:',\n",
    "            disabled=False,\n",
    "            continuous_update=False,\n",
    "            orientation='horizontal',\n",
    "            readout=True,\n",
    "            readout_format='.1f',\n",
    "        )\n",
    "\n",
    "        self.intermediate_value_2 = widgets.FloatSlider(\n",
    "            value=self.fuzzy_set[2],\n",
    "            min=self.intermediate_value_1.value,\n",
    "            max=self.range_slider.value[1],\n",
    "            step=1,\n",
    "            description='Intermedio 2:',\n",
    "            disabled=False,\n",
    "            continuous_update=False,\n",
    "            orientation='horizontal',\n",
    "            readout=True,\n",
    "            readout_format='.1f',\n",
    "        )\n",
    "\n",
    "        # Vincular el método de actualización de rango\n",
    "        # Bind update methods\n",
    "        self.range_slider.observe(self.update_range, 'value')\n",
    "        self.intermediate_value_1.observe(self.update_intermediate_values, 'value')\n",
    "        self.intermediate_value_2.observe(self.update_intermediate_values, 'value')\n",
    "\n",
    "    def update_range(self, change):\n",
    "        # Update min and max of intermediate sliders\n",
    "        self.intermediate_value_1.min = self.range_slider.value[0]\n",
    "        self.intermediate_value_1.max = self.range_slider.value[1]\n",
    "        self.intermediate_value_2.min = self.range_slider.value[0]\n",
    "        self.intermediate_value_2.max = self.range_slider.value[1]\n",
    "        self.save_changes()\n",
    "\n",
    "    def update_intermediate_values(self, change):\n",
    "        self.intermediate_value_2.min = self.intermediate_value_1.value\n",
    "        self.save_changes()\n",
    "\n",
    "    def save_changes(self):\n",
    "        # Update user_patterns structure with new values\n",
    "        self.fuzzy_set = (\n",
    "            self.range_slider.value[0],\n",
    "            self.intermediate_value_1.value,\n",
    "            self.intermediate_value_2.value,\n",
    "            self.range_slider.value[1]\n",
    "        )\n",
    "\n",
    "    def display(self):\n",
    "        # Mostrar los widgets\n",
    "        display(self.range_slider, self.intermediate_value_1, self.intermediate_value_2)\n",
    "\n",
    "# Crear una instancia de la clase y mostrar los widgets\n",
    "test_var = user_patterns[selected_user]['variables'][0]\n",
    "\n",
    "for set_name in test_var['sets']:\n",
    "    print(f\"Set name: {set_name}\")\n",
    "    fuzzy_set_widget = FuzzySetWidget(set_name=set_name,\n",
    "                                      support=test_var['support'], \n",
    "                                      fuzzy_set=test_var[set_name])\n",
    "    \n",
    "    print(f\"Set: {test_var[set_name]}\")\n",
    "    fuzzy_set_widget.display()\n",
    "    print()"
   ],
   "metadata": {
    "collapsed": false,
    "ExecuteTime": {
     "end_time": "2024-02-05T15:15:11.255929Z",
     "start_time": "2024-02-05T15:15:11.223829Z"
    }
   },
   "id": "5f98b460f021bdbe"
  },
  {
   "cell_type": "code",
   "execution_count": 9,
   "outputs": [
    {
     "name": "stdout",
     "output_type": "stream",
     "text": [
      "Set name: very_near\n",
      "\tSupport: [0, 100]\n",
      "\tSet: [0, 0, 10, 20]\n",
      "\n",
      "Set name: mid_range\n",
      "\tSupport: [0, 100]\n",
      "\tSet: [10, 20, 50, 60]\n",
      "\n",
      "Set name: far\n",
      "\tSupport: [0, 100]\n",
      "\tSet: [50, 60, 70, 80]\n",
      "\n",
      "Set name: far_away\n",
      "\tSupport: [0, 100]\n",
      "\tSet: [70, 80, 100, 100]\n"
     ]
    }
   ],
   "source": [
    "# Crear una instancia de la clase y mostrar los widgets\n",
    "test_var = user_patterns[selected_user]['variables'][0]\n",
    "\n",
    "for set_name in test_var['sets']:\n",
    "    print(f\"Set name: {set_name}\")\n",
    "    print(f\"\\tSupport: {test_var['support']}\")                               \n",
    "    print(f\"\\tSet: {test_var[set_name]}\")\n",
    "    print()"
   ],
   "metadata": {
    "collapsed": false,
    "ExecuteTime": {
     "end_time": "2024-02-05T15:15:27.508714Z",
     "start_time": "2024-02-05T15:15:27.497042Z"
    }
   },
   "id": "33e9b697a75a0555"
  },
  {
   "cell_type": "code",
   "execution_count": 9,
   "outputs": [],
   "source": [
    "# Select variables to be used in the config file"
   ],
   "metadata": {
    "collapsed": false,
    "ExecuteTime": {
     "end_time": "2024-02-01T09:04:13.178405Z",
     "start_time": "2024-02-01T09:04:13.166814Z"
    }
   },
   "id": "6f3da155c55294a1"
  },
  {
   "cell_type": "code",
   "execution_count": 10,
   "outputs": [],
   "source": [
    "# Specify rules"
   ],
   "metadata": {
    "collapsed": false,
    "ExecuteTime": {
     "end_time": "2024-02-01T09:04:13.183306Z",
     "start_time": "2024-02-01T09:04:13.174005Z"
    }
   },
   "id": "38f915d94ae948b1"
  },
  {
   "cell_type": "code",
   "execution_count": 11,
   "outputs": [],
   "source": [
    "# Update user variables"
   ],
   "metadata": {
    "collapsed": false,
    "ExecuteTime": {
     "end_time": "2024-02-01T09:04:13.188655Z",
     "start_time": "2024-02-01T09:04:13.180759Z"
    }
   },
   "id": "ec33c3cf56b199d"
  }
 ],
 "metadata": {
  "kernelspec": {
   "display_name": "Python 3",
   "language": "python",
   "name": "python3"
  },
  "language_info": {
   "codemirror_mode": {
    "name": "ipython",
    "version": 2
   },
   "file_extension": ".py",
   "mimetype": "text/x-python",
   "name": "python",
   "nbconvert_exporter": "python",
   "pygments_lexer": "ipython2",
   "version": "2.7.6"
  }
 },
 "nbformat": 4,
 "nbformat_minor": 5
}
