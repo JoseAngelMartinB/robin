{
 "cells": [
  {
   "cell_type": "code",
   "execution_count": 1,
   "id": "initial_id",
   "metadata": {
    "collapsed": true,
    "ExecuteTime": {
     "end_time": "2024-02-01T10:11:05.083479Z",
     "start_time": "2024-02-01T10:11:05.071891Z"
    }
   },
   "outputs": [],
   "source": [
    "%load_ext autoreload\n",
    "%autoreload 2"
   ]
  },
  {
   "cell_type": "code",
   "execution_count": 2,
   "outputs": [],
   "source": [
    "import ipywidgets as widgets\n",
    "import os\n",
    "import sys\n",
    "import yaml \n",
    "\n",
    "from IPython.display import display\n",
    "from ipywidgets import interact\n",
    "from pathlib import Path\n",
    "\n",
    "sys.path.append('..')"
   ],
   "metadata": {
    "collapsed": false,
    "ExecuteTime": {
     "end_time": "2024-02-01T10:11:06.707632Z",
     "start_time": "2024-02-01T10:11:06.549551Z"
    }
   },
   "id": "b77318e97a6771ba"
  },
  {
   "cell_type": "code",
   "execution_count": 3,
   "outputs": [],
   "source": [
    "path_config_demand = Path('../configs/ewgt23/demand_data_fuzzy.yml')\n",
    "save_path = Path('../configs/generated/')\n",
    "\n",
    "if not os.path.exists(save_path):\n",
    "    os.makedirs(save_path)"
   ],
   "metadata": {
    "collapsed": false,
    "ExecuteTime": {
     "end_time": "2024-02-01T10:11:07.510092Z",
     "start_time": "2024-02-01T10:11:07.498335Z"
    }
   },
   "id": "8243b9a46ffac0a8"
  },
  {
   "cell_type": "code",
   "execution_count": 4,
   "outputs": [],
   "source": [
    "# Load config file\n",
    "with open(path_config_demand, 'r') as f:\n",
    "        demand_yaml = f.read()\n",
    "        \n",
    "data = yaml.load(demand_yaml, Loader=yaml.CSafeLoader)"
   ],
   "metadata": {
    "collapsed": false,
    "ExecuteTime": {
     "end_time": "2024-02-01T10:11:09.131523Z",
     "start_time": "2024-02-01T10:11:09.117663Z"
    }
   },
   "id": "2094785ac0a301ff"
  },
  {
   "cell_type": "code",
   "execution_count": 5,
   "outputs": [
    {
     "name": "stdout",
     "output_type": "stream",
     "text": [
      "Known user types: ('Business', 'Student', 'Tourist')\n",
      "User type:  Business\n",
      "\tUser Variables: \n",
      "\t\t{'name': 'origin', 'type': 'fuzzy', 'support': [0, 100], 'sets': ['very_near', 'mid_range', 'far'], 'very_near': [0, 0, 10, 50], 'mid_range': [10, 50, 60, 80], 'far': [60, 80, 100, 100]}\n",
      "\t\t{'name': 'destination', 'type': 'fuzzy', 'support': [0, 100], 'sets': ['very_near', 'mid_range', 'far'], 'very_near': [0, 0, 10, 50], 'mid_range': [10, 50, 60, 80], 'far': [60, 80, 100, 100]}\n",
      "\t\t{'name': 'service_departure_time', 'type': 'fuzzy', 'support': [0, 100], 'sets': ['in_time', 'close', 'far'], 'in_time': [0, 0, 10, 30], 'close': [10, 30, 40, 60], 'far': [40, 60, 70, 90]}\n",
      "\t\t{'name': 'service_arrival_time', 'type': 'fuzzy', 'support': [0, 100], 'sets': ['in_time', 'close', 'far'], 'in_time': [0, 0, 10, 30], 'close': [10, 30, 40, 60], 'far': [40, 60, 70, 90]}\n",
      "\t\t{'name': 'price', 'type': 'fuzzy', 'support': [0, 100], 'sets': ['expensive', 'standard', 'cheap'], 'expensive': [0, 0, 10, 30], 'standard': [10, 30, 40, 60], 'cheap': [40, 60, 70, 90]}\n",
      "\tUser Rules: \n",
      "\t\tR0 : IF (price is premium) THEN 20.0\n",
      "\t\tR1 : IF (origin is very_near) & (destination is very_near) THEN 16.0\n",
      "\t\tR2 : IF (origin is very_near) & (destination is very_near) & (service_departure_time is in_time) & (service_arrival_time is in_time) THEN 24.0\n",
      "\t\tR3 : IF (price is standard) THEN 40.0\n",
      "User type:  Student\n",
      "\tUser Variables: \n",
      "\t\t{'name': 'seat', 'type': 'fuzzy', 'support': [0, 100], 'sets': ['premium', 'standard', 'tourist'], 'premium': [0, 0, 10, 50], 'standard': [10, 50, 60, 80], 'tourist': [60, 80, 100, 100]}\n",
      "\t\t{'name': 'service_departure_time', 'type': 'fuzzy', 'support': [0, 100], 'sets': ['in_time', 'close', 'far'], 'in_time': [0, 0, 10, 30], 'close': [10, 30, 40, 60], 'far': [40, 60, 70, 90]}\n",
      "\t\t{'name': 'service_arrival_time', 'type': 'fuzzy', 'support': [0, 100], 'sets': ['in_time', 'close', 'far'], 'in_time': [0, 0, 10, 30], 'close': [10, 30, 40, 60], 'far': [40, 60, 70, 90]}\n",
      "\t\t{'name': 'price', 'type': 'fuzzy', 'support': [0, 100], 'sets': ['expensive', 'standard', 'cheap'], 'expensive': [0, 0, 10, 30], 'standard': [10, 30, 40, 60], 'cheap': [40, 60, 70, 90]}\n",
      "\tUser Rules: \n",
      "\t\tR0 : IF (seat is premium) THEN 35.0\n",
      "\t\tR1 : IF (service_departure_time is in_time) & (service_arrival_time is in_time) THEN 25.0\n",
      "\t\tR2 : IF (price is standard) THEN 15.0\n",
      "User type:  Tourist\n",
      "\tUser Variables: \n",
      "\t\t{'name': 'seat', 'type': 'fuzzy', 'support': [0, 100], 'sets': ['premium', 'standard', 'tourist'], 'premium': [0, 0, 10, 50], 'standard': [10, 50, 60, 80], 'tourist': [60, 80, 100, 100]}\n",
      "\t\t{'name': 'service_departure_time', 'type': 'fuzzy', 'support': [0, 100], 'sets': ['in_time', 'close', 'far'], 'in_time': [0, 0, 10, 30], 'close': [10, 30, 40, 60], 'far': [40, 60, 70, 90]}\n",
      "\t\t{'name': 'service_arrival_time', 'type': 'fuzzy', 'support': [0, 100], 'sets': ['in_time', 'close', 'far'], 'in_time': [0, 0, 10, 30], 'close': [10, 30, 40, 60], 'far': [40, 60, 70, 90]}\n",
      "\t\t{'name': 'price', 'type': 'fuzzy', 'support': [0, 100], 'sets': ['expensive', 'standard', 'cheap'], 'expensive': [0, 0, 10, 30], 'standard': [10, 30, 40, 60], 'cheap': [40, 60, 70, 90]}\n",
      "\tUser Rules: \n",
      "\t\tR0 : IF (seat is premium) THEN 35.0\n",
      "\t\tR1 : IF (service_departure_time is in_time) & (service_arrival_time is in_time) THEN 25.0\n",
      "\t\tR2 : IF (price is standard) THEN 15.0\n"
     ]
    }
   ],
   "source": [
    "# Get users\n",
    "user_patterns = {user_pattern['name']: user_pattern for user_pattern in data['userPattern']}\n",
    "\n",
    "# Get set of user types\n",
    "user_types = tuple(user_patterns.keys())\n",
    "print(f\"Known user types: {user_types}\")\n",
    "\n",
    "# Get set of variables\n",
    "for user_type in user_types:\n",
    "    print(f\"User type: \", user_type)\n",
    "    user_vars = user_patterns[user_type]['variables']\n",
    "    print(f\"\\tUser Variables: \")\n",
    "    for var in user_vars:\n",
    "        print(f\"\\t\\t{var}\")\n",
    "    user_rules = user_patterns[user_type]['rules']\n",
    "    print(f\"\\tUser Rules: \")\n",
    "    for rule in user_rules:\n",
    "        print(f\"\\t\\t{rule} : {user_rules[rule]}\")"
   ],
   "metadata": {
    "collapsed": false,
    "ExecuteTime": {
     "end_time": "2024-02-01T10:11:10.531275Z",
     "start_time": "2024-02-01T10:11:10.521348Z"
    }
   },
   "id": "141546f84dd73351"
  },
  {
   "cell_type": "code",
   "execution_count": 6,
   "outputs": [
    {
     "data": {
      "text/plain": "Dropdown(description='Select user to edit: ', options=('Business', 'Student', 'Tourist'), value='Business')",
      "application/vnd.jupyter.widget-view+json": {
       "version_major": 2,
       "version_minor": 0,
       "model_id": "4580d9dc43e2497ea72a367a034c6ae7"
      }
     },
     "metadata": {},
     "output_type": "display_data"
    },
    {
     "name": "stdout",
     "output_type": "stream",
     "text": []
    }
   ],
   "source": [
    "# Select passenger to edit\n",
    "widget_user_type = widgets.Dropdown(\n",
    "    options=user_types,\n",
    "    description='Select user to edit: ',\n",
    "    #layout = widgets.Layout(width='500px')\n",
    ")\n",
    "\n",
    "# Mostrar el widget\n",
    "display(widget_user_type)\n",
    "print()"
   ],
   "metadata": {
    "collapsed": false,
    "ExecuteTime": {
     "end_time": "2024-02-01T10:11:14.044294Z",
     "start_time": "2024-02-01T10:11:14.030761Z"
    }
   },
   "id": "ebf41549813c6e33"
  },
  {
   "cell_type": "code",
   "execution_count": 7,
   "outputs": [
    {
     "name": "stdout",
     "output_type": "stream",
     "text": [
      "Chosen user type: Business\n",
      "\tUser Variables: \n",
      "\t\t{'name': 'origin', 'type': 'fuzzy', 'support': [0, 100], 'sets': ['very_near', 'mid_range', 'far'], 'very_near': [0, 0, 10, 50], 'mid_range': [10, 50, 60, 80], 'far': [60, 80, 100, 100]}\n",
      "\t\t{'name': 'destination', 'type': 'fuzzy', 'support': [0, 100], 'sets': ['very_near', 'mid_range', 'far'], 'very_near': [0, 0, 10, 50], 'mid_range': [10, 50, 60, 80], 'far': [60, 80, 100, 100]}\n",
      "\t\t{'name': 'service_departure_time', 'type': 'fuzzy', 'support': [0, 100], 'sets': ['in_time', 'close', 'far'], 'in_time': [0, 0, 10, 30], 'close': [10, 30, 40, 60], 'far': [40, 60, 70, 90]}\n",
      "\t\t{'name': 'service_arrival_time', 'type': 'fuzzy', 'support': [0, 100], 'sets': ['in_time', 'close', 'far'], 'in_time': [0, 0, 10, 30], 'close': [10, 30, 40, 60], 'far': [40, 60, 70, 90]}\n",
      "\t\t{'name': 'price', 'type': 'fuzzy', 'support': [0, 100], 'sets': ['expensive', 'standard', 'cheap'], 'expensive': [0, 0, 10, 30], 'standard': [10, 30, 40, 60], 'cheap': [40, 60, 70, 90]}\n",
      "\tUser Rules: \n",
      "\t\tR0 : IF (price is premium) THEN 20.0\n",
      "\t\tR1 : IF (origin is very_near) & (destination is very_near) THEN 16.0\n",
      "\t\tR2 : IF (origin is very_near) & (destination is very_near) & (service_departure_time is in_time) & (service_arrival_time is in_time) THEN 24.0\n",
      "\t\tR3 : IF (price is standard) THEN 40.0\n"
     ]
    }
   ],
   "source": [
    "# Get users\n",
    "selected_user = widget_user_type.value\n",
    "print(f\"Chosen user type: {selected_user}\")\n",
    "\n",
    "user_vars = user_patterns[selected_user]['variables']\n",
    "print(f\"\\tUser Variables: \")\n",
    "for var in user_vars:\n",
    "    print(f\"\\t\\t{var}\")\n",
    "user_rules = user_patterns[selected_user]['rules']\n",
    "print(f\"\\tUser Rules: \")\n",
    "for rule in user_rules:\n",
    "    print(f\"\\t\\t{rule} : {user_rules[rule]}\")"
   ],
   "metadata": {
    "collapsed": false,
    "ExecuteTime": {
     "end_time": "2024-02-01T10:11:17.896757Z",
     "start_time": "2024-02-01T10:11:17.885081Z"
    }
   },
   "id": "466fd40d3220420c"
  },
  {
   "cell_type": "code",
   "execution_count": 8,
   "outputs": [
    {
     "name": "stdout",
     "output_type": "stream",
     "text": [
      "Set name: very_near\n",
      "[0, 100] [0, 0, 10, 50]\n",
      "Set: [0, 0, 10, 50]\n"
     ]
    },
    {
     "data": {
      "text/plain": "FloatRangeSlider(value=(0.0, 50.0), continuous_update=False, description='Range:', readout_format='.1f', step=…",
      "application/vnd.jupyter.widget-view+json": {
       "version_major": 2,
       "version_minor": 0,
       "model_id": "ece4e387aea8424a8104b1df97e4323f"
      }
     },
     "metadata": {},
     "output_type": "display_data"
    },
    {
     "data": {
      "text/plain": "FloatSlider(value=0.0, continuous_update=False, description='Intermedio 1:', max=50.0, readout_format='.1f', s…",
      "application/vnd.jupyter.widget-view+json": {
       "version_major": 2,
       "version_minor": 0,
       "model_id": "64baa2f64cf04656811410dd7f670e46"
      }
     },
     "metadata": {},
     "output_type": "display_data"
    },
    {
     "data": {
      "text/plain": "FloatSlider(value=10.0, continuous_update=False, description='Intermedio 2:', max=50.0, readout_format='.1f', …",
      "application/vnd.jupyter.widget-view+json": {
       "version_major": 2,
       "version_minor": 0,
       "model_id": "5af19a7a06c84316b4bba83255e0148c"
      }
     },
     "metadata": {},
     "output_type": "display_data"
    },
    {
     "name": "stdout",
     "output_type": "stream",
     "text": [
      "\n",
      "Set name: mid_range\n",
      "[0, 100] [10, 50, 60, 80]\n",
      "Set: [10, 50, 60, 80]\n"
     ]
    },
    {
     "data": {
      "text/plain": "FloatRangeSlider(value=(10.0, 80.0), continuous_update=False, description='Range:', readout_format='.1f', step…",
      "application/vnd.jupyter.widget-view+json": {
       "version_major": 2,
       "version_minor": 0,
       "model_id": "0d201ee1495e42d59e74d6641d211e86"
      }
     },
     "metadata": {},
     "output_type": "display_data"
    },
    {
     "data": {
      "text/plain": "FloatSlider(value=50.0, continuous_update=False, description='Intermedio 1:', max=80.0, min=10.0, readout_form…",
      "application/vnd.jupyter.widget-view+json": {
       "version_major": 2,
       "version_minor": 0,
       "model_id": "9a4fc8788c504ea2b1d201e90fefdf6a"
      }
     },
     "metadata": {},
     "output_type": "display_data"
    },
    {
     "data": {
      "text/plain": "FloatSlider(value=60.0, continuous_update=False, description='Intermedio 2:', max=80.0, min=50.0, readout_form…",
      "application/vnd.jupyter.widget-view+json": {
       "version_major": 2,
       "version_minor": 0,
       "model_id": "5637ea503a774095a2bbd37b1f9eeab9"
      }
     },
     "metadata": {},
     "output_type": "display_data"
    },
    {
     "name": "stdout",
     "output_type": "stream",
     "text": [
      "\n",
      "Set name: far\n",
      "[0, 100] [60, 80, 100, 100]\n",
      "Set: [60, 80, 100, 100]\n"
     ]
    },
    {
     "data": {
      "text/plain": "FloatRangeSlider(value=(60.0, 100.0), continuous_update=False, description='Range:', readout_format='.1f', ste…",
      "application/vnd.jupyter.widget-view+json": {
       "version_major": 2,
       "version_minor": 0,
       "model_id": "295f641aa1f2432d974561e4751aa3e3"
      }
     },
     "metadata": {},
     "output_type": "display_data"
    },
    {
     "data": {
      "text/plain": "FloatSlider(value=80.0, continuous_update=False, description='Intermedio 1:', min=60.0, readout_format='.1f', …",
      "application/vnd.jupyter.widget-view+json": {
       "version_major": 2,
       "version_minor": 0,
       "model_id": "48ed176a400740869a2e1cbfcb27c23c"
      }
     },
     "metadata": {},
     "output_type": "display_data"
    },
    {
     "data": {
      "text/plain": "FloatSlider(value=100.0, continuous_update=False, description='Intermedio 2:', min=80.0, readout_format='.1f',…",
      "application/vnd.jupyter.widget-view+json": {
       "version_major": 2,
       "version_minor": 0,
       "model_id": "c68af60bf963490d8493c79cba8176da"
      }
     },
     "metadata": {},
     "output_type": "display_data"
    },
    {
     "name": "stdout",
     "output_type": "stream",
     "text": []
    }
   ],
   "source": [
    "import ipywidgets as widgets\n",
    "\n",
    "from IPython.display import display\n",
    "from typing import Tuple, Dict, Any\n",
    "\n",
    "class FuzzySetWidget:\n",
    "    def __init__(self,\n",
    "                 set_name: str,\n",
    "                 support: Tuple[int, int],\n",
    "                 fuzzy_set: Tuple[int, int, int, int]\n",
    "        ):\n",
    "        print(support, fuzzy_set)\n",
    "        # Initialize the range slider\n",
    "        self.set_name = set_name\n",
    "        self.user_patterns = user_patterns\n",
    "        self.fuzzy_set = fuzzy_set\n",
    "        \n",
    "        self.range_slider = widgets.FloatRangeSlider(\n",
    "            value=self.fuzzy_set[::len(self.fuzzy_set)-1],\n",
    "            min=support[0],\n",
    "            max=support[1],\n",
    "            step=1,\n",
    "            description='Range:',\n",
    "            disabled=False,\n",
    "            continuous_update=False,\n",
    "            orientation='horizontal',\n",
    "            readout=True,\n",
    "            readout_format='.1f',\n",
    "        )\n",
    "\n",
    "        # Initialize the intermediate sliders\n",
    "        self.intermediate_value_1 = widgets.FloatSlider(\n",
    "            value=self.fuzzy_set[1],\n",
    "            min=self.range_slider.value[0],\n",
    "            max=self.range_slider.value[1],\n",
    "            step=1,\n",
    "            description='Intermedio 1:',\n",
    "            disabled=False,\n",
    "            continuous_update=False,\n",
    "            orientation='horizontal',\n",
    "            readout=True,\n",
    "            readout_format='.1f',\n",
    "        )\n",
    "\n",
    "        self.intermediate_value_2 = widgets.FloatSlider(\n",
    "            value=self.fuzzy_set[2],\n",
    "            min=self.intermediate_value_1.value,\n",
    "            max=self.range_slider.value[1],\n",
    "            step=1,\n",
    "            description='Intermedio 2:',\n",
    "            disabled=False,\n",
    "            continuous_update=False,\n",
    "            orientation='horizontal',\n",
    "            readout=True,\n",
    "            readout_format='.1f',\n",
    "        )\n",
    "\n",
    "        # Vincular el método de actualización de rango\n",
    "        # Bind update methods\n",
    "        self.range_slider.observe(self.update_range, 'value')\n",
    "        self.intermediate_value_1.observe(self.update_intermediate_values, 'value')\n",
    "        self.intermediate_value_2.observe(self.update_intermediate_values, 'value')\n",
    "\n",
    "    def update_range(self, change):\n",
    "        # Update min and max of intermediate sliders\n",
    "        self.intermediate_value_1.min = self.range_slider.value[0]\n",
    "        self.intermediate_value_1.max = self.range_slider.value[1]\n",
    "        self.intermediate_value_2.min = self.range_slider.value[0]\n",
    "        self.intermediate_value_2.max = self.range_slider.value[1]\n",
    "        self.save_changes()\n",
    "\n",
    "    def update_intermediate_values(self, change):\n",
    "        self.intermediate_value_2.min = self.intermediate_value_1.value\n",
    "        self.save_changes()\n",
    "\n",
    "    def save_changes(self):\n",
    "        # Update user_patterns structure with new values\n",
    "        self.fuzzy_set = (\n",
    "            self.range_slider.value[0],\n",
    "            self.intermediate_value_1.value,\n",
    "            self.intermediate_value_2.value,\n",
    "            self.range_slider.value[1]\n",
    "        )\n",
    "\n",
    "    def display(self):\n",
    "        # Mostrar los widgets\n",
    "        display(self.range_slider, self.intermediate_value_1, self.intermediate_value_2)\n",
    "\n",
    "# Crear una instancia de la clase y mostrar los widgets\n",
    "test_var = user_patterns[selected_user]['variables'][0]\n",
    "\n",
    "for set_name in test_var['sets']:\n",
    "    print(f\"Set name: {set_name}\")\n",
    "    fuzzy_set_widget = FuzzySetWidget(set_name=set_name,\n",
    "                                      support=test_var['support'], \n",
    "                                      fuzzy_set=test_var[set_name])\n",
    "    \n",
    "    print(f\"Set: {test_var[set_name]}\")\n",
    "    fuzzy_set_widget.display()\n",
    "    print()"
   ],
   "metadata": {
    "collapsed": false,
    "ExecuteTime": {
     "end_time": "2024-02-01T10:11:20.475093Z",
     "start_time": "2024-02-01T10:11:20.448283Z"
    }
   },
   "id": "5f98b460f021bdbe"
  },
  {
   "cell_type": "code",
   "execution_count": 28,
   "outputs": [
    {
     "name": "stdout",
     "output_type": "stream",
     "text": [
      "Set name: premium\n",
      "\tSupport: [0, 100]\n",
      "\tSet: [0, 0, 10, 50]\n",
      "\n",
      "Set name: standard\n",
      "\tSupport: [0, 100]\n",
      "\tSet: [10, 50, 60, 80]\n",
      "\n",
      "Set name: tourist\n",
      "\tSupport: [0, 100]\n",
      "\tSet: [60, 80, 100, 100]\n"
     ]
    }
   ],
   "source": [
    "# Crear una instancia de la clase y mostrar los widgets\n",
    "test_var = user_patterns[selected_user]['variables'][0]\n",
    "\n",
    "for set_name in test_var['sets']:\n",
    "    print(f\"Set name: {set_name}\")\n",
    "    print(f\"\\tSupport: {test_var['support']}\")                               \n",
    "    print(f\"\\tSet: {test_var[set_name]}\")\n",
    "    print()"
   ],
   "metadata": {
    "collapsed": false,
    "ExecuteTime": {
     "end_time": "2024-02-01T09:46:00.763528Z",
     "start_time": "2024-02-01T09:46:00.740307Z"
    }
   },
   "id": "33e9b697a75a0555"
  },
  {
   "cell_type": "code",
   "execution_count": 9,
   "outputs": [],
   "source": [
    "# Select variables to be used in the config file"
   ],
   "metadata": {
    "collapsed": false,
    "ExecuteTime": {
     "end_time": "2024-02-01T09:04:13.178405Z",
     "start_time": "2024-02-01T09:04:13.166814Z"
    }
   },
   "id": "6f3da155c55294a1"
  },
  {
   "cell_type": "code",
   "execution_count": 10,
   "outputs": [],
   "source": [
    "# Specify rules"
   ],
   "metadata": {
    "collapsed": false,
    "ExecuteTime": {
     "end_time": "2024-02-01T09:04:13.183306Z",
     "start_time": "2024-02-01T09:04:13.174005Z"
    }
   },
   "id": "38f915d94ae948b1"
  },
  {
   "cell_type": "code",
   "execution_count": 11,
   "outputs": [],
   "source": [
    "# Update user variables"
   ],
   "metadata": {
    "collapsed": false,
    "ExecuteTime": {
     "end_time": "2024-02-01T09:04:13.188655Z",
     "start_time": "2024-02-01T09:04:13.180759Z"
    }
   },
   "id": "ec33c3cf56b199d"
  }
 ],
 "metadata": {
  "kernelspec": {
   "display_name": "Python 3",
   "language": "python",
   "name": "python3"
  },
  "language_info": {
   "codemirror_mode": {
    "name": "ipython",
    "version": 2
   },
   "file_extension": ".py",
   "mimetype": "text/x-python",
   "name": "python",
   "nbconvert_exporter": "python",
   "pygments_lexer": "ipython2",
   "version": "2.7.6"
  }
 },
 "nbformat": 4,
 "nbformat_minor": 5
}
