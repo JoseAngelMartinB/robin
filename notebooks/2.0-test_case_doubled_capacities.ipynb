{
 "cells": [
  {
   "attachments": {},
   "cell_type": "markdown",
   "metadata": {},
   "source": [
    "# Test Case - What if capacities get doubled?"
   ]
  },
  {
   "cell_type": "code",
   "execution_count": 1,
   "metadata": {
    "collapsed": true,
    "ExecuteTime": {
     "start_time": "2023-04-14T17:49:18.527503Z",
     "end_time": "2023-04-14T17:49:18.534270Z"
    }
   },
   "outputs": [],
   "source": [
    "import os\n",
    "import sys\n",
    "sys.path.append('..')\n",
    "\n",
    "SAVE_PATH = '../reports/figures/test_case_doubled_capacities'\n",
    "os.makedirs(SAVE_PATH, exist_ok=True)"
   ]
  },
  {
   "attachments": {},
   "cell_type": "markdown",
   "metadata": {},
   "source": [
    "## Simulate Passengers Demand"
   ]
  },
  {
   "cell_type": "code",
   "execution_count": 2,
   "outputs": [
    {
     "ename": "FileNotFoundError",
     "evalue": "[Errno 2] No such file or directory: '../configs/test_case/supply_data_doubled_capacities.yml'",
     "output_type": "error",
     "traceback": [
      "\u001B[0;31m---------------------------------------------------------------------------\u001B[0m",
      "\u001B[0;31mFileNotFoundError\u001B[0m                         Traceback (most recent call last)",
      "Cell \u001B[0;32mIn [2], line 10\u001B[0m\n\u001B[1;32m      7\u001B[0m os\u001B[38;5;241m.\u001B[39mmakedirs(\u001B[38;5;124m'\u001B[39m\u001B[38;5;124m../data/test_case\u001B[39m\u001B[38;5;124m'\u001B[39m, exist_ok\u001B[38;5;241m=\u001B[39m\u001B[38;5;28;01mTrue\u001B[39;00m)\n\u001B[1;32m      8\u001B[0m seed \u001B[38;5;241m=\u001B[39m \u001B[38;5;241m0\u001B[39m\n\u001B[0;32m---> 10\u001B[0m kernel \u001B[38;5;241m=\u001B[39m \u001B[43mKernel\u001B[49m\u001B[43m(\u001B[49m\u001B[43mpath_config_supply\u001B[49m\u001B[43m,\u001B[49m\u001B[43m \u001B[49m\u001B[43mpath_config_demand\u001B[49m\u001B[43m,\u001B[49m\u001B[43m \u001B[49m\u001B[43mseed\u001B[49m\u001B[43m)\u001B[49m\n\u001B[1;32m     11\u001B[0m services \u001B[38;5;241m=\u001B[39m kernel\u001B[38;5;241m.\u001B[39msimulate(output_path\u001B[38;5;241m=\u001B[39mpath_output_csv, departure_time_hard_restriction\u001B[38;5;241m=\u001B[39m\u001B[38;5;28;01mTrue\u001B[39;00m)\n",
      "File \u001B[0;32m~/PycharmProjects/robin/src/robin/kernel/entities.py:33\u001B[0m, in \u001B[0;36mKernel.__init__\u001B[0;34m(self, path_config_supply, path_config_demand, seed)\u001B[0m\n\u001B[1;32m     31\u001B[0m \u001B[38;5;28;01mif\u001B[39;00m seed \u001B[38;5;129;01mis\u001B[39;00m \u001B[38;5;129;01mnot\u001B[39;00m \u001B[38;5;28;01mNone\u001B[39;00m:\n\u001B[1;32m     32\u001B[0m     \u001B[38;5;28mself\u001B[39m\u001B[38;5;241m.\u001B[39mset_seed(seed)\n\u001B[0;32m---> 33\u001B[0m \u001B[38;5;28mself\u001B[39m\u001B[38;5;241m.\u001B[39msupply \u001B[38;5;241m=\u001B[39m \u001B[43mSupply\u001B[49m\u001B[38;5;241;43m.\u001B[39;49m\u001B[43mfrom_yaml\u001B[49m\u001B[43m(\u001B[49m\u001B[43mpath_config_supply\u001B[49m\u001B[43m)\u001B[49m\n\u001B[1;32m     34\u001B[0m \u001B[38;5;28mself\u001B[39m\u001B[38;5;241m.\u001B[39mdemand \u001B[38;5;241m=\u001B[39m Demand\u001B[38;5;241m.\u001B[39mfrom_yaml(path_config_demand)\n",
      "File \u001B[0;32m~/PycharmProjects/robin/src/robin/supply/entities.py:660\u001B[0m, in \u001B[0;36mSupply.from_yaml\u001B[0;34m(cls, path)\u001B[0m\n\u001B[1;32m    649\u001B[0m \u001B[38;5;129m@classmethod\u001B[39m\n\u001B[1;32m    650\u001B[0m \u001B[38;5;28;01mdef\u001B[39;00m \u001B[38;5;21mfrom_yaml\u001B[39m(\u001B[38;5;28mcls\u001B[39m, path: \u001B[38;5;28mstr\u001B[39m) \u001B[38;5;241m-\u001B[39m\u001B[38;5;241m>\u001B[39m \u001B[38;5;124m'\u001B[39m\u001B[38;5;124mSupply\u001B[39m\u001B[38;5;124m'\u001B[39m:\n\u001B[1;32m    651\u001B[0m     \u001B[38;5;124;03m\"\"\"\u001B[39;00m\n\u001B[1;32m    652\u001B[0m \u001B[38;5;124;03m    Class method to create a Supply object (List[Service]) from a yaml file.\u001B[39;00m\n\u001B[1;32m    653\u001B[0m \n\u001B[0;32m   (...)\u001B[0m\n\u001B[1;32m    658\u001B[0m \u001B[38;5;124;03m        Supply: Supply object.\u001B[39;00m\n\u001B[1;32m    659\u001B[0m \u001B[38;5;124;03m    \"\"\"\u001B[39;00m\n\u001B[0;32m--> 660\u001B[0m     \u001B[38;5;28;01mwith\u001B[39;00m \u001B[38;5;28;43mopen\u001B[39;49m\u001B[43m(\u001B[49m\u001B[43mpath\u001B[49m\u001B[43m,\u001B[49m\u001B[43m \u001B[49m\u001B[38;5;124;43m'\u001B[39;49m\u001B[38;5;124;43mr\u001B[39;49m\u001B[38;5;124;43m'\u001B[39;49m\u001B[43m)\u001B[49m \u001B[38;5;28;01mas\u001B[39;00m file:\n\u001B[1;32m    661\u001B[0m         data \u001B[38;5;241m=\u001B[39m yaml\u001B[38;5;241m.\u001B[39msafe_load(file)\n\u001B[1;32m    663\u001B[0m     stations \u001B[38;5;241m=\u001B[39m Supply\u001B[38;5;241m.\u001B[39m_get_stations(data, key\u001B[38;5;241m=\u001B[39m\u001B[38;5;124m'\u001B[39m\u001B[38;5;124mstations\u001B[39m\u001B[38;5;124m'\u001B[39m)\n",
      "\u001B[0;31mFileNotFoundError\u001B[0m: [Errno 2] No such file or directory: '../configs/test_case/supply_data_doubled_capacities.yml'"
     ]
    }
   ],
   "source": [
    "from src.robin.kernel.entities import Kernel\n",
    "\n",
    "path_config_supply = '../configs/test_case/supply_data_doubled_capacities.yml'\n",
    "path_config_demand = '../configs/test_case/demand_data.yml'\n",
    "path_output_csv = '../data/test_case/output_doubled_capacities.csv'\n",
    "\n",
    "os.makedirs('../data/test_case', exist_ok=True)\n",
    "seed = 0\n",
    "\n",
    "kernel = Kernel(path_config_supply, path_config_demand, seed)\n",
    "services = kernel.simulate(output_path=path_output_csv, departure_time_hard_restriction=True)"
   ],
   "metadata": {
    "collapsed": false,
    "ExecuteTime": {
     "start_time": "2023-04-14T15:02:25.984470Z",
     "end_time": "2023-04-14T15:02:38.954999Z"
    }
   }
  },
  {
   "attachments": {},
   "cell_type": "markdown",
   "metadata": {},
   "source": [
    "### Plot Results"
   ]
  },
  {
   "cell_type": "code",
   "execution_count": null,
   "metadata": {
    "ExecuteTime": {
     "start_time": "2023-04-14T15:02:38.955466Z",
     "end_time": "2023-04-14T15:02:40.036116Z"
    }
   },
   "outputs": [],
   "source": [
    "from src.robin.plotter.entities import KernelPlotter\n",
    "\n",
    "kernel_plotter = KernelPlotter(\n",
    "    path_output_csv=path_output_csv,\n",
    "    path_config_supply=path_config_supply\n",
    ")"
   ]
  },
  {
   "cell_type": "code",
   "execution_count": null,
   "metadata": {
    "collapsed": false,
    "ExecuteTime": {
     "start_time": "2023-04-14T15:02:40.038258Z",
     "end_time": "2023-04-14T15:02:40.362246Z"
    }
   },
   "outputs": [],
   "source": [
    "kernel_plotter.plot_tickets_sold_pie_chart(save_path=f'{SAVE_PATH}/pie.png')"
   ]
  },
  {
   "cell_type": "code",
   "execution_count": null,
   "metadata": {
    "collapsed": false,
    "ExecuteTime": {
     "start_time": "2023-04-14T15:02:40.365879Z",
     "end_time": "2023-04-14T15:02:40.727265Z"
    }
   },
   "outputs": [],
   "source": [
    "kernel_plotter.plot_tickets_sold(save_path=f'{SAVE_PATH}/total_tickets_sold.png')"
   ]
  },
  {
   "cell_type": "code",
   "execution_count": null,
   "metadata": {
    "collapsed": false,
    "ExecuteTime": {
     "start_time": "2023-04-14T15:02:40.729755Z",
     "end_time": "2023-04-14T15:02:44.494749Z"
    }
   },
   "outputs": [],
   "source": [
    "kernel_plotter.plot_tickets_sold_by_user(save_path=f'{SAVE_PATH}/tickets_sold_per_usertype.png')"
   ]
  },
  {
   "cell_type": "code",
   "execution_count": null,
   "metadata": {
    "ExecuteTime": {
     "start_time": "2023-04-14T15:02:44.856758Z",
     "end_time": "2023-04-14T15:02:45.199140Z"
    }
   },
   "outputs": [],
   "source": [
    "kernel_plotter.plot_capacity(service_id='03063_01-06-2023-06.30', save_path=f'{SAVE_PATH}/capacity_03063_01-06-2023-06.30.png')"
   ]
  },
  {
   "cell_type": "code",
   "execution_count": null,
   "metadata": {
    "ExecuteTime": {
     "start_time": "2023-04-14T15:02:45.201897Z",
     "end_time": "2023-04-14T15:02:45.617740Z"
    }
   },
   "outputs": [],
   "source": [
    "kernel_plotter.plot_capacity(service_id='06309_01-06-2023-19.30', save_path=f'{SAVE_PATH}/capacity_06309_01-06-2023-19.30.png')"
   ]
  },
  {
   "cell_type": "code",
   "execution_count": null,
   "outputs": [],
   "source": [
    "kernel_plotter.plot_capacity(service_id='03203_01-06-2023-20.40', save_path=f'{SAVE_PATH}/capacity_03203_01-06-2023-20.40.png')"
   ],
   "metadata": {
    "collapsed": false,
    "ExecuteTime": {
     "start_time": "2023-04-14T15:03:51.779600Z",
     "end_time": "2023-04-14T15:03:52.380377Z"
    }
   }
  },
  {
   "cell_type": "code",
   "execution_count": null,
   "metadata": {
    "collapsed": false,
    "ExecuteTime": {
     "start_time": "2023-04-14T15:02:45.617913Z",
     "end_time": "2023-04-14T15:02:48.792589Z"
    }
   },
   "outputs": [],
   "source": [
    "kernel_plotter.plot_pairs(save_path=f'{SAVE_PATH}/pairs.png')"
   ]
  },
  {
   "cell_type": "code",
   "execution_count": null,
   "outputs": [],
   "source": [],
   "metadata": {
    "collapsed": false,
    "ExecuteTime": {
     "start_time": "2023-04-14T15:02:48.793153Z",
     "end_time": "2023-04-14T15:02:48.796304Z"
    }
   }
  }
 ],
 "metadata": {
  "kernelspec": {
   "display_name": "Python 3",
   "language": "python",
   "name": "python3"
  },
  "language_info": {
   "codemirror_mode": {
    "name": "ipython",
    "version": 3
   },
   "file_extension": ".py",
   "mimetype": "text/x-python",
   "name": "python",
   "nbconvert_exporter": "python",
   "pygments_lexer": "ipython3",
   "version": "3.8.6"
  }
 },
 "nbformat": 4,
 "nbformat_minor": 0
}
