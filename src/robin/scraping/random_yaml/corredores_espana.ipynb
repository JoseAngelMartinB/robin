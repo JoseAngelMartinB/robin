{
 "cells": [
  {
   "cell_type": "code",
   "execution_count": 3,
   "metadata": {
    "collapsed": true
   },
   "outputs": [],
   "source": [
    "id_ = 1\n",
    "name = \"Corredor Noreste\"\n",
    "tree = [{'org': '60000', 'des': [{'org': '70200', 'des': [{'org': '70600', 'des': [{'org': '04040', 'des': [{'org': '74200', 'des': [{'org': '78400', 'des': [{'org': '71500', 'des': [{'org': '71801', 'des': [{'org': '79300', 'des': [{'org': '04307', 'des': [{}]}]}]}]}]}]}]}]}]}]}]"
   ]
  },
  {
   "cell_type": "code",
   "execution_count": null,
   "outputs": [],
   "source": [
    "id_ = 2\n",
    "name = \"Corredor Norte-Noroeste\"\n",
    "tree = [{}]"
   ],
   "metadata": {
    "collapsed": false
   }
  },
  {
   "cell_type": "code",
   "execution_count": null,
   "outputs": [],
   "source": [
    "id_ = 3\n",
    "name = \"Corredor Sur\"\n",
    "tree = [{}]"
   ],
   "metadata": {
    "collapsed": false
   }
  },
  {
   "cell_type": "code",
   "execution_count": null,
   "outputs": [],
   "source": [
    "id_ = 4\n",
    "name = \"Corredor Levante-Mediterráneo\"\n",
    "tree = [{}]"
   ],
   "metadata": {
    "collapsed": false
   }
  }
 ],
 "metadata": {
  "kernelspec": {
   "display_name": "Python 3",
   "language": "python",
   "name": "python3"
  },
  "language_info": {
   "codemirror_mode": {
    "name": "ipython",
    "version": 2
   },
   "file_extension": ".py",
   "mimetype": "text/x-python",
   "name": "python",
   "nbconvert_exporter": "python",
   "pygments_lexer": "ipython2",
   "version": "2.7.6"
  }
 },
 "nbformat": 4,
 "nbformat_minor": 0
}
